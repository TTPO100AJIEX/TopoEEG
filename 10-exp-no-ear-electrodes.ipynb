{
  "cells": [
    {
      "cell_type": "code",
      "execution_count": 44,
      "metadata": {},
      "outputs": [],
      "source": [
        "import os\n",
        "\n",
        "subj = \"Subj3\"\n",
        "exp = \"exp_no_ear_electrodes\"\n",
        "print_obj = 29\n",
        "os.makedirs(f\"{subj}/{exp}\", exist_ok = True)"
      ]
    },
    {
      "cell_type": "markdown",
      "metadata": {},
      "source": [
        "### Imports"
      ]
    },
    {
      "cell_type": "code",
      "execution_count": 45,
      "metadata": {},
      "outputs": [
        {
          "name": "stdout",
          "output_type": "stream",
          "text": [
            "The autoreload extension is already loaded. To reload it, use:\n",
            "  %reload_ext autoreload\n"
          ]
        }
      ],
      "source": [
        "%load_ext autoreload\n",
        "%autoreload 2\n",
        "\n",
        "import warnings\n",
        "import collections\n",
        "warnings.filterwarnings(\"ignore\")\n",
        "\n",
        "import mne\n",
        "import tqdm\n",
        "import scipy\n",
        "import numpy\n",
        "import pandas\n",
        "import scipy.stats\n",
        "import gtda.curves\n",
        "import tqdm.contrib\n",
        "import gtda.plotting\n",
        "import gtda.homology\n",
        "import gtda.diagrams\n",
        "import gtda.time_series\n",
        "import sklearn.preprocessing\n",
        "import sklearn.decomposition\n",
        "import tqdm.contrib.itertools\n",
        "pandas.options.display.float_format = '{:,.2f}'.format"
      ]
    },
    {
      "cell_type": "code",
      "execution_count": 46,
      "metadata": {},
      "outputs": [],
      "source": [
        "FILTERING_PERCENTILE = 10\n",
        "\n",
        "CHANNEL_STRIDE = 3\n",
        "CHANNEL_MAX_TIME_DELAY = 20\n",
        "CHANNEL_MAX_DIMENSION = 20\n",
        "CHANNEL_HOMOLOGY_DIMENSIONS = [ 1, 2 ]\n",
        "CHANNEL_READ_EMBEDDER_PARAMS_FROM_DISK = False\n",
        "\n",
        "DISSIM_DIMENSION = 50\n",
        "DISSIM_TIME_DELAY = 1\n",
        "DISSIM_STRIDE = 20\n",
        "DISSIM_HOMOLOGY_DIMENSIONS = [ 1, 2, 3, 4, 5 ]\n",
        "\n",
        "OVERALL_DIMENSION = 5\n",
        "OVERALL_TIME_DELAY = 11\n",
        "OVERALL_STRIDE = 3\n",
        "OVERALL_HOMOLOGY_DIMENSIONS = [ 1, 2, 3 ]\n",
        "\n",
        "SILHOUETTE_POWERS = [ 1, 2 ]\n",
        "AMPLITUDE_METRICS = [\n",
        "    { \"id\": \"bottleneck\", \"metric\": \"bottleneck\", \"metric_params\": { } },\n",
        "\n",
        "    { \"id\": \"wasserstein-1\", \"metric\": \"wasserstein\", \"metric_params\": { \"p\": 1 } },\n",
        "    { \"id\": \"wasserstein-2\", \"metric\": \"wasserstein\", \"metric_params\": { \"p\": 2 } },\n",
        "\n",
        "    { \"id\": \"betti-1\", \"metric\": \"betti\", \"metric_params\": { \"p\": 1, 'n_bins': -1 } },\n",
        "    { \"id\": \"betti-2\", \"metric\": \"betti\", \"metric_params\": { \"p\": 2, 'n_bins': -1 } },\n",
        "    \n",
        "    { \"id\": \"landscape-1-1\", \"metric\": \"landscape\", \"metric_params\": { \"p\": 1, \"n_layers\": 1, 'n_bins': -1 } },\n",
        "    { \"id\": \"landscape-1-2\", \"metric\": \"landscape\", \"metric_params\": { \"p\": 1, \"n_layers\": 2, 'n_bins': -1 } },\n",
        "    { \"id\": \"landscape-2-1\", \"metric\": \"landscape\", \"metric_params\": { \"p\": 2, \"n_layers\": 1, 'n_bins': -1 } },\n",
        "    { \"id\": \"landscape-2-2\", \"metric\": \"landscape\", \"metric_params\": { \"p\": 2, \"n_layers\": 2, 'n_bins': -1 } },\n",
        "\n",
        "    { \"id\": \"silhouette-1-1\", \"metric\": \"silhouette\", \"metric_params\": { \"p\": 1, \"power\": 1, 'n_bins': -1 } },\n",
        "    { \"id\": \"silhouette-1-2\", \"metric\": \"silhouette\", \"metric_params\": { \"p\": 1, \"power\": 2, 'n_bins': -1 } },\n",
        "    { \"id\": \"silhouette-2-1\", \"metric\": \"silhouette\", \"metric_params\": { \"p\": 2, \"power\": 1, 'n_bins': -1 } },\n",
        "    { \"id\": \"silhouette-2-2\", \"metric\": \"silhouette\", \"metric_params\": { \"p\": 2, \"power\": 2, 'n_bins': -1 } }\n",
        "]"
      ]
    },
    {
      "cell_type": "code",
      "execution_count": 47,
      "metadata": {},
      "outputs": [],
      "source": [
        "class FeatureCalculator:\n",
        "    def determine_filtering_epsilon(self, diagram):\n",
        "        life = (diagram[:, :, 1] - diagram[:, :, 0]).flatten()\n",
        "        life = life[life != 0]\n",
        "        return numpy.percentile(life, FILTERING_PERCENTILE)\n",
        "    \n",
        "    def apply_filtering(self, diagrams):\n",
        "        eps = self.determine_filtering_epsilon(diagrams)\n",
        "        self.filtering = gtda.diagrams.Filtering(epsilon = eps)\n",
        "        return self.filtering.fit_transform(diagrams)\n",
        "    \n",
        "\n",
        "    def calc_bins(self, diagrams: numpy.ndarray):\n",
        "        return 100\n",
        "\n",
        "\n",
        "    def calc_stats(self, data: numpy.ndarray, prefix: str = \"\") -> pandas.DataFrame:\n",
        "        assert len(data.shape) == 1\n",
        "        if data.shape == (0,): data = numpy.array([ 0 ])\n",
        "        stats = numpy.array([\n",
        "            numpy.max(data), numpy.mean(data), numpy.std(data), numpy.sum(data),\n",
        "            numpy.percentile(data, 25), numpy.median(data), numpy.percentile(data, 75),\n",
        "            scipy.stats.kurtosis(data), scipy.stats.skew(data), numpy.linalg.norm(data, ord = 1), numpy.linalg.norm(data, ord = 2)\n",
        "        ])\n",
        "        names = [ \"max\", \"mean\", \"std\", \"sum\", \"percentile-25\", \"median\", \"percentile-75\", \"kurtosis\", \"skew\", \"norm-1\", \"norm-2\" ]\n",
        "        return pandas.DataFrame([ numpy.nan_to_num(stats) ], columns = [ f\"{prefix} {name}\" for name in names ])\n",
        "\n",
        "    def calc_batch_stats(self, data: numpy.ndarray, homology_dimensions: numpy.ndarray, prefix: str = \"\"):\n",
        "        features = [ ]\n",
        "        for batch in tqdm.tqdm(data, desc = prefix):\n",
        "            features.append([ ])\n",
        "            for dim, vec in zip(homology_dimensions, batch):\n",
        "                features[-1].append(self.calc_stats(vec, prefix = f'{prefix} dim-{dim}'))\n",
        "            features[-1] = pandas.concat(features[-1], axis = 1)\n",
        "        return pandas.concat(features, axis = 0)\n",
        "\n",
        "\n",
        "    def calc_betti_features(self, diagrams: numpy.ndarray, prefix: str = \"\") -> pandas.DataFrame:\n",
        "        self.betti_curve = gtda.diagrams.BettiCurve(n_bins = self.calc_bins(diagrams))\n",
        "        self.betti_derivative = gtda.curves.Derivative()\n",
        "        betti_curves = self.betti_curve.fit_transform(diagrams)\n",
        "        betti_curves = self.betti_derivative.fit_transform(betti_curves)\n",
        "        return self.calc_batch_stats(betti_curves, self.betti_curve.homology_dimensions_, f'{prefix} betti')\n",
        "\n",
        "    def calc_landscape_features(self, diagrams: numpy.ndarray, prefix: str = \"\") -> pandas.DataFrame:\n",
        "        self.persistence_landscape = gtda.diagrams.PersistenceLandscape(n_layers = 1, n_bins = self.calc_bins(diagrams))\n",
        "        persistence_landscape = self.persistence_landscape.fit_transform(diagrams)\n",
        "        return self.calc_batch_stats(persistence_landscape, self.persistence_landscape.homology_dimensions_, f'{prefix} landscape')\n",
        "\n",
        "    def calc_silhouette_features(self, diagrams: numpy.ndarray, prefix: str = \"\", powers: int = SILHOUETTE_POWERS) -> pandas.DataFrame:\n",
        "        if isinstance(powers, int):\n",
        "            silhouette = gtda.diagrams.Silhouette(power = powers, n_bins = self.calc_bins(diagrams))\n",
        "            self.silhouettes.append(silhouette)\n",
        "            silhouettes = silhouette.fit_transform(diagrams)\n",
        "            return self.calc_batch_stats(silhouettes, silhouette.homology_dimensions_, f'{prefix} silhouette-{powers}')\n",
        "        else:\n",
        "            features = [ ]\n",
        "            self.silhouettes = [ ]\n",
        "            for power in powers:\n",
        "                features.append(self.calc_silhouette_features(diagrams, prefix, power))\n",
        "            return pandas.concat(features, axis = 1)\n",
        "    \n",
        "\n",
        "    def calc_entropy_features(self, diagrams: numpy.ndarray, prefix: str = \"\") -> pandas.DataFrame:\n",
        "        self.entropy = gtda.diagrams.PersistenceEntropy(normalize = True, nan_fill_value = 0)\n",
        "        features = self.entropy.fit_transform(diagrams)\n",
        "        names = [ f'{prefix} entropy dim-{dim}' for dim in self.entropy.homology_dimensions_ ]\n",
        "        return pandas.DataFrame(features, columns = names)\n",
        "    \n",
        "    def calc_number_of_points_features(self, diagrams: numpy.ndarray, prefix: str = \"\") -> pandas.DataFrame:\n",
        "        self.number_of_points = gtda.diagrams.NumberOfPoints()\n",
        "        features = self.number_of_points.fit_transform(diagrams)\n",
        "        names = [ f'{prefix} numberofpoints dim-{dim}' for dim in self.number_of_points.homology_dimensions_ ]\n",
        "        return pandas.DataFrame(features, columns = names)\n",
        "    \n",
        "    def calc_amplitude_features(self, diagrams: numpy.ndarray, prefix: str = \"\", **metric) -> pandas.DataFrame:\n",
        "        if len(metric) == 0:\n",
        "            features = [ ]\n",
        "            self.amplitudes = [ ]\n",
        "            for metric in tqdm.tqdm(AMPLITUDE_METRICS, desc = f'{prefix} amplitudes'):\n",
        "                features.append(self.calc_amplitude_features(diagrams, prefix, **metric))\n",
        "            return pandas.concat(features, axis = 1)\n",
        "        else:\n",
        "            metric_params = metric['metric_params'].copy()\n",
        "            if metric_params.get('n_bins', None) == -1:\n",
        "                metric_params['n_bins'] = self.calc_bins(diagrams)\n",
        "            amplitude = gtda.diagrams.Amplitude(metric = metric['metric'], metric_params = metric_params)\n",
        "            self.amplitudes.append(amplitude)\n",
        "            features = amplitude.fit_transform(diagrams)\n",
        "            return pandas.concat([\n",
        "                pandas.DataFrame(features, columns = [ f'{prefix} amplitude-{metric[\"id\"]} dim-{dim}' for dim in amplitude.homology_dimensions_ ]),\n",
        "                pandas.DataFrame(numpy.linalg.norm(features, axis = 1, ord = 1).reshape(-1, 1), columns = [ f'{prefix} amplitude-{metric[\"id\"]} norm-1' ]),\n",
        "                pandas.DataFrame(numpy.linalg.norm(features, axis = 1, ord = 2).reshape(-1, 1), columns = [ f'{prefix} amplitude-{metric[\"id\"]} norm-2' ])\n",
        "            ], axis = 1)\n",
        "    \n",
        "    def calc_lifetime_features(self, diagrams: numpy.ndarray, prefix: str = \"\") -> pandas.DataFrame:\n",
        "        if len(diagrams.shape) == 3:\n",
        "            features = [ ]\n",
        "            for diag in tqdm.tqdm(diagrams, desc = f'{prefix} lifetime'):\n",
        "                features.append(self.calc_lifetime_features(diag, prefix))\n",
        "            return pandas.concat(features, axis = 0)\n",
        "\n",
        "        birth, death, dim = diagrams[:, 0], diagrams[:, 1], diagrams[:, 2]\n",
        "        life = death - birth\n",
        "        \n",
        "        eps = self.filtering.epsilon\n",
        "        birth, death, dim = birth[life >= eps], death[life >= eps], dim[life >= eps]\n",
        "        bd2 = (birth + death) / 2.0\n",
        "        life = death - birth\n",
        "\n",
        "        bd2_features = [ self.calc_stats(bd2, f'{prefix} bd2 all') ]\n",
        "        life_features = [ self.calc_stats(life, f'{prefix} life all') ]\n",
        "        for d in numpy.unique(diagrams[:, 2]).astype(int):\n",
        "            bd2_features.append(self.calc_stats(bd2[dim == d], f'{prefix} bd2 dim-{d}'))\n",
        "            life_features.append(self.calc_stats(life[dim == d], f'{prefix} life dim-{d}'))\n",
        "        return pandas.concat([ *life_features, *bd2_features ], axis = 1)\n",
        "        \n",
        "\n",
        "    def calc_features(self, diagrams: numpy.ndarray, prefix: str = \"\") -> pandas.DataFrame:\n",
        "        diagrams = self.apply_filtering(diagrams)\n",
        "        print('Filtered diagrams:', diagrams.shape)\n",
        "        print('N bins:', self.calc_bins(diagrams))\n",
        "        return pandas.concat([\n",
        "           self.calc_betti_features           (diagrams, prefix).reset_index(drop = True),\n",
        "           self.calc_landscape_features       (diagrams, prefix).reset_index(drop = True),\n",
        "           self.calc_silhouette_features      (diagrams, prefix).reset_index(drop = True),\n",
        "           self.calc_entropy_features         (diagrams, prefix).reset_index(drop = True),\n",
        "           self.calc_number_of_points_features(diagrams, prefix).reset_index(drop = True),\n",
        "           self.calc_amplitude_features       (diagrams, prefix).reset_index(drop = True),\n",
        "           self.calc_lifetime_features        (diagrams, prefix).reset_index(drop = True)\n",
        "        ], axis = 1)\n",
        "\n",
        "\n",
        "    def pca(self, features: numpy.ndarray, scale = False, n_comp = 0.7, var_limit = None, random_state = 42) -> numpy.ndarray:\n",
        "        if scale:\n",
        "            features = sklearn.preprocessing.StandardScaler().fit_transform(features)\n",
        "\n",
        "        if var_limit is not None:\n",
        "            pca = sklearn.decomposition.PCA(svd_solver = \"full\", random_state = random_state).fit(features)\n",
        "            n_comp = (pca.explained_variance_ratio_ >= var_limit).sum()\n",
        "\n",
        "        pca = sklearn.decomposition.PCA(n_components = n_comp, svd_solver = \"full\", random_state = random_state)\n",
        "        features = pca.fit_transform(features)\n",
        "\n",
        "        log = (\n",
        "            f'Components: {n_comp}\\n'\n",
        "            f'Explained variance: {round(pca.explained_variance_ratio_.sum(), 2)}\\n'\n",
        "            f'{[ round(x, 3) for x in pca.explained_variance_ratio_ ]}'\n",
        "        )\n",
        "        print(log)\n",
        "        return features, log"
      ]
    },
    {
      "cell_type": "markdown",
      "metadata": {},
      "source": [
        "### Data"
      ]
    },
    {
      "cell_type": "code",
      "execution_count": 48,
      "metadata": {},
      "outputs": [
        {
          "name": "stdout",
          "output_type": "stream",
          "text": [
            "Reading d:\\HSE\\year-3\\HSE\\CourseProject\\Subj3\\src\\epochs_filt_rr-epo.fif ...\n",
            "    Found the data of interest:\n",
            "        t =    -500.00 ...     500.00 ms\n",
            "        0 CTF compensation matrices available\n",
            "Not setting metadata\n",
            "1180 matching events found\n",
            "No baseline correction applied\n",
            "0 projection items activated\n",
            "No projector specified for this dataset. Please consider the method self.add_proj.\n"
          ]
        },
        {
          "data": {
            "image/png": "[encoded data removed]",
            "text/plain": [
              "<Figure size 800x420 with 6 Axes>"
            ]
          },
          "metadata": {},
          "output_type": "display_data"
        }
      ],
      "source": [
        "epochs = mne.read_epochs(f\"{subj}/src/epochs_filt_rr-epo.fif\").drop_channels(ch_names = [ \"A1\", \"A2\" ])\n",
        "epochs.average().plot_joint().savefig(f\"{subj}/{exp}/eeg.svg\")\n",
        "data = epochs.get_data(copy = True)"
      ]
    },
    {
      "cell_type": "markdown",
      "metadata": {},
      "source": [
        "### Per-channel features"
      ]
    },
    {
      "cell_type": "markdown",
      "metadata": {},
      "source": [
        "#### TakensEmbedding"
      ]
    },
    {
      "cell_type": "code",
      "execution_count": 49,
      "metadata": {},
      "outputs": [
        {
          "data": {
            "application/vnd.jupyter.widget-view+json": {
              "model_id": "a5b1cbd0aaad4beb85a4b7c65a1e7acd",
              "version_major": 2,
              "version_minor": 0
            },
            "text/plain": [
              "  0%|          | 0/44840 [00:00<?, ?it/s]"
            ]
          },
          "metadata": {},
          "output_type": "display_data"
        },
        {
          "name": "stdout",
          "output_type": "stream",
          "text": [
            "38\n",
            "1180\n"
          ]
        }
      ],
      "source": [
        "if CHANNEL_READ_EMBEDDER_PARAMS_FROM_DISK:\n",
        "    channel_embedders_params = [ ]\n",
        "    for params_data in numpy.load(f\"{subj}/{exp}/channel_embedders_params.npy\"):\n",
        "        channel_embedders_params.append(list(map(tuple, params_data)))\n",
        "else:\n",
        "    channel_searcher = gtda.time_series.SingleTakensEmbedding(\n",
        "        parameters_type = 'search',\n",
        "        time_delay = CHANNEL_MAX_TIME_DELAY,\n",
        "        dimension = CHANNEL_MAX_DIMENSION,\n",
        "        stride = CHANNEL_STRIDE,\n",
        "        n_jobs = -1\n",
        "    )\n",
        "    channel_embedders_params = [ [ ] for _ in range(data.shape[1]) ]\n",
        "    for i, j in tqdm.contrib.itertools.product(range(data.shape[0]), range(data.shape[1])):\n",
        "        channel_searcher.fit(data[i, j, :])\n",
        "        channel_embedders_params[j].append((channel_searcher.dimension_, channel_searcher.time_delay_))\n",
        "    numpy.save(f\"{subj}/{exp}/channel_embedders_params.npy\", channel_embedders_params)\n",
        "\n",
        "print(len(channel_embedders_params))\n",
        "print(len(channel_embedders_params[0]))"
      ]
    },
    {
      "cell_type": "code",
      "execution_count": 50,
      "metadata": {},
      "outputs": [
        {
          "name": "stdout",
          "output_type": "stream",
          "text": [
            "[SingleTakensEmbedding(n_jobs=-1, parameters_type='fixed', stride=3,\n",
            "                      time_delay=4), SingleTakensEmbedding(n_jobs=-1, parameters_type='fixed', stride=3,\n",
            "                      time_delay=4), SingleTakensEmbedding(n_jobs=-1, parameters_type='fixed', stride=3,\n",
            "                      time_delay=4), SingleTakensEmbedding(n_jobs=-1, parameters_type='fixed', stride=3,\n",
            "                      time_delay=4), SingleTakensEmbedding(n_jobs=-1, parameters_type='fixed', stride=3,\n",
            "                      time_delay=4), SingleTakensEmbedding(n_jobs=-1, parameters_type='fixed', stride=3,\n",
            "                      time_delay=4), SingleTakensEmbedding(n_jobs=-1, parameters_type='fixed', stride=3,\n",
            "                      time_delay=4), SingleTakensEmbedding(dimension=4, n_jobs=-1, parameters_type='fixed', stride=3,\n",
            "                      time_delay=5), SingleTakensEmbedding(n_jobs=-1, parameters_type='fixed', stride=3,\n",
            "                      time_delay=6), SingleTakensEmbedding(n_jobs=-1, parameters_type='fixed', stride=3,\n",
            "                      time_delay=4), SingleTakensEmbedding(n_jobs=-1, parameters_type='fixed', stride=3,\n",
            "                      time_delay=5), SingleTakensEmbedding(n_jobs=-1, parameters_type='fixed', stride=3,\n",
            "                      time_delay=4), SingleTakensEmbedding(n_jobs=-1, parameters_type='fixed', stride=3,\n",
            "                      time_delay=6), SingleTakensEmbedding(dimension=4, n_jobs=-1, parameters_type='fixed', stride=3,\n",
            "                      time_delay=5), SingleTakensEmbedding(n_jobs=-1, parameters_type='fixed', stride=3,\n",
            "                      time_delay=5), SingleTakensEmbedding(n_jobs=-1, parameters_type='fixed', stride=3,\n",
            "                      time_delay=7), SingleTakensEmbedding(n_jobs=-1, parameters_type='fixed', stride=3,\n",
            "                      time_delay=5), SingleTakensEmbedding(dimension=4, n_jobs=-1, parameters_type='fixed', stride=3,\n",
            "                      time_delay=5), SingleTakensEmbedding(dimension=4, n_jobs=-1, parameters_type='fixed', stride=3,\n",
            "                      time_delay=5), SingleTakensEmbedding(n_jobs=-1, parameters_type='fixed', stride=3,\n",
            "                      time_delay=5), SingleTakensEmbedding(n_jobs=-1, parameters_type='fixed', stride=3,\n",
            "                      time_delay=6), SingleTakensEmbedding(dimension=4, n_jobs=-1, parameters_type='fixed', stride=3,\n",
            "                      time_delay=8), SingleTakensEmbedding(n_jobs=-1, parameters_type='fixed', stride=3,\n",
            "                      time_delay=4), SingleTakensEmbedding(n_jobs=-1, parameters_type='fixed', stride=3,\n",
            "                      time_delay=5), SingleTakensEmbedding(n_jobs=-1, parameters_type='fixed', stride=3,\n",
            "                      time_delay=6), SingleTakensEmbedding(n_jobs=-1, parameters_type='fixed', stride=3,\n",
            "                      time_delay=9), SingleTakensEmbedding(n_jobs=-1, parameters_type='fixed', stride=3,\n",
            "                      time_delay=8), SingleTakensEmbedding(n_jobs=-1, parameters_type='fixed', stride=3,\n",
            "                      time_delay=5), SingleTakensEmbedding(n_jobs=-1, parameters_type='fixed', stride=3,\n",
            "                      time_delay=5), SingleTakensEmbedding(n_jobs=-1, parameters_type='fixed', stride=3,\n",
            "                      time_delay=11), SingleTakensEmbedding(n_jobs=-1, parameters_type='fixed', stride=3,\n",
            "                      time_delay=10), SingleTakensEmbedding(n_jobs=-1, parameters_type='fixed', stride=3,\n",
            "                      time_delay=10), SingleTakensEmbedding(n_jobs=-1, parameters_type='fixed', stride=3,\n",
            "                      time_delay=10), SingleTakensEmbedding(n_jobs=-1, parameters_type='fixed', stride=3,\n",
            "                      time_delay=6), SingleTakensEmbedding(n_jobs=-1, parameters_type='fixed', stride=3,\n",
            "                      time_delay=7), SingleTakensEmbedding(n_jobs=-1, parameters_type='fixed', stride=3,\n",
            "                      time_delay=5), SingleTakensEmbedding(n_jobs=-1, parameters_type='fixed', stride=3,\n",
            "                      time_delay=7), SingleTakensEmbedding(n_jobs=-1, parameters_type='fixed', stride=3,\n",
            "                      time_delay=5)]\n",
            "38\n"
          ]
        }
      ],
      "source": [
        "channel_embedders = [ ]\n",
        "for i in range(len(channel_embedders_params)):\n",
        "    (dimension, time_delay), _ = collections.Counter(channel_embedders_params[i]).most_common(1)[0]\n",
        "    attractor = gtda.time_series.SingleTakensEmbedding(\n",
        "        parameters_type = 'fixed',\n",
        "        time_delay = int(time_delay),\n",
        "        dimension = int(dimension),\n",
        "        stride = CHANNEL_STRIDE,\n",
        "        n_jobs = -1\n",
        "    )\n",
        "    channel_embedders.append(attractor)\n",
        "    \n",
        "print(channel_embedders)\n",
        "print(len(channel_embedders))"
      ]
    },
    {
      "cell_type": "code",
      "execution_count": 51,
      "metadata": {},
      "outputs": [
        {
          "data": {
            "application/vnd.jupyter.widget-view+json": {
              "model_id": "b86362f166304531bade85dc817c531c",
              "version_major": 2,
              "version_minor": 0
            },
            "text/plain": [
              "  0%|          | 0/44840 [00:00<?, ?it/s]"
            ]
          },
          "metadata": {},
          "output_type": "display_data"
        },
        {
          "name": "stdout",
          "output_type": "stream",
          "text": [
            "44840\n",
            "(162, 5) (162, 5)\n",
            "(162, 5) (162, 5)\n"
          ]
        }
      ],
      "source": [
        "channel_point_clouds = [ ]\n",
        "for i, j in tqdm.contrib.itertools.product(range(data.shape[0]), range(data.shape[1])):\n",
        "    channel_point_clouds.append(channel_embedders[j].fit_transform(data[i, j, :]))\n",
        "\n",
        "print(len(channel_point_clouds))\n",
        "print(channel_point_clouds[0].shape, channel_point_clouds[1].shape)\n",
        "print(channel_point_clouds[40].shape, channel_point_clouds[41].shape)"
      ]
    },
    {
      "cell_type": "code",
      "execution_count": 52,
      "metadata": {},
      "outputs": [
        {
          "data": {
            "application/vnd.plotly.v1+json": {
              "config": {
                "plotlyServerURL": "https://plot.ly"
              },
              "data": [
                {
                  "marker": {
                    "color": [
                      0,
                      1,
                      2,
                      3,
                      4,
                      5,
                      6,
                      7,
                      8,
                      9,
                      10,
                      11,
                      12,
                      13,
                      14,
                      15,
                      16,
                      17,
                      18,
                      19,
                      20,
                      21,
                      22,
                      23,
                      24,
                      25,
                      26,
                      27,
                      28,
                      29,
                      30,
                      31,
                      32,
                      33,
                      34,
                      35,
                      36,
                      37,
                      38,
                      39,
                      40,
                      41,
                      42,
                      43,
                      44,
                      45,
                      46,
                      47,
                      48,
                      49,
                      50,
                      51,
                      52,
                      53,
                      54,
                      55,
                      56,
                      57,
                      58,
                      59,
                      60,
                      61,
                      62,
                      63,
                      64,
                      65,
                      66,
                      67,
                      68,
                      69,
                      70,
                      71,
                      72,
                      73,
                      74,
                      75,
                      76,
                      77,
                      78,
                      79,
                      80,
                      81,
                      82,
                      83,
                      84,
                      85,
                      86,
                      87,
                      88,
                      89,
                      90,
                      91,
                      92,
                      93,
                      94,
                      95,
                      96,
                      97,
                      98,
                      99,
                      100,
                      101,
                      102,
                      103,
                      104,
                      105,
                      106,
                      107,
                      108,
                      109,
                      110,
                      111,
                      112,
                      113,
                      114,
                      115,
                      116,
                      117,
                      118,
                      119,
                      120,
                      121,
                      122,
                      123,
                      124,
                      125,
                      126,
                      127,
                      128,
                      129,
                      130,
                      131,
                      132,
                      133,
                      134,
                      135,
                      136,
                      137,
                      138,
                      139,
                      140,
                      141,
                      142,
                      143,
                      144,
                      145,
                      146,
                      147,
                      148,
                      149,
                      150,
                      151,
                      152
                    ],
                    "colorscale": [
                      [
                        0,
                        "#440154"
                      ],
                      [
                        0.1111111111111111,
                        "#482878"
                      ],
                      [
                        0.2222222222222222,
                        "#3e4989"
                      ],
                      [
                        0.3333333333333333,
                        "#31688e"
                      ],
                      [
                        0.4444444444444444,
                        "#26828e"
                      ],
                      [
                        0.5555555555555556,
                        "#1f9e89"
                      ],
                      [
                        0.6666666666666666,
                        "#35b779"
                      ],
                      [
                        0.7777777777777778,
                        "#6ece58"
                      ],
                      [
                        0.8888888888888888,
                        "#b5de2b"
                      ],
                      [
                        1,
                        "#fde725"
                      ]
                    ],
                    "opacity": 0.8,
                    "size": 4
                  },
                  "mode": "markers",
                  "type": "scatter3d",
                  "x": [
                    0.000010739431672845967,
                    0.000009144099749391899,
                    0.000007096983154042391,
                    0.0000050716039368126076,
                    0.0000023232501007441897,
                    -0.0000012220273220009403,
                    -0.0000048214683374681044,
                    -0.00000791589445725549,
                    -0.000009993450476031285,
                    -0.000010222387572866865,
                    -0.000008274554602394346,
                    -0.000004902244654658716,
                    -0.0000011748127235478023,
                    0.0000021798293801111868,
                    0.000004430391072673956,
                    0.000005227992915024515,
                    0.000005791248895548051,
                    0.000007700375135755166,
                    0.000009993151252274401,
                    0.00000998929317574948,
                    0.000007433843620674452,
                    0.0000043278087105136365,
                    4.451376867109502e-7,
                    -0.000006172564553708071,
                    -0.000013746137483394705,
                    -0.00001721075750538148,
                    -0.000014997609468991868,
                    -0.000010346348062739708,
                    -0.000005850459274370223,
                    -0.0000016859376046340913,
                    0.0000015915674111965927,
                    0.000003273748689025524,
                    0.000004150258064328227,
                    0.000004461677235667594,
                    0.00000285924807030824,
                    -8.744569157670412e-8,
                    -0.0000013806486549583497,
                    -8.863629545885487e-7,
                    -0.000002397245452812058,
                    -0.000007262820417963667,
                    -0.000011633053873083554,
                    -0.000011947450730076525,
                    -0.00000895483753993176,
                    -0.000004900822659692494,
                    -5.687714406121813e-7,
                    0.000003570721673895605,
                    0.000006158698397484841,
                    0.0000063100164879870135,
                    0.0000046164118430169765,
                    0.000002175727559006191,
                    -4.393673123104236e-7,
                    -0.00000287770785689645,
                    -0.000004441142664290965,
                    -0.00000466162873635767,
                    -0.00000450613606517436,
                    -0.000005813195457449183,
                    -0.000008329572665388696,
                    -0.000008482836165057961,
                    -0.000003480640089037479,
                    0.000004120722223888151,
                    0.000009060630873136688,
                    0.000009849488378677052,
                    0.00000905027991393581,
                    0.000008149047971528489,
                    0.000006543182735185837,
                    0.000004555140549200587,
                    0.0000026576703930913936,
                    -9.512996257399209e-7,
                    -0.000007204267603810877,
                    -0.00001241377140104305,
                    -0.00001235960462508956,
                    -0.000007684989213885274,
                    -0.0000013988289992994396,
                    0.000005189319836063078,
                    0.000010496058166609146,
                    0.00001162006265076343,
                    0.000008865686140779871,
                    0.000006450935416069115,
                    0.000006270855919865426,
                    0.000006222461252036737,
                    0.000005665015123668127,
                    0.000005961402621323941,
                    0.000005057482212578179,
                    -9.125516271524248e-7,
                    -0.000009409797712578438,
                    -0.00001236786920344457,
                    -0.0000070242967922240496,
                    5.303407988321851e-7,
                    0.000004355075361672789,
                    0.000005490857802215032,
                    0.000007686539902351797,
                    0.000010903930160566233,
                    0.000012122828593419399,
                    0.0000103767133623478,
                    0.000008114109732559882,
                    0.000007302845915546641,
                    0.000005997512744215783,
                    9.744636599862133e-7,
                    -0.000006457441486418247,
                    -0.000010535417459323071,
                    -0.00000814764280221425,
                    -0.0000023889049316494493,
                    0.000002512124410714023,
                    0.000005730349130317336,
                    0.0000073646010605443735,
                    0.000006189418854773976,
                    0.000002688417680474231,
                    2.873323410312878e-7,
                    0.0000010622901527312933,
                    0.000003391062818991486,
                    0.0000051414167501206975,
                    0.00000566791004530387,
                    0.000004073460331710521,
                    -6.361813120747684e-7,
                    -0.000006669174126727739,
                    -0.000009780373147805221,
                    -0.00000793630078987917,
                    -0.000003870050932164304,
                    -0.0000014643848089690437,
                    -6.562891030625906e-7,
                    0.0000016026390312617877,
                    0.000005304399564920459,
                    0.000006170701453811489,
                    0.0000023484060420742026,
                    -0.0000021056869172753068,
                    -0.0000035754640066443244,
                    -0.000004271666512067895,
                    -0.000007257825927808881,
                    -0.00001048545709636528,
                    -0.000010343987014493905,
                    -0.0000072850352808018215,
                    -0.0000036387132240633946,
                    6.753224965905247e-7,
                    0.000005986996711726533,
                    0.000009391490493726451,
                    0.000008031229299376719,
                    0.000004261986759956926,
                    0.0000034314491585973883,
                    0.000006832965482317377,
                    0.00001024330504151294,
                    0.000009615197996026836,
                    0.000005137763309903676,
                    -8.186425475287251e-7,
                    -0.000006435219347622478,
                    -0.000009979355127143208,
                    -0.00000986839677352691,
                    -0.0000068517842919391114,
                    -0.0000037277154660841916,
                    -0.0000016483177205373067,
                    8.470898364976165e-7,
                    0.000004290345259505557,
                    0.000006603868769161636,
                    0.000006258787834667601
                  ],
                  "y": [
                    0.0000033508538308524294,
                    5.872913710902594e-9,
                    -0.0000036585361158358864,
                    -0.0000069642655944335274,
                    -0.000009463832611800171,
                    -0.00001039444759953767,
                    -0.000009137545021076221,
                    -0.000006112476967246039,
                    -0.0000024065607249212917,
                    0.0000011441879905760288,
                    0.000003848730102617992,
                    0.000005083286851004232,
                    0.000005503186912392266,
                    0.000006904407200636342,
                    0.000009364007382828277,
                    0.000010342767382098828,
                    0.000008440762940153945,
                    0.000005359563147067092,
                    0.0000019734322904696455,
                    -0.000003655042519312701,
                    -0.000011433473446231801,
                    -0.000016741172657930292,
                    -0.00001621101728233043,
                    -0.000011940482181671541,
                    -0.000007302227459149435,
                    -0.000003030219886568375,
                    6.691930707347638e-7,
                    0.0000028639713036682224,
                    0.000003886265858454863,
                    0.000004500408067542594,
                    0.0000036507890399661846,
                    8.590492370785796e-7,
                    -0.0000012557480886243866,
                    -0.0000010392819831395173,
                    -0.0000014636755167884985,
                    -0.000005438964763015974,
                    -0.000010534199645917397,
                    -0.0000123246391012799,
                    -0.000010160965757677332,
                    -0.000006291202225838788,
                    -0.0000020341076378826983,
                    0.0000022861429442855297,
                    0.000005553417850023834,
                    0.000006519471753563266,
                    0.0000053116468734515365,
                    0.0000030247188078647014,
                    4.3451854025988723e-7,
                    -0.000002120414364981116,
                    -0.000004066137989866547,
                    -0.000004714060651167529,
                    -0.0000044768385123461485,
                    -0.000005153092843102058,
                    -0.000007532106792496052,
                    -0.000008953868928074371,
                    -0.000005681053153239191,
                    0.000001647451881581219,
                    0.000007923008524812758,
                    0.000009916911949403584,
                    0.000009335496542917099,
                    0.000008491070730087813,
                    0.000007173144240368856,
                    0.000005191996933717746,
                    0.0000033519486350996885,
                    5.843677399752778e-7,
                    -0.000004968833763996372,
                    -0.000011129144695587456,
                    -0.000013029367437411565,
                    -0.000009551341463520657,
                    -0.000003557815944077447,
                    0.0000030103285553195747,
                    0.000009060594493348617,
                    0.000011807585906353779,
                    0.000009975702596420888,
                    0.000006988411769270897,
                    0.000006183617188071366,
                    0.000006345153906295309,
                    0.0000058022101256938186,
                    0.000005788234830106376,
                    0.000005789831902802689,
                    0.000001673649535405275,
                    -0.000006792173735448159,
                    -0.000012383901776047423,
                    -0.000009465165021538269,
                    -0.000001739899175845494,
                    0.0000035661389574670466,
                    0.000005141652309248457,
                    0.0000067344640228839125,
                    0.000009900615623337217,
                    0.000012083406545571052,
                    0.000011178595741512254,
                    0.000008736999916436616,
                    0.000007450870270986343,
                    0.000006730660061293747,
                    0.000003115839035672252,
                    -0.00000404303409595741,
                    -0.000009876505828287918,
                    -0.000009568137102178298,
                    -0.000004364470896689454,
                    0.000001090117393687251,
                    0.0000048073416110128164,
                    0.000007063646535243606,
                    0.0000069413190431077965,
                    0.000003928686055587605,
                    7.541916033915186e-7,
                    4.973912268724234e-7,
                    0.0000026074824290844845,
                    0.000004679262019635644,
                    0.000005659509952238295,
                    0.000004932678621116793,
                    0.0000012486538025768823,
                    -0.0000047665353122283705,
                    -0.000009292994036513846,
                    -0.000009014845090860035,
                    -0.000005186606813367689,
                    -0.0000019789638372458285,
                    -9.38818629947491e-7,
                    5.692999707207491e-7,
                    0.000004142793841310777,
                    0.000006445056897064205,
                    0.000003975775598519249,
                    -8.839069209898298e-7,
                    -0.000003384895080671413,
                    -0.000003854776878142729,
                    -0.0000060278939599811565,
                    -0.000009661232979851775,
                    -0.000010831932740984485,
                    -0.000008456420800939668,
                    -0.000004869041276833741,
                    -9.118408001995704e-7,
                    0.000004223084488330642,
                    0.00000872153032105416,
                    0.000008992049515654799,
                    0.000005436118954094127,
                    0.0000031605643471266376,
                    0.000005424417395261116,
                    0.000009431814760318957,
                    0.000010345934242650401,
                    0.000006911897799000144,
                    0.0000012035501413265592,
                    -0.0000046968148126325104,
                    -0.000009151544873020612,
                    -0.000010332040801586118,
                    -0.00000801240821601823,
                    -0.00000463921105620102,
                    -0.0000022924368749954738,
                    -1.2552418127143028e-7,
                    0.000003133219024675782,
                    0.000006111137281550327,
                    0.00000662995626043994,
                    0.000005242182396614226,
                    0.000004459253432287369,
                    0.0000047122271098487545,
                    0.000003303768835394294
                  ],
                  "z": [
                    -0.000008759376214584336,
                    -0.00001031302053888794,
                    -0.00000979758351604687,
                    -0.000007250935141200898,
                    -0.0000036570454540196806,
                    1.6583728168484413e-8,
                    0.0000030915405204723356,
                    0.000004834204446524382,
                    0.000005340576990420232,
                    0.000006255100743146613,
                    0.000008558684385207016,
                    0.00001034087563311914,
                    0.000009326377039542422,
                    0.000006391667739080731,
                    0.0000032325208394468063,
                    -0.000001426817675564962,
                    -0.000008833445463096723,
                    -0.000015564810382784344,
                    -0.000016999571016640402,
                    -0.000013525396752811503,
                    -0.000008796538168098778,
                    -0.0000044262515075388364,
                    -4.362745187336259e-7,
                    0.0000023173961380962282,
                    0.0000035998311886942247,
                    0.000004372674993646797,
                    0.000004190177151031094,
                    0.0000018886440784626757,
                    -8.204760888474993e-7,
                    -0.0000012629602679226082,
                    -9.818932085181586e-7,
                    -0.0000037589873045362765,
                    -0.000009026436600834131,
                    -0.000012235210306243971,
                    -0.000011191363228135742,
                    -0.000007649260624020826,
                    -0.000003481584144537919,
                    8.866606435731228e-7,
                    0.000004678093318943866,
                    0.000006478225714090513,
                    0.0000058915088629873935,
                    0.000003844544608000433,
                    0.0000013094085034026648,
                    -0.0000012981149666302372,
                    -0.000003536957819960662,
                    -0.000004652983079722617,
                    -0.000004556537987809861,
                    -0.000004717060164693976,
                    -0.000006642488187935669,
                    -0.000008859671652317047,
                    -0.000007384501714113867,
                    -9.631971806811634e-7,
                    0.000006257841960177757,
                    0.00000969559550867416,
                    0.00000962149897532072,
                    0.00000877729689818807,
                    0.000007714214007137343,
                    0.000005866301307833055,
                    0.000003956386080972152,
                    0.0000017678669337328756,
                    -0.000002831317715390469,
                    -0.000009330241482530255,
                    -0.00001306085687247105,
                    -0.000011154835192428436,
                    -0.000005664239779434865,
                    7.977151881277678e-7,
                    0.000007246610948641319,
                    0.00001143463759945007,
                    0.000010958086022583302,
                    0.000007819824531907216,
                    0.000006206256330187898,
                    0.000006352311174850911,
                    0.000006016506176820258,
                    0.000005661899649567204,
                    0.000006027288691257127,
                    0.0000036959197586838854,
                    -0.00000384022860089317,
                    -0.000011357453331584111,
                    -0.000011338278454786632,
                    -0.00000434310777563951,
                    0.0000023126424366637366,
                    0.000004820772119273897,
                    0.00000599987606619834,
                    0.000008781931683188304,
                    0.000011662975339277182,
                    0.000011797643310273997,
                    0.000009521761967334896,
                    0.000007693018233112525,
                    0.000007115439530025469,
                    0.000004805934622709174,
                    -0.0000014818023146290216,
                    -0.00000847234514367301,
                    -0.000010411979019409046,
                    -0.000006344475877995137,
                    -5.47918375559675e-7,
                    0.000003740501369975391,
                    0.0000064972455220413394,
                    0.000007336268026847392,
                    0.0000051461670409480575,
                    0.000001584520646247256,
                    2.1248973780529923e-7,
                    0.0000018014945908362279,
                    0.000004092074505024357,
                    0.000005473002147482475,
                    0.000005446133855002699,
                    0.0000028406518595147645,
                    -0.000002694889644772047,
                    -0.000008226170393754728,
                    -0.000009669398423284292,
                    -0.000006599006610485958,
                    -0.0000027786718419520184,
                    -0.0000011595253681662143,
                    -1.8093693654464005e-7,
                    0.0000028436388674890622,
                    0.000006126575499365572,
                    0.00000531182831764454,
                    6.557035021614865e-7,
                    -0.0000029319842269615037,
                    -0.0000036718488445330877,
                    -0.000004999947122996673,
                    -0.000008530119885108434,
                    -0.00001088950830308022,
                    -0.000009513428267382551,
                    -0.000006078869319026126,
                    -0.000002338450713068596,
                    0.0000024106498131004628,
                    0.000007541632840002421,
                    0.000009478342690272257,
                    0.000006771146217943169,
                    0.000003455810883679078,
                    0.000004228118541504955,
                    0.000008238275768235326,
                    0.000010562180250417441,
                    0.000008438553777523339,
                    0.000003209444230378722,
                    -0.0000028036802177666686,
                    -0.000007946139703562949,
                    -0.000010378292245150078,
                    -0.00000905946217244491,
                    -0.0000056967505770444404,
                    -0.000002960802703455556,
                    -9.475574529460573e-7,
                    0.000001953838818735676,
                    0.000005316407168720616,
                    0.000006768603270757012,
                    0.000005758038241765462,
                    0.000004546492618828779,
                    0.000004644235559680965,
                    0.000004148429070482962,
                    3.244364847887482e-7,
                    -0.000006116212716733571,
                    -0.000011355502465448808,
                    -0.000012789978427463211
                  ]
                }
              ],
              "layout": {
                "scene": {
                  "xaxis": {
                    "exponentformat": "e",
                    "showexponent": "all",
                    "title": {
                      "text": "0th"
                    },
                    "type": "linear"
                  },
                  "yaxis": {
                    "exponentformat": "e",
                    "showexponent": "all",
                    "title": {
                      "text": "1st"
                    },
                    "type": "linear"
                  },
                  "zaxis": {
                    "exponentformat": "e",
                    "showexponent": "all",
                    "title": {
                      "text": "2nd"
                    },
                    "type": "linear"
                  }
                },
                "template": {
                  "data": {
                    "bar": [
                      {
                        "error_x": {
                          "color": "#2a3f5f"
                        },
                        "error_y": {
                          "color": "#2a3f5f"
                        },
                        "marker": {
                          "line": {
                            "color": "#E5ECF6",
                            "width": 0.5
                          },
                          "pattern": {
                            "fillmode": "overlay",
                            "size": 10,
                            "solidity": 0.2
                          }
                        },
                        "type": "bar"
                      }
                    ],
                    "barpolar": [
                      {
                        "marker": {
                          "line": {
                            "color": "#E5ECF6",
                            "width": 0.5
                          },
                          "pattern": {
                            "fillmode": "overlay",
                            "size": 10,
                            "solidity": 0.2
                          }
                        },
                        "type": "barpolar"
                      }
                    ],
                    "carpet": [
                      {
                        "aaxis": {
                          "endlinecolor": "#2a3f5f",
                          "gridcolor": "white",
                          "linecolor": "white",
                          "minorgridcolor": "white",
                          "startlinecolor": "#2a3f5f"
                        },
                        "baxis": {
                          "endlinecolor": "#2a3f5f",
                          "gridcolor": "white",
                          "linecolor": "white",
                          "minorgridcolor": "white",
                          "startlinecolor": "#2a3f5f"
                        },
                        "type": "carpet"
                      }
                    ],
                    "choropleth": [
                      {
                        "colorbar": {
                          "outlinewidth": 0,
                          "ticks": ""
                        },
                        "type": "choropleth"
                      }
                    ],
                    "contour": [
                      {
                        "colorbar": {
                          "outlinewidth": 0,
                          "ticks": ""
                        },
                        "colorscale": [
                          [
                            0,
                            "#0d0887"
                          ],
                          [
                            0.1111111111111111,
                            "#46039f"
                          ],
                          [
                            0.2222222222222222,
                            "#7201a8"
                          ],
                          [
                            0.3333333333333333,
                            "#9c179e"
                          ],
                          [
                            0.4444444444444444,
                            "#bd3786"
                          ],
                          [
                            0.5555555555555556,
                            "#d8576b"
                          ],
                          [
                            0.6666666666666666,
                            "#ed7953"
                          ],
                          [
                            0.7777777777777778,
                            "#fb9f3a"
                          ],
                          [
                            0.8888888888888888,
                            "#fdca26"
                          ],
                          [
                            1,
                            "#f0f921"
                          ]
                        ],
                        "type": "contour"
                      }
                    ],
                    "contourcarpet": [
                      {
                        "colorbar": {
                          "outlinewidth": 0,
                          "ticks": ""
                        },
                        "type": "contourcarpet"
                      }
                    ],
                    "heatmap": [
                      {
                        "colorbar": {
                          "outlinewidth": 0,
                          "ticks": ""
                        },
                        "colorscale": [
                          [
                            0,
                            "#0d0887"
                          ],
                          [
                            0.1111111111111111,
                            "#46039f"
                          ],
                          [
                            0.2222222222222222,
                            "#7201a8"
                          ],
                          [
                            0.3333333333333333,
                            "#9c179e"
                          ],
                          [
                            0.4444444444444444,
                            "#bd3786"
                          ],
                          [
                            0.5555555555555556,
                            "#d8576b"
                          ],
                          [
                            0.6666666666666666,
                            "#ed7953"
                          ],
                          [
                            0.7777777777777778,
                            "#fb9f3a"
                          ],
                          [
                            0.8888888888888888,
                            "#fdca26"
                          ],
                          [
                            1,
                            "#f0f921"
                          ]
                        ],
                        "type": "heatmap"
                      }
                    ],
                    "heatmapgl": [
                      {
                        "colorbar": {
                          "outlinewidth": 0,
                          "ticks": ""
                        },
                        "colorscale": [
                          [
                            0,
                            "#0d0887"
                          ],
                          [
                            0.1111111111111111,
                            "#46039f"
                          ],
                          [
                            0.2222222222222222,
                            "#7201a8"
                          ],
                          [
                            0.3333333333333333,
                            "#9c179e"
                          ],
                          [
                            0.4444444444444444,
                            "#bd3786"
                          ],
                          [
                            0.5555555555555556,
                            "#d8576b"
                          ],
                          [
                            0.6666666666666666,
                            "#ed7953"
                          ],
                          [
                            0.7777777777777778,
                            "#fb9f3a"
                          ],
                          [
                            0.8888888888888888,
                            "#fdca26"
                          ],
                          [
                            1,
                            "#f0f921"
                          ]
                        ],
                        "type": "heatmapgl"
                      }
                    ],
                    "histogram": [
                      {
                        "marker": {
                          "pattern": {
                            "fillmode": "overlay",
                            "size": 10,
                            "solidity": 0.2
                          }
                        },
                        "type": "histogram"
                      }
                    ],
                    "histogram2d": [
                      {
                        "colorbar": {
                          "outlinewidth": 0,
                          "ticks": ""
                        },
                        "colorscale": [
                          [
                            0,
                            "#0d0887"
                          ],
                          [
                            0.1111111111111111,
                            "#46039f"
                          ],
                          [
                            0.2222222222222222,
                            "#7201a8"
                          ],
                          [
                            0.3333333333333333,
                            "#9c179e"
                          ],
                          [
                            0.4444444444444444,
                            "#bd3786"
                          ],
                          [
                            0.5555555555555556,
                            "#d8576b"
                          ],
                          [
                            0.6666666666666666,
                            "#ed7953"
                          ],
                          [
                            0.7777777777777778,
                            "#fb9f3a"
                          ],
                          [
                            0.8888888888888888,
                            "#fdca26"
                          ],
                          [
                            1,
                            "#f0f921"
                          ]
                        ],
                        "type": "histogram2d"
                      }
                    ],
                    "histogram2dcontour": [
                      {
                        "colorbar": {
                          "outlinewidth": 0,
                          "ticks": ""
                        },
                        "colorscale": [
                          [
                            0,
                            "#0d0887"
                          ],
                          [
                            0.1111111111111111,
                            "#46039f"
                          ],
                          [
                            0.2222222222222222,
                            "#7201a8"
                          ],
                          [
                            0.3333333333333333,
                            "#9c179e"
                          ],
                          [
                            0.4444444444444444,
                            "#bd3786"
                          ],
                          [
                            0.5555555555555556,
                            "#d8576b"
                          ],
                          [
                            0.6666666666666666,
                            "#ed7953"
                          ],
                          [
                            0.7777777777777778,
                            "#fb9f3a"
                          ],
                          [
                            0.8888888888888888,
                            "#fdca26"
                          ],
                          [
                            1,
                            "#f0f921"
                          ]
                        ],
                        "type": "histogram2dcontour"
                      }
                    ],
                    "mesh3d": [
                      {
                        "colorbar": {
                          "outlinewidth": 0,
                          "ticks": ""
                        },
                        "type": "mesh3d"
                      }
                    ],
                    "parcoords": [
                      {
                        "line": {
                          "colorbar": {
                            "outlinewidth": 0,
                            "ticks": ""
                          }
                        },
                        "type": "parcoords"
                      }
                    ],
                    "pie": [
                      {
                        "automargin": true,
                        "type": "pie"
                      }
                    ],
                    "scatter": [
                      {
                        "fillpattern": {
                          "fillmode": "overlay",
                          "size": 10,
                          "solidity": 0.2
                        },
                        "type": "scatter"
                      }
                    ],
                    "scatter3d": [
                      {
                        "line": {
                          "colorbar": {
                            "outlinewidth": 0,
                            "ticks": ""
                          }
                        },
                        "marker": {
                          "colorbar": {
                            "outlinewidth": 0,
                            "ticks": ""
                          }
                        },
                        "type": "scatter3d"
                      }
                    ],
                    "scattercarpet": [
                      {
                        "marker": {
                          "colorbar": {
                            "outlinewidth": 0,
                            "ticks": ""
                          }
                        },
                        "type": "scattercarpet"
                      }
                    ],
                    "scattergeo": [
                      {
                        "marker": {
                          "colorbar": {
                            "outlinewidth": 0,
                            "ticks": ""
                          }
                        },
                        "type": "scattergeo"
                      }
                    ],
                    "scattergl": [
                      {
                        "marker": {
                          "colorbar": {
                            "outlinewidth": 0,
                            "ticks": ""
                          }
                        },
                        "type": "scattergl"
                      }
                    ],
                    "scattermapbox": [
                      {
                        "marker": {
                          "colorbar": {
                            "outlinewidth": 0,
                            "ticks": ""
                          }
                        },
                        "type": "scattermapbox"
                      }
                    ],
                    "scatterpolar": [
                      {
                        "marker": {
                          "colorbar": {
                            "outlinewidth": 0,
                            "ticks": ""
                          }
                        },
                        "type": "scatterpolar"
                      }
                    ],
                    "scatterpolargl": [
                      {
                        "marker": {
                          "colorbar": {
                            "outlinewidth": 0,
                            "ticks": ""
                          }
                        },
                        "type": "scatterpolargl"
                      }
                    ],
                    "scatterternary": [
                      {
                        "marker": {
                          "colorbar": {
                            "outlinewidth": 0,
                            "ticks": ""
                          }
                        },
                        "type": "scatterternary"
                      }
                    ],
                    "surface": [
                      {
                        "colorbar": {
                          "outlinewidth": 0,
                          "ticks": ""
                        },
                        "colorscale": [
                          [
                            0,
                            "#0d0887"
                          ],
                          [
                            0.1111111111111111,
                            "#46039f"
                          ],
                          [
                            0.2222222222222222,
                            "#7201a8"
                          ],
                          [
                            0.3333333333333333,
                            "#9c179e"
                          ],
                          [
                            0.4444444444444444,
                            "#bd3786"
                          ],
                          [
                            0.5555555555555556,
                            "#d8576b"
                          ],
                          [
                            0.6666666666666666,
                            "#ed7953"
                          ],
                          [
                            0.7777777777777778,
                            "#fb9f3a"
                          ],
                          [
                            0.8888888888888888,
                            "#fdca26"
                          ],
                          [
                            1,
                            "#f0f921"
                          ]
                        ],
                        "type": "surface"
                      }
                    ],
                    "table": [
                      {
                        "cells": {
                          "fill": {
                            "color": "#EBF0F8"
                          },
                          "line": {
                            "color": "white"
                          }
                        },
                        "header": {
                          "fill": {
                            "color": "#C8D4E3"
                          },
                          "line": {
                            "color": "white"
                          }
                        },
                        "type": "table"
                      }
                    ]
                  },
                  "layout": {
                    "annotationdefaults": {
                      "arrowcolor": "#2a3f5f",
                      "arrowhead": 0,
                      "arrowwidth": 1
                    },
                    "autotypenumbers": "strict",
                    "coloraxis": {
                      "colorbar": {
                        "outlinewidth": 0,
                        "ticks": ""
                      }
                    },
                    "colorscale": {
                      "diverging": [
                        [
                          0,
                          "#8e0152"
                        ],
                        [
                          0.1,
                          "#c51b7d"
                        ],
                        [
                          0.2,
                          "#de77ae"
                        ],
                        [
                          0.3,
                          "#f1b6da"
                        ],
                        [
                          0.4,
                          "#fde0ef"
                        ],
                        [
                          0.5,
                          "#f7f7f7"
                        ],
                        [
                          0.6,
                          "#e6f5d0"
                        ],
                        [
                          0.7,
                          "#b8e186"
                        ],
                        [
                          0.8,
                          "#7fbc41"
                        ],
                        [
                          0.9,
                          "#4d9221"
                        ],
                        [
                          1,
                          "#276419"
                        ]
                      ],
                      "sequential": [
                        [
                          0,
                          "#0d0887"
                        ],
                        [
                          0.1111111111111111,
                          "#46039f"
                        ],
                        [
                          0.2222222222222222,
                          "#7201a8"
                        ],
                        [
                          0.3333333333333333,
                          "#9c179e"
                        ],
                        [
                          0.4444444444444444,
                          "#bd3786"
                        ],
                        [
                          0.5555555555555556,
                          "#d8576b"
                        ],
                        [
                          0.6666666666666666,
                          "#ed7953"
                        ],
                        [
                          0.7777777777777778,
                          "#fb9f3a"
                        ],
                        [
                          0.8888888888888888,
                          "#fdca26"
                        ],
                        [
                          1,
                          "#f0f921"
                        ]
                      ],
                      "sequentialminus": [
                        [
                          0,
                          "#0d0887"
                        ],
                        [
                          0.1111111111111111,
                          "#46039f"
                        ],
                        [
                          0.2222222222222222,
                          "#7201a8"
                        ],
                        [
                          0.3333333333333333,
                          "#9c179e"
                        ],
                        [
                          0.4444444444444444,
                          "#bd3786"
                        ],
                        [
                          0.5555555555555556,
                          "#d8576b"
                        ],
                        [
                          0.6666666666666666,
                          "#ed7953"
                        ],
                        [
                          0.7777777777777778,
                          "#fb9f3a"
                        ],
                        [
                          0.8888888888888888,
                          "#fdca26"
                        ],
                        [
                          1,
                          "#f0f921"
                        ]
                      ]
                    },
                    "colorway": [
                      "#636efa",
                      "#EF553B",
                      "#00cc96",
                      "#ab63fa",
                      "#FFA15A",
                      "#19d3f3",
                      "#FF6692",
                      "#B6E880",
                      "#FF97FF",
                      "#FECB52"
                    ],
                    "font": {
                      "color": "#2a3f5f"
                    },
                    "geo": {
                      "bgcolor": "white",
                      "lakecolor": "white",
                      "landcolor": "#E5ECF6",
                      "showlakes": true,
                      "showland": true,
                      "subunitcolor": "white"
                    },
                    "hoverlabel": {
                      "align": "left"
                    },
                    "hovermode": "closest",
                    "mapbox": {
                      "style": "light"
                    },
                    "paper_bgcolor": "white",
                    "plot_bgcolor": "#E5ECF6",
                    "polar": {
                      "angularaxis": {
                        "gridcolor": "white",
                        "linecolor": "white",
                        "ticks": ""
                      },
                      "bgcolor": "#E5ECF6",
                      "radialaxis": {
                        "gridcolor": "white",
                        "linecolor": "white",
                        "ticks": ""
                      }
                    },
                    "scene": {
                      "xaxis": {
                        "backgroundcolor": "#E5ECF6",
                        "gridcolor": "white",
                        "gridwidth": 2,
                        "linecolor": "white",
                        "showbackground": true,
                        "ticks": "",
                        "zerolinecolor": "white"
                      },
                      "yaxis": {
                        "backgroundcolor": "#E5ECF6",
                        "gridcolor": "white",
                        "gridwidth": 2,
                        "linecolor": "white",
                        "showbackground": true,
                        "ticks": "",
                        "zerolinecolor": "white"
                      },
                      "zaxis": {
                        "backgroundcolor": "#E5ECF6",
                        "gridcolor": "white",
                        "gridwidth": 2,
                        "linecolor": "white",
                        "showbackground": true,
                        "ticks": "",
                        "zerolinecolor": "white"
                      }
                    },
                    "shapedefaults": {
                      "line": {
                        "color": "#2a3f5f"
                      }
                    },
                    "ternary": {
                      "aaxis": {
                        "gridcolor": "white",
                        "linecolor": "white",
                        "ticks": ""
                      },
                      "baxis": {
                        "gridcolor": "white",
                        "linecolor": "white",
                        "ticks": ""
                      },
                      "bgcolor": "#E5ECF6",
                      "caxis": {
                        "gridcolor": "white",
                        "linecolor": "white",
                        "ticks": ""
                      }
                    },
                    "title": {
                      "x": 0.05
                    },
                    "xaxis": {
                      "automargin": true,
                      "gridcolor": "white",
                      "linecolor": "white",
                      "ticks": "",
                      "title": {
                        "standoff": 15
                      },
                      "zerolinecolor": "white",
                      "zerolinewidth": 2
                    },
                    "yaxis": {
                      "automargin": true,
                      "gridcolor": "white",
                      "linecolor": "white",
                      "ticks": "",
                      "title": {
                        "standoff": 15
                      },
                      "zerolinecolor": "white",
                      "zerolinewidth": 2
                    }
                  }
                }
              }
            }
          },
          "metadata": {},
          "output_type": "display_data"
        }
      ],
      "source": [
        "channel_point_cloud_plot = gtda.plotting.plot_point_cloud(channel_point_clouds[print_obj])\n",
        "display(channel_point_cloud_plot)\n",
        "channel_point_cloud_plot.write_image(file = f\"{subj}/{exp}/channel_point_cloud.svg\", format = \"svg\")"
      ]
    },
    {
      "cell_type": "markdown",
      "metadata": {},
      "source": [
        "#### VietorisRipsPersistence"
      ]
    },
    {
      "cell_type": "code",
      "execution_count": 53,
      "metadata": {},
      "outputs": [
        {
          "name": "stdout",
          "output_type": "stream",
          "text": [
            "(44840, 205, 3)\n"
          ]
        }
      ],
      "source": [
        "channel_persistence = gtda.homology.VietorisRipsPersistence(homology_dimensions = CHANNEL_HOMOLOGY_DIMENSIONS, n_jobs = -1)\n",
        "channel_diagrams = channel_persistence.fit_transform(channel_point_clouds)\n",
        "numpy.save(f\"{subj}/{exp}/channel_diagrams.npy\", channel_diagrams)\n",
        "print(channel_diagrams.shape)"
      ]
    },
    {
      "cell_type": "code",
      "execution_count": 54,
      "metadata": {},
      "outputs": [
        {
          "data": {
            "application/vnd.plotly.v1+json": {
              "config": {
                "plotlyServerURL": "https://plot.ly"
              },
              "data": [
                {
                  "hoverinfo": "none",
                  "line": {
                    "color": "black",
                    "dash": "dash",
                    "width": 1
                  },
                  "mode": "lines",
                  "showlegend": false,
                  "type": "scatter",
                  "x": [
                    0.000005038724539190298,
                    0.000015154368866205913
                  ],
                  "y": [
                    0.000005038724539190298,
                    0.000015154368866205913
                  ]
                },
                {
                  "hoverinfo": "text",
                  "hovertext": [
                    "(1.2642675756069366e-05, 1.3672980458068196e-05)",
                    "(1.1988801816187333e-05, 1.2134783901274204e-05)",
                    "(1.0804661542351823e-05, 1.092453021556139e-05)",
                    "(1.0429645953990985e-05, 1.0471660061739385e-05)",
                    "(1.0172146176046226e-05, 1.0471660061739385e-05)",
                    "(1.0040861525340006e-05, 1.029034137900453e-05)",
                    "(9.478198080614675e-06, 1.0046300303656608e-05)",
                    "(9.416629836778156e-06, 9.826836503634695e-06)",
                    "(9.1109614004381e-06, 9.575514013704378e-06)",
                    "(9.076299647858832e-06, 9.609932021703571e-06)",
                    "(8.782410077401437e-06, 9.492639037489425e-06)",
                    "(8.766397513682023e-06, 9.045967999554705e-06)",
                    "(8.757289833738469e-06, 9.431122634850908e-06)",
                    "(8.755576345720328e-06, 8.981089195003733e-06)",
                    "(8.754975169722456e-06, 9.41154303291114e-06)",
                    "(8.695432370586786e-06, 9.035791663336568e-06)",
                    "(8.670578608871438e-06, 9.417000001121778e-06)",
                    "(8.603245987615082e-06, 9.279185178456828e-06)",
                    "(8.590644029027317e-06, 8.967899702838622e-06)",
                    "(8.589910976297688e-06, 8.81196501723025e-06)",
                    "(8.585291652707383e-06, 9.218678314937279e-06)",
                    "(8.497339877067134e-06, 8.768081897869706e-06)",
                    "(8.484531463182066e-06, 9.074897207028698e-06)",
                    "(8.483291821903549e-06, 8.679163329361472e-06)",
                    "(8.364089808310382e-06, 9.109267011808697e-06)",
                    "(8.338583938893862e-06, 9.464254617341794e-06)",
                    "(8.334377525898162e-06, 8.541881470591761e-06)",
                    "(8.324303053086624e-06, 8.630527190689463e-06)",
                    "(8.308268661494367e-06, 9.191242497763596e-06)",
                    "(8.25410916149849e-06, 8.796428119239863e-06)",
                    "(8.22213951323647e-06, 9.473770660406444e-06)",
                    "(8.175178663805127e-06, 8.882992005965207e-06)",
                    "(8.106235327431932e-06, 8.19538672658382e-06)",
                    "(8.019659617275465e-06, 8.289702236652374e-06)",
                    "(7.970017577463295e-06, 9.191242497763596e-06)",
                    "(7.897217074059881e-06, 9.896093615680002e-06)",
                    "(7.878424185037147e-06, 8.37834977573948e-06)",
                    "(7.811394425516482e-06, 9.460067303734832e-06)",
                    "(7.810924216755666e-06, 9.98021823761519e-06)",
                    "(7.668918442504946e-06, 7.774578989483416e-06)",
                    "(7.654117325728294e-06, 8.127580258587841e-06)",
                    "(7.647530765098054e-06, 8.552293365937658e-06)",
                    "(7.555042429885361e-06, 8.320722372445744e-06)",
                    "(7.546139386249706e-06, 7.795431884005666e-06)",
                    "(7.475121947209118e-06, 9.628683073970024e-06)",
                    "(7.468906005669851e-06, 9.12954146770062e-06)",
                    "(7.385906883428106e-06, 8.385163710045163e-06)",
                    "(7.3858132054738235e-06, 7.5716516221291386e-06)",
                    "(7.358122275036294e-06, 1.0377433682151604e-05)",
                    "(7.318817097257124e-06, 8.382697160413954e-06)",
                    "(7.276234100572765e-06, 7.813719093974214e-06)",
                    "(7.256592652993277e-06, 8.699493264430203e-06)",
                    "(7.255531272676308e-06, 8.048650670389179e-06)",
                    "(7.230320989037864e-06, 9.435630090592895e-06)",
                    "(7.187522896856535e-06, 8.058558705670293e-06)",
                    "(7.181067758210702e-06, 9.291413334722165e-06)",
                    "(7.180104603321524e-06, 8.659998457005713e-06)",
                    "(7.143421044020215e-06, 9.51612582866801e-06)",
                    "(7.137208285712404e-06, 8.9757368186838e-06)",
                    "(7.134382485673996e-06, 8.794198038231116e-06)",
                    "(7.102054496499477e-06, 7.253273906826507e-06)",
                    "(7.096122772054514e-06, 7.158508651627926e-06)",
                    "(7.070092578942422e-06, 9.920530828821938e-06)",
                    "(6.9845800680923276e-06, 1.2971656360605266e-05)",
                    "(6.95764401825727e-06, 8.335493475897238e-06)",
                    "(6.9301959229051135e-06, 7.425496733048931e-06)",
                    "(6.90809429215733e-06, 7.508495400543325e-06)",
                    "(6.650654540862888e-06, 7.052108685456915e-06)",
                    "(6.630901680182433e-06, 8.960971172200516e-06)",
                    "(6.534013209602563e-06, 9.040975783136673e-06)",
                    "(6.531499820994213e-06, 6.635454610659508e-06)",
                    "(6.489836323453346e-06, 7.71852137404494e-06)",
                    "(6.173120254970854e-06, 7.467324849130819e-06)",
                    "(6.166239927551942e-06, 6.799906259402633e-06)",
                    "(6.161705641716253e-06, 7.088313395797741e-06)",
                    "(6.069572464184603e-06, 6.801810741308145e-06)",
                    "(5.430297733255429e-06, 6.021370154485339e-06)",
                    "(5.233256160863675e-06, 5.665237949870061e-06)"
                  ],
                  "mode": "markers",
                  "name": "H1",
                  "type": "scatter",
                  "x": [
                    0.000012642675756069366,
                    0.000011988801816187333,
                    0.000010804661542351823,
                    0.000010429645953990985,
                    0.000010172146176046226,
                    0.000010040861525340006,
                    0.000009478198080614675,
                    0.000009416629836778156,
                    0.0000091109614004381,
                    0.000009076299647858832,
                    0.000008782410077401437,
                    0.000008766397513682023,
                    0.000008757289833738469,
                    0.000008755576345720328,
                    0.000008754975169722456,
                    0.000008695432370586786,
                    0.000008670578608871438,
                    0.000008603245987615082,
                    0.000008590644029027317,
                    0.000008589910976297688,
                    0.000008585291652707383,
                    0.000008497339877067134,
                    0.000008484531463182066,
                    0.000008483291821903549,
                    0.000008364089808310382,
                    0.000008338583938893862,
                    0.000008334377525898162,
                    0.000008324303053086624,
                    0.000008308268661494367,
                    0.00000825410916149849,
                    0.00000822213951323647,
                    0.000008175178663805127,
                    0.000008106235327431932,
                    0.000008019659617275465,
                    0.000007970017577463295,
                    0.000007897217074059881,
                    0.000007878424185037147,
                    0.000007811394425516482,
                    0.000007810924216755666,
                    0.000007668918442504946,
                    0.000007654117325728294,
                    0.000007647530765098054,
                    0.000007555042429885361,
                    0.000007546139386249706,
                    0.000007475121947209118,
                    0.000007468906005669851,
                    0.000007385906883428106,
                    0.0000073858132054738235,
                    0.000007358122275036294,
                    0.000007318817097257124,
                    0.000007276234100572765,
                    0.000007256592652993277,
                    0.000007255531272676308,
                    0.000007230320989037864,
                    0.000007187522896856535,
                    0.000007181067758210702,
                    0.000007180104603321524,
                    0.000007143421044020215,
                    0.000007137208285712404,
                    0.000007134382485673996,
                    0.000007102054496499477,
                    0.000007096122772054514,
                    0.000007070092578942422,
                    0.0000069845800680923276,
                    0.00000695764401825727,
                    0.0000069301959229051135,
                    0.00000690809429215733,
                    0.000006650654540862888,
                    0.000006630901680182433,
                    0.000006534013209602563,
                    0.000006531499820994213,
                    0.000006489836323453346,
                    0.000006173120254970854,
                    0.000006166239927551942,
                    0.000006161705641716253,
                    0.000006069572464184603,
                    0.000005430297733255429,
                    0.000005233256160863675
                  ],
                  "y": [
                    0.000013672980458068196,
                    0.000012134783901274204,
                    0.00001092453021556139,
                    0.000010471660061739385,
                    0.000010471660061739385,
                    0.00001029034137900453,
                    0.000010046300303656608,
                    0.000009826836503634695,
                    0.000009575514013704378,
                    0.000009609932021703571,
                    0.000009492639037489425,
                    0.000009045967999554705,
                    0.000009431122634850908,
                    0.000008981089195003733,
                    0.00000941154303291114,
                    0.000009035791663336568,
                    0.000009417000001121778,
                    0.000009279185178456828,
                    0.000008967899702838622,
                    0.00000881196501723025,
                    0.000009218678314937279,
                    0.000008768081897869706,
                    0.000009074897207028698,
                    0.000008679163329361472,
                    0.000009109267011808697,
                    0.000009464254617341794,
                    0.000008541881470591761,
                    0.000008630527190689463,
                    0.000009191242497763596,
                    0.000008796428119239863,
                    0.000009473770660406444,
                    0.000008882992005965207,
                    0.00000819538672658382,
                    0.000008289702236652374,
                    0.000009191242497763596,
                    0.000009896093615680002,
                    0.00000837834977573948,
                    0.000009460067303734832,
                    0.00000998021823761519,
                    0.000007774578989483416,
                    0.000008127580258587841,
                    0.000008552293365937658,
                    0.000008320722372445744,
                    0.000007795431884005666,
                    0.000009628683073970024,
                    0.00000912954146770062,
                    0.000008385163710045163,
                    0.0000075716516221291386,
                    0.000010377433682151604,
                    0.000008382697160413954,
                    0.000007813719093974214,
                    0.000008699493264430203,
                    0.000008048650670389179,
                    0.000009435630090592895,
                    0.000008058558705670293,
                    0.000009291413334722165,
                    0.000008659998457005713,
                    0.00000951612582866801,
                    0.0000089757368186838,
                    0.000008794198038231116,
                    0.000007253273906826507,
                    0.000007158508651627926,
                    0.000009920530828821938,
                    0.000012971656360605266,
                    0.000008335493475897238,
                    0.000007425496733048931,
                    0.000007508495400543325,
                    0.000007052108685456915,
                    0.000008960971172200516,
                    0.000009040975783136673,
                    0.000006635454610659508,
                    0.00000771852137404494,
                    0.000007467324849130819,
                    0.000006799906259402633,
                    0.000007088313395797741,
                    0.000006801810741308145,
                    0.000006021370154485339,
                    0.000005665237949870061
                  ]
                },
                {
                  "hoverinfo": "text",
                  "hovertext": [
                    "(1.4617667147831526e-05, 1.4959837244532537e-05)",
                    "(1.3274438970256597e-05, 1.3313266208569985e-05)",
                    "(1.2680437066592276e-05, 1.2807550774596166e-05)",
                    "(1.1962962162215263e-05, 1.2210844033688772e-05)",
                    "(1.0851334081962705e-05, 1.1131610335723963e-05)",
                    "(1.0834349268407095e-05, 1.1100518349849153e-05)",
                    "(1.0347433999413624e-05, 1.0879177352762781e-05)",
                    "(1.0331289558962453e-05, 1.075831642083358e-05)",
                    "(1.0303383533027954e-05, 1.0848139936570078e-05)",
                    "(1.0217653652944136e-05, 1.0394835953775328e-05)",
                    "(1.004196110443445e-05, 1.0375210877100471e-05)",
                    "(9.965268873202149e-06, 1.0253071195620578e-05)",
                    "(9.94305173662724e-06, 1.0574677617114503e-05)",
                    "(9.92163495538989e-06, 1.0175724128203001e-05)",
                    "(9.602857971913181e-06, 9.71022654994158e-06)",
                    "(9.43421673582634e-06, 9.71022654994158e-06)",
                    "(9.43421673582634e-06, 9.602857971913181e-06)",
                    "(9.38625726121245e-06, 9.80336972133955e-06)",
                    "(8.346255526703317e-06, 9.1756492111017e-06)",
                    "(7.4927597779606e-06, 7.730871402600314e-06)"
                  ],
                  "mode": "markers",
                  "name": "H2",
                  "type": "scatter",
                  "x": [
                    0.000014617667147831526,
                    0.000013274438970256597,
                    0.000012680437066592276,
                    0.000011962962162215263,
                    0.000010851334081962705,
                    0.000010834349268407095,
                    0.000010347433999413624,
                    0.000010331289558962453,
                    0.000010303383533027954,
                    0.000010217653652944136,
                    0.00001004196110443445,
                    0.000009965268873202149,
                    0.00000994305173662724,
                    0.00000992163495538989,
                    0.000009602857971913181,
                    0.00000943421673582634,
                    0.00000943421673582634,
                    0.00000938625726121245,
                    0.000008346255526703317,
                    0.0000074927597779606
                  ],
                  "y": [
                    0.000014959837244532537,
                    0.000013313266208569985,
                    0.000012807550774596166,
                    0.000012210844033688772,
                    0.000011131610335723963,
                    0.000011100518349849153,
                    0.000010879177352762781,
                    0.00001075831642083358,
                    0.000010848139936570078,
                    0.000010394835953775328,
                    0.000010375210877100471,
                    0.000010253071195620578,
                    0.000010574677617114503,
                    0.000010175724128203001,
                    0.00000971022654994158,
                    0.00000971022654994158,
                    0.000009602857971913181,
                    0.00000980336972133955,
                    0.0000091756492111017,
                    0.000007730871402600314
                  ]
                }
              ],
              "layout": {
                "height": 500,
                "plot_bgcolor": "white",
                "template": {
                  "data": {
                    "bar": [
                      {
                        "error_x": {
                          "color": "#2a3f5f"
                        },
                        "error_y": {
                          "color": "#2a3f5f"
                        },
                        "marker": {
                          "line": {
                            "color": "#E5ECF6",
                            "width": 0.5
                          },
                          "pattern": {
                            "fillmode": "overlay",
                            "size": 10,
                            "solidity": 0.2
                          }
                        },
                        "type": "bar"
                      }
                    ],
                    "barpolar": [
                      {
                        "marker": {
                          "line": {
                            "color": "#E5ECF6",
                            "width": 0.5
                          },
                          "pattern": {
                            "fillmode": "overlay",
                            "size": 10,
                            "solidity": 0.2
                          }
                        },
                        "type": "barpolar"
                      }
                    ],
                    "carpet": [
                      {
                        "aaxis": {
                          "endlinecolor": "#2a3f5f",
                          "gridcolor": "white",
                          "linecolor": "white",
                          "minorgridcolor": "white",
                          "startlinecolor": "#2a3f5f"
                        },
                        "baxis": {
                          "endlinecolor": "#2a3f5f",
                          "gridcolor": "white",
                          "linecolor": "white",
                          "minorgridcolor": "white",
                          "startlinecolor": "#2a3f5f"
                        },
                        "type": "carpet"
                      }
                    ],
                    "choropleth": [
                      {
                        "colorbar": {
                          "outlinewidth": 0,
                          "ticks": ""
                        },
                        "type": "choropleth"
                      }
                    ],
                    "contour": [
                      {
                        "colorbar": {
                          "outlinewidth": 0,
                          "ticks": ""
                        },
                        "colorscale": [
                          [
                            0,
                            "#0d0887"
                          ],
                          [
                            0.1111111111111111,
                            "#46039f"
                          ],
                          [
                            0.2222222222222222,
                            "#7201a8"
                          ],
                          [
                            0.3333333333333333,
                            "#9c179e"
                          ],
                          [
                            0.4444444444444444,
                            "#bd3786"
                          ],
                          [
                            0.5555555555555556,
                            "#d8576b"
                          ],
                          [
                            0.6666666666666666,
                            "#ed7953"
                          ],
                          [
                            0.7777777777777778,
                            "#fb9f3a"
                          ],
                          [
                            0.8888888888888888,
                            "#fdca26"
                          ],
                          [
                            1,
                            "#f0f921"
                          ]
                        ],
                        "type": "contour"
                      }
                    ],
                    "contourcarpet": [
                      {
                        "colorbar": {
                          "outlinewidth": 0,
                          "ticks": ""
                        },
                        "type": "contourcarpet"
                      }
                    ],
                    "heatmap": [
                      {
                        "colorbar": {
                          "outlinewidth": 0,
                          "ticks": ""
                        },
                        "colorscale": [
                          [
                            0,
                            "#0d0887"
                          ],
                          [
                            0.1111111111111111,
                            "#46039f"
                          ],
                          [
                            0.2222222222222222,
                            "#7201a8"
                          ],
                          [
                            0.3333333333333333,
                            "#9c179e"
                          ],
                          [
                            0.4444444444444444,
                            "#bd3786"
                          ],
                          [
                            0.5555555555555556,
                            "#d8576b"
                          ],
                          [
                            0.6666666666666666,
                            "#ed7953"
                          ],
                          [
                            0.7777777777777778,
                            "#fb9f3a"
                          ],
                          [
                            0.8888888888888888,
                            "#fdca26"
                          ],
                          [
                            1,
                            "#f0f921"
                          ]
                        ],
                        "type": "heatmap"
                      }
                    ],
                    "heatmapgl": [
                      {
                        "colorbar": {
                          "outlinewidth": 0,
                          "ticks": ""
                        },
                        "colorscale": [
                          [
                            0,
                            "#0d0887"
                          ],
                          [
                            0.1111111111111111,
                            "#46039f"
                          ],
                          [
                            0.2222222222222222,
                            "#7201a8"
                          ],
                          [
                            0.3333333333333333,
                            "#9c179e"
                          ],
                          [
                            0.4444444444444444,
                            "#bd3786"
                          ],
                          [
                            0.5555555555555556,
                            "#d8576b"
                          ],
                          [
                            0.6666666666666666,
                            "#ed7953"
                          ],
                          [
                            0.7777777777777778,
                            "#fb9f3a"
                          ],
                          [
                            0.8888888888888888,
                            "#fdca26"
                          ],
                          [
                            1,
                            "#f0f921"
                          ]
                        ],
                        "type": "heatmapgl"
                      }
                    ],
                    "histogram": [
                      {
                        "marker": {
                          "pattern": {
                            "fillmode": "overlay",
                            "size": 10,
                            "solidity": 0.2
                          }
                        },
                        "type": "histogram"
                      }
                    ],
                    "histogram2d": [
                      {
                        "colorbar": {
                          "outlinewidth": 0,
                          "ticks": ""
                        },
                        "colorscale": [
                          [
                            0,
                            "#0d0887"
                          ],
                          [
                            0.1111111111111111,
                            "#46039f"
                          ],
                          [
                            0.2222222222222222,
                            "#7201a8"
                          ],
                          [
                            0.3333333333333333,
                            "#9c179e"
                          ],
                          [
                            0.4444444444444444,
                            "#bd3786"
                          ],
                          [
                            0.5555555555555556,
                            "#d8576b"
                          ],
                          [
                            0.6666666666666666,
                            "#ed7953"
                          ],
                          [
                            0.7777777777777778,
                            "#fb9f3a"
                          ],
                          [
                            0.8888888888888888,
                            "#fdca26"
                          ],
                          [
                            1,
                            "#f0f921"
                          ]
                        ],
                        "type": "histogram2d"
                      }
                    ],
                    "histogram2dcontour": [
                      {
                        "colorbar": {
                          "outlinewidth": 0,
                          "ticks": ""
                        },
                        "colorscale": [
                          [
                            0,
                            "#0d0887"
                          ],
                          [
                            0.1111111111111111,
                            "#46039f"
                          ],
                          [
                            0.2222222222222222,
                            "#7201a8"
                          ],
                          [
                            0.3333333333333333,
                            "#9c179e"
                          ],
                          [
                            0.4444444444444444,
                            "#bd3786"
                          ],
                          [
                            0.5555555555555556,
                            "#d8576b"
                          ],
                          [
                            0.6666666666666666,
                            "#ed7953"
                          ],
                          [
                            0.7777777777777778,
                            "#fb9f3a"
                          ],
                          [
                            0.8888888888888888,
                            "#fdca26"
                          ],
                          [
                            1,
                            "#f0f921"
                          ]
                        ],
                        "type": "histogram2dcontour"
                      }
                    ],
                    "mesh3d": [
                      {
                        "colorbar": {
                          "outlinewidth": 0,
                          "ticks": ""
                        },
                        "type": "mesh3d"
                      }
                    ],
                    "parcoords": [
                      {
                        "line": {
                          "colorbar": {
                            "outlinewidth": 0,
                            "ticks": ""
                          }
                        },
                        "type": "parcoords"
                      }
                    ],
                    "pie": [
                      {
                        "automargin": true,
                        "type": "pie"
                      }
                    ],
                    "scatter": [
                      {
                        "fillpattern": {
                          "fillmode": "overlay",
                          "size": 10,
                          "solidity": 0.2
                        },
                        "type": "scatter"
                      }
                    ],
                    "scatter3d": [
                      {
                        "line": {
                          "colorbar": {
                            "outlinewidth": 0,
                            "ticks": ""
                          }
                        },
                        "marker": {
                          "colorbar": {
                            "outlinewidth": 0,
                            "ticks": ""
                          }
                        },
                        "type": "scatter3d"
                      }
                    ],
                    "scattercarpet": [
                      {
                        "marker": {
                          "colorbar": {
                            "outlinewidth": 0,
                            "ticks": ""
                          }
                        },
                        "type": "scattercarpet"
                      }
                    ],
                    "scattergeo": [
                      {
                        "marker": {
                          "colorbar": {
                            "outlinewidth": 0,
                            "ticks": ""
                          }
                        },
                        "type": "scattergeo"
                      }
                    ],
                    "scattergl": [
                      {
                        "marker": {
                          "colorbar": {
                            "outlinewidth": 0,
                            "ticks": ""
                          }
                        },
                        "type": "scattergl"
                      }
                    ],
                    "scattermapbox": [
                      {
                        "marker": {
                          "colorbar": {
                            "outlinewidth": 0,
                            "ticks": ""
                          }
                        },
                        "type": "scattermapbox"
                      }
                    ],
                    "scatterpolar": [
                      {
                        "marker": {
                          "colorbar": {
                            "outlinewidth": 0,
                            "ticks": ""
                          }
                        },
                        "type": "scatterpolar"
                      }
                    ],
                    "scatterpolargl": [
                      {
                        "marker": {
                          "colorbar": {
                            "outlinewidth": 0,
                            "ticks": ""
                          }
                        },
                        "type": "scatterpolargl"
                      }
                    ],
                    "scatterternary": [
                      {
                        "marker": {
                          "colorbar": {
                            "outlinewidth": 0,
                            "ticks": ""
                          }
                        },
                        "type": "scatterternary"
                      }
                    ],
                    "surface": [
                      {
                        "colorbar": {
                          "outlinewidth": 0,
                          "ticks": ""
                        },
                        "colorscale": [
                          [
                            0,
                            "#0d0887"
                          ],
                          [
                            0.1111111111111111,
                            "#46039f"
                          ],
                          [
                            0.2222222222222222,
                            "#7201a8"
                          ],
                          [
                            0.3333333333333333,
                            "#9c179e"
                          ],
                          [
                            0.4444444444444444,
                            "#bd3786"
                          ],
                          [
                            0.5555555555555556,
                            "#d8576b"
                          ],
                          [
                            0.6666666666666666,
                            "#ed7953"
                          ],
                          [
                            0.7777777777777778,
                            "#fb9f3a"
                          ],
                          [
                            0.8888888888888888,
                            "#fdca26"
                          ],
                          [
                            1,
                            "#f0f921"
                          ]
                        ],
                        "type": "surface"
                      }
                    ],
                    "table": [
                      {
                        "cells": {
                          "fill": {
                            "color": "#EBF0F8"
                          },
                          "line": {
                            "color": "white"
                          }
                        },
                        "header": {
                          "fill": {
                            "color": "#C8D4E3"
                          },
                          "line": {
                            "color": "white"
                          }
                        },
                        "type": "table"
                      }
                    ]
                  },
                  "layout": {
                    "annotationdefaults": {
                      "arrowcolor": "#2a3f5f",
                      "arrowhead": 0,
                      "arrowwidth": 1
                    },
                    "autotypenumbers": "strict",
                    "coloraxis": {
                      "colorbar": {
                        "outlinewidth": 0,
                        "ticks": ""
                      }
                    },
                    "colorscale": {
                      "diverging": [
                        [
                          0,
                          "#8e0152"
                        ],
                        [
                          0.1,
                          "#c51b7d"
                        ],
                        [
                          0.2,
                          "#de77ae"
                        ],
                        [
                          0.3,
                          "#f1b6da"
                        ],
                        [
                          0.4,
                          "#fde0ef"
                        ],
                        [
                          0.5,
                          "#f7f7f7"
                        ],
                        [
                          0.6,
                          "#e6f5d0"
                        ],
                        [
                          0.7,
                          "#b8e186"
                        ],
                        [
                          0.8,
                          "#7fbc41"
                        ],
                        [
                          0.9,
                          "#4d9221"
                        ],
                        [
                          1,
                          "#276419"
                        ]
                      ],
                      "sequential": [
                        [
                          0,
                          "#0d0887"
                        ],
                        [
                          0.1111111111111111,
                          "#46039f"
                        ],
                        [
                          0.2222222222222222,
                          "#7201a8"
                        ],
                        [
                          0.3333333333333333,
                          "#9c179e"
                        ],
                        [
                          0.4444444444444444,
                          "#bd3786"
                        ],
                        [
                          0.5555555555555556,
                          "#d8576b"
                        ],
                        [
                          0.6666666666666666,
                          "#ed7953"
                        ],
                        [
                          0.7777777777777778,
                          "#fb9f3a"
                        ],
                        [
                          0.8888888888888888,
                          "#fdca26"
                        ],
                        [
                          1,
                          "#f0f921"
                        ]
                      ],
                      "sequentialminus": [
                        [
                          0,
                          "#0d0887"
                        ],
                        [
                          0.1111111111111111,
                          "#46039f"
                        ],
                        [
                          0.2222222222222222,
                          "#7201a8"
                        ],
                        [
                          0.3333333333333333,
                          "#9c179e"
                        ],
                        [
                          0.4444444444444444,
                          "#bd3786"
                        ],
                        [
                          0.5555555555555556,
                          "#d8576b"
                        ],
                        [
                          0.6666666666666666,
                          "#ed7953"
                        ],
                        [
                          0.7777777777777778,
                          "#fb9f3a"
                        ],
                        [
                          0.8888888888888888,
                          "#fdca26"
                        ],
                        [
                          1,
                          "#f0f921"
                        ]
                      ]
                    },
                    "colorway": [
                      "#636efa",
                      "#EF553B",
                      "#00cc96",
                      "#ab63fa",
                      "#FFA15A",
                      "#19d3f3",
                      "#FF6692",
                      "#B6E880",
                      "#FF97FF",
                      "#FECB52"
                    ],
                    "font": {
                      "color": "#2a3f5f"
                    },
                    "geo": {
                      "bgcolor": "white",
                      "lakecolor": "white",
                      "landcolor": "#E5ECF6",
                      "showlakes": true,
                      "showland": true,
                      "subunitcolor": "white"
                    },
                    "hoverlabel": {
                      "align": "left"
                    },
                    "hovermode": "closest",
                    "mapbox": {
                      "style": "light"
                    },
                    "paper_bgcolor": "white",
                    "plot_bgcolor": "#E5ECF6",
                    "polar": {
                      "angularaxis": {
                        "gridcolor": "white",
                        "linecolor": "white",
                        "ticks": ""
                      },
                      "bgcolor": "#E5ECF6",
                      "radialaxis": {
                        "gridcolor": "white",
                        "linecolor": "white",
                        "ticks": ""
                      }
                    },
                    "scene": {
                      "xaxis": {
                        "backgroundcolor": "#E5ECF6",
                        "gridcolor": "white",
                        "gridwidth": 2,
                        "linecolor": "white",
                        "showbackground": true,
                        "ticks": "",
                        "zerolinecolor": "white"
                      },
                      "yaxis": {
                        "backgroundcolor": "#E5ECF6",
                        "gridcolor": "white",
                        "gridwidth": 2,
                        "linecolor": "white",
                        "showbackground": true,
                        "ticks": "",
                        "zerolinecolor": "white"
                      },
                      "zaxis": {
                        "backgroundcolor": "#E5ECF6",
                        "gridcolor": "white",
                        "gridwidth": 2,
                        "linecolor": "white",
                        "showbackground": true,
                        "ticks": "",
                        "zerolinecolor": "white"
                      }
                    },
                    "shapedefaults": {
                      "line": {
                        "color": "#2a3f5f"
                      }
                    },
                    "ternary": {
                      "aaxis": {
                        "gridcolor": "white",
                        "linecolor": "white",
                        "ticks": ""
                      },
                      "baxis": {
                        "gridcolor": "white",
                        "linecolor": "white",
                        "ticks": ""
                      },
                      "bgcolor": "#E5ECF6",
                      "caxis": {
                        "gridcolor": "white",
                        "linecolor": "white",
                        "ticks": ""
                      }
                    },
                    "title": {
                      "x": 0.05
                    },
                    "xaxis": {
                      "automargin": true,
                      "gridcolor": "white",
                      "linecolor": "white",
                      "ticks": "",
                      "title": {
                        "standoff": 15
                      },
                      "zerolinecolor": "white",
                      "zerolinewidth": 2
                    },
                    "yaxis": {
                      "automargin": true,
                      "gridcolor": "white",
                      "linecolor": "white",
                      "ticks": "",
                      "title": {
                        "standoff": 15
                      },
                      "zerolinecolor": "white",
                      "zerolinewidth": 2
                    }
                  }
                },
                "width": 500,
                "xaxis": {
                  "autorange": false,
                  "exponentformat": "e",
                  "linecolor": "black",
                  "linewidth": 1,
                  "mirror": false,
                  "range": [
                    0.000005038724539190298,
                    0.000015154368866205913
                  ],
                  "showexponent": "all",
                  "showline": true,
                  "side": "bottom",
                  "ticks": "outside",
                  "title": {
                    "text": "Birth"
                  },
                  "type": "linear",
                  "zeroline": true
                },
                "yaxis": {
                  "autorange": false,
                  "exponentformat": "e",
                  "linecolor": "black",
                  "linewidth": 1,
                  "mirror": false,
                  "range": [
                    0.000005038724539190298,
                    0.000015154368866205913
                  ],
                  "scaleanchor": "x",
                  "scaleratio": 1,
                  "showexponent": "all",
                  "showline": true,
                  "side": "left",
                  "ticks": "outside",
                  "title": {
                    "text": "Death"
                  },
                  "type": "linear",
                  "zeroline": true
                }
              }
            }
          },
          "metadata": {},
          "output_type": "display_data"
        }
      ],
      "source": [
        "channel_diagram_plot = gtda.plotting.plot_diagram(channel_diagrams[print_obj])\n",
        "display(channel_diagram_plot)\n",
        "channel_diagram_plot.write_image(file = f\"{subj}/{exp}/channel_diagram.svg\", format = \"svg\")"
      ]
    },
    {
      "cell_type": "markdown",
      "metadata": {},
      "source": [
        "#### FeatureCalculator"
      ]
    },
    {
      "cell_type": "code",
      "execution_count": 55,
      "metadata": {},
      "outputs": [
        {
          "name": "stdout",
          "output_type": "stream",
          "text": [
            "Filtered diagrams: (44840, 188, 3)\n",
            "N bins: 100\n"
          ]
        },
        {
          "name": "stderr",
          "output_type": "stream",
          "text": [
            " betti: 100%|██████████| 44840/44840 [01:22<00:00, 542.15it/s]\n",
            " landscape: 100%|██████████| 44840/44840 [01:25<00:00, 526.23it/s]\n",
            " silhouette-1: 100%|██████████| 44840/44840 [01:31<00:00, 489.84it/s]\n",
            " silhouette-2: 100%|██████████| 44840/44840 [01:24<00:00, 528.75it/s]\n",
            " amplitudes: 100%|██████████| 13/13 [01:27<00:00,  6.70s/it]\n",
            " lifetime: 100%|██████████| 44840/44840 [04:26<00:00, 168.28it/s]\n"
          ]
        },
        {
          "data": {
            "text/html": [
              "<div>\n",
              "<style scoped>\n",
              "    .dataframe tbody tr th:only-of-type {\n",
              "        vertical-align: middle;\n",
              "    }\n",
              "\n",
              "    .dataframe tbody tr th {\n",
              "        vertical-align: top;\n",
              "    }\n",
              "\n",
              "    .dataframe thead th {\n",
              "        text-align: right;\n",
              "    }\n",
              "</style>\n",
              "<table border=\"1\" class=\"dataframe\">\n",
              "  <thead>\n",
              "    <tr style=\"text-align: right;\">\n",
              "      <th></th>\n",
              "      <th>channel-0 betti dim-1 max</th>\n",
              "      <th>channel-0 betti dim-1 mean</th>\n",
              "      <th>channel-0 betti dim-1 std</th>\n",
              "      <th>channel-0 betti dim-1 sum</th>\n",
              "      <th>channel-0 betti dim-1 percentile-25</th>\n",
              "      <th>channel-0 betti dim-1 median</th>\n",
              "      <th>channel-0 betti dim-1 percentile-75</th>\n",
              "      <th>channel-0 betti dim-1 kurtosis</th>\n",
              "      <th>channel-0 betti dim-1 skew</th>\n",
              "      <th>channel-0 betti dim-1 norm-1</th>\n",
              "      <th>...</th>\n",
              "      <th>channel-37 bd2 dim-2 mean</th>\n",
              "      <th>channel-37 bd2 dim-2 std</th>\n",
              "      <th>channel-37 bd2 dim-2 sum</th>\n",
              "      <th>channel-37 bd2 dim-2 percentile-25</th>\n",
              "      <th>channel-37 bd2 dim-2 median</th>\n",
              "      <th>channel-37 bd2 dim-2 percentile-75</th>\n",
              "      <th>channel-37 bd2 dim-2 kurtosis</th>\n",
              "      <th>channel-37 bd2 dim-2 skew</th>\n",
              "      <th>channel-37 bd2 dim-2 norm-1</th>\n",
              "      <th>channel-37 bd2 dim-2 norm-2</th>\n",
              "    </tr>\n",
              "  </thead>\n",
              "  <tbody>\n",
              "    <tr>\n",
              "      <th>0</th>\n",
              "      <td>6.00</td>\n",
              "      <td>0.00</td>\n",
              "      <td>1.37</td>\n",
              "      <td>0.00</td>\n",
              "      <td>0.00</td>\n",
              "      <td>0.00</td>\n",
              "      <td>0.00</td>\n",
              "      <td>11.68</td>\n",
              "      <td>-0.28</td>\n",
              "      <td>44.00</td>\n",
              "      <td>...</td>\n",
              "      <td>0.00</td>\n",
              "      <td>0.00</td>\n",
              "      <td>0.00</td>\n",
              "      <td>0.00</td>\n",
              "      <td>0.00</td>\n",
              "      <td>0.00</td>\n",
              "      <td>1.27</td>\n",
              "      <td>0.99</td>\n",
              "      <td>0.00</td>\n",
              "      <td>0.00</td>\n",
              "    </tr>\n",
              "    <tr>\n",
              "      <th>1</th>\n",
              "      <td>9.00</td>\n",
              "      <td>0.00</td>\n",
              "      <td>1.57</td>\n",
              "      <td>0.00</td>\n",
              "      <td>0.00</td>\n",
              "      <td>0.00</td>\n",
              "      <td>0.00</td>\n",
              "      <td>15.82</td>\n",
              "      <td>0.67</td>\n",
              "      <td>50.00</td>\n",
              "      <td>...</td>\n",
              "      <td>0.00</td>\n",
              "      <td>0.00</td>\n",
              "      <td>0.00</td>\n",
              "      <td>0.00</td>\n",
              "      <td>0.00</td>\n",
              "      <td>0.00</td>\n",
              "      <td>-0.35</td>\n",
              "      <td>1.08</td>\n",
              "      <td>0.00</td>\n",
              "      <td>0.00</td>\n",
              "    </tr>\n",
              "    <tr>\n",
              "      <th>2</th>\n",
              "      <td>5.00</td>\n",
              "      <td>0.00</td>\n",
              "      <td>1.36</td>\n",
              "      <td>0.00</td>\n",
              "      <td>0.00</td>\n",
              "      <td>0.00</td>\n",
              "      <td>0.00</td>\n",
              "      <td>9.88</td>\n",
              "      <td>-1.12</td>\n",
              "      <td>46.00</td>\n",
              "      <td>...</td>\n",
              "      <td>0.00</td>\n",
              "      <td>0.00</td>\n",
              "      <td>0.00</td>\n",
              "      <td>0.00</td>\n",
              "      <td>0.00</td>\n",
              "      <td>0.00</td>\n",
              "      <td>-0.95</td>\n",
              "      <td>0.02</td>\n",
              "      <td>0.00</td>\n",
              "      <td>0.00</td>\n",
              "    </tr>\n",
              "    <tr>\n",
              "      <th>3</th>\n",
              "      <td>10.00</td>\n",
              "      <td>0.00</td>\n",
              "      <td>2.04</td>\n",
              "      <td>0.00</td>\n",
              "      <td>0.00</td>\n",
              "      <td>0.00</td>\n",
              "      <td>0.00</td>\n",
              "      <td>16.34</td>\n",
              "      <td>-0.96</td>\n",
              "      <td>56.00</td>\n",
              "      <td>...</td>\n",
              "      <td>0.00</td>\n",
              "      <td>0.00</td>\n",
              "      <td>0.00</td>\n",
              "      <td>0.00</td>\n",
              "      <td>0.00</td>\n",
              "      <td>0.00</td>\n",
              "      <td>-0.91</td>\n",
              "      <td>0.07</td>\n",
              "      <td>0.00</td>\n",
              "      <td>0.00</td>\n",
              "    </tr>\n",
              "    <tr>\n",
              "      <th>4</th>\n",
              "      <td>13.00</td>\n",
              "      <td>0.00</td>\n",
              "      <td>2.16</td>\n",
              "      <td>0.00</td>\n",
              "      <td>0.00</td>\n",
              "      <td>0.00</td>\n",
              "      <td>0.00</td>\n",
              "      <td>26.69</td>\n",
              "      <td>0.54</td>\n",
              "      <td>48.00</td>\n",
              "      <td>...</td>\n",
              "      <td>0.00</td>\n",
              "      <td>0.00</td>\n",
              "      <td>0.00</td>\n",
              "      <td>0.00</td>\n",
              "      <td>0.00</td>\n",
              "      <td>0.00</td>\n",
              "      <td>-1.29</td>\n",
              "      <td>-0.37</td>\n",
              "      <td>0.00</td>\n",
              "      <td>0.00</td>\n",
              "    </tr>\n",
              "    <tr>\n",
              "      <th>...</th>\n",
              "      <td>...</td>\n",
              "      <td>...</td>\n",
              "      <td>...</td>\n",
              "      <td>...</td>\n",
              "      <td>...</td>\n",
              "      <td>...</td>\n",
              "      <td>...</td>\n",
              "      <td>...</td>\n",
              "      <td>...</td>\n",
              "      <td>...</td>\n",
              "      <td>...</td>\n",
              "      <td>...</td>\n",
              "      <td>...</td>\n",
              "      <td>...</td>\n",
              "      <td>...</td>\n",
              "      <td>...</td>\n",
              "      <td>...</td>\n",
              "      <td>...</td>\n",
              "      <td>...</td>\n",
              "      <td>...</td>\n",
              "      <td>...</td>\n",
              "    </tr>\n",
              "    <tr>\n",
              "      <th>1175</th>\n",
              "      <td>12.00</td>\n",
              "      <td>0.00</td>\n",
              "      <td>2.03</td>\n",
              "      <td>0.00</td>\n",
              "      <td>0.00</td>\n",
              "      <td>0.00</td>\n",
              "      <td>0.00</td>\n",
              "      <td>16.59</td>\n",
              "      <td>1.14</td>\n",
              "      <td>66.00</td>\n",
              "      <td>...</td>\n",
              "      <td>0.00</td>\n",
              "      <td>0.00</td>\n",
              "      <td>0.00</td>\n",
              "      <td>0.00</td>\n",
              "      <td>0.00</td>\n",
              "      <td>0.00</td>\n",
              "      <td>-1.50</td>\n",
              "      <td>0.19</td>\n",
              "      <td>0.00</td>\n",
              "      <td>0.00</td>\n",
              "    </tr>\n",
              "    <tr>\n",
              "      <th>1176</th>\n",
              "      <td>7.00</td>\n",
              "      <td>0.00</td>\n",
              "      <td>1.23</td>\n",
              "      <td>0.00</td>\n",
              "      <td>0.00</td>\n",
              "      <td>0.00</td>\n",
              "      <td>0.00</td>\n",
              "      <td>11.49</td>\n",
              "      <td>1.43</td>\n",
              "      <td>50.00</td>\n",
              "      <td>...</td>\n",
              "      <td>0.00</td>\n",
              "      <td>0.00</td>\n",
              "      <td>0.00</td>\n",
              "      <td>0.00</td>\n",
              "      <td>0.00</td>\n",
              "      <td>0.00</td>\n",
              "      <td>-1.21</td>\n",
              "      <td>-0.46</td>\n",
              "      <td>0.00</td>\n",
              "      <td>0.00</td>\n",
              "    </tr>\n",
              "    <tr>\n",
              "      <th>1177</th>\n",
              "      <td>5.00</td>\n",
              "      <td>0.00</td>\n",
              "      <td>1.56</td>\n",
              "      <td>0.00</td>\n",
              "      <td>0.00</td>\n",
              "      <td>0.00</td>\n",
              "      <td>0.00</td>\n",
              "      <td>24.75</td>\n",
              "      <td>-2.92</td>\n",
              "      <td>56.00</td>\n",
              "      <td>...</td>\n",
              "      <td>0.00</td>\n",
              "      <td>0.00</td>\n",
              "      <td>0.00</td>\n",
              "      <td>0.00</td>\n",
              "      <td>0.00</td>\n",
              "      <td>0.00</td>\n",
              "      <td>-1.16</td>\n",
              "      <td>0.23</td>\n",
              "      <td>0.00</td>\n",
              "      <td>0.00</td>\n",
              "    </tr>\n",
              "    <tr>\n",
              "      <th>1178</th>\n",
              "      <td>14.00</td>\n",
              "      <td>0.00</td>\n",
              "      <td>2.29</td>\n",
              "      <td>0.00</td>\n",
              "      <td>0.00</td>\n",
              "      <td>0.00</td>\n",
              "      <td>0.00</td>\n",
              "      <td>17.13</td>\n",
              "      <td>2.04</td>\n",
              "      <td>72.00</td>\n",
              "      <td>...</td>\n",
              "      <td>0.00</td>\n",
              "      <td>0.00</td>\n",
              "      <td>0.00</td>\n",
              "      <td>0.00</td>\n",
              "      <td>0.00</td>\n",
              "      <td>0.00</td>\n",
              "      <td>-0.54</td>\n",
              "      <td>0.11</td>\n",
              "      <td>0.00</td>\n",
              "      <td>0.00</td>\n",
              "    </tr>\n",
              "    <tr>\n",
              "      <th>1179</th>\n",
              "      <td>7.00</td>\n",
              "      <td>0.00</td>\n",
              "      <td>1.34</td>\n",
              "      <td>0.00</td>\n",
              "      <td>0.00</td>\n",
              "      <td>0.00</td>\n",
              "      <td>0.00</td>\n",
              "      <td>18.63</td>\n",
              "      <td>-0.70</td>\n",
              "      <td>44.00</td>\n",
              "      <td>...</td>\n",
              "      <td>0.00</td>\n",
              "      <td>0.00</td>\n",
              "      <td>0.00</td>\n",
              "      <td>0.00</td>\n",
              "      <td>0.00</td>\n",
              "      <td>0.00</td>\n",
              "      <td>0.78</td>\n",
              "      <td>0.92</td>\n",
              "      <td>0.00</td>\n",
              "      <td>0.00</td>\n",
              "    </tr>\n",
              "  </tbody>\n",
              "</table>\n",
              "<p>1180 rows × 7980 columns</p>\n",
              "</div>"
            ],
            "text/plain": [
              "      channel-0 betti dim-1 max  channel-0 betti dim-1 mean  \\\n",
              "0                          6.00                        0.00   \n",
              "1                          9.00                        0.00   \n",
              "2                          5.00                        0.00   \n",
              "3                         10.00                        0.00   \n",
              "4                         13.00                        0.00   \n",
              "...                         ...                         ...   \n",
              "1175                      12.00                        0.00   \n",
              "1176                       7.00                        0.00   \n",
              "1177                       5.00                        0.00   \n",
              "1178                      14.00                        0.00   \n",
              "1179                       7.00                        0.00   \n",
              "\n",
              "      channel-0 betti dim-1 std  channel-0 betti dim-1 sum  \\\n",
              "0                          1.37                       0.00   \n",
              "1                          1.57                       0.00   \n",
              "2                          1.36                       0.00   \n",
              "3                          2.04                       0.00   \n",
              "4                          2.16                       0.00   \n",
              "...                         ...                        ...   \n",
              "1175                       2.03                       0.00   \n",
              "1176                       1.23                       0.00   \n",
              "1177                       1.56                       0.00   \n",
              "1178                       2.29                       0.00   \n",
              "1179                       1.34                       0.00   \n",
              "\n",
              "      channel-0 betti dim-1 percentile-25  channel-0 betti dim-1 median  \\\n",
              "0                                    0.00                          0.00   \n",
              "1                                    0.00                          0.00   \n",
              "2                                    0.00                          0.00   \n",
              "3                                    0.00                          0.00   \n",
              "4                                    0.00                          0.00   \n",
              "...                                   ...                           ...   \n",
              "1175                                 0.00                          0.00   \n",
              "1176                                 0.00                          0.00   \n",
              "1177                                 0.00                          0.00   \n",
              "1178                                 0.00                          0.00   \n",
              "1179                                 0.00                          0.00   \n",
              "\n",
              "      channel-0 betti dim-1 percentile-75  channel-0 betti dim-1 kurtosis  \\\n",
              "0                                    0.00                           11.68   \n",
              "1                                    0.00                           15.82   \n",
              "2                                    0.00                            9.88   \n",
              "3                                    0.00                           16.34   \n",
              "4                                    0.00                           26.69   \n",
              "...                                   ...                             ...   \n",
              "1175                                 0.00                           16.59   \n",
              "1176                                 0.00                           11.49   \n",
              "1177                                 0.00                           24.75   \n",
              "1178                                 0.00                           17.13   \n",
              "1179                                 0.00                           18.63   \n",
              "\n",
              "      channel-0 betti dim-1 skew  channel-0 betti dim-1 norm-1  ...  \\\n",
              "0                          -0.28                         44.00  ...   \n",
              "1                           0.67                         50.00  ...   \n",
              "2                          -1.12                         46.00  ...   \n",
              "3                          -0.96                         56.00  ...   \n",
              "4                           0.54                         48.00  ...   \n",
              "...                          ...                           ...  ...   \n",
              "1175                        1.14                         66.00  ...   \n",
              "1176                        1.43                         50.00  ...   \n",
              "1177                       -2.92                         56.00  ...   \n",
              "1178                        2.04                         72.00  ...   \n",
              "1179                       -0.70                         44.00  ...   \n",
              "\n",
              "      channel-37 bd2 dim-2 mean  channel-37 bd2 dim-2 std  \\\n",
              "0                          0.00                      0.00   \n",
              "1                          0.00                      0.00   \n",
              "2                          0.00                      0.00   \n",
              "3                          0.00                      0.00   \n",
              "4                          0.00                      0.00   \n",
              "...                         ...                       ...   \n",
              "1175                       0.00                      0.00   \n",
              "1176                       0.00                      0.00   \n",
              "1177                       0.00                      0.00   \n",
              "1178                       0.00                      0.00   \n",
              "1179                       0.00                      0.00   \n",
              "\n",
              "      channel-37 bd2 dim-2 sum  channel-37 bd2 dim-2 percentile-25  \\\n",
              "0                         0.00                                0.00   \n",
              "1                         0.00                                0.00   \n",
              "2                         0.00                                0.00   \n",
              "3                         0.00                                0.00   \n",
              "4                         0.00                                0.00   \n",
              "...                        ...                                 ...   \n",
              "1175                      0.00                                0.00   \n",
              "1176                      0.00                                0.00   \n",
              "1177                      0.00                                0.00   \n",
              "1178                      0.00                                0.00   \n",
              "1179                      0.00                                0.00   \n",
              "\n",
              "      channel-37 bd2 dim-2 median  channel-37 bd2 dim-2 percentile-75  \\\n",
              "0                            0.00                                0.00   \n",
              "1                            0.00                                0.00   \n",
              "2                            0.00                                0.00   \n",
              "3                            0.00                                0.00   \n",
              "4                            0.00                                0.00   \n",
              "...                           ...                                 ...   \n",
              "1175                         0.00                                0.00   \n",
              "1176                         0.00                                0.00   \n",
              "1177                         0.00                                0.00   \n",
              "1178                         0.00                                0.00   \n",
              "1179                         0.00                                0.00   \n",
              "\n",
              "      channel-37 bd2 dim-2 kurtosis  channel-37 bd2 dim-2 skew  \\\n",
              "0                              1.27                       0.99   \n",
              "1                             -0.35                       1.08   \n",
              "2                             -0.95                       0.02   \n",
              "3                             -0.91                       0.07   \n",
              "4                             -1.29                      -0.37   \n",
              "...                             ...                        ...   \n",
              "1175                          -1.50                       0.19   \n",
              "1176                          -1.21                      -0.46   \n",
              "1177                          -1.16                       0.23   \n",
              "1178                          -0.54                       0.11   \n",
              "1179                           0.78                       0.92   \n",
              "\n",
              "      channel-37 bd2 dim-2 norm-1  channel-37 bd2 dim-2 norm-2  \n",
              "0                            0.00                         0.00  \n",
              "1                            0.00                         0.00  \n",
              "2                            0.00                         0.00  \n",
              "3                            0.00                         0.00  \n",
              "4                            0.00                         0.00  \n",
              "...                           ...                          ...  \n",
              "1175                         0.00                         0.00  \n",
              "1176                         0.00                         0.00  \n",
              "1177                         0.00                         0.00  \n",
              "1178                         0.00                         0.00  \n",
              "1179                         0.00                         0.00  \n",
              "\n",
              "[1180 rows x 7980 columns]"
            ]
          },
          "execution_count": 55,
          "metadata": {},
          "output_type": "execute_result"
        }
      ],
      "source": [
        "n_channels = data.shape[1]\n",
        "channel_features_raw = FeatureCalculator().calc_features(channel_diagrams)\n",
        "columns = [ f\"channel-{i}{feature_name}\" for i in range(n_channels) for feature_name in channel_features_raw ]\n",
        "channel_features = pandas.concat([ channel_features_raw.iloc[i::n_channels, :].reset_index(drop = True) for i in range(n_channels) ], axis = 1)\n",
        "channel_features.columns = columns\n",
        "channel_features.to_feather(f\"{subj}/{exp}/channel_features.feather\")\n",
        "channel_features"
      ]
    },
    {
      "cell_type": "markdown",
      "metadata": {},
      "source": [
        "### PearsonDissimilarity"
      ]
    },
    {
      "cell_type": "markdown",
      "metadata": {},
      "source": [
        "#### TakensEmbedding & PearsonDissimilarity"
      ]
    },
    {
      "cell_type": "code",
      "execution_count": 56,
      "metadata": {},
      "outputs": [
        {
          "name": "stderr",
          "output_type": "stream",
          "text": [
            "100%|██████████| 1180/1180 [00:02<00:00, 520.32it/s]"
          ]
        },
        {
          "name": "stdout",
          "output_type": "stream",
          "text": [
            "(28320, 38, 38)\n"
          ]
        },
        {
          "name": "stderr",
          "output_type": "stream",
          "text": [
            "\n"
          ]
        }
      ],
      "source": [
        "dissim_matrixes = [ ]\n",
        "for epoch in tqdm.tqdm(data):\n",
        "    dissim_embedding = gtda.time_series.TakensEmbedding(\n",
        "        dimension = DISSIM_DIMENSION,\n",
        "        time_delay = DISSIM_TIME_DELAY,\n",
        "        stride = DISSIM_STRIDE,\n",
        "        flatten = False\n",
        "    )\n",
        "    dissim_windows = dissim_embedding.fit_transform(epoch).transpose(1, 2, 0)\n",
        "    \n",
        "    dissim = gtda.time_series.PearsonDissimilarity()\n",
        "    dissim_matrix = dissim.fit_transform(dissim_windows)\n",
        "    dissim_matrixes.append(dissim_matrix)\n",
        "\n",
        "    epoch_ts = numpy.expand_dims(epoch.transpose(1, 0), 0)\n",
        "    dissim_matrix = dissim.fit_transform(epoch_ts)\n",
        "    dissim_matrixes.append(dissim_matrix)\n",
        "\n",
        "dissim_matrixes = numpy.concatenate(dissim_matrixes, axis = 0)\n",
        "print(dissim_matrixes.shape)"
      ]
    },
    {
      "cell_type": "code",
      "execution_count": 57,
      "metadata": {},
      "outputs": [
        {
          "data": {
            "application/vnd.plotly.v1+json": {
              "config": {
                "plotlyServerURL": "https://plot.ly"
              },
              "data": [
                {
                  "type": "heatmap",
                  "z": [
                    [
                      0,
                      0.09100136037571643,
                      0.1503454485188927,
                      0.6636792163390601,
                      0.9656529710985697,
                      0.8954798142542941,
                      0.890720997302003,
                      0.6386860679400814,
                      0.7585673536863862,
                      0.815293808896667,
                      0.790324236169154,
                      0.833942906178388,
                      0.5979248132593836,
                      0.5904628114496926,
                      0.6902523113204909,
                      0.6443555259191852,
                      0.7945163430172801,
                      0.38531273907771457,
                      0.45385029560632817,
                      0.5161348302268505,
                      0.5822282267292229,
                      0.6244987215612723,
                      0.4204208268600223,
                      0.37220639035466496,
                      0.47968431963260083,
                      0.48941483821300147,
                      0.4891920612358698,
                      0.5512938379365727,
                      0.43699334102919485,
                      0.4613144674999533,
                      0.47814852138931513,
                      0.47026452697803617,
                      0.3361972705673929,
                      0.4687840904858588,
                      0.4759325225051372,
                      0.47879064854870507,
                      0.5424226663683371,
                      0.5373252629684021
                    ],
                    [
                      0.09100136037571638,
                      0,
                      0.048872262967589286,
                      0.735605725963064,
                      0.9268124442457366,
                      0.9235797663108678,
                      0.9106498528587463,
                      0.6428195591982055,
                      0.7311526006513315,
                      0.7566769036504652,
                      0.8241970128548415,
                      0.8475075557648836,
                      0.5785032817240291,
                      0.618475136013293,
                      0.6448685557225436,
                      0.6680968782067026,
                      0.8325343671006689,
                      0.36411510718271567,
                      0.41400530570634153,
                      0.49369916011360615,
                      0.6344963064338777,
                      0.655602918938897,
                      0.3474031869564955,
                      0.3369962225894235,
                      0.44847396043628834,
                      0.5472624013108816,
                      0.5467106809427509,
                      0.5031200534243861,
                      0.4226646774925686,
                      0.4304849510387414,
                      0.532176038059101,
                      0.5916270328241248,
                      0.35289037576027216,
                      0.39946151597285706,
                      0.41389094257148706,
                      0.4664729366478568,
                      0.7065655177236264,
                      0.7035329725989584
                    ],
                    [
                      0.1503454485188927,
                      0.04887226296758934,
                      0,
                      0.6699993786099789,
                      0.8812925001498371,
                      0.8940824365814917,
                      0.9052282769445354,
                      0.5072992361540437,
                      0.6432061142486537,
                      0.7256040923693039,
                      0.8202464593430352,
                      0.8576032451948046,
                      0.5482623029124755,
                      0.6905972426879878,
                      0.6181077540929892,
                      0.681786951666818,
                      0.838591638324617,
                      0.3979960675851369,
                      0.47365298885219287,
                      0.49352712147615496,
                      0.6556687002911266,
                      0.692040345539108,
                      0.37908992436503647,
                      0.447390921533764,
                      0.4765762029120245,
                      0.5304933957500851,
                      0.5088586937631316,
                      0.5327387183217703,
                      0.45593888040870834,
                      0.4436616618847864,
                      0.4956030071376462,
                      0.5270824266028133,
                      0.31818736492960653,
                      0.41428251790661885,
                      0.42815267741473395,
                      0.44657902882044676,
                      0.6787554793440949,
                      0.6613237919082041
                    ],
                    [
                      0.6636792163390601,
                      0.735605725963064,
                      0.6699993786099789,
                      0,
                      0.24926153341286034,
                      0.1779667486354667,
                      0.19950297020276825,
                      0.14935699411262743,
                      0.058139360173210086,
                      0.20714695913218728,
                      0.20349917285782454,
                      0.23958697524015116,
                      0.376069272257166,
                      0.3483363979359384,
                      0.2503850251577743,
                      0.263115419388765,
                      0.2681847862320983,
                      0.6756771688337568,
                      0.6215563214114845,
                      0.4210780511974728,
                      0.3852476255568149,
                      0.5641473867161741,
                      0.7677542421976488,
                      0.6865592854442896,
                      0.663230714639023,
                      0.6597847827463912,
                      0.7871428205566895,
                      0.5051533965351602,
                      0.6922193982905653,
                      0.7797861424449899,
                      0.7336161660969283,
                      0.6803619426264929,
                      0.8421984878936192,
                      0.756512705485211,
                      0.7415932930166145,
                      0.7498613639588858,
                      0.40433645674354735,
                      0.37700655520563536
                    ],
                    [
                      0.9656529710985697,
                      0.9268124442457366,
                      0.8812925001498371,
                      0.2492615334128604,
                      0,
                      0.05130698723000021,
                      0.05025655303899684,
                      0.27602830604549056,
                      0.1630209515288677,
                      0.11802955102090984,
                      0.14150695074930913,
                      0.08791483148975471,
                      0.3461321711602375,
                      0.36612674932646283,
                      0.24935933355779832,
                      0.2686087600546477,
                      0.13382410056099464,
                      0.5930533718285687,
                      0.6259954604313407,
                      0.45784274421336635,
                      0.3719773549841675,
                      0.36210231819692107,
                      0.6228414024462884,
                      0.6894980672939822,
                      0.6131725687836577,
                      0.5935677113547908,
                      0.6052192561209159,
                      0.4360551466679738,
                      0.6465734688580616,
                      0.6759048589448855,
                      0.6385906627655065,
                      0.6001375288846474,
                      0.7061384267698595,
                      0.654131793205831,
                      0.6499014892854529,
                      0.6277648818335331,
                      0.41180463651351784,
                      0.4099249302111924
                    ],
                    [
                      0.8954798142542941,
                      0.9235797663108678,
                      0.8940824365814917,
                      0.1779667486354667,
                      0.05130698723000021,
                      0,
                      0.05472924395909956,
                      0.3184092603570426,
                      0.15936826341957616,
                      0.06259336702690776,
                      0.03485137478070344,
                      0.051840840421465084,
                      0.43983116251892523,
                      0.3006131667855883,
                      0.13778568889892312,
                      0.13161836789646103,
                      0.061774781127829914,
                      0.6908225420786018,
                      0.5819178162020066,
                      0.3050874388967235,
                      0.2024649681936041,
                      0.29901496187594967,
                      0.7714373217389985,
                      0.7591414158409562,
                      0.5296372175364471,
                      0.5017925741306042,
                      0.6085218251951091,
                      0.5631589676669851,
                      0.6117811610216517,
                      0.7247004741226779,
                      0.6566622135515359,
                      0.6104450885059624,
                      0.8049222622139871,
                      0.7869655359782426,
                      0.7763471859022923,
                      0.7666459620861008,
                      0.48491870301384987,
                      0.4793261396545807
                    ],
                    [
                      0.890720997302003,
                      0.9106498528587464,
                      0.9052282769445354,
                      0.19950297020276825,
                      0.05025655303899679,
                      0.05472924395909956,
                      0,
                      0.3477020887091773,
                      0.17963528100032017,
                      0.12498429656753635,
                      0.10548434816884233,
                      0.031052154570329393,
                      0.25265459804628676,
                      0.3523666253780232,
                      0.25267359463544303,
                      0.23143885089619204,
                      0.07088830137472657,
                      0.5085347778124126,
                      0.638115627342183,
                      0.48841508009555384,
                      0.3476187428637446,
                      0.3096982227281152,
                      0.610948446107858,
                      0.656002372034728,
                      0.6797681223994418,
                      0.6635744464042589,
                      0.6803047872946669,
                      0.3962004465533999,
                      0.7176467335852116,
                      0.7501968674549864,
                      0.7284263038536292,
                      0.6753625250100715,
                      0.7546161087262626,
                      0.71464007260632,
                      0.7038956368401439,
                      0.690106254656869,
                      0.4251370279570779,
                      0.41984009967242925
                    ],
                    [
                      0.6386860679400814,
                      0.6428195591982054,
                      0.5072992361540437,
                      0.14935699411262743,
                      0.27602830604549056,
                      0.3184092603570426,
                      0.3477020887091773,
                      1.1102230246251565e-16,
                      0.10344640972317604,
                      0.3041589960449736,
                      0.3901994566279074,
                      0.38975530665992797,
                      0.38022594947726,
                      0.48677182528419266,
                      0.35825145436768147,
                      0.42122932408740144,
                      0.4301017074302423,
                      0.6251742587734721,
                      0.7322773674634706,
                      0.5064477193241205,
                      0.5409433897972663,
                      0.6488359079269636,
                      0.6683526048565607,
                      0.736513955411727,
                      0.7246298908830557,
                      0.6695045587299508,
                      0.6685275830982396,
                      0.4532687563165403,
                      0.7095120436993817,
                      0.7353426158564447,
                      0.6438749675656282,
                      0.5473817545201123,
                      0.610437576579235,
                      0.6617504331976618,
                      0.6664188497282832,
                      0.5894157322767465,
                      0.3020610151426131,
                      0.26736084126248855
                    ],
                    [
                      0.7585673536863863,
                      0.7311526006513315,
                      0.6432061142486536,
                      0.05813936017321003,
                      0.1630209515288677,
                      0.15936826341957616,
                      0.17963528100032017,
                      0.10344640972317609,
                      0,
                      0.13891941829434823,
                      0.2111621392197795,
                      0.21543044130084577,
                      0.3533493992909059,
                      0.30982631801090865,
                      0.20852022075914722,
                      0.27155593568749303,
                      0.2745463494695033,
                      0.6558900802353071,
                      0.5810923508005743,
                      0.40073696251308466,
                      0.41134418908805676,
                      0.6111391581221293,
                      0.7315327305596372,
                      0.7590759744184117,
                      0.6374200922055011,
                      0.6814129640389708,
                      0.8198752658390892,
                      0.5305876596957303,
                      0.647113223460021,
                      0.7577447077399069,
                      0.7537924574057984,
                      0.7298295148767214,
                      0.8392297025090871,
                      0.7294669806277212,
                      0.7247051971510581,
                      0.7372664330281011,
                      0.4838176800651023,
                      0.4533509417221218
                    ],
                    [
                      0.815293808896667,
                      0.7566769036504652,
                      0.7256040923693039,
                      0.20714695913218728,
                      0.11802955102090978,
                      0.06259336702690782,
                      0.1249842965675364,
                      0.3041589960449736,
                      0.13891941829434823,
                      0,
                      0.038458902949957574,
                      0.06941003331372952,
                      0.4250750129250756,
                      0.33440849869436623,
                      0.03509930515763232,
                      0.061174823497457675,
                      0.07438814972036445,
                      0.656973418999111,
                      0.5933688206482765,
                      0.19563990643114698,
                      0.15690547098695712,
                      0.2923452637814571,
                      0.7718638648986286,
                      0.8037341153003881,
                      0.5377792533278393,
                      0.5673213127817465,
                      0.696709798172223,
                      0.5776153388870454,
                      0.6504080771887631,
                      0.821433404180874,
                      0.7887623434433508,
                      0.7509577576622453,
                      0.8126579637593192,
                      0.8804681864896873,
                      0.8782148291845859,
                      0.8860114978324913,
                      0.6546105483373368,
                      0.6377863259971046
                    ],
                    [
                      0.790324236169154,
                      0.8241970128548415,
                      0.8202464593430353,
                      0.20349917285782454,
                      0.14150695074930908,
                      0.03485137478070344,
                      0.10548434816884239,
                      0.3901994566279074,
                      0.2111621392197795,
                      0.03845890294995763,
                      0,
                      0.05044940816386623,
                      0.46454617683758714,
                      0.3280240132032527,
                      0.06291740736823404,
                      0.03877026714460091,
                      0.029946773409515626,
                      0.6768231346333714,
                      0.5877271672858362,
                      0.1969495412843632,
                      0.09945867605864994,
                      0.21578855377046835,
                      0.800484970874094,
                      0.7710396091301852,
                      0.5099882051867559,
                      0.4935643241427806,
                      0.6225828013325128,
                      0.5997349948119135,
                      0.6345808530619944,
                      0.7990748916067354,
                      0.7283122602466554,
                      0.6725334403136991,
                      0.8069683700451249,
                      0.893475146240641,
                      0.8831282432189986,
                      0.8841453134011662,
                      0.5945915226511203,
                      0.5860487256515333
                    ],
                    [
                      0.833942906178388,
                      0.8475075557648836,
                      0.8576032451948046,
                      0.23958697524015116,
                      0.08791483148975471,
                      0.051840840421465084,
                      0.031052154570329393,
                      0.38975530665992797,
                      0.21543044130084582,
                      0.06941003331372952,
                      0.05044940816386623,
                      0,
                      0.2870032582986152,
                      0.34671243676571306,
                      0.1600559444763534,
                      0.12594154134840496,
                      0.017136739722753036,
                      0.4993497543890345,
                      0.6502296056704249,
                      0.3651933204686817,
                      0.23173932798695596,
                      0.22582685511038048,
                      0.6488649701224486,
                      0.7174322681786672,
                      0.646632322196884,
                      0.6372262382962541,
                      0.6843492422326132,
                      0.45792333210704916,
                      0.7166138144245847,
                      0.8159425439271544,
                      0.7885879782733338,
                      0.7247008995991031,
                      0.7582978017745379,
                      0.8213055939871388,
                      0.8153956271035899,
                      0.8062694993592816,
                      0.532116401266815,
                      0.5263210663373767
                    ],
                    [
                      0.5979248132593836,
                      0.5785032817240291,
                      0.5482623029124755,
                      0.376069272257166,
                      0.3461321711602375,
                      0.4398311625189252,
                      0.25265459804628676,
                      0.38022594947725996,
                      0.3533493992909059,
                      0.4250750129250756,
                      0.46454617683758714,
                      0.2870032582986153,
                      0,
                      0.6446996811899519,
                      0.5516150236915847,
                      0.5246294230520253,
                      0.3450412795051915,
                      0.1156338177162205,
                      0.7867131430955189,
                      0.7764898672201059,
                      0.6933644695980479,
                      0.4491305831727809,
                      0.23137674003717695,
                      0.45646899834026583,
                      0.9277747819535849,
                      0.9238184511329381,
                      0.7477669111201791,
                      0.1628961364222971,
                      0.865055937365375,
                      0.7594935844240905,
                      0.8095524288690052,
                      0.7378168773846188,
                      0.45356471763975037,
                      0.5457583023452619,
                      0.5458372544994221,
                      0.534982664352722,
                      0.40502420896692665,
                      0.3937955222954175
                    ],
                    [
                      0.5904628114496926,
                      0.618475136013293,
                      0.6905972426879878,
                      0.3483363979359384,
                      0.36612674932646283,
                      0.3006131667855883,
                      0.3523666253780232,
                      0.48677182528419266,
                      0.3098263180109087,
                      0.3344084986943663,
                      0.3280240132032527,
                      0.34671243676571306,
                      0.6446996811899519,
                      0,
                      0.34479042573557284,
                      0.3647319681011858,
                      0.40211156241197926,
                      0.7025587346734075,
                      0.17611332996760942,
                      0.338893404759021,
                      0.3344234801195676,
                      0.6615025161806516,
                      0.7740882580112636,
                      0.6913404305315344,
                      0.266527253596997,
                      0.3842161332984459,
                      0.6946408490028121,
                      0.7884370175009658,
                      0.22783421500960782,
                      0.42192190090707415,
                      0.5142914653132772,
                      0.6104566290287425,
                      0.9008730543530508,
                      0.5540570234662614,
                      0.5550846616325531,
                      0.6157339024266262,
                      0.6205405005657063,
                      0.6181595616659277
                    ],
                    [
                      0.6902523113204909,
                      0.6448685557225436,
                      0.6181077540929892,
                      0.2503850251577743,
                      0.24935933355779832,
                      0.13778568889892312,
                      0.25267359463544303,
                      0.35825145436768147,
                      0.20852022075914722,
                      0.03509930515763232,
                      0.06291740736823409,
                      0.1600559444763534,
                      0.5516150236915847,
                      0.34479042573557284,
                      0,
                      0.028608328193124366,
                      0.13027808320963657,
                      0.7290446995590414,
                      0.5347345318356854,
                      0.07922114841003758,
                      0.07522320702199775,
                      0.28498973435371333,
                      0.8450956267840746,
                      0.828018127522192,
                      0.4341203218330981,
                      0.46442582217413575,
                      0.6421899600527757,
                      0.6853970047173764,
                      0.5809309290492308,
                      0.7996578353960632,
                      0.7479485566963531,
                      0.7164525760565554,
                      0.80093349749922,
                      0.9247936756925503,
                      0.9228274990928149,
                      0.9330962886708296,
                      0.7398389446244062,
                      0.7192905474043114
                    ],
                    [
                      0.6443555259191852,
                      0.6680968782067026,
                      0.6817869516668181,
                      0.263115419388765,
                      0.2686087600546477,
                      0.13161836789646103,
                      0.23143885089619204,
                      0.42122932408740144,
                      0.27155593568749303,
                      0.06117482349745773,
                      0.03877026714460091,
                      0.12594154134840496,
                      0.5246294230520253,
                      0.3647319681011858,
                      0.02860832819312442,
                      0,
                      0.08350968246100327,
                      0.6693738001152569,
                      0.5908879875813523,
                      0.10276064869853269,
                      0.0506430744809791,
                      0.2066970808624432,
                      0.8086352802794544,
                      0.7720546608852157,
                      0.4847600097278884,
                      0.4876206260221507,
                      0.6328375432054231,
                      0.6408105336871724,
                      0.6275026661917728,
                      0.8439632776336223,
                      0.7752119050472396,
                      0.7147355281173347,
                      0.7668960531198166,
                      0.9585703604135554,
                      0.9540731892357861,
                      0.9630069813528928,
                      0.6835195775621554,
                      0.6720848668980914
                    ],
                    [
                      0.7945163430172801,
                      0.8325343671006687,
                      0.838591638324617,
                      0.2681847862320983,
                      0.13382410056099459,
                      0.061774781127829914,
                      0.07088830137472657,
                      0.4301017074302423,
                      0.2745463494695033,
                      0.0743881497203645,
                      0.029946773409515626,
                      0.017136739722753036,
                      0.3450412795051915,
                      0.40211156241197926,
                      0.13027808320963657,
                      0.08350968246100327,
                      0,
                      0.5357476027862647,
                      0.6699529063002136,
                      0.30048731664370004,
                      0.15845611860717246,
                      0.1450660426717187,
                      0.6871420323625818,
                      0.7329246949909671,
                      0.6108872676778947,
                      0.5656418089230881,
                      0.6007237968246737,
                      0.4927673146991744,
                      0.7202060086441504,
                      0.8263788020183577,
                      0.7543777972906482,
                      0.668854245802328,
                      0.7150313346871323,
                      0.8702623225397431,
                      0.8622724950108946,
                      0.8350530649421608,
                      0.5478472699159387,
                      0.541809859168155
                    ],
                    [
                      0.38531273907771457,
                      0.36411510718271567,
                      0.3979960675851369,
                      0.6756771688337568,
                      0.5930533718285687,
                      0.6908225420786019,
                      0.5085347778124126,
                      0.6251742587734721,
                      0.6558900802353071,
                      0.656973418999111,
                      0.6768231346333714,
                      0.4993497543890345,
                      0.11563381771622044,
                      0.7025587346734075,
                      0.7290446995590414,
                      0.6693738001152569,
                      0.5357476027862647,
                      0,
                      0.6838712385875418,
                      0.8039488733662008,
                      0.7570266509122381,
                      0.45913133648939874,
                      0.07408488157025023,
                      0.31116169136270344,
                      0.8073547211365945,
                      0.8232295647163799,
                      0.6155403777112586,
                      0.2010153642972009,
                      0.7071783194595666,
                      0.5849687634349643,
                      0.6810896797070847,
                      0.6524792267226082,
                      0.2655564263200943,
                      0.39602571788858393,
                      0.4050894576110873,
                      0.42002642668436146,
                      0.48058328297221137,
                      0.48980958053178214
                    ],
                    [
                      0.45385029560632817,
                      0.41400530570634153,
                      0.47365298885219287,
                      0.6215563214114845,
                      0.6259954604313407,
                      0.5819178162020066,
                      0.638115627342183,
                      0.7322773674634706,
                      0.5810923508005743,
                      0.5933688206482765,
                      0.5877271672858362,
                      0.6502296056704249,
                      0.7867131430955189,
                      0.17611332996760942,
                      0.5347345318356854,
                      0.5908879875813523,
                      0.6699529063002136,
                      0.6838712385875418,
                      5.551115123125783e-17,
                      0.3840347811541901,
                      0.45480963578716666,
                      0.717489676645217,
                      0.621501192374946,
                      0.5149221791864681,
                      0.07533102776218509,
                      0.21428133803171934,
                      0.47576890067487904,
                      0.8367219075012045,
                      0.04295754072097213,
                      0.14232202116167347,
                      0.27171567613402964,
                      0.44967043349282454,
                      0.6914669655382852,
                      0.3107194269470861,
                      0.30816137246016584,
                      0.4023405132394765,
                      0.741602241454737,
                      0.7489339092574782
                    ],
                    [
                      0.5161348302268505,
                      0.49369916011360615,
                      0.49352712147615496,
                      0.4210780511974728,
                      0.45784274421336635,
                      0.3050874388967235,
                      0.48841508009555384,
                      0.5064477193241205,
                      0.40073696251308466,
                      0.19563990643114698,
                      0.19694954128436315,
                      0.3651933204686817,
                      0.7764898672201059,
                      0.33889340475902097,
                      0.07922114841003758,
                      0.10276064869853269,
                      0.3004873166437001,
                      0.8039488733662008,
                      0.3840347811541901,
                      0,
                      0.04878557484116075,
                      0.3338434522410228,
                      0.8650578502234233,
                      0.7835216343051523,
                      0.2316358669167929,
                      0.2669019841971304,
                      0.49567149616394496,
                      0.8394515075536026,
                      0.37759951785774637,
                      0.6262597114358641,
                      0.5729834174434647,
                      0.5827199487103828,
                      0.717274377339785,
                      0.8409127019993103,
                      0.8417387787209895,
                      0.8669694446932192,
                      0.8086404392964897,
                      0.7975173125222998
                    ],
                    [
                      0.5822282267292229,
                      0.6344963064338777,
                      0.6556687002911266,
                      0.3852476255568149,
                      0.37197735498416756,
                      0.2024649681936041,
                      0.3476187428637446,
                      0.5409433897972663,
                      0.41134418908805676,
                      0.15690547098695706,
                      0.09945867605864994,
                      0.23173932798695596,
                      0.6933644695980479,
                      0.3344234801195676,
                      0.07522320702199775,
                      0.050643074480979045,
                      0.15845611860717246,
                      0.7570266509122381,
                      0.45480963578716666,
                      0.04878557484116075,
                      0,
                      0.20014391054163222,
                      0.8686689699172208,
                      0.7949735662875126,
                      0.3036030220778059,
                      0.2803483851791046,
                      0.46247617286841886,
                      0.7829365043396748,
                      0.4611598509435475,
                      0.6835107057783708,
                      0.5884528847493016,
                      0.5509900011228998,
                      0.7208487046319761,
                      0.8942784198979445,
                      0.8892870384002747,
                      0.8774797594555672,
                      0.7166945507112596,
                      0.70868361828821
                    ],
                    [
                      0.6244987215612723,
                      0.655602918938897,
                      0.692040345539108,
                      0.5641473867161741,
                      0.36210231819692107,
                      0.29901496187594967,
                      0.3096982227281152,
                      0.6488359079269636,
                      0.6111391581221293,
                      0.2923452637814571,
                      0.2157885537704683,
                      0.22582685511038048,
                      0.4491305831727809,
                      0.6615025161806516,
                      0.28498973435371333,
                      0.2066970808624432,
                      0.14506604267171863,
                      0.45913133648939874,
                      0.717489676645217,
                      0.3338434522410228,
                      0.20014391054163222,
                      1.1102230246251565e-16,
                      0.5362075320281889,
                      0.550525220624867,
                      0.5652863625674606,
                      0.4566348963936179,
                      0.3312335082708313,
                      0.41293580366797555,
                      0.7145086390424813,
                      0.7198379040166049,
                      0.600494579774198,
                      0.4948730015467458,
                      0.41423018503715,
                      0.7662993058224676,
                      0.7614146883801309,
                      0.6975625849553482,
                      0.5420669911224418,
                      0.551919174918095
                    ],
                    [
                      0.4204208268600223,
                      0.3474031869564955,
                      0.37908992436503647,
                      0.7677542421976488,
                      0.6228414024462884,
                      0.7714373217389985,
                      0.610948446107858,
                      0.6683526048565607,
                      0.7315327305596372,
                      0.7718638648986286,
                      0.800484970874094,
                      0.6488649701224486,
                      0.23137674003717695,
                      0.7740882580112636,
                      0.8450956267840746,
                      0.8086352802794544,
                      0.6871420323625818,
                      0.07408488157025017,
                      0.621501192374946,
                      0.8650578502234233,
                      0.8686689699172209,
                      0.5362075320281889,
                      0,
                      0.1588846224387071,
                      0.7220641529663537,
                      0.7508432362445303,
                      0.5051852419335104,
                      0.16965491300816665,
                      0.6115245883821632,
                      0.41601107153125244,
                      0.5258833847339586,
                      0.5482927753754735,
                      0.17823456645028374,
                      0.21186576543408164,
                      0.2182560273230369,
                      0.26245068239166996,
                      0.4323533831474979,
                      0.4574844845403304
                    ],
                    [
                      0.37220639035466496,
                      0.3369962225894236,
                      0.447390921533764,
                      0.6865592854442896,
                      0.6894980672939823,
                      0.7591414158409562,
                      0.656002372034728,
                      0.736513955411727,
                      0.7590759744184117,
                      0.8037341153003881,
                      0.7710396091301852,
                      0.7174322681786672,
                      0.45646899834026583,
                      0.6913404305315344,
                      0.8280181275221918,
                      0.7720546608852158,
                      0.7329246949909671,
                      0.31116169136270344,
                      0.5149221791864681,
                      0.7835216343051523,
                      0.7949735662875125,
                      0.5505252206248671,
                      0.1588846224387071,
                      0,
                      0.5905814241008398,
                      0.6467518566571206,
                      0.48721831901845547,
                      0.18687369305647605,
                      0.5353296850946183,
                      0.3533505722626006,
                      0.4586614939750922,
                      0.5252532589916287,
                      0.32185781816533554,
                      0.19286210474566717,
                      0.18646188729873153,
                      0.277597168750535,
                      0.39766909245665527,
                      0.43629620009207815
                    ],
                    [
                      0.47968431963260083,
                      0.44847396043628834,
                      0.4765762029120245,
                      0.663230714639023,
                      0.6131725687836577,
                      0.5296372175364471,
                      0.6797681223994418,
                      0.7246298908830557,
                      0.6374200922055011,
                      0.5377792533278393,
                      0.5099882051867559,
                      0.646632322196884,
                      0.927774781953585,
                      0.266527253596997,
                      0.4341203218330981,
                      0.4847600097278884,
                      0.6108872676778947,
                      0.8073547211365943,
                      0.07533102776218503,
                      0.2316358669167929,
                      0.3036030220778059,
                      0.5652863625674606,
                      0.7220641529663537,
                      0.5905814241008398,
                      0,
                      0.06388805207092269,
                      0.30162728604971645,
                      0.9066053371471636,
                      0.04449513333407035,
                      0.16477305375863044,
                      0.1945284424797069,
                      0.3284330994452785,
                      0.6173667914357099,
                      0.40457134337453315,
                      0.4028449259497849,
                      0.45683183916368697,
                      0.746564184646241,
                      0.7571607964596013
                    ],
                    [
                      0.48941483821300147,
                      0.5472624013108816,
                      0.5304933957500851,
                      0.6597847827463912,
                      0.5935677113547908,
                      0.5017925741306042,
                      0.6635744464042589,
                      0.6695045587299507,
                      0.6814129640389708,
                      0.5673213127817465,
                      0.4935643241427806,
                      0.6372262382962541,
                      0.9238184511329381,
                      0.3842161332984459,
                      0.4644258221741357,
                      0.4876206260221507,
                      0.5656418089230881,
                      0.8232295647163799,
                      0.21428133803171934,
                      0.2669019841971304,
                      0.2803483851791046,
                      0.4566348963936179,
                      0.7508432362445302,
                      0.6467518566571206,
                      0.06388805207092269,
                      0,
                      0.13637419978140564,
                      0.8793926453550358,
                      0.1305437241169951,
                      0.19706027749622762,
                      0.1049397487666433,
                      0.14963540324391733,
                      0.4890305500045866,
                      0.4479282007759515,
                      0.4438233333603036,
                      0.4054722775104531,
                      0.5817937353680737,
                      0.5877825790195708
                    ],
                    [
                      0.4891920612358698,
                      0.5467106809427509,
                      0.5088586937631316,
                      0.7871428205566895,
                      0.6052192561209159,
                      0.6085218251951091,
                      0.6803047872946669,
                      0.6685275830982396,
                      0.8198752658390892,
                      0.696709798172223,
                      0.6225828013325128,
                      0.6843492422326132,
                      0.7477669111201791,
                      0.6946408490028121,
                      0.6421899600527757,
                      0.6328375432054231,
                      0.6007237968246737,
                      0.6155403777112586,
                      0.47576890067487904,
                      0.49567149616394496,
                      0.46247617286841886,
                      0.3312335082708313,
                      0.5051852419335104,
                      0.48721831901845547,
                      0.30162728604971645,
                      0.13637419978140564,
                      1.1102230246251565e-16,
                      0.5879118570834183,
                      0.3578925353991854,
                      0.24679057782436659,
                      0.09219395502102179,
                      0.050546437746600226,
                      0.18852130739404938,
                      0.3621044248201387,
                      0.3607063493642019,
                      0.24559731937856238,
                      0.3805410607282873,
                      0.3932069240483619
                    ],
                    [
                      0.5512938379365727,
                      0.5031200534243861,
                      0.5327387183217703,
                      0.5051533965351602,
                      0.4360551466679738,
                      0.5631589676669851,
                      0.3962004465533999,
                      0.4532687563165403,
                      0.5305876596957303,
                      0.5776153388870454,
                      0.5997349948119135,
                      0.45792333210704916,
                      0.16289613642229717,
                      0.7884370175009658,
                      0.6853970047173764,
                      0.6408105336871724,
                      0.4927673146991744,
                      0.20101536429720085,
                      0.8367219075012045,
                      0.8394515075536026,
                      0.7829365043396748,
                      0.41293580366797555,
                      0.16965491300816665,
                      0.1868736930564761,
                      0.9066053371471636,
                      0.8793926453550358,
                      0.5879118570834183,
                      0,
                      0.8742512919587022,
                      0.6620726294191273,
                      0.6841746425791309,
                      0.6195299771316949,
                      0.31548473586401465,
                      0.40032680091066786,
                      0.4000187464842371,
                      0.3855938547546617,
                      0.26933858409145406,
                      0.28257802320332814
                    ],
                    [
                      0.43699334102919485,
                      0.4226646774925686,
                      0.45593888040870834,
                      0.6922193982905653,
                      0.6465734688580616,
                      0.6117811610216517,
                      0.7176467335852116,
                      0.7095120436993817,
                      0.6471132234600209,
                      0.6504080771887631,
                      0.6345808530619944,
                      0.7166138144245847,
                      0.865055937365375,
                      0.22783421500960788,
                      0.5809309290492308,
                      0.6275026661917728,
                      0.7202060086441504,
                      0.7071783194595666,
                      0.042957540720972076,
                      0.37759951785774637,
                      0.4611598509435475,
                      0.7145086390424813,
                      0.6115245883821632,
                      0.5353296850946183,
                      0.04449513333407035,
                      0.1305437241169951,
                      0.3578925353991854,
                      0.8742512919587022,
                      0,
                      0.09030144863571599,
                      0.16988998470231248,
                      0.3245040831948548,
                      0.5830463837719441,
                      0.2784200555311842,
                      0.2807101844057255,
                      0.348595993947893,
                      0.6745573107648956,
                      0.6888036692417622
                    ],
                    [
                      0.4613144674999533,
                      0.4304849510387414,
                      0.4436616618847864,
                      0.7797861424449899,
                      0.6759048589448855,
                      0.7247004741226779,
                      0.7501968674549864,
                      0.7353426158564447,
                      0.7577447077399069,
                      0.821433404180874,
                      0.7990748916067354,
                      0.8159425439271544,
                      0.7594935844240905,
                      0.42192190090707415,
                      0.7996578353960632,
                      0.8439632776336224,
                      0.8263788020183577,
                      0.5849687634349643,
                      0.14232202116167347,
                      0.6262597114358641,
                      0.6835107057783708,
                      0.7198379040166047,
                      0.4160110715312525,
                      0.3533505722626006,
                      0.16477305375863044,
                      0.19706027749622762,
                      0.24679057782436664,
                      0.6620726294191273,
                      0.09030144863571599,
                      0,
                      0.06950251113970296,
                      0.2092873431907898,
                      0.3987089121655388,
                      0.08152494511281932,
                      0.0806019921216436,
                      0.11684720095422962,
                      0.5101804367882762,
                      0.5328174725622735
                    ],
                    [
                      0.47814852138931513,
                      0.532176038059101,
                      0.4956030071376462,
                      0.7336161660969283,
                      0.6385906627655065,
                      0.6566622135515359,
                      0.7284263038536292,
                      0.6438749675656283,
                      0.7537924574057984,
                      0.7887623434433508,
                      0.7283122602466554,
                      0.7885879782733338,
                      0.8095524288690052,
                      0.5142914653132772,
                      0.7479485566963531,
                      0.7752119050472396,
                      0.7543777972906481,
                      0.6810896797070847,
                      0.27171567613402964,
                      0.5729834174434647,
                      0.5884528847493016,
                      0.600494579774198,
                      0.5258833847339586,
                      0.4586614939750922,
                      0.1945284424797069,
                      0.1049397487666433,
                      0.09219395502102179,
                      0.6841746425791309,
                      0.16988998470231254,
                      0.0695025111397029,
                      5.551115123125783e-17,
                      0.04724474391509892,
                      0.3167538713543301,
                      0.19283481393686924,
                      0.18925815049292583,
                      0.13262354567789048,
                      0.3769128820593335,
                      0.39041681752360174
                    ],
                    [
                      0.47026452697803617,
                      0.5916270328241248,
                      0.5270824266028133,
                      0.6803619426264929,
                      0.6001375288846474,
                      0.6104450885059624,
                      0.6753625250100715,
                      0.5473817545201123,
                      0.7298295148767213,
                      0.7509577576622453,
                      0.6725334403136991,
                      0.7247008995991031,
                      0.7378168773846188,
                      0.6104566290287425,
                      0.7164525760565554,
                      0.7147355281173347,
                      0.668854245802328,
                      0.6524792267226082,
                      0.44967043349282454,
                      0.5827199487103828,
                      0.5509900011228998,
                      0.4948730015467458,
                      0.5482927753754735,
                      0.5252532589916287,
                      0.32843309944527854,
                      0.14963540324391733,
                      0.050546437746600226,
                      0.6195299771316949,
                      0.3245040831948548,
                      0.2092873431907898,
                      0.047244743915098864,
                      0,
                      0.23962083364655784,
                      0.3121842091578688,
                      0.3093479932986365,
                      0.17782188340708832,
                      0.25588956440517924,
                      0.260102453255394
                    ],
                    [
                      0.3361972705673929,
                      0.35289037576027216,
                      0.3181873649296065,
                      0.8421984878936192,
                      0.7061384267698595,
                      0.8049222622139871,
                      0.7546161087262626,
                      0.6104375765792351,
                      0.8392297025090871,
                      0.8126579637593192,
                      0.8069683700451248,
                      0.7582978017745379,
                      0.45356471763975037,
                      0.9008730543530507,
                      0.8009334974992202,
                      0.7668960531198166,
                      0.7150313346871323,
                      0.2655564263200943,
                      0.6914669655382852,
                      0.717274377339785,
                      0.7208487046319761,
                      0.41423018503715,
                      0.17823456645028374,
                      0.32185781816533554,
                      0.6173667914357098,
                      0.4890305500045866,
                      0.18852130739404932,
                      0.3154847358640147,
                      0.5830463837719441,
                      0.3987089121655388,
                      0.3167538713543301,
                      0.23962083364655784,
                      5.551115123125783e-17,
                      0.3166423809306133,
                      0.3260585513755653,
                      0.23342709017300806,
                      0.3306517333261755,
                      0.342304012440086
                    ],
                    [
                      0.4687840904858588,
                      0.39946151597285706,
                      0.41428251790661885,
                      0.756512705485211,
                      0.654131793205831,
                      0.7869655359782426,
                      0.71464007260632,
                      0.6617504331976618,
                      0.7294669806277212,
                      0.8804681864896873,
                      0.8934751462406408,
                      0.8213055939871388,
                      0.5457583023452619,
                      0.5540570234662614,
                      0.9247936756925503,
                      0.9585703604135554,
                      0.8702623225397431,
                      0.39602571788858393,
                      0.3107194269470861,
                      0.8409127019993103,
                      0.8942784198979445,
                      0.7662993058224676,
                      0.21186576543408164,
                      0.19286210474566717,
                      0.40457134337453315,
                      0.4479282007759515,
                      0.3621044248201387,
                      0.40032680091066786,
                      0.2784200555311842,
                      0.08152494511281932,
                      0.19283481393686924,
                      0.3121842091578688,
                      0.3166423809306133,
                      0,
                      0.0010996892734099761,
                      0.047486644987871196,
                      0.3928682662209814,
                      0.41933387718360393
                    ],
                    [
                      0.4759325225051372,
                      0.41389094257148706,
                      0.42815267741473395,
                      0.7415932930166145,
                      0.6499014892854529,
                      0.7763471859022923,
                      0.7038956368401439,
                      0.6664188497282832,
                      0.7247051971510581,
                      0.8782148291845859,
                      0.8831282432189986,
                      0.8153956271035899,
                      0.5458372544994221,
                      0.5550846616325531,
                      0.922827499092815,
                      0.9540731892357861,
                      0.8622724950108946,
                      0.4050894576110873,
                      0.30816137246016584,
                      0.8417387787209895,
                      0.8892870384002747,
                      0.7614146883801309,
                      0.21825602732303684,
                      0.1864618872987316,
                      0.4028449259497849,
                      0.4438233333603036,
                      0.3607063493642019,
                      0.4000187464842371,
                      0.2807101844057255,
                      0.0806019921216436,
                      0.18925815049292588,
                      0.3093479932986365,
                      0.3260585513755653,
                      0.0010996892734099761,
                      0,
                      0.04956653226053015,
                      0.3882756893953465,
                      0.41504185872421406
                    ],
                    [
                      0.47879064854870507,
                      0.4664729366478568,
                      0.44657902882044676,
                      0.7498613639588858,
                      0.6277648818335331,
                      0.7666459620861008,
                      0.690106254656869,
                      0.5894157322767465,
                      0.7372664330281011,
                      0.8860114978324914,
                      0.8841453134011661,
                      0.8062694993592817,
                      0.534982664352722,
                      0.6157339024266262,
                      0.9330962886708296,
                      0.9630069813528928,
                      0.8350530649421608,
                      0.42002642668436146,
                      0.4023405132394765,
                      0.8669694446932192,
                      0.8774797594555672,
                      0.6975625849553482,
                      0.2624506823916699,
                      0.277597168750535,
                      0.45683183916368697,
                      0.4054722775104531,
                      0.24559731937856238,
                      0.3855938547546617,
                      0.348595993947893,
                      0.11684720095422962,
                      0.13262354567789042,
                      0.17782188340708832,
                      0.23342709017300806,
                      0.047486644987871196,
                      0.04956653226053026,
                      0,
                      0.26631775942040214,
                      0.28133996483076773
                    ],
                    [
                      0.5424226663683371,
                      0.7065655177236263,
                      0.6787554793440949,
                      0.40433645674354735,
                      0.41180463651351784,
                      0.48491870301384987,
                      0.4251370279570779,
                      0.3020610151426131,
                      0.4838176800651023,
                      0.6546105483373368,
                      0.5945915226511203,
                      0.532116401266815,
                      0.40502420896692665,
                      0.6205405005657063,
                      0.7398389446244062,
                      0.6835195775621554,
                      0.5478472699159387,
                      0.48058328297221137,
                      0.741602241454737,
                      0.8086404392964897,
                      0.7166945507112596,
                      0.5420669911224418,
                      0.4323533831474979,
                      0.39766909245665527,
                      0.746564184646241,
                      0.5817937353680737,
                      0.3805410607282873,
                      0.26933858409145406,
                      0.6745573107648954,
                      0.5101804367882762,
                      0.3769128820593335,
                      0.2558895644051793,
                      0.3306517333261755,
                      0.3928682662209814,
                      0.3882756893953465,
                      0.26631775942040214,
                      0,
                      0.00325315538523141
                    ],
                    [
                      0.5373252629684021,
                      0.7035329725989584,
                      0.6613237919082041,
                      0.37700655520563536,
                      0.4099249302111924,
                      0.4793261396545807,
                      0.41984009967242925,
                      0.2673608412624885,
                      0.4533509417221218,
                      0.6377863259971046,
                      0.5860487256515333,
                      0.5263210663373767,
                      0.3937955222954175,
                      0.6181595616659277,
                      0.7192905474043115,
                      0.6720848668980914,
                      0.541809859168155,
                      0.48980958053178214,
                      0.7489339092574782,
                      0.7975173125222997,
                      0.70868361828821,
                      0.5519191749180951,
                      0.4574844845403304,
                      0.43629620009207815,
                      0.7571607964596012,
                      0.5877825790195708,
                      0.3932069240483619,
                      0.28257802320332814,
                      0.6888036692417622,
                      0.5328174725622735,
                      0.39041681752360174,
                      0.260102453255394,
                      0.342304012440086,
                      0.41933387718360393,
                      0.41504185872421406,
                      0.28133996483076773,
                      0.0032531553852313544,
                      1.1102230246251565e-16
                    ]
                  ]
                }
              ],
              "layout": {
                "plot_bgcolor": "white",
                "template": {
                  "data": {
                    "bar": [
                      {
                        "error_x": {
                          "color": "#2a3f5f"
                        },
                        "error_y": {
                          "color": "#2a3f5f"
                        },
                        "marker": {
                          "line": {
                            "color": "#E5ECF6",
                            "width": 0.5
                          },
                          "pattern": {
                            "fillmode": "overlay",
                            "size": 10,
                            "solidity": 0.2
                          }
                        },
                        "type": "bar"
                      }
                    ],
                    "barpolar": [
                      {
                        "marker": {
                          "line": {
                            "color": "#E5ECF6",
                            "width": 0.5
                          },
                          "pattern": {
                            "fillmode": "overlay",
                            "size": 10,
                            "solidity": 0.2
                          }
                        },
                        "type": "barpolar"
                      }
                    ],
                    "carpet": [
                      {
                        "aaxis": {
                          "endlinecolor": "#2a3f5f",
                          "gridcolor": "white",
                          "linecolor": "white",
                          "minorgridcolor": "white",
                          "startlinecolor": "#2a3f5f"
                        },
                        "baxis": {
                          "endlinecolor": "#2a3f5f",
                          "gridcolor": "white",
                          "linecolor": "white",
                          "minorgridcolor": "white",
                          "startlinecolor": "#2a3f5f"
                        },
                        "type": "carpet"
                      }
                    ],
                    "choropleth": [
                      {
                        "colorbar": {
                          "outlinewidth": 0,
                          "ticks": ""
                        },
                        "type": "choropleth"
                      }
                    ],
                    "contour": [
                      {
                        "colorbar": {
                          "outlinewidth": 0,
                          "ticks": ""
                        },
                        "colorscale": [
                          [
                            0,
                            "#0d0887"
                          ],
                          [
                            0.1111111111111111,
                            "#46039f"
                          ],
                          [
                            0.2222222222222222,
                            "#7201a8"
                          ],
                          [
                            0.3333333333333333,
                            "#9c179e"
                          ],
                          [
                            0.4444444444444444,
                            "#bd3786"
                          ],
                          [
                            0.5555555555555556,
                            "#d8576b"
                          ],
                          [
                            0.6666666666666666,
                            "#ed7953"
                          ],
                          [
                            0.7777777777777778,
                            "#fb9f3a"
                          ],
                          [
                            0.8888888888888888,
                            "#fdca26"
                          ],
                          [
                            1,
                            "#f0f921"
                          ]
                        ],
                        "type": "contour"
                      }
                    ],
                    "contourcarpet": [
                      {
                        "colorbar": {
                          "outlinewidth": 0,
                          "ticks": ""
                        },
                        "type": "contourcarpet"
                      }
                    ],
                    "heatmap": [
                      {
                        "colorbar": {
                          "outlinewidth": 0,
                          "ticks": ""
                        },
                        "colorscale": [
                          [
                            0,
                            "#0d0887"
                          ],
                          [
                            0.1111111111111111,
                            "#46039f"
                          ],
                          [
                            0.2222222222222222,
                            "#7201a8"
                          ],
                          [
                            0.3333333333333333,
                            "#9c179e"
                          ],
                          [
                            0.4444444444444444,
                            "#bd3786"
                          ],
                          [
                            0.5555555555555556,
                            "#d8576b"
                          ],
                          [
                            0.6666666666666666,
                            "#ed7953"
                          ],
                          [
                            0.7777777777777778,
                            "#fb9f3a"
                          ],
                          [
                            0.8888888888888888,
                            "#fdca26"
                          ],
                          [
                            1,
                            "#f0f921"
                          ]
                        ],
                        "type": "heatmap"
                      }
                    ],
                    "heatmapgl": [
                      {
                        "colorbar": {
                          "outlinewidth": 0,
                          "ticks": ""
                        },
                        "colorscale": [
                          [
                            0,
                            "#0d0887"
                          ],
                          [
                            0.1111111111111111,
                            "#46039f"
                          ],
                          [
                            0.2222222222222222,
                            "#7201a8"
                          ],
                          [
                            0.3333333333333333,
                            "#9c179e"
                          ],
                          [
                            0.4444444444444444,
                            "#bd3786"
                          ],
                          [
                            0.5555555555555556,
                            "#d8576b"
                          ],
                          [
                            0.6666666666666666,
                            "#ed7953"
                          ],
                          [
                            0.7777777777777778,
                            "#fb9f3a"
                          ],
                          [
                            0.8888888888888888,
                            "#fdca26"
                          ],
                          [
                            1,
                            "#f0f921"
                          ]
                        ],
                        "type": "heatmapgl"
                      }
                    ],
                    "histogram": [
                      {
                        "marker": {
                          "pattern": {
                            "fillmode": "overlay",
                            "size": 10,
                            "solidity": 0.2
                          }
                        },
                        "type": "histogram"
                      }
                    ],
                    "histogram2d": [
                      {
                        "colorbar": {
                          "outlinewidth": 0,
                          "ticks": ""
                        },
                        "colorscale": [
                          [
                            0,
                            "#0d0887"
                          ],
                          [
                            0.1111111111111111,
                            "#46039f"
                          ],
                          [
                            0.2222222222222222,
                            "#7201a8"
                          ],
                          [
                            0.3333333333333333,
                            "#9c179e"
                          ],
                          [
                            0.4444444444444444,
                            "#bd3786"
                          ],
                          [
                            0.5555555555555556,
                            "#d8576b"
                          ],
                          [
                            0.6666666666666666,
                            "#ed7953"
                          ],
                          [
                            0.7777777777777778,
                            "#fb9f3a"
                          ],
                          [
                            0.8888888888888888,
                            "#fdca26"
                          ],
                          [
                            1,
                            "#f0f921"
                          ]
                        ],
                        "type": "histogram2d"
                      }
                    ],
                    "histogram2dcontour": [
                      {
                        "colorbar": {
                          "outlinewidth": 0,
                          "ticks": ""
                        },
                        "colorscale": [
                          [
                            0,
                            "#0d0887"
                          ],
                          [
                            0.1111111111111111,
                            "#46039f"
                          ],
                          [
                            0.2222222222222222,
                            "#7201a8"
                          ],
                          [
                            0.3333333333333333,
                            "#9c179e"
                          ],
                          [
                            0.4444444444444444,
                            "#bd3786"
                          ],
                          [
                            0.5555555555555556,
                            "#d8576b"
                          ],
                          [
                            0.6666666666666666,
                            "#ed7953"
                          ],
                          [
                            0.7777777777777778,
                            "#fb9f3a"
                          ],
                          [
                            0.8888888888888888,
                            "#fdca26"
                          ],
                          [
                            1,
                            "#f0f921"
                          ]
                        ],
                        "type": "histogram2dcontour"
                      }
                    ],
                    "mesh3d": [
                      {
                        "colorbar": {
                          "outlinewidth": 0,
                          "ticks": ""
                        },
                        "type": "mesh3d"
                      }
                    ],
                    "parcoords": [
                      {
                        "line": {
                          "colorbar": {
                            "outlinewidth": 0,
                            "ticks": ""
                          }
                        },
                        "type": "parcoords"
                      }
                    ],
                    "pie": [
                      {
                        "automargin": true,
                        "type": "pie"
                      }
                    ],
                    "scatter": [
                      {
                        "fillpattern": {
                          "fillmode": "overlay",
                          "size": 10,
                          "solidity": 0.2
                        },
                        "type": "scatter"
                      }
                    ],
                    "scatter3d": [
                      {
                        "line": {
                          "colorbar": {
                            "outlinewidth": 0,
                            "ticks": ""
                          }
                        },
                        "marker": {
                          "colorbar": {
                            "outlinewidth": 0,
                            "ticks": ""
                          }
                        },
                        "type": "scatter3d"
                      }
                    ],
                    "scattercarpet": [
                      {
                        "marker": {
                          "colorbar": {
                            "outlinewidth": 0,
                            "ticks": ""
                          }
                        },
                        "type": "scattercarpet"
                      }
                    ],
                    "scattergeo": [
                      {
                        "marker": {
                          "colorbar": {
                            "outlinewidth": 0,
                            "ticks": ""
                          }
                        },
                        "type": "scattergeo"
                      }
                    ],
                    "scattergl": [
                      {
                        "marker": {
                          "colorbar": {
                            "outlinewidth": 0,
                            "ticks": ""
                          }
                        },
                        "type": "scattergl"
                      }
                    ],
                    "scattermapbox": [
                      {
                        "marker": {
                          "colorbar": {
                            "outlinewidth": 0,
                            "ticks": ""
                          }
                        },
                        "type": "scattermapbox"
                      }
                    ],
                    "scatterpolar": [
                      {
                        "marker": {
                          "colorbar": {
                            "outlinewidth": 0,
                            "ticks": ""
                          }
                        },
                        "type": "scatterpolar"
                      }
                    ],
                    "scatterpolargl": [
                      {
                        "marker": {
                          "colorbar": {
                            "outlinewidth": 0,
                            "ticks": ""
                          }
                        },
                        "type": "scatterpolargl"
                      }
                    ],
                    "scatterternary": [
                      {
                        "marker": {
                          "colorbar": {
                            "outlinewidth": 0,
                            "ticks": ""
                          }
                        },
                        "type": "scatterternary"
                      }
                    ],
                    "surface": [
                      {
                        "colorbar": {
                          "outlinewidth": 0,
                          "ticks": ""
                        },
                        "colorscale": [
                          [
                            0,
                            "#0d0887"
                          ],
                          [
                            0.1111111111111111,
                            "#46039f"
                          ],
                          [
                            0.2222222222222222,
                            "#7201a8"
                          ],
                          [
                            0.3333333333333333,
                            "#9c179e"
                          ],
                          [
                            0.4444444444444444,
                            "#bd3786"
                          ],
                          [
                            0.5555555555555556,
                            "#d8576b"
                          ],
                          [
                            0.6666666666666666,
                            "#ed7953"
                          ],
                          [
                            0.7777777777777778,
                            "#fb9f3a"
                          ],
                          [
                            0.8888888888888888,
                            "#fdca26"
                          ],
                          [
                            1,
                            "#f0f921"
                          ]
                        ],
                        "type": "surface"
                      }
                    ],
                    "table": [
                      {
                        "cells": {
                          "fill": {
                            "color": "#EBF0F8"
                          },
                          "line": {
                            "color": "white"
                          }
                        },
                        "header": {
                          "fill": {
                            "color": "#C8D4E3"
                          },
                          "line": {
                            "color": "white"
                          }
                        },
                        "type": "table"
                      }
                    ]
                  },
                  "layout": {
                    "annotationdefaults": {
                      "arrowcolor": "#2a3f5f",
                      "arrowhead": 0,
                      "arrowwidth": 1
                    },
                    "autotypenumbers": "strict",
                    "coloraxis": {
                      "colorbar": {
                        "outlinewidth": 0,
                        "ticks": ""
                      }
                    },
                    "colorscale": {
                      "diverging": [
                        [
                          0,
                          "#8e0152"
                        ],
                        [
                          0.1,
                          "#c51b7d"
                        ],
                        [
                          0.2,
                          "#de77ae"
                        ],
                        [
                          0.3,
                          "#f1b6da"
                        ],
                        [
                          0.4,
                          "#fde0ef"
                        ],
                        [
                          0.5,
                          "#f7f7f7"
                        ],
                        [
                          0.6,
                          "#e6f5d0"
                        ],
                        [
                          0.7,
                          "#b8e186"
                        ],
                        [
                          0.8,
                          "#7fbc41"
                        ],
                        [
                          0.9,
                          "#4d9221"
                        ],
                        [
                          1,
                          "#276419"
                        ]
                      ],
                      "sequential": [
                        [
                          0,
                          "#0d0887"
                        ],
                        [
                          0.1111111111111111,
                          "#46039f"
                        ],
                        [
                          0.2222222222222222,
                          "#7201a8"
                        ],
                        [
                          0.3333333333333333,
                          "#9c179e"
                        ],
                        [
                          0.4444444444444444,
                          "#bd3786"
                        ],
                        [
                          0.5555555555555556,
                          "#d8576b"
                        ],
                        [
                          0.6666666666666666,
                          "#ed7953"
                        ],
                        [
                          0.7777777777777778,
                          "#fb9f3a"
                        ],
                        [
                          0.8888888888888888,
                          "#fdca26"
                        ],
                        [
                          1,
                          "#f0f921"
                        ]
                      ],
                      "sequentialminus": [
                        [
                          0,
                          "#0d0887"
                        ],
                        [
                          0.1111111111111111,
                          "#46039f"
                        ],
                        [
                          0.2222222222222222,
                          "#7201a8"
                        ],
                        [
                          0.3333333333333333,
                          "#9c179e"
                        ],
                        [
                          0.4444444444444444,
                          "#bd3786"
                        ],
                        [
                          0.5555555555555556,
                          "#d8576b"
                        ],
                        [
                          0.6666666666666666,
                          "#ed7953"
                        ],
                        [
                          0.7777777777777778,
                          "#fb9f3a"
                        ],
                        [
                          0.8888888888888888,
                          "#fdca26"
                        ],
                        [
                          1,
                          "#f0f921"
                        ]
                      ]
                    },
                    "colorway": [
                      "#636efa",
                      "#EF553B",
                      "#00cc96",
                      "#ab63fa",
                      "#FFA15A",
                      "#19d3f3",
                      "#FF6692",
                      "#B6E880",
                      "#FF97FF",
                      "#FECB52"
                    ],
                    "font": {
                      "color": "#2a3f5f"
                    },
                    "geo": {
                      "bgcolor": "white",
                      "lakecolor": "white",
                      "landcolor": "#E5ECF6",
                      "showlakes": true,
                      "showland": true,
                      "subunitcolor": "white"
                    },
                    "hoverlabel": {
                      "align": "left"
                    },
                    "hovermode": "closest",
                    "mapbox": {
                      "style": "light"
                    },
                    "paper_bgcolor": "white",
                    "plot_bgcolor": "#E5ECF6",
                    "polar": {
                      "angularaxis": {
                        "gridcolor": "white",
                        "linecolor": "white",
                        "ticks": ""
                      },
                      "bgcolor": "#E5ECF6",
                      "radialaxis": {
                        "gridcolor": "white",
                        "linecolor": "white",
                        "ticks": ""
                      }
                    },
                    "scene": {
                      "xaxis": {
                        "backgroundcolor": "#E5ECF6",
                        "gridcolor": "white",
                        "gridwidth": 2,
                        "linecolor": "white",
                        "showbackground": true,
                        "ticks": "",
                        "zerolinecolor": "white"
                      },
                      "yaxis": {
                        "backgroundcolor": "#E5ECF6",
                        "gridcolor": "white",
                        "gridwidth": 2,
                        "linecolor": "white",
                        "showbackground": true,
                        "ticks": "",
                        "zerolinecolor": "white"
                      },
                      "zaxis": {
                        "backgroundcolor": "#E5ECF6",
                        "gridcolor": "white",
                        "gridwidth": 2,
                        "linecolor": "white",
                        "showbackground": true,
                        "ticks": "",
                        "zerolinecolor": "white"
                      }
                    },
                    "shapedefaults": {
                      "line": {
                        "color": "#2a3f5f"
                      }
                    },
                    "ternary": {
                      "aaxis": {
                        "gridcolor": "white",
                        "linecolor": "white",
                        "ticks": ""
                      },
                      "baxis": {
                        "gridcolor": "white",
                        "linecolor": "white",
                        "ticks": ""
                      },
                      "bgcolor": "#E5ECF6",
                      "caxis": {
                        "gridcolor": "white",
                        "linecolor": "white",
                        "ticks": ""
                      }
                    },
                    "title": {
                      "x": 0.05
                    },
                    "xaxis": {
                      "automargin": true,
                      "gridcolor": "white",
                      "linecolor": "white",
                      "ticks": "",
                      "title": {
                        "standoff": 15
                      },
                      "zerolinecolor": "white",
                      "zerolinewidth": 2
                    },
                    "yaxis": {
                      "automargin": true,
                      "gridcolor": "white",
                      "linecolor": "white",
                      "ticks": "",
                      "title": {
                        "standoff": 15
                      },
                      "zerolinecolor": "white",
                      "zerolinewidth": 2
                    }
                  }
                },
                "xaxis": {
                  "constrain": "domain",
                  "scaleanchor": "y"
                },
                "yaxis": {
                  "autorange": "reversed",
                  "constrain": "domain"
                }
              }
            }
          },
          "metadata": {},
          "output_type": "display_data"
        }
      ],
      "source": [
        "dissim_matrix_plot = gtda.plotting.plot_heatmap(dissim_matrixes[print_obj], colorscale = None, plotly_params = { 'autocolorscale': True })\n",
        "display(dissim_matrix_plot)\n",
        "dissim_matrix_plot.write_image(file = f\"{subj}/{exp}/dissim_matrix.svg\", format = \"svg\")"
      ]
    },
    {
      "cell_type": "markdown",
      "metadata": {},
      "source": [
        "#### VietorisRipsPersistence"
      ]
    },
    {
      "cell_type": "code",
      "execution_count": 58,
      "metadata": {},
      "outputs": [
        {
          "name": "stdout",
          "output_type": "stream",
          "text": [
            "(28320, 61, 3)\n"
          ]
        }
      ],
      "source": [
        "dissim_persistence = gtda.homology.VietorisRipsPersistence(metric = \"precomputed\", homology_dimensions = DISSIM_HOMOLOGY_DIMENSIONS, n_jobs = -1)\n",
        "dissim_diagrams = dissim_persistence.fit_transform(dissim_matrixes)\n",
        "numpy.save(f\"{subj}/{exp}/dissim_diagrams.npy\", dissim_diagrams)\n",
        "print(dissim_diagrams.shape)"
      ]
    },
    {
      "cell_type": "code",
      "execution_count": 59,
      "metadata": {},
      "outputs": [
        {
          "data": {
            "application/vnd.plotly.v1+json": {
              "config": {
                "plotlyServerURL": "https://plot.ly"
              },
              "data": [
                {
                  "hoverinfo": "none",
                  "line": {
                    "color": "black",
                    "dash": "dash",
                    "width": 1
                  },
                  "mode": "lines",
                  "showlegend": false,
                  "type": "scatter",
                  "x": [
                    0.025494496077299117,
                    0.7158345256745815
                  ],
                  "y": [
                    0.025494496077299117,
                    0.7158345256745815
                  ]
                },
                {
                  "hoverinfo": "text",
                  "hovertext": [
                    "(0.3369962275028229, 0.35289037227630615)",
                    "(0.33123350143432617, 0.41423019766807556)",
                    "(0.3006131649017334, 0.3344234824180603)",
                    "(0.26933857798576355, 0.33065173029899597)",
                    "(0.2673608362674713, 0.39379552006721497)",
                    "(0.2526546120643616, 0.45663490891456604)",
                    "(0.23342709243297577, 0.23962083458900452)",
                    "(0.18852131068706512, 0.2624506950378418)",
                    "(0.16965490579605103, 0.20101536810398102)",
                    "(0.10493975132703781, 0.16988998651504517)",
                    "(0.051306989043951035, 0.054729245603084564)",
                    "(0.03877026587724686, 0.061174824833869934)"
                  ],
                  "mode": "markers",
                  "name": "H1",
                  "type": "scatter",
                  "x": [
                    0.3369962275028229,
                    0.33123350143432617,
                    0.3006131649017334,
                    0.26933857798576355,
                    0.2673608362674713,
                    0.2526546120643616,
                    0.23342709243297577,
                    0.18852131068706512,
                    0.16965490579605103,
                    0.10493975132703781,
                    0.051306989043951035,
                    0.03877026587724686
                  ],
                  "y": [
                    0.35289037227630615,
                    0.41423019766807556,
                    0.3344234824180603,
                    0.33065173029899597,
                    0.39379552006721497,
                    0.45663490891456604,
                    0.23962083458900452,
                    0.2624506950378418,
                    0.20101536810398102,
                    0.16988998651504517,
                    0.054729245603084564,
                    0.061174824833869934
                  ]
                },
                {
                  "hoverinfo": "text",
                  "hovertext": [
                    "(0.5509899854660034, 0.5827199220657349)",
                    "(0.5473817586898804, 0.5894157290458679)",
                    "(0.5327387452125549, 0.6001375317573547)"
                  ],
                  "mode": "markers",
                  "name": "H2",
                  "type": "scatter",
                  "x": [
                    0.5509899854660034,
                    0.5473817586898804,
                    0.5327387452125549
                  ],
                  "y": [
                    0.5827199220657349,
                    0.5894157290458679,
                    0.6001375317573547
                  ]
                },
                {
                  "hoverinfo": "text",
                  "hovertext": [
                    "(0.6787554621696472, 0.681412935256958)",
                    "(0.6635744571685791, 0.6753625273704529)",
                    "(0.6443555355072021, 0.6488358974456787)"
                  ],
                  "mode": "markers",
                  "name": "H3",
                  "type": "scatter",
                  "x": [
                    0.6787554621696472,
                    0.6635744571685791,
                    0.6443555355072021
                  ],
                  "y": [
                    0.681412935256958,
                    0.6753625273704529,
                    0.6488358974456787
                  ]
                },
                {
                  "hoverinfo": "text",
                  "hovertext": [
                    "(0.6838712096214294, 0.7025587558746338)"
                  ],
                  "mode": "markers",
                  "name": "H4",
                  "type": "scatter",
                  "x": [
                    0.6838712096214294
                  ],
                  "y": [
                    0.7025587558746338
                  ]
                },
                {
                  "hoverinfo": "text",
                  "hovertext": [],
                  "mode": "markers",
                  "name": "H5",
                  "type": "scatter",
                  "x": [],
                  "y": []
                }
              ],
              "layout": {
                "height": 500,
                "plot_bgcolor": "white",
                "template": {
                  "data": {
                    "bar": [
                      {
                        "error_x": {
                          "color": "#2a3f5f"
                        },
                        "error_y": {
                          "color": "#2a3f5f"
                        },
                        "marker": {
                          "line": {
                            "color": "#E5ECF6",
                            "width": 0.5
                          },
                          "pattern": {
                            "fillmode": "overlay",
                            "size": 10,
                            "solidity": 0.2
                          }
                        },
                        "type": "bar"
                      }
                    ],
                    "barpolar": [
                      {
                        "marker": {
                          "line": {
                            "color": "#E5ECF6",
                            "width": 0.5
                          },
                          "pattern": {
                            "fillmode": "overlay",
                            "size": 10,
                            "solidity": 0.2
                          }
                        },
                        "type": "barpolar"
                      }
                    ],
                    "carpet": [
                      {
                        "aaxis": {
                          "endlinecolor": "#2a3f5f",
                          "gridcolor": "white",
                          "linecolor": "white",
                          "minorgridcolor": "white",
                          "startlinecolor": "#2a3f5f"
                        },
                        "baxis": {
                          "endlinecolor": "#2a3f5f",
                          "gridcolor": "white",
                          "linecolor": "white",
                          "minorgridcolor": "white",
                          "startlinecolor": "#2a3f5f"
                        },
                        "type": "carpet"
                      }
                    ],
                    "choropleth": [
                      {
                        "colorbar": {
                          "outlinewidth": 0,
                          "ticks": ""
                        },
                        "type": "choropleth"
                      }
                    ],
                    "contour": [
                      {
                        "colorbar": {
                          "outlinewidth": 0,
                          "ticks": ""
                        },
                        "colorscale": [
                          [
                            0,
                            "#0d0887"
                          ],
                          [
                            0.1111111111111111,
                            "#46039f"
                          ],
                          [
                            0.2222222222222222,
                            "#7201a8"
                          ],
                          [
                            0.3333333333333333,
                            "#9c179e"
                          ],
                          [
                            0.4444444444444444,
                            "#bd3786"
                          ],
                          [
                            0.5555555555555556,
                            "#d8576b"
                          ],
                          [
                            0.6666666666666666,
                            "#ed7953"
                          ],
                          [
                            0.7777777777777778,
                            "#fb9f3a"
                          ],
                          [
                            0.8888888888888888,
                            "#fdca26"
                          ],
                          [
                            1,
                            "#f0f921"
                          ]
                        ],
                        "type": "contour"
                      }
                    ],
                    "contourcarpet": [
                      {
                        "colorbar": {
                          "outlinewidth": 0,
                          "ticks": ""
                        },
                        "type": "contourcarpet"
                      }
                    ],
                    "heatmap": [
                      {
                        "colorbar": {
                          "outlinewidth": 0,
                          "ticks": ""
                        },
                        "colorscale": [
                          [
                            0,
                            "#0d0887"
                          ],
                          [
                            0.1111111111111111,
                            "#46039f"
                          ],
                          [
                            0.2222222222222222,
                            "#7201a8"
                          ],
                          [
                            0.3333333333333333,
                            "#9c179e"
                          ],
                          [
                            0.4444444444444444,
                            "#bd3786"
                          ],
                          [
                            0.5555555555555556,
                            "#d8576b"
                          ],
                          [
                            0.6666666666666666,
                            "#ed7953"
                          ],
                          [
                            0.7777777777777778,
                            "#fb9f3a"
                          ],
                          [
                            0.8888888888888888,
                            "#fdca26"
                          ],
                          [
                            1,
                            "#f0f921"
                          ]
                        ],
                        "type": "heatmap"
                      }
                    ],
                    "heatmapgl": [
                      {
                        "colorbar": {
                          "outlinewidth": 0,
                          "ticks": ""
                        },
                        "colorscale": [
                          [
                            0,
                            "#0d0887"
                          ],
                          [
                            0.1111111111111111,
                            "#46039f"
                          ],
                          [
                            0.2222222222222222,
                            "#7201a8"
                          ],
                          [
                            0.3333333333333333,
                            "#9c179e"
                          ],
                          [
                            0.4444444444444444,
                            "#bd3786"
                          ],
                          [
                            0.5555555555555556,
                            "#d8576b"
                          ],
                          [
                            0.6666666666666666,
                            "#ed7953"
                          ],
                          [
                            0.7777777777777778,
                            "#fb9f3a"
                          ],
                          [
                            0.8888888888888888,
                            "#fdca26"
                          ],
                          [
                            1,
                            "#f0f921"
                          ]
                        ],
                        "type": "heatmapgl"
                      }
                    ],
                    "histogram": [
                      {
                        "marker": {
                          "pattern": {
                            "fillmode": "overlay",
                            "size": 10,
                            "solidity": 0.2
                          }
                        },
                        "type": "histogram"
                      }
                    ],
                    "histogram2d": [
                      {
                        "colorbar": {
                          "outlinewidth": 0,
                          "ticks": ""
                        },
                        "colorscale": [
                          [
                            0,
                            "#0d0887"
                          ],
                          [
                            0.1111111111111111,
                            "#46039f"
                          ],
                          [
                            0.2222222222222222,
                            "#7201a8"
                          ],
                          [
                            0.3333333333333333,
                            "#9c179e"
                          ],
                          [
                            0.4444444444444444,
                            "#bd3786"
                          ],
                          [
                            0.5555555555555556,
                            "#d8576b"
                          ],
                          [
                            0.6666666666666666,
                            "#ed7953"
                          ],
                          [
                            0.7777777777777778,
                            "#fb9f3a"
                          ],
                          [
                            0.8888888888888888,
                            "#fdca26"
                          ],
                          [
                            1,
                            "#f0f921"
                          ]
                        ],
                        "type": "histogram2d"
                      }
                    ],
                    "histogram2dcontour": [
                      {
                        "colorbar": {
                          "outlinewidth": 0,
                          "ticks": ""
                        },
                        "colorscale": [
                          [
                            0,
                            "#0d0887"
                          ],
                          [
                            0.1111111111111111,
                            "#46039f"
                          ],
                          [
                            0.2222222222222222,
                            "#7201a8"
                          ],
                          [
                            0.3333333333333333,
                            "#9c179e"
                          ],
                          [
                            0.4444444444444444,
                            "#bd3786"
                          ],
                          [
                            0.5555555555555556,
                            "#d8576b"
                          ],
                          [
                            0.6666666666666666,
                            "#ed7953"
                          ],
                          [
                            0.7777777777777778,
                            "#fb9f3a"
                          ],
                          [
                            0.8888888888888888,
                            "#fdca26"
                          ],
                          [
                            1,
                            "#f0f921"
                          ]
                        ],
                        "type": "histogram2dcontour"
                      }
                    ],
                    "mesh3d": [
                      {
                        "colorbar": {
                          "outlinewidth": 0,
                          "ticks": ""
                        },
                        "type": "mesh3d"
                      }
                    ],
                    "parcoords": [
                      {
                        "line": {
                          "colorbar": {
                            "outlinewidth": 0,
                            "ticks": ""
                          }
                        },
                        "type": "parcoords"
                      }
                    ],
                    "pie": [
                      {
                        "automargin": true,
                        "type": "pie"
                      }
                    ],
                    "scatter": [
                      {
                        "fillpattern": {
                          "fillmode": "overlay",
                          "size": 10,
                          "solidity": 0.2
                        },
                        "type": "scatter"
                      }
                    ],
                    "scatter3d": [
                      {
                        "line": {
                          "colorbar": {
                            "outlinewidth": 0,
                            "ticks": ""
                          }
                        },
                        "marker": {
                          "colorbar": {
                            "outlinewidth": 0,
                            "ticks": ""
                          }
                        },
                        "type": "scatter3d"
                      }
                    ],
                    "scattercarpet": [
                      {
                        "marker": {
                          "colorbar": {
                            "outlinewidth": 0,
                            "ticks": ""
                          }
                        },
                        "type": "scattercarpet"
                      }
                    ],
                    "scattergeo": [
                      {
                        "marker": {
                          "colorbar": {
                            "outlinewidth": 0,
                            "ticks": ""
                          }
                        },
                        "type": "scattergeo"
                      }
                    ],
                    "scattergl": [
                      {
                        "marker": {
                          "colorbar": {
                            "outlinewidth": 0,
                            "ticks": ""
                          }
                        },
                        "type": "scattergl"
                      }
                    ],
                    "scattermapbox": [
                      {
                        "marker": {
                          "colorbar": {
                            "outlinewidth": 0,
                            "ticks": ""
                          }
                        },
                        "type": "scattermapbox"
                      }
                    ],
                    "scatterpolar": [
                      {
                        "marker": {
                          "colorbar": {
                            "outlinewidth": 0,
                            "ticks": ""
                          }
                        },
                        "type": "scatterpolar"
                      }
                    ],
                    "scatterpolargl": [
                      {
                        "marker": {
                          "colorbar": {
                            "outlinewidth": 0,
                            "ticks": ""
                          }
                        },
                        "type": "scatterpolargl"
                      }
                    ],
                    "scatterternary": [
                      {
                        "marker": {
                          "colorbar": {
                            "outlinewidth": 0,
                            "ticks": ""
                          }
                        },
                        "type": "scatterternary"
                      }
                    ],
                    "surface": [
                      {
                        "colorbar": {
                          "outlinewidth": 0,
                          "ticks": ""
                        },
                        "colorscale": [
                          [
                            0,
                            "#0d0887"
                          ],
                          [
                            0.1111111111111111,
                            "#46039f"
                          ],
                          [
                            0.2222222222222222,
                            "#7201a8"
                          ],
                          [
                            0.3333333333333333,
                            "#9c179e"
                          ],
                          [
                            0.4444444444444444,
                            "#bd3786"
                          ],
                          [
                            0.5555555555555556,
                            "#d8576b"
                          ],
                          [
                            0.6666666666666666,
                            "#ed7953"
                          ],
                          [
                            0.7777777777777778,
                            "#fb9f3a"
                          ],
                          [
                            0.8888888888888888,
                            "#fdca26"
                          ],
                          [
                            1,
                            "#f0f921"
                          ]
                        ],
                        "type": "surface"
                      }
                    ],
                    "table": [
                      {
                        "cells": {
                          "fill": {
                            "color": "#EBF0F8"
                          },
                          "line": {
                            "color": "white"
                          }
                        },
                        "header": {
                          "fill": {
                            "color": "#C8D4E3"
                          },
                          "line": {
                            "color": "white"
                          }
                        },
                        "type": "table"
                      }
                    ]
                  },
                  "layout": {
                    "annotationdefaults": {
                      "arrowcolor": "#2a3f5f",
                      "arrowhead": 0,
                      "arrowwidth": 1
                    },
                    "autotypenumbers": "strict",
                    "coloraxis": {
                      "colorbar": {
                        "outlinewidth": 0,
                        "ticks": ""
                      }
                    },
                    "colorscale": {
                      "diverging": [
                        [
                          0,
                          "#8e0152"
                        ],
                        [
                          0.1,
                          "#c51b7d"
                        ],
                        [
                          0.2,
                          "#de77ae"
                        ],
                        [
                          0.3,
                          "#f1b6da"
                        ],
                        [
                          0.4,
                          "#fde0ef"
                        ],
                        [
                          0.5,
                          "#f7f7f7"
                        ],
                        [
                          0.6,
                          "#e6f5d0"
                        ],
                        [
                          0.7,
                          "#b8e186"
                        ],
                        [
                          0.8,
                          "#7fbc41"
                        ],
                        [
                          0.9,
                          "#4d9221"
                        ],
                        [
                          1,
                          "#276419"
                        ]
                      ],
                      "sequential": [
                        [
                          0,
                          "#0d0887"
                        ],
                        [
                          0.1111111111111111,
                          "#46039f"
                        ],
                        [
                          0.2222222222222222,
                          "#7201a8"
                        ],
                        [
                          0.3333333333333333,
                          "#9c179e"
                        ],
                        [
                          0.4444444444444444,
                          "#bd3786"
                        ],
                        [
                          0.5555555555555556,
                          "#d8576b"
                        ],
                        [
                          0.6666666666666666,
                          "#ed7953"
                        ],
                        [
                          0.7777777777777778,
                          "#fb9f3a"
                        ],
                        [
                          0.8888888888888888,
                          "#fdca26"
                        ],
                        [
                          1,
                          "#f0f921"
                        ]
                      ],
                      "sequentialminus": [
                        [
                          0,
                          "#0d0887"
                        ],
                        [
                          0.1111111111111111,
                          "#46039f"
                        ],
                        [
                          0.2222222222222222,
                          "#7201a8"
                        ],
                        [
                          0.3333333333333333,
                          "#9c179e"
                        ],
                        [
                          0.4444444444444444,
                          "#bd3786"
                        ],
                        [
                          0.5555555555555556,
                          "#d8576b"
                        ],
                        [
                          0.6666666666666666,
                          "#ed7953"
                        ],
                        [
                          0.7777777777777778,
                          "#fb9f3a"
                        ],
                        [
                          0.8888888888888888,
                          "#fdca26"
                        ],
                        [
                          1,
                          "#f0f921"
                        ]
                      ]
                    },
                    "colorway": [
                      "#636efa",
                      "#EF553B",
                      "#00cc96",
                      "#ab63fa",
                      "#FFA15A",
                      "#19d3f3",
                      "#FF6692",
                      "#B6E880",
                      "#FF97FF",
                      "#FECB52"
                    ],
                    "font": {
                      "color": "#2a3f5f"
                    },
                    "geo": {
                      "bgcolor": "white",
                      "lakecolor": "white",
                      "landcolor": "#E5ECF6",
                      "showlakes": true,
                      "showland": true,
                      "subunitcolor": "white"
                    },
                    "hoverlabel": {
                      "align": "left"
                    },
                    "hovermode": "closest",
                    "mapbox": {
                      "style": "light"
                    },
                    "paper_bgcolor": "white",
                    "plot_bgcolor": "#E5ECF6",
                    "polar": {
                      "angularaxis": {
                        "gridcolor": "white",
                        "linecolor": "white",
                        "ticks": ""
                      },
                      "bgcolor": "#E5ECF6",
                      "radialaxis": {
                        "gridcolor": "white",
                        "linecolor": "white",
                        "ticks": ""
                      }
                    },
                    "scene": {
                      "xaxis": {
                        "backgroundcolor": "#E5ECF6",
                        "gridcolor": "white",
                        "gridwidth": 2,
                        "linecolor": "white",
                        "showbackground": true,
                        "ticks": "",
                        "zerolinecolor": "white"
                      },
                      "yaxis": {
                        "backgroundcolor": "#E5ECF6",
                        "gridcolor": "white",
                        "gridwidth": 2,
                        "linecolor": "white",
                        "showbackground": true,
                        "ticks": "",
                        "zerolinecolor": "white"
                      },
                      "zaxis": {
                        "backgroundcolor": "#E5ECF6",
                        "gridcolor": "white",
                        "gridwidth": 2,
                        "linecolor": "white",
                        "showbackground": true,
                        "ticks": "",
                        "zerolinecolor": "white"
                      }
                    },
                    "shapedefaults": {
                      "line": {
                        "color": "#2a3f5f"
                      }
                    },
                    "ternary": {
                      "aaxis": {
                        "gridcolor": "white",
                        "linecolor": "white",
                        "ticks": ""
                      },
                      "baxis": {
                        "gridcolor": "white",
                        "linecolor": "white",
                        "ticks": ""
                      },
                      "bgcolor": "#E5ECF6",
                      "caxis": {
                        "gridcolor": "white",
                        "linecolor": "white",
                        "ticks": ""
                      }
                    },
                    "title": {
                      "x": 0.05
                    },
                    "xaxis": {
                      "automargin": true,
                      "gridcolor": "white",
                      "linecolor": "white",
                      "ticks": "",
                      "title": {
                        "standoff": 15
                      },
                      "zerolinecolor": "white",
                      "zerolinewidth": 2
                    },
                    "yaxis": {
                      "automargin": true,
                      "gridcolor": "white",
                      "linecolor": "white",
                      "ticks": "",
                      "title": {
                        "standoff": 15
                      },
                      "zerolinecolor": "white",
                      "zerolinewidth": 2
                    }
                  }
                },
                "width": 500,
                "xaxis": {
                  "autorange": false,
                  "exponentformat": "e",
                  "linecolor": "black",
                  "linewidth": 1,
                  "mirror": false,
                  "range": [
                    0.025494496077299117,
                    0.7158345256745815
                  ],
                  "showexponent": "all",
                  "showline": true,
                  "side": "bottom",
                  "ticks": "outside",
                  "title": {
                    "text": "Birth"
                  },
                  "type": "linear",
                  "zeroline": true
                },
                "yaxis": {
                  "autorange": false,
                  "exponentformat": "e",
                  "linecolor": "black",
                  "linewidth": 1,
                  "mirror": false,
                  "range": [
                    0.025494496077299117,
                    0.7158345256745815
                  ],
                  "scaleanchor": "x",
                  "scaleratio": 1,
                  "showexponent": "all",
                  "showline": true,
                  "side": "left",
                  "ticks": "outside",
                  "title": {
                    "text": "Death"
                  },
                  "type": "linear",
                  "zeroline": true
                }
              }
            }
          },
          "metadata": {},
          "output_type": "display_data"
        }
      ],
      "source": [
        "dissim_diagram_plot = gtda.plotting.plot_diagram(dissim_diagrams[print_obj])\n",
        "display(dissim_diagram_plot)\n",
        "dissim_diagram_plot.write_image(file = f\"{subj}/{exp}/dissim_diagram.svg\", format = \"svg\")"
      ]
    },
    {
      "cell_type": "markdown",
      "metadata": {},
      "source": [
        "#### FeatureCalculator"
      ]
    },
    {
      "cell_type": "code",
      "execution_count": 60,
      "metadata": {},
      "outputs": [
        {
          "name": "stdout",
          "output_type": "stream",
          "text": [
            "Filtered diagrams: (28320, 59, 3)\n",
            "N bins: 100\n"
          ]
        },
        {
          "name": "stderr",
          "output_type": "stream",
          "text": [
            " betti: 100%|██████████| 28320/28320 [02:28<00:00, 191.23it/s]\n",
            " landscape: 100%|██████████| 28320/28320 [02:12<00:00, 213.79it/s]\n",
            " silhouette-1: 100%|██████████| 28320/28320 [02:14<00:00, 210.52it/s]\n",
            " silhouette-2: 100%|██████████| 28320/28320 [02:20<00:00, 201.66it/s]\n",
            " amplitudes: 100%|██████████| 13/13 [00:19<00:00,  1.52s/it]\n",
            " lifetime: 100%|██████████| 28320/28320 [05:31<00:00, 85.56it/s]\n"
          ]
        },
        {
          "data": {
            "text/html": [
              "<div>\n",
              "<style scoped>\n",
              "    .dataframe tbody tr th:only-of-type {\n",
              "        vertical-align: middle;\n",
              "    }\n",
              "\n",
              "    .dataframe tbody tr th {\n",
              "        vertical-align: top;\n",
              "    }\n",
              "\n",
              "    .dataframe thead th {\n",
              "        text-align: right;\n",
              "    }\n",
              "</style>\n",
              "<table border=\"1\" class=\"dataframe\">\n",
              "  <thead>\n",
              "    <tr style=\"text-align: right;\">\n",
              "      <th></th>\n",
              "      <th>dissim-0 betti dim-1 max</th>\n",
              "      <th>dissim-0 betti dim-1 mean</th>\n",
              "      <th>dissim-0 betti dim-1 std</th>\n",
              "      <th>dissim-0 betti dim-1 sum</th>\n",
              "      <th>dissim-0 betti dim-1 percentile-25</th>\n",
              "      <th>dissim-0 betti dim-1 median</th>\n",
              "      <th>dissim-0 betti dim-1 percentile-75</th>\n",
              "      <th>dissim-0 betti dim-1 kurtosis</th>\n",
              "      <th>dissim-0 betti dim-1 skew</th>\n",
              "      <th>dissim-0 betti dim-1 norm-1</th>\n",
              "      <th>...</th>\n",
              "      <th>dissim-23 bd2 dim-5 mean</th>\n",
              "      <th>dissim-23 bd2 dim-5 std</th>\n",
              "      <th>dissim-23 bd2 dim-5 sum</th>\n",
              "      <th>dissim-23 bd2 dim-5 percentile-25</th>\n",
              "      <th>dissim-23 bd2 dim-5 median</th>\n",
              "      <th>dissim-23 bd2 dim-5 percentile-75</th>\n",
              "      <th>dissim-23 bd2 dim-5 kurtosis</th>\n",
              "      <th>dissim-23 bd2 dim-5 skew</th>\n",
              "      <th>dissim-23 bd2 dim-5 norm-1</th>\n",
              "      <th>dissim-23 bd2 dim-5 norm-2</th>\n",
              "    </tr>\n",
              "  </thead>\n",
              "  <tbody>\n",
              "    <tr>\n",
              "      <th>0</th>\n",
              "      <td>2.00</td>\n",
              "      <td>0.00</td>\n",
              "      <td>0.32</td>\n",
              "      <td>0.00</td>\n",
              "      <td>0.00</td>\n",
              "      <td>0.00</td>\n",
              "      <td>0.00</td>\n",
              "      <td>18.78</td>\n",
              "      <td>1.89</td>\n",
              "      <td>8.00</td>\n",
              "      <td>...</td>\n",
              "      <td>0.00</td>\n",
              "      <td>0.00</td>\n",
              "      <td>0.00</td>\n",
              "      <td>0.00</td>\n",
              "      <td>0.00</td>\n",
              "      <td>0.00</td>\n",
              "      <td>0.00</td>\n",
              "      <td>0.00</td>\n",
              "      <td>0.00</td>\n",
              "      <td>0.00</td>\n",
              "    </tr>\n",
              "    <tr>\n",
              "      <th>1</th>\n",
              "      <td>2.00</td>\n",
              "      <td>0.00</td>\n",
              "      <td>0.51</td>\n",
              "      <td>0.00</td>\n",
              "      <td>0.00</td>\n",
              "      <td>0.00</td>\n",
              "      <td>0.00</td>\n",
              "      <td>4.32</td>\n",
              "      <td>0.00</td>\n",
              "      <td>22.00</td>\n",
              "      <td>...</td>\n",
              "      <td>0.00</td>\n",
              "      <td>0.00</td>\n",
              "      <td>0.00</td>\n",
              "      <td>0.00</td>\n",
              "      <td>0.00</td>\n",
              "      <td>0.00</td>\n",
              "      <td>0.00</td>\n",
              "      <td>0.00</td>\n",
              "      <td>0.00</td>\n",
              "      <td>0.00</td>\n",
              "    </tr>\n",
              "    <tr>\n",
              "      <th>2</th>\n",
              "      <td>2.00</td>\n",
              "      <td>0.00</td>\n",
              "      <td>0.40</td>\n",
              "      <td>0.00</td>\n",
              "      <td>0.00</td>\n",
              "      <td>0.00</td>\n",
              "      <td>0.00</td>\n",
              "      <td>12.47</td>\n",
              "      <td>0.00</td>\n",
              "      <td>12.00</td>\n",
              "      <td>...</td>\n",
              "      <td>0.00</td>\n",
              "      <td>0.00</td>\n",
              "      <td>0.00</td>\n",
              "      <td>0.00</td>\n",
              "      <td>0.00</td>\n",
              "      <td>0.00</td>\n",
              "      <td>0.00</td>\n",
              "      <td>0.00</td>\n",
              "      <td>0.00</td>\n",
              "      <td>0.00</td>\n",
              "    </tr>\n",
              "    <tr>\n",
              "      <th>3</th>\n",
              "      <td>1.00</td>\n",
              "      <td>0.00</td>\n",
              "      <td>0.28</td>\n",
              "      <td>0.00</td>\n",
              "      <td>0.00</td>\n",
              "      <td>0.00</td>\n",
              "      <td>0.00</td>\n",
              "      <td>9.38</td>\n",
              "      <td>0.00</td>\n",
              "      <td>8.00</td>\n",
              "      <td>...</td>\n",
              "      <td>0.00</td>\n",
              "      <td>0.00</td>\n",
              "      <td>0.00</td>\n",
              "      <td>0.00</td>\n",
              "      <td>0.00</td>\n",
              "      <td>0.00</td>\n",
              "      <td>0.00</td>\n",
              "      <td>0.00</td>\n",
              "      <td>0.00</td>\n",
              "      <td>0.00</td>\n",
              "    </tr>\n",
              "    <tr>\n",
              "      <th>4</th>\n",
              "      <td>1.00</td>\n",
              "      <td>0.00</td>\n",
              "      <td>0.38</td>\n",
              "      <td>0.00</td>\n",
              "      <td>0.00</td>\n",
              "      <td>0.00</td>\n",
              "      <td>0.00</td>\n",
              "      <td>4.07</td>\n",
              "      <td>0.00</td>\n",
              "      <td>14.00</td>\n",
              "      <td>...</td>\n",
              "      <td>0.00</td>\n",
              "      <td>0.00</td>\n",
              "      <td>0.00</td>\n",
              "      <td>0.00</td>\n",
              "      <td>0.00</td>\n",
              "      <td>0.00</td>\n",
              "      <td>0.00</td>\n",
              "      <td>0.00</td>\n",
              "      <td>0.00</td>\n",
              "      <td>0.00</td>\n",
              "    </tr>\n",
              "    <tr>\n",
              "      <th>...</th>\n",
              "      <td>...</td>\n",
              "      <td>...</td>\n",
              "      <td>...</td>\n",
              "      <td>...</td>\n",
              "      <td>...</td>\n",
              "      <td>...</td>\n",
              "      <td>...</td>\n",
              "      <td>...</td>\n",
              "      <td>...</td>\n",
              "      <td>...</td>\n",
              "      <td>...</td>\n",
              "      <td>...</td>\n",
              "      <td>...</td>\n",
              "      <td>...</td>\n",
              "      <td>...</td>\n",
              "      <td>...</td>\n",
              "      <td>...</td>\n",
              "      <td>...</td>\n",
              "      <td>...</td>\n",
              "      <td>...</td>\n",
              "      <td>...</td>\n",
              "    </tr>\n",
              "    <tr>\n",
              "      <th>1175</th>\n",
              "      <td>1.00</td>\n",
              "      <td>0.00</td>\n",
              "      <td>0.45</td>\n",
              "      <td>0.00</td>\n",
              "      <td>0.00</td>\n",
              "      <td>0.00</td>\n",
              "      <td>0.00</td>\n",
              "      <td>4.92</td>\n",
              "      <td>-0.67</td>\n",
              "      <td>18.00</td>\n",
              "      <td>...</td>\n",
              "      <td>0.00</td>\n",
              "      <td>0.00</td>\n",
              "      <td>0.00</td>\n",
              "      <td>0.00</td>\n",
              "      <td>0.00</td>\n",
              "      <td>0.00</td>\n",
              "      <td>0.00</td>\n",
              "      <td>0.00</td>\n",
              "      <td>0.00</td>\n",
              "      <td>0.00</td>\n",
              "    </tr>\n",
              "    <tr>\n",
              "      <th>1176</th>\n",
              "      <td>2.00</td>\n",
              "      <td>0.00</td>\n",
              "      <td>0.45</td>\n",
              "      <td>0.00</td>\n",
              "      <td>0.00</td>\n",
              "      <td>0.00</td>\n",
              "      <td>0.00</td>\n",
              "      <td>10.86</td>\n",
              "      <td>0.67</td>\n",
              "      <td>14.00</td>\n",
              "      <td>...</td>\n",
              "      <td>0.00</td>\n",
              "      <td>0.00</td>\n",
              "      <td>0.00</td>\n",
              "      <td>0.00</td>\n",
              "      <td>0.00</td>\n",
              "      <td>0.00</td>\n",
              "      <td>0.00</td>\n",
              "      <td>0.00</td>\n",
              "      <td>0.00</td>\n",
              "      <td>0.00</td>\n",
              "    </tr>\n",
              "    <tr>\n",
              "      <th>1177</th>\n",
              "      <td>2.00</td>\n",
              "      <td>0.00</td>\n",
              "      <td>0.49</td>\n",
              "      <td>0.00</td>\n",
              "      <td>0.00</td>\n",
              "      <td>0.00</td>\n",
              "      <td>0.00</td>\n",
              "      <td>5.25</td>\n",
              "      <td>0.00</td>\n",
              "      <td>20.00</td>\n",
              "      <td>...</td>\n",
              "      <td>0.00</td>\n",
              "      <td>0.00</td>\n",
              "      <td>0.00</td>\n",
              "      <td>0.00</td>\n",
              "      <td>0.00</td>\n",
              "      <td>0.00</td>\n",
              "      <td>0.00</td>\n",
              "      <td>0.00</td>\n",
              "      <td>0.00</td>\n",
              "      <td>0.00</td>\n",
              "    </tr>\n",
              "    <tr>\n",
              "      <th>1178</th>\n",
              "      <td>2.00</td>\n",
              "      <td>0.00</td>\n",
              "      <td>0.47</td>\n",
              "      <td>0.00</td>\n",
              "      <td>0.00</td>\n",
              "      <td>0.00</td>\n",
              "      <td>0.00</td>\n",
              "      <td>6.41</td>\n",
              "      <td>0.00</td>\n",
              "      <td>18.00</td>\n",
              "      <td>...</td>\n",
              "      <td>0.00</td>\n",
              "      <td>0.00</td>\n",
              "      <td>0.00</td>\n",
              "      <td>0.00</td>\n",
              "      <td>0.00</td>\n",
              "      <td>0.00</td>\n",
              "      <td>0.00</td>\n",
              "      <td>0.00</td>\n",
              "      <td>0.00</td>\n",
              "      <td>0.00</td>\n",
              "    </tr>\n",
              "    <tr>\n",
              "      <th>1179</th>\n",
              "      <td>2.00</td>\n",
              "      <td>0.00</td>\n",
              "      <td>0.59</td>\n",
              "      <td>0.00</td>\n",
              "      <td>0.00</td>\n",
              "      <td>0.00</td>\n",
              "      <td>0.00</td>\n",
              "      <td>4.02</td>\n",
              "      <td>0.00</td>\n",
              "      <td>26.00</td>\n",
              "      <td>...</td>\n",
              "      <td>0.00</td>\n",
              "      <td>0.00</td>\n",
              "      <td>0.00</td>\n",
              "      <td>0.00</td>\n",
              "      <td>0.00</td>\n",
              "      <td>0.00</td>\n",
              "      <td>0.00</td>\n",
              "      <td>0.00</td>\n",
              "      <td>0.00</td>\n",
              "      <td>0.00</td>\n",
              "    </tr>\n",
              "  </tbody>\n",
              "</table>\n",
              "<p>1180 rows × 10872 columns</p>\n",
              "</div>"
            ],
            "text/plain": [
              "      dissim-0 betti dim-1 max  dissim-0 betti dim-1 mean  \\\n",
              "0                         2.00                       0.00   \n",
              "1                         2.00                       0.00   \n",
              "2                         2.00                       0.00   \n",
              "3                         1.00                       0.00   \n",
              "4                         1.00                       0.00   \n",
              "...                        ...                        ...   \n",
              "1175                      1.00                       0.00   \n",
              "1176                      2.00                       0.00   \n",
              "1177                      2.00                       0.00   \n",
              "1178                      2.00                       0.00   \n",
              "1179                      2.00                       0.00   \n",
              "\n",
              "      dissim-0 betti dim-1 std  dissim-0 betti dim-1 sum  \\\n",
              "0                         0.32                      0.00   \n",
              "1                         0.51                      0.00   \n",
              "2                         0.40                      0.00   \n",
              "3                         0.28                      0.00   \n",
              "4                         0.38                      0.00   \n",
              "...                        ...                       ...   \n",
              "1175                      0.45                      0.00   \n",
              "1176                      0.45                      0.00   \n",
              "1177                      0.49                      0.00   \n",
              "1178                      0.47                      0.00   \n",
              "1179                      0.59                      0.00   \n",
              "\n",
              "      dissim-0 betti dim-1 percentile-25  dissim-0 betti dim-1 median  \\\n",
              "0                                   0.00                         0.00   \n",
              "1                                   0.00                         0.00   \n",
              "2                                   0.00                         0.00   \n",
              "3                                   0.00                         0.00   \n",
              "4                                   0.00                         0.00   \n",
              "...                                  ...                          ...   \n",
              "1175                                0.00                         0.00   \n",
              "1176                                0.00                         0.00   \n",
              "1177                                0.00                         0.00   \n",
              "1178                                0.00                         0.00   \n",
              "1179                                0.00                         0.00   \n",
              "\n",
              "      dissim-0 betti dim-1 percentile-75  dissim-0 betti dim-1 kurtosis  \\\n",
              "0                                   0.00                          18.78   \n",
              "1                                   0.00                           4.32   \n",
              "2                                   0.00                          12.47   \n",
              "3                                   0.00                           9.38   \n",
              "4                                   0.00                           4.07   \n",
              "...                                  ...                            ...   \n",
              "1175                                0.00                           4.92   \n",
              "1176                                0.00                          10.86   \n",
              "1177                                0.00                           5.25   \n",
              "1178                                0.00                           6.41   \n",
              "1179                                0.00                           4.02   \n",
              "\n",
              "      dissim-0 betti dim-1 skew  dissim-0 betti dim-1 norm-1  ...  \\\n",
              "0                          1.89                         8.00  ...   \n",
              "1                          0.00                        22.00  ...   \n",
              "2                          0.00                        12.00  ...   \n",
              "3                          0.00                         8.00  ...   \n",
              "4                          0.00                        14.00  ...   \n",
              "...                         ...                          ...  ...   \n",
              "1175                      -0.67                        18.00  ...   \n",
              "1176                       0.67                        14.00  ...   \n",
              "1177                       0.00                        20.00  ...   \n",
              "1178                       0.00                        18.00  ...   \n",
              "1179                       0.00                        26.00  ...   \n",
              "\n",
              "      dissim-23 bd2 dim-5 mean  dissim-23 bd2 dim-5 std  \\\n",
              "0                         0.00                     0.00   \n",
              "1                         0.00                     0.00   \n",
              "2                         0.00                     0.00   \n",
              "3                         0.00                     0.00   \n",
              "4                         0.00                     0.00   \n",
              "...                        ...                      ...   \n",
              "1175                      0.00                     0.00   \n",
              "1176                      0.00                     0.00   \n",
              "1177                      0.00                     0.00   \n",
              "1178                      0.00                     0.00   \n",
              "1179                      0.00                     0.00   \n",
              "\n",
              "      dissim-23 bd2 dim-5 sum  dissim-23 bd2 dim-5 percentile-25  \\\n",
              "0                        0.00                               0.00   \n",
              "1                        0.00                               0.00   \n",
              "2                        0.00                               0.00   \n",
              "3                        0.00                               0.00   \n",
              "4                        0.00                               0.00   \n",
              "...                       ...                                ...   \n",
              "1175                     0.00                               0.00   \n",
              "1176                     0.00                               0.00   \n",
              "1177                     0.00                               0.00   \n",
              "1178                     0.00                               0.00   \n",
              "1179                     0.00                               0.00   \n",
              "\n",
              "      dissim-23 bd2 dim-5 median  dissim-23 bd2 dim-5 percentile-75  \\\n",
              "0                           0.00                               0.00   \n",
              "1                           0.00                               0.00   \n",
              "2                           0.00                               0.00   \n",
              "3                           0.00                               0.00   \n",
              "4                           0.00                               0.00   \n",
              "...                          ...                                ...   \n",
              "1175                        0.00                               0.00   \n",
              "1176                        0.00                               0.00   \n",
              "1177                        0.00                               0.00   \n",
              "1178                        0.00                               0.00   \n",
              "1179                        0.00                               0.00   \n",
              "\n",
              "      dissim-23 bd2 dim-5 kurtosis  dissim-23 bd2 dim-5 skew  \\\n",
              "0                             0.00                      0.00   \n",
              "1                             0.00                      0.00   \n",
              "2                             0.00                      0.00   \n",
              "3                             0.00                      0.00   \n",
              "4                             0.00                      0.00   \n",
              "...                            ...                       ...   \n",
              "1175                          0.00                      0.00   \n",
              "1176                          0.00                      0.00   \n",
              "1177                          0.00                      0.00   \n",
              "1178                          0.00                      0.00   \n",
              "1179                          0.00                      0.00   \n",
              "\n",
              "      dissim-23 bd2 dim-5 norm-1  dissim-23 bd2 dim-5 norm-2  \n",
              "0                           0.00                        0.00  \n",
              "1                           0.00                        0.00  \n",
              "2                           0.00                        0.00  \n",
              "3                           0.00                        0.00  \n",
              "4                           0.00                        0.00  \n",
              "...                          ...                         ...  \n",
              "1175                        0.00                        0.00  \n",
              "1176                        0.00                        0.00  \n",
              "1177                        0.00                        0.00  \n",
              "1178                        0.00                        0.00  \n",
              "1179                        0.00                        0.00  \n",
              "\n",
              "[1180 rows x 10872 columns]"
            ]
          },
          "execution_count": 60,
          "metadata": {},
          "output_type": "execute_result"
        }
      ],
      "source": [
        "n_dissim = dissim_diagrams.shape[0] // data.shape[0]\n",
        "dissim_features_raw = FeatureCalculator().calc_features(dissim_diagrams)\n",
        "columns = [ f\"dissim-{i}{feature_name}\" for i in range(n_dissim) for feature_name in dissim_features_raw ]\n",
        "dissim_features = pandas.concat([ dissim_features_raw.iloc[i::n_dissim, :].reset_index(drop = True) for i in range(n_dissim) ], axis = 1)\n",
        "dissim_features.columns = columns\n",
        "dissim_features.to_feather(f\"{subj}/{exp}/dissim_features.feather\")\n",
        "dissim_features"
      ]
    },
    {
      "cell_type": "markdown",
      "metadata": {},
      "source": [
        "### Overall"
      ]
    },
    {
      "cell_type": "markdown",
      "metadata": {},
      "source": [
        "#### TakensEmbedding"
      ]
    },
    {
      "cell_type": "code",
      "execution_count": 61,
      "metadata": {},
      "outputs": [
        {
          "name": "stdout",
          "output_type": "stream",
          "text": [
            "(1180, 153, 190)\n"
          ]
        }
      ],
      "source": [
        "overall_embedding = gtda.time_series.TakensEmbedding(\n",
        "    dimension = OVERALL_DIMENSION,\n",
        "    time_delay = OVERALL_TIME_DELAY,\n",
        "    stride = OVERALL_STRIDE,\n",
        "    flatten = True\n",
        ")\n",
        "overall_point_clouds = overall_embedding.fit_transform(data)\n",
        "print(overall_point_clouds.shape)"
      ]
    },
    {
      "cell_type": "code",
      "execution_count": 62,
      "metadata": {},
      "outputs": [
        {
          "data": {
            "application/vnd.plotly.v1+json": {
              "config": {
                "plotlyServerURL": "https://plot.ly"
              },
              "data": [
                {
                  "marker": {
                    "color": [
                      0,
                      1,
                      2,
                      3,
                      4,
                      5,
                      6,
                      7,
                      8,
                      9,
                      10,
                      11,
                      12,
                      13,
                      14,
                      15,
                      16,
                      17,
                      18,
                      19,
                      20,
                      21,
                      22,
                      23,
                      24,
                      25,
                      26,
                      27,
                      28,
                      29,
                      30,
                      31,
                      32,
                      33,
                      34,
                      35,
                      36,
                      37,
                      38,
                      39,
                      40,
                      41,
                      42,
                      43,
                      44,
                      45,
                      46,
                      47,
                      48,
                      49,
                      50,
                      51,
                      52,
                      53,
                      54,
                      55,
                      56,
                      57,
                      58,
                      59,
                      60,
                      61,
                      62,
                      63,
                      64,
                      65,
                      66,
                      67,
                      68,
                      69,
                      70,
                      71,
                      72,
                      73,
                      74,
                      75,
                      76,
                      77,
                      78,
                      79,
                      80,
                      81,
                      82,
                      83,
                      84,
                      85,
                      86,
                      87,
                      88,
                      89,
                      90,
                      91,
                      92,
                      93,
                      94,
                      95,
                      96,
                      97,
                      98,
                      99,
                      100,
                      101,
                      102,
                      103,
                      104,
                      105,
                      106,
                      107,
                      108,
                      109,
                      110,
                      111,
                      112,
                      113,
                      114,
                      115,
                      116,
                      117,
                      118,
                      119,
                      120,
                      121,
                      122,
                      123,
                      124,
                      125,
                      126,
                      127,
                      128,
                      129,
                      130,
                      131,
                      132,
                      133,
                      134,
                      135,
                      136,
                      137,
                      138,
                      139,
                      140,
                      141,
                      142,
                      143,
                      144,
                      145,
                      146,
                      147,
                      148,
                      149,
                      150,
                      151,
                      152
                    ],
                    "colorscale": [
                      [
                        0,
                        "#440154"
                      ],
                      [
                        0.1111111111111111,
                        "#482878"
                      ],
                      [
                        0.2222222222222222,
                        "#3e4989"
                      ],
                      [
                        0.3333333333333333,
                        "#31688e"
                      ],
                      [
                        0.4444444444444444,
                        "#26828e"
                      ],
                      [
                        0.5555555555555556,
                        "#1f9e89"
                      ],
                      [
                        0.6666666666666666,
                        "#35b779"
                      ],
                      [
                        0.7777777777777778,
                        "#6ece58"
                      ],
                      [
                        0.8888888888888888,
                        "#b5de2b"
                      ],
                      [
                        1,
                        "#fde725"
                      ]
                    ],
                    "opacity": 0.8,
                    "size": 4
                  },
                  "mode": "markers",
                  "type": "scatter3d",
                  "x": [
                    -0.00006037886851117946,
                    -0.00008107374014798552,
                    0.000009939118172042072,
                    0.00008264403732027858,
                    0.000049583701184019446,
                    -0.00001614062421140261,
                    -0.00003443734749453142,
                    -0.000019173963664798066,
                    0.000009361323463963345,
                    0.00005164326648809947,
                    0.00006363852298818529,
                    0.000010702246981963981,
                    -0.00004092006929568015,
                    -0.000019398226868361235,
                    0.000025479683245066553,
                    0.000013579039659816772,
                    -0.000026006195184891112,
                    -0.000026364396035205573,
                    -0.00000493864854433923,
                    -0.000006792990461690351,
                    -0.000010286647011525929,
                    0.000013814483281748835,
                    0.00003086391734541394,
                    0.00001343089206784498,
                    0.000003076395159951062,
                    0.00002811798549373634,
                    0.00004134894334129058,
                    0.000005714946837542811,
                    -0.000033530515793245286,
                    -0.000026900230295723304,
                    2.5336328235425754e-7,
                    0.000003870747150358511,
                    -0.000008070693183981348,
                    -0.000010523177479626611,
                    -0.000010008056051447056,
                    -0.0000186194392881589,
                    -0.000021655485397786833,
                    -7.486262916245323e-7,
                    0.00003488453148747794,
                    0.00005160016007721424,
                    0.00002428119296382647,
                    -0.000025920584448613226,
                    -0.00004340120358392596,
                    -0.000012985225112061016,
                    0.000016609801605227403,
                    0.000012667859664361458,
                    6.100090672589431e-7,
                    -0.000003833937171293655,
                    -0.000021226858734735288,
                    -0.000036872537748422474,
                    -0.000005682843493559631,
                    0.0000460437877336517,
                    0.00004152461769990623,
                    -0.000009231864169123583,
                    -0.000019272682038717903,
                    0.000022934580556466244,
                    0.000038505313568748534,
                    -4.98782753766136e-7,
                    -0.000035027544072363526,
                    -0.000026747555239126086,
                    -0.0000028836880119342823,
                    0.000008343601621163543,
                    0.000010341349479858764,
                    0.00000965119670581771,
                    0.000004571755198412575,
                    -0.000002973175924125826,
                    -0.000007134668976505054,
                    -0.000004807776349480264,
                    0.0000025628860385040753,
                    0.000010127940186066553,
                    0.000015430241546710022,
                    0.000018147340597352013,
                    0.000008920586878957693,
                    -0.000017089181710616685,
                    -0.00003258305150666274,
                    -0.000009376240086567122,
                    0.00002478868373145815,
                    0.000023270324163604528,
                    0.0000015361731584562222,
                    2.464692556713999e-7,
                    -9.56152007347555e-7,
                    -0.00003266554995207116,
                    -0.000049412134103477,
                    -0.00000820574950921582,
                    0.00003169401315972209,
                    0.000008256181899923831,
                    -0.000025840869056992233,
                    -0.0000033171597806358477,
                    0.00003160291817039251,
                    0.000013887977729609702,
                    -0.000020521951228147373,
                    -0.000010237752576358616,
                    0.000020095751096960157,
                    0.00001226829772349447,
                    -0.00002373423194512725,
                    -0.000030488636184600182,
                    0.000007108023510227213,
                    0.00003958423621952534,
                    0.000019903352949768305,
                    -0.000028054306312697008,
                    -0.0000405107784899883,
                    -0.000010729205314419232,
                    0.000006826517164881807,
                    -0.000006585729352082126,
                    -0.00001281180084333755,
                    0.0000019024818129764753,
                    0.000011044819075323176,
                    0.000012239418538229074,
                    0.000019967004845966585,
                    0.00001619958675291855,
                    -0.000010595256753731519,
                    -0.000020288232917664573,
                    0.000008186423656297848,
                    0.00002396711533947382,
                    -0.000008784006240603048,
                    -0.000042330466385465115,
                    -0.000027106858397019096,
                    0.000007948819074954372,
                    0.000011319350051053334,
                    -0.000009710603080748115,
                    -0.000013510038115782663,
                    0.000006222795491339639,
                    0.000016967673218459822,
                    0.000003490288008833886,
                    -0.000006769147603336023,
                    0.000007618933977937559,
                    0.000019885002984665334,
                    0.0000017863428638520418,
                    -0.000021448837287607603,
                    -0.000016755615433794446,
                    -0.000002007451485042111,
                    -0.0000024511675746907713,
                    -0.0000033267504022660432,
                    -0.0000020905329165543662,
                    -0.00002796619628497865,
                    -0.00006032609235262498,
                    -0.00003175382153131068,
                    0.000040740298572927713,
                    0.00005339356357580982,
                    -0.000012332799997238908,
                    -0.00005380221045925282,
                    -0.000019511822756612673,
                    0.000023370283088297583,
                    0.000019449906176305376,
                    -0.000007982045644894242,
                    -0.00002990987013617996,
                    -0.00003944363197661005,
                    -0.00002105282328557223,
                    0.000017226153431693092,
                    0.000022530210117110983,
                    -0.0000209198915399611,
                    -0.00005225848508416675,
                    -0.00002966276224469766
                  ],
                  "y": [
                    0.00007010253466432914,
                    0.0000024186215341615025,
                    -0.00003407022813917138,
                    -0.000025772436856641434,
                    -0.0000020990944449295057,
                    0.000037665780837414786,
                    0.00006689531437586993,
                    0.00003338238093419932,
                    -0.00003028392166015692,
                    -0.00003411639772821218,
                    0.000014469062080024742,
                    0.000024459901396767236,
                    -0.00001501865335740149,
                    -0.000031429051887243986,
                    -0.000010712238690757658,
                    -0.0000035736131849262165,
                    -0.000011942140190512873,
                    0.0000038027633308956865,
                    0.000029120956241968088,
                    0.000021485378965735435,
                    0.0000023761001557431882,
                    0.00001765743400028441,
                    0.00004217478999635205,
                    0.000021589428797597066,
                    -0.00002443368430249393,
                    -0.0000340658298227936,
                    -0.000007554267995146802,
                    0.000005875145689060446,
                    -0.0000043939162424067035,
                    -0.000010990789633069653,
                    -0.00000929144152905792,
                    -0.000015154517313931137,
                    -0.000022787146008340642,
                    -0.00001049822003551526,
                    0.000023210925064631738,
                    0.00005034564674133435,
                    0.00003815365562331863,
                    -0.000010082011613121722,
                    -0.00004378521043690853,
                    -0.000026114765205420554,
                    0.000010217795534117613,
                    0.000016845709978952073,
                    0.000003467196620476898,
                    -0.0000020013301309518283,
                    -0.00001348997830064036,
                    -0.00003518084849929437,
                    -0.00002183324431825895,
                    0.00003182525324518792,
                    0.00005142349618836306,
                    0.000007345650828938233,
                    -0.000023963028070284054,
                    0.000007528890364483232,
                    0.00004037090911879204,
                    0.000015706145859439857,
                    -0.000027979909646091983,
                    -0.0000333833449985832,
                    -0.00001008786875900114,
                    0.0000061972750700078905,
                    0.00001005697686196072,
                    0.000010246410965919495,
                    0.0000067893288360210136,
                    -5.618654768113629e-7,
                    -0.000006400070560630411,
                    -0.000006317251063592266,
                    -1.7774723914953938e-7,
                    0.000007859503057261463,
                    0.000013841835425409954,
                    0.000017886102796182968,
                    0.000014126316273177508,
                    -0.000007562272912764456,
                    -0.00003113444472546689,
                    -0.000020988260075682774,
                    0.00001581911783432588,
                    0.00002833056714734994,
                    0.000007736851330264471,
                    -0.000001746230736898724,
                    0.000002567240699136164,
                    -0.000020046452846145257,
                    -0.00004997365613235161,
                    -0.000026584782972349785,
                    0.00002438032242935151,
                    0.000022023321434971876,
                    -0.000019304934539832175,
                    -0.000016582633179496042,
                    0.00002421998215140775,
                    0.000025479714167886414,
                    -0.000012244850950082764,
                    -0.000019026796508114785,
                    0.000012134154530940577,
                    0.000020286664948798716,
                    -0.000012226963917782996,
                    -0.00003401374488021247,
                    -0.000008133375558827538,
                    0.000033296473702648655,
                    0.000032456191547680646,
                    -0.000013179877896618564,
                    -0.00004262519360054284,
                    -0.000022251124391914345,
                    0.000005135640549269738,
                    -6.605450266761181e-7,
                    -0.000013673796274815686,
                    -0.0000037803615668963175,
                    0.000009688006684882566,
                    0.000011414120308472775,
                    0.00001709289790596813,
                    0.000020526953449007124,
                    -8.816900844976772e-7,
                    -0.000021832453057868406,
                    -0.0000033944272672670195,
                    0.000024043612938839942,
                    0.0000059083349697175436,
                    -0.00003550990004441701,
                    -0.000037337671528803185,
                    -0.000001985372819035547,
                    0.000014691799151478335,
                    -0.000002751096872088965,
                    -0.000015708465070929378,
                    -0.000001220270632984466,
                    0.0000163003642228432,
                    0.000009567252163833473,
                    -0.000005943848464085022,
                    8.86279963197012e-7,
                    0.000018698605344980024,
                    0.00001066179174813442,
                    -0.000016018315363908187,
                    -0.000021311589080141857,
                    -0.000005687277280230774,
                    -9.669954579294426e-7,
                    -0.000004206191988487262,
                    -8.276946346086334e-7,
                    -0.000015764508134452626,
                    -0.00005337722905096598,
                    -0.00004990432717022486,
                    0.000018052793166134506,
                    0.00006038574792910367,
                    0.000012862200492236298,
                    -0.00004881541826762259,
                    -0.00003656519402284175,
                    0.000013369186490308493,
                    0.00002553987542341929,
                    0.0000012658813375310274,
                    -0.000023640615836484358,
                    -0.000038447058614110574,
                    -0.00003096664295298979,
                    0.000005190330739424098,
                    0.000027282650989945978,
                    -0.000003912824013241334,
                    -0.0000474227563245222,
                    -0.00004216875458951108,
                    -3.315602441489318e-7,
                    0.00002963421866297722,
                    0.00003554797513061203,
                    0.00002391147609159816
                  ],
                  "z": [
                    -0.000011439785339462105,
                    0.000022929096303414553,
                    0.0000622646402916871,
                    0.00005202638931223191,
                    -0.000011936112969124224,
                    -0.00004208270547678694,
                    -0.0000017555486238052254,
                    0.00002893816417781636,
                    -7.586157266814553e-7,
                    -0.00003164970621583052,
                    -0.000018600430848891847,
                    -0.000002558233063609805,
                    -0.000010269696758768987,
                    -0.000004804423042514827,
                    0.000022970552890910767,
                    0.000027973443138762377,
                    0.000006301957000687253,
                    0.000008561948561691679,
                    0.00003716496939887293,
                    0.000034180007787654176,
                    -0.000010591806130832992,
                    -0.00003670344449346885,
                    -0.00001728357165120542,
                    0.000004847145646635909,
                    -1.229666413138375e-8,
                    -0.000010312684935342986,
                    -0.00000967630694503896,
                    -0.000012052145393681712,
                    -0.000021495987311936915,
                    -0.000017588745322427712,
                    0.00001086940937966574,
                    0.0000443990902567748,
                    0.0000475267406727653,
                    0.000007476199243683368,
                    -0.000037720645195804536,
                    -0.00003700711749843322,
                    -1.337690491709509e-7,
                    0.00001861616510723252,
                    0.000007737498890492134,
                    -9.301555792262661e-7,
                    -0.000007516091955039883,
                    -0.00002919641337939538,
                    -0.00003258133074268699,
                    0.000013362738172872923,
                    0.000053068612032802776,
                    0.00002563242924225051,
                    -0.000020448980649234727,
                    -0.000007791824828018434,
                    0.000034780525311362,
                    0.000029647395422216505,
                    -0.000015925059415167198,
                    -0.00003661416849354282,
                    -0.000018440719941281714,
                    0.0000025632309643697226,
                    0.000009483883331995457,
                    0.000010426849257783033,
                    0.000008510366569680627,
                    0.000002039477976722992,
                    -0.000004974116109224269,
                    -0.000007110700607881881,
                    -0.0000027033331662096316,
                    0.0000053029152695671655,
                    0.000012099570994905662,
                    0.000016845382560859434,
                    0.000017079628378269263,
                    0.0000014954018752177944,
                    -0.000025506293241051026,
                    -0.000029128994356142357,
                    0.0000036909118534822483,
                    0.000029096228900016285,
                    0.00001566467653901782,
                    -0.0000016664237136865268,
                    0.0000024047099032031838,
                    -0.000008764571248320863,
                    -0.0000436505360994488,
                    -0.00004124617771594785,
                    0.000010080944775836542,
                    0.00003068251317017712,
                    -0.000006858836059109308,
                    -0.000024820747057674453,
                    0.00001153916400653543,
                    0.00003198762351530604,
                    1.9292060926545673e-7,
                    -0.000022869517124490812,
                    0.0000011161561133121722,
                    0.000023067510483087972,
                    6.420657427952392e-7,
                    -0.00003154284422635101,
                    -0.0000213891744351713,
                    0.000021768293663626537,
                    0.0000393587069993373,
                    0.000003773584694499732,
                    -0.00003837956683128141,
                    -0.00003304007987026125,
                    -9.839303629632923e-7,
                    0.000004446339517016895,
                    -0.000011401430128898937,
                    -0.000009154871804639697,
                    0.000006633664270339068,
                    0.00001130751297750976,
                    0.000014214374459697865,
                    0.00002153340210497845,
                    0.000008687294211995322,
                    -0.000018228209228254855,
                    -0.00001368341690977104,
                    0.000018206003005616367,
                    0.000017574948287801817,
                    -0.000023568509277538396,
                    -0.00004288067793822847,
                    -0.000014456535609497223,
                    0.000013713788575842045,
                    0.000004898472980130464,
                    -0.000014364338312589098,
                    -0.000008299312867166009,
                    0.000012483359569159802,
                    0.000014486063264484983,
                    -0.0000021764710709248902,
                    -0.000004325689133111155,
                    0.00001414967846358195,
                    0.00001709599200694356,
                    -0.000007747036761429626,
                    -0.00002318870792805683,
                    -0.000011015696145477705,
                    -5.202812758398068e-7,
                    -0.000003831049980362877,
                    -0.000001771944084794086,
                    -0.000006900114840391325,
                    -0.00004149647429585457,
                    -0.000059617465012706816,
                    -0.000007725776413280983,
                    0.00005586792394751683,
                    0.000036372126487549394,
                    -0.00003423789166845381,
                    -0.00004908797927782871,
                    -0.0000017214457557201968,
                    0.00002729983134486247,
                    0.000010805679266923107,
                    -0.000016334435713361017,
                    -0.00003500421007629484,
                    -0.00003713365731528029,
                    -0.000008381285624636803,
                    0.00002523416878830176,
                    0.000011510408512549475,
                    -0.000036355711927171797,
                    -0.0000502719558426179,
                    -0.00001498210258432664,
                    0.000022634116248809732,
                    0.00003563741847756319,
                    0.000029897832064307295,
                    0.000005029586645832751,
                    -0.00003052801912417635,
                    -0.00004411506961332634,
                    -0.000024413422579527833
                  ]
                }
              ],
              "layout": {
                "scene": {
                  "xaxis": {
                    "exponentformat": "e",
                    "showexponent": "all",
                    "title": {
                      "text": "0th"
                    },
                    "type": "linear"
                  },
                  "yaxis": {
                    "exponentformat": "e",
                    "showexponent": "all",
                    "title": {
                      "text": "1st"
                    },
                    "type": "linear"
                  },
                  "zaxis": {
                    "exponentformat": "e",
                    "showexponent": "all",
                    "title": {
                      "text": "2nd"
                    },
                    "type": "linear"
                  }
                },
                "template": {
                  "data": {
                    "bar": [
                      {
                        "error_x": {
                          "color": "#2a3f5f"
                        },
                        "error_y": {
                          "color": "#2a3f5f"
                        },
                        "marker": {
                          "line": {
                            "color": "#E5ECF6",
                            "width": 0.5
                          },
                          "pattern": {
                            "fillmode": "overlay",
                            "size": 10,
                            "solidity": 0.2
                          }
                        },
                        "type": "bar"
                      }
                    ],
                    "barpolar": [
                      {
                        "marker": {
                          "line": {
                            "color": "#E5ECF6",
                            "width": 0.5
                          },
                          "pattern": {
                            "fillmode": "overlay",
                            "size": 10,
                            "solidity": 0.2
                          }
                        },
                        "type": "barpolar"
                      }
                    ],
                    "carpet": [
                      {
                        "aaxis": {
                          "endlinecolor": "#2a3f5f",
                          "gridcolor": "white",
                          "linecolor": "white",
                          "minorgridcolor": "white",
                          "startlinecolor": "#2a3f5f"
                        },
                        "baxis": {
                          "endlinecolor": "#2a3f5f",
                          "gridcolor": "white",
                          "linecolor": "white",
                          "minorgridcolor": "white",
                          "startlinecolor": "#2a3f5f"
                        },
                        "type": "carpet"
                      }
                    ],
                    "choropleth": [
                      {
                        "colorbar": {
                          "outlinewidth": 0,
                          "ticks": ""
                        },
                        "type": "choropleth"
                      }
                    ],
                    "contour": [
                      {
                        "colorbar": {
                          "outlinewidth": 0,
                          "ticks": ""
                        },
                        "colorscale": [
                          [
                            0,
                            "#0d0887"
                          ],
                          [
                            0.1111111111111111,
                            "#46039f"
                          ],
                          [
                            0.2222222222222222,
                            "#7201a8"
                          ],
                          [
                            0.3333333333333333,
                            "#9c179e"
                          ],
                          [
                            0.4444444444444444,
                            "#bd3786"
                          ],
                          [
                            0.5555555555555556,
                            "#d8576b"
                          ],
                          [
                            0.6666666666666666,
                            "#ed7953"
                          ],
                          [
                            0.7777777777777778,
                            "#fb9f3a"
                          ],
                          [
                            0.8888888888888888,
                            "#fdca26"
                          ],
                          [
                            1,
                            "#f0f921"
                          ]
                        ],
                        "type": "contour"
                      }
                    ],
                    "contourcarpet": [
                      {
                        "colorbar": {
                          "outlinewidth": 0,
                          "ticks": ""
                        },
                        "type": "contourcarpet"
                      }
                    ],
                    "heatmap": [
                      {
                        "colorbar": {
                          "outlinewidth": 0,
                          "ticks": ""
                        },
                        "colorscale": [
                          [
                            0,
                            "#0d0887"
                          ],
                          [
                            0.1111111111111111,
                            "#46039f"
                          ],
                          [
                            0.2222222222222222,
                            "#7201a8"
                          ],
                          [
                            0.3333333333333333,
                            "#9c179e"
                          ],
                          [
                            0.4444444444444444,
                            "#bd3786"
                          ],
                          [
                            0.5555555555555556,
                            "#d8576b"
                          ],
                          [
                            0.6666666666666666,
                            "#ed7953"
                          ],
                          [
                            0.7777777777777778,
                            "#fb9f3a"
                          ],
                          [
                            0.8888888888888888,
                            "#fdca26"
                          ],
                          [
                            1,
                            "#f0f921"
                          ]
                        ],
                        "type": "heatmap"
                      }
                    ],
                    "heatmapgl": [
                      {
                        "colorbar": {
                          "outlinewidth": 0,
                          "ticks": ""
                        },
                        "colorscale": [
                          [
                            0,
                            "#0d0887"
                          ],
                          [
                            0.1111111111111111,
                            "#46039f"
                          ],
                          [
                            0.2222222222222222,
                            "#7201a8"
                          ],
                          [
                            0.3333333333333333,
                            "#9c179e"
                          ],
                          [
                            0.4444444444444444,
                            "#bd3786"
                          ],
                          [
                            0.5555555555555556,
                            "#d8576b"
                          ],
                          [
                            0.6666666666666666,
                            "#ed7953"
                          ],
                          [
                            0.7777777777777778,
                            "#fb9f3a"
                          ],
                          [
                            0.8888888888888888,
                            "#fdca26"
                          ],
                          [
                            1,
                            "#f0f921"
                          ]
                        ],
                        "type": "heatmapgl"
                      }
                    ],
                    "histogram": [
                      {
                        "marker": {
                          "pattern": {
                            "fillmode": "overlay",
                            "size": 10,
                            "solidity": 0.2
                          }
                        },
                        "type": "histogram"
                      }
                    ],
                    "histogram2d": [
                      {
                        "colorbar": {
                          "outlinewidth": 0,
                          "ticks": ""
                        },
                        "colorscale": [
                          [
                            0,
                            "#0d0887"
                          ],
                          [
                            0.1111111111111111,
                            "#46039f"
                          ],
                          [
                            0.2222222222222222,
                            "#7201a8"
                          ],
                          [
                            0.3333333333333333,
                            "#9c179e"
                          ],
                          [
                            0.4444444444444444,
                            "#bd3786"
                          ],
                          [
                            0.5555555555555556,
                            "#d8576b"
                          ],
                          [
                            0.6666666666666666,
                            "#ed7953"
                          ],
                          [
                            0.7777777777777778,
                            "#fb9f3a"
                          ],
                          [
                            0.8888888888888888,
                            "#fdca26"
                          ],
                          [
                            1,
                            "#f0f921"
                          ]
                        ],
                        "type": "histogram2d"
                      }
                    ],
                    "histogram2dcontour": [
                      {
                        "colorbar": {
                          "outlinewidth": 0,
                          "ticks": ""
                        },
                        "colorscale": [
                          [
                            0,
                            "#0d0887"
                          ],
                          [
                            0.1111111111111111,
                            "#46039f"
                          ],
                          [
                            0.2222222222222222,
                            "#7201a8"
                          ],
                          [
                            0.3333333333333333,
                            "#9c179e"
                          ],
                          [
                            0.4444444444444444,
                            "#bd3786"
                          ],
                          [
                            0.5555555555555556,
                            "#d8576b"
                          ],
                          [
                            0.6666666666666666,
                            "#ed7953"
                          ],
                          [
                            0.7777777777777778,
                            "#fb9f3a"
                          ],
                          [
                            0.8888888888888888,
                            "#fdca26"
                          ],
                          [
                            1,
                            "#f0f921"
                          ]
                        ],
                        "type": "histogram2dcontour"
                      }
                    ],
                    "mesh3d": [
                      {
                        "colorbar": {
                          "outlinewidth": 0,
                          "ticks": ""
                        },
                        "type": "mesh3d"
                      }
                    ],
                    "parcoords": [
                      {
                        "line": {
                          "colorbar": {
                            "outlinewidth": 0,
                            "ticks": ""
                          }
                        },
                        "type": "parcoords"
                      }
                    ],
                    "pie": [
                      {
                        "automargin": true,
                        "type": "pie"
                      }
                    ],
                    "scatter": [
                      {
                        "fillpattern": {
                          "fillmode": "overlay",
                          "size": 10,
                          "solidity": 0.2
                        },
                        "type": "scatter"
                      }
                    ],
                    "scatter3d": [
                      {
                        "line": {
                          "colorbar": {
                            "outlinewidth": 0,
                            "ticks": ""
                          }
                        },
                        "marker": {
                          "colorbar": {
                            "outlinewidth": 0,
                            "ticks": ""
                          }
                        },
                        "type": "scatter3d"
                      }
                    ],
                    "scattercarpet": [
                      {
                        "marker": {
                          "colorbar": {
                            "outlinewidth": 0,
                            "ticks": ""
                          }
                        },
                        "type": "scattercarpet"
                      }
                    ],
                    "scattergeo": [
                      {
                        "marker": {
                          "colorbar": {
                            "outlinewidth": 0,
                            "ticks": ""
                          }
                        },
                        "type": "scattergeo"
                      }
                    ],
                    "scattergl": [
                      {
                        "marker": {
                          "colorbar": {
                            "outlinewidth": 0,
                            "ticks": ""
                          }
                        },
                        "type": "scattergl"
                      }
                    ],
                    "scattermapbox": [
                      {
                        "marker": {
                          "colorbar": {
                            "outlinewidth": 0,
                            "ticks": ""
                          }
                        },
                        "type": "scattermapbox"
                      }
                    ],
                    "scatterpolar": [
                      {
                        "marker": {
                          "colorbar": {
                            "outlinewidth": 0,
                            "ticks": ""
                          }
                        },
                        "type": "scatterpolar"
                      }
                    ],
                    "scatterpolargl": [
                      {
                        "marker": {
                          "colorbar": {
                            "outlinewidth": 0,
                            "ticks": ""
                          }
                        },
                        "type": "scatterpolargl"
                      }
                    ],
                    "scatterternary": [
                      {
                        "marker": {
                          "colorbar": {
                            "outlinewidth": 0,
                            "ticks": ""
                          }
                        },
                        "type": "scatterternary"
                      }
                    ],
                    "surface": [
                      {
                        "colorbar": {
                          "outlinewidth": 0,
                          "ticks": ""
                        },
                        "colorscale": [
                          [
                            0,
                            "#0d0887"
                          ],
                          [
                            0.1111111111111111,
                            "#46039f"
                          ],
                          [
                            0.2222222222222222,
                            "#7201a8"
                          ],
                          [
                            0.3333333333333333,
                            "#9c179e"
                          ],
                          [
                            0.4444444444444444,
                            "#bd3786"
                          ],
                          [
                            0.5555555555555556,
                            "#d8576b"
                          ],
                          [
                            0.6666666666666666,
                            "#ed7953"
                          ],
                          [
                            0.7777777777777778,
                            "#fb9f3a"
                          ],
                          [
                            0.8888888888888888,
                            "#fdca26"
                          ],
                          [
                            1,
                            "#f0f921"
                          ]
                        ],
                        "type": "surface"
                      }
                    ],
                    "table": [
                      {
                        "cells": {
                          "fill": {
                            "color": "#EBF0F8"
                          },
                          "line": {
                            "color": "white"
                          }
                        },
                        "header": {
                          "fill": {
                            "color": "#C8D4E3"
                          },
                          "line": {
                            "color": "white"
                          }
                        },
                        "type": "table"
                      }
                    ]
                  },
                  "layout": {
                    "annotationdefaults": {
                      "arrowcolor": "#2a3f5f",
                      "arrowhead": 0,
                      "arrowwidth": 1
                    },
                    "autotypenumbers": "strict",
                    "coloraxis": {
                      "colorbar": {
                        "outlinewidth": 0,
                        "ticks": ""
                      }
                    },
                    "colorscale": {
                      "diverging": [
                        [
                          0,
                          "#8e0152"
                        ],
                        [
                          0.1,
                          "#c51b7d"
                        ],
                        [
                          0.2,
                          "#de77ae"
                        ],
                        [
                          0.3,
                          "#f1b6da"
                        ],
                        [
                          0.4,
                          "#fde0ef"
                        ],
                        [
                          0.5,
                          "#f7f7f7"
                        ],
                        [
                          0.6,
                          "#e6f5d0"
                        ],
                        [
                          0.7,
                          "#b8e186"
                        ],
                        [
                          0.8,
                          "#7fbc41"
                        ],
                        [
                          0.9,
                          "#4d9221"
                        ],
                        [
                          1,
                          "#276419"
                        ]
                      ],
                      "sequential": [
                        [
                          0,
                          "#0d0887"
                        ],
                        [
                          0.1111111111111111,
                          "#46039f"
                        ],
                        [
                          0.2222222222222222,
                          "#7201a8"
                        ],
                        [
                          0.3333333333333333,
                          "#9c179e"
                        ],
                        [
                          0.4444444444444444,
                          "#bd3786"
                        ],
                        [
                          0.5555555555555556,
                          "#d8576b"
                        ],
                        [
                          0.6666666666666666,
                          "#ed7953"
                        ],
                        [
                          0.7777777777777778,
                          "#fb9f3a"
                        ],
                        [
                          0.8888888888888888,
                          "#fdca26"
                        ],
                        [
                          1,
                          "#f0f921"
                        ]
                      ],
                      "sequentialminus": [
                        [
                          0,
                          "#0d0887"
                        ],
                        [
                          0.1111111111111111,
                          "#46039f"
                        ],
                        [
                          0.2222222222222222,
                          "#7201a8"
                        ],
                        [
                          0.3333333333333333,
                          "#9c179e"
                        ],
                        [
                          0.4444444444444444,
                          "#bd3786"
                        ],
                        [
                          0.5555555555555556,
                          "#d8576b"
                        ],
                        [
                          0.6666666666666666,
                          "#ed7953"
                        ],
                        [
                          0.7777777777777778,
                          "#fb9f3a"
                        ],
                        [
                          0.8888888888888888,
                          "#fdca26"
                        ],
                        [
                          1,
                          "#f0f921"
                        ]
                      ]
                    },
                    "colorway": [
                      "#636efa",
                      "#EF553B",
                      "#00cc96",
                      "#ab63fa",
                      "#FFA15A",
                      "#19d3f3",
                      "#FF6692",
                      "#B6E880",
                      "#FF97FF",
                      "#FECB52"
                    ],
                    "font": {
                      "color": "#2a3f5f"
                    },
                    "geo": {
                      "bgcolor": "white",
                      "lakecolor": "white",
                      "landcolor": "#E5ECF6",
                      "showlakes": true,
                      "showland": true,
                      "subunitcolor": "white"
                    },
                    "hoverlabel": {
                      "align": "left"
                    },
                    "hovermode": "closest",
                    "mapbox": {
                      "style": "light"
                    },
                    "paper_bgcolor": "white",
                    "plot_bgcolor": "#E5ECF6",
                    "polar": {
                      "angularaxis": {
                        "gridcolor": "white",
                        "linecolor": "white",
                        "ticks": ""
                      },
                      "bgcolor": "#E5ECF6",
                      "radialaxis": {
                        "gridcolor": "white",
                        "linecolor": "white",
                        "ticks": ""
                      }
                    },
                    "scene": {
                      "xaxis": {
                        "backgroundcolor": "#E5ECF6",
                        "gridcolor": "white",
                        "gridwidth": 2,
                        "linecolor": "white",
                        "showbackground": true,
                        "ticks": "",
                        "zerolinecolor": "white"
                      },
                      "yaxis": {
                        "backgroundcolor": "#E5ECF6",
                        "gridcolor": "white",
                        "gridwidth": 2,
                        "linecolor": "white",
                        "showbackground": true,
                        "ticks": "",
                        "zerolinecolor": "white"
                      },
                      "zaxis": {
                        "backgroundcolor": "#E5ECF6",
                        "gridcolor": "white",
                        "gridwidth": 2,
                        "linecolor": "white",
                        "showbackground": true,
                        "ticks": "",
                        "zerolinecolor": "white"
                      }
                    },
                    "shapedefaults": {
                      "line": {
                        "color": "#2a3f5f"
                      }
                    },
                    "ternary": {
                      "aaxis": {
                        "gridcolor": "white",
                        "linecolor": "white",
                        "ticks": ""
                      },
                      "baxis": {
                        "gridcolor": "white",
                        "linecolor": "white",
                        "ticks": ""
                      },
                      "bgcolor": "#E5ECF6",
                      "caxis": {
                        "gridcolor": "white",
                        "linecolor": "white",
                        "ticks": ""
                      }
                    },
                    "title": {
                      "x": 0.05
                    },
                    "xaxis": {
                      "automargin": true,
                      "gridcolor": "white",
                      "linecolor": "white",
                      "ticks": "",
                      "title": {
                        "standoff": 15
                      },
                      "zerolinecolor": "white",
                      "zerolinewidth": 2
                    },
                    "yaxis": {
                      "automargin": true,
                      "gridcolor": "white",
                      "linecolor": "white",
                      "ticks": "",
                      "title": {
                        "standoff": 15
                      },
                      "zerolinecolor": "white",
                      "zerolinewidth": 2
                    }
                  }
                }
              }
            }
          },
          "metadata": {},
          "output_type": "display_data"
        }
      ],
      "source": [
        "overall_point_cloud_plot = gtda.plotting.plot_point_cloud(overall_point_clouds[print_obj])\n",
        "display(overall_point_cloud_plot)\n",
        "overall_point_cloud_plot.write_image(file = f\"{subj}/{exp}/overall_point_cloud.svg\", format = \"svg\")"
      ]
    },
    {
      "cell_type": "markdown",
      "metadata": {},
      "source": [
        "#### VietorisRipsPersistence"
      ]
    },
    {
      "cell_type": "code",
      "execution_count": 63,
      "metadata": {},
      "outputs": [
        {
          "name": "stdout",
          "output_type": "stream",
          "text": [
            "(1180, 560, 3)\n"
          ]
        }
      ],
      "source": [
        "overall_persistence = gtda.homology.VietorisRipsPersistence(homology_dimensions = OVERALL_HOMOLOGY_DIMENSIONS, n_jobs = -1)\n",
        "overall_diagrams = overall_persistence.fit_transform(overall_point_clouds)\n",
        "numpy.save(f\"{subj}/{exp}/overall_diagrams.npy\", overall_diagrams)\n",
        "print(overall_diagrams.shape)"
      ]
    },
    {
      "cell_type": "code",
      "execution_count": 64,
      "metadata": {},
      "outputs": [
        {
          "data": {
            "application/vnd.plotly.v1+json": {
              "config": {
                "plotlyServerURL": "https://plot.ly"
              },
              "data": [
                {
                  "hoverinfo": "none",
                  "line": {
                    "color": "black",
                    "dash": "dash",
                    "width": 1
                  },
                  "mode": "lines",
                  "showlegend": false,
                  "type": "scatter",
                  "x": [
                    0.00011406254343455657,
                    0.00018643533549038692
                  ],
                  "y": [
                    0.00011406254343455657,
                    0.00018643533549038692
                  ]
                },
                {
                  "hoverinfo": "text",
                  "hovertext": [
                    "(0.00016861059702932835, 0.00017113625654019415)",
                    "(0.0001638266257941723, 0.00016484284424223006)",
                    "(0.00016255787340924144, 0.00017731859406922013)",
                    "(0.00016069452976807952, 0.00016161278472281992)",
                    "(0.00015729306323919445, 0.0001588275918038562)",
                    "(0.00015284441178664565, 0.00015318489749915898)",
                    "(0.00015254832396749407, 0.0001535865303594619)",
                    "(0.00015027844347059727, 0.0001517218624940142)",
                    "(0.00015019552665762603, 0.0001538615906611085)",
                    "(0.00014882393588777632, 0.00015371220069937408)",
                    "(0.00014862962416373193, 0.00015081885794643313)",
                    "(0.0001479279453633353, 0.00015278911450877786)",
                    "(0.00014778543845750391, 0.0001514371542725712)",
                    "(0.00014757405733689666, 0.00015080584853421897)",
                    "(0.0001467430411139503, 0.00014919295790605247)",
                    "(0.00014653692778665572, 0.00014758021279703826)",
                    "(0.00014639715664088726, 0.00015125649224501103)",
                    "(0.00014630133227910846, 0.00014902290422469378)",
                    "(0.0001462306536268443, 0.00015113409608602524)",
                    "(0.00014609085337724537, 0.00014929294411558658)",
                    "(0.00014534305955749005, 0.000150744104757905)",
                    "(0.0001453006116207689, 0.00015629602421540767)",
                    "(0.00014502792328130454, 0.00014639680739492178)",
                    "(0.0001445755042368546, 0.00015140639152377844)",
                    "(0.00014456406643148512, 0.00014613238454330713)",
                    "(0.00014429693692363799, 0.00014496535004582256)",
                    "(0.0001436898164683953, 0.00015491207886952907)",
                    "(0.0001435082667740062, 0.00014444260159507394)",
                    "(0.00014343652583193034, 0.00014783136430196464)",
                    "(0.0001430635165888816, 0.00015032876399345696)",
                    "(0.0001426958478987217, 0.00014523338177241385)",
                    "(0.00014221300079952925, 0.00014873876352794468)",
                    "(0.00014144208398647606, 0.00014758021279703826)",
                    "(0.00014128370094113052, 0.000144979014294222)",
                    "(0.00014111545169726014, 0.00014292544801719487)",
                    "(0.0001410207769367844, 0.00014488653687294573)",
                    "(0.0001409945252817124, 0.00014110606571193784)",
                    "(0.00014087994350120425, 0.00014456111239269376)",
                    "(0.00014064725837670267, 0.000140872216434218)",
                    "(0.00014049957098904997, 0.00014763801300432533)",
                    "(0.00014018044748809189, 0.00014571132487617433)",
                    "(0.00013978342758491635, 0.00014134671073406935)",
                    "(0.0001397310697939247, 0.00013999801012687385)",
                    "(0.0001394091232214123, 0.00014210988592822105)",
                    "(0.0001391504774801433, 0.0001428456453140825)",
                    "(0.00013910490088164806, 0.00014298564929049462)",
                    "(0.00013910136476624757, 0.0001536709605716169)",
                    "(0.00013907995889894664, 0.00014600154827348888)",
                    "(0.0001386345102218911, 0.00013998191570863128)",
                    "(0.00013813748955726624, 0.00013925439270678908)",
                    "(0.0001381238835165277, 0.00013953492452856153)",
                    "(0.0001376480795443058, 0.0001514076575404033)",
                    "(0.0001374952116748318, 0.000138221905217506)",
                    "(0.0001372162951156497, 0.0001465070090489462)",
                    "(0.0001371060498058796, 0.0001449455157853663)",
                    "(0.00013658913667313755, 0.00013832130935043097)",
                    "(0.00013654795475304127, 0.0001504828833276406)",
                    "(0.00013636636140290648, 0.00014080175606068224)",
                    "(0.00013635304640047252, 0.00013742221926804632)",
                    "(0.000136281581944786, 0.00013782248424831778)",
                    "(0.00013607600703835487, 0.00014909783203620464)",
                    "(0.0001360530441161245, 0.00014045642456039786)",
                    "(0.00013591970491688699, 0.0001482368097640574)",
                    "(0.00013575250341091305, 0.00014487285807263106)",
                    "(0.00013566164125222713, 0.00014089958858676255)",
                    "(0.00013555146870203316, 0.00014045835996512324)",
                    "(0.0001348301739199087, 0.00014125484449323267)",
                    "(0.00013475005107466131, 0.0001379936293233186)",
                    "(0.0001346923818346113, 0.00013724864402320236)",
                    "(0.00013461367052514106, 0.00014878265210427344)",
                    "(0.0001344132178928703, 0.00014080175606068224)",
                    "(0.00013435957953333855, 0.00014108550385572016)",
                    "(0.00013432724517770112, 0.0001428313844371587)",
                    "(0.00013427801604848355, 0.00013703103468287736)",
                    "(0.00013421871699392796, 0.00013799816952086985)",
                    "(0.0001338084548478946, 0.00013880975893698633)",
                    "(0.00013337416748981923, 0.00014183488383423537)",
                    "(0.0001332240499323234, 0.00013918464537709951)",
                    "(0.00013316170952748507, 0.00014075072249397635)",
                    "(0.00013315163960214704, 0.0001517365308245644)",
                    "(0.00013312189548742026, 0.00015055009862408042)",
                    "(0.0001330207014689222, 0.0001336409623036161)",
                    "(0.00013296747056301683, 0.00013703103468287736)",
                    "(0.00013295814278535545, 0.00013404783385340124)",
                    "(0.00013294265954755247, 0.00013480897177942097)",
                    "(0.00013262299762573093, 0.00015227736730594188)",
                    "(0.00013229850446805358, 0.00014033621118869632)",
                    "(0.00013228325406089425, 0.00013326594489626586)",
                    "(0.0001321564632235095, 0.0001455796300433576)",
                    "(0.0001321410818491131, 0.00013457395834848285)",
                    "(0.00013164960546419024, 0.00013324855535756797)",
                    "(0.00013148417929187417, 0.00013575406046584249)",
                    "(0.0001314549590460956, 0.00013242139539215714)",
                    "(0.00013067096006125212, 0.00013695581583306193)",
                    "(0.00013041756756138057, 0.00015020066348370165)",
                    "(0.00013039800978731364, 0.00014756189193576574)",
                    "(0.0001303253957303241, 0.00013835915888193995)",
                    "(0.00013024955114815384, 0.00014364990056492388)",
                    "(0.00012992456322535872, 0.00015065216575749218)",
                    "(0.00012988959497306496, 0.00014269663370214403)",
                    "(0.00012981920735910535, 0.00013257023238111287)",
                    "(0.00012967515795025975, 0.00015129226085264236)",
                    "(0.0001296041300520301, 0.00013357405259739608)",
                    "(0.00012941419845446944, 0.00013385065540205687)",
                    "(0.0001291284861508757, 0.0001458622282370925)",
                    "(0.00012912016245536506, 0.00013391091488301754)",
                    "(0.00012842737487517297, 0.00013342818419914693)",
                    "(0.00012833860819227993, 0.00013009797839913517)",
                    "(0.0001282587181776762, 0.0001287795603275299)",
                    "(0.00012786748993676156, 0.00015014703967608511)",
                    "(0.00012777128722518682, 0.00012872093066107482)",
                    "(0.00012774976494256407, 0.0001377555017825216)",
                    "(0.00012725783744826913, 0.00014657649444416165)",
                    "(0.00012704018445219845, 0.00013972196029499173)",
                    "(0.00012701633386313915, 0.00014783881488256156)",
                    "(0.0001268549240194261, 0.00013933793525211513)",
                    "(0.00012685223191510886, 0.00013140255759935826)",
                    "(0.00012684900138992816, 0.00014730698603671044)",
                    "(0.00012681991211138666, 0.0001389124954584986)",
                    "(0.00012677618360612541, 0.00013016261800657958)",
                    "(0.00012654854799620807, 0.00012998140300624073)",
                    "(0.00012643521768040955, 0.00013009797839913517)",
                    "(0.0001261940924450755, 0.00012837363465223461)",
                    "(0.0001261777797481045, 0.00013645595754496753)",
                    "(0.00012614121078513563, 0.00015247859118971974)",
                    "(0.00012596008309628814, 0.0001282403973164037)",
                    "(0.00012593329302035272, 0.0001319002767559141)",
                    "(0.00012581275950651616, 0.00013099820353090763)",
                    "(0.0001258115953532979, 0.00012802908895537257)",
                    "(0.0001255888055311516, 0.0001302109594689682)",
                    "(0.00012509198859333992, 0.0001422936184098944)",
                    "(0.00012449735368136317, 0.00013138378562871367)",
                    "(0.00012443280138541013, 0.00012895114195998758)",
                    "(0.00012443090963643044, 0.0001351640239590779)",
                    "(0.00012435196549631655, 0.00013542102533392608)",
                    "(0.0001242142461705953, 0.00014602430746890604)",
                    "(0.00012407613394316286, 0.00013264377776067704)",
                    "(0.0001238462864421308, 0.00013518985360860825)",
                    "(0.00012378695828374475, 0.00013589490845333785)",
                    "(0.0001237298856722191, 0.00014763801300432533)",
                    "(0.00012334587518125772, 0.00014894806372467428)",
                    "(0.00012306821008678526, 0.0001344017800875008)",
                    "(0.00012303818948566914, 0.00013039662735536695)",
                    "(0.00012258675997145474, 0.00014133244985714555)",
                    "(0.00012239017814863473, 0.0001328915823251009)",
                    "(0.00012216830509714782, 0.00014122179709374905)",
                    "(0.0001221143320435658, 0.000135848720674403)",
                    "(0.00012205735401948914, 0.00014762495993636549)",
                    "(0.00012187837273813784, 0.00013870804104954004)",
                    "(0.00012183655053377151, 0.00014091894263401628)",
                    "(0.00012103618064429611, 0.0001386939111398533)",
                    "(0.00012087721552234143, 0.00014932903286535293)",
                    "(0.000119888260087464, 0.0001475792087148875)",
                    "(0.00011942221317440271, 0.00014660513261333108)",
                    "(0.00011759038898162544, 0.0001319002767559141)",
                    "(0.00011689268285408616, 0.0001384908246109262)",
                    "(0.00011556815297808498, 0.00011850299051729962)",
                    "(0.0001154543278971687, 0.00015741396055091172)"
                  ],
                  "mode": "markers",
                  "name": "H1",
                  "type": "scatter",
                  "x": [
                    0.00016861059702932835,
                    0.0001638266257941723,
                    0.00016255787340924144,
                    0.00016069452976807952,
                    0.00015729306323919445,
                    0.00015284441178664565,
                    0.00015254832396749407,
                    0.00015027844347059727,
                    0.00015019552665762603,
                    0.00014882393588777632,
                    0.00014862962416373193,
                    0.0001479279453633353,
                    0.00014778543845750391,
                    0.00014757405733689666,
                    0.0001467430411139503,
                    0.00014653692778665572,
                    0.00014639715664088726,
                    0.00014630133227910846,
                    0.0001462306536268443,
                    0.00014609085337724537,
                    0.00014534305955749005,
                    0.0001453006116207689,
                    0.00014502792328130454,
                    0.0001445755042368546,
                    0.00014456406643148512,
                    0.00014429693692363799,
                    0.0001436898164683953,
                    0.0001435082667740062,
                    0.00014343652583193034,
                    0.0001430635165888816,
                    0.0001426958478987217,
                    0.00014221300079952925,
                    0.00014144208398647606,
                    0.00014128370094113052,
                    0.00014111545169726014,
                    0.0001410207769367844,
                    0.0001409945252817124,
                    0.00014087994350120425,
                    0.00014064725837670267,
                    0.00014049957098904997,
                    0.00014018044748809189,
                    0.00013978342758491635,
                    0.0001397310697939247,
                    0.0001394091232214123,
                    0.0001391504774801433,
                    0.00013910490088164806,
                    0.00013910136476624757,
                    0.00013907995889894664,
                    0.0001386345102218911,
                    0.00013813748955726624,
                    0.0001381238835165277,
                    0.0001376480795443058,
                    0.0001374952116748318,
                    0.0001372162951156497,
                    0.0001371060498058796,
                    0.00013658913667313755,
                    0.00013654795475304127,
                    0.00013636636140290648,
                    0.00013635304640047252,
                    0.000136281581944786,
                    0.00013607600703835487,
                    0.0001360530441161245,
                    0.00013591970491688699,
                    0.00013575250341091305,
                    0.00013566164125222713,
                    0.00013555146870203316,
                    0.0001348301739199087,
                    0.00013475005107466131,
                    0.0001346923818346113,
                    0.00013461367052514106,
                    0.0001344132178928703,
                    0.00013435957953333855,
                    0.00013432724517770112,
                    0.00013427801604848355,
                    0.00013421871699392796,
                    0.0001338084548478946,
                    0.00013337416748981923,
                    0.0001332240499323234,
                    0.00013316170952748507,
                    0.00013315163960214704,
                    0.00013312189548742026,
                    0.0001330207014689222,
                    0.00013296747056301683,
                    0.00013295814278535545,
                    0.00013294265954755247,
                    0.00013262299762573093,
                    0.00013229850446805358,
                    0.00013228325406089425,
                    0.0001321564632235095,
                    0.0001321410818491131,
                    0.00013164960546419024,
                    0.00013148417929187417,
                    0.0001314549590460956,
                    0.00013067096006125212,
                    0.00013041756756138057,
                    0.00013039800978731364,
                    0.0001303253957303241,
                    0.00013024955114815384,
                    0.00012992456322535872,
                    0.00012988959497306496,
                    0.00012981920735910535,
                    0.00012967515795025975,
                    0.0001296041300520301,
                    0.00012941419845446944,
                    0.0001291284861508757,
                    0.00012912016245536506,
                    0.00012842737487517297,
                    0.00012833860819227993,
                    0.0001282587181776762,
                    0.00012786748993676156,
                    0.00012777128722518682,
                    0.00012774976494256407,
                    0.00012725783744826913,
                    0.00012704018445219845,
                    0.00012701633386313915,
                    0.0001268549240194261,
                    0.00012685223191510886,
                    0.00012684900138992816,
                    0.00012681991211138666,
                    0.00012677618360612541,
                    0.00012654854799620807,
                    0.00012643521768040955,
                    0.0001261940924450755,
                    0.0001261777797481045,
                    0.00012614121078513563,
                    0.00012596008309628814,
                    0.00012593329302035272,
                    0.00012581275950651616,
                    0.0001258115953532979,
                    0.0001255888055311516,
                    0.00012509198859333992,
                    0.00012449735368136317,
                    0.00012443280138541013,
                    0.00012443090963643044,
                    0.00012435196549631655,
                    0.0001242142461705953,
                    0.00012407613394316286,
                    0.0001238462864421308,
                    0.00012378695828374475,
                    0.0001237298856722191,
                    0.00012334587518125772,
                    0.00012306821008678526,
                    0.00012303818948566914,
                    0.00012258675997145474,
                    0.00012239017814863473,
                    0.00012216830509714782,
                    0.0001221143320435658,
                    0.00012205735401948914,
                    0.00012187837273813784,
                    0.00012183655053377151,
                    0.00012103618064429611,
                    0.00012087721552234143,
                    0.000119888260087464,
                    0.00011942221317440271,
                    0.00011759038898162544,
                    0.00011689268285408616,
                    0.00011556815297808498,
                    0.0001154543278971687
                  ],
                  "y": [
                    0.00017113625654019415,
                    0.00016484284424223006,
                    0.00017731859406922013,
                    0.00016161278472281992,
                    0.0001588275918038562,
                    0.00015318489749915898,
                    0.0001535865303594619,
                    0.0001517218624940142,
                    0.0001538615906611085,
                    0.00015371220069937408,
                    0.00015081885794643313,
                    0.00015278911450877786,
                    0.0001514371542725712,
                    0.00015080584853421897,
                    0.00014919295790605247,
                    0.00014758021279703826,
                    0.00015125649224501103,
                    0.00014902290422469378,
                    0.00015113409608602524,
                    0.00014929294411558658,
                    0.000150744104757905,
                    0.00015629602421540767,
                    0.00014639680739492178,
                    0.00015140639152377844,
                    0.00014613238454330713,
                    0.00014496535004582256,
                    0.00015491207886952907,
                    0.00014444260159507394,
                    0.00014783136430196464,
                    0.00015032876399345696,
                    0.00014523338177241385,
                    0.00014873876352794468,
                    0.00014758021279703826,
                    0.000144979014294222,
                    0.00014292544801719487,
                    0.00014488653687294573,
                    0.00014110606571193784,
                    0.00014456111239269376,
                    0.000140872216434218,
                    0.00014763801300432533,
                    0.00014571132487617433,
                    0.00014134671073406935,
                    0.00013999801012687385,
                    0.00014210988592822105,
                    0.0001428456453140825,
                    0.00014298564929049462,
                    0.0001536709605716169,
                    0.00014600154827348888,
                    0.00013998191570863128,
                    0.00013925439270678908,
                    0.00013953492452856153,
                    0.0001514076575404033,
                    0.000138221905217506,
                    0.0001465070090489462,
                    0.0001449455157853663,
                    0.00013832130935043097,
                    0.0001504828833276406,
                    0.00014080175606068224,
                    0.00013742221926804632,
                    0.00013782248424831778,
                    0.00014909783203620464,
                    0.00014045642456039786,
                    0.0001482368097640574,
                    0.00014487285807263106,
                    0.00014089958858676255,
                    0.00014045835996512324,
                    0.00014125484449323267,
                    0.0001379936293233186,
                    0.00013724864402320236,
                    0.00014878265210427344,
                    0.00014080175606068224,
                    0.00014108550385572016,
                    0.0001428313844371587,
                    0.00013703103468287736,
                    0.00013799816952086985,
                    0.00013880975893698633,
                    0.00014183488383423537,
                    0.00013918464537709951,
                    0.00014075072249397635,
                    0.0001517365308245644,
                    0.00015055009862408042,
                    0.0001336409623036161,
                    0.00013703103468287736,
                    0.00013404783385340124,
                    0.00013480897177942097,
                    0.00015227736730594188,
                    0.00014033621118869632,
                    0.00013326594489626586,
                    0.0001455796300433576,
                    0.00013457395834848285,
                    0.00013324855535756797,
                    0.00013575406046584249,
                    0.00013242139539215714,
                    0.00013695581583306193,
                    0.00015020066348370165,
                    0.00014756189193576574,
                    0.00013835915888193995,
                    0.00014364990056492388,
                    0.00015065216575749218,
                    0.00014269663370214403,
                    0.00013257023238111287,
                    0.00015129226085264236,
                    0.00013357405259739608,
                    0.00013385065540205687,
                    0.0001458622282370925,
                    0.00013391091488301754,
                    0.00013342818419914693,
                    0.00013009797839913517,
                    0.0001287795603275299,
                    0.00015014703967608511,
                    0.00012872093066107482,
                    0.0001377555017825216,
                    0.00014657649444416165,
                    0.00013972196029499173,
                    0.00014783881488256156,
                    0.00013933793525211513,
                    0.00013140255759935826,
                    0.00014730698603671044,
                    0.0001389124954584986,
                    0.00013016261800657958,
                    0.00012998140300624073,
                    0.00013009797839913517,
                    0.00012837363465223461,
                    0.00013645595754496753,
                    0.00015247859118971974,
                    0.0001282403973164037,
                    0.0001319002767559141,
                    0.00013099820353090763,
                    0.00012802908895537257,
                    0.0001302109594689682,
                    0.0001422936184098944,
                    0.00013138378562871367,
                    0.00012895114195998758,
                    0.0001351640239590779,
                    0.00013542102533392608,
                    0.00014602430746890604,
                    0.00013264377776067704,
                    0.00013518985360860825,
                    0.00013589490845333785,
                    0.00014763801300432533,
                    0.00014894806372467428,
                    0.0001344017800875008,
                    0.00013039662735536695,
                    0.00014133244985714555,
                    0.0001328915823251009,
                    0.00014122179709374905,
                    0.000135848720674403,
                    0.00014762495993636549,
                    0.00013870804104954004,
                    0.00014091894263401628,
                    0.0001386939111398533,
                    0.00014932903286535293,
                    0.0001475792087148875,
                    0.00014660513261333108,
                    0.0001319002767559141,
                    0.0001384908246109262,
                    0.00011850299051729962,
                    0.00015741396055091172
                  ]
                },
                {
                  "hoverinfo": "text",
                  "hovertext": [
                    "(0.00018027237092610449, 0.0001817267620936036)",
                    "(0.0001783203479135409, 0.00017832964658737183)",
                    "(0.00017425596888642758, 0.0001755856937961653)",
                    "(0.00016949993732850999, 0.00017034795018844306)",
                    "(0.00016844342462718487, 0.00016919264453463256)",
                    "(0.00016789896471891552, 0.0001694435632089153)",
                    "(0.00016751796647440642, 0.00016898152534849942)",
                    "(0.00016690592747181654, 0.00016706624592188746)",
                    "(0.00016651873011142015, 0.00016705307643860579)",
                    "(0.00016473850701004267, 0.00016553953173570335)",
                    "(0.00016400219465140253, 0.0001646146411076188)",
                    "(0.00016301509458571672, 0.00016382188186980784)",
                    "(0.00016289541963487864, 0.00016654710634611547)",
                    "(0.00016255001537501812, 0.00016459167818538845)",
                    "(0.00016169679292943329, 0.00016872759442776442)",
                    "(0.00016101809160318226, 0.00016951991710811853)",
                    "(0.00015726947458460927, 0.0001623210118850693)",
                    "(0.00015621300553902984, 0.00015995019930414855)",
                    "(0.00015609816182404757, 0.00016314911772496998)",
                    "(0.00015517846622969955, 0.0001558235817356035)",
                    "(0.00015502337191719562, 0.00015638783224858344)",
                    "(0.00015491207886952907, 0.0001558235817356035)",
                    "(0.00015486935444641858, 0.00015612818242516369)",
                    "(0.00015472887025680393, 0.0001560770469950512)",
                    "(0.00015472729864995927, 0.00015751463070046157)",
                    "(0.0001547020219732076, 0.00015537253057118505)",
                    "(0.00015442344010807574, 0.00015679915668442845)",
                    "(0.000154326407937333, 0.00015517519204877317)",
                    "(0.00015427243488375098, 0.000154482971993275)",
                    "(0.00015376927331089973, 0.00015529539086855948)",
                    "(0.00015274489123839885, 0.00015714394976384938)",
                    "(0.00015266425907611847, 0.00015932829410303384)",
                    "(0.00015266425907611847, 0.00015837275714147836)",
                    "(0.00015262866509146988, 0.00015526669449172914)",
                    "(0.00015239794447552413, 0.0001577585790073499)",
                    "(0.000152148466440849, 0.0001540675584692508)",
                    "(0.00015181646449491382, 0.00015586176596116275)",
                    "(0.00015164595970418304, 0.00015348212036769837)",
                    "(0.00015139074821490794, 0.00015649525448679924)",
                    "(0.00015132437692955136, 0.0001560770469950512)",
                    "(0.00015086284838616848, 0.0001545233535580337)",
                    "(0.00015081885794643313, 0.0001542721875011921)",
                    "(0.00014943616406526417, 0.0001531087327748537)",
                    "(0.0001484443200752139, 0.00015667187108192593)",
                    "(0.0001483960368204862, 0.00016183173283934593)",
                    "(0.00014783881488256156, 0.0001558574294904247)",
                    "(0.00014763801300432533, 0.00014911159814801067)",
                    "(0.00014660570013802499, 0.00014800704957451671)",
                    "(0.00014660513261333108, 0.0001506873086327687)",
                    "(0.00014530468615703285, 0.00015217674081213772)",
                    "(0.00014391813601832837, 0.00014540072879754007)",
                    "(0.0001437587634427473, 0.0001448718539904803)",
                    "(0.00014371794532053173, 0.00014504219871014357)",
                    "(0.00014279755123425275, 0.00014299064059741795)",
                    "(0.00014202980673871934, 0.0001453523145755753)",
                    "(0.00014127491158433259, 0.00014456111239269376)",
                    "(0.00014125484449323267, 0.0001416022569173947)",
                    "(0.00014125056623015553, 0.0001424257061444223)",
                    "(0.0001408561656717211, 0.0001432911813026294)",
                    "(0.00014045642456039786, 0.00015148427337408066)",
                    "(0.00013972196029499173, 0.00014580991410184652)",
                    "(0.00013886143278796226, 0.00014546817692462355)",
                    "(0.00013545343244913965, 0.00013811477401759475)"
                  ],
                  "mode": "markers",
                  "name": "H2",
                  "type": "scatter",
                  "x": [
                    0.00018027237092610449,
                    0.0001783203479135409,
                    0.00017425596888642758,
                    0.00016949993732850999,
                    0.00016844342462718487,
                    0.00016789896471891552,
                    0.00016751796647440642,
                    0.00016690592747181654,
                    0.00016651873011142015,
                    0.00016473850701004267,
                    0.00016400219465140253,
                    0.00016301509458571672,
                    0.00016289541963487864,
                    0.00016255001537501812,
                    0.00016169679292943329,
                    0.00016101809160318226,
                    0.00015726947458460927,
                    0.00015621300553902984,
                    0.00015609816182404757,
                    0.00015517846622969955,
                    0.00015502337191719562,
                    0.00015491207886952907,
                    0.00015486935444641858,
                    0.00015472887025680393,
                    0.00015472729864995927,
                    0.0001547020219732076,
                    0.00015442344010807574,
                    0.000154326407937333,
                    0.00015427243488375098,
                    0.00015376927331089973,
                    0.00015274489123839885,
                    0.00015266425907611847,
                    0.00015266425907611847,
                    0.00015262866509146988,
                    0.00015239794447552413,
                    0.000152148466440849,
                    0.00015181646449491382,
                    0.00015164595970418304,
                    0.00015139074821490794,
                    0.00015132437692955136,
                    0.00015086284838616848,
                    0.00015081885794643313,
                    0.00014943616406526417,
                    0.0001484443200752139,
                    0.0001483960368204862,
                    0.00014783881488256156,
                    0.00014763801300432533,
                    0.00014660570013802499,
                    0.00014660513261333108,
                    0.00014530468615703285,
                    0.00014391813601832837,
                    0.0001437587634427473,
                    0.00014371794532053173,
                    0.00014279755123425275,
                    0.00014202980673871934,
                    0.00014127491158433259,
                    0.00014125484449323267,
                    0.00014125056623015553,
                    0.0001408561656717211,
                    0.00014045642456039786,
                    0.00013972196029499173,
                    0.00013886143278796226,
                    0.00013545343244913965
                  ],
                  "y": [
                    0.0001817267620936036,
                    0.00017832964658737183,
                    0.0001755856937961653,
                    0.00017034795018844306,
                    0.00016919264453463256,
                    0.0001694435632089153,
                    0.00016898152534849942,
                    0.00016706624592188746,
                    0.00016705307643860579,
                    0.00016553953173570335,
                    0.0001646146411076188,
                    0.00016382188186980784,
                    0.00016654710634611547,
                    0.00016459167818538845,
                    0.00016872759442776442,
                    0.00016951991710811853,
                    0.0001623210118850693,
                    0.00015995019930414855,
                    0.00016314911772496998,
                    0.0001558235817356035,
                    0.00015638783224858344,
                    0.0001558235817356035,
                    0.00015612818242516369,
                    0.0001560770469950512,
                    0.00015751463070046157,
                    0.00015537253057118505,
                    0.00015679915668442845,
                    0.00015517519204877317,
                    0.000154482971993275,
                    0.00015529539086855948,
                    0.00015714394976384938,
                    0.00015932829410303384,
                    0.00015837275714147836,
                    0.00015526669449172914,
                    0.0001577585790073499,
                    0.0001540675584692508,
                    0.00015586176596116275,
                    0.00015348212036769837,
                    0.00015649525448679924,
                    0.0001560770469950512,
                    0.0001545233535580337,
                    0.0001542721875011921,
                    0.0001531087327748537,
                    0.00015667187108192593,
                    0.00016183173283934593,
                    0.0001558574294904247,
                    0.00014911159814801067,
                    0.00014800704957451671,
                    0.0001506873086327687,
                    0.00015217674081213772,
                    0.00014540072879754007,
                    0.0001448718539904803,
                    0.00014504219871014357,
                    0.00014299064059741795,
                    0.0001453523145755753,
                    0.00014456111239269376,
                    0.0001416022569173947,
                    0.0001424257061444223,
                    0.0001432911813026294,
                    0.00015148427337408066,
                    0.00014580991410184652,
                    0.00014546817692462355,
                    0.00013811477401759475
                  ]
                },
                {
                  "hoverinfo": "text",
                  "hovertext": [
                    "(0.00018421410641167313, 0.0001850435510277748)",
                    "(0.0001825671351980418, 0.00018381809059064835)",
                    "(0.00018133761477656662, 0.00018146906222682446)",
                    "(0.00018070726946461946, 0.00018326673307456076)",
                    "(0.0001759101724019274, 0.00017594850214663893)",
                    "(0.00017258242587558925, 0.00017418511561118066)",
                    "(0.00017025551642291248, 0.00017164796008728445)",
                    "(0.00017007185670081526, 0.00017164796008728445)",
                    "(0.00017007185670081526, 0.0001703739253571257)",
                    "(0.00016762141603976488, 0.00016769628564361483), multiplicity: 2",
                    "(0.00016762141603976488, 0.00016769628564361483), multiplicity: 2",
                    "(0.00016395522106904536, 0.00016492705617565662)",
                    "(0.00016345364565495402, 0.0001647580647841096)",
                    "(0.00016295394743792713, 0.00016446973313577473)",
                    "(0.0001625441509531811, 0.00016446973313577473)",
                    "(0.00016120610234793276, 0.0001613159547559917)",
                    "(0.0001599118550075218, 0.00016280384443234652)",
                    "(0.00015873009397182614, 0.00016087676340248436)",
                    "(0.00015823738067410886, 0.00015909015201032162)",
                    "(0.00015615545271430165, 0.0001600662071723491)",
                    "(0.00015610383707098663, 0.00015690400323364884)",
                    "(0.0001560635573696345, 0.00015669855929445475)",
                    "(0.0001531087327748537, 0.0001533006434328854)",
                    "(0.0001522006350569427, 0.00015262604574672878)",
                    "(0.00015160143084358424, 0.00015262604574672878)",
                    "(0.00014698615996167064, 0.00014750668196938932)"
                  ],
                  "mode": "markers",
                  "name": "H3",
                  "type": "scatter",
                  "x": [
                    0.00018421410641167313,
                    0.0001825671351980418,
                    0.00018133761477656662,
                    0.00018070726946461946,
                    0.0001759101724019274,
                    0.00017258242587558925,
                    0.00017025551642291248,
                    0.00017007185670081526,
                    0.00017007185670081526,
                    0.00016762141603976488,
                    0.00016762141603976488,
                    0.00016395522106904536,
                    0.00016345364565495402,
                    0.00016295394743792713,
                    0.0001625441509531811,
                    0.00016120610234793276,
                    0.0001599118550075218,
                    0.00015873009397182614,
                    0.00015823738067410886,
                    0.00015615545271430165,
                    0.00015610383707098663,
                    0.0001560635573696345,
                    0.0001531087327748537,
                    0.0001522006350569427,
                    0.00015160143084358424,
                    0.00014698615996167064
                  ],
                  "y": [
                    0.0001850435510277748,
                    0.00018381809059064835,
                    0.00018146906222682446,
                    0.00018326673307456076,
                    0.00017594850214663893,
                    0.00017418511561118066,
                    0.00017164796008728445,
                    0.00017164796008728445,
                    0.0001703739253571257,
                    0.00016769628564361483,
                    0.00016769628564361483,
                    0.00016492705617565662,
                    0.0001647580647841096,
                    0.00016446973313577473,
                    0.00016446973313577473,
                    0.0001613159547559917,
                    0.00016280384443234652,
                    0.00016087676340248436,
                    0.00015909015201032162,
                    0.0001600662071723491,
                    0.00015690400323364884,
                    0.00015669855929445475,
                    0.0001533006434328854,
                    0.00015262604574672878,
                    0.00015262604574672878,
                    0.00014750668196938932
                  ]
                }
              ],
              "layout": {
                "height": 500,
                "plot_bgcolor": "white",
                "template": {
                  "data": {
                    "bar": [
                      {
                        "error_x": {
                          "color": "#2a3f5f"
                        },
                        "error_y": {
                          "color": "#2a3f5f"
                        },
                        "marker": {
                          "line": {
                            "color": "#E5ECF6",
                            "width": 0.5
                          },
                          "pattern": {
                            "fillmode": "overlay",
                            "size": 10,
                            "solidity": 0.2
                          }
                        },
                        "type": "bar"
                      }
                    ],
                    "barpolar": [
                      {
                        "marker": {
                          "line": {
                            "color": "#E5ECF6",
                            "width": 0.5
                          },
                          "pattern": {
                            "fillmode": "overlay",
                            "size": 10,
                            "solidity": 0.2
                          }
                        },
                        "type": "barpolar"
                      }
                    ],
                    "carpet": [
                      {
                        "aaxis": {
                          "endlinecolor": "#2a3f5f",
                          "gridcolor": "white",
                          "linecolor": "white",
                          "minorgridcolor": "white",
                          "startlinecolor": "#2a3f5f"
                        },
                        "baxis": {
                          "endlinecolor": "#2a3f5f",
                          "gridcolor": "white",
                          "linecolor": "white",
                          "minorgridcolor": "white",
                          "startlinecolor": "#2a3f5f"
                        },
                        "type": "carpet"
                      }
                    ],
                    "choropleth": [
                      {
                        "colorbar": {
                          "outlinewidth": 0,
                          "ticks": ""
                        },
                        "type": "choropleth"
                      }
                    ],
                    "contour": [
                      {
                        "colorbar": {
                          "outlinewidth": 0,
                          "ticks": ""
                        },
                        "colorscale": [
                          [
                            0,
                            "#0d0887"
                          ],
                          [
                            0.1111111111111111,
                            "#46039f"
                          ],
                          [
                            0.2222222222222222,
                            "#7201a8"
                          ],
                          [
                            0.3333333333333333,
                            "#9c179e"
                          ],
                          [
                            0.4444444444444444,
                            "#bd3786"
                          ],
                          [
                            0.5555555555555556,
                            "#d8576b"
                          ],
                          [
                            0.6666666666666666,
                            "#ed7953"
                          ],
                          [
                            0.7777777777777778,
                            "#fb9f3a"
                          ],
                          [
                            0.8888888888888888,
                            "#fdca26"
                          ],
                          [
                            1,
                            "#f0f921"
                          ]
                        ],
                        "type": "contour"
                      }
                    ],
                    "contourcarpet": [
                      {
                        "colorbar": {
                          "outlinewidth": 0,
                          "ticks": ""
                        },
                        "type": "contourcarpet"
                      }
                    ],
                    "heatmap": [
                      {
                        "colorbar": {
                          "outlinewidth": 0,
                          "ticks": ""
                        },
                        "colorscale": [
                          [
                            0,
                            "#0d0887"
                          ],
                          [
                            0.1111111111111111,
                            "#46039f"
                          ],
                          [
                            0.2222222222222222,
                            "#7201a8"
                          ],
                          [
                            0.3333333333333333,
                            "#9c179e"
                          ],
                          [
                            0.4444444444444444,
                            "#bd3786"
                          ],
                          [
                            0.5555555555555556,
                            "#d8576b"
                          ],
                          [
                            0.6666666666666666,
                            "#ed7953"
                          ],
                          [
                            0.7777777777777778,
                            "#fb9f3a"
                          ],
                          [
                            0.8888888888888888,
                            "#fdca26"
                          ],
                          [
                            1,
                            "#f0f921"
                          ]
                        ],
                        "type": "heatmap"
                      }
                    ],
                    "heatmapgl": [
                      {
                        "colorbar": {
                          "outlinewidth": 0,
                          "ticks": ""
                        },
                        "colorscale": [
                          [
                            0,
                            "#0d0887"
                          ],
                          [
                            0.1111111111111111,
                            "#46039f"
                          ],
                          [
                            0.2222222222222222,
                            "#7201a8"
                          ],
                          [
                            0.3333333333333333,
                            "#9c179e"
                          ],
                          [
                            0.4444444444444444,
                            "#bd3786"
                          ],
                          [
                            0.5555555555555556,
                            "#d8576b"
                          ],
                          [
                            0.6666666666666666,
                            "#ed7953"
                          ],
                          [
                            0.7777777777777778,
                            "#fb9f3a"
                          ],
                          [
                            0.8888888888888888,
                            "#fdca26"
                          ],
                          [
                            1,
                            "#f0f921"
                          ]
                        ],
                        "type": "heatmapgl"
                      }
                    ],
                    "histogram": [
                      {
                        "marker": {
                          "pattern": {
                            "fillmode": "overlay",
                            "size": 10,
                            "solidity": 0.2
                          }
                        },
                        "type": "histogram"
                      }
                    ],
                    "histogram2d": [
                      {
                        "colorbar": {
                          "outlinewidth": 0,
                          "ticks": ""
                        },
                        "colorscale": [
                          [
                            0,
                            "#0d0887"
                          ],
                          [
                            0.1111111111111111,
                            "#46039f"
                          ],
                          [
                            0.2222222222222222,
                            "#7201a8"
                          ],
                          [
                            0.3333333333333333,
                            "#9c179e"
                          ],
                          [
                            0.4444444444444444,
                            "#bd3786"
                          ],
                          [
                            0.5555555555555556,
                            "#d8576b"
                          ],
                          [
                            0.6666666666666666,
                            "#ed7953"
                          ],
                          [
                            0.7777777777777778,
                            "#fb9f3a"
                          ],
                          [
                            0.8888888888888888,
                            "#fdca26"
                          ],
                          [
                            1,
                            "#f0f921"
                          ]
                        ],
                        "type": "histogram2d"
                      }
                    ],
                    "histogram2dcontour": [
                      {
                        "colorbar": {
                          "outlinewidth": 0,
                          "ticks": ""
                        },
                        "colorscale": [
                          [
                            0,
                            "#0d0887"
                          ],
                          [
                            0.1111111111111111,
                            "#46039f"
                          ],
                          [
                            0.2222222222222222,
                            "#7201a8"
                          ],
                          [
                            0.3333333333333333,
                            "#9c179e"
                          ],
                          [
                            0.4444444444444444,
                            "#bd3786"
                          ],
                          [
                            0.5555555555555556,
                            "#d8576b"
                          ],
                          [
                            0.6666666666666666,
                            "#ed7953"
                          ],
                          [
                            0.7777777777777778,
                            "#fb9f3a"
                          ],
                          [
                            0.8888888888888888,
                            "#fdca26"
                          ],
                          [
                            1,
                            "#f0f921"
                          ]
                        ],
                        "type": "histogram2dcontour"
                      }
                    ],
                    "mesh3d": [
                      {
                        "colorbar": {
                          "outlinewidth": 0,
                          "ticks": ""
                        },
                        "type": "mesh3d"
                      }
                    ],
                    "parcoords": [
                      {
                        "line": {
                          "colorbar": {
                            "outlinewidth": 0,
                            "ticks": ""
                          }
                        },
                        "type": "parcoords"
                      }
                    ],
                    "pie": [
                      {
                        "automargin": true,
                        "type": "pie"
                      }
                    ],
                    "scatter": [
                      {
                        "fillpattern": {
                          "fillmode": "overlay",
                          "size": 10,
                          "solidity": 0.2
                        },
                        "type": "scatter"
                      }
                    ],
                    "scatter3d": [
                      {
                        "line": {
                          "colorbar": {
                            "outlinewidth": 0,
                            "ticks": ""
                          }
                        },
                        "marker": {
                          "colorbar": {
                            "outlinewidth": 0,
                            "ticks": ""
                          }
                        },
                        "type": "scatter3d"
                      }
                    ],
                    "scattercarpet": [
                      {
                        "marker": {
                          "colorbar": {
                            "outlinewidth": 0,
                            "ticks": ""
                          }
                        },
                        "type": "scattercarpet"
                      }
                    ],
                    "scattergeo": [
                      {
                        "marker": {
                          "colorbar": {
                            "outlinewidth": 0,
                            "ticks": ""
                          }
                        },
                        "type": "scattergeo"
                      }
                    ],
                    "scattergl": [
                      {
                        "marker": {
                          "colorbar": {
                            "outlinewidth": 0,
                            "ticks": ""
                          }
                        },
                        "type": "scattergl"
                      }
                    ],
                    "scattermapbox": [
                      {
                        "marker": {
                          "colorbar": {
                            "outlinewidth": 0,
                            "ticks": ""
                          }
                        },
                        "type": "scattermapbox"
                      }
                    ],
                    "scatterpolar": [
                      {
                        "marker": {
                          "colorbar": {
                            "outlinewidth": 0,
                            "ticks": ""
                          }
                        },
                        "type": "scatterpolar"
                      }
                    ],
                    "scatterpolargl": [
                      {
                        "marker": {
                          "colorbar": {
                            "outlinewidth": 0,
                            "ticks": ""
                          }
                        },
                        "type": "scatterpolargl"
                      }
                    ],
                    "scatterternary": [
                      {
                        "marker": {
                          "colorbar": {
                            "outlinewidth": 0,
                            "ticks": ""
                          }
                        },
                        "type": "scatterternary"
                      }
                    ],
                    "surface": [
                      {
                        "colorbar": {
                          "outlinewidth": 0,
                          "ticks": ""
                        },
                        "colorscale": [
                          [
                            0,
                            "#0d0887"
                          ],
                          [
                            0.1111111111111111,
                            "#46039f"
                          ],
                          [
                            0.2222222222222222,
                            "#7201a8"
                          ],
                          [
                            0.3333333333333333,
                            "#9c179e"
                          ],
                          [
                            0.4444444444444444,
                            "#bd3786"
                          ],
                          [
                            0.5555555555555556,
                            "#d8576b"
                          ],
                          [
                            0.6666666666666666,
                            "#ed7953"
                          ],
                          [
                            0.7777777777777778,
                            "#fb9f3a"
                          ],
                          [
                            0.8888888888888888,
                            "#fdca26"
                          ],
                          [
                            1,
                            "#f0f921"
                          ]
                        ],
                        "type": "surface"
                      }
                    ],
                    "table": [
                      {
                        "cells": {
                          "fill": {
                            "color": "#EBF0F8"
                          },
                          "line": {
                            "color": "white"
                          }
                        },
                        "header": {
                          "fill": {
                            "color": "#C8D4E3"
                          },
                          "line": {
                            "color": "white"
                          }
                        },
                        "type": "table"
                      }
                    ]
                  },
                  "layout": {
                    "annotationdefaults": {
                      "arrowcolor": "#2a3f5f",
                      "arrowhead": 0,
                      "arrowwidth": 1
                    },
                    "autotypenumbers": "strict",
                    "coloraxis": {
                      "colorbar": {
                        "outlinewidth": 0,
                        "ticks": ""
                      }
                    },
                    "colorscale": {
                      "diverging": [
                        [
                          0,
                          "#8e0152"
                        ],
                        [
                          0.1,
                          "#c51b7d"
                        ],
                        [
                          0.2,
                          "#de77ae"
                        ],
                        [
                          0.3,
                          "#f1b6da"
                        ],
                        [
                          0.4,
                          "#fde0ef"
                        ],
                        [
                          0.5,
                          "#f7f7f7"
                        ],
                        [
                          0.6,
                          "#e6f5d0"
                        ],
                        [
                          0.7,
                          "#b8e186"
                        ],
                        [
                          0.8,
                          "#7fbc41"
                        ],
                        [
                          0.9,
                          "#4d9221"
                        ],
                        [
                          1,
                          "#276419"
                        ]
                      ],
                      "sequential": [
                        [
                          0,
                          "#0d0887"
                        ],
                        [
                          0.1111111111111111,
                          "#46039f"
                        ],
                        [
                          0.2222222222222222,
                          "#7201a8"
                        ],
                        [
                          0.3333333333333333,
                          "#9c179e"
                        ],
                        [
                          0.4444444444444444,
                          "#bd3786"
                        ],
                        [
                          0.5555555555555556,
                          "#d8576b"
                        ],
                        [
                          0.6666666666666666,
                          "#ed7953"
                        ],
                        [
                          0.7777777777777778,
                          "#fb9f3a"
                        ],
                        [
                          0.8888888888888888,
                          "#fdca26"
                        ],
                        [
                          1,
                          "#f0f921"
                        ]
                      ],
                      "sequentialminus": [
                        [
                          0,
                          "#0d0887"
                        ],
                        [
                          0.1111111111111111,
                          "#46039f"
                        ],
                        [
                          0.2222222222222222,
                          "#7201a8"
                        ],
                        [
                          0.3333333333333333,
                          "#9c179e"
                        ],
                        [
                          0.4444444444444444,
                          "#bd3786"
                        ],
                        [
                          0.5555555555555556,
                          "#d8576b"
                        ],
                        [
                          0.6666666666666666,
                          "#ed7953"
                        ],
                        [
                          0.7777777777777778,
                          "#fb9f3a"
                        ],
                        [
                          0.8888888888888888,
                          "#fdca26"
                        ],
                        [
                          1,
                          "#f0f921"
                        ]
                      ]
                    },
                    "colorway": [
                      "#636efa",
                      "#EF553B",
                      "#00cc96",
                      "#ab63fa",
                      "#FFA15A",
                      "#19d3f3",
                      "#FF6692",
                      "#B6E880",
                      "#FF97FF",
                      "#FECB52"
                    ],
                    "font": {
                      "color": "#2a3f5f"
                    },
                    "geo": {
                      "bgcolor": "white",
                      "lakecolor": "white",
                      "landcolor": "#E5ECF6",
                      "showlakes": true,
                      "showland": true,
                      "subunitcolor": "white"
                    },
                    "hoverlabel": {
                      "align": "left"
                    },
                    "hovermode": "closest",
                    "mapbox": {
                      "style": "light"
                    },
                    "paper_bgcolor": "white",
                    "plot_bgcolor": "#E5ECF6",
                    "polar": {
                      "angularaxis": {
                        "gridcolor": "white",
                        "linecolor": "white",
                        "ticks": ""
                      },
                      "bgcolor": "#E5ECF6",
                      "radialaxis": {
                        "gridcolor": "white",
                        "linecolor": "white",
                        "ticks": ""
                      }
                    },
                    "scene": {
                      "xaxis": {
                        "backgroundcolor": "#E5ECF6",
                        "gridcolor": "white",
                        "gridwidth": 2,
                        "linecolor": "white",
                        "showbackground": true,
                        "ticks": "",
                        "zerolinecolor": "white"
                      },
                      "yaxis": {
                        "backgroundcolor": "#E5ECF6",
                        "gridcolor": "white",
                        "gridwidth": 2,
                        "linecolor": "white",
                        "showbackground": true,
                        "ticks": "",
                        "zerolinecolor": "white"
                      },
                      "zaxis": {
                        "backgroundcolor": "#E5ECF6",
                        "gridcolor": "white",
                        "gridwidth": 2,
                        "linecolor": "white",
                        "showbackground": true,
                        "ticks": "",
                        "zerolinecolor": "white"
                      }
                    },
                    "shapedefaults": {
                      "line": {
                        "color": "#2a3f5f"
                      }
                    },
                    "ternary": {
                      "aaxis": {
                        "gridcolor": "white",
                        "linecolor": "white",
                        "ticks": ""
                      },
                      "baxis": {
                        "gridcolor": "white",
                        "linecolor": "white",
                        "ticks": ""
                      },
                      "bgcolor": "#E5ECF6",
                      "caxis": {
                        "gridcolor": "white",
                        "linecolor": "white",
                        "ticks": ""
                      }
                    },
                    "title": {
                      "x": 0.05
                    },
                    "xaxis": {
                      "automargin": true,
                      "gridcolor": "white",
                      "linecolor": "white",
                      "ticks": "",
                      "title": {
                        "standoff": 15
                      },
                      "zerolinecolor": "white",
                      "zerolinewidth": 2
                    },
                    "yaxis": {
                      "automargin": true,
                      "gridcolor": "white",
                      "linecolor": "white",
                      "ticks": "",
                      "title": {
                        "standoff": 15
                      },
                      "zerolinecolor": "white",
                      "zerolinewidth": 2
                    }
                  }
                },
                "width": 500,
                "xaxis": {
                  "autorange": false,
                  "exponentformat": "e",
                  "linecolor": "black",
                  "linewidth": 1,
                  "mirror": false,
                  "range": [
                    0.00011406254343455657,
                    0.00018643533549038692
                  ],
                  "showexponent": "all",
                  "showline": true,
                  "side": "bottom",
                  "ticks": "outside",
                  "title": {
                    "text": "Birth"
                  },
                  "type": "linear",
                  "zeroline": true
                },
                "yaxis": {
                  "autorange": false,
                  "exponentformat": "e",
                  "linecolor": "black",
                  "linewidth": 1,
                  "mirror": false,
                  "range": [
                    0.00011406254343455657,
                    0.00018643533549038692
                  ],
                  "scaleanchor": "x",
                  "scaleratio": 1,
                  "showexponent": "all",
                  "showline": true,
                  "side": "left",
                  "ticks": "outside",
                  "title": {
                    "text": "Death"
                  },
                  "type": "linear",
                  "zeroline": true
                }
              }
            }
          },
          "metadata": {},
          "output_type": "display_data"
        }
      ],
      "source": [
        "overall_diagrams_plot = gtda.plotting.plot_diagram(overall_diagrams[print_obj])\n",
        "display(overall_diagrams_plot)\n",
        "overall_diagrams_plot.write_image(file = f\"{subj}/{exp}/overall_diagram.svg\", format = \"svg\")"
      ]
    },
    {
      "cell_type": "markdown",
      "metadata": {},
      "source": [
        "#### FeatureCalculator"
      ]
    },
    {
      "cell_type": "code",
      "execution_count": 65,
      "metadata": {},
      "outputs": [
        {
          "name": "stdout",
          "output_type": "stream",
          "text": [
            "Filtered diagrams: (1180, 490, 3)\n",
            "N bins: 100\n"
          ]
        },
        {
          "name": "stderr",
          "output_type": "stream",
          "text": [
            "overall betti: 100%|██████████| 1180/1180 [00:03<00:00, 306.39it/s]\n",
            "overall landscape: 100%|██████████| 1180/1180 [00:03<00:00, 324.43it/s]\n",
            "overall silhouette-1: 100%|██████████| 1180/1180 [00:03<00:00, 336.94it/s]\n",
            "overall silhouette-2: 100%|██████████| 1180/1180 [00:03<00:00, 334.88it/s]\n",
            "overall amplitudes: 100%|██████████| 13/13 [00:06<00:00,  2.10it/s]\n",
            "overall lifetime: 100%|██████████| 1180/1180 [00:09<00:00, 121.08it/s]\n"
          ]
        },
        {
          "data": {
            "text/html": [
              "<div>\n",
              "<style scoped>\n",
              "    .dataframe tbody tr th:only-of-type {\n",
              "        vertical-align: middle;\n",
              "    }\n",
              "\n",
              "    .dataframe tbody tr th {\n",
              "        vertical-align: top;\n",
              "    }\n",
              "\n",
              "    .dataframe thead th {\n",
              "        text-align: right;\n",
              "    }\n",
              "</style>\n",
              "<table border=\"1\" class=\"dataframe\">\n",
              "  <thead>\n",
              "    <tr style=\"text-align: right;\">\n",
              "      <th></th>\n",
              "      <th>overall betti dim-1 max</th>\n",
              "      <th>overall betti dim-1 mean</th>\n",
              "      <th>overall betti dim-1 std</th>\n",
              "      <th>overall betti dim-1 sum</th>\n",
              "      <th>overall betti dim-1 percentile-25</th>\n",
              "      <th>overall betti dim-1 median</th>\n",
              "      <th>overall betti dim-1 percentile-75</th>\n",
              "      <th>overall betti dim-1 kurtosis</th>\n",
              "      <th>overall betti dim-1 skew</th>\n",
              "      <th>overall betti dim-1 norm-1</th>\n",
              "      <th>...</th>\n",
              "      <th>overall bd2 dim-3 mean</th>\n",
              "      <th>overall bd2 dim-3 std</th>\n",
              "      <th>overall bd2 dim-3 sum</th>\n",
              "      <th>overall bd2 dim-3 percentile-25</th>\n",
              "      <th>overall bd2 dim-3 median</th>\n",
              "      <th>overall bd2 dim-3 percentile-75</th>\n",
              "      <th>overall bd2 dim-3 kurtosis</th>\n",
              "      <th>overall bd2 dim-3 skew</th>\n",
              "      <th>overall bd2 dim-3 norm-1</th>\n",
              "      <th>overall bd2 dim-3 norm-2</th>\n",
              "    </tr>\n",
              "  </thead>\n",
              "  <tbody>\n",
              "    <tr>\n",
              "      <th>0</th>\n",
              "      <td>18.00</td>\n",
              "      <td>0.00</td>\n",
              "      <td>4.80</td>\n",
              "      <td>0.00</td>\n",
              "      <td>0.00</td>\n",
              "      <td>0.00</td>\n",
              "      <td>0.00</td>\n",
              "      <td>32.60</td>\n",
              "      <td>-3.38</td>\n",
              "      <td>124.00</td>\n",
              "      <td>...</td>\n",
              "      <td>0.00</td>\n",
              "      <td>0.00</td>\n",
              "      <td>0.00</td>\n",
              "      <td>0.00</td>\n",
              "      <td>0.00</td>\n",
              "      <td>0.00</td>\n",
              "      <td>-0.81</td>\n",
              "      <td>-0.69</td>\n",
              "      <td>0.00</td>\n",
              "      <td>0.00</td>\n",
              "    </tr>\n",
              "    <tr>\n",
              "      <th>1</th>\n",
              "      <td>20.00</td>\n",
              "      <td>0.00</td>\n",
              "      <td>3.96</td>\n",
              "      <td>0.00</td>\n",
              "      <td>0.00</td>\n",
              "      <td>0.00</td>\n",
              "      <td>0.00</td>\n",
              "      <td>14.62</td>\n",
              "      <td>0.27</td>\n",
              "      <td>116.00</td>\n",
              "      <td>...</td>\n",
              "      <td>0.00</td>\n",
              "      <td>0.00</td>\n",
              "      <td>0.00</td>\n",
              "      <td>0.00</td>\n",
              "      <td>0.00</td>\n",
              "      <td>0.00</td>\n",
              "      <td>-1.36</td>\n",
              "      <td>-0.24</td>\n",
              "      <td>0.00</td>\n",
              "      <td>0.00</td>\n",
              "    </tr>\n",
              "    <tr>\n",
              "      <th>2</th>\n",
              "      <td>24.00</td>\n",
              "      <td>0.00</td>\n",
              "      <td>5.65</td>\n",
              "      <td>0.00</td>\n",
              "      <td>0.00</td>\n",
              "      <td>0.00</td>\n",
              "      <td>0.00</td>\n",
              "      <td>20.28</td>\n",
              "      <td>-1.75</td>\n",
              "      <td>142.00</td>\n",
              "      <td>...</td>\n",
              "      <td>0.00</td>\n",
              "      <td>0.00</td>\n",
              "      <td>0.01</td>\n",
              "      <td>0.00</td>\n",
              "      <td>0.00</td>\n",
              "      <td>0.00</td>\n",
              "      <td>0.19</td>\n",
              "      <td>0.21</td>\n",
              "      <td>0.01</td>\n",
              "      <td>0.00</td>\n",
              "    </tr>\n",
              "    <tr>\n",
              "      <th>3</th>\n",
              "      <td>11.00</td>\n",
              "      <td>0.00</td>\n",
              "      <td>3.19</td>\n",
              "      <td>0.00</td>\n",
              "      <td>0.00</td>\n",
              "      <td>0.00</td>\n",
              "      <td>0.00</td>\n",
              "      <td>15.75</td>\n",
              "      <td>-1.87</td>\n",
              "      <td>98.00</td>\n",
              "      <td>...</td>\n",
              "      <td>0.00</td>\n",
              "      <td>0.00</td>\n",
              "      <td>0.00</td>\n",
              "      <td>0.00</td>\n",
              "      <td>0.00</td>\n",
              "      <td>0.00</td>\n",
              "      <td>2.88</td>\n",
              "      <td>0.74</td>\n",
              "      <td>0.00</td>\n",
              "      <td>0.00</td>\n",
              "    </tr>\n",
              "    <tr>\n",
              "      <th>4</th>\n",
              "      <td>14.00</td>\n",
              "      <td>-0.01</td>\n",
              "      <td>3.34</td>\n",
              "      <td>-1.00</td>\n",
              "      <td>0.00</td>\n",
              "      <td>0.00</td>\n",
              "      <td>0.00</td>\n",
              "      <td>10.83</td>\n",
              "      <td>-0.85</td>\n",
              "      <td>101.00</td>\n",
              "      <td>...</td>\n",
              "      <td>0.00</td>\n",
              "      <td>0.00</td>\n",
              "      <td>0.00</td>\n",
              "      <td>0.00</td>\n",
              "      <td>0.00</td>\n",
              "      <td>0.00</td>\n",
              "      <td>-0.68</td>\n",
              "      <td>-1.10</td>\n",
              "      <td>0.00</td>\n",
              "      <td>0.00</td>\n",
              "    </tr>\n",
              "    <tr>\n",
              "      <th>...</th>\n",
              "      <td>...</td>\n",
              "      <td>...</td>\n",
              "      <td>...</td>\n",
              "      <td>...</td>\n",
              "      <td>...</td>\n",
              "      <td>...</td>\n",
              "      <td>...</td>\n",
              "      <td>...</td>\n",
              "      <td>...</td>\n",
              "      <td>...</td>\n",
              "      <td>...</td>\n",
              "      <td>...</td>\n",
              "      <td>...</td>\n",
              "      <td>...</td>\n",
              "      <td>...</td>\n",
              "      <td>...</td>\n",
              "      <td>...</td>\n",
              "      <td>...</td>\n",
              "      <td>...</td>\n",
              "      <td>...</td>\n",
              "      <td>...</td>\n",
              "    </tr>\n",
              "    <tr>\n",
              "      <th>1175</th>\n",
              "      <td>11.00</td>\n",
              "      <td>0.00</td>\n",
              "      <td>2.20</td>\n",
              "      <td>0.00</td>\n",
              "      <td>0.00</td>\n",
              "      <td>0.00</td>\n",
              "      <td>0.00</td>\n",
              "      <td>12.31</td>\n",
              "      <td>1.78</td>\n",
              "      <td>76.00</td>\n",
              "      <td>...</td>\n",
              "      <td>0.00</td>\n",
              "      <td>0.00</td>\n",
              "      <td>0.00</td>\n",
              "      <td>0.00</td>\n",
              "      <td>0.00</td>\n",
              "      <td>0.00</td>\n",
              "      <td>-1.22</td>\n",
              "      <td>0.47</td>\n",
              "      <td>0.00</td>\n",
              "      <td>0.00</td>\n",
              "    </tr>\n",
              "    <tr>\n",
              "      <th>1176</th>\n",
              "      <td>13.00</td>\n",
              "      <td>0.00</td>\n",
              "      <td>3.02</td>\n",
              "      <td>0.00</td>\n",
              "      <td>0.00</td>\n",
              "      <td>0.00</td>\n",
              "      <td>0.00</td>\n",
              "      <td>15.41</td>\n",
              "      <td>-0.34</td>\n",
              "      <td>96.00</td>\n",
              "      <td>...</td>\n",
              "      <td>0.00</td>\n",
              "      <td>0.00</td>\n",
              "      <td>0.00</td>\n",
              "      <td>0.00</td>\n",
              "      <td>0.00</td>\n",
              "      <td>0.00</td>\n",
              "      <td>-0.26</td>\n",
              "      <td>1.19</td>\n",
              "      <td>0.00</td>\n",
              "      <td>0.00</td>\n",
              "    </tr>\n",
              "    <tr>\n",
              "      <th>1177</th>\n",
              "      <td>8.00</td>\n",
              "      <td>0.00</td>\n",
              "      <td>2.45</td>\n",
              "      <td>0.00</td>\n",
              "      <td>0.00</td>\n",
              "      <td>0.00</td>\n",
              "      <td>0.00</td>\n",
              "      <td>7.00</td>\n",
              "      <td>-0.29</td>\n",
              "      <td>88.00</td>\n",
              "      <td>...</td>\n",
              "      <td>0.00</td>\n",
              "      <td>0.00</td>\n",
              "      <td>0.00</td>\n",
              "      <td>0.00</td>\n",
              "      <td>0.00</td>\n",
              "      <td>0.00</td>\n",
              "      <td>0.38</td>\n",
              "      <td>0.91</td>\n",
              "      <td>0.00</td>\n",
              "      <td>0.00</td>\n",
              "    </tr>\n",
              "    <tr>\n",
              "      <th>1178</th>\n",
              "      <td>20.00</td>\n",
              "      <td>0.00</td>\n",
              "      <td>3.98</td>\n",
              "      <td>0.00</td>\n",
              "      <td>0.00</td>\n",
              "      <td>0.00</td>\n",
              "      <td>0.00</td>\n",
              "      <td>16.50</td>\n",
              "      <td>0.88</td>\n",
              "      <td>120.00</td>\n",
              "      <td>...</td>\n",
              "      <td>0.00</td>\n",
              "      <td>0.00</td>\n",
              "      <td>0.00</td>\n",
              "      <td>0.00</td>\n",
              "      <td>0.00</td>\n",
              "      <td>0.00</td>\n",
              "      <td>-1.46</td>\n",
              "      <td>0.10</td>\n",
              "      <td>0.00</td>\n",
              "      <td>0.00</td>\n",
              "    </tr>\n",
              "    <tr>\n",
              "      <th>1179</th>\n",
              "      <td>13.00</td>\n",
              "      <td>0.00</td>\n",
              "      <td>3.04</td>\n",
              "      <td>0.00</td>\n",
              "      <td>0.00</td>\n",
              "      <td>0.00</td>\n",
              "      <td>0.00</td>\n",
              "      <td>11.50</td>\n",
              "      <td>0.37</td>\n",
              "      <td>100.00</td>\n",
              "      <td>...</td>\n",
              "      <td>0.00</td>\n",
              "      <td>0.00</td>\n",
              "      <td>0.00</td>\n",
              "      <td>0.00</td>\n",
              "      <td>0.00</td>\n",
              "      <td>0.00</td>\n",
              "      <td>-0.98</td>\n",
              "      <td>0.79</td>\n",
              "      <td>0.00</td>\n",
              "      <td>0.00</td>\n",
              "    </tr>\n",
              "  </tbody>\n",
              "</table>\n",
              "<p>1180 rows × 291 columns</p>\n",
              "</div>"
            ],
            "text/plain": [
              "      overall betti dim-1 max  overall betti dim-1 mean  \\\n",
              "0                       18.00                      0.00   \n",
              "1                       20.00                      0.00   \n",
              "2                       24.00                      0.00   \n",
              "3                       11.00                      0.00   \n",
              "4                       14.00                     -0.01   \n",
              "...                       ...                       ...   \n",
              "1175                    11.00                      0.00   \n",
              "1176                    13.00                      0.00   \n",
              "1177                     8.00                      0.00   \n",
              "1178                    20.00                      0.00   \n",
              "1179                    13.00                      0.00   \n",
              "\n",
              "      overall betti dim-1 std  overall betti dim-1 sum  \\\n",
              "0                        4.80                     0.00   \n",
              "1                        3.96                     0.00   \n",
              "2                        5.65                     0.00   \n",
              "3                        3.19                     0.00   \n",
              "4                        3.34                    -1.00   \n",
              "...                       ...                      ...   \n",
              "1175                     2.20                     0.00   \n",
              "1176                     3.02                     0.00   \n",
              "1177                     2.45                     0.00   \n",
              "1178                     3.98                     0.00   \n",
              "1179                     3.04                     0.00   \n",
              "\n",
              "      overall betti dim-1 percentile-25  overall betti dim-1 median  \\\n",
              "0                                  0.00                        0.00   \n",
              "1                                  0.00                        0.00   \n",
              "2                                  0.00                        0.00   \n",
              "3                                  0.00                        0.00   \n",
              "4                                  0.00                        0.00   \n",
              "...                                 ...                         ...   \n",
              "1175                               0.00                        0.00   \n",
              "1176                               0.00                        0.00   \n",
              "1177                               0.00                        0.00   \n",
              "1178                               0.00                        0.00   \n",
              "1179                               0.00                        0.00   \n",
              "\n",
              "      overall betti dim-1 percentile-75  overall betti dim-1 kurtosis  \\\n",
              "0                                  0.00                         32.60   \n",
              "1                                  0.00                         14.62   \n",
              "2                                  0.00                         20.28   \n",
              "3                                  0.00                         15.75   \n",
              "4                                  0.00                         10.83   \n",
              "...                                 ...                           ...   \n",
              "1175                               0.00                         12.31   \n",
              "1176                               0.00                         15.41   \n",
              "1177                               0.00                          7.00   \n",
              "1178                               0.00                         16.50   \n",
              "1179                               0.00                         11.50   \n",
              "\n",
              "      overall betti dim-1 skew  overall betti dim-1 norm-1  ...  \\\n",
              "0                        -3.38                      124.00  ...   \n",
              "1                         0.27                      116.00  ...   \n",
              "2                        -1.75                      142.00  ...   \n",
              "3                        -1.87                       98.00  ...   \n",
              "4                        -0.85                      101.00  ...   \n",
              "...                        ...                         ...  ...   \n",
              "1175                      1.78                       76.00  ...   \n",
              "1176                     -0.34                       96.00  ...   \n",
              "1177                     -0.29                       88.00  ...   \n",
              "1178                      0.88                      120.00  ...   \n",
              "1179                      0.37                      100.00  ...   \n",
              "\n",
              "      overall bd2 dim-3 mean  overall bd2 dim-3 std  overall bd2 dim-3 sum  \\\n",
              "0                       0.00                   0.00                   0.00   \n",
              "1                       0.00                   0.00                   0.00   \n",
              "2                       0.00                   0.00                   0.01   \n",
              "3                       0.00                   0.00                   0.00   \n",
              "4                       0.00                   0.00                   0.00   \n",
              "...                      ...                    ...                    ...   \n",
              "1175                    0.00                   0.00                   0.00   \n",
              "1176                    0.00                   0.00                   0.00   \n",
              "1177                    0.00                   0.00                   0.00   \n",
              "1178                    0.00                   0.00                   0.00   \n",
              "1179                    0.00                   0.00                   0.00   \n",
              "\n",
              "      overall bd2 dim-3 percentile-25  overall bd2 dim-3 median  \\\n",
              "0                                0.00                      0.00   \n",
              "1                                0.00                      0.00   \n",
              "2                                0.00                      0.00   \n",
              "3                                0.00                      0.00   \n",
              "4                                0.00                      0.00   \n",
              "...                               ...                       ...   \n",
              "1175                             0.00                      0.00   \n",
              "1176                             0.00                      0.00   \n",
              "1177                             0.00                      0.00   \n",
              "1178                             0.00                      0.00   \n",
              "1179                             0.00                      0.00   \n",
              "\n",
              "      overall bd2 dim-3 percentile-75  overall bd2 dim-3 kurtosis  \\\n",
              "0                                0.00                       -0.81   \n",
              "1                                0.00                       -1.36   \n",
              "2                                0.00                        0.19   \n",
              "3                                0.00                        2.88   \n",
              "4                                0.00                       -0.68   \n",
              "...                               ...                         ...   \n",
              "1175                             0.00                       -1.22   \n",
              "1176                             0.00                       -0.26   \n",
              "1177                             0.00                        0.38   \n",
              "1178                             0.00                       -1.46   \n",
              "1179                             0.00                       -0.98   \n",
              "\n",
              "      overall bd2 dim-3 skew  overall bd2 dim-3 norm-1  \\\n",
              "0                      -0.69                      0.00   \n",
              "1                      -0.24                      0.00   \n",
              "2                       0.21                      0.01   \n",
              "3                       0.74                      0.00   \n",
              "4                      -1.10                      0.00   \n",
              "...                      ...                       ...   \n",
              "1175                    0.47                      0.00   \n",
              "1176                    1.19                      0.00   \n",
              "1177                    0.91                      0.00   \n",
              "1178                    0.10                      0.00   \n",
              "1179                    0.79                      0.00   \n",
              "\n",
              "      overall bd2 dim-3 norm-2  \n",
              "0                         0.00  \n",
              "1                         0.00  \n",
              "2                         0.00  \n",
              "3                         0.00  \n",
              "4                         0.00  \n",
              "...                        ...  \n",
              "1175                      0.00  \n",
              "1176                      0.00  \n",
              "1177                      0.00  \n",
              "1178                      0.00  \n",
              "1179                      0.00  \n",
              "\n",
              "[1180 rows x 291 columns]"
            ]
          },
          "execution_count": 65,
          "metadata": {},
          "output_type": "execute_result"
        }
      ],
      "source": [
        "overall_features = FeatureCalculator().calc_features(overall_diagrams, prefix = 'overall')\n",
        "overall_features.to_feather(f\"{subj}/{exp}/overall_features.feather\")\n",
        "overall_features"
      ]
    },
    {
      "cell_type": "markdown",
      "metadata": {},
      "source": [
        "### Features"
      ]
    },
    {
      "cell_type": "code",
      "execution_count": 66,
      "metadata": {},
      "outputs": [
        {
          "data": {
            "text/html": [
              "<div>\n",
              "<style scoped>\n",
              "    .dataframe tbody tr th:only-of-type {\n",
              "        vertical-align: middle;\n",
              "    }\n",
              "\n",
              "    .dataframe tbody tr th {\n",
              "        vertical-align: top;\n",
              "    }\n",
              "\n",
              "    .dataframe thead th {\n",
              "        text-align: right;\n",
              "    }\n",
              "</style>\n",
              "<table border=\"1\" class=\"dataframe\">\n",
              "  <thead>\n",
              "    <tr style=\"text-align: right;\">\n",
              "      <th></th>\n",
              "      <th>channel-0 betti dim-1 max</th>\n",
              "      <th>channel-0 betti dim-1 mean</th>\n",
              "      <th>channel-0 betti dim-1 std</th>\n",
              "      <th>channel-0 betti dim-1 sum</th>\n",
              "      <th>channel-0 betti dim-1 percentile-25</th>\n",
              "      <th>channel-0 betti dim-1 median</th>\n",
              "      <th>channel-0 betti dim-1 percentile-75</th>\n",
              "      <th>channel-0 betti dim-1 kurtosis</th>\n",
              "      <th>channel-0 betti dim-1 skew</th>\n",
              "      <th>channel-0 betti dim-1 norm-1</th>\n",
              "      <th>...</th>\n",
              "      <th>overall bd2 dim-3 mean</th>\n",
              "      <th>overall bd2 dim-3 std</th>\n",
              "      <th>overall bd2 dim-3 sum</th>\n",
              "      <th>overall bd2 dim-3 percentile-25</th>\n",
              "      <th>overall bd2 dim-3 median</th>\n",
              "      <th>overall bd2 dim-3 percentile-75</th>\n",
              "      <th>overall bd2 dim-3 kurtosis</th>\n",
              "      <th>overall bd2 dim-3 skew</th>\n",
              "      <th>overall bd2 dim-3 norm-1</th>\n",
              "      <th>overall bd2 dim-3 norm-2</th>\n",
              "    </tr>\n",
              "  </thead>\n",
              "  <tbody>\n",
              "    <tr>\n",
              "      <th>0</th>\n",
              "      <td>6.00</td>\n",
              "      <td>0.00</td>\n",
              "      <td>1.37</td>\n",
              "      <td>0.00</td>\n",
              "      <td>0.00</td>\n",
              "      <td>0.00</td>\n",
              "      <td>0.00</td>\n",
              "      <td>11.68</td>\n",
              "      <td>-0.28</td>\n",
              "      <td>44.00</td>\n",
              "      <td>...</td>\n",
              "      <td>0.00</td>\n",
              "      <td>0.00</td>\n",
              "      <td>0.00</td>\n",
              "      <td>0.00</td>\n",
              "      <td>0.00</td>\n",
              "      <td>0.00</td>\n",
              "      <td>-0.81</td>\n",
              "      <td>-0.69</td>\n",
              "      <td>0.00</td>\n",
              "      <td>0.00</td>\n",
              "    </tr>\n",
              "    <tr>\n",
              "      <th>1</th>\n",
              "      <td>9.00</td>\n",
              "      <td>0.00</td>\n",
              "      <td>1.57</td>\n",
              "      <td>0.00</td>\n",
              "      <td>0.00</td>\n",
              "      <td>0.00</td>\n",
              "      <td>0.00</td>\n",
              "      <td>15.82</td>\n",
              "      <td>0.67</td>\n",
              "      <td>50.00</td>\n",
              "      <td>...</td>\n",
              "      <td>0.00</td>\n",
              "      <td>0.00</td>\n",
              "      <td>0.00</td>\n",
              "      <td>0.00</td>\n",
              "      <td>0.00</td>\n",
              "      <td>0.00</td>\n",
              "      <td>-1.36</td>\n",
              "      <td>-0.24</td>\n",
              "      <td>0.00</td>\n",
              "      <td>0.00</td>\n",
              "    </tr>\n",
              "    <tr>\n",
              "      <th>2</th>\n",
              "      <td>5.00</td>\n",
              "      <td>0.00</td>\n",
              "      <td>1.36</td>\n",
              "      <td>0.00</td>\n",
              "      <td>0.00</td>\n",
              "      <td>0.00</td>\n",
              "      <td>0.00</td>\n",
              "      <td>9.88</td>\n",
              "      <td>-1.12</td>\n",
              "      <td>46.00</td>\n",
              "      <td>...</td>\n",
              "      <td>0.00</td>\n",
              "      <td>0.00</td>\n",
              "      <td>0.01</td>\n",
              "      <td>0.00</td>\n",
              "      <td>0.00</td>\n",
              "      <td>0.00</td>\n",
              "      <td>0.19</td>\n",
              "      <td>0.21</td>\n",
              "      <td>0.01</td>\n",
              "      <td>0.00</td>\n",
              "    </tr>\n",
              "    <tr>\n",
              "      <th>3</th>\n",
              "      <td>10.00</td>\n",
              "      <td>0.00</td>\n",
              "      <td>2.04</td>\n",
              "      <td>0.00</td>\n",
              "      <td>0.00</td>\n",
              "      <td>0.00</td>\n",
              "      <td>0.00</td>\n",
              "      <td>16.34</td>\n",
              "      <td>-0.96</td>\n",
              "      <td>56.00</td>\n",
              "      <td>...</td>\n",
              "      <td>0.00</td>\n",
              "      <td>0.00</td>\n",
              "      <td>0.00</td>\n",
              "      <td>0.00</td>\n",
              "      <td>0.00</td>\n",
              "      <td>0.00</td>\n",
              "      <td>2.88</td>\n",
              "      <td>0.74</td>\n",
              "      <td>0.00</td>\n",
              "      <td>0.00</td>\n",
              "    </tr>\n",
              "    <tr>\n",
              "      <th>4</th>\n",
              "      <td>13.00</td>\n",
              "      <td>0.00</td>\n",
              "      <td>2.16</td>\n",
              "      <td>0.00</td>\n",
              "      <td>0.00</td>\n",
              "      <td>0.00</td>\n",
              "      <td>0.00</td>\n",
              "      <td>26.69</td>\n",
              "      <td>0.54</td>\n",
              "      <td>48.00</td>\n",
              "      <td>...</td>\n",
              "      <td>0.00</td>\n",
              "      <td>0.00</td>\n",
              "      <td>0.00</td>\n",
              "      <td>0.00</td>\n",
              "      <td>0.00</td>\n",
              "      <td>0.00</td>\n",
              "      <td>-0.68</td>\n",
              "      <td>-1.10</td>\n",
              "      <td>0.00</td>\n",
              "      <td>0.00</td>\n",
              "    </tr>\n",
              "    <tr>\n",
              "      <th>...</th>\n",
              "      <td>...</td>\n",
              "      <td>...</td>\n",
              "      <td>...</td>\n",
              "      <td>...</td>\n",
              "      <td>...</td>\n",
              "      <td>...</td>\n",
              "      <td>...</td>\n",
              "      <td>...</td>\n",
              "      <td>...</td>\n",
              "      <td>...</td>\n",
              "      <td>...</td>\n",
              "      <td>...</td>\n",
              "      <td>...</td>\n",
              "      <td>...</td>\n",
              "      <td>...</td>\n",
              "      <td>...</td>\n",
              "      <td>...</td>\n",
              "      <td>...</td>\n",
              "      <td>...</td>\n",
              "      <td>...</td>\n",
              "      <td>...</td>\n",
              "    </tr>\n",
              "    <tr>\n",
              "      <th>1175</th>\n",
              "      <td>12.00</td>\n",
              "      <td>0.00</td>\n",
              "      <td>2.03</td>\n",
              "      <td>0.00</td>\n",
              "      <td>0.00</td>\n",
              "      <td>0.00</td>\n",
              "      <td>0.00</td>\n",
              "      <td>16.59</td>\n",
              "      <td>1.14</td>\n",
              "      <td>66.00</td>\n",
              "      <td>...</td>\n",
              "      <td>0.00</td>\n",
              "      <td>0.00</td>\n",
              "      <td>0.00</td>\n",
              "      <td>0.00</td>\n",
              "      <td>0.00</td>\n",
              "      <td>0.00</td>\n",
              "      <td>-1.22</td>\n",
              "      <td>0.47</td>\n",
              "      <td>0.00</td>\n",
              "      <td>0.00</td>\n",
              "    </tr>\n",
              "    <tr>\n",
              "      <th>1176</th>\n",
              "      <td>7.00</td>\n",
              "      <td>0.00</td>\n",
              "      <td>1.23</td>\n",
              "      <td>0.00</td>\n",
              "      <td>0.00</td>\n",
              "      <td>0.00</td>\n",
              "      <td>0.00</td>\n",
              "      <td>11.49</td>\n",
              "      <td>1.43</td>\n",
              "      <td>50.00</td>\n",
              "      <td>...</td>\n",
              "      <td>0.00</td>\n",
              "      <td>0.00</td>\n",
              "      <td>0.00</td>\n",
              "      <td>0.00</td>\n",
              "      <td>0.00</td>\n",
              "      <td>0.00</td>\n",
              "      <td>-0.26</td>\n",
              "      <td>1.19</td>\n",
              "      <td>0.00</td>\n",
              "      <td>0.00</td>\n",
              "    </tr>\n",
              "    <tr>\n",
              "      <th>1177</th>\n",
              "      <td>5.00</td>\n",
              "      <td>0.00</td>\n",
              "      <td>1.56</td>\n",
              "      <td>0.00</td>\n",
              "      <td>0.00</td>\n",
              "      <td>0.00</td>\n",
              "      <td>0.00</td>\n",
              "      <td>24.75</td>\n",
              "      <td>-2.92</td>\n",
              "      <td>56.00</td>\n",
              "      <td>...</td>\n",
              "      <td>0.00</td>\n",
              "      <td>0.00</td>\n",
              "      <td>0.00</td>\n",
              "      <td>0.00</td>\n",
              "      <td>0.00</td>\n",
              "      <td>0.00</td>\n",
              "      <td>0.38</td>\n",
              "      <td>0.91</td>\n",
              "      <td>0.00</td>\n",
              "      <td>0.00</td>\n",
              "    </tr>\n",
              "    <tr>\n",
              "      <th>1178</th>\n",
              "      <td>14.00</td>\n",
              "      <td>0.00</td>\n",
              "      <td>2.29</td>\n",
              "      <td>0.00</td>\n",
              "      <td>0.00</td>\n",
              "      <td>0.00</td>\n",
              "      <td>0.00</td>\n",
              "      <td>17.13</td>\n",
              "      <td>2.04</td>\n",
              "      <td>72.00</td>\n",
              "      <td>...</td>\n",
              "      <td>0.00</td>\n",
              "      <td>0.00</td>\n",
              "      <td>0.00</td>\n",
              "      <td>0.00</td>\n",
              "      <td>0.00</td>\n",
              "      <td>0.00</td>\n",
              "      <td>-1.46</td>\n",
              "      <td>0.10</td>\n",
              "      <td>0.00</td>\n",
              "      <td>0.00</td>\n",
              "    </tr>\n",
              "    <tr>\n",
              "      <th>1179</th>\n",
              "      <td>7.00</td>\n",
              "      <td>0.00</td>\n",
              "      <td>1.34</td>\n",
              "      <td>0.00</td>\n",
              "      <td>0.00</td>\n",
              "      <td>0.00</td>\n",
              "      <td>0.00</td>\n",
              "      <td>18.63</td>\n",
              "      <td>-0.70</td>\n",
              "      <td>44.00</td>\n",
              "      <td>...</td>\n",
              "      <td>0.00</td>\n",
              "      <td>0.00</td>\n",
              "      <td>0.00</td>\n",
              "      <td>0.00</td>\n",
              "      <td>0.00</td>\n",
              "      <td>0.00</td>\n",
              "      <td>-0.98</td>\n",
              "      <td>0.79</td>\n",
              "      <td>0.00</td>\n",
              "      <td>0.00</td>\n",
              "    </tr>\n",
              "  </tbody>\n",
              "</table>\n",
              "<p>1180 rows × 19143 columns</p>\n",
              "</div>"
            ],
            "text/plain": [
              "      channel-0 betti dim-1 max  channel-0 betti dim-1 mean  \\\n",
              "0                          6.00                        0.00   \n",
              "1                          9.00                        0.00   \n",
              "2                          5.00                        0.00   \n",
              "3                         10.00                        0.00   \n",
              "4                         13.00                        0.00   \n",
              "...                         ...                         ...   \n",
              "1175                      12.00                        0.00   \n",
              "1176                       7.00                        0.00   \n",
              "1177                       5.00                        0.00   \n",
              "1178                      14.00                        0.00   \n",
              "1179                       7.00                        0.00   \n",
              "\n",
              "      channel-0 betti dim-1 std  channel-0 betti dim-1 sum  \\\n",
              "0                          1.37                       0.00   \n",
              "1                          1.57                       0.00   \n",
              "2                          1.36                       0.00   \n",
              "3                          2.04                       0.00   \n",
              "4                          2.16                       0.00   \n",
              "...                         ...                        ...   \n",
              "1175                       2.03                       0.00   \n",
              "1176                       1.23                       0.00   \n",
              "1177                       1.56                       0.00   \n",
              "1178                       2.29                       0.00   \n",
              "1179                       1.34                       0.00   \n",
              "\n",
              "      channel-0 betti dim-1 percentile-25  channel-0 betti dim-1 median  \\\n",
              "0                                    0.00                          0.00   \n",
              "1                                    0.00                          0.00   \n",
              "2                                    0.00                          0.00   \n",
              "3                                    0.00                          0.00   \n",
              "4                                    0.00                          0.00   \n",
              "...                                   ...                           ...   \n",
              "1175                                 0.00                          0.00   \n",
              "1176                                 0.00                          0.00   \n",
              "1177                                 0.00                          0.00   \n",
              "1178                                 0.00                          0.00   \n",
              "1179                                 0.00                          0.00   \n",
              "\n",
              "      channel-0 betti dim-1 percentile-75  channel-0 betti dim-1 kurtosis  \\\n",
              "0                                    0.00                           11.68   \n",
              "1                                    0.00                           15.82   \n",
              "2                                    0.00                            9.88   \n",
              "3                                    0.00                           16.34   \n",
              "4                                    0.00                           26.69   \n",
              "...                                   ...                             ...   \n",
              "1175                                 0.00                           16.59   \n",
              "1176                                 0.00                           11.49   \n",
              "1177                                 0.00                           24.75   \n",
              "1178                                 0.00                           17.13   \n",
              "1179                                 0.00                           18.63   \n",
              "\n",
              "      channel-0 betti dim-1 skew  channel-0 betti dim-1 norm-1  ...  \\\n",
              "0                          -0.28                         44.00  ...   \n",
              "1                           0.67                         50.00  ...   \n",
              "2                          -1.12                         46.00  ...   \n",
              "3                          -0.96                         56.00  ...   \n",
              "4                           0.54                         48.00  ...   \n",
              "...                          ...                           ...  ...   \n",
              "1175                        1.14                         66.00  ...   \n",
              "1176                        1.43                         50.00  ...   \n",
              "1177                       -2.92                         56.00  ...   \n",
              "1178                        2.04                         72.00  ...   \n",
              "1179                       -0.70                         44.00  ...   \n",
              "\n",
              "      overall bd2 dim-3 mean  overall bd2 dim-3 std  overall bd2 dim-3 sum  \\\n",
              "0                       0.00                   0.00                   0.00   \n",
              "1                       0.00                   0.00                   0.00   \n",
              "2                       0.00                   0.00                   0.01   \n",
              "3                       0.00                   0.00                   0.00   \n",
              "4                       0.00                   0.00                   0.00   \n",
              "...                      ...                    ...                    ...   \n",
              "1175                    0.00                   0.00                   0.00   \n",
              "1176                    0.00                   0.00                   0.00   \n",
              "1177                    0.00                   0.00                   0.00   \n",
              "1178                    0.00                   0.00                   0.00   \n",
              "1179                    0.00                   0.00                   0.00   \n",
              "\n",
              "      overall bd2 dim-3 percentile-25  overall bd2 dim-3 median  \\\n",
              "0                                0.00                      0.00   \n",
              "1                                0.00                      0.00   \n",
              "2                                0.00                      0.00   \n",
              "3                                0.00                      0.00   \n",
              "4                                0.00                      0.00   \n",
              "...                               ...                       ...   \n",
              "1175                             0.00                      0.00   \n",
              "1176                             0.00                      0.00   \n",
              "1177                             0.00                      0.00   \n",
              "1178                             0.00                      0.00   \n",
              "1179                             0.00                      0.00   \n",
              "\n",
              "      overall bd2 dim-3 percentile-75  overall bd2 dim-3 kurtosis  \\\n",
              "0                                0.00                       -0.81   \n",
              "1                                0.00                       -1.36   \n",
              "2                                0.00                        0.19   \n",
              "3                                0.00                        2.88   \n",
              "4                                0.00                       -0.68   \n",
              "...                               ...                         ...   \n",
              "1175                             0.00                       -1.22   \n",
              "1176                             0.00                       -0.26   \n",
              "1177                             0.00                        0.38   \n",
              "1178                             0.00                       -1.46   \n",
              "1179                             0.00                       -0.98   \n",
              "\n",
              "      overall bd2 dim-3 skew  overall bd2 dim-3 norm-1  \\\n",
              "0                      -0.69                      0.00   \n",
              "1                      -0.24                      0.00   \n",
              "2                       0.21                      0.01   \n",
              "3                       0.74                      0.00   \n",
              "4                      -1.10                      0.00   \n",
              "...                      ...                       ...   \n",
              "1175                    0.47                      0.00   \n",
              "1176                    1.19                      0.00   \n",
              "1177                    0.91                      0.00   \n",
              "1178                    0.10                      0.00   \n",
              "1179                    0.79                      0.00   \n",
              "\n",
              "      overall bd2 dim-3 norm-2  \n",
              "0                         0.00  \n",
              "1                         0.00  \n",
              "2                         0.00  \n",
              "3                         0.00  \n",
              "4                         0.00  \n",
              "...                        ...  \n",
              "1175                      0.00  \n",
              "1176                      0.00  \n",
              "1177                      0.00  \n",
              "1178                      0.00  \n",
              "1179                      0.00  \n",
              "\n",
              "[1180 rows x 19143 columns]"
            ]
          },
          "execution_count": 66,
          "metadata": {},
          "output_type": "execute_result"
        }
      ],
      "source": [
        "all_features = pandas.concat([ channel_features, dissim_features, overall_features ], axis = 1)\n",
        "all_features.to_feather(f\"{subj}/{exp}/all_features.feather\")\n",
        "all_features"
      ]
    },
    {
      "cell_type": "markdown",
      "metadata": {},
      "source": [
        "#### PCA"
      ]
    },
    {
      "cell_type": "code",
      "execution_count": 67,
      "metadata": {},
      "outputs": [
        {
          "name": "stdout",
          "output_type": "stream",
          "text": [
            "Components: 50\n",
            "Explained variance: 0.43\n",
            "[0.095, 0.046, 0.02, 0.012, 0.011, 0.01, 0.009, 0.009, 0.009, 0.008, 0.008, 0.007, 0.007, 0.007, 0.007, 0.007, 0.006, 0.006, 0.006, 0.006, 0.005, 0.005, 0.005, 0.005, 0.005, 0.005, 0.005, 0.005, 0.005, 0.005, 0.005, 0.005, 0.004, 0.004, 0.004, 0.004, 0.004, 0.004, 0.004, 0.004, 0.004, 0.004, 0.004, 0.004, 0.004, 0.004, 0.004, 0.004, 0.004, 0.004]\n"
          ]
        },
        {
          "data": {
            "text/html": [
              "<div>\n",
              "<style scoped>\n",
              "    .dataframe tbody tr th:only-of-type {\n",
              "        vertical-align: middle;\n",
              "    }\n",
              "\n",
              "    .dataframe tbody tr th {\n",
              "        vertical-align: top;\n",
              "    }\n",
              "\n",
              "    .dataframe thead th {\n",
              "        text-align: right;\n",
              "    }\n",
              "</style>\n",
              "<table border=\"1\" class=\"dataframe\">\n",
              "  <thead>\n",
              "    <tr style=\"text-align: right;\">\n",
              "      <th></th>\n",
              "      <th>0</th>\n",
              "      <th>1</th>\n",
              "      <th>2</th>\n",
              "      <th>3</th>\n",
              "      <th>4</th>\n",
              "      <th>5</th>\n",
              "      <th>6</th>\n",
              "      <th>7</th>\n",
              "      <th>8</th>\n",
              "      <th>9</th>\n",
              "      <th>...</th>\n",
              "      <th>40</th>\n",
              "      <th>41</th>\n",
              "      <th>42</th>\n",
              "      <th>43</th>\n",
              "      <th>44</th>\n",
              "      <th>45</th>\n",
              "      <th>46</th>\n",
              "      <th>47</th>\n",
              "      <th>48</th>\n",
              "      <th>49</th>\n",
              "    </tr>\n",
              "  </thead>\n",
              "  <tbody>\n",
              "    <tr>\n",
              "      <th>0</th>\n",
              "      <td>-48.83</td>\n",
              "      <td>7.68</td>\n",
              "      <td>-24.87</td>\n",
              "      <td>-12.29</td>\n",
              "      <td>11.15</td>\n",
              "      <td>-15.08</td>\n",
              "      <td>1.25</td>\n",
              "      <td>-6.81</td>\n",
              "      <td>10.39</td>\n",
              "      <td>-9.89</td>\n",
              "      <td>...</td>\n",
              "      <td>6.54</td>\n",
              "      <td>3.54</td>\n",
              "      <td>-4.21</td>\n",
              "      <td>-4.58</td>\n",
              "      <td>-3.65</td>\n",
              "      <td>-6.24</td>\n",
              "      <td>7.63</td>\n",
              "      <td>-3.42</td>\n",
              "      <td>0.46</td>\n",
              "      <td>3.66</td>\n",
              "    </tr>\n",
              "    <tr>\n",
              "      <th>1</th>\n",
              "      <td>-67.84</td>\n",
              "      <td>-6.81</td>\n",
              "      <td>18.03</td>\n",
              "      <td>-18.71</td>\n",
              "      <td>0.69</td>\n",
              "      <td>19.71</td>\n",
              "      <td>14.86</td>\n",
              "      <td>0.53</td>\n",
              "      <td>-31.51</td>\n",
              "      <td>-0.62</td>\n",
              "      <td>...</td>\n",
              "      <td>-7.18</td>\n",
              "      <td>-4.36</td>\n",
              "      <td>-5.11</td>\n",
              "      <td>15.25</td>\n",
              "      <td>-5.27</td>\n",
              "      <td>-12.10</td>\n",
              "      <td>3.11</td>\n",
              "      <td>12.74</td>\n",
              "      <td>1.77</td>\n",
              "      <td>1.29</td>\n",
              "    </tr>\n",
              "    <tr>\n",
              "      <th>2</th>\n",
              "      <td>-56.05</td>\n",
              "      <td>3.94</td>\n",
              "      <td>-5.50</td>\n",
              "      <td>18.52</td>\n",
              "      <td>-3.21</td>\n",
              "      <td>-4.81</td>\n",
              "      <td>-0.65</td>\n",
              "      <td>-4.53</td>\n",
              "      <td>8.06</td>\n",
              "      <td>4.15</td>\n",
              "      <td>...</td>\n",
              "      <td>8.91</td>\n",
              "      <td>-1.10</td>\n",
              "      <td>-8.84</td>\n",
              "      <td>-4.74</td>\n",
              "      <td>4.70</td>\n",
              "      <td>12.49</td>\n",
              "      <td>5.63</td>\n",
              "      <td>-6.31</td>\n",
              "      <td>-2.14</td>\n",
              "      <td>1.65</td>\n",
              "    </tr>\n",
              "    <tr>\n",
              "      <th>3</th>\n",
              "      <td>-62.20</td>\n",
              "      <td>11.51</td>\n",
              "      <td>-27.90</td>\n",
              "      <td>-4.93</td>\n",
              "      <td>2.28</td>\n",
              "      <td>-15.57</td>\n",
              "      <td>3.53</td>\n",
              "      <td>1.07</td>\n",
              "      <td>12.57</td>\n",
              "      <td>-1.40</td>\n",
              "      <td>...</td>\n",
              "      <td>5.60</td>\n",
              "      <td>-1.67</td>\n",
              "      <td>-10.00</td>\n",
              "      <td>5.64</td>\n",
              "      <td>3.99</td>\n",
              "      <td>-2.18</td>\n",
              "      <td>0.77</td>\n",
              "      <td>7.71</td>\n",
              "      <td>2.29</td>\n",
              "      <td>7.37</td>\n",
              "    </tr>\n",
              "    <tr>\n",
              "      <th>4</th>\n",
              "      <td>-79.51</td>\n",
              "      <td>9.08</td>\n",
              "      <td>-1.02</td>\n",
              "      <td>18.53</td>\n",
              "      <td>3.99</td>\n",
              "      <td>17.72</td>\n",
              "      <td>-5.29</td>\n",
              "      <td>5.77</td>\n",
              "      <td>-1.32</td>\n",
              "      <td>-12.00</td>\n",
              "      <td>...</td>\n",
              "      <td>-11.49</td>\n",
              "      <td>4.69</td>\n",
              "      <td>4.93</td>\n",
              "      <td>10.84</td>\n",
              "      <td>-1.84</td>\n",
              "      <td>-4.09</td>\n",
              "      <td>-2.68</td>\n",
              "      <td>-4.27</td>\n",
              "      <td>-1.25</td>\n",
              "      <td>1.31</td>\n",
              "    </tr>\n",
              "    <tr>\n",
              "      <th>...</th>\n",
              "      <td>...</td>\n",
              "      <td>...</td>\n",
              "      <td>...</td>\n",
              "      <td>...</td>\n",
              "      <td>...</td>\n",
              "      <td>...</td>\n",
              "      <td>...</td>\n",
              "      <td>...</td>\n",
              "      <td>...</td>\n",
              "      <td>...</td>\n",
              "      <td>...</td>\n",
              "      <td>...</td>\n",
              "      <td>...</td>\n",
              "      <td>...</td>\n",
              "      <td>...</td>\n",
              "      <td>...</td>\n",
              "      <td>...</td>\n",
              "      <td>...</td>\n",
              "      <td>...</td>\n",
              "      <td>...</td>\n",
              "      <td>...</td>\n",
              "    </tr>\n",
              "    <tr>\n",
              "      <th>1175</th>\n",
              "      <td>-3.93</td>\n",
              "      <td>-31.40</td>\n",
              "      <td>-4.93</td>\n",
              "      <td>20.99</td>\n",
              "      <td>-19.29</td>\n",
              "      <td>9.03</td>\n",
              "      <td>4.48</td>\n",
              "      <td>2.92</td>\n",
              "      <td>10.78</td>\n",
              "      <td>16.76</td>\n",
              "      <td>...</td>\n",
              "      <td>-6.72</td>\n",
              "      <td>7.14</td>\n",
              "      <td>-2.46</td>\n",
              "      <td>-3.72</td>\n",
              "      <td>-2.52</td>\n",
              "      <td>-4.86</td>\n",
              "      <td>-1.13</td>\n",
              "      <td>-2.07</td>\n",
              "      <td>0.38</td>\n",
              "      <td>-2.40</td>\n",
              "    </tr>\n",
              "    <tr>\n",
              "      <th>1176</th>\n",
              "      <td>-17.55</td>\n",
              "      <td>-39.08</td>\n",
              "      <td>-2.91</td>\n",
              "      <td>-3.87</td>\n",
              "      <td>14.39</td>\n",
              "      <td>13.30</td>\n",
              "      <td>1.64</td>\n",
              "      <td>4.70</td>\n",
              "      <td>-13.16</td>\n",
              "      <td>6.04</td>\n",
              "      <td>...</td>\n",
              "      <td>1.90</td>\n",
              "      <td>7.47</td>\n",
              "      <td>-1.03</td>\n",
              "      <td>3.23</td>\n",
              "      <td>-8.73</td>\n",
              "      <td>1.24</td>\n",
              "      <td>9.93</td>\n",
              "      <td>6.54</td>\n",
              "      <td>3.67</td>\n",
              "      <td>6.66</td>\n",
              "    </tr>\n",
              "    <tr>\n",
              "      <th>1177</th>\n",
              "      <td>-32.91</td>\n",
              "      <td>-36.88</td>\n",
              "      <td>-2.94</td>\n",
              "      <td>4.44</td>\n",
              "      <td>-6.54</td>\n",
              "      <td>8.39</td>\n",
              "      <td>12.18</td>\n",
              "      <td>-7.29</td>\n",
              "      <td>-7.54</td>\n",
              "      <td>11.30</td>\n",
              "      <td>...</td>\n",
              "      <td>-0.33</td>\n",
              "      <td>-18.81</td>\n",
              "      <td>13.19</td>\n",
              "      <td>-0.32</td>\n",
              "      <td>-10.70</td>\n",
              "      <td>7.41</td>\n",
              "      <td>-5.74</td>\n",
              "      <td>-6.72</td>\n",
              "      <td>1.83</td>\n",
              "      <td>18.00</td>\n",
              "    </tr>\n",
              "    <tr>\n",
              "      <th>1178</th>\n",
              "      <td>-4.24</td>\n",
              "      <td>-31.17</td>\n",
              "      <td>10.76</td>\n",
              "      <td>3.76</td>\n",
              "      <td>-3.52</td>\n",
              "      <td>-14.81</td>\n",
              "      <td>-1.21</td>\n",
              "      <td>-9.62</td>\n",
              "      <td>4.42</td>\n",
              "      <td>15.91</td>\n",
              "      <td>...</td>\n",
              "      <td>-10.18</td>\n",
              "      <td>-9.03</td>\n",
              "      <td>-6.81</td>\n",
              "      <td>-9.73</td>\n",
              "      <td>7.35</td>\n",
              "      <td>-7.83</td>\n",
              "      <td>-2.91</td>\n",
              "      <td>-5.06</td>\n",
              "      <td>3.69</td>\n",
              "      <td>-2.63</td>\n",
              "    </tr>\n",
              "    <tr>\n",
              "      <th>1179</th>\n",
              "      <td>-4.25</td>\n",
              "      <td>-25.30</td>\n",
              "      <td>5.39</td>\n",
              "      <td>6.04</td>\n",
              "      <td>7.18</td>\n",
              "      <td>0.44</td>\n",
              "      <td>1.71</td>\n",
              "      <td>-19.93</td>\n",
              "      <td>11.75</td>\n",
              "      <td>14.88</td>\n",
              "      <td>...</td>\n",
              "      <td>2.32</td>\n",
              "      <td>-0.03</td>\n",
              "      <td>-3.10</td>\n",
              "      <td>-2.42</td>\n",
              "      <td>6.52</td>\n",
              "      <td>-3.49</td>\n",
              "      <td>-1.24</td>\n",
              "      <td>49.97</td>\n",
              "      <td>-24.04</td>\n",
              "      <td>29.65</td>\n",
              "    </tr>\n",
              "  </tbody>\n",
              "</table>\n",
              "<p>1180 rows × 50 columns</p>\n",
              "</div>"
            ],
            "text/plain": [
              "         0      1      2      3      4      5     6      7      8      9   \\\n",
              "0    -48.83   7.68 -24.87 -12.29  11.15 -15.08  1.25  -6.81  10.39  -9.89   \n",
              "1    -67.84  -6.81  18.03 -18.71   0.69  19.71 14.86   0.53 -31.51  -0.62   \n",
              "2    -56.05   3.94  -5.50  18.52  -3.21  -4.81 -0.65  -4.53   8.06   4.15   \n",
              "3    -62.20  11.51 -27.90  -4.93   2.28 -15.57  3.53   1.07  12.57  -1.40   \n",
              "4    -79.51   9.08  -1.02  18.53   3.99  17.72 -5.29   5.77  -1.32 -12.00   \n",
              "...     ...    ...    ...    ...    ...    ...   ...    ...    ...    ...   \n",
              "1175  -3.93 -31.40  -4.93  20.99 -19.29   9.03  4.48   2.92  10.78  16.76   \n",
              "1176 -17.55 -39.08  -2.91  -3.87  14.39  13.30  1.64   4.70 -13.16   6.04   \n",
              "1177 -32.91 -36.88  -2.94   4.44  -6.54   8.39 12.18  -7.29  -7.54  11.30   \n",
              "1178  -4.24 -31.17  10.76   3.76  -3.52 -14.81 -1.21  -9.62   4.42  15.91   \n",
              "1179  -4.25 -25.30   5.39   6.04   7.18   0.44  1.71 -19.93  11.75  14.88   \n",
              "\n",
              "      ...     40     41     42    43     44     45    46    47     48    49  \n",
              "0     ...   6.54   3.54  -4.21 -4.58  -3.65  -6.24  7.63 -3.42   0.46  3.66  \n",
              "1     ...  -7.18  -4.36  -5.11 15.25  -5.27 -12.10  3.11 12.74   1.77  1.29  \n",
              "2     ...   8.91  -1.10  -8.84 -4.74   4.70  12.49  5.63 -6.31  -2.14  1.65  \n",
              "3     ...   5.60  -1.67 -10.00  5.64   3.99  -2.18  0.77  7.71   2.29  7.37  \n",
              "4     ... -11.49   4.69   4.93 10.84  -1.84  -4.09 -2.68 -4.27  -1.25  1.31  \n",
              "...   ...    ...    ...    ...   ...    ...    ...   ...   ...    ...   ...  \n",
              "1175  ...  -6.72   7.14  -2.46 -3.72  -2.52  -4.86 -1.13 -2.07   0.38 -2.40  \n",
              "1176  ...   1.90   7.47  -1.03  3.23  -8.73   1.24  9.93  6.54   3.67  6.66  \n",
              "1177  ...  -0.33 -18.81  13.19 -0.32 -10.70   7.41 -5.74 -6.72   1.83 18.00  \n",
              "1178  ... -10.18  -9.03  -6.81 -9.73   7.35  -7.83 -2.91 -5.06   3.69 -2.63  \n",
              "1179  ...   2.32  -0.03  -3.10 -2.42   6.52  -3.49 -1.24 49.97 -24.04 29.65  \n",
              "\n",
              "[1180 rows x 50 columns]"
            ]
          },
          "execution_count": 67,
          "metadata": {},
          "output_type": "execute_result"
        }
      ],
      "source": [
        "features_pca, log = FeatureCalculator().pca(all_features, scale = True, n_comp = 50)\n",
        "\n",
        "log += (\n",
        "    f'\\nChannel features: {channel_features.shape}\\n'\n",
        "    f'Correlation features: {dissim_features.shape}\\n'\n",
        "    f'Overall features: {overall_features.shape}\\n'\n",
        "    f'Total features: {all_features.shape}\\n'\n",
        "    f'PCA features: {features_pca.shape}'\n",
        ")\n",
        "with open(f\"{subj}/{exp}/log.txt\", \"w\") as text_file:\n",
        "    text_file.write(log)\n",
        "\n",
        "pandas.DataFrame(features_pca)"
      ]
    },
    {
      "cell_type": "markdown",
      "metadata": {},
      "source": [
        "#### Save"
      ]
    },
    {
      "cell_type": "code",
      "execution_count": 68,
      "metadata": {},
      "outputs": [
        {
          "data": {
            "text/html": [
              "<div>\n",
              "<style scoped>\n",
              "    .dataframe tbody tr th:only-of-type {\n",
              "        vertical-align: middle;\n",
              "    }\n",
              "\n",
              "    .dataframe tbody tr th {\n",
              "        vertical-align: top;\n",
              "    }\n",
              "\n",
              "    .dataframe thead th {\n",
              "        text-align: right;\n",
              "    }\n",
              "</style>\n",
              "<table border=\"1\" class=\"dataframe\">\n",
              "  <thead>\n",
              "    <tr style=\"text-align: right;\">\n",
              "      <th></th>\n",
              "      <th>0</th>\n",
              "      <th>1</th>\n",
              "      <th>2</th>\n",
              "      <th>3</th>\n",
              "      <th>4</th>\n",
              "      <th>5</th>\n",
              "      <th>6</th>\n",
              "      <th>7</th>\n",
              "      <th>8</th>\n",
              "      <th>9</th>\n",
              "      <th>...</th>\n",
              "      <th>40</th>\n",
              "      <th>41</th>\n",
              "      <th>42</th>\n",
              "      <th>43</th>\n",
              "      <th>44</th>\n",
              "      <th>45</th>\n",
              "      <th>46</th>\n",
              "      <th>47</th>\n",
              "      <th>48</th>\n",
              "      <th>49</th>\n",
              "    </tr>\n",
              "  </thead>\n",
              "  <tbody>\n",
              "    <tr>\n",
              "      <th>0</th>\n",
              "      <td>-48.83</td>\n",
              "      <td>7.68</td>\n",
              "      <td>-24.87</td>\n",
              "      <td>-12.29</td>\n",
              "      <td>11.15</td>\n",
              "      <td>-15.08</td>\n",
              "      <td>1.25</td>\n",
              "      <td>-6.81</td>\n",
              "      <td>10.39</td>\n",
              "      <td>-9.89</td>\n",
              "      <td>...</td>\n",
              "      <td>6.54</td>\n",
              "      <td>3.54</td>\n",
              "      <td>-4.21</td>\n",
              "      <td>-4.58</td>\n",
              "      <td>-3.65</td>\n",
              "      <td>-6.24</td>\n",
              "      <td>7.63</td>\n",
              "      <td>-3.42</td>\n",
              "      <td>0.46</td>\n",
              "      <td>3.66</td>\n",
              "    </tr>\n",
              "    <tr>\n",
              "      <th>1</th>\n",
              "      <td>-67.84</td>\n",
              "      <td>-6.81</td>\n",
              "      <td>18.03</td>\n",
              "      <td>-18.71</td>\n",
              "      <td>0.69</td>\n",
              "      <td>19.71</td>\n",
              "      <td>14.86</td>\n",
              "      <td>0.53</td>\n",
              "      <td>-31.51</td>\n",
              "      <td>-0.62</td>\n",
              "      <td>...</td>\n",
              "      <td>-7.18</td>\n",
              "      <td>-4.36</td>\n",
              "      <td>-5.11</td>\n",
              "      <td>15.25</td>\n",
              "      <td>-5.27</td>\n",
              "      <td>-12.10</td>\n",
              "      <td>3.11</td>\n",
              "      <td>12.74</td>\n",
              "      <td>1.77</td>\n",
              "      <td>1.29</td>\n",
              "    </tr>\n",
              "    <tr>\n",
              "      <th>2</th>\n",
              "      <td>-56.05</td>\n",
              "      <td>3.94</td>\n",
              "      <td>-5.50</td>\n",
              "      <td>18.52</td>\n",
              "      <td>-3.21</td>\n",
              "      <td>-4.81</td>\n",
              "      <td>-0.65</td>\n",
              "      <td>-4.53</td>\n",
              "      <td>8.06</td>\n",
              "      <td>4.15</td>\n",
              "      <td>...</td>\n",
              "      <td>8.91</td>\n",
              "      <td>-1.10</td>\n",
              "      <td>-8.84</td>\n",
              "      <td>-4.74</td>\n",
              "      <td>4.70</td>\n",
              "      <td>12.49</td>\n",
              "      <td>5.63</td>\n",
              "      <td>-6.31</td>\n",
              "      <td>-2.14</td>\n",
              "      <td>1.65</td>\n",
              "    </tr>\n",
              "    <tr>\n",
              "      <th>3</th>\n",
              "      <td>-62.20</td>\n",
              "      <td>11.51</td>\n",
              "      <td>-27.90</td>\n",
              "      <td>-4.93</td>\n",
              "      <td>2.28</td>\n",
              "      <td>-15.57</td>\n",
              "      <td>3.53</td>\n",
              "      <td>1.07</td>\n",
              "      <td>12.57</td>\n",
              "      <td>-1.40</td>\n",
              "      <td>...</td>\n",
              "      <td>5.60</td>\n",
              "      <td>-1.67</td>\n",
              "      <td>-10.00</td>\n",
              "      <td>5.64</td>\n",
              "      <td>3.99</td>\n",
              "      <td>-2.18</td>\n",
              "      <td>0.77</td>\n",
              "      <td>7.71</td>\n",
              "      <td>2.29</td>\n",
              "      <td>7.37</td>\n",
              "    </tr>\n",
              "    <tr>\n",
              "      <th>4</th>\n",
              "      <td>-79.51</td>\n",
              "      <td>9.08</td>\n",
              "      <td>-1.02</td>\n",
              "      <td>18.53</td>\n",
              "      <td>3.99</td>\n",
              "      <td>17.72</td>\n",
              "      <td>-5.29</td>\n",
              "      <td>5.77</td>\n",
              "      <td>-1.32</td>\n",
              "      <td>-12.00</td>\n",
              "      <td>...</td>\n",
              "      <td>-11.49</td>\n",
              "      <td>4.69</td>\n",
              "      <td>4.93</td>\n",
              "      <td>10.84</td>\n",
              "      <td>-1.84</td>\n",
              "      <td>-4.09</td>\n",
              "      <td>-2.68</td>\n",
              "      <td>-4.27</td>\n",
              "      <td>-1.25</td>\n",
              "      <td>1.31</td>\n",
              "    </tr>\n",
              "    <tr>\n",
              "      <th>...</th>\n",
              "      <td>...</td>\n",
              "      <td>...</td>\n",
              "      <td>...</td>\n",
              "      <td>...</td>\n",
              "      <td>...</td>\n",
              "      <td>...</td>\n",
              "      <td>...</td>\n",
              "      <td>...</td>\n",
              "      <td>...</td>\n",
              "      <td>...</td>\n",
              "      <td>...</td>\n",
              "      <td>...</td>\n",
              "      <td>...</td>\n",
              "      <td>...</td>\n",
              "      <td>...</td>\n",
              "      <td>...</td>\n",
              "      <td>...</td>\n",
              "      <td>...</td>\n",
              "      <td>...</td>\n",
              "      <td>...</td>\n",
              "      <td>...</td>\n",
              "    </tr>\n",
              "    <tr>\n",
              "      <th>1175</th>\n",
              "      <td>-3.93</td>\n",
              "      <td>-31.40</td>\n",
              "      <td>-4.93</td>\n",
              "      <td>20.99</td>\n",
              "      <td>-19.29</td>\n",
              "      <td>9.03</td>\n",
              "      <td>4.48</td>\n",
              "      <td>2.92</td>\n",
              "      <td>10.78</td>\n",
              "      <td>16.76</td>\n",
              "      <td>...</td>\n",
              "      <td>-6.72</td>\n",
              "      <td>7.14</td>\n",
              "      <td>-2.46</td>\n",
              "      <td>-3.72</td>\n",
              "      <td>-2.52</td>\n",
              "      <td>-4.86</td>\n",
              "      <td>-1.13</td>\n",
              "      <td>-2.07</td>\n",
              "      <td>0.38</td>\n",
              "      <td>-2.40</td>\n",
              "    </tr>\n",
              "    <tr>\n",
              "      <th>1176</th>\n",
              "      <td>-17.55</td>\n",
              "      <td>-39.08</td>\n",
              "      <td>-2.91</td>\n",
              "      <td>-3.87</td>\n",
              "      <td>14.39</td>\n",
              "      <td>13.30</td>\n",
              "      <td>1.64</td>\n",
              "      <td>4.70</td>\n",
              "      <td>-13.16</td>\n",
              "      <td>6.04</td>\n",
              "      <td>...</td>\n",
              "      <td>1.90</td>\n",
              "      <td>7.47</td>\n",
              "      <td>-1.03</td>\n",
              "      <td>3.23</td>\n",
              "      <td>-8.73</td>\n",
              "      <td>1.24</td>\n",
              "      <td>9.93</td>\n",
              "      <td>6.54</td>\n",
              "      <td>3.67</td>\n",
              "      <td>6.66</td>\n",
              "    </tr>\n",
              "    <tr>\n",
              "      <th>1177</th>\n",
              "      <td>-32.91</td>\n",
              "      <td>-36.88</td>\n",
              "      <td>-2.94</td>\n",
              "      <td>4.44</td>\n",
              "      <td>-6.54</td>\n",
              "      <td>8.39</td>\n",
              "      <td>12.18</td>\n",
              "      <td>-7.29</td>\n",
              "      <td>-7.54</td>\n",
              "      <td>11.30</td>\n",
              "      <td>...</td>\n",
              "      <td>-0.33</td>\n",
              "      <td>-18.81</td>\n",
              "      <td>13.19</td>\n",
              "      <td>-0.32</td>\n",
              "      <td>-10.70</td>\n",
              "      <td>7.41</td>\n",
              "      <td>-5.74</td>\n",
              "      <td>-6.72</td>\n",
              "      <td>1.83</td>\n",
              "      <td>18.00</td>\n",
              "    </tr>\n",
              "    <tr>\n",
              "      <th>1178</th>\n",
              "      <td>-4.24</td>\n",
              "      <td>-31.17</td>\n",
              "      <td>10.76</td>\n",
              "      <td>3.76</td>\n",
              "      <td>-3.52</td>\n",
              "      <td>-14.81</td>\n",
              "      <td>-1.21</td>\n",
              "      <td>-9.62</td>\n",
              "      <td>4.42</td>\n",
              "      <td>15.91</td>\n",
              "      <td>...</td>\n",
              "      <td>-10.18</td>\n",
              "      <td>-9.03</td>\n",
              "      <td>-6.81</td>\n",
              "      <td>-9.73</td>\n",
              "      <td>7.35</td>\n",
              "      <td>-7.83</td>\n",
              "      <td>-2.91</td>\n",
              "      <td>-5.06</td>\n",
              "      <td>3.69</td>\n",
              "      <td>-2.63</td>\n",
              "    </tr>\n",
              "    <tr>\n",
              "      <th>1179</th>\n",
              "      <td>-4.25</td>\n",
              "      <td>-25.30</td>\n",
              "      <td>5.39</td>\n",
              "      <td>6.04</td>\n",
              "      <td>7.18</td>\n",
              "      <td>0.44</td>\n",
              "      <td>1.71</td>\n",
              "      <td>-19.93</td>\n",
              "      <td>11.75</td>\n",
              "      <td>14.88</td>\n",
              "      <td>...</td>\n",
              "      <td>2.32</td>\n",
              "      <td>-0.03</td>\n",
              "      <td>-3.10</td>\n",
              "      <td>-2.42</td>\n",
              "      <td>6.52</td>\n",
              "      <td>-3.49</td>\n",
              "      <td>-1.24</td>\n",
              "      <td>49.97</td>\n",
              "      <td>-24.04</td>\n",
              "      <td>29.65</td>\n",
              "    </tr>\n",
              "  </tbody>\n",
              "</table>\n",
              "<p>1180 rows × 50 columns</p>\n",
              "</div>"
            ],
            "text/plain": [
              "         0      1      2      3      4      5     6      7      8      9   \\\n",
              "0    -48.83   7.68 -24.87 -12.29  11.15 -15.08  1.25  -6.81  10.39  -9.89   \n",
              "1    -67.84  -6.81  18.03 -18.71   0.69  19.71 14.86   0.53 -31.51  -0.62   \n",
              "2    -56.05   3.94  -5.50  18.52  -3.21  -4.81 -0.65  -4.53   8.06   4.15   \n",
              "3    -62.20  11.51 -27.90  -4.93   2.28 -15.57  3.53   1.07  12.57  -1.40   \n",
              "4    -79.51   9.08  -1.02  18.53   3.99  17.72 -5.29   5.77  -1.32 -12.00   \n",
              "...     ...    ...    ...    ...    ...    ...   ...    ...    ...    ...   \n",
              "1175  -3.93 -31.40  -4.93  20.99 -19.29   9.03  4.48   2.92  10.78  16.76   \n",
              "1176 -17.55 -39.08  -2.91  -3.87  14.39  13.30  1.64   4.70 -13.16   6.04   \n",
              "1177 -32.91 -36.88  -2.94   4.44  -6.54   8.39 12.18  -7.29  -7.54  11.30   \n",
              "1178  -4.24 -31.17  10.76   3.76  -3.52 -14.81 -1.21  -9.62   4.42  15.91   \n",
              "1179  -4.25 -25.30   5.39   6.04   7.18   0.44  1.71 -19.93  11.75  14.88   \n",
              "\n",
              "      ...     40     41     42    43     44     45    46    47     48    49  \n",
              "0     ...   6.54   3.54  -4.21 -4.58  -3.65  -6.24  7.63 -3.42   0.46  3.66  \n",
              "1     ...  -7.18  -4.36  -5.11 15.25  -5.27 -12.10  3.11 12.74   1.77  1.29  \n",
              "2     ...   8.91  -1.10  -8.84 -4.74   4.70  12.49  5.63 -6.31  -2.14  1.65  \n",
              "3     ...   5.60  -1.67 -10.00  5.64   3.99  -2.18  0.77  7.71   2.29  7.37  \n",
              "4     ... -11.49   4.69   4.93 10.84  -1.84  -4.09 -2.68 -4.27  -1.25  1.31  \n",
              "...   ...    ...    ...    ...   ...    ...    ...   ...   ...    ...   ...  \n",
              "1175  ...  -6.72   7.14  -2.46 -3.72  -2.52  -4.86 -1.13 -2.07   0.38 -2.40  \n",
              "1176  ...   1.90   7.47  -1.03  3.23  -8.73   1.24  9.93  6.54   3.67  6.66  \n",
              "1177  ...  -0.33 -18.81  13.19 -0.32 -10.70   7.41 -5.74 -6.72   1.83 18.00  \n",
              "1178  ... -10.18  -9.03  -6.81 -9.73   7.35  -7.83 -2.91 -5.06   3.69 -2.63  \n",
              "1179  ...   2.32  -0.03  -3.10 -2.42   6.52  -3.49 -1.24 49.97 -24.04 29.65  \n",
              "\n",
              "[1180 rows x 50 columns]"
            ]
          },
          "execution_count": 68,
          "metadata": {},
          "output_type": "execute_result"
        }
      ],
      "source": [
        "final_features = pandas.DataFrame(features_pca)\n",
        "final_features.to_feather(f\"{subj}/{exp}/features.feather\")\n",
        "final_features"
      ]
    }
  ],
  "metadata": {
    "colab": {
      "provenance": []
    },
    "kernelspec": {
      "display_name": "Python 3",
      "name": "python3"
    },
    "language_info": {
      "codemirror_mode": {
        "name": "ipython",
        "version": 3
      },
      "file_extension": ".py",
      "mimetype": "text/x-python",
      "name": "python",
      "nbconvert_exporter": "python",
      "pygments_lexer": "ipython3",
      "version": "3.10.11"
    }
  },
  "nbformat": 4,
  "nbformat_minor": 0
}
