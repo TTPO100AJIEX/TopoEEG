{
 "cells": [
  {
   "cell_type": "code",
   "execution_count": 2,
   "metadata": {},
   "outputs": [],
   "source": [
    "import os\n",
    "\n",
    "subj = \"Subj1\"\n",
    "exp = \"exp_ae\"\n",
    "os.makedirs(f\"{subj}/{exp}\", exist_ok = True)"
   ]
  },
  {
   "cell_type": "code",
   "execution_count": 3,
   "metadata": {},
   "outputs": [
    {
     "name": "stdout",
     "output_type": "stream",
     "text": [
      "cuda\n"
     ]
    }
   ],
   "source": [
    "import abc\n",
    "import typing\n",
    "import random\n",
    "import warnings\n",
    "\n",
    "import SDA\n",
    "import SDA.analytics\n",
    "import SDA.clustquality\n",
    "\n",
    "import tqdm\n",
    "import torch\n",
    "import wandb\n",
    "import numpy\n",
    "import pandas\n",
    "import torch.utils.data\n",
    "import sklearn.manifold\n",
    "import sklearn.preprocessing\n",
    "import sklearn.decomposition\n",
    "\n",
    "warnings.filterwarnings(\"ignore\")\n",
    "\n",
    "device = torch.device(\n",
    "    \"cuda\" if torch.cuda.is_available()\n",
    "    else \"mps\" if torch.backends.mps.is_available()\n",
    "    else \"cpu\"\n",
    ")\n",
    "print(device)\n",
    "\n",
    "RANDOM_STATE = 42\n",
    "def set_random_seed(seed = RANDOM_STATE):\n",
    "    random.seed(seed)\n",
    "    numpy.random.seed(seed)\n",
    "    torch.manual_seed(seed)\n",
    "    torch.cuda.manual_seed(seed)\n",
    "    os.environ[\"PYTHONHASHSEED\"] = str(seed)\n",
    "    torch.backends.cudnn.deterministic = True"
   ]
  },
  {
   "cell_type": "code",
   "execution_count": 4,
   "metadata": {},
   "outputs": [
    {
     "name": "stdout",
     "output_type": "stream",
     "text": [
      "(1046, 19563)\n",
      "(1046, 19563)\n"
     ]
    }
   ],
   "source": [
    "edges_true = numpy.loadtxt(f\"{subj}/reproduction/internal/best_edges.txt\").astype(numpy.int32)\n",
    "features = pandas.read_feather(f'{subj}/exp_final/all_features.feather')\n",
    "print(features.shape)\n",
    "\n",
    "features = sklearn.preprocessing.StandardScaler().fit_transform(features)\n",
    "print(features.shape)"
   ]
  },
  {
   "cell_type": "markdown",
   "metadata": {},
   "source": [
    "### AE"
   ]
  },
  {
   "cell_type": "code",
   "execution_count": 5,
   "metadata": {},
   "outputs": [],
   "source": [
    "class BaseEncoder(torch.nn.Module, abc.ABC):\n",
    "    def __init__(self, latent_size: int):\n",
    "        super().__init__()\n",
    "        self.latent_size = latent_size\n",
    "\n",
    "    def forward(self, input: torch.Tensor) -> torch.Tensor:\n",
    "        return self.model(input)\n",
    "\n",
    "class BaseDecoder(torch.nn.Module, abc.ABC):\n",
    "    def __init__(self, latent_size: int):\n",
    "        super().__init__()\n",
    "        self.latent_size = latent_size\n",
    "\n",
    "    def forward(self, input: torch.Tensor) -> torch.Tensor:\n",
    "        return self.model(input)\n",
    "    \n",
    "class BaseAutoEncoder(torch.nn.Module, abc.ABC):\n",
    "    def __init__(self, latent_size: int, encoder_class = BaseEncoder, decoder_class = BaseDecoder):\n",
    "        super().__init__()\n",
    "        self.latent_size = latent_size\n",
    "        if encoder_class is not None: self.encoder = encoder_class(latent_size)\n",
    "        if decoder_class is not None: self.decoder = decoder_class(latent_size)\n",
    "\n",
    "    def forward(self, input: torch.Tensor) -> typing.Tuple[torch.Tensor, torch.Tensor]:\n",
    "        embedding = self.encoder(input)\n",
    "        recovered_input = self.decoder(embedding)\n",
    "        return recovered_input, embedding"
   ]
  },
  {
   "cell_type": "code",
   "execution_count": 6,
   "metadata": {},
   "outputs": [],
   "source": [
    "def test_encoder(encoder: BaseEncoder):\n",
    "    dummy = torch.randn((10, 19563))\n",
    "    assert encoder(dummy).shape == (10, encoder.latent_size)\n",
    "\n",
    "def test_decoder(decoder: BaseDecoder):\n",
    "    dummy = torch.randn((10, decoder.latent_size))\n",
    "    assert decoder(dummy).shape == (10, 19563)\n",
    "\n",
    "def test_autoencoder(autoencoder: BaseAutoEncoder):\n",
    "    test_encoder(autoencoder.encoder)\n",
    "    test_decoder(autoencoder.decoder)\n",
    "    dummy = torch.randn((10, 19563))\n",
    "    outputs, embeddings = autoencoder(dummy)\n",
    "    assert outputs.shape == dummy.shape\n",
    "    assert embeddings.shape == (10, autoencoder.latent_size)"
   ]
  },
  {
   "cell_type": "code",
   "execution_count": 7,
   "metadata": {},
   "outputs": [],
   "source": [
    "def autoencoder_loss(input: torch.Tensor, target: torch.Tensor) -> torch.Tensor:\n",
    "    return torch.nn.functional.mse_loss(input, target, reduction = 'sum')"
   ]
  },
  {
   "cell_type": "code",
   "execution_count": 8,
   "metadata": {},
   "outputs": [],
   "source": [
    "def train(\n",
    "    model: BaseAutoEncoder,\n",
    "    dataloader: torch.utils.data.DataLoader,\n",
    "    name: str,\n",
    "    learning_rate: float = 1e-3,\n",
    "    n_epochs: int = 25\n",
    ") -> BaseAutoEncoder:\n",
    "    model = model.to(device)\n",
    "    optimizer = torch.optim.AdamW(model.parameters(), lr = learning_rate)\n",
    "    scheduler = torch.optim.lr_scheduler.LambdaLR(optimizer, lr_scheduler)\n",
    "    wandb.init(project = \"CourseProject\", name = name, anonymous = \"allow\")\n",
    "    wandb.watch(model, log = \"all\")\n",
    "    for _ in tqdm.trange(n_epochs):\n",
    "        train_loss = 0\n",
    "        for images in dataloader:\n",
    "            model.train() # Enter train mode\n",
    "            optimizer.zero_grad() # Zero gradients\n",
    "            output, _ = model(images.to(device)) # Get predictions\n",
    "            loss = autoencoder_loss(output, images.to(device)) # Calculate loss\n",
    "            loss.backward() # Calculate gradients\n",
    "            optimizer.step() # Update weights\n",
    "            wandb.log({ 'Train batch loss': loss.item() / images.shape[0] }) # Log metric\n",
    "            train_loss += loss.item()\n",
    "\n",
    "        scheduler.step()\n",
    "        new_lr = optimizer.param_groups[0]['lr']\n",
    "        wandb.log({ 'Train loss': train_loss / len(dataloader.dataset), 'Learning rate': new_lr })\n",
    "\n",
    "    wandb.finish()\n",
    "    return model.cpu()"
   ]
  },
  {
   "cell_type": "code",
   "execution_count": 9,
   "metadata": {},
   "outputs": [],
   "source": [
    "class SimpleEncoder(BaseEncoder):\n",
    "    def __init__(self, latent_size: int):\n",
    "        super().__init__(latent_size)\n",
    "        self.model = torch.nn.Sequential(\n",
    "            torch.nn.Linear(in_features = 19563, out_features = 4096), torch.nn.BatchNorm1d(4096), torch.nn.GELU(),\n",
    "            torch.nn.Linear(in_features = 4096, out_features = latent_size)\n",
    "        )\n",
    "\n",
    "class SimpleDecoder(BaseDecoder):\n",
    "    def __init__(self, latent_size: int):\n",
    "        super().__init__(latent_size)\n",
    "        self.model = torch.nn.Sequential(\n",
    "            torch.nn.Linear(in_features = latent_size, out_features = 4096), torch.nn.BatchNorm1d(4096), torch.nn.GELU(),\n",
    "            torch.nn.Linear(in_features = 4096, out_features = 19563)\n",
    "        )\n",
    "\n",
    "test_encoder(SimpleEncoder(128))\n",
    "test_decoder(SimpleDecoder(128))\n",
    "test_autoencoder(BaseAutoEncoder(128, SimpleEncoder, SimpleDecoder))"
   ]
  },
  {
   "cell_type": "code",
   "execution_count": 18,
   "metadata": {},
   "outputs": [
    {
     "name": "stdout",
     "output_type": "stream",
     "text": [
      "torch.Size([1046, 19563])\n",
      "1\n"
     ]
    },
    {
     "data": {
      "text/html": [
       "wandb version 0.16.6 is available!  To upgrade, please run:\n",
       " $ pip install wandb --upgrade"
      ],
      "text/plain": [
       "<IPython.core.display.HTML object>"
      ]
     },
     "metadata": {},
     "output_type": "display_data"
    },
    {
     "data": {
      "text/html": [
       "Tracking run with wandb version 0.16.0"
      ],
      "text/plain": [
       "<IPython.core.display.HTML object>"
      ]
     },
     "metadata": {},
     "output_type": "display_data"
    },
    {
     "data": {
      "text/html": [
       "Run data is saved locally in <code>d:\\HSE\\year-3\\HSE\\CourseProject\\wandb\\run-20240430_235157-4hliw2d0</code>"
      ],
      "text/plain": [
       "<IPython.core.display.HTML object>"
      ]
     },
     "metadata": {},
     "output_type": "display_data"
    },
    {
     "data": {
      "text/html": [
       "Syncing run <strong><a href='https://wandb.ai/hse-iad/CourseProject/runs/4hliw2d0' target=\"_blank\">64</a></strong> to <a href='https://wandb.ai/hse-iad/CourseProject' target=\"_blank\">Weights & Biases</a> (<a href='https://wandb.me/run' target=\"_blank\">docs</a>)<br/>"
      ],
      "text/plain": [
       "<IPython.core.display.HTML object>"
      ]
     },
     "metadata": {},
     "output_type": "display_data"
    },
    {
     "data": {
      "text/html": [
       " View project at <a href='https://wandb.ai/hse-iad/CourseProject' target=\"_blank\">https://wandb.ai/hse-iad/CourseProject</a>"
      ],
      "text/plain": [
       "<IPython.core.display.HTML object>"
      ]
     },
     "metadata": {},
     "output_type": "display_data"
    },
    {
     "data": {
      "text/html": [
       " View run at <a href='https://wandb.ai/hse-iad/CourseProject/runs/4hliw2d0' target=\"_blank\">https://wandb.ai/hse-iad/CourseProject/runs/4hliw2d0</a>"
      ],
      "text/plain": [
       "<IPython.core.display.HTML object>"
      ]
     },
     "metadata": {},
     "output_type": "display_data"
    },
    {
     "name": "stderr",
     "output_type": "stream",
     "text": [
      "100%|██████████| 500/500 [04:39<00:00,  1.79it/s]\n"
     ]
    },
    {
     "data": {
      "application/vnd.jupyter.widget-view+json": {
       "model_id": "f35d0dfbd2e941d793c2e1140f6b1388",
       "version_major": 2,
       "version_minor": 0
      },
      "text/plain": [
       "VBox(children=(Label(value='0.001 MB of 0.005 MB uploaded\\r'), FloatProgress(value=0.24676258992805755, max=1.…"
      ]
     },
     "metadata": {},
     "output_type": "display_data"
    },
    {
     "data": {
      "text/html": [
       "<style>\n",
       "    table.wandb td:nth-child(1) { padding: 0 10px; text-align: left ; width: auto;} td:nth-child(2) {text-align: left ; width: 100%}\n",
       "    .wandb-row { display: flex; flex-direction: row; flex-wrap: wrap; justify-content: flex-start; width: 100% }\n",
       "    .wandb-col { display: flex; flex-direction: column; flex-basis: 100%; flex: 1; padding: 10px; }\n",
       "    </style>\n",
       "<div class=\"wandb-row\"><div class=\"wandb-col\"><h3>Run history:</h3><br/><table class=\"wandb\"><tr><td>Learning rate</td><td>████████████████████████████████▁▁▁▁▁▁▁▁</td></tr><tr><td>Train batch loss</td><td>█▆▅▄▄▃▃▃▂▂▂▂▂▂▂▁▁▁▁▁▁▁▁▁▁▁▁▁▁▁▁▁▁▁▁▁▁▁▁▁</td></tr><tr><td>Train loss</td><td>█▆▅▄▄▃▃▃▂▂▂▂▂▂▂▁▁▁▁▁▁▁▁▁▁▁▁▁▁▁▁▁▁▁▁▁▁▁▁▁</td></tr></table><br/></div><div class=\"wandb-col\"><h3>Run summary:</h3><br/><table class=\"wandb\"><tr><td>Learning rate</td><td>1e-05</td></tr><tr><td>Train batch loss</td><td>64.62622</td></tr><tr><td>Train loss</td><td>64.62622</td></tr></table><br/></div></div>"
      ],
      "text/plain": [
       "<IPython.core.display.HTML object>"
      ]
     },
     "metadata": {},
     "output_type": "display_data"
    },
    {
     "data": {
      "text/html": [
       " View run <strong style=\"color:#cdcd00\">64</strong> at: <a href='https://wandb.ai/hse-iad/CourseProject/runs/4hliw2d0' target=\"_blank\">https://wandb.ai/hse-iad/CourseProject/runs/4hliw2d0</a><br/>Synced 5 W&B file(s), 0 media file(s), 0 artifact file(s) and 0 other file(s)"
      ],
      "text/plain": [
       "<IPython.core.display.HTML object>"
      ]
     },
     "metadata": {},
     "output_type": "display_data"
    },
    {
     "data": {
      "text/html": [
       "Find logs at: <code>.\\wandb\\run-20240430_235157-4hliw2d0\\logs</code>"
      ],
      "text/plain": [
       "<IPython.core.display.HTML object>"
      ]
     },
     "metadata": {},
     "output_type": "display_data"
    }
   ],
   "source": [
    "set_random_seed()\n",
    "\n",
    "def lr_scheduler(epoch: int):\n",
    "    if epoch < 400: return 1\n",
    "    return 0.01\n",
    "\n",
    "torch_features = torch.tensor(features, dtype = torch.float32)\n",
    "print(torch_features.shape)\n",
    "\n",
    "dataloader = torch.utils.data.DataLoader(torch_features, shuffle = True, batch_size = 1046)\n",
    "print(len(dataloader))\n",
    "\n",
    "simple_autoencoder = train(\n",
    "    BaseAutoEncoder(64, SimpleEncoder, SimpleDecoder),\n",
    "    dataloader,\n",
    "    name = str(64),\n",
    "    n_epochs = 500\n",
    ")"
   ]
  },
  {
   "cell_type": "markdown",
   "metadata": {},
   "source": [
    "### Test"
   ]
  },
  {
   "cell_type": "code",
   "execution_count": 12,
   "metadata": {},
   "outputs": [
    {
     "data": {
      "application/vnd.jupyter.widget-view+json": {
       "model_id": "edf29e78feb744ed912312aba1561ff5",
       "version_major": 2,
       "version_minor": 0
      },
      "text/plain": [
       "VBox(children=(Label(value='Waiting for wandb.init()...\\r'), FloatProgress(value=0.01127777777777131, max=1.0)…"
      ]
     },
     "metadata": {},
     "output_type": "display_data"
    },
    {
     "data": {
      "text/html": [
       "wandb version 0.16.6 is available!  To upgrade, please run:\n",
       " $ pip install wandb --upgrade"
      ],
      "text/plain": [
       "<IPython.core.display.HTML object>"
      ]
     },
     "metadata": {},
     "output_type": "display_data"
    },
    {
     "data": {
      "text/html": [
       "Tracking run with wandb version 0.16.0"
      ],
      "text/plain": [
       "<IPython.core.display.HTML object>"
      ]
     },
     "metadata": {},
     "output_type": "display_data"
    },
    {
     "data": {
      "text/html": [
       "Run data is saved locally in <code>d:\\HSE\\year-3\\HSE\\CourseProject\\wandb\\run-20240430_210615-a4g3jnue</code>"
      ],
      "text/plain": [
       "<IPython.core.display.HTML object>"
      ]
     },
     "metadata": {},
     "output_type": "display_data"
    },
    {
     "data": {
      "text/html": [
       "Syncing run <strong><a href='https://wandb.ai/hse-iad/CourseProject/runs/a4g3jnue' target=\"_blank\">8</a></strong> to <a href='https://wandb.ai/hse-iad/CourseProject' target=\"_blank\">Weights & Biases</a> (<a href='https://wandb.me/run' target=\"_blank\">docs</a>)<br/>"
      ],
      "text/plain": [
       "<IPython.core.display.HTML object>"
      ]
     },
     "metadata": {},
     "output_type": "display_data"
    },
    {
     "data": {
      "text/html": [
       " View project at <a href='https://wandb.ai/hse-iad/CourseProject' target=\"_blank\">https://wandb.ai/hse-iad/CourseProject</a>"
      ],
      "text/plain": [
       "<IPython.core.display.HTML object>"
      ]
     },
     "metadata": {},
     "output_type": "display_data"
    },
    {
     "data": {
      "text/html": [
       " View run at <a href='https://wandb.ai/hse-iad/CourseProject/runs/a4g3jnue' target=\"_blank\">https://wandb.ai/hse-iad/CourseProject/runs/a4g3jnue</a>"
      ],
      "text/plain": [
       "<IPython.core.display.HTML object>"
      ]
     },
     "metadata": {},
     "output_type": "display_data"
    },
    {
     "name": "stderr",
     "output_type": "stream",
     "text": [
      "100%|██████████| 75/75 [02:40<00:00,  2.14s/it]\n"
     ]
    },
    {
     "data": {
      "application/vnd.jupyter.widget-view+json": {
       "model_id": "be9239dada5140faba02c5824e73c0c6",
       "version_major": 2,
       "version_minor": 0
      },
      "text/plain": [
       "VBox(children=(Label(value='0.001 MB of 0.001 MB uploaded\\r'), FloatProgress(value=1.0, max=1.0)))"
      ]
     },
     "metadata": {},
     "output_type": "display_data"
    },
    {
     "data": {
      "text/html": [
       "<style>\n",
       "    table.wandb td:nth-child(1) { padding: 0 10px; text-align: left ; width: auto;} td:nth-child(2) {text-align: left ; width: 100%}\n",
       "    .wandb-row { display: flex; flex-direction: row; flex-wrap: wrap; justify-content: flex-start; width: 100% }\n",
       "    .wandb-col { display: flex; flex-direction: column; flex-basis: 100%; flex: 1; padding: 10px; }\n",
       "    </style>\n",
       "<div class=\"wandb-row\"><div class=\"wandb-col\"><h3>Run history:</h3><br/><table class=\"wandb\"><tr><td>Learning rate</td><td>██████████████████████████▁▁▁▁▁▁▁▁▁▁▁▁▁▁</td></tr><tr><td>Train batch loss</td><td>▇█▅▆▇▅▆▄▅▄▃▅▅▅▃▃▂▄▄▄▅▃▃▂▂▂▃▂▂▂▂▃▂▁▂▃▂▂▂▁</td></tr><tr><td>Train loss</td><td>█▆▅▅▄▄▄▃▃▃▃▃▃▃▂▂▂▂▂▂▂▂▂▂▂▂▂▁▁▁▁▁▁▁▁▁▁▁▁▁</td></tr></table><br/></div><div class=\"wandb-col\"><h3>Run summary:</h3><br/><table class=\"wandb\"><tr><td>Learning rate</td><td>1e-05</td></tr><tr><td>Train batch loss</td><td>10494.28835</td></tr><tr><td>Train loss</td><td>10515.6774</td></tr></table><br/></div></div>"
      ],
      "text/plain": [
       "<IPython.core.display.HTML object>"
      ]
     },
     "metadata": {},
     "output_type": "display_data"
    },
    {
     "data": {
      "text/html": [
       " View run <strong style=\"color:#cdcd00\">8</strong> at: <a href='https://wandb.ai/hse-iad/CourseProject/runs/a4g3jnue' target=\"_blank\">https://wandb.ai/hse-iad/CourseProject/runs/a4g3jnue</a><br/>Synced 5 W&B file(s), 0 media file(s), 0 artifact file(s) and 0 other file(s)"
      ],
      "text/plain": [
       "<IPython.core.display.HTML object>"
      ]
     },
     "metadata": {},
     "output_type": "display_data"
    },
    {
     "data": {
      "text/html": [
       "Find logs at: <code>.\\wandb\\run-20240430_210615-a4g3jnue\\logs</code>"
      ],
      "text/plain": [
       "<IPython.core.display.HTML object>"
      ]
     },
     "metadata": {},
     "output_type": "display_data"
    },
    {
     "name": "stdout",
     "output_type": "stream",
     "text": [
      "Applying to 1046 samples with 8 features each\n",
      "Running stage 1\n"
     ]
    },
    {
     "data": {
      "application/vnd.jupyter.widget-view+json": {
       "model_id": "3a8ccbaec2594e30be4ce65fa85b1073",
       "version_major": 2,
       "version_minor": 0
      },
      "text/plain": [
       "  0%|          | 0/589 [00:00<?, ?it/s]"
      ]
     },
     "metadata": {},
     "output_type": "display_data"
    },
    {
     "name": "stdout",
     "output_type": "stream",
     "text": [
      "Running stage 2\n"
     ]
    },
    {
     "data": {
      "application/vnd.jupyter.widget-view+json": {
       "model_id": "29fc75516a744caea64c5cd9a8b823fb",
       "version_major": 2,
       "version_minor": 0
      },
      "text/plain": [
       "  0%|          | 0/672 [00:00<?, ?it/s]"
      ]
     },
     "metadata": {},
     "output_type": "display_data"
    },
    {
     "data": {
      "text/html": [
       "wandb version 0.16.6 is available!  To upgrade, please run:\n",
       " $ pip install wandb --upgrade"
      ],
      "text/plain": [
       "<IPython.core.display.HTML object>"
      ]
     },
     "metadata": {},
     "output_type": "display_data"
    },
    {
     "data": {
      "text/html": [
       "Tracking run with wandb version 0.16.0"
      ],
      "text/plain": [
       "<IPython.core.display.HTML object>"
      ]
     },
     "metadata": {},
     "output_type": "display_data"
    },
    {
     "data": {
      "text/html": [
       "Run data is saved locally in <code>d:\\HSE\\year-3\\HSE\\CourseProject\\wandb\\run-20240430_211410-5cmku6h3</code>"
      ],
      "text/plain": [
       "<IPython.core.display.HTML object>"
      ]
     },
     "metadata": {},
     "output_type": "display_data"
    },
    {
     "data": {
      "text/html": [
       "Syncing run <strong><a href='https://wandb.ai/hse-iad/CourseProject/runs/5cmku6h3' target=\"_blank\">16</a></strong> to <a href='https://wandb.ai/hse-iad/CourseProject' target=\"_blank\">Weights & Biases</a> (<a href='https://wandb.me/run' target=\"_blank\">docs</a>)<br/>"
      ],
      "text/plain": [
       "<IPython.core.display.HTML object>"
      ]
     },
     "metadata": {},
     "output_type": "display_data"
    },
    {
     "data": {
      "text/html": [
       " View project at <a href='https://wandb.ai/hse-iad/CourseProject' target=\"_blank\">https://wandb.ai/hse-iad/CourseProject</a>"
      ],
      "text/plain": [
       "<IPython.core.display.HTML object>"
      ]
     },
     "metadata": {},
     "output_type": "display_data"
    },
    {
     "data": {
      "text/html": [
       " View run at <a href='https://wandb.ai/hse-iad/CourseProject/runs/5cmku6h3' target=\"_blank\">https://wandb.ai/hse-iad/CourseProject/runs/5cmku6h3</a>"
      ],
      "text/plain": [
       "<IPython.core.display.HTML object>"
      ]
     },
     "metadata": {},
     "output_type": "display_data"
    },
    {
     "name": "stderr",
     "output_type": "stream",
     "text": [
      "100%|██████████| 75/75 [02:37<00:00,  2.10s/it]\n"
     ]
    },
    {
     "data": {
      "application/vnd.jupyter.widget-view+json": {
       "model_id": "3d7c3cb704d34c7aaed70c4740d21a0f",
       "version_major": 2,
       "version_minor": 0
      },
      "text/plain": [
       "VBox(children=(Label(value='0.001 MB of 0.001 MB uploaded\\r'), FloatProgress(value=1.0, max=1.0)))"
      ]
     },
     "metadata": {},
     "output_type": "display_data"
    },
    {
     "data": {
      "text/html": [
       "<style>\n",
       "    table.wandb td:nth-child(1) { padding: 0 10px; text-align: left ; width: auto;} td:nth-child(2) {text-align: left ; width: 100%}\n",
       "    .wandb-row { display: flex; flex-direction: row; flex-wrap: wrap; justify-content: flex-start; width: 100% }\n",
       "    .wandb-col { display: flex; flex-direction: column; flex-basis: 100%; flex: 1; padding: 10px; }\n",
       "    </style>\n",
       "<div class=\"wandb-row\"><div class=\"wandb-col\"><h3>Run history:</h3><br/><table class=\"wandb\"><tr><td>Learning rate</td><td>██████████████████████████▁▁▁▁▁▁▁▁▁▁▁▁▁▁</td></tr><tr><td>Train batch loss</td><td>██▇▅▅▄▄▄▃▄▃▃▃▃▂▃▃▃▂▂▂▃▃▂▂▂▂▂▂▁▂▁▁▁▁▁▂▁▁▁</td></tr><tr><td>Train loss</td><td>█▆▅▅▄▄▄▃▃▃▃▃▃▃▃▂▂▂▂▂▂▂▂▂▂▂▂▁▁▁▁▁▁▁▁▁▁▁▁▁</td></tr></table><br/></div><div class=\"wandb-col\"><h3>Run summary:</h3><br/><table class=\"wandb\"><tr><td>Learning rate</td><td>1e-05</td></tr><tr><td>Train batch loss</td><td>6741.79261</td></tr><tr><td>Train loss</td><td>6583.05903</td></tr></table><br/></div></div>"
      ],
      "text/plain": [
       "<IPython.core.display.HTML object>"
      ]
     },
     "metadata": {},
     "output_type": "display_data"
    },
    {
     "data": {
      "text/html": [
       " View run <strong style=\"color:#cdcd00\">16</strong> at: <a href='https://wandb.ai/hse-iad/CourseProject/runs/5cmku6h3' target=\"_blank\">https://wandb.ai/hse-iad/CourseProject/runs/5cmku6h3</a><br/>Synced 5 W&B file(s), 0 media file(s), 0 artifact file(s) and 0 other file(s)"
      ],
      "text/plain": [
       "<IPython.core.display.HTML object>"
      ]
     },
     "metadata": {},
     "output_type": "display_data"
    },
    {
     "data": {
      "text/html": [
       "Find logs at: <code>.\\wandb\\run-20240430_211410-5cmku6h3\\logs</code>"
      ],
      "text/plain": [
       "<IPython.core.display.HTML object>"
      ]
     },
     "metadata": {},
     "output_type": "display_data"
    },
    {
     "name": "stdout",
     "output_type": "stream",
     "text": [
      "Applying to 1046 samples with 16 features each\n",
      "Running stage 1\n"
     ]
    },
    {
     "data": {
      "application/vnd.jupyter.widget-view+json": {
       "model_id": "ee3c2d851eb84dc99fcec378a89e14fc",
       "version_major": 2,
       "version_minor": 0
      },
      "text/plain": [
       "  0%|          | 0/589 [00:00<?, ?it/s]"
      ]
     },
     "metadata": {},
     "output_type": "display_data"
    },
    {
     "name": "stdout",
     "output_type": "stream",
     "text": [
      "Running stage 2\n"
     ]
    },
    {
     "data": {
      "application/vnd.jupyter.widget-view+json": {
       "model_id": "b1303b91c61e46988596d95b4f434b1a",
       "version_major": 2,
       "version_minor": 0
      },
      "text/plain": [
       "  0%|          | 0/672 [00:00<?, ?it/s]"
      ]
     },
     "metadata": {},
     "output_type": "display_data"
    },
    {
     "data": {
      "text/html": [
       "wandb version 0.16.6 is available!  To upgrade, please run:\n",
       " $ pip install wandb --upgrade"
      ],
      "text/plain": [
       "<IPython.core.display.HTML object>"
      ]
     },
     "metadata": {},
     "output_type": "display_data"
    },
    {
     "data": {
      "text/html": [
       "Tracking run with wandb version 0.16.0"
      ],
      "text/plain": [
       "<IPython.core.display.HTML object>"
      ]
     },
     "metadata": {},
     "output_type": "display_data"
    },
    {
     "data": {
      "text/html": [
       "Run data is saved locally in <code>d:\\HSE\\year-3\\HSE\\CourseProject\\wandb\\run-20240430_212341-y3opsalq</code>"
      ],
      "text/plain": [
       "<IPython.core.display.HTML object>"
      ]
     },
     "metadata": {},
     "output_type": "display_data"
    },
    {
     "data": {
      "text/html": [
       "Syncing run <strong><a href='https://wandb.ai/hse-iad/CourseProject/runs/y3opsalq' target=\"_blank\">32</a></strong> to <a href='https://wandb.ai/hse-iad/CourseProject' target=\"_blank\">Weights & Biases</a> (<a href='https://wandb.me/run' target=\"_blank\">docs</a>)<br/>"
      ],
      "text/plain": [
       "<IPython.core.display.HTML object>"
      ]
     },
     "metadata": {},
     "output_type": "display_data"
    },
    {
     "data": {
      "text/html": [
       " View project at <a href='https://wandb.ai/hse-iad/CourseProject' target=\"_blank\">https://wandb.ai/hse-iad/CourseProject</a>"
      ],
      "text/plain": [
       "<IPython.core.display.HTML object>"
      ]
     },
     "metadata": {},
     "output_type": "display_data"
    },
    {
     "data": {
      "text/html": [
       " View run at <a href='https://wandb.ai/hse-iad/CourseProject/runs/y3opsalq' target=\"_blank\">https://wandb.ai/hse-iad/CourseProject/runs/y3opsalq</a>"
      ],
      "text/plain": [
       "<IPython.core.display.HTML object>"
      ]
     },
     "metadata": {},
     "output_type": "display_data"
    },
    {
     "name": "stderr",
     "output_type": "stream",
     "text": [
      "100%|██████████| 75/75 [02:38<00:00,  2.12s/it]\n"
     ]
    },
    {
     "data": {
      "application/vnd.jupyter.widget-view+json": {
       "model_id": "e08c6433fcb149af88405a6848f47db1",
       "version_major": 2,
       "version_minor": 0
      },
      "text/plain": [
       "VBox(children=(Label(value='0.001 MB of 0.001 MB uploaded\\r'), FloatProgress(value=1.0, max=1.0)))"
      ]
     },
     "metadata": {},
     "output_type": "display_data"
    },
    {
     "data": {
      "text/html": [
       "<style>\n",
       "    table.wandb td:nth-child(1) { padding: 0 10px; text-align: left ; width: auto;} td:nth-child(2) {text-align: left ; width: 100%}\n",
       "    .wandb-row { display: flex; flex-direction: row; flex-wrap: wrap; justify-content: flex-start; width: 100% }\n",
       "    .wandb-col { display: flex; flex-direction: column; flex-basis: 100%; flex: 1; padding: 10px; }\n",
       "    </style>\n",
       "<div class=\"wandb-row\"><div class=\"wandb-col\"><h3>Run history:</h3><br/><table class=\"wandb\"><tr><td>Learning rate</td><td>██████████████████████████▁▁▁▁▁▁▁▁▁▁▁▁▁▁</td></tr><tr><td>Train batch loss</td><td>█▅▅▄▄▄▃▃▃▃▃▂▂▂▂▂▂▂▂▂▂▂▂▂▂▂▂▂▁▁▁▁▁▁▁▁▁▁▁▁</td></tr><tr><td>Train loss</td><td>█▆▅▅▄▄▃▃▃▃▃▂▂▂▂▂▂▂▂▂▂▂▂▂▂▁▁▁▁▁▁▁▁▁▁▁▁▁▁▁</td></tr></table><br/></div><div class=\"wandb-col\"><h3>Run summary:</h3><br/><table class=\"wandb\"><tr><td>Learning rate</td><td>1e-05</td></tr><tr><td>Train batch loss</td><td>3748.69638</td></tr><tr><td>Train loss</td><td>3282.05579</td></tr></table><br/></div></div>"
      ],
      "text/plain": [
       "<IPython.core.display.HTML object>"
      ]
     },
     "metadata": {},
     "output_type": "display_data"
    },
    {
     "data": {
      "text/html": [
       " View run <strong style=\"color:#cdcd00\">32</strong> at: <a href='https://wandb.ai/hse-iad/CourseProject/runs/y3opsalq' target=\"_blank\">https://wandb.ai/hse-iad/CourseProject/runs/y3opsalq</a><br/>Synced 5 W&B file(s), 0 media file(s), 0 artifact file(s) and 0 other file(s)"
      ],
      "text/plain": [
       "<IPython.core.display.HTML object>"
      ]
     },
     "metadata": {},
     "output_type": "display_data"
    },
    {
     "data": {
      "text/html": [
       "Find logs at: <code>.\\wandb\\run-20240430_212341-y3opsalq\\logs</code>"
      ],
      "text/plain": [
       "<IPython.core.display.HTML object>"
      ]
     },
     "metadata": {},
     "output_type": "display_data"
    },
    {
     "name": "stdout",
     "output_type": "stream",
     "text": [
      "Applying to 1046 samples with 32 features each\n",
      "Running stage 1\n"
     ]
    },
    {
     "data": {
      "application/vnd.jupyter.widget-view+json": {
       "model_id": "10681702415343708d4fd290f4233a53",
       "version_major": 2,
       "version_minor": 0
      },
      "text/plain": [
       "  0%|          | 0/589 [00:00<?, ?it/s]"
      ]
     },
     "metadata": {},
     "output_type": "display_data"
    },
    {
     "name": "stdout",
     "output_type": "stream",
     "text": [
      "Running stage 2\n"
     ]
    },
    {
     "data": {
      "application/vnd.jupyter.widget-view+json": {
       "model_id": "1085fddb333d460ba919c34e4d6d1723",
       "version_major": 2,
       "version_minor": 0
      },
      "text/plain": [
       "  0%|          | 0/672 [00:00<?, ?it/s]"
      ]
     },
     "metadata": {},
     "output_type": "display_data"
    },
    {
     "data": {
      "text/html": [
       "wandb version 0.16.6 is available!  To upgrade, please run:\n",
       " $ pip install wandb --upgrade"
      ],
      "text/plain": [
       "<IPython.core.display.HTML object>"
      ]
     },
     "metadata": {},
     "output_type": "display_data"
    },
    {
     "data": {
      "text/html": [
       "Tracking run with wandb version 0.16.0"
      ],
      "text/plain": [
       "<IPython.core.display.HTML object>"
      ]
     },
     "metadata": {},
     "output_type": "display_data"
    },
    {
     "data": {
      "text/html": [
       "Run data is saved locally in <code>d:\\HSE\\year-3\\HSE\\CourseProject\\wandb\\run-20240430_213341-4bc0uhfr</code>"
      ],
      "text/plain": [
       "<IPython.core.display.HTML object>"
      ]
     },
     "metadata": {},
     "output_type": "display_data"
    },
    {
     "data": {
      "text/html": [
       "Syncing run <strong><a href='https://wandb.ai/hse-iad/CourseProject/runs/4bc0uhfr' target=\"_blank\">48</a></strong> to <a href='https://wandb.ai/hse-iad/CourseProject' target=\"_blank\">Weights & Biases</a> (<a href='https://wandb.me/run' target=\"_blank\">docs</a>)<br/>"
      ],
      "text/plain": [
       "<IPython.core.display.HTML object>"
      ]
     },
     "metadata": {},
     "output_type": "display_data"
    },
    {
     "data": {
      "text/html": [
       " View project at <a href='https://wandb.ai/hse-iad/CourseProject' target=\"_blank\">https://wandb.ai/hse-iad/CourseProject</a>"
      ],
      "text/plain": [
       "<IPython.core.display.HTML object>"
      ]
     },
     "metadata": {},
     "output_type": "display_data"
    },
    {
     "data": {
      "text/html": [
       " View run at <a href='https://wandb.ai/hse-iad/CourseProject/runs/4bc0uhfr' target=\"_blank\">https://wandb.ai/hse-iad/CourseProject/runs/4bc0uhfr</a>"
      ],
      "text/plain": [
       "<IPython.core.display.HTML object>"
      ]
     },
     "metadata": {},
     "output_type": "display_data"
    },
    {
     "name": "stderr",
     "output_type": "stream",
     "text": [
      "100%|██████████| 75/75 [02:36<00:00,  2.09s/it]\n"
     ]
    },
    {
     "data": {
      "application/vnd.jupyter.widget-view+json": {
       "model_id": "ae77c106fd474dfbb02760a3909ac4eb",
       "version_major": 2,
       "version_minor": 0
      },
      "text/plain": [
       "VBox(children=(Label(value='0.001 MB of 0.001 MB uploaded\\r'), FloatProgress(value=1.0, max=1.0)))"
      ]
     },
     "metadata": {},
     "output_type": "display_data"
    },
    {
     "data": {
      "text/html": [
       "<style>\n",
       "    table.wandb td:nth-child(1) { padding: 0 10px; text-align: left ; width: auto;} td:nth-child(2) {text-align: left ; width: 100%}\n",
       "    .wandb-row { display: flex; flex-direction: row; flex-wrap: wrap; justify-content: flex-start; width: 100% }\n",
       "    .wandb-col { display: flex; flex-direction: column; flex-basis: 100%; flex: 1; padding: 10px; }\n",
       "    </style>\n",
       "<div class=\"wandb-row\"><div class=\"wandb-col\"><h3>Run history:</h3><br/><table class=\"wandb\"><tr><td>Learning rate</td><td>██████████████████████████▁▁▁▁▁▁▁▁▁▁▁▁▁▁</td></tr><tr><td>Train batch loss</td><td>█▆▅▅▄▄▃▃▃▂▂▂▂▂▂▂▂▂▂▂▂▂▁▁▁▁▁▁▁▁▁▁▁▁▁▁▁▁▁▁</td></tr><tr><td>Train loss</td><td>█▇▅▅▄▃▃▃▃▂▂▂▂▂▂▂▂▂▂▁▁▁▁▁▁▁▁▁▁▁▁▁▁▁▁▁▁▁▁▁</td></tr></table><br/></div><div class=\"wandb-col\"><h3>Run summary:</h3><br/><table class=\"wandb\"><tr><td>Learning rate</td><td>1e-05</td></tr><tr><td>Train batch loss</td><td>2021.4201</td></tr><tr><td>Train loss</td><td>1805.75021</td></tr></table><br/></div></div>"
      ],
      "text/plain": [
       "<IPython.core.display.HTML object>"
      ]
     },
     "metadata": {},
     "output_type": "display_data"
    },
    {
     "data": {
      "text/html": [
       " View run <strong style=\"color:#cdcd00\">48</strong> at: <a href='https://wandb.ai/hse-iad/CourseProject/runs/4bc0uhfr' target=\"_blank\">https://wandb.ai/hse-iad/CourseProject/runs/4bc0uhfr</a><br/>Synced 5 W&B file(s), 0 media file(s), 0 artifact file(s) and 0 other file(s)"
      ],
      "text/plain": [
       "<IPython.core.display.HTML object>"
      ]
     },
     "metadata": {},
     "output_type": "display_data"
    },
    {
     "data": {
      "text/html": [
       "Find logs at: <code>.\\wandb\\run-20240430_213341-4bc0uhfr\\logs</code>"
      ],
      "text/plain": [
       "<IPython.core.display.HTML object>"
      ]
     },
     "metadata": {},
     "output_type": "display_data"
    },
    {
     "name": "stdout",
     "output_type": "stream",
     "text": [
      "Applying to 1046 samples with 48 features each\n",
      "Running stage 1\n"
     ]
    },
    {
     "data": {
      "application/vnd.jupyter.widget-view+json": {
       "model_id": "4e7d945237c8437085e365bfe1e23998",
       "version_major": 2,
       "version_minor": 0
      },
      "text/plain": [
       "  0%|          | 0/589 [00:00<?, ?it/s]"
      ]
     },
     "metadata": {},
     "output_type": "display_data"
    },
    {
     "name": "stdout",
     "output_type": "stream",
     "text": [
      "Running stage 2\n"
     ]
    },
    {
     "data": {
      "application/vnd.jupyter.widget-view+json": {
       "model_id": "0bdee76e545e4704be62edb0920e8357",
       "version_major": 2,
       "version_minor": 0
      },
      "text/plain": [
       "  0%|          | 0/672 [00:00<?, ?it/s]"
      ]
     },
     "metadata": {},
     "output_type": "display_data"
    },
    {
     "data": {
      "application/vnd.jupyter.widget-view+json": {
       "model_id": "698884384b1747dcad486e134772db21",
       "version_major": 2,
       "version_minor": 0
      },
      "text/plain": [
       "VBox(children=(Label(value='Waiting for wandb.init()...\\r'), FloatProgress(value=0.011288888888884685, max=1.0…"
      ]
     },
     "metadata": {},
     "output_type": "display_data"
    },
    {
     "data": {
      "text/html": [
       "wandb version 0.16.6 is available!  To upgrade, please run:\n",
       " $ pip install wandb --upgrade"
      ],
      "text/plain": [
       "<IPython.core.display.HTML object>"
      ]
     },
     "metadata": {},
     "output_type": "display_data"
    },
    {
     "data": {
      "text/html": [
       "Tracking run with wandb version 0.16.0"
      ],
      "text/plain": [
       "<IPython.core.display.HTML object>"
      ]
     },
     "metadata": {},
     "output_type": "display_data"
    },
    {
     "data": {
      "text/html": [
       "Run data is saved locally in <code>d:\\HSE\\year-3\\HSE\\CourseProject\\wandb\\run-20240430_214402-qp7j0xpc</code>"
      ],
      "text/plain": [
       "<IPython.core.display.HTML object>"
      ]
     },
     "metadata": {},
     "output_type": "display_data"
    },
    {
     "data": {
      "text/html": [
       "Syncing run <strong><a href='https://wandb.ai/hse-iad/CourseProject/runs/qp7j0xpc' target=\"_blank\">64</a></strong> to <a href='https://wandb.ai/hse-iad/CourseProject' target=\"_blank\">Weights & Biases</a> (<a href='https://wandb.me/run' target=\"_blank\">docs</a>)<br/>"
      ],
      "text/plain": [
       "<IPython.core.display.HTML object>"
      ]
     },
     "metadata": {},
     "output_type": "display_data"
    },
    {
     "data": {
      "text/html": [
       " View project at <a href='https://wandb.ai/hse-iad/CourseProject' target=\"_blank\">https://wandb.ai/hse-iad/CourseProject</a>"
      ],
      "text/plain": [
       "<IPython.core.display.HTML object>"
      ]
     },
     "metadata": {},
     "output_type": "display_data"
    },
    {
     "data": {
      "text/html": [
       " View run at <a href='https://wandb.ai/hse-iad/CourseProject/runs/qp7j0xpc' target=\"_blank\">https://wandb.ai/hse-iad/CourseProject/runs/qp7j0xpc</a>"
      ],
      "text/plain": [
       "<IPython.core.display.HTML object>"
      ]
     },
     "metadata": {},
     "output_type": "display_data"
    },
    {
     "name": "stderr",
     "output_type": "stream",
     "text": [
      "100%|██████████| 75/75 [02:36<00:00,  2.08s/it]\n"
     ]
    },
    {
     "data": {
      "application/vnd.jupyter.widget-view+json": {
       "model_id": "cd38919b513141c2a653aa195024656b",
       "version_major": 2,
       "version_minor": 0
      },
      "text/plain": [
       "VBox(children=(Label(value='0.001 MB of 0.048 MB uploaded\\r'), FloatProgress(value=0.027302939244990148, max=1…"
      ]
     },
     "metadata": {},
     "output_type": "display_data"
    },
    {
     "data": {
      "text/html": [
       "<style>\n",
       "    table.wandb td:nth-child(1) { padding: 0 10px; text-align: left ; width: auto;} td:nth-child(2) {text-align: left ; width: 100%}\n",
       "    .wandb-row { display: flex; flex-direction: row; flex-wrap: wrap; justify-content: flex-start; width: 100% }\n",
       "    .wandb-col { display: flex; flex-direction: column; flex-basis: 100%; flex: 1; padding: 10px; }\n",
       "    </style>\n",
       "<div class=\"wandb-row\"><div class=\"wandb-col\"><h3>Run history:</h3><br/><table class=\"wandb\"><tr><td>Learning rate</td><td>██████████████████████████▁▁▁▁▁▁▁▁▁▁▁▁▁▁</td></tr><tr><td>Train batch loss</td><td>██▇▆▅▄▄▃▃▃▂▂▂▂▂▂▂▂▂▁▂▂▁▁▁▁▁▁▁▁▁▁▁▁▁▁▁▁▁▁</td></tr><tr><td>Train loss</td><td>█▇▆▅▄▄▃▃▃▂▂▂▂▂▂▂▂▂▁▁▁▁▁▁▁▁▁▁▁▁▁▁▁▁▁▁▁▁▁▁</td></tr></table><br/></div><div class=\"wandb-col\"><h3>Run summary:</h3><br/><table class=\"wandb\"><tr><td>Learning rate</td><td>1e-05</td></tr><tr><td>Train batch loss</td><td>1634.60085</td></tr><tr><td>Train loss</td><td>1276.50856</td></tr></table><br/></div></div>"
      ],
      "text/plain": [
       "<IPython.core.display.HTML object>"
      ]
     },
     "metadata": {},
     "output_type": "display_data"
    },
    {
     "data": {
      "text/html": [
       " View run <strong style=\"color:#cdcd00\">64</strong> at: <a href='https://wandb.ai/hse-iad/CourseProject/runs/qp7j0xpc' target=\"_blank\">https://wandb.ai/hse-iad/CourseProject/runs/qp7j0xpc</a><br/>Synced 5 W&B file(s), 0 media file(s), 0 artifact file(s) and 0 other file(s)"
      ],
      "text/plain": [
       "<IPython.core.display.HTML object>"
      ]
     },
     "metadata": {},
     "output_type": "display_data"
    },
    {
     "data": {
      "text/html": [
       "Find logs at: <code>.\\wandb\\run-20240430_214402-qp7j0xpc\\logs</code>"
      ],
      "text/plain": [
       "<IPython.core.display.HTML object>"
      ]
     },
     "metadata": {},
     "output_type": "display_data"
    },
    {
     "name": "stdout",
     "output_type": "stream",
     "text": [
      "Applying to 1046 samples with 64 features each\n",
      "Running stage 1\n"
     ]
    },
    {
     "data": {
      "application/vnd.jupyter.widget-view+json": {
       "model_id": "4110f79780654ce784ee1cc2fa8fe6a8",
       "version_major": 2,
       "version_minor": 0
      },
      "text/plain": [
       "  0%|          | 0/589 [00:00<?, ?it/s]"
      ]
     },
     "metadata": {},
     "output_type": "display_data"
    },
    {
     "name": "stdout",
     "output_type": "stream",
     "text": [
      "Running stage 2\n"
     ]
    },
    {
     "data": {
      "application/vnd.jupyter.widget-view+json": {
       "model_id": "d464ef15d2b746a4b1a0f22de6a950b6",
       "version_major": 2,
       "version_minor": 0
      },
      "text/plain": [
       "  0%|          | 0/672 [00:00<?, ?it/s]"
      ]
     },
     "metadata": {},
     "output_type": "display_data"
    },
    {
     "ename": "KeyError",
     "evalue": "\"['Algorithm'] not in index\"",
     "output_type": "error",
     "traceback": [
      "\u001b[1;31m---------------------------------------------------------------------------\u001b[0m",
      "\u001b[1;31mKeyError\u001b[0m                                  Traceback (most recent call last)",
      "Cell \u001b[1;32mIn[12], line 29\u001b[0m\n\u001b[0;32m     26\u001b[0m     best_result[\u001b[38;5;124m\"\u001b[39m\u001b[38;5;124mKey\u001b[39m\u001b[38;5;124m\"\u001b[39m] \u001b[38;5;241m=\u001b[39m \u001b[38;5;124m'\u001b[39m\u001b[38;5;124mFMI\u001b[39m\u001b[38;5;124m'\u001b[39m\n\u001b[0;32m     27\u001b[0m     stats\u001b[38;5;241m.\u001b[39mappend(best_result)\n\u001b[1;32m---> 29\u001b[0m df \u001b[38;5;241m=\u001b[39m \u001b[43mpandas\u001b[49m\u001b[38;5;241;43m.\u001b[39;49m\u001b[43mDataFrame\u001b[49m\u001b[43m(\u001b[49m\u001b[43mstats\u001b[49m\u001b[43m)\u001b[49m\u001b[43m[\u001b[49m\u001b[43m[\u001b[49m\u001b[38;5;124;43m\"\u001b[39;49m\u001b[38;5;124;43mAlgorithm\u001b[39;49m\u001b[38;5;124;43m\"\u001b[39;49m\u001b[43m,\u001b[49m\u001b[43m \u001b[49m\u001b[38;5;124;43m\"\u001b[39;49m\u001b[38;5;124;43mKey\u001b[39;49m\u001b[38;5;124;43m\"\u001b[39;49m\u001b[43m,\u001b[49m\u001b[43m \u001b[49m\u001b[38;5;124;43m\"\u001b[39;49m\u001b[38;5;124;43mWard_dist\u001b[39;49m\u001b[38;5;124;43m\"\u001b[39;49m\u001b[43m,\u001b[49m\u001b[43m \u001b[49m\u001b[38;5;124;43m\"\u001b[39;49m\u001b[38;5;124;43mCen_dist\u001b[39;49m\u001b[38;5;124;43m\"\u001b[39;49m\u001b[43m,\u001b[49m\u001b[43m \u001b[49m\u001b[38;5;124;43m\"\u001b[39;49m\u001b[38;5;124;43mAvg-Silh\u001b[39;49m\u001b[38;5;124;43m\"\u001b[39;49m\u001b[43m,\u001b[49m\u001b[43m \u001b[49m\u001b[38;5;124;43m\"\u001b[39;49m\u001b[38;5;124;43mAvg-Cal-Har\u001b[39;49m\u001b[38;5;124;43m\"\u001b[39;49m\u001b[43m,\u001b[49m\u001b[43m \u001b[49m\u001b[38;5;124;43m\"\u001b[39;49m\u001b[38;5;124;43mAvg-Dav-Bold\u001b[39;49m\u001b[38;5;124;43m\"\u001b[39;49m\u001b[43m,\u001b[49m\u001b[43m \u001b[49m\u001b[38;5;124;43m\"\u001b[39;49m\u001b[38;5;124;43mAMI\u001b[39;49m\u001b[38;5;124;43m\"\u001b[39;49m\u001b[43m,\u001b[49m\u001b[43m \u001b[49m\u001b[38;5;124;43m\"\u001b[39;49m\u001b[38;5;124;43mARI\u001b[39;49m\u001b[38;5;124;43m\"\u001b[39;49m\u001b[43m,\u001b[49m\u001b[43m \u001b[49m\u001b[38;5;124;43m\"\u001b[39;49m\u001b[38;5;124;43mFMI\u001b[39;49m\u001b[38;5;124;43m\"\u001b[39;49m\u001b[43m]\u001b[49m\u001b[43m]\u001b[49m\n\u001b[0;32m     30\u001b[0m df\n",
      "File \u001b[1;32md:\\Programs\\Programming\\Python\\lib\\site-packages\\pandas\\core\\frame.py:3899\u001b[0m, in \u001b[0;36mDataFrame.__getitem__\u001b[1;34m(self, key)\u001b[0m\n\u001b[0;32m   3897\u001b[0m     \u001b[38;5;28;01mif\u001b[39;00m is_iterator(key):\n\u001b[0;32m   3898\u001b[0m         key \u001b[38;5;241m=\u001b[39m \u001b[38;5;28mlist\u001b[39m(key)\n\u001b[1;32m-> 3899\u001b[0m     indexer \u001b[38;5;241m=\u001b[39m \u001b[38;5;28;43mself\u001b[39;49m\u001b[38;5;241;43m.\u001b[39;49m\u001b[43mcolumns\u001b[49m\u001b[38;5;241;43m.\u001b[39;49m\u001b[43m_get_indexer_strict\u001b[49m\u001b[43m(\u001b[49m\u001b[43mkey\u001b[49m\u001b[43m,\u001b[49m\u001b[43m \u001b[49m\u001b[38;5;124;43m\"\u001b[39;49m\u001b[38;5;124;43mcolumns\u001b[39;49m\u001b[38;5;124;43m\"\u001b[39;49m\u001b[43m)\u001b[49m[\u001b[38;5;241m1\u001b[39m]\n\u001b[0;32m   3901\u001b[0m \u001b[38;5;66;03m# take() does not accept boolean indexers\u001b[39;00m\n\u001b[0;32m   3902\u001b[0m \u001b[38;5;28;01mif\u001b[39;00m \u001b[38;5;28mgetattr\u001b[39m(indexer, \u001b[38;5;124m\"\u001b[39m\u001b[38;5;124mdtype\u001b[39m\u001b[38;5;124m\"\u001b[39m, \u001b[38;5;28;01mNone\u001b[39;00m) \u001b[38;5;241m==\u001b[39m \u001b[38;5;28mbool\u001b[39m:\n",
      "File \u001b[1;32md:\\Programs\\Programming\\Python\\lib\\site-packages\\pandas\\core\\indexes\\base.py:6114\u001b[0m, in \u001b[0;36mIndex._get_indexer_strict\u001b[1;34m(self, key, axis_name)\u001b[0m\n\u001b[0;32m   6111\u001b[0m \u001b[38;5;28;01melse\u001b[39;00m:\n\u001b[0;32m   6112\u001b[0m     keyarr, indexer, new_indexer \u001b[38;5;241m=\u001b[39m \u001b[38;5;28mself\u001b[39m\u001b[38;5;241m.\u001b[39m_reindex_non_unique(keyarr)\n\u001b[1;32m-> 6114\u001b[0m \u001b[38;5;28;43mself\u001b[39;49m\u001b[38;5;241;43m.\u001b[39;49m\u001b[43m_raise_if_missing\u001b[49m\u001b[43m(\u001b[49m\u001b[43mkeyarr\u001b[49m\u001b[43m,\u001b[49m\u001b[43m \u001b[49m\u001b[43mindexer\u001b[49m\u001b[43m,\u001b[49m\u001b[43m \u001b[49m\u001b[43maxis_name\u001b[49m\u001b[43m)\u001b[49m\n\u001b[0;32m   6116\u001b[0m keyarr \u001b[38;5;241m=\u001b[39m \u001b[38;5;28mself\u001b[39m\u001b[38;5;241m.\u001b[39mtake(indexer)\n\u001b[0;32m   6117\u001b[0m \u001b[38;5;28;01mif\u001b[39;00m \u001b[38;5;28misinstance\u001b[39m(key, Index):\n\u001b[0;32m   6118\u001b[0m     \u001b[38;5;66;03m# GH 42790 - Preserve name from an Index\u001b[39;00m\n",
      "File \u001b[1;32md:\\Programs\\Programming\\Python\\lib\\site-packages\\pandas\\core\\indexes\\base.py:6178\u001b[0m, in \u001b[0;36mIndex._raise_if_missing\u001b[1;34m(self, key, indexer, axis_name)\u001b[0m\n\u001b[0;32m   6175\u001b[0m     \u001b[38;5;28;01mraise\u001b[39;00m \u001b[38;5;167;01mKeyError\u001b[39;00m(\u001b[38;5;124mf\u001b[39m\u001b[38;5;124m\"\u001b[39m\u001b[38;5;124mNone of [\u001b[39m\u001b[38;5;132;01m{\u001b[39;00mkey\u001b[38;5;132;01m}\u001b[39;00m\u001b[38;5;124m] are in the [\u001b[39m\u001b[38;5;132;01m{\u001b[39;00maxis_name\u001b[38;5;132;01m}\u001b[39;00m\u001b[38;5;124m]\u001b[39m\u001b[38;5;124m\"\u001b[39m)\n\u001b[0;32m   6177\u001b[0m not_found \u001b[38;5;241m=\u001b[39m \u001b[38;5;28mlist\u001b[39m(ensure_index(key)[missing_mask\u001b[38;5;241m.\u001b[39mnonzero()[\u001b[38;5;241m0\u001b[39m]]\u001b[38;5;241m.\u001b[39munique())\n\u001b[1;32m-> 6178\u001b[0m \u001b[38;5;28;01mraise\u001b[39;00m \u001b[38;5;167;01mKeyError\u001b[39;00m(\u001b[38;5;124mf\u001b[39m\u001b[38;5;124m\"\u001b[39m\u001b[38;5;132;01m{\u001b[39;00mnot_found\u001b[38;5;132;01m}\u001b[39;00m\u001b[38;5;124m not in index\u001b[39m\u001b[38;5;124m\"\u001b[39m)\n",
      "\u001b[1;31mKeyError\u001b[0m: \"['Algorithm'] not in index\""
     ]
    }
   ],
   "source": [
    "stats = [ ]\n",
    "for n_dim in [ 8, 16, 32, 48, 64 ]:\n",
    "    set_random_seed()\n",
    "    simple_autoencoder = train(\n",
    "        BaseAutoEncoder(n_dim, SimpleEncoder, SimpleDecoder),\n",
    "        name = str(n_dim),\n",
    "        n_epochs = 75\n",
    "    )\n",
    "\n",
    "    with torch.no_grad():\n",
    "        features_reduced = simple_autoencoder.encoder.eval().to(device)(torch_features.to(device)).cpu().detach().numpy()\n",
    "    result, df_st_edges = SDA.SDA(scale = False).apply(features_reduced)\n",
    "\n",
    "    metrics = [ ]\n",
    "    for row in result['St_edges']:\n",
    "        metrics.append(SDA.clustquality.cluster_metrics_ground(edges_true, row))\n",
    "    result = pandas.concat([ result, pandas.DataFrame(metrics) ], axis = 1)\n",
    "    \n",
    "    best_result = SDA.analytics.best_result(result, key = 'Avg-Silh', n_stages = 9)\n",
    "    best_result[\"n_dim\"] = str(n_dim)\n",
    "    best_result[\"Key\"] = 'Avg-Silh'\n",
    "    stats.append(best_result)\n",
    "    \n",
    "    best_result = SDA.analytics.best_result(result, key = 'FMI', n_stages = 9)\n",
    "    best_result[\"n_dim\"] = str(n_dim)\n",
    "    best_result[\"Key\"] = 'FMI'\n",
    "    stats.append(best_result)\n",
    "\n",
    "df = pandas.DataFrame(stats)[[\"n_dim\", \"Key\", \"Ward_dist\", \"Cen_dist\", \"Avg-Silh\", \"Avg-Cal-Har\", \"Avg-Dav-Bold\", \"AMI\", \"ARI\", \"FMI\"]]\n",
    "df"
   ]
  },
  {
   "cell_type": "code",
   "execution_count": 16,
   "metadata": {},
   "outputs": [
    {
     "data": {
      "text/html": [
       "<div>\n",
       "<style scoped>\n",
       "    .dataframe tbody tr th:only-of-type {\n",
       "        vertical-align: middle;\n",
       "    }\n",
       "\n",
       "    .dataframe tbody tr th {\n",
       "        vertical-align: top;\n",
       "    }\n",
       "\n",
       "    .dataframe thead th {\n",
       "        text-align: right;\n",
       "    }\n",
       "</style>\n",
       "<table border=\"1\" class=\"dataframe\">\n",
       "  <thead>\n",
       "    <tr style=\"text-align: right;\">\n",
       "      <th></th>\n",
       "      <th>index</th>\n",
       "      <th>n_dim</th>\n",
       "      <th>Key</th>\n",
       "      <th>Ward_dist</th>\n",
       "      <th>Cen_dist</th>\n",
       "      <th>Avg-Silh</th>\n",
       "      <th>Avg-Cal-Har</th>\n",
       "      <th>Avg-Dav-Bold</th>\n",
       "      <th>AMI</th>\n",
       "      <th>ARI</th>\n",
       "      <th>FMI</th>\n",
       "    </tr>\n",
       "  </thead>\n",
       "  <tbody>\n",
       "    <tr>\n",
       "      <th>0</th>\n",
       "      <td>0</td>\n",
       "      <td>8</td>\n",
       "      <td>Avg-Silh</td>\n",
       "      <td>63204.979657</td>\n",
       "      <td>39.912867</td>\n",
       "      <td>0.159279</td>\n",
       "      <td>23.303689</td>\n",
       "      <td>2.545155</td>\n",
       "      <td>0.733872</td>\n",
       "      <td>0.550863</td>\n",
       "      <td>0.627984</td>\n",
       "    </tr>\n",
       "    <tr>\n",
       "      <th>1</th>\n",
       "      <td>1</td>\n",
       "      <td>8</td>\n",
       "      <td>FMI</td>\n",
       "      <td>55208.198538</td>\n",
       "      <td>30.014670</td>\n",
       "      <td>0.086165</td>\n",
       "      <td>18.930499</td>\n",
       "      <td>3.251480</td>\n",
       "      <td>0.842444</td>\n",
       "      <td>0.715677</td>\n",
       "      <td>0.755843</td>\n",
       "    </tr>\n",
       "    <tr>\n",
       "      <th>2</th>\n",
       "      <td>2</td>\n",
       "      <td>16</td>\n",
       "      <td>Avg-Silh</td>\n",
       "      <td>40448.214750</td>\n",
       "      <td>33.997199</td>\n",
       "      <td>0.079565</td>\n",
       "      <td>12.108401</td>\n",
       "      <td>3.542746</td>\n",
       "      <td>0.797541</td>\n",
       "      <td>0.691501</td>\n",
       "      <td>0.739387</td>\n",
       "    </tr>\n",
       "    <tr>\n",
       "      <th>3</th>\n",
       "      <td>3</td>\n",
       "      <td>16</td>\n",
       "      <td>FMI</td>\n",
       "      <td>37935.596402</td>\n",
       "      <td>25.406092</td>\n",
       "      <td>0.033006</td>\n",
       "      <td>11.470425</td>\n",
       "      <td>4.185454</td>\n",
       "      <td>0.846492</td>\n",
       "      <td>0.749003</td>\n",
       "      <td>0.784430</td>\n",
       "    </tr>\n",
       "    <tr>\n",
       "      <th>4</th>\n",
       "      <td>4</td>\n",
       "      <td>32</td>\n",
       "      <td>Avg-Silh</td>\n",
       "      <td>34175.746229</td>\n",
       "      <td>26.042359</td>\n",
       "      <td>0.048314</td>\n",
       "      <td>9.345685</td>\n",
       "      <td>4.790176</td>\n",
       "      <td>0.748241</td>\n",
       "      <td>0.572692</td>\n",
       "      <td>0.633779</td>\n",
       "    </tr>\n",
       "    <tr>\n",
       "      <th>5</th>\n",
       "      <td>5</td>\n",
       "      <td>32</td>\n",
       "      <td>FMI</td>\n",
       "      <td>35596.988934</td>\n",
       "      <td>26.827121</td>\n",
       "      <td>0.040357</td>\n",
       "      <td>9.741752</td>\n",
       "      <td>4.414480</td>\n",
       "      <td>0.833275</td>\n",
       "      <td>0.741485</td>\n",
       "      <td>0.778264</td>\n",
       "    </tr>\n",
       "    <tr>\n",
       "      <th>6</th>\n",
       "      <td>6</td>\n",
       "      <td>48</td>\n",
       "      <td>Avg-Silh</td>\n",
       "      <td>32697.717407</td>\n",
       "      <td>23.863017</td>\n",
       "      <td>0.036317</td>\n",
       "      <td>9.397524</td>\n",
       "      <td>5.131591</td>\n",
       "      <td>0.819781</td>\n",
       "      <td>0.666313</td>\n",
       "      <td>0.713190</td>\n",
       "    </tr>\n",
       "    <tr>\n",
       "      <th>7</th>\n",
       "      <td>7</td>\n",
       "      <td>48</td>\n",
       "      <td>FMI</td>\n",
       "      <td>31293.873774</td>\n",
       "      <td>22.811787</td>\n",
       "      <td>0.029590</td>\n",
       "      <td>9.000188</td>\n",
       "      <td>5.175510</td>\n",
       "      <td>0.838254</td>\n",
       "      <td>0.705386</td>\n",
       "      <td>0.746930</td>\n",
       "    </tr>\n",
       "    <tr>\n",
       "      <th>8</th>\n",
       "      <td>8</td>\n",
       "      <td>64</td>\n",
       "      <td>Avg-Silh</td>\n",
       "      <td>31228.548982</td>\n",
       "      <td>22.546235</td>\n",
       "      <td>0.030894</td>\n",
       "      <td>8.765175</td>\n",
       "      <td>5.424188</td>\n",
       "      <td>0.809763</td>\n",
       "      <td>0.631904</td>\n",
       "      <td>0.683191</td>\n",
       "    </tr>\n",
       "    <tr>\n",
       "      <th>9</th>\n",
       "      <td>9</td>\n",
       "      <td>64</td>\n",
       "      <td>FMI</td>\n",
       "      <td>31442.310111</td>\n",
       "      <td>22.765921</td>\n",
       "      <td>0.026223</td>\n",
       "      <td>8.815357</td>\n",
       "      <td>5.305457</td>\n",
       "      <td>0.852114</td>\n",
       "      <td>0.742823</td>\n",
       "      <td>0.779325</td>\n",
       "    </tr>\n",
       "  </tbody>\n",
       "</table>\n",
       "</div>"
      ],
      "text/plain": [
       "   index n_dim       Key     Ward_dist   Cen_dist  Avg-Silh  Avg-Cal-Har  \\\n",
       "0      0     8  Avg-Silh  63204.979657  39.912867  0.159279    23.303689   \n",
       "1      1     8       FMI  55208.198538  30.014670  0.086165    18.930499   \n",
       "2      2    16  Avg-Silh  40448.214750  33.997199  0.079565    12.108401   \n",
       "3      3    16       FMI  37935.596402  25.406092  0.033006    11.470425   \n",
       "4      4    32  Avg-Silh  34175.746229  26.042359  0.048314     9.345685   \n",
       "5      5    32       FMI  35596.988934  26.827121  0.040357     9.741752   \n",
       "6      6    48  Avg-Silh  32697.717407  23.863017  0.036317     9.397524   \n",
       "7      7    48       FMI  31293.873774  22.811787  0.029590     9.000188   \n",
       "8      8    64  Avg-Silh  31228.548982  22.546235  0.030894     8.765175   \n",
       "9      9    64       FMI  31442.310111  22.765921  0.026223     8.815357   \n",
       "\n",
       "   Avg-Dav-Bold       AMI       ARI       FMI  \n",
       "0      2.545155  0.733872  0.550863  0.627984  \n",
       "1      3.251480  0.842444  0.715677  0.755843  \n",
       "2      3.542746  0.797541  0.691501  0.739387  \n",
       "3      4.185454  0.846492  0.749003  0.784430  \n",
       "4      4.790176  0.748241  0.572692  0.633779  \n",
       "5      4.414480  0.833275  0.741485  0.778264  \n",
       "6      5.131591  0.819781  0.666313  0.713190  \n",
       "7      5.175510  0.838254  0.705386  0.746930  \n",
       "8      5.424188  0.809763  0.631904  0.683191  \n",
       "9      5.305457  0.852114  0.742823  0.779325  "
      ]
     },
     "execution_count": 16,
     "metadata": {},
     "output_type": "execute_result"
    }
   ],
   "source": [
    "df = pandas.DataFrame(stats)[[\"n_dim\", \"Key\", \"Ward_dist\", \"Cen_dist\", \"Avg-Silh\", \"Avg-Cal-Har\", \"Avg-Dav-Bold\", \"AMI\", \"ARI\", \"FMI\"]]\n",
    "df.reset_index()"
   ]
  }
 ],
 "metadata": {
  "kernelspec": {
   "display_name": "Python 3",
   "language": "python",
   "name": "python3"
  },
  "language_info": {
   "codemirror_mode": {
    "name": "ipython",
    "version": 3
   },
   "file_extension": ".py",
   "mimetype": "text/x-python",
   "name": "python",
   "nbconvert_exporter": "python",
   "pygments_lexer": "ipython3",
   "version": "3.10.11"
  }
 },
 "nbformat": 4,
 "nbformat_minor": 2
}
