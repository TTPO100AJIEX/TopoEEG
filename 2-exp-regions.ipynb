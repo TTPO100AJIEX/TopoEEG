{
  "cells": [
    {
      "cell_type": "code",
      "execution_count": 2,
      "metadata": {},
      "outputs": [],
      "source": [
        "import os\n",
        "\n",
        "subj = \"Subj1\"\n",
        "exp = \"exp_regions\"\n",
        "print_obj = 7\n",
        "os.makedirs(f\"{subj}/{exp}\", exist_ok = True)"
      ]
    },
    {
      "cell_type": "markdown",
      "metadata": {},
      "source": [
        "### Imports"
      ]
    },
    {
      "cell_type": "code",
      "execution_count": 18,
      "metadata": {},
      "outputs": [
        {
          "name": "stdout",
          "output_type": "stream",
          "text": [
            "The autoreload extension is already loaded. To reload it, use:\n",
            "  %reload_ext autoreload\n"
          ]
        }
      ],
      "source": [
        "%load_ext autoreload\n",
        "%autoreload 2\n",
        "\n",
        "import mne\n",
        "import tqdm\n",
        "import scipy\n",
        "import numpy\n",
        "import pandas\n",
        "import scipy.stats\n",
        "import gtda.curves\n",
        "import gtda.plotting\n",
        "import gtda.homology\n",
        "import gtda.diagrams\n",
        "import gtda.time_series\n",
        "import sklearn.decomposition\n",
        "import matplotlib.pyplot as plt\n",
        "import matplotlib.patches as ptchs"
      ]
    },
    {
      "cell_type": "markdown",
      "metadata": {},
      "source": [
        "### Features"
      ]
    },
    {
      "cell_type": "code",
      "execution_count": 53,
      "metadata": {},
      "outputs": [
        {
          "name": "stdout",
          "output_type": "stream",
          "text": [
            "(32, 3)\n"
          ]
        },
        {
          "data": {
            "image/png": "[encoded data removed]",
            "text/plain": [
              "<Figure size 2000x10000 with 1 Axes>"
            ]
          },
          "metadata": {},
          "output_type": "display_data"
        }
      ],
      "source": [
        "def draw(time_delay, dimension, stride, res = 100):\n",
        "    data = numpy.arange(res)\n",
        "    embedder = gtda.time_series.SingleTakensEmbedding(time_delay = time_delay, dimension = dimension, stride = stride)\n",
        "    points = embedder.fit_transform(data)\n",
        "    print(points.shape)\n",
        "    fig, ax = plt.subplots(1, 1, figsize = (20, 100))\n",
        "    ax.grid()\n",
        "    ax.set_aspect('equal')\n",
        "    ax.set_xlim(0, res)\n",
        "    ax.set_ylim(points.shape[0], 0)\n",
        "    ax.set_xticks(data)\n",
        "    ax.set_yticks(numpy.arange(points.shape[0]))\n",
        "    ax.xaxis.set_ticklabels([])\n",
        "    ax.yaxis.set_ticklabels([])\n",
        "    for i in range(points.shape[0]):\n",
        "        for item in points[i]:\n",
        "            rect = ptchs.Rectangle((item, i), 1, 1, facecolor = 'green')\n",
        "            ax.add_patch(rect)\n",
        "\n",
        "draw(2, 3, 3)"
      ]
    },
    {
      "cell_type": "code",
      "execution_count": 89,
      "metadata": {},
      "outputs": [],
      "source": [
        "def calc_features(data):\n",
        "    embedder = gtda.time_series.TakensEmbedding(time_delay = 2, dimension = 3, stride = 3)\n",
        "    points = embedder.fit_transform(data)\n",
        "\n",
        "    persistence = gtda.homology.VietorisRipsPersistence(homology_dimensions = [0, 1], n_jobs = -1)\n",
        "    raw_diagram = persistence.fit_transform(points)\n",
        "    \n",
        "\n",
        "    scaler = gtda.diagrams.Scaler()\n",
        "    filtering = gtda.diagrams.Filtering()\n",
        "    diagram = scaler.fit_transform(raw_diagram)\n",
        "    diagram = filtering.fit_transform(diagram)\n",
        "\n",
        "    landscape_features = gtda.diagrams.PersistenceLandscape().fit_transform(diagram)\n",
        "    landscape_features = gtda.curves.StandardFeatures('argmax').fit_transform(landscape_features)\n",
        "\n",
        "    betti_features = gtda.diagrams.BettiCurve().fit_transform(diagram)\n",
        "    betti_features = gtda.curves.Derivative().fit_transform(betti_features)\n",
        "    betti_features = gtda.curves.StandardFeatures('max').fit_transform(betti_features)\n",
        "\n",
        "    entropy_features = gtda.diagrams.PersistenceEntropy(normalize = True).fit_transform(diagram)\n",
        "\n",
        "    number_of_points_features = gtda.diagrams.NumberOfPoints().fit_transform(diagram)\n",
        "\n",
        "    amplitude_features = [ ]\n",
        "    for metric in [ 'bottleneck', 'wasserstein', 'betti', 'landscape', 'silhouette', 'heat' ]:\n",
        "        amplitude_features.append(gtda.diagrams.Amplitude(metric = metric).fit_transform(diagram))\n",
        "    amplitude_features = numpy.concatenate(amplitude_features, axis = 1)\n",
        "\n",
        "    pd_ft_life = diagram[:, :, 1] - diagram[:, :, 0]\n",
        "    life_features = numpy.stack([\n",
        "        numpy.max(pd_ft_life, axis = 1),\n",
        "        numpy.mean(pd_ft_life, axis = 1),\n",
        "        numpy.std(pd_ft_life, axis = 1),\n",
        "        numpy.percentile(pd_ft_life, 25, axis = 1),\n",
        "        numpy.median(pd_ft_life, axis = 1),\n",
        "        numpy.percentile(pd_ft_life, 75, axis = 1),\n",
        "        scipy.stats.kurtosis(pd_ft_life, axis = 1),\n",
        "        scipy.stats.skew(pd_ft_life, axis = 1),\n",
        "        numpy.sum(pd_ft_life, axis = 1),\n",
        "        numpy.linalg.norm(pd_ft_life, axis = 1)\n",
        "    ], axis = 1)\n",
        "\n",
        "    pd_ft_bd2 = (diagram[:, :, 0] + diagram[:, :, 1]) / 2.0\n",
        "    bd2_features = numpy.stack([\n",
        "        numpy.max(pd_ft_bd2, axis = 1),\n",
        "        numpy.mean(pd_ft_bd2, axis = 1),\n",
        "        numpy.std(pd_ft_bd2, axis = 1),\n",
        "        numpy.percentile(pd_ft_bd2, 25, axis = 1),\n",
        "        numpy.median(pd_ft_bd2, axis = 1),\n",
        "        numpy.percentile(pd_ft_bd2, 75, axis = 1),\n",
        "        scipy.stats.kurtosis(pd_ft_bd2, axis = 1),\n",
        "        scipy.stats.skew(pd_ft_bd2, axis = 1),\n",
        "        numpy.sum(pd_ft_bd2, axis = 1),\n",
        "        numpy.linalg.norm(pd_ft_bd2, axis = 1)\n",
        "    ], axis = 1)\n",
        "\n",
        "    return numpy.concatenate([\n",
        "        landscape_features,\n",
        "        betti_features,\n",
        "        entropy_features,\n",
        "        number_of_points_features,\n",
        "        amplitude_features,\n",
        "        life_features,\n",
        "        bd2_features\n",
        "    ], axis = 1)"
      ]
    },
    {
      "cell_type": "markdown",
      "metadata": {},
      "source": [
        "### Epochs"
      ]
    },
    {
      "cell_type": "code",
      "execution_count": 54,
      "metadata": {},
      "outputs": [
        {
          "name": "stdout",
          "output_type": "stream",
          "text": [
            "Reading d:\\HSE\\year-3\\HSE\\CourseProject\\Subj1\\src\\epochs_filt_rr-epo.fif ...\n",
            "    Found the data of interest:\n",
            "        t =    -500.00 ...     500.00 ms\n",
            "        0 CTF compensation matrices available\n",
            "Not setting metadata\n",
            "1046 matching events found\n",
            "No baseline correction applied\n",
            "0 projection items activated\n",
            "No projector specified for this dataset. Please consider the method self.add_proj.\n"
          ]
        },
        {
          "data": {
            "image/png": "[encoded data removed]",
            "text/plain": [
              "<Figure size 800x420 with 6 Axes>"
            ]
          },
          "metadata": {},
          "output_type": "display_data"
        }
      ],
      "source": [
        "epochs = mne.read_epochs(f\"{subj}/src/epochs_filt_rr-epo.fif\")\n",
        "g = epochs.average().plot_joint().savefig(f\"{subj}/{exp}/eeg.svg\")"
      ]
    },
    {
      "cell_type": "markdown",
      "metadata": {},
      "source": [
        "### Features"
      ]
    },
    {
      "cell_type": "code",
      "execution_count": 80,
      "metadata": {},
      "outputs": [
        {
          "name": "stdout",
          "output_type": "stream",
          "text": [
            "(501,)\n",
            "(405, 9)\n",
            "9 12\n",
            "25 25 1\n",
            "(1, 511, 3)\n"
          ]
        },
        {
          "data": {
            "application/vnd.plotly.v1+json": {
              "config": {
                "plotlyServerURL": "https://plot.ly"
              },
              "data": [
                {
                  "hoverinfo": "none",
                  "line": {
                    "color": "black",
                    "dash": "dash",
                    "width": 1
                  },
                  "mode": "lines",
                  "showlegend": false,
                  "type": "scatter",
                  "x": [
                    -4.246675598551519e-7,
                    0.00002165804555261275
                  ],
                  "y": [
                    -4.246675598551519e-7,
                    0.00002165804555261275
                  ]
                },
                {
                  "hoverinfo": "text",
                  "hovertext": [
                    "(0.0, 2.701179937503184e-06)",
                    "(0.0, 2.7221096843277337e-06)",
                    "(0.0, 2.732625034695957e-06)",
                    "(0.0, 2.805337317113299e-06)",
                    "(0.0, 2.8505098725872813e-06)",
                    "(0.0, 2.8600802579603624e-06)",
                    "(0.0, 2.8691470106423367e-06)",
                    "(0.0, 2.8919371288793627e-06)",
                    "(0.0, 2.8960835152247455e-06)",
                    "(0.0, 2.9068387448205613e-06)",
                    "(0.0, 2.97921337732987e-06)",
                    "(0.0, 2.989569566125283e-06)",
                    "(0.0, 3.006288352480624e-06)",
                    "(0.0, 3.0068099476920906e-06)",
                    "(0.0, 3.0520452583004953e-06)",
                    "(0.0, 3.0553053420590004e-06)",
                    "(0.0, 3.0858705031278078e-06)",
                    "(0.0, 3.11912890538224e-06)",
                    "(0.0, 3.1283079806598835e-06)",
                    "(0.0, 3.130288405372994e-06)",
                    "(0.0, 3.139622322123614e-06)",
                    "(0.0, 3.156603725074092e-06)",
                    "(0.0, 3.1599277008353965e-06)",
                    "(0.0, 3.1701331408839906e-06)",
                    "(0.0, 3.1742035844217753e-06)",
                    "(0.0, 3.1799436328583397e-06)",
                    "(0.0, 3.197709702362772e-06)",
                    "(0.0, 3.2021882816479774e-06)",
                    "(0.0, 3.2162022307602456e-06)",
                    "(0.0, 3.2839918731042417e-06)",
                    "(0.0, 3.290193035354605e-06)",
                    "(0.0, 3.293299641882186e-06)",
                    "(0.0, 3.296028808108531e-06)",
                    "(0.0, 3.3243702546315035e-06)",
                    "(0.0, 3.3524440823384793e-06)",
                    "(0.0, 3.359896027177456e-06)",
                    "(0.0, 3.3637970773270354e-06)",
                    "(0.0, 3.3889023143274244e-06)",
                    "(0.0, 3.3926698961295187e-06)",
                    "(0.0, 3.41076633958437e-06)",
                    "(0.0, 3.430228616707609e-06)",
                    "(0.0, 3.4316174151172163e-06)",
                    "(0.0, 3.442145953158615e-06)",
                    "(0.0, 3.460089146756218e-06)",
                    "(0.0, 3.502870640659239e-06)",
                    "(0.0, 3.5080659017694416e-06)",
                    "(0.0, 3.522777205944294e-06)",
                    "(0.0, 3.532677283146768e-06)",
                    "(0.0, 3.5375278457649983e-06)",
                    "(0.0, 3.5409884731052443e-06)",
                    "(0.0, 3.5660380035551498e-06)",
                    "(0.0, 3.5824500628223177e-06)",
                    "(0.0, 3.600408945203526e-06)",
                    "(0.0, 3.618803248173208e-06)",
                    "(0.0, 3.62029459211044e-06)",
                    "(0.0, 3.621929863584228e-06)",
                    "(0.0, 3.622212034315453e-06)",
                    "(0.0, 3.6270159853302175e-06)",
                    "(0.0, 3.633048436313402e-06)",
                    "(0.0, 3.638898533608881e-06)",
                    "(0.0, 3.642111551016569e-06)",
                    "(0.0, 3.6430863019631943e-06)",
                    "(0.0, 3.644497382992995e-06)",
                    "(0.0, 3.646511459010071e-06)",
                    "(0.0, 3.6607937090593623e-06)",
                    "(0.0, 3.669796569738537e-06)",
                    "(0.0, 3.672783122965484e-06)",
                    "(0.0, 3.6883484426653013e-06)",
                    "(0.0, 3.692869313454139e-06)",
                    "(0.0, 3.704895334522007e-06)",
                    "(0.0, 3.7132958823349327e-06)",
                    "(0.0, 3.7137338040338363e-06)",
                    "(0.0, 3.721954726643162e-06)",
                    "(0.0, 3.7247077671054285e-06)",
                    "(0.0, 3.7385450468718773e-06)",
                    "(0.0, 3.741477257790393e-06)",
                    "(0.0, 3.7440368032548577e-06)",
                    "(0.0, 3.7492193314392352e-06)",
                    "(0.0, 3.77376841242949e-06)",
                    "(0.0, 3.7834092836419586e-06)",
                    "(0.0, 3.7961210637149634e-06)",
                    "(0.0, 3.7997745039319852e-06)",
                    "(0.0, 3.8018215491320007e-06)",
                    "(0.0, 3.80894402951526e-06)",
                    "(0.0, 3.818775894615101e-06)",
                    "(0.0, 3.822465259872843e-06)",
                    "(0.0, 3.84000304620713e-06)",
                    "(0.0, 3.848223059321754e-06)",
                    "(0.0, 3.853932412312133e-06)",
                    "(0.0, 3.866300176014192e-06)",
                    "(0.0, 3.879140422213823e-06)",
                    "(0.0, 3.89890465157805e-06)",
                    "(0.0, 3.900941464962671e-06)",
                    "(0.0, 3.901006948581198e-06)",
                    "(0.0, 3.90129525840166e-06)",
                    "(0.0, 3.916426976502407e-06)",
                    "(0.0, 3.916497917089146e-06)",
                    "(0.0, 3.92426181861083e-06)",
                    "(0.0, 3.934333562938264e-06)",
                    "(0.0, 3.939877842640271e-06)",
                    "(0.0, 3.941627255699132e-06)",
                    "(0.0, 3.944468971894821e-06)",
                    "(0.0, 3.948048743040999e-06)",
                    "(0.0, 3.954008661821717e-06)",
                    "(0.0, 3.955293323087972e-06)",
                    "(0.0, 3.95711867895443e-06)",
                    "(0.0, 3.9572087189299054e-06)",
                    "(0.0, 3.967612883570837e-06)",
                    "(0.0, 3.968910277762916e-06)",
                    "(0.0, 3.976989773946116e-06)",
                    "(0.0, 3.9858264244685415e-06)",
                    "(0.0, 3.989302513218718e-06)",
                    "(0.0, 3.992586243839469e-06)",
                    "(0.0, 3.995011866209097e-06)",
                    "(0.0, 4.007916231785202e-06)",
                    "(0.0, 4.014777914562728e-06)",
                    "(0.0, 4.02688556278008e-06)",
                    "(0.0, 4.031947355542798e-06)",
                    "(0.0, 4.041397460241569e-06)",
                    "(0.0, 4.041411102662096e-06)",
                    "(0.0, 4.061610525241122e-06)",
                    "(0.0, 4.063352662342368e-06)",
                    "(0.0, 4.0719569369684905e-06)",
                    "(0.0, 4.0814256863086484e-06)",
                    "(0.0, 4.088581590622198e-06)",
                    "(0.0, 4.094535597687354e-06)",
                    "(0.0, 4.0993531911226455e-06)",
                    "(0.0, 4.100621481484268e-06)",
                    "(0.0, 4.103920218767598e-06)",
                    "(0.0, 4.107078439119505e-06)",
                    "(0.0, 4.113278464501491e-06)",
                    "(0.0, 4.127120519115124e-06)",
                    "(0.0, 4.1296016206615604e-06)",
                    "(0.0, 4.133819402341032e-06)",
                    "(0.0, 4.138824351684889e-06)",
                    "(0.0, 4.143791102251271e-06)",
                    "(0.0, 4.1444773160037585e-06)",
                    "(0.0, 4.157229341217317e-06)",
                    "(0.0, 4.160433036304312e-06)",
                    "(0.0, 4.161529432167299e-06)",
                    "(0.0, 4.17502133132075e-06)",
                    "(0.0, 4.175408321316354e-06)",
                    "(0.0, 4.179978532192763e-06)",
                    "(0.0, 4.183736109553138e-06)",
                    "(0.0, 4.186172191111837e-06)",
                    "(0.0, 4.189731498627225e-06)",
                    "(0.0, 4.197484031465137e-06)",
                    "(0.0, 4.201910087431315e-06)",
                    "(0.0, 4.202956915833056e-06)",
                    "(0.0, 4.204615379421739e-06)",
                    "(0.0, 4.2084343476744834e-06)",
                    "(0.0, 4.20936612499645e-06)",
                    "(0.0, 4.216103206999833e-06)",
                    "(0.0, 4.217295099806506e-06)",
                    "(0.0, 4.22289394919062e-06)",
                    "(0.0, 4.224252734275069e-06)",
                    "(0.0, 4.2263900468242355e-06)",
                    "(0.0, 4.242045633873204e-06)",
                    "(0.0, 4.2453389141883235e-06)",
                    "(0.0, 4.24991276304354e-06)",
                    "(0.0, 4.255258772900561e-06)",
                    "(0.0, 4.256565262039658e-06)",
                    "(0.0, 4.257241926097777e-06)",
                    "(0.0, 4.2572546590236016e-06)",
                    "(0.0, 4.2592014324327465e-06)",
                    "(0.0, 4.270180852472549e-06)",
                    "(0.0, 4.272962542017922e-06)",
                    "(0.0, 4.2884321374003775e-06)",
                    "(0.0, 4.290340712032048e-06)",
                    "(0.0, 4.293884103390155e-06)",
                    "(0.0, 4.300916316424264e-06)",
                    "(0.0, 4.3034601731051225e-06)",
                    "(0.0, 4.3053109948232304e-06)",
                    "(0.0, 4.314810666983249e-06)",
                    "(0.0, 4.316269951232243e-06)",
                    "(0.0, 4.324530891608447e-06)",
                    "(0.0, 4.32730757893296e-06)",
                    "(0.0, 4.328012437326834e-06)",
                    "(0.0, 4.334379809733946e-06)",
                    "(0.0, 4.334485765866702e-06)",
                    "(0.0, 4.345017714513233e-06)",
                    "(0.0, 4.34613957622787e-06)",
                    "(0.0, 4.35473748439108e-06)",
                    "(0.0, 4.357286343292799e-06)",
                    "(0.0, 4.358960723038763e-06)",
                    "(0.0, 4.360318143881159e-06)",
                    "(0.0, 4.368991994851967e-06)",
                    "(0.0, 4.369193902675761e-06)",
                    "(0.0, 4.377532150101615e-06)",
                    "(0.0, 4.377854111226043e-06)",
                    "(0.0, 4.3798895603686105e-06)",
                    "(0.0, 4.386612545204116e-06)",
                    "(0.0, 4.391680249682395e-06)",
                    "(0.0, 4.393250947032357e-06)",
                    "(0.0, 4.3986383388983086e-06)",
                    "(0.0, 4.401621026772773e-06)",
                    "(0.0, 4.404984338179929e-06)",
                    "(0.0, 4.405567324283766e-06)",
                    "(0.0, 4.409057055454468e-06)",
                    "(0.0, 4.412752787175123e-06)",
                    "(0.0, 4.420862296683481e-06)",
                    "(0.0, 4.423028713063104e-06)",
                    "(0.0, 4.4246689867577516e-06)",
                    "(0.0, 4.424992312124232e-06)",
                    "(0.0, 4.425259703566553e-06)",
                    "(0.0, 4.4424050429370254e-06)",
                    "(0.0, 4.442805675353156e-06)",
                    "(0.0, 4.460947820916772e-06)",
                    "(0.0, 4.484142209548736e-06)",
                    "(0.0, 4.4846369746665005e-06)",
                    "(0.0, 4.48755054094363e-06)",
                    "(0.0, 4.496621841099113e-06)",
                    "(0.0, 4.513332896749489e-06)",
                    "(0.0, 4.515180535236141e-06)",
                    "(0.0, 4.5219580897537526e-06)",
                    "(0.0, 4.5257033889356535e-06)",
                    "(0.0, 4.532126240519574e-06)",
                    "(0.0, 4.53943448519567e-06)",
                    "(0.0, 4.539684596238658e-06)",
                    "(0.0, 4.5443644012266304e-06)",
                    "(0.0, 4.5464671529771294e-06)",
                    "(0.0, 4.5475362639990635e-06)",
                    "(0.0, 4.55458803116926e-06)",
                    "(0.0, 4.561473815556383e-06)",
                    "(0.0, 4.5661768126592506e-06)",
                    "(0.0, 4.572238140099216e-06)",
                    "(0.0, 4.578575044433819e-06)",
                    "(0.0, 4.579969754558988e-06)",
                    "(0.0, 4.583287136483705e-06)",
                    "(0.0, 4.5836245590180624e-06)",
                    "(0.0, 4.585456736094784e-06)",
                    "(0.0, 4.618253115040716e-06)",
                    "(0.0, 4.624577286449494e-06)",
                    "(0.0, 4.625120254786452e-06)",
                    "(0.0, 4.6304985517053865e-06)",
                    "(0.0, 4.635287950804923e-06)",
                    "(0.0, 4.635762252291897e-06)",
                    "(0.0, 4.63683045381913e-06)",
                    "(0.0, 4.654653821489774e-06)",
                    "(0.0, 4.657793397200294e-06)",
                    "(0.0, 4.660027116187848e-06)",
                    "(0.0, 4.66074106952874e-06)",
                    "(0.0, 4.664444077207008e-06)",
                    "(0.0, 4.667234406952048e-06)",
                    "(0.0, 4.667524990509264e-06)",
                    "(0.0, 4.669406735047232e-06)",
                    "(0.0, 4.670789166993927e-06)",
                    "(0.0, 4.674413503380492e-06)",
                    "(0.0, 4.6780014599789865e-06)",
                    "(0.0, 4.688388344220584e-06)",
                    "(0.0, 4.705241281044437e-06)",
                    "(0.0, 4.706561867351411e-06)",
                    "(0.0, 4.709051609097514e-06)",
                    "(0.0, 4.714477654488292e-06)",
                    "(0.0, 4.717972842627205e-06)",
                    "(0.0, 4.730257387564052e-06)",
                    "(0.0, 4.733509285870241e-06)",
                    "(0.0, 4.7342578000098e-06)",
                    "(0.0, 4.734495178126963e-06)",
                    "(0.0, 4.741119482787326e-06)",
                    "(0.0, 4.760347565024858e-06)",
                    "(0.0, 4.779022219736362e-06)",
                    "(0.0, 4.783579697686946e-06)",
                    "(0.0, 4.784506472788053e-06)",
                    "(0.0, 4.7874950723780785e-06)",
                    "(0.0, 4.795025688508758e-06)",
                    "(0.0, 4.799313046532916e-06)",
                    "(0.0, 4.801385784958256e-06)",
                    "(0.0, 4.802029707207112e-06)",
                    "(0.0, 4.805477146874182e-06)",
                    "(0.0, 4.810427071788581e-06)",
                    "(0.0, 4.816488853975898e-06)",
                    "(0.0, 4.8400106607005e-06)",
                    "(0.0, 4.843175247515319e-06)",
                    "(0.0, 4.855153292737668e-06)",
                    "(0.0, 4.858694865106372e-06)",
                    "(0.0, 4.866008566750679e-06)",
                    "(0.0, 4.868593350693118e-06)",
                    "(0.0, 4.877076662523905e-06)",
                    "(0.0, 4.877972514805151e-06)",
                    "(0.0, 4.883711881120689e-06)",
                    "(0.0, 4.887317118118517e-06)",
                    "(0.0, 4.893256573268445e-06)",
                    "(0.0, 4.895869096799288e-06)",
                    "(0.0, 4.898484348814236e-06)",
                    "(0.0, 4.9111472435470205e-06)",
                    "(0.0, 4.911501491733361e-06)",
                    "(0.0, 4.9194259190699086e-06)",
                    "(0.0, 4.9195582505490165e-06)",
                    "(0.0, 4.925196208205307e-06)",
                    "(0.0, 4.929216629534494e-06)",
                    "(0.0, 4.933016953145852e-06)",
                    "(0.0, 4.936031473334879e-06)",
                    "(0.0, 4.9385475904273335e-06)",
                    "(0.0, 4.9452241910330486e-06)",
                    "(0.0, 4.946436092723161e-06)",
                    "(0.0, 4.952086783305276e-06)",
                    "(0.0, 4.952175004291348e-06)",
                    "(0.0, 4.957708370056935e-06)",
                    "(0.0, 4.958677436661674e-06)",
                    "(0.0, 4.962861112289829e-06)",
                    "(0.0, 4.98532017445541e-06)",
                    "(0.0, 4.9937807489186525e-06)",
                    "(0.0, 4.994855771656148e-06)",
                    "(0.0, 4.99521593155805e-06)",
                    "(0.0, 5.000909368391149e-06)",
                    "(0.0, 5.007220806874102e-06)",
                    "(0.0, 5.019630407332443e-06)",
                    "(0.0, 5.020801836508326e-06)",
                    "(0.0, 5.038565177528653e-06)",
                    "(0.0, 5.0410876610840205e-06)",
                    "(0.0, 5.046095793659333e-06)",
                    "(0.0, 5.047570994065609e-06)",
                    "(0.0, 5.050589152233442e-06)",
                    "(0.0, 5.052043889008928e-06)",
                    "(0.0, 5.0649755394260865e-06)",
                    "(0.0, 5.065549885330256e-06)",
                    "(0.0, 5.098681413073791e-06)",
                    "(0.0, 5.103306648379657e-06)",
                    "(0.0, 5.106084245198872e-06)",
                    "(0.0, 5.106419393996475e-06)",
                    "(0.0, 5.107357537781354e-06)",
                    "(0.0, 5.1082806749036536e-06)",
                    "(0.0, 5.1216106840001885e-06)",
                    "(0.0, 5.122501079313224e-06)",
                    "(0.0, 5.143069301993819e-06)",
                    "(0.0, 5.152273388375761e-06)",
                    "(0.0, 5.154772679816233e-06)",
                    "(0.0, 5.158128260518424e-06)",
                    "(0.0, 5.15890587848844e-06)",
                    "(0.0, 5.168275038158754e-06)",
                    "(0.0, 5.198990493227029e-06)",
                    "(0.0, 5.201369731366867e-06)",
                    "(0.0, 5.208348284213571e-06)",
                    "(0.0, 5.209049959375989e-06)",
                    "(0.0, 5.220302227826323e-06)",
                    "(0.0, 5.226468601904344e-06)",
                    "(0.0, 5.2478339966910426e-06)",
                    "(0.0, 5.251722541288473e-06)",
                    "(0.0, 5.255914857116295e-06)",
                    "(0.0, 5.257586508378154e-06)",
                    "(0.0, 5.261370915832231e-06)",
                    "(0.0, 5.277603122522123e-06)",
                    "(0.0, 5.279024207993643e-06)",
                    "(0.0, 5.302289537212346e-06)",
                    "(0.0, 5.330519343260676e-06)",
                    "(0.0, 5.336751655704575e-06)",
                    "(0.0, 5.340153620636556e-06)",
                    "(0.0, 5.342032181943068e-06)",
                    "(0.0, 5.350220817490481e-06)",
                    "(0.0, 5.3622820814780425e-06)",
                    "(0.0, 5.3777589528181124e-06)",
                    "(0.0, 5.384375981520861e-06)",
                    "(0.0, 5.388230420066975e-06)",
                    "(0.0, 5.392915227275807e-06)",
                    "(0.0, 5.395255357143469e-06)",
                    "(0.0, 5.401258931669872e-06)",
                    "(0.0, 5.406523087003734e-06)",
                    "(0.0, 5.450357548397733e-06)",
                    "(0.0, 5.4686111070623156e-06)",
                    "(0.0, 5.471316399052739e-06)",
                    "(0.0, 5.508341928361915e-06)",
                    "(0.0, 5.520649665413657e-06)",
                    "(0.0, 5.54200687474804e-06)",
                    "(0.0, 5.5476484703831375e-06)",
                    "(0.0, 5.558086741075385e-06)",
                    "(0.0, 5.565258106798865e-06)",
                    "(0.0, 5.593189598585013e-06)",
                    "(0.0, 5.613414032268338e-06)",
                    "(0.0, 5.630568011838477e-06)",
                    "(0.0, 5.6369067351624835e-06)",
                    "(0.0, 5.650335424434161e-06)",
                    "(0.0, 5.675698957929853e-06)",
                    "(0.0, 5.693860202882206e-06)",
                    "(0.0, 5.712878191843629e-06)",
                    "(0.0, 5.718221473216545e-06)",
                    "(0.0, 5.718405645893654e-06)",
                    "(0.0, 5.742411303799599e-06)",
                    "(0.0, 5.757584858656628e-06)",
                    "(0.0, 5.781040727015352e-06)",
                    "(0.0, 5.796980985905975e-06)",
                    "(0.0, 5.8008563428302296e-06)",
                    "(0.0, 5.818961199111072e-06)",
                    "(0.0, 5.840463018103037e-06)",
                    "(0.0, 5.854876690136734e-06)",
                    "(0.0, 5.85879388381727e-06)",
                    "(0.0, 5.875169335922692e-06)",
                    "(0.0, 5.878830052097328e-06)",
                    "(0.0, 5.919577233726159e-06)",
                    "(0.0, 5.987618806102546e-06)",
                    "(0.0, 5.987893473502481e-06)",
                    "(0.0, 6.036631020833738e-06)",
                    "(0.0, 6.042396762495628e-06)",
                    "(0.0, 6.042960649210727e-06)",
                    "(0.0, 6.046181169949705e-06)",
                    "(0.0, 6.047787792340387e-06)",
                    "(0.0, 6.121957085269969e-06)",
                    "(0.0, 6.180765467433957e-06)",
                    "(0.0, 6.217854661372257e-06)",
                    "(0.0, 6.26777000434231e-06)",
                    "(0.0, 6.446577117458219e-06)",
                    "(0.0, 6.717871656292118e-06)",
                    "(0.0, 6.737489911756711e-06)",
                    "(0.0, 6.87875126459403e-06)"
                  ],
                  "mode": "markers",
                  "name": "H0",
                  "type": "scatter",
                  "x": [
                    0,
                    0,
                    0,
                    0,
                    0,
                    0,
                    0,
                    0,
                    0,
                    0,
                    0,
                    0,
                    0,
                    0,
                    0,
                    0,
                    0,
                    0,
                    0,
                    0,
                    0,
                    0,
                    0,
                    0,
                    0,
                    0,
                    0,
                    0,
                    0,
                    0,
                    0,
                    0,
                    0,
                    0,
                    0,
                    0,
                    0,
                    0,
                    0,
                    0,
                    0,
                    0,
                    0,
                    0,
                    0,
                    0,
                    0,
                    0,
                    0,
                    0,
                    0,
                    0,
                    0,
                    0,
                    0,
                    0,
                    0,
                    0,
                    0,
                    0,
                    0,
                    0,
                    0,
                    0,
                    0,
                    0,
                    0,
                    0,
                    0,
                    0,
                    0,
                    0,
                    0,
                    0,
                    0,
                    0,
                    0,
                    0,
                    0,
                    0,
                    0,
                    0,
                    0,
                    0,
                    0,
                    0,
                    0,
                    0,
                    0,
                    0,
                    0,
                    0,
                    0,
                    0,
                    0,
                    0,
                    0,
                    0,
                    0,
                    0,
                    0,
                    0,
                    0,
                    0,
                    0,
                    0,
                    0,
                    0,
                    0,
                    0,
                    0,
                    0,
                    0,
                    0,
                    0,
                    0,
                    0,
                    0,
                    0,
                    0,
                    0,
                    0,
                    0,
                    0,
                    0,
                    0,
                    0,
                    0,
                    0,
                    0,
                    0,
                    0,
                    0,
                    0,
                    0,
                    0,
                    0,
                    0,
                    0,
                    0,
                    0,
                    0,
                    0,
                    0,
                    0,
                    0,
                    0,
                    0,
                    0,
                    0,
                    0,
                    0,
                    0,
                    0,
                    0,
                    0,
                    0,
                    0,
                    0,
                    0,
                    0,
                    0,
                    0,
                    0,
                    0,
                    0,
                    0,
                    0,
                    0,
                    0,
                    0,
                    0,
                    0,
                    0,
                    0,
                    0,
                    0,
                    0,
                    0,
                    0,
                    0,
                    0,
                    0,
                    0,
                    0,
                    0,
                    0,
                    0,
                    0,
                    0,
                    0,
                    0,
                    0,
                    0,
                    0,
                    0,
                    0,
                    0,
                    0,
                    0,
                    0,
                    0,
                    0,
                    0,
                    0,
                    0,
                    0,
                    0,
                    0,
                    0,
                    0,
                    0,
                    0,
                    0,
                    0,
                    0,
                    0,
                    0,
                    0,
                    0,
                    0,
                    0,
                    0,
                    0,
                    0,
                    0,
                    0,
                    0,
                    0,
                    0,
                    0,
                    0,
                    0,
                    0,
                    0,
                    0,
                    0,
                    0,
                    0,
                    0,
                    0,
                    0,
                    0,
                    0,
                    0,
                    0,
                    0,
                    0,
                    0,
                    0,
                    0,
                    0,
                    0,
                    0,
                    0,
                    0,
                    0,
                    0,
                    0,
                    0,
                    0,
                    0,
                    0,
                    0,
                    0,
                    0,
                    0,
                    0,
                    0,
                    0,
                    0,
                    0,
                    0,
                    0,
                    0,
                    0,
                    0,
                    0,
                    0,
                    0,
                    0,
                    0,
                    0,
                    0,
                    0,
                    0,
                    0,
                    0,
                    0,
                    0,
                    0,
                    0,
                    0,
                    0,
                    0,
                    0,
                    0,
                    0,
                    0,
                    0,
                    0,
                    0,
                    0,
                    0,
                    0,
                    0,
                    0,
                    0,
                    0,
                    0,
                    0,
                    0,
                    0,
                    0,
                    0,
                    0,
                    0,
                    0,
                    0,
                    0,
                    0,
                    0,
                    0,
                    0,
                    0,
                    0,
                    0,
                    0,
                    0,
                    0,
                    0,
                    0,
                    0,
                    0,
                    0,
                    0,
                    0,
                    0,
                    0,
                    0,
                    0,
                    0,
                    0,
                    0,
                    0,
                    0,
                    0,
                    0,
                    0,
                    0,
                    0,
                    0,
                    0,
                    0,
                    0,
                    0,
                    0,
                    0,
                    0,
                    0,
                    0,
                    0,
                    0,
                    0,
                    0,
                    0,
                    0,
                    0,
                    0,
                    0,
                    0,
                    0,
                    0,
                    0,
                    0,
                    0,
                    0,
                    0,
                    0,
                    0,
                    0,
                    0,
                    0,
                    0,
                    0,
                    0,
                    0,
                    0,
                    0,
                    0,
                    0,
                    0,
                    0,
                    0,
                    0,
                    0,
                    0,
                    0,
                    0,
                    0,
                    0,
                    0,
                    0,
                    0
                  ],
                  "y": [
                    0.000002701179937503184,
                    0.0000027221096843277337,
                    0.000002732625034695957,
                    0.000002805337317113299,
                    0.0000028505098725872813,
                    0.0000028600802579603624,
                    0.0000028691470106423367,
                    0.0000028919371288793627,
                    0.0000028960835152247455,
                    0.0000029068387448205613,
                    0.00000297921337732987,
                    0.000002989569566125283,
                    0.000003006288352480624,
                    0.0000030068099476920906,
                    0.0000030520452583004953,
                    0.0000030553053420590004,
                    0.0000030858705031278078,
                    0.00000311912890538224,
                    0.0000031283079806598835,
                    0.000003130288405372994,
                    0.000003139622322123614,
                    0.000003156603725074092,
                    0.0000031599277008353965,
                    0.0000031701331408839906,
                    0.0000031742035844217753,
                    0.0000031799436328583397,
                    0.000003197709702362772,
                    0.0000032021882816479774,
                    0.0000032162022307602456,
                    0.0000032839918731042417,
                    0.000003290193035354605,
                    0.000003293299641882186,
                    0.000003296028808108531,
                    0.0000033243702546315035,
                    0.0000033524440823384793,
                    0.000003359896027177456,
                    0.0000033637970773270354,
                    0.0000033889023143274244,
                    0.0000033926698961295187,
                    0.00000341076633958437,
                    0.000003430228616707609,
                    0.0000034316174151172163,
                    0.000003442145953158615,
                    0.000003460089146756218,
                    0.000003502870640659239,
                    0.0000035080659017694416,
                    0.000003522777205944294,
                    0.000003532677283146768,
                    0.0000035375278457649983,
                    0.0000035409884731052443,
                    0.0000035660380035551498,
                    0.0000035824500628223177,
                    0.000003600408945203526,
                    0.000003618803248173208,
                    0.00000362029459211044,
                    0.000003621929863584228,
                    0.000003622212034315453,
                    0.0000036270159853302175,
                    0.000003633048436313402,
                    0.000003638898533608881,
                    0.000003642111551016569,
                    0.0000036430863019631943,
                    0.000003644497382992995,
                    0.000003646511459010071,
                    0.0000036607937090593623,
                    0.000003669796569738537,
                    0.000003672783122965484,
                    0.0000036883484426653013,
                    0.000003692869313454139,
                    0.000003704895334522007,
                    0.0000037132958823349327,
                    0.0000037137338040338363,
                    0.000003721954726643162,
                    0.0000037247077671054285,
                    0.0000037385450468718773,
                    0.000003741477257790393,
                    0.0000037440368032548577,
                    0.0000037492193314392352,
                    0.00000377376841242949,
                    0.0000037834092836419586,
                    0.0000037961210637149634,
                    0.0000037997745039319852,
                    0.0000038018215491320007,
                    0.00000380894402951526,
                    0.000003818775894615101,
                    0.000003822465259872843,
                    0.00000384000304620713,
                    0.000003848223059321754,
                    0.000003853932412312133,
                    0.000003866300176014192,
                    0.000003879140422213823,
                    0.00000389890465157805,
                    0.000003900941464962671,
                    0.000003901006948581198,
                    0.00000390129525840166,
                    0.000003916426976502407,
                    0.000003916497917089146,
                    0.00000392426181861083,
                    0.000003934333562938264,
                    0.000003939877842640271,
                    0.000003941627255699132,
                    0.000003944468971894821,
                    0.000003948048743040999,
                    0.000003954008661821717,
                    0.000003955293323087972,
                    0.00000395711867895443,
                    0.0000039572087189299054,
                    0.000003967612883570837,
                    0.000003968910277762916,
                    0.000003976989773946116,
                    0.0000039858264244685415,
                    0.000003989302513218718,
                    0.000003992586243839469,
                    0.000003995011866209097,
                    0.000004007916231785202,
                    0.000004014777914562728,
                    0.00000402688556278008,
                    0.000004031947355542798,
                    0.000004041397460241569,
                    0.000004041411102662096,
                    0.000004061610525241122,
                    0.000004063352662342368,
                    0.0000040719569369684905,
                    0.0000040814256863086484,
                    0.000004088581590622198,
                    0.000004094535597687354,
                    0.0000040993531911226455,
                    0.000004100621481484268,
                    0.000004103920218767598,
                    0.000004107078439119505,
                    0.000004113278464501491,
                    0.000004127120519115124,
                    0.0000041296016206615604,
                    0.000004133819402341032,
                    0.000004138824351684889,
                    0.000004143791102251271,
                    0.0000041444773160037585,
                    0.000004157229341217317,
                    0.000004160433036304312,
                    0.000004161529432167299,
                    0.00000417502133132075,
                    0.000004175408321316354,
                    0.000004179978532192763,
                    0.000004183736109553138,
                    0.000004186172191111837,
                    0.000004189731498627225,
                    0.000004197484031465137,
                    0.000004201910087431315,
                    0.000004202956915833056,
                    0.000004204615379421739,
                    0.0000042084343476744834,
                    0.00000420936612499645,
                    0.000004216103206999833,
                    0.000004217295099806506,
                    0.00000422289394919062,
                    0.000004224252734275069,
                    0.0000042263900468242355,
                    0.000004242045633873204,
                    0.0000042453389141883235,
                    0.00000424991276304354,
                    0.000004255258772900561,
                    0.000004256565262039658,
                    0.000004257241926097777,
                    0.0000042572546590236016,
                    0.0000042592014324327465,
                    0.000004270180852472549,
                    0.000004272962542017922,
                    0.0000042884321374003775,
                    0.000004290340712032048,
                    0.000004293884103390155,
                    0.000004300916316424264,
                    0.0000043034601731051225,
                    0.0000043053109948232304,
                    0.000004314810666983249,
                    0.000004316269951232243,
                    0.000004324530891608447,
                    0.00000432730757893296,
                    0.000004328012437326834,
                    0.000004334379809733946,
                    0.000004334485765866702,
                    0.000004345017714513233,
                    0.00000434613957622787,
                    0.00000435473748439108,
                    0.000004357286343292799,
                    0.000004358960723038763,
                    0.000004360318143881159,
                    0.000004368991994851967,
                    0.000004369193902675761,
                    0.000004377532150101615,
                    0.000004377854111226043,
                    0.0000043798895603686105,
                    0.000004386612545204116,
                    0.000004391680249682395,
                    0.000004393250947032357,
                    0.0000043986383388983086,
                    0.000004401621026772773,
                    0.000004404984338179929,
                    0.000004405567324283766,
                    0.000004409057055454468,
                    0.000004412752787175123,
                    0.000004420862296683481,
                    0.000004423028713063104,
                    0.0000044246689867577516,
                    0.000004424992312124232,
                    0.000004425259703566553,
                    0.0000044424050429370254,
                    0.000004442805675353156,
                    0.000004460947820916772,
                    0.000004484142209548736,
                    0.0000044846369746665005,
                    0.00000448755054094363,
                    0.000004496621841099113,
                    0.000004513332896749489,
                    0.000004515180535236141,
                    0.0000045219580897537526,
                    0.0000045257033889356535,
                    0.000004532126240519574,
                    0.00000453943448519567,
                    0.000004539684596238658,
                    0.0000045443644012266304,
                    0.0000045464671529771294,
                    0.0000045475362639990635,
                    0.00000455458803116926,
                    0.000004561473815556383,
                    0.0000045661768126592506,
                    0.000004572238140099216,
                    0.000004578575044433819,
                    0.000004579969754558988,
                    0.000004583287136483705,
                    0.0000045836245590180624,
                    0.000004585456736094784,
                    0.000004618253115040716,
                    0.000004624577286449494,
                    0.000004625120254786452,
                    0.0000046304985517053865,
                    0.000004635287950804923,
                    0.000004635762252291897,
                    0.00000463683045381913,
                    0.000004654653821489774,
                    0.000004657793397200294,
                    0.000004660027116187848,
                    0.00000466074106952874,
                    0.000004664444077207008,
                    0.000004667234406952048,
                    0.000004667524990509264,
                    0.000004669406735047232,
                    0.000004670789166993927,
                    0.000004674413503380492,
                    0.0000046780014599789865,
                    0.000004688388344220584,
                    0.000004705241281044437,
                    0.000004706561867351411,
                    0.000004709051609097514,
                    0.000004714477654488292,
                    0.000004717972842627205,
                    0.000004730257387564052,
                    0.000004733509285870241,
                    0.0000047342578000098,
                    0.000004734495178126963,
                    0.000004741119482787326,
                    0.000004760347565024858,
                    0.000004779022219736362,
                    0.000004783579697686946,
                    0.000004784506472788053,
                    0.0000047874950723780785,
                    0.000004795025688508758,
                    0.000004799313046532916,
                    0.000004801385784958256,
                    0.000004802029707207112,
                    0.000004805477146874182,
                    0.000004810427071788581,
                    0.000004816488853975898,
                    0.0000048400106607005,
                    0.000004843175247515319,
                    0.000004855153292737668,
                    0.000004858694865106372,
                    0.000004866008566750679,
                    0.000004868593350693118,
                    0.000004877076662523905,
                    0.000004877972514805151,
                    0.000004883711881120689,
                    0.000004887317118118517,
                    0.000004893256573268445,
                    0.000004895869096799288,
                    0.000004898484348814236,
                    0.0000049111472435470205,
                    0.000004911501491733361,
                    0.0000049194259190699086,
                    0.0000049195582505490165,
                    0.000004925196208205307,
                    0.000004929216629534494,
                    0.000004933016953145852,
                    0.000004936031473334879,
                    0.0000049385475904273335,
                    0.0000049452241910330486,
                    0.000004946436092723161,
                    0.000004952086783305276,
                    0.000004952175004291348,
                    0.000004957708370056935,
                    0.000004958677436661674,
                    0.000004962861112289829,
                    0.00000498532017445541,
                    0.0000049937807489186525,
                    0.000004994855771656148,
                    0.00000499521593155805,
                    0.000005000909368391149,
                    0.000005007220806874102,
                    0.000005019630407332443,
                    0.000005020801836508326,
                    0.000005038565177528653,
                    0.0000050410876610840205,
                    0.000005046095793659333,
                    0.000005047570994065609,
                    0.000005050589152233442,
                    0.000005052043889008928,
                    0.0000050649755394260865,
                    0.000005065549885330256,
                    0.000005098681413073791,
                    0.000005103306648379657,
                    0.000005106084245198872,
                    0.000005106419393996475,
                    0.000005107357537781354,
                    0.0000051082806749036536,
                    0.0000051216106840001885,
                    0.000005122501079313224,
                    0.000005143069301993819,
                    0.000005152273388375761,
                    0.000005154772679816233,
                    0.000005158128260518424,
                    0.00000515890587848844,
                    0.000005168275038158754,
                    0.000005198990493227029,
                    0.000005201369731366867,
                    0.000005208348284213571,
                    0.000005209049959375989,
                    0.000005220302227826323,
                    0.000005226468601904344,
                    0.0000052478339966910426,
                    0.000005251722541288473,
                    0.000005255914857116295,
                    0.000005257586508378154,
                    0.000005261370915832231,
                    0.000005277603122522123,
                    0.000005279024207993643,
                    0.000005302289537212346,
                    0.000005330519343260676,
                    0.000005336751655704575,
                    0.000005340153620636556,
                    0.000005342032181943068,
                    0.000005350220817490481,
                    0.0000053622820814780425,
                    0.0000053777589528181124,
                    0.000005384375981520861,
                    0.000005388230420066975,
                    0.000005392915227275807,
                    0.000005395255357143469,
                    0.000005401258931669872,
                    0.000005406523087003734,
                    0.000005450357548397733,
                    0.0000054686111070623156,
                    0.000005471316399052739,
                    0.000005508341928361915,
                    0.000005520649665413657,
                    0.00000554200687474804,
                    0.0000055476484703831375,
                    0.000005558086741075385,
                    0.000005565258106798865,
                    0.000005593189598585013,
                    0.000005613414032268338,
                    0.000005630568011838477,
                    0.0000056369067351624835,
                    0.000005650335424434161,
                    0.000005675698957929853,
                    0.000005693860202882206,
                    0.000005712878191843629,
                    0.000005718221473216545,
                    0.000005718405645893654,
                    0.000005742411303799599,
                    0.000005757584858656628,
                    0.000005781040727015352,
                    0.000005796980985905975,
                    0.0000058008563428302296,
                    0.000005818961199111072,
                    0.000005840463018103037,
                    0.000005854876690136734,
                    0.00000585879388381727,
                    0.000005875169335922692,
                    0.000005878830052097328,
                    0.000005919577233726159,
                    0.000005987618806102546,
                    0.000005987893473502481,
                    0.000006036631020833738,
                    0.000006042396762495628,
                    0.000006042960649210727,
                    0.000006046181169949705,
                    0.000006047787792340387,
                    0.000006121957085269969,
                    0.000006180765467433957,
                    0.000006217854661372257,
                    0.00000626777000434231,
                    0.000006446577117458219,
                    0.000006717871656292118,
                    0.000006737489911756711,
                    0.00000687875126459403
                  ]
                },
                {
                  "hoverinfo": "text",
                  "hovertext": [
                    "(1.9476503439364024e-05, 1.9969374989159405e-05)",
                    "(1.6447569578303955e-05, 1.714500831440091e-05)",
                    "(1.6356334526790306e-05, 1.6492824215674773e-05)",
                    "(1.5352852642536163e-05, 1.6270285414066166e-05)",
                    "(1.4956064660509583e-05, 1.5056859410833567e-05)",
                    "(1.4720470062457025e-05, 1.6564947145525366e-05)",
                    "(1.4678938896395266e-05, 1.5086887287907302e-05)",
                    "(1.4600944268750027e-05, 1.4617824490414932e-05)",
                    "(1.4551751519320533e-05, 1.468811296945205e-05)",
                    "(1.4483395716524683e-05, 1.5568559319945052e-05)",
                    "(1.4404854482563678e-05, 1.4464550076809246e-05)",
                    "(1.4225179256754927e-05, 1.4404885405383538e-05)",
                    "(1.4117927094048355e-05, 1.4711338735651225e-05)",
                    "(1.39390704134712e-05, 1.5450110367964953e-05)",
                    "(1.3913080692873336e-05, 1.4171951988828368e-05)",
                    "(1.3833710909239016e-05, 1.5198203072941396e-05)",
                    "(1.3760601177637e-05, 1.4457848010351881e-05)",
                    "(1.375851843476994e-05, 1.3878224308427889e-05)",
                    "(1.3646674233314116e-05, 1.4684991583635565e-05)",
                    "(1.3503812624549028e-05, 1.368804441881366e-05)",
                    "(1.3486891475622542e-05, 1.3690497326024342e-05)",
                    "(1.337218600383494e-05, 1.3794765436614398e-05)",
                    "(1.3353154827200342e-05, 1.4253920198825654e-05)",
                    "(1.3221416338637937e-05, 1.359505404252559e-05)",
                    "(1.3189569472160656e-05, 1.4911993275745772e-05)",
                    "(1.3164579286240041e-05, 1.3675228728970978e-05)",
                    "(1.312570930167567e-05, 1.3279800441523548e-05)",
                    "(1.3088821106066462e-05, 1.3585954548034351e-05)",
                    "(1.3006460903852712e-05, 1.4581803043256514e-05)",
                    "(1.3004071661271155e-05, 1.3271675015857909e-05)",
                    "(1.2913273167214356e-05, 1.4269628081819974e-05)",
                    "(1.2701098967227153e-05, 1.4968579307605978e-05)",
                    "(1.2669605894188862e-05, 1.3846523870597593e-05)",
                    "(1.2645174138015136e-05, 1.3082188161206432e-05)",
                    "(1.2643356058106292e-05, 1.3524097994377371e-05)",
                    "(1.2596412489074282e-05, 1.4192610251484439e-05)",
                    "(1.2574448192026466e-05, 1.4123802429821808e-05)",
                    "(1.2550179235404357e-05, 1.4108902178122662e-05)",
                    "(1.2544181117846165e-05, 1.5817016901564784e-05)",
                    "(1.2485244042181876e-05, 1.2515598427853547e-05)",
                    "(1.2425234672264196e-05, 1.2522298675321508e-05)",
                    "(1.2347566553216893e-05, 1.4947956515243277e-05)",
                    "(1.2297336979827378e-05, 1.3396520444075577e-05)",
                    "(1.2181146303191781e-05, 1.2415433957357891e-05)",
                    "(1.217446697410196e-05, 1.5279367289622314e-05)",
                    "(1.2118260201532394e-05, 1.3733454579778481e-05)",
                    "(1.2064877410011832e-05, 1.2155201147834305e-05)",
                    "(1.1934173016925342e-05, 1.3610819223686121e-05)",
                    "(1.1928813364647795e-05, 1.3340712939680088e-05)",
                    "(1.1843751053675078e-05, 1.3360913726501167e-05)",
                    "(1.1840244042105041e-05, 1.395392700942466e-05)",
                    "(1.1808806448243558e-05, 1.2364090252958704e-05)",
                    "(1.1779564374592155e-05, 1.4146148714644369e-05)",
                    "(1.1696114597725682e-05, 1.3419336028164253e-05)",
                    "(1.167648133559851e-05, 1.365675689157797e-05)",
                    "(1.1668434126477223e-05, 1.583227094670292e-05)",
                    "(1.1462683687568642e-05, 1.156432608695468e-05)",
                    "(1.1429298865550663e-05, 1.2580608199641574e-05)",
                    "(1.130167038354557e-05, 1.2546855941764079e-05)",
                    "(1.128751682699658e-05, 1.3023006431467365e-05)",
                    "(1.1284332686045673e-05, 1.5021427316241898e-05)",
                    "(1.1221414752071723e-05, 1.2588133358804043e-05)",
                    "(1.1153812920383643e-05, 1.1284171705483459e-05)",
                    "(1.1077572708018124e-05, 1.2635271559702232e-05)",
                    "(1.1022113540093414e-05, 1.1062474186473992e-05)",
                    "(1.1011627975676674e-05, 1.1385249308659695e-05)",
                    "(1.1007268767571077e-05, 1.4492900845652912e-05)",
                    "(1.0991187082254328e-05, 1.6273961591650732e-05)",
                    "(1.0979221769957803e-05, 1.1201665074622724e-05)",
                    "(1.0971474694088101e-05, 1.6730133211240172e-05)",
                    "(1.0894729712163098e-05, 1.4591581930289976e-05)",
                    "(1.088702083507087e-05, 1.5871082723606378e-05)",
                    "(1.0671917152649257e-05, 1.0747633496066555e-05)",
                    "(1.0650709555193316e-05, 1.484431868448155e-05)",
                    "(1.0596157153486274e-05, 1.5122033801162615e-05)",
                    "(1.0467698302818462e-05, 1.072138638846809e-05)",
                    "(1.0444645340612624e-05, 1.0456158634042367e-05)",
                    "(1.0427456800243817e-05, 1.474286455049878e-05)",
                    "(1.033448370435508e-05, 1.4836130503681488e-05)",
                    "(1.0326144547434524e-05, 1.538598007755354e-05)",
                    "(1.0325703442504164e-05, 1.0796422429848462e-05)",
                    "(1.0276194188918453e-05, 1.4175197065924294e-05)",
                    "(1.020149647956714e-05, 1.5146683836064767e-05)",
                    "(1.0086082511406858e-05, 1.047834211931331e-05)",
                    "(9.8970158433076e-06, 1.2135560609749518e-05)",
                    "(9.692894309409894e-06, 1.8511456801206805e-05)",
                    "(9.68878794083139e-06, 9.87099701887928e-06)",
                    "(9.668250640970655e-06, 1.5896986951702274e-05)",
                    "(9.600944395060651e-06, 9.614480404707137e-06)",
                    "(9.468727512285113e-06, 1.1130472557852045e-05)",
                    "(9.392412721354049e-06, 9.449969184061047e-06)",
                    "(9.333723028248642e-06, 1.435734247934306e-05)",
                    "(9.289192348660436e-06, 9.480884727963712e-06)",
                    "(9.283408871851861e-06, 1.4866881429043133e-05)",
                    "(9.24810956348665e-06, 1.4903108422004152e-05)",
                    "(9.058753676072229e-06, 1.4599901987821795e-05)",
                    "(9.01009207154857e-06, 1.5192419596132822e-05)",
                    "(8.980116035672836e-06, 1.4859668226563372e-05)",
                    "(8.878446351445746e-06, 2.1233377992757596e-05)",
                    "(8.805931429378688e-06, 1.5762681869091466e-05)",
                    "(8.745303603063803e-06, 1.6068690456449986e-05)",
                    "(7.906823157100007e-06, 8.420370249950793e-06)",
                    "(7.707144504820462e-06, 1.6381107343477197e-05)",
                    "(7.4677500379038975e-06, 1.5794959836057387e-05)",
                    "(7.3640599111968186e-06, 1.89594484254485e-05)",
                    "(6.4339810705860145e-06, 6.443688562285388e-06)",
                    "(6.19809543422889e-06, 1.6494257579324767e-05)"
                  ],
                  "mode": "markers",
                  "name": "H1",
                  "type": "scatter",
                  "x": [
                    0.000019476503439364024,
                    0.000016447569578303955,
                    0.000016356334526790306,
                    0.000015352852642536163,
                    0.000014956064660509583,
                    0.000014720470062457025,
                    0.000014678938896395266,
                    0.000014600944268750027,
                    0.000014551751519320533,
                    0.000014483395716524683,
                    0.000014404854482563678,
                    0.000014225179256754927,
                    0.000014117927094048355,
                    0.0000139390704134712,
                    0.000013913080692873336,
                    0.000013833710909239016,
                    0.000013760601177637,
                    0.00001375851843476994,
                    0.000013646674233314116,
                    0.000013503812624549028,
                    0.000013486891475622542,
                    0.00001337218600383494,
                    0.000013353154827200342,
                    0.000013221416338637937,
                    0.000013189569472160656,
                    0.000013164579286240041,
                    0.00001312570930167567,
                    0.000013088821106066462,
                    0.000013006460903852712,
                    0.000013004071661271155,
                    0.000012913273167214356,
                    0.000012701098967227153,
                    0.000012669605894188862,
                    0.000012645174138015136,
                    0.000012643356058106292,
                    0.000012596412489074282,
                    0.000012574448192026466,
                    0.000012550179235404357,
                    0.000012544181117846165,
                    0.000012485244042181876,
                    0.000012425234672264196,
                    0.000012347566553216893,
                    0.000012297336979827378,
                    0.000012181146303191781,
                    0.00001217446697410196,
                    0.000012118260201532394,
                    0.000012064877410011832,
                    0.000011934173016925342,
                    0.000011928813364647795,
                    0.000011843751053675078,
                    0.000011840244042105041,
                    0.000011808806448243558,
                    0.000011779564374592155,
                    0.000011696114597725682,
                    0.00001167648133559851,
                    0.000011668434126477223,
                    0.000011462683687568642,
                    0.000011429298865550663,
                    0.00001130167038354557,
                    0.00001128751682699658,
                    0.000011284332686045673,
                    0.000011221414752071723,
                    0.000011153812920383643,
                    0.000011077572708018124,
                    0.000011022113540093414,
                    0.000011011627975676674,
                    0.000011007268767571077,
                    0.000010991187082254328,
                    0.000010979221769957803,
                    0.000010971474694088101,
                    0.000010894729712163098,
                    0.00001088702083507087,
                    0.000010671917152649257,
                    0.000010650709555193316,
                    0.000010596157153486274,
                    0.000010467698302818462,
                    0.000010444645340612624,
                    0.000010427456800243817,
                    0.00001033448370435508,
                    0.000010326144547434524,
                    0.000010325703442504164,
                    0.000010276194188918453,
                    0.00001020149647956714,
                    0.000010086082511406858,
                    0.0000098970158433076,
                    0.000009692894309409894,
                    0.00000968878794083139,
                    0.000009668250640970655,
                    0.000009600944395060651,
                    0.000009468727512285113,
                    0.000009392412721354049,
                    0.000009333723028248642,
                    0.000009289192348660436,
                    0.000009283408871851861,
                    0.00000924810956348665,
                    0.000009058753676072229,
                    0.00000901009207154857,
                    0.000008980116035672836,
                    0.000008878446351445746,
                    0.000008805931429378688,
                    0.000008745303603063803,
                    0.000007906823157100007,
                    0.000007707144504820462,
                    0.0000074677500379038975,
                    0.0000073640599111968186,
                    0.0000064339810705860145,
                    0.00000619809543422889
                  ],
                  "y": [
                    0.000019969374989159405,
                    0.00001714500831440091,
                    0.000016492824215674773,
                    0.000016270285414066166,
                    0.000015056859410833567,
                    0.000016564947145525366,
                    0.000015086887287907302,
                    0.000014617824490414932,
                    0.00001468811296945205,
                    0.000015568559319945052,
                    0.000014464550076809246,
                    0.000014404885405383538,
                    0.000014711338735651225,
                    0.000015450110367964953,
                    0.000014171951988828368,
                    0.000015198203072941396,
                    0.000014457848010351881,
                    0.000013878224308427889,
                    0.000014684991583635565,
                    0.00001368804441881366,
                    0.000013690497326024342,
                    0.000013794765436614398,
                    0.000014253920198825654,
                    0.00001359505404252559,
                    0.000014911993275745772,
                    0.000013675228728970978,
                    0.000013279800441523548,
                    0.000013585954548034351,
                    0.000014581803043256514,
                    0.000013271675015857909,
                    0.000014269628081819974,
                    0.000014968579307605978,
                    0.000013846523870597593,
                    0.000013082188161206432,
                    0.000013524097994377371,
                    0.000014192610251484439,
                    0.000014123802429821808,
                    0.000014108902178122662,
                    0.000015817016901564784,
                    0.000012515598427853547,
                    0.000012522298675321508,
                    0.000014947956515243277,
                    0.000013396520444075577,
                    0.000012415433957357891,
                    0.000015279367289622314,
                    0.000013733454579778481,
                    0.000012155201147834305,
                    0.000013610819223686121,
                    0.000013340712939680088,
                    0.000013360913726501167,
                    0.00001395392700942466,
                    0.000012364090252958704,
                    0.000014146148714644369,
                    0.000013419336028164253,
                    0.00001365675689157797,
                    0.00001583227094670292,
                    0.00001156432608695468,
                    0.000012580608199641574,
                    0.000012546855941764079,
                    0.000013023006431467365,
                    0.000015021427316241898,
                    0.000012588133358804043,
                    0.000011284171705483459,
                    0.000012635271559702232,
                    0.000011062474186473992,
                    0.000011385249308659695,
                    0.000014492900845652912,
                    0.000016273961591650732,
                    0.000011201665074622724,
                    0.000016730133211240172,
                    0.000014591581930289976,
                    0.000015871082723606378,
                    0.000010747633496066555,
                    0.00001484431868448155,
                    0.000015122033801162615,
                    0.00001072138638846809,
                    0.000010456158634042367,
                    0.00001474286455049878,
                    0.000014836130503681488,
                    0.00001538598007755354,
                    0.000010796422429848462,
                    0.000014175197065924294,
                    0.000015146683836064767,
                    0.00001047834211931331,
                    0.000012135560609749518,
                    0.000018511456801206805,
                    0.00000987099701887928,
                    0.000015896986951702274,
                    0.000009614480404707137,
                    0.000011130472557852045,
                    0.000009449969184061047,
                    0.00001435734247934306,
                    0.000009480884727963712,
                    0.000014866881429043133,
                    0.000014903108422004152,
                    0.000014599901987821795,
                    0.000015192419596132822,
                    0.000014859668226563372,
                    0.000021233377992757596,
                    0.000015762681869091466,
                    0.000016068690456449986,
                    0.000008420370249950793,
                    0.000016381107343477197,
                    0.000015794959836057387,
                    0.0000189594484254485,
                    0.000006443688562285388,
                    0.000016494257579324767
                  ]
                }
              ],
              "layout": {
                "height": 500,
                "plot_bgcolor": "white",
                "template": {
                  "data": {
                    "bar": [
                      {
                        "error_x": {
                          "color": "#2a3f5f"
                        },
                        "error_y": {
                          "color": "#2a3f5f"
                        },
                        "marker": {
                          "line": {
                            "color": "#E5ECF6",
                            "width": 0.5
                          },
                          "pattern": {
                            "fillmode": "overlay",
                            "size": 10,
                            "solidity": 0.2
                          }
                        },
                        "type": "bar"
                      }
                    ],
                    "barpolar": [
                      {
                        "marker": {
                          "line": {
                            "color": "#E5ECF6",
                            "width": 0.5
                          },
                          "pattern": {
                            "fillmode": "overlay",
                            "size": 10,
                            "solidity": 0.2
                          }
                        },
                        "type": "barpolar"
                      }
                    ],
                    "carpet": [
                      {
                        "aaxis": {
                          "endlinecolor": "#2a3f5f",
                          "gridcolor": "white",
                          "linecolor": "white",
                          "minorgridcolor": "white",
                          "startlinecolor": "#2a3f5f"
                        },
                        "baxis": {
                          "endlinecolor": "#2a3f5f",
                          "gridcolor": "white",
                          "linecolor": "white",
                          "minorgridcolor": "white",
                          "startlinecolor": "#2a3f5f"
                        },
                        "type": "carpet"
                      }
                    ],
                    "choropleth": [
                      {
                        "colorbar": {
                          "outlinewidth": 0,
                          "ticks": ""
                        },
                        "type": "choropleth"
                      }
                    ],
                    "contour": [
                      {
                        "colorbar": {
                          "outlinewidth": 0,
                          "ticks": ""
                        },
                        "colorscale": [
                          [
                            0,
                            "#0d0887"
                          ],
                          [
                            0.1111111111111111,
                            "#46039f"
                          ],
                          [
                            0.2222222222222222,
                            "#7201a8"
                          ],
                          [
                            0.3333333333333333,
                            "#9c179e"
                          ],
                          [
                            0.4444444444444444,
                            "#bd3786"
                          ],
                          [
                            0.5555555555555556,
                            "#d8576b"
                          ],
                          [
                            0.6666666666666666,
                            "#ed7953"
                          ],
                          [
                            0.7777777777777778,
                            "#fb9f3a"
                          ],
                          [
                            0.8888888888888888,
                            "#fdca26"
                          ],
                          [
                            1,
                            "#f0f921"
                          ]
                        ],
                        "type": "contour"
                      }
                    ],
                    "contourcarpet": [
                      {
                        "colorbar": {
                          "outlinewidth": 0,
                          "ticks": ""
                        },
                        "type": "contourcarpet"
                      }
                    ],
                    "heatmap": [
                      {
                        "colorbar": {
                          "outlinewidth": 0,
                          "ticks": ""
                        },
                        "colorscale": [
                          [
                            0,
                            "#0d0887"
                          ],
                          [
                            0.1111111111111111,
                            "#46039f"
                          ],
                          [
                            0.2222222222222222,
                            "#7201a8"
                          ],
                          [
                            0.3333333333333333,
                            "#9c179e"
                          ],
                          [
                            0.4444444444444444,
                            "#bd3786"
                          ],
                          [
                            0.5555555555555556,
                            "#d8576b"
                          ],
                          [
                            0.6666666666666666,
                            "#ed7953"
                          ],
                          [
                            0.7777777777777778,
                            "#fb9f3a"
                          ],
                          [
                            0.8888888888888888,
                            "#fdca26"
                          ],
                          [
                            1,
                            "#f0f921"
                          ]
                        ],
                        "type": "heatmap"
                      }
                    ],
                    "heatmapgl": [
                      {
                        "colorbar": {
                          "outlinewidth": 0,
                          "ticks": ""
                        },
                        "colorscale": [
                          [
                            0,
                            "#0d0887"
                          ],
                          [
                            0.1111111111111111,
                            "#46039f"
                          ],
                          [
                            0.2222222222222222,
                            "#7201a8"
                          ],
                          [
                            0.3333333333333333,
                            "#9c179e"
                          ],
                          [
                            0.4444444444444444,
                            "#bd3786"
                          ],
                          [
                            0.5555555555555556,
                            "#d8576b"
                          ],
                          [
                            0.6666666666666666,
                            "#ed7953"
                          ],
                          [
                            0.7777777777777778,
                            "#fb9f3a"
                          ],
                          [
                            0.8888888888888888,
                            "#fdca26"
                          ],
                          [
                            1,
                            "#f0f921"
                          ]
                        ],
                        "type": "heatmapgl"
                      }
                    ],
                    "histogram": [
                      {
                        "marker": {
                          "pattern": {
                            "fillmode": "overlay",
                            "size": 10,
                            "solidity": 0.2
                          }
                        },
                        "type": "histogram"
                      }
                    ],
                    "histogram2d": [
                      {
                        "colorbar": {
                          "outlinewidth": 0,
                          "ticks": ""
                        },
                        "colorscale": [
                          [
                            0,
                            "#0d0887"
                          ],
                          [
                            0.1111111111111111,
                            "#46039f"
                          ],
                          [
                            0.2222222222222222,
                            "#7201a8"
                          ],
                          [
                            0.3333333333333333,
                            "#9c179e"
                          ],
                          [
                            0.4444444444444444,
                            "#bd3786"
                          ],
                          [
                            0.5555555555555556,
                            "#d8576b"
                          ],
                          [
                            0.6666666666666666,
                            "#ed7953"
                          ],
                          [
                            0.7777777777777778,
                            "#fb9f3a"
                          ],
                          [
                            0.8888888888888888,
                            "#fdca26"
                          ],
                          [
                            1,
                            "#f0f921"
                          ]
                        ],
                        "type": "histogram2d"
                      }
                    ],
                    "histogram2dcontour": [
                      {
                        "colorbar": {
                          "outlinewidth": 0,
                          "ticks": ""
                        },
                        "colorscale": [
                          [
                            0,
                            "#0d0887"
                          ],
                          [
                            0.1111111111111111,
                            "#46039f"
                          ],
                          [
                            0.2222222222222222,
                            "#7201a8"
                          ],
                          [
                            0.3333333333333333,
                            "#9c179e"
                          ],
                          [
                            0.4444444444444444,
                            "#bd3786"
                          ],
                          [
                            0.5555555555555556,
                            "#d8576b"
                          ],
                          [
                            0.6666666666666666,
                            "#ed7953"
                          ],
                          [
                            0.7777777777777778,
                            "#fb9f3a"
                          ],
                          [
                            0.8888888888888888,
                            "#fdca26"
                          ],
                          [
                            1,
                            "#f0f921"
                          ]
                        ],
                        "type": "histogram2dcontour"
                      }
                    ],
                    "mesh3d": [
                      {
                        "colorbar": {
                          "outlinewidth": 0,
                          "ticks": ""
                        },
                        "type": "mesh3d"
                      }
                    ],
                    "parcoords": [
                      {
                        "line": {
                          "colorbar": {
                            "outlinewidth": 0,
                            "ticks": ""
                          }
                        },
                        "type": "parcoords"
                      }
                    ],
                    "pie": [
                      {
                        "automargin": true,
                        "type": "pie"
                      }
                    ],
                    "scatter": [
                      {
                        "fillpattern": {
                          "fillmode": "overlay",
                          "size": 10,
                          "solidity": 0.2
                        },
                        "type": "scatter"
                      }
                    ],
                    "scatter3d": [
                      {
                        "line": {
                          "colorbar": {
                            "outlinewidth": 0,
                            "ticks": ""
                          }
                        },
                        "marker": {
                          "colorbar": {
                            "outlinewidth": 0,
                            "ticks": ""
                          }
                        },
                        "type": "scatter3d"
                      }
                    ],
                    "scattercarpet": [
                      {
                        "marker": {
                          "colorbar": {
                            "outlinewidth": 0,
                            "ticks": ""
                          }
                        },
                        "type": "scattercarpet"
                      }
                    ],
                    "scattergeo": [
                      {
                        "marker": {
                          "colorbar": {
                            "outlinewidth": 0,
                            "ticks": ""
                          }
                        },
                        "type": "scattergeo"
                      }
                    ],
                    "scattergl": [
                      {
                        "marker": {
                          "colorbar": {
                            "outlinewidth": 0,
                            "ticks": ""
                          }
                        },
                        "type": "scattergl"
                      }
                    ],
                    "scattermapbox": [
                      {
                        "marker": {
                          "colorbar": {
                            "outlinewidth": 0,
                            "ticks": ""
                          }
                        },
                        "type": "scattermapbox"
                      }
                    ],
                    "scatterpolar": [
                      {
                        "marker": {
                          "colorbar": {
                            "outlinewidth": 0,
                            "ticks": ""
                          }
                        },
                        "type": "scatterpolar"
                      }
                    ],
                    "scatterpolargl": [
                      {
                        "marker": {
                          "colorbar": {
                            "outlinewidth": 0,
                            "ticks": ""
                          }
                        },
                        "type": "scatterpolargl"
                      }
                    ],
                    "scatterternary": [
                      {
                        "marker": {
                          "colorbar": {
                            "outlinewidth": 0,
                            "ticks": ""
                          }
                        },
                        "type": "scatterternary"
                      }
                    ],
                    "surface": [
                      {
                        "colorbar": {
                          "outlinewidth": 0,
                          "ticks": ""
                        },
                        "colorscale": [
                          [
                            0,
                            "#0d0887"
                          ],
                          [
                            0.1111111111111111,
                            "#46039f"
                          ],
                          [
                            0.2222222222222222,
                            "#7201a8"
                          ],
                          [
                            0.3333333333333333,
                            "#9c179e"
                          ],
                          [
                            0.4444444444444444,
                            "#bd3786"
                          ],
                          [
                            0.5555555555555556,
                            "#d8576b"
                          ],
                          [
                            0.6666666666666666,
                            "#ed7953"
                          ],
                          [
                            0.7777777777777778,
                            "#fb9f3a"
                          ],
                          [
                            0.8888888888888888,
                            "#fdca26"
                          ],
                          [
                            1,
                            "#f0f921"
                          ]
                        ],
                        "type": "surface"
                      }
                    ],
                    "table": [
                      {
                        "cells": {
                          "fill": {
                            "color": "#EBF0F8"
                          },
                          "line": {
                            "color": "white"
                          }
                        },
                        "header": {
                          "fill": {
                            "color": "#C8D4E3"
                          },
                          "line": {
                            "color": "white"
                          }
                        },
                        "type": "table"
                      }
                    ]
                  },
                  "layout": {
                    "annotationdefaults": {
                      "arrowcolor": "#2a3f5f",
                      "arrowhead": 0,
                      "arrowwidth": 1
                    },
                    "autotypenumbers": "strict",
                    "coloraxis": {
                      "colorbar": {
                        "outlinewidth": 0,
                        "ticks": ""
                      }
                    },
                    "colorscale": {
                      "diverging": [
                        [
                          0,
                          "#8e0152"
                        ],
                        [
                          0.1,
                          "#c51b7d"
                        ],
                        [
                          0.2,
                          "#de77ae"
                        ],
                        [
                          0.3,
                          "#f1b6da"
                        ],
                        [
                          0.4,
                          "#fde0ef"
                        ],
                        [
                          0.5,
                          "#f7f7f7"
                        ],
                        [
                          0.6,
                          "#e6f5d0"
                        ],
                        [
                          0.7,
                          "#b8e186"
                        ],
                        [
                          0.8,
                          "#7fbc41"
                        ],
                        [
                          0.9,
                          "#4d9221"
                        ],
                        [
                          1,
                          "#276419"
                        ]
                      ],
                      "sequential": [
                        [
                          0,
                          "#0d0887"
                        ],
                        [
                          0.1111111111111111,
                          "#46039f"
                        ],
                        [
                          0.2222222222222222,
                          "#7201a8"
                        ],
                        [
                          0.3333333333333333,
                          "#9c179e"
                        ],
                        [
                          0.4444444444444444,
                          "#bd3786"
                        ],
                        [
                          0.5555555555555556,
                          "#d8576b"
                        ],
                        [
                          0.6666666666666666,
                          "#ed7953"
                        ],
                        [
                          0.7777777777777778,
                          "#fb9f3a"
                        ],
                        [
                          0.8888888888888888,
                          "#fdca26"
                        ],
                        [
                          1,
                          "#f0f921"
                        ]
                      ],
                      "sequentialminus": [
                        [
                          0,
                          "#0d0887"
                        ],
                        [
                          0.1111111111111111,
                          "#46039f"
                        ],
                        [
                          0.2222222222222222,
                          "#7201a8"
                        ],
                        [
                          0.3333333333333333,
                          "#9c179e"
                        ],
                        [
                          0.4444444444444444,
                          "#bd3786"
                        ],
                        [
                          0.5555555555555556,
                          "#d8576b"
                        ],
                        [
                          0.6666666666666666,
                          "#ed7953"
                        ],
                        [
                          0.7777777777777778,
                          "#fb9f3a"
                        ],
                        [
                          0.8888888888888888,
                          "#fdca26"
                        ],
                        [
                          1,
                          "#f0f921"
                        ]
                      ]
                    },
                    "colorway": [
                      "#636efa",
                      "#EF553B",
                      "#00cc96",
                      "#ab63fa",
                      "#FFA15A",
                      "#19d3f3",
                      "#FF6692",
                      "#B6E880",
                      "#FF97FF",
                      "#FECB52"
                    ],
                    "font": {
                      "color": "#2a3f5f"
                    },
                    "geo": {
                      "bgcolor": "white",
                      "lakecolor": "white",
                      "landcolor": "#E5ECF6",
                      "showlakes": true,
                      "showland": true,
                      "subunitcolor": "white"
                    },
                    "hoverlabel": {
                      "align": "left"
                    },
                    "hovermode": "closest",
                    "mapbox": {
                      "style": "light"
                    },
                    "paper_bgcolor": "white",
                    "plot_bgcolor": "#E5ECF6",
                    "polar": {
                      "angularaxis": {
                        "gridcolor": "white",
                        "linecolor": "white",
                        "ticks": ""
                      },
                      "bgcolor": "#E5ECF6",
                      "radialaxis": {
                        "gridcolor": "white",
                        "linecolor": "white",
                        "ticks": ""
                      }
                    },
                    "scene": {
                      "xaxis": {
                        "backgroundcolor": "#E5ECF6",
                        "gridcolor": "white",
                        "gridwidth": 2,
                        "linecolor": "white",
                        "showbackground": true,
                        "ticks": "",
                        "zerolinecolor": "white"
                      },
                      "yaxis": {
                        "backgroundcolor": "#E5ECF6",
                        "gridcolor": "white",
                        "gridwidth": 2,
                        "linecolor": "white",
                        "showbackground": true,
                        "ticks": "",
                        "zerolinecolor": "white"
                      },
                      "zaxis": {
                        "backgroundcolor": "#E5ECF6",
                        "gridcolor": "white",
                        "gridwidth": 2,
                        "linecolor": "white",
                        "showbackground": true,
                        "ticks": "",
                        "zerolinecolor": "white"
                      }
                    },
                    "shapedefaults": {
                      "line": {
                        "color": "#2a3f5f"
                      }
                    },
                    "ternary": {
                      "aaxis": {
                        "gridcolor": "white",
                        "linecolor": "white",
                        "ticks": ""
                      },
                      "baxis": {
                        "gridcolor": "white",
                        "linecolor": "white",
                        "ticks": ""
                      },
                      "bgcolor": "#E5ECF6",
                      "caxis": {
                        "gridcolor": "white",
                        "linecolor": "white",
                        "ticks": ""
                      }
                    },
                    "title": {
                      "x": 0.05
                    },
                    "xaxis": {
                      "automargin": true,
                      "gridcolor": "white",
                      "linecolor": "white",
                      "ticks": "",
                      "title": {
                        "standoff": 15
                      },
                      "zerolinecolor": "white",
                      "zerolinewidth": 2
                    },
                    "yaxis": {
                      "automargin": true,
                      "gridcolor": "white",
                      "linecolor": "white",
                      "ticks": "",
                      "title": {
                        "standoff": 15
                      },
                      "zerolinecolor": "white",
                      "zerolinewidth": 2
                    }
                  }
                },
                "width": 500,
                "xaxis": {
                  "autorange": false,
                  "exponentformat": "e",
                  "linecolor": "black",
                  "linewidth": 1,
                  "mirror": false,
                  "range": [
                    -4.246675598551519e-7,
                    0.00002165804555261275
                  ],
                  "showexponent": "all",
                  "showline": true,
                  "side": "bottom",
                  "ticks": "outside",
                  "title": {
                    "text": "Birth"
                  },
                  "type": "linear",
                  "zeroline": true
                },
                "yaxis": {
                  "autorange": false,
                  "exponentformat": "e",
                  "linecolor": "black",
                  "linewidth": 1,
                  "mirror": false,
                  "range": [
                    -4.246675598551519e-7,
                    0.00002165804555261275
                  ],
                  "scaleanchor": "x",
                  "scaleratio": 1,
                  "showexponent": "all",
                  "showline": true,
                  "side": "left",
                  "ticks": "outside",
                  "title": {
                    "text": "Death"
                  },
                  "type": "linear",
                  "zeroline": true
                }
              }
            }
          },
          "metadata": {},
          "output_type": "display_data"
        }
      ],
      "source": [
        "data = epochs.get_data(copy = True)[0, 1, :]\n",
        "print(data.shape)\n",
        "embedder = gtda.time_series.SingleTakensEmbedding(parameters_type = 'search', time_delay = 25, dimension = 25)\n",
        "res = embedder.fit_transform(data)\n",
        "print(res.shape)\n",
        "print(embedder.dimension_, embedder.time_delay_)\n",
        "print(embedder.dimension, embedder.time_delay, embedder.stride)\n",
        "\n",
        "\n",
        "persistence = gtda.homology.VietorisRipsPersistence(homology_dimensions = [0, 1], n_jobs = -1)\n",
        "raw_diagram = persistence.fit_transform([ res ])\n",
        "print(raw_diagram.shape)\n",
        "\n",
        "plot = gtda.plotting.plot_diagram(raw_diagram[0])\n",
        "display(plot)"
      ]
    },
    {
      "cell_type": "code",
      "execution_count": 91,
      "metadata": {},
      "outputs": [],
      "source": [
        "regions = [(['Fp1','Fp2','Fpz'], 'Fp', 'Pre-frontal'), (['F7','F3','FT7','FC3'], 'LF', 'Left Frontal'), \n",
        "           (['Fz','FCz'], 'MF', 'Midline Frontal'), (['F4','F8','FC4','FT8'], 'RF', 'Right Frontal'),\n",
        "           (['T3','TP7','T5'], 'LT', 'Left Temporal'), (['T4','TP8','T6'], 'RT', 'Right Temporal'), \n",
        "           (['C3','CP3'], 'LC', 'Left Central'), (['Cz','CPz'], 'MC', 'Midline Central'), (['C4','CP4'], 'RC', 'Right Central'),\n",
        "           (['P3','P5'], 'LP', 'Left Parietal'), (['Pz'], 'MP', 'Midline Parietal'), (['P4','P6'], 'RP', 'Right Parietal'), \n",
        "           (['PO3','PO7','O1'], 'LO', 'Left Occipital'), (['POz','Oz'], 'MO', 'Midline Occipital'), \n",
        "           (['PO4','PO8','O2'], 'RO', 'Right Occipital')]\n",
        "region_masks = [ [ ch_name in reg for ch_name in epochs.ch_names ] for (reg, _, _) in regions]"
      ]
    },
    {
      "cell_type": "code",
      "execution_count": 92,
      "metadata": {},
      "outputs": [
        {
          "name": "stderr",
          "output_type": "stream",
          "text": [
            "  0%|          | 0/15 [00:00<?, ?it/s]"
          ]
        },
        {
          "name": "stderr",
          "output_type": "stream",
          "text": [
            "100%|██████████| 15/15 [00:41<00:00,  2.76s/it]\n"
          ]
        }
      ],
      "source": [
        "features = [ ]\n",
        "for (reg, _, _) in tqdm.tqdm(regions):\n",
        "    mask = [ ch_name in reg for ch_name in epochs.ch_names ]\n",
        "    data = epochs.get_data(copy = True)[:, mask, :]\n",
        "    features.append(calc_features(data))"
      ]
    },
    {
      "cell_type": "code",
      "execution_count": 93,
      "metadata": {},
      "outputs": [
        {
          "data": {
            "text/plain": [
              "(1046, 600)"
            ]
          },
          "execution_count": 93,
          "metadata": {},
          "output_type": "execute_result"
        }
      ],
      "source": [
        "features = numpy.concatenate(features, axis = 1)\n",
        "features.shape"
      ]
    },
    {
      "cell_type": "markdown",
      "metadata": {},
      "source": [
        "### PCA"
      ]
    },
    {
      "cell_type": "code",
      "execution_count": 96,
      "metadata": {},
      "outputs": [
        {
          "name": "stdout",
          "output_type": "stream",
          "text": [
            "(1046, 21)\n",
            "Explained variance 0.95\n",
            "[0.406, 0.271, 0.126, 0.047, 0.016, 0.015, 0.01, 0.007, 0.005, 0.005, 0.005, 0.004, 0.004, 0.004, 0.004, 0.004, 0.003, 0.003, 0.003, 0.003, 0.003]\n"
          ]
        }
      ],
      "source": [
        "N_COMP = 0.95\n",
        "pca = sklearn.decomposition.PCA(n_components = N_COMP, random_state = 0)\n",
        "pca_features = pca.fit_transform(features)\n",
        "\n",
        "print(pca_features.shape)\n",
        "print('Explained variance', round(pca.explained_variance_ratio_.sum(), 2))\n",
        "print([ round(x, 3) for x in pca.explained_variance_ratio_ ])"
      ]
    },
    {
      "cell_type": "markdown",
      "metadata": {},
      "source": [
        "### Save"
      ]
    },
    {
      "cell_type": "code",
      "execution_count": 97,
      "metadata": {},
      "outputs": [
        {
          "data": {
            "text/html": [
              "<div>\n",
              "<style scoped>\n",
              "    .dataframe tbody tr th:only-of-type {\n",
              "        vertical-align: middle;\n",
              "    }\n",
              "\n",
              "    .dataframe tbody tr th {\n",
              "        vertical-align: top;\n",
              "    }\n",
              "\n",
              "    .dataframe thead th {\n",
              "        text-align: right;\n",
              "    }\n",
              "</style>\n",
              "<table border=\"1\" class=\"dataframe\">\n",
              "  <thead>\n",
              "    <tr style=\"text-align: right;\">\n",
              "      <th></th>\n",
              "      <th>0</th>\n",
              "      <th>1</th>\n",
              "      <th>2</th>\n",
              "      <th>3</th>\n",
              "      <th>4</th>\n",
              "      <th>5</th>\n",
              "      <th>6</th>\n",
              "      <th>7</th>\n",
              "      <th>8</th>\n",
              "      <th>9</th>\n",
              "      <th>...</th>\n",
              "      <th>11</th>\n",
              "      <th>12</th>\n",
              "      <th>13</th>\n",
              "      <th>14</th>\n",
              "      <th>15</th>\n",
              "      <th>16</th>\n",
              "      <th>17</th>\n",
              "      <th>18</th>\n",
              "      <th>19</th>\n",
              "      <th>20</th>\n",
              "    </tr>\n",
              "  </thead>\n",
              "  <tbody>\n",
              "    <tr>\n",
              "      <th>0</th>\n",
              "      <td>8.847377</td>\n",
              "      <td>-4.016451</td>\n",
              "      <td>-61.969872</td>\n",
              "      <td>-95.275093</td>\n",
              "      <td>52.928558</td>\n",
              "      <td>-1.291013</td>\n",
              "      <td>36.163932</td>\n",
              "      <td>-8.965759</td>\n",
              "      <td>-21.090545</td>\n",
              "      <td>35.645368</td>\n",
              "      <td>...</td>\n",
              "      <td>-3.526950</td>\n",
              "      <td>-1.215692</td>\n",
              "      <td>12.030095</td>\n",
              "      <td>11.011627</td>\n",
              "      <td>6.505370</td>\n",
              "      <td>-6.811426</td>\n",
              "      <td>19.361669</td>\n",
              "      <td>-7.282547</td>\n",
              "      <td>-2.789204</td>\n",
              "      <td>36.583829</td>\n",
              "    </tr>\n",
              "    <tr>\n",
              "      <th>1</th>\n",
              "      <td>13.445247</td>\n",
              "      <td>-2.689382</td>\n",
              "      <td>-64.283438</td>\n",
              "      <td>-96.795876</td>\n",
              "      <td>51.592194</td>\n",
              "      <td>6.107595</td>\n",
              "      <td>50.449724</td>\n",
              "      <td>-39.089118</td>\n",
              "      <td>-24.451973</td>\n",
              "      <td>44.192448</td>\n",
              "      <td>...</td>\n",
              "      <td>3.124952</td>\n",
              "      <td>-16.376922</td>\n",
              "      <td>51.087044</td>\n",
              "      <td>20.527771</td>\n",
              "      <td>-10.236448</td>\n",
              "      <td>1.222991</td>\n",
              "      <td>-9.906664</td>\n",
              "      <td>12.248852</td>\n",
              "      <td>-6.134075</td>\n",
              "      <td>27.561759</td>\n",
              "    </tr>\n",
              "    <tr>\n",
              "      <th>2</th>\n",
              "      <td>12.908029</td>\n",
              "      <td>-3.277698</td>\n",
              "      <td>-74.280787</td>\n",
              "      <td>-114.357238</td>\n",
              "      <td>21.614997</td>\n",
              "      <td>24.005922</td>\n",
              "      <td>16.910543</td>\n",
              "      <td>4.235623</td>\n",
              "      <td>9.726376</td>\n",
              "      <td>1.862521</td>\n",
              "      <td>...</td>\n",
              "      <td>2.215603</td>\n",
              "      <td>-14.089287</td>\n",
              "      <td>8.413810</td>\n",
              "      <td>23.131829</td>\n",
              "      <td>12.542008</td>\n",
              "      <td>-5.414404</td>\n",
              "      <td>-2.057474</td>\n",
              "      <td>1.000680</td>\n",
              "      <td>11.337565</td>\n",
              "      <td>9.285104</td>\n",
              "    </tr>\n",
              "    <tr>\n",
              "      <th>3</th>\n",
              "      <td>7.608463</td>\n",
              "      <td>-2.391955</td>\n",
              "      <td>-113.397554</td>\n",
              "      <td>-88.160057</td>\n",
              "      <td>18.036385</td>\n",
              "      <td>1.185099</td>\n",
              "      <td>28.955233</td>\n",
              "      <td>-27.634314</td>\n",
              "      <td>19.936958</td>\n",
              "      <td>15.271176</td>\n",
              "      <td>...</td>\n",
              "      <td>29.205029</td>\n",
              "      <td>-4.917952</td>\n",
              "      <td>52.644953</td>\n",
              "      <td>6.142036</td>\n",
              "      <td>-10.117352</td>\n",
              "      <td>13.578513</td>\n",
              "      <td>-3.865928</td>\n",
              "      <td>-15.979548</td>\n",
              "      <td>5.747301</td>\n",
              "      <td>13.043356</td>\n",
              "    </tr>\n",
              "    <tr>\n",
              "      <th>4</th>\n",
              "      <td>10.311709</td>\n",
              "      <td>-4.055697</td>\n",
              "      <td>-59.182656</td>\n",
              "      <td>-111.914778</td>\n",
              "      <td>63.426524</td>\n",
              "      <td>2.857095</td>\n",
              "      <td>22.658269</td>\n",
              "      <td>0.900566</td>\n",
              "      <td>-4.613810</td>\n",
              "      <td>29.313960</td>\n",
              "      <td>...</td>\n",
              "      <td>20.894098</td>\n",
              "      <td>-6.287272</td>\n",
              "      <td>29.693501</td>\n",
              "      <td>-4.240883</td>\n",
              "      <td>-4.967425</td>\n",
              "      <td>18.989474</td>\n",
              "      <td>14.564089</td>\n",
              "      <td>-5.545428</td>\n",
              "      <td>-11.860615</td>\n",
              "      <td>24.303588</td>\n",
              "    </tr>\n",
              "    <tr>\n",
              "      <th>...</th>\n",
              "      <td>...</td>\n",
              "      <td>...</td>\n",
              "      <td>...</td>\n",
              "      <td>...</td>\n",
              "      <td>...</td>\n",
              "      <td>...</td>\n",
              "      <td>...</td>\n",
              "      <td>...</td>\n",
              "      <td>...</td>\n",
              "      <td>...</td>\n",
              "      <td>...</td>\n",
              "      <td>...</td>\n",
              "      <td>...</td>\n",
              "      <td>...</td>\n",
              "      <td>...</td>\n",
              "      <td>...</td>\n",
              "      <td>...</td>\n",
              "      <td>...</td>\n",
              "      <td>...</td>\n",
              "      <td>...</td>\n",
              "      <td>...</td>\n",
              "    </tr>\n",
              "    <tr>\n",
              "      <th>1041</th>\n",
              "      <td>8.096775</td>\n",
              "      <td>-0.868272</td>\n",
              "      <td>-47.068219</td>\n",
              "      <td>114.815747</td>\n",
              "      <td>-0.084687</td>\n",
              "      <td>19.925814</td>\n",
              "      <td>33.416374</td>\n",
              "      <td>-13.797972</td>\n",
              "      <td>-34.597704</td>\n",
              "      <td>-21.596677</td>\n",
              "      <td>...</td>\n",
              "      <td>18.966750</td>\n",
              "      <td>-13.807806</td>\n",
              "      <td>7.113084</td>\n",
              "      <td>14.204717</td>\n",
              "      <td>8.733151</td>\n",
              "      <td>-35.059608</td>\n",
              "      <td>2.493011</td>\n",
              "      <td>-6.766365</td>\n",
              "      <td>24.590823</td>\n",
              "      <td>32.096429</td>\n",
              "    </tr>\n",
              "    <tr>\n",
              "      <th>1042</th>\n",
              "      <td>9.563051</td>\n",
              "      <td>0.603142</td>\n",
              "      <td>-64.742229</td>\n",
              "      <td>146.274716</td>\n",
              "      <td>20.086640</td>\n",
              "      <td>27.442435</td>\n",
              "      <td>62.747348</td>\n",
              "      <td>12.431653</td>\n",
              "      <td>-21.612463</td>\n",
              "      <td>4.733085</td>\n",
              "      <td>...</td>\n",
              "      <td>-9.384092</td>\n",
              "      <td>-21.901677</td>\n",
              "      <td>-16.714553</td>\n",
              "      <td>3.382169</td>\n",
              "      <td>20.305097</td>\n",
              "      <td>-30.491251</td>\n",
              "      <td>-1.695099</td>\n",
              "      <td>-3.424006</td>\n",
              "      <td>27.848378</td>\n",
              "      <td>7.519928</td>\n",
              "    </tr>\n",
              "    <tr>\n",
              "      <th>1043</th>\n",
              "      <td>47.634150</td>\n",
              "      <td>-3.047847</td>\n",
              "      <td>7.592097</td>\n",
              "      <td>13.822040</td>\n",
              "      <td>-43.062603</td>\n",
              "      <td>24.744937</td>\n",
              "      <td>16.319650</td>\n",
              "      <td>-0.583771</td>\n",
              "      <td>1.567183</td>\n",
              "      <td>0.091745</td>\n",
              "      <td>...</td>\n",
              "      <td>33.071118</td>\n",
              "      <td>-16.569142</td>\n",
              "      <td>-19.659994</td>\n",
              "      <td>10.086866</td>\n",
              "      <td>4.000375</td>\n",
              "      <td>-2.897365</td>\n",
              "      <td>-24.183573</td>\n",
              "      <td>13.623421</td>\n",
              "      <td>4.600639</td>\n",
              "      <td>20.958768</td>\n",
              "    </tr>\n",
              "    <tr>\n",
              "      <th>1044</th>\n",
              "      <td>5.496078</td>\n",
              "      <td>-4.095504</td>\n",
              "      <td>42.217944</td>\n",
              "      <td>-10.089893</td>\n",
              "      <td>-33.415309</td>\n",
              "      <td>19.667627</td>\n",
              "      <td>25.785302</td>\n",
              "      <td>17.915898</td>\n",
              "      <td>-16.221369</td>\n",
              "      <td>-8.248345</td>\n",
              "      <td>...</td>\n",
              "      <td>6.424340</td>\n",
              "      <td>2.504069</td>\n",
              "      <td>-8.383155</td>\n",
              "      <td>30.809195</td>\n",
              "      <td>-13.886724</td>\n",
              "      <td>11.989083</td>\n",
              "      <td>5.187752</td>\n",
              "      <td>-15.928666</td>\n",
              "      <td>20.752475</td>\n",
              "      <td>-0.385417</td>\n",
              "    </tr>\n",
              "    <tr>\n",
              "      <th>1045</th>\n",
              "      <td>-37.677826</td>\n",
              "      <td>-3.407676</td>\n",
              "      <td>112.311864</td>\n",
              "      <td>-21.561251</td>\n",
              "      <td>-3.236626</td>\n",
              "      <td>17.627624</td>\n",
              "      <td>17.420435</td>\n",
              "      <td>-10.372766</td>\n",
              "      <td>-3.987104</td>\n",
              "      <td>24.572745</td>\n",
              "      <td>...</td>\n",
              "      <td>27.889198</td>\n",
              "      <td>-6.056226</td>\n",
              "      <td>-16.451465</td>\n",
              "      <td>2.160808</td>\n",
              "      <td>-22.806716</td>\n",
              "      <td>-13.286325</td>\n",
              "      <td>-3.394747</td>\n",
              "      <td>24.836197</td>\n",
              "      <td>29.340231</td>\n",
              "      <td>-3.944205</td>\n",
              "    </tr>\n",
              "  </tbody>\n",
              "</table>\n",
              "<p>1046 rows × 21 columns</p>\n",
              "</div>"
            ],
            "text/plain": [
              "             0         1           2           3          4          5   \\\n",
              "0      8.847377 -4.016451  -61.969872  -95.275093  52.928558  -1.291013   \n",
              "1     13.445247 -2.689382  -64.283438  -96.795876  51.592194   6.107595   \n",
              "2     12.908029 -3.277698  -74.280787 -114.357238  21.614997  24.005922   \n",
              "3      7.608463 -2.391955 -113.397554  -88.160057  18.036385   1.185099   \n",
              "4     10.311709 -4.055697  -59.182656 -111.914778  63.426524   2.857095   \n",
              "...         ...       ...         ...         ...        ...        ...   \n",
              "1041   8.096775 -0.868272  -47.068219  114.815747  -0.084687  19.925814   \n",
              "1042   9.563051  0.603142  -64.742229  146.274716  20.086640  27.442435   \n",
              "1043  47.634150 -3.047847    7.592097   13.822040 -43.062603  24.744937   \n",
              "1044   5.496078 -4.095504   42.217944  -10.089893 -33.415309  19.667627   \n",
              "1045 -37.677826 -3.407676  112.311864  -21.561251  -3.236626  17.627624   \n",
              "\n",
              "             6          7          8          9   ...         11         12  \\\n",
              "0     36.163932  -8.965759 -21.090545  35.645368  ...  -3.526950  -1.215692   \n",
              "1     50.449724 -39.089118 -24.451973  44.192448  ...   3.124952 -16.376922   \n",
              "2     16.910543   4.235623   9.726376   1.862521  ...   2.215603 -14.089287   \n",
              "3     28.955233 -27.634314  19.936958  15.271176  ...  29.205029  -4.917952   \n",
              "4     22.658269   0.900566  -4.613810  29.313960  ...  20.894098  -6.287272   \n",
              "...         ...        ...        ...        ...  ...        ...        ...   \n",
              "1041  33.416374 -13.797972 -34.597704 -21.596677  ...  18.966750 -13.807806   \n",
              "1042  62.747348  12.431653 -21.612463   4.733085  ...  -9.384092 -21.901677   \n",
              "1043  16.319650  -0.583771   1.567183   0.091745  ...  33.071118 -16.569142   \n",
              "1044  25.785302  17.915898 -16.221369  -8.248345  ...   6.424340   2.504069   \n",
              "1045  17.420435 -10.372766  -3.987104  24.572745  ...  27.889198  -6.056226   \n",
              "\n",
              "             13         14         15         16         17         18  \\\n",
              "0     12.030095  11.011627   6.505370  -6.811426  19.361669  -7.282547   \n",
              "1     51.087044  20.527771 -10.236448   1.222991  -9.906664  12.248852   \n",
              "2      8.413810  23.131829  12.542008  -5.414404  -2.057474   1.000680   \n",
              "3     52.644953   6.142036 -10.117352  13.578513  -3.865928 -15.979548   \n",
              "4     29.693501  -4.240883  -4.967425  18.989474  14.564089  -5.545428   \n",
              "...         ...        ...        ...        ...        ...        ...   \n",
              "1041   7.113084  14.204717   8.733151 -35.059608   2.493011  -6.766365   \n",
              "1042 -16.714553   3.382169  20.305097 -30.491251  -1.695099  -3.424006   \n",
              "1043 -19.659994  10.086866   4.000375  -2.897365 -24.183573  13.623421   \n",
              "1044  -8.383155  30.809195 -13.886724  11.989083   5.187752 -15.928666   \n",
              "1045 -16.451465   2.160808 -22.806716 -13.286325  -3.394747  24.836197   \n",
              "\n",
              "             19         20  \n",
              "0     -2.789204  36.583829  \n",
              "1     -6.134075  27.561759  \n",
              "2     11.337565   9.285104  \n",
              "3      5.747301  13.043356  \n",
              "4    -11.860615  24.303588  \n",
              "...         ...        ...  \n",
              "1041  24.590823  32.096429  \n",
              "1042  27.848378   7.519928  \n",
              "1043   4.600639  20.958768  \n",
              "1044  20.752475  -0.385417  \n",
              "1045  29.340231  -3.944205  \n",
              "\n",
              "[1046 rows x 21 columns]"
            ]
          },
          "execution_count": 97,
          "metadata": {},
          "output_type": "execute_result"
        }
      ],
      "source": [
        "df = pandas.DataFrame(pca_features)\n",
        "df.to_feather(f\"{subj}/{exp}/features.feather\")\n",
        "df"
      ]
    }
  ],
  "metadata": {
    "colab": {
      "provenance": []
    },
    "kernelspec": {
      "display_name": "Python 3",
      "name": "python3"
    },
    "language_info": {
      "codemirror_mode": {
        "name": "ipython",
        "version": 3
      },
      "file_extension": ".py",
      "mimetype": "text/x-python",
      "name": "python",
      "nbconvert_exporter": "python",
      "pygments_lexer": "ipython3",
      "version": "3.10.11"
    }
  },
  "nbformat": 4,
  "nbformat_minor": 0
}
