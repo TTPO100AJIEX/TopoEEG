{
  "cells": [
    {
      "cell_type": "code",
      "execution_count": 1,
      "metadata": {},
      "outputs": [],
      "source": [
        "import os\n",
        "\n",
        "subj = \"Subj1\"\n",
        "exp = \"exp_iv\"\n",
        "print_obj = 29\n",
        "os.makedirs(f\"{subj}/{exp}\", exist_ok = True)"
      ]
    },
    {
      "cell_type": "markdown",
      "metadata": {},
      "source": [
        "### Imports"
      ]
    },
    {
      "cell_type": "code",
      "execution_count": 1,
      "metadata": {},
      "outputs": [],
      "source": [
        "%load_ext autoreload\n",
        "%autoreload 2\n",
        "\n",
        "import warnings\n",
        "import collections\n",
        "warnings.filterwarnings(\"ignore\")\n",
        "\n",
        "import mne\n",
        "import tqdm\n",
        "import scipy\n",
        "import numpy\n",
        "import pandas\n",
        "import scipy.stats\n",
        "import gtda.curves\n",
        "import tqdm.contrib\n",
        "import gtda.plotting\n",
        "import gtda.homology\n",
        "import gtda.diagrams\n",
        "import gtda.time_series\n",
        "import sklearn.preprocessing\n",
        "import sklearn.decomposition\n",
        "import tqdm.contrib.itertools\n",
        "import matplotlib.pyplot as plt\n",
        "import matplotlib.patches as ptchs\n",
        "pandas.options.display.float_format = '{:,.2f}'.format"
      ]
    },
    {
      "cell_type": "markdown",
      "metadata": {},
      "source": [
        "#### IV"
      ]
    },
    {
      "cell_type": "code",
      "execution_count": 3,
      "metadata": {},
      "outputs": [],
      "source": [
        "def calc_IV(feature: numpy.ndarray, target: numpy.ndarray, bins: int = 10) -> float:\n",
        "    if len(numpy.unique(feature)) > 10:\n",
        "        feature = pandas.qcut(feature, bins, duplicates = 'drop')\n",
        "    df = pandas.DataFrame({ 'x': feature, 'y': target })\n",
        "    df = df.groupby(\"x\", as_index = False).agg({ \"y\": [ \"count\", \"sum\" ] })\n",
        "    df.columns = [ 'Cutoff', 'N', 'Events' ]\n",
        "\n",
        "    # Calculate % of events in each group.\n",
        "    df['% of Events'] = numpy.maximum(df['Events'], 0.5) / df['Events'].sum()\n",
        "\n",
        "    # Calculate the non events in each group.\n",
        "    df['Non-Events'] = df['N'] - df['Events']\n",
        "    # Calculate % of non events in each group.\n",
        "    df['% of Non-Events'] = numpy.maximum(df['Non-Events'], 0.5) / df['Non-Events'].sum()\n",
        "\n",
        "    # Calculate WOE by taking natural log of division of % of non-events and % of events\n",
        "    df['WoE'] = numpy.log(df['% of Events'] / df['% of Non-Events'])\n",
        "    df['IV'] = df['WoE'] * (df['% of Events'] - df['% of Non-Events'])\n",
        "\n",
        "    return df['IV'].sum()"
      ]
    },
    {
      "cell_type": "code",
      "execution_count": 80,
      "metadata": {},
      "outputs": [],
      "source": [
        "# Calculation of IV and WoE for given DataFrame of features and given clustering labels \n",
        "def calc_IV_clust(features: pandas.DataFrame, labels: numpy.ndarray, bins: int = 10) -> pandas.DataFrame:\n",
        "    IV = [ ]\n",
        "    for feature_name in tqdm.tqdm(features.columns):\n",
        "        IVs = [ ]\n",
        "        feature = features[feature_name].to_numpy()\n",
        "        for cluster in numpy.unique(labels):\n",
        "            target = (labels == cluster).astype(int)\n",
        "            IVs.append(calc_IV(feature, target, bins))\n",
        "        IV.append({ 'Feature': feature_name, 'IV': numpy.mean(IVs), 'IVs': IVs })\n",
        "    return pandas.DataFrame(IV)"
      ]
    },
    {
      "cell_type": "markdown",
      "metadata": {},
      "source": [
        "### Features"
      ]
    },
    {
      "cell_type": "code",
      "execution_count": 5,
      "metadata": {},
      "outputs": [
        {
          "name": "stdout",
          "output_type": "stream",
          "text": [
            "[   0   39  282  492  560  682  784  857  976 1046]\n",
            "[0. 0. 0. ... 8. 8. 8.]\n"
          ]
        }
      ],
      "source": [
        "edges_true = numpy.loadtxt(f\"{subj}/reproduction/internal/best_edges.txt\").astype(numpy.int32)\n",
        "print(edges_true)\n",
        "\n",
        "import SDA.stageprocess\n",
        "labels_true = SDA.stageprocess.form_stage_bands(edges_true)[1]\n",
        "print(labels_true)"
      ]
    },
    {
      "cell_type": "code",
      "execution_count": 23,
      "metadata": {},
      "outputs": [
        {
          "name": "stdout",
          "output_type": "stream",
          "text": [
            "Reading d:\\HSE\\year-3\\HSE\\CourseProject\\Subj1\\src\\epochs_filt_rr-epo.fif ...\n",
            "    Found the data of interest:\n",
            "        t =    -500.00 ...     500.00 ms\n",
            "        0 CTF compensation matrices available\n",
            "Not setting metadata\n",
            "1046 matching events found\n",
            "No baseline correction applied\n",
            "0 projection items activated\n",
            "No projector specified for this dataset. Please consider the method self.add_proj.\n"
          ]
        },
        {
          "data": {
            "image/png": "[encoded data removed]",
            "text/plain": [
              "<Figure size 800x420 with 6 Axes>"
            ]
          },
          "metadata": {},
          "output_type": "display_data"
        }
      ],
      "source": [
        "epochs = mne.read_epochs(f\"{subj}/src/epochs_filt_rr-epo.fif\")\n",
        "g = epochs.average().plot_joint().savefig(f\"{subj}/{exp}/eeg.svg\")\n",
        "data = epochs.get_data(copy = True)\n",
        "n_features = data.shape[1]"
      ]
    },
    {
      "cell_type": "markdown",
      "metadata": {},
      "source": [
        "#### Settings"
      ]
    },
    {
      "cell_type": "code",
      "execution_count": 91,
      "metadata": {},
      "outputs": [],
      "source": [
        "FILTERING_PERCENTILE = 15\n",
        "IV_THRESHOLD = 0.8\n",
        "\n",
        "STRIDE = 3\n",
        "MAX_TIME_DELAY = 20\n",
        "MAX_DIMENSION = 20\n",
        "HOMOLOGY_DIMENSIONS = [ 1, 2 ]\n",
        "READ_EMBEDDER_PARAMS_FROM_DISK = True\n",
        "\n",
        "DISSIM_DIMENSION = 64\n",
        "DISSIM_TIME_DELAY = 1\n",
        "DISSIM_STRIDE = 16\n",
        "DISSIM_HOMOLOGY_DIMENSIONS = [ 1, 2, 3, 4, 5 ]\n",
        "\n",
        "OVERALL_DIMENSION = 5\n",
        "OVERALL_TIME_DELAY = 11\n",
        "OVERALL_STRIDE = 3\n",
        "OVERALL_HOMOLOGY_DIMENSIONS = [ 1, 2, 3 ]"
      ]
    },
    {
      "cell_type": "markdown",
      "metadata": {},
      "source": [
        "#### Utilities"
      ]
    },
    {
      "cell_type": "code",
      "execution_count": 8,
      "metadata": {},
      "outputs": [
        {
          "name": "stdout",
          "output_type": "stream",
          "text": [
            "(9, 64)\n"
          ]
        },
        {
          "data": {
            "image/png": "[encoded data removed]",
            "text/plain": [
              "<Figure size 2000x10000 with 1 Axes>"
            ]
          },
          "metadata": {},
          "output_type": "display_data"
        }
      ],
      "source": [
        "def draw(dimension, time_delay, stride, res = 200):\n",
        "    data = numpy.arange(res)\n",
        "    embedder = gtda.time_series.SingleTakensEmbedding(parameters_type = 'fixed', time_delay = time_delay, dimension = dimension, stride = stride)\n",
        "    points = embedder.fit_transform(data)\n",
        "    print(points.shape)\n",
        "    fig, ax = plt.subplots(1, 1, figsize = (20, 100))\n",
        "    ax.grid()\n",
        "    ax.set_aspect('equal')\n",
        "    ax.set_xlim(0, res)\n",
        "    ax.set_ylim(points.shape[0], 0)\n",
        "    ax.set_xticks(data)\n",
        "    ax.set_yticks(numpy.arange(points.shape[0]))\n",
        "    ax.xaxis.set_ticklabels([])\n",
        "    ax.yaxis.set_ticklabels([])\n",
        "    for i in range(points.shape[0]):\n",
        "        for item in points[i]:\n",
        "            rect = ptchs.Rectangle((item, i), 1, 1, facecolor = 'green')\n",
        "            ax.add_patch(rect)\n",
        "\n",
        "draw(DISSIM_DIMENSION, DISSIM_TIME_DELAY, DISSIM_STRIDE)"
      ]
    },
    {
      "cell_type": "code",
      "execution_count": 18,
      "metadata": {},
      "outputs": [],
      "source": [
        "class FeatureCalculator:\n",
        "    def determine_filtering_epsilon(self, diagram):\n",
        "        life = (diagram[:, :, 1] - diagram[:, :, 0]).flatten()\n",
        "        life = life[life != 0]\n",
        "        return numpy.percentile(life, FILTERING_PERCENTILE)\n",
        "    \n",
        "    def apply_filtering(self, diagrams):\n",
        "        eps = self.determine_filtering_epsilon(diagrams)\n",
        "        self.filtering = gtda.diagrams.Filtering(epsilon = eps)\n",
        "        return self.filtering.fit_transform(diagrams)\n",
        "\n",
        "\n",
        "    def calc_stats(self, data: numpy.ndarray, prefix: str = \"\") -> pandas.DataFrame:\n",
        "        assert len(data.shape) == 1\n",
        "        if data.shape == (0,): data = numpy.array([ 0 ])\n",
        "        stats = numpy.array([\n",
        "            numpy.max(data), numpy.mean(data), numpy.std(data), numpy.sum(data), numpy.linalg.norm(data),\n",
        "            numpy.percentile(data, 25), numpy.median(data), numpy.percentile(data, 75), numpy.percentile(data, 90),\n",
        "            scipy.stats.kurtosis(data), scipy.stats.skew(data)\n",
        "        ])\n",
        "        names = [ \"max\", \"mean\", \"std\", \"sum\", \"norm\", \"percentile-25\", \"median\", \"percentile-75\", \"percentile-90\", \"kurtosis\", \"skew\" ]\n",
        "        return pandas.DataFrame([ numpy.nan_to_num(stats) ], columns = [ f\"{prefix} {name}\" for name in names ])\n",
        "    \n",
        "\n",
        "    def calc_betti_features(self, diagrams: numpy.ndarray, prefix: str = \"\") -> pandas.DataFrame:\n",
        "        self.betti_curve = gtda.diagrams.BettiCurve()\n",
        "        self.betti_derivative = gtda.curves.Derivative()\n",
        "\n",
        "        betti_curves = self.betti_curve.fit_transform(diagrams)\n",
        "        betti_curves = self.betti_derivative.fit_transform(betti_curves)\n",
        "\n",
        "        features = [ ]\n",
        "        for curves in tqdm.tqdm(betti_curves):\n",
        "            features.append([ ])\n",
        "            for dim, curve in zip(self.betti_curve.homology_dimensions_, curves):\n",
        "                features[-1].append(self.calc_stats(curve, prefix = f'{prefix} betti-{dim}'))\n",
        "            features[-1] = pandas.concat(features[-1], axis = 1)\n",
        "        return pandas.concat(features, axis = 0)\n",
        "    \n",
        "    def calc_entropy_features(self, diagrams: numpy.ndarray, prefix: str = \"\") -> pandas.DataFrame:\n",
        "        self.entropy = gtda.diagrams.PersistenceEntropy(normalize = True, nan_fill_value = 0)\n",
        "        features = self.entropy.fit_transform(diagrams)\n",
        "        names = [ f'{prefix} entropy-{dim}' for dim in self.entropy.homology_dimensions_ ]\n",
        "        return pandas.DataFrame(features, columns = names)\n",
        "    \n",
        "    def calc_number_of_points_features(self, diagrams: numpy.ndarray, prefix: str = \"\") -> pandas.DataFrame:\n",
        "        self.number_of_points = gtda.diagrams.NumberOfPoints()\n",
        "        features = self.number_of_points.fit_transform(diagrams)\n",
        "        names = [ f'{prefix} numberofpoints-{dim}' for dim in self.number_of_points.homology_dimensions_ ]\n",
        "        return pandas.DataFrame(features, columns = names)\n",
        "    \n",
        "    def calc_amplitude_features(self, diagrams: numpy.ndarray, prefix: str = \"\", metric: str = None) -> pandas.DataFrame:\n",
        "        if metric is None:\n",
        "            features = [ ]\n",
        "            self.amplitudes = [ ]\n",
        "            for metric in tqdm.tqdm([ 'bottleneck', 'wasserstein', 'betti', 'landscape', 'silhouette' ]):\n",
        "                features.append(self.calc_amplitude_features(diagrams, prefix, metric))\n",
        "            return pandas.concat(features, axis = 1)\n",
        "        else:\n",
        "            amplitude = gtda.diagrams.Amplitude(metric = metric)\n",
        "            self.amplitudes.append(amplitude)\n",
        "            features = amplitude.fit_transform(diagrams)\n",
        "            return pandas.concat([\n",
        "                pandas.DataFrame(features, columns = [ f'{prefix} {metric}-amplitude-{dim}' for dim in amplitude.homology_dimensions_ ]),\n",
        "                pandas.DataFrame(numpy.linalg.norm(features, axis = 1).reshape(-1, 1), columns = [ f'{prefix} {metric}-amplitude-norm' ])\n",
        "            ], axis = 1)\n",
        "    \n",
        "    def calc_lifetime_features(self, diagrams: numpy.ndarray, prefix: str = \"\") -> pandas.DataFrame:\n",
        "        if len(diagrams.shape) == 3:\n",
        "            features = [ ]\n",
        "            for diag in tqdm.tqdm(diagrams):\n",
        "                features.append(self.calc_lifetime_features(diag, prefix))\n",
        "            return pandas.concat(features, axis = 0)\n",
        "\n",
        "        birth, death, dim = diagrams[:, 0], diagrams[:, 1], diagrams[:, 2]\n",
        "        life = death - birth\n",
        "        \n",
        "        eps = self.filtering.epsilon\n",
        "        birth, death, dim = birth[life >= eps], death[life >= eps], dim[life >= eps]\n",
        "        bd2 = (birth + death) / 2.0\n",
        "        life = death - birth\n",
        "\n",
        "        bd2_features = [ self.calc_stats(bd2, f'{prefix} bd2-all') ]\n",
        "        life_features = [ self.calc_stats(life, f'{prefix} life-all') ]\n",
        "        for d in numpy.unique(diagrams[:, 2]).astype(int):\n",
        "            bd2_features.append(self.calc_stats(bd2[dim == d], f'{prefix} bd2-{d}'))\n",
        "            life_features.append(self.calc_stats(life[dim == d], f'{prefix} life-{d}'))\n",
        "        return pandas.concat([ *life_features, *bd2_features ], axis = 1)\n",
        "        \n",
        "\n",
        "    def calc_features(self, diagrams: numpy.ndarray, prefix: str = \"\") -> pandas.DataFrame:\n",
        "        diagrams = self.apply_filtering(diagrams)\n",
        "        return pandas.concat([\n",
        "           self.calc_betti_features           (diagrams, prefix).reset_index(drop = True),\n",
        "           self.calc_entropy_features         (diagrams, prefix).reset_index(drop = True),\n",
        "           self.calc_number_of_points_features(diagrams, prefix).reset_index(drop = True),\n",
        "           self.calc_amplitude_features       (diagrams, prefix).reset_index(drop = True),\n",
        "           self.calc_lifetime_features        (diagrams, prefix).reset_index(drop = True)\n",
        "        ], axis = 1)\n",
        "\n",
        "\n",
        "    def pca(self, features: numpy.ndarray, scale = False, n_comp = 0.7, var_limit = None, random_state = 42) -> numpy.ndarray:\n",
        "        if scale:\n",
        "            features = sklearn.preprocessing.StandardScaler().fit_transform(features)\n",
        "\n",
        "        if var_limit is not None:\n",
        "            pca = sklearn.decomposition.PCA(random_state = random_state).fit(features)\n",
        "            n_comp = (pca.explained_variance_ratio_ >= var_limit).sum()\n",
        "\n",
        "        pca = sklearn.decomposition.PCA(n_components = n_comp, random_state = random_state)\n",
        "        features = pca.fit_transform(features)\n",
        "\n",
        "        print('Components:', n_comp)\n",
        "        print('Explained variance:', round(pca.explained_variance_ratio_.sum(), 2))\n",
        "        print([ round(x, 3) for x in pca.explained_variance_ratio_ ])\n",
        "        return features"
      ]
    },
    {
      "cell_type": "markdown",
      "metadata": {},
      "source": [
        "#### Takens Embeddings & VietorisRipsPersistence"
      ]
    },
    {
      "cell_type": "markdown",
      "metadata": {},
      "source": [
        "##### TakensEmbedding"
      ]
    },
    {
      "cell_type": "code",
      "execution_count": 10,
      "metadata": {},
      "outputs": [
        {
          "name": "stdout",
          "output_type": "stream",
          "text": [
            "40\n",
            "1046\n"
          ]
        }
      ],
      "source": [
        "if READ_EMBEDDER_PARAMS_FROM_DISK:\n",
        "    embedders_params = [ ]\n",
        "    for params_data in numpy.load(f\"{subj}/{exp}/embedders_params.npy\"):\n",
        "        embedders_params.append(list(map(tuple, params_data)))\n",
        "else:\n",
        "    searcher = gtda.time_series.SingleTakensEmbedding(parameters_type = 'search', time_delay = MAX_TIME_DELAY, dimension = MAX_DIMENSION, stride = STRIDE, n_jobs = -1)\n",
        "    embedders_params = [ [ ] for _ in range(data.shape[1]) ]\n",
        "    for i, j in tqdm.contrib.itertools.product(range(data.shape[0]), range(data.shape[1])):\n",
        "        searcher.fit(data[i, j, :])\n",
        "        embedders_params[j].append((searcher.dimension_, searcher.time_delay_))\n",
        "    numpy.save(f\"{subj}/{exp}/embedders_params.npy\", embedders_params)\n",
        "\n",
        "print(len(embedders_params))\n",
        "print(len(embedders_params[0]))"
      ]
    },
    {
      "cell_type": "code",
      "execution_count": 11,
      "metadata": {},
      "outputs": [
        {
          "name": "stdout",
          "output_type": "stream",
          "text": [
            "[SingleTakensEmbedding(n_jobs=-1, parameters_type='fixed', stride=3,\n",
            "                      time_delay=8), SingleTakensEmbedding(n_jobs=-1, parameters_type='fixed', stride=3,\n",
            "                      time_delay=16), SingleTakensEmbedding(n_jobs=-1, parameters_type='fixed', stride=3,\n",
            "                      time_delay=7), SingleTakensEmbedding(n_jobs=-1, parameters_type='fixed', stride=3,\n",
            "                      time_delay=8), SingleTakensEmbedding(n_jobs=-1, parameters_type='fixed', stride=3,\n",
            "                      time_delay=11), SingleTakensEmbedding(n_jobs=-1, parameters_type='fixed', stride=3,\n",
            "                      time_delay=16), SingleTakensEmbedding(n_jobs=-1, parameters_type='fixed', stride=3,\n",
            "                      time_delay=7), SingleTakensEmbedding(n_jobs=-1, parameters_type='fixed', stride=3,\n",
            "                      time_delay=10), SingleTakensEmbedding(n_jobs=-1, parameters_type='fixed', stride=3,\n",
            "                      time_delay=16), SingleTakensEmbedding(n_jobs=-1, parameters_type='fixed', stride=3,\n",
            "                      time_delay=13), SingleTakensEmbedding(n_jobs=-1, parameters_type='fixed', stride=3,\n",
            "                      time_delay=14), SingleTakensEmbedding(n_jobs=-1, parameters_type='fixed', stride=3,\n",
            "                      time_delay=8), SingleTakensEmbedding(n_jobs=-1, parameters_type='fixed', stride=3,\n",
            "                      time_delay=5), SingleTakensEmbedding(n_jobs=-1, parameters_type='fixed', stride=3,\n",
            "                      time_delay=12), SingleTakensEmbedding(n_jobs=-1, parameters_type='fixed', stride=3,\n",
            "                      time_delay=13), SingleTakensEmbedding(n_jobs=-1, parameters_type='fixed', stride=3,\n",
            "                      time_delay=14), SingleTakensEmbedding(n_jobs=-1, parameters_type='fixed', stride=3,\n",
            "                      time_delay=11), SingleTakensEmbedding(n_jobs=-1, parameters_type='fixed', stride=3,\n",
            "                      time_delay=10), SingleTakensEmbedding(n_jobs=-1, parameters_type='fixed', stride=3,\n",
            "                      time_delay=11), SingleTakensEmbedding(n_jobs=-1, parameters_type='fixed', stride=3,\n",
            "                      time_delay=8), SingleTakensEmbedding(n_jobs=-1, parameters_type='fixed', stride=3,\n",
            "                      time_delay=12), SingleTakensEmbedding(n_jobs=-1, parameters_type='fixed', stride=3,\n",
            "                      time_delay=8), SingleTakensEmbedding(n_jobs=-1, parameters_type='fixed', stride=3,\n",
            "                      time_delay=10), SingleTakensEmbedding(dimension=6, n_jobs=-1, parameters_type='fixed', stride=3,\n",
            "                      time_delay=20), SingleTakensEmbedding(n_jobs=-1, parameters_type='fixed', stride=3,\n",
            "                      time_delay=9), SingleTakensEmbedding(n_jobs=-1, parameters_type='fixed', stride=3,\n",
            "                      time_delay=18), SingleTakensEmbedding(n_jobs=-1, parameters_type='fixed', stride=3,\n",
            "                      time_delay=11), SingleTakensEmbedding(n_jobs=-1, parameters_type='fixed', stride=3,\n",
            "                      time_delay=9), SingleTakensEmbedding(n_jobs=-1, parameters_type='fixed', stride=3,\n",
            "                      time_delay=9), SingleTakensEmbedding(n_jobs=-1, parameters_type='fixed', stride=3,\n",
            "                      time_delay=11), SingleTakensEmbedding(n_jobs=-1, parameters_type='fixed', stride=3,\n",
            "                      time_delay=14), SingleTakensEmbedding(n_jobs=-1, parameters_type='fixed', stride=3,\n",
            "                      time_delay=8), SingleTakensEmbedding(dimension=4, n_jobs=-1, parameters_type='fixed', stride=3,\n",
            "                      time_delay=15), SingleTakensEmbedding(n_jobs=-1, parameters_type='fixed', stride=3,\n",
            "                      time_delay=11), SingleTakensEmbedding(n_jobs=-1, parameters_type='fixed', stride=3,\n",
            "                      time_delay=15), SingleTakensEmbedding(n_jobs=-1, parameters_type='fixed', stride=3,\n",
            "                      time_delay=10), SingleTakensEmbedding(n_jobs=-1, parameters_type='fixed', stride=3,\n",
            "                      time_delay=9), SingleTakensEmbedding(n_jobs=-1, parameters_type='fixed', stride=3,\n",
            "                      time_delay=8), SingleTakensEmbedding(n_jobs=-1, parameters_type='fixed', stride=3,\n",
            "                      time_delay=8), SingleTakensEmbedding(n_jobs=-1, parameters_type='fixed', stride=3,\n",
            "                      time_delay=8)]\n",
            "40\n"
          ]
        }
      ],
      "source": [
        "embedders = [ ]\n",
        "for i in range(len(embedders_params)):\n",
        "    (dimension, time_delay), _ = collections.Counter(embedders_params[i]).most_common(1)[0]\n",
        "    attractor = gtda.time_series.SingleTakensEmbedding(parameters_type = 'fixed', time_delay = int(time_delay), dimension = int(dimension), stride = STRIDE, n_jobs = -1)\n",
        "    embedders.append(attractor)\n",
        "    \n",
        "print(embedders)\n",
        "print(len(embedders))"
      ]
    },
    {
      "cell_type": "code",
      "execution_count": 12,
      "metadata": {},
      "outputs": [
        {
          "data": {
            "application/vnd.jupyter.widget-view+json": {
              "model_id": "f56902c9073d47688b42f14b97ae1ec6",
              "version_major": 2,
              "version_minor": 0
            },
            "text/plain": [
              "  0%|          | 0/41840 [00:00<?, ?it/s]"
            ]
          },
          "metadata": {},
          "output_type": "display_data"
        },
        {
          "name": "stdout",
          "output_type": "stream",
          "text": [
            "41840\n",
            "(157, 5) (146, 5)\n",
            "(157, 5) (146, 5)\n"
          ]
        }
      ],
      "source": [
        "point_clouds = [ ]\n",
        "for i, j in tqdm.contrib.itertools.product(range(data.shape[0]), range(data.shape[1])):\n",
        "    point_clouds.append(embedders[j].fit_transform(data[i, j, :]))\n",
        "\n",
        "print(len(point_clouds))\n",
        "print(point_clouds[0].shape, point_clouds[1].shape)\n",
        "print(point_clouds[40].shape, point_clouds[41].shape)"
      ]
    },
    {
      "cell_type": "code",
      "execution_count": 13,
      "metadata": {},
      "outputs": [
        {
          "data": {
            "application/vnd.plotly.v1+json": {
              "config": {
                "plotlyServerURL": "https://plot.ly"
              },
              "data": [
                {
                  "marker": {
                    "color": [
                      0,
                      1,
                      2,
                      3,
                      4,
                      5,
                      6,
                      7,
                      8,
                      9,
                      10,
                      11,
                      12,
                      13,
                      14,
                      15,
                      16,
                      17,
                      18,
                      19,
                      20,
                      21,
                      22,
                      23,
                      24,
                      25,
                      26,
                      27,
                      28,
                      29,
                      30,
                      31,
                      32,
                      33,
                      34,
                      35,
                      36,
                      37,
                      38,
                      39,
                      40,
                      41,
                      42,
                      43,
                      44,
                      45,
                      46,
                      47,
                      48,
                      49,
                      50,
                      51,
                      52,
                      53,
                      54,
                      55,
                      56,
                      57,
                      58,
                      59,
                      60,
                      61,
                      62,
                      63,
                      64,
                      65,
                      66,
                      67,
                      68,
                      69,
                      70,
                      71,
                      72,
                      73,
                      74,
                      75,
                      76,
                      77,
                      78,
                      79,
                      80,
                      81,
                      82,
                      83,
                      84,
                      85,
                      86,
                      87,
                      88,
                      89,
                      90,
                      91,
                      92,
                      93,
                      94,
                      95,
                      96,
                      97,
                      98,
                      99,
                      100,
                      101,
                      102,
                      103,
                      104,
                      105,
                      106,
                      107,
                      108,
                      109,
                      110,
                      111,
                      112,
                      113,
                      114,
                      115,
                      116,
                      117,
                      118,
                      119,
                      120,
                      121,
                      122,
                      123,
                      124,
                      125,
                      126,
                      127,
                      128,
                      129,
                      130,
                      131,
                      132,
                      133,
                      134,
                      135,
                      136,
                      137,
                      138,
                      139,
                      140,
                      141,
                      142,
                      143,
                      144,
                      145,
                      146,
                      147,
                      148,
                      149,
                      150,
                      151,
                      152
                    ],
                    "colorscale": [
                      [
                        0,
                        "#440154"
                      ],
                      [
                        0.1111111111111111,
                        "#482878"
                      ],
                      [
                        0.2222222222222222,
                        "#3e4989"
                      ],
                      [
                        0.3333333333333333,
                        "#31688e"
                      ],
                      [
                        0.4444444444444444,
                        "#26828e"
                      ],
                      [
                        0.5555555555555556,
                        "#1f9e89"
                      ],
                      [
                        0.6666666666666666,
                        "#35b779"
                      ],
                      [
                        0.7777777777777778,
                        "#6ece58"
                      ],
                      [
                        0.8888888888888888,
                        "#b5de2b"
                      ],
                      [
                        1,
                        "#fde725"
                      ]
                    ],
                    "opacity": 0.8,
                    "size": 4
                  },
                  "mode": "markers",
                  "type": "scatter3d",
                  "x": [
                    -0.0000016633841823932016,
                    -0.0000016966309885901865,
                    0.000003676653705042554,
                    0.000006748834948666627,
                    0.0000047772978177818,
                    0.000002241344645881327,
                    0.000002714625907174195,
                    0.000003822090093308361,
                    0.000002211278797403793,
                    3.104163113221148e-7,
                    0.000002365483624089393,
                    0.00000549719197806553,
                    0.0000035730140552914236,
                    -8.11137340406276e-7,
                    1.111139980025655e-7,
                    0.000004643373358703684,
                    0.0000045348433559411205,
                    0.0000010284667268933845,
                    0.0000021622818167088553,
                    0.00000664389926896547,
                    0.000006860088888061,
                    0.00000389490833185846,
                    0.000003567676685634069,
                    0.000003931629635189893,
                    0.0000017078598375519505,
                    0.0000019975129816884873,
                    0.000007616384209541138,
                    0.000010230281077383552,
                    0.0000049906807362276595,
                    3.094432940997649e-7,
                    0.0000018867489188778563,
                    0.0000025873312097246526,
                    -0.0000016046653854573378,
                    -0.0000027712546852853848,
                    0.0000025513704713375773,
                    0.0000057788070080277976,
                    0.0000029997258934599813,
                    0.000001931987071657204,
                    0.0000054503834689967334,
                    0.000005669565780408448,
                    2.722181022818404e-7,
                    -0.0000020426823539310135,
                    0.0000023771062842570245,
                    0.000005954407242825255,
                    0.000004152763267484261,
                    0.0000023818513454898493,
                    0.000004212275598547421,
                    0.000004906710728391772,
                    0.0000011032071824956802,
                    -0.000002722356612139265,
                    -0.0000017896780946102808,
                    0.0000020001289158244617,
                    0.000004004305083071813,
                    0.0000030206456358428113,
                    0.0000010307451248081634,
                    5.061993846311452e-8,
                    4.738240022561513e-7,
                    7.419108101203165e-7,
                    -0.0000011239637842663797,
                    -0.000004390045432955958,
                    -0.000005891700766369468,
                    -0.000004793372227140935,
                    -0.00000383936685466324,
                    -0.000004329279363446403,
                    -0.000003999834916612599,
                    -0.000001558382678013004,
                    0.0000011091915439465083,
                    0.0000025024071419466054,
                    0.0000029136406283214455,
                    0.0000020817553831875557,
                    2.488806103428942e-7,
                    3.9702086951365345e-7,
                    0.000004220504251861712,
                    0.000007888804248068482,
                    0.000007237822501338087,
                    0.000004170450210949639,
                    0.0000023065942968969466,
                    5.168295729163219e-7,
                    -0.0000031912607028061757,
                    -0.000005536673143069493,
                    -0.000002463697228449746,
                    0.0000032882353480090387,
                    0.000005388514182413928,
                    0.0000026682041607273277,
                    -3.41300875561501e-7,
                    -7.579644147881481e-7,
                    -6.514865162898786e-7,
                    -0.000002203098802056047,
                    -0.0000030974179026088677,
                    1.3406774712620972e-7,
                    0.000005865691036888165,
                    0.00000864539197209524,
                    0.000007220730822155019,
                    0.00000627169947620132,
                    0.000008032824553083628,
                    0.000008095313205558341,
                    0.000003344510560054914,
                    -0.0000015095804428710835,
                    -5.229269959272642e-7,
                    0.000004929169335810002,
                    0.000009328327905677725,
                    0.000010672179087123368,
                    0.000010273459338350222,
                    0.000008746928870095871,
                    0.000006364007276715711,
                    0.000004249002358847065,
                    0.0000026350735424784943,
                    0.0000011408793625378166,
                    0.0000012070339607817004,
                    0.000004012375029560644,
                    0.000006814870175730903,
                    0.000006404735358955804,
                    0.0000044578650886251125,
                    0.000003899342573276954,
                    0.000003006377710335073,
                    -2.3282393613044405e-7,
                    -0.0000018990434682564228,
                    0.000001573872168592061,
                    0.000005303113994159503,
                    0.0000034383065212750807,
                    1.936968345717105e-7,
                    0.0000025971401100832736,
                    0.000006674537871731445,
                    0.000003689761570058181,
                    -0.0000034077295367751503,
                    -0.0000040104541767505,
                    0.000002213805828432669,
                    0.000005774491455667885,
                    0.000003597565410018433,
                    0.0000011289673693681834,
                    8.205835797525651e-7,
                    0.000001131114004238043,
                    0.0000030727085231774254,
                    0.00000642039458398358,
                    0.000005655027962347958,
                    -4.500459453993244e-7,
                    -0.000003869128704536706,
                    -5.22705761341058e-7,
                    0.000002687751702978858,
                    0.000001345689838672115,
                    0.0000010354330015616142,
                    0.000004891407570539741,
                    0.000007426769570884062,
                    0.000005854482878930867,
                    0.00000438305460193078,
                    0.000004474406523513608,
                    0.000003074186224694131,
                    7.147128826545668e-7,
                    2.9383477340161335e-7,
                    6.330659374498282e-8,
                    -0.000002345085249544354,
                    -0.0000035224002203904092,
                    -7.140960747165082e-7
                  ],
                  "y": [
                    0.0000057945057960751,
                    0.000002811686044879025,
                    0.0000022631963929597987,
                    0.0000036724063647852745,
                    0.0000030327810236485675,
                    6.298493531176064e-7,
                    0.0000012354153113847133,
                    0.000004799836460733786,
                    0.000004857645762967877,
                    3.671287913675769e-7,
                    -9.611053428670857e-7,
                    0.0000033051237551262602,
                    0.000005300561497278977,
                    0.0000020131403744017007,
                    0.000001067812831934134,
                    0.000005318983767210739,
                    0.000007440974968631053,
                    0.000004786590579897165,
                    0.0000033217700092791347,
                    0.000004089477897650795,
                    0.000002556705339884502,
                    0.0000012015995025649318,
                    0.000005521443199540954,
                    0.00001029287523124367,
                    0.000007262318831635639,
                    0.0000011608450449784868,
                    9.482826612838835e-7,
                    0.000002991380824823864,
                    -2.8978215382835515e-8,
                    -0.0000032398352232121397,
                    4.7113334744608437e-7,
                    0.0000054825177357997745,
                    0.000004218400590616511,
                    0.0000016257107517958502,
                    0.000004174435616732808,
                    0.000006408128228940768,
                    0.000002244643155790982,
                    -0.0000021277489850035636,
                    5.091585535410559e-7,
                    0.000005375966338760918,
                    0.0000051327692744962405,
                    0.0000025549172733008163,
                    0.000003390005986148026,
                    0.000005175145361135947,
                    0.0000027152743768965593,
                    -0.0000018577832179289544,
                    -0.0000026454381440998986,
                    7.403708082165394e-7,
                    0.0000037040902043372625,
                    0.000003585919102988555,
                    0.0000016553955219933414,
                    1.9991732358448644e-7,
                    2.3791018577412615e-7,
                    8.18573596461647e-7,
                    -2.2937312849080627e-7,
                    -0.000003337323050800478,
                    -0.000005736346338380827,
                    -0.000005308828349370742,
                    -0.000003971767455368536,
                    -0.000004107913810003083,
                    -0.000004357865236670477,
                    -0.000002527355718484614,
                    3.381203725894011e-7,
                    0.000002172206905015628,
                    0.0000028778974865417695,
                    0.0000025351328076794744,
                    8.292752795568958e-7,
                    -8.225291026064951e-8,
                    0.000002676108579180436,
                    0.000007039911452011438,
                    0.000007941360308905132,
                    0.000005168974894331768,
                    0.0000027612895792117342,
                    0.0000013112246506352676,
                    -0.0000018357739008934004,
                    -0.000005252771188679617,
                    -0.000004081343831785489,
                    0.000001499431959928188,
                    0.000005331783086148789,
                    0.000003875200036418391,
                    4.048606285778078e-7,
                    -8.516446428075142e-7,
                    -5.347359319785028e-7,
                    -0.0000015525376966252225,
                    -0.000003146713879687013,
                    -0.0000014386007478606189,
                    0.000004019543666800018,
                    0.00000828601696412079,
                    0.00000792486116552027,
                    0.000006243618827284081,
                    0.000007330333119170973,
                    0.000008605837138020433,
                    0.000005311184395395685,
                    -3.536871702181088e-7,
                    -0.0000015857431208132766,
                    0.0000029755528885289095,
                    0.000008213246474042535,
                    0.000010495347851247061,
                    0.000010530727195146028,
                    0.00000938506218517432,
                    0.000007188108611444477,
                    0.000004873318175668828,
                    0.0000031626345844415482,
                    0.0000015785614095875644,
                    8.745682862354442e-7,
                    0.0000028625206596188946,
                    0.000006154480615805369,
                    0.000006899299933138536,
                    0.000005027873157814611,
                    0.000003940519945899723,
                    0.0000035676855532074114,
                    9.755847258929862e-7,
                    -0.0000018836221897799987,
                    -1.8155970948896538e-8,
                    0.0000045463825699698646,
                    0.000004640708539227489,
                    8.527809995939606e-7,
                    0.0000011450805459389812,
                    0.000005790237992187031,
                    0.000005607504590443568,
                    -0.0000013009325812163297,
                    -0.000004882595021626912,
                    -5.193490082433527e-8,
                    0.000005334600245987531,
                    0.000004669696863857098,
                    0.000001683474351921177,
                    7.907720487310144e-7,
                    9.60976194619434e-7,
                    0.000002130997472704621,
                    0.000005440656877908623,
                    0.000006674089945590822,
                    0.0000017760196442395682,
                    -0.000003540374791555223,
                    -0.0000020946117729181424,
                    0.000002143282472388819,
                    0.00000206962545235001,
                    6.135627472758642e-7,
                    0.0000033964970498345792,
                    0.0000070918185883783735,
                    0.000006627793027291773,
                    0.000004618639195541618,
                    0.00000445979776486638,
                    0.000003800408421739121,
                    0.0000013747467164648697,
                    2.1727572629970382e-7,
                    3.670233468255901e-7,
                    -0.0000014091785942582646,
                    -0.0000035790990295936354,
                    -0.00000193601954379119,
                    0.0000013387501667239121,
                    0.0000010454275525262346,
                    -0.0000011277810472165584,
                    8.219078040383465e-8
                  ],
                  "z": [
                    0.0000036064220694242977,
                    0.0000013336959909793222,
                    5.085155407869024e-7,
                    0.000003656215085356962,
                    0.000005536978733289288,
                    0.0000019536446416168474,
                    -0.0000012945056369062513,
                    0.0000016602311916358303,
                    0.0000053575199672195595,
                    0.0000033138303479063325,
                    6.675340955553111e-7,
                    0.0000037003808301960817,
                    0.000007391363396891393,
                    0.000005873054305993719,
                    0.000003392656708456343,
                    0.000003906669007847086,
                    0.000003382859176781494,
                    0.000001159224098046252,
                    0.0000035163964184903307,
                    0.000009341548320662696,
                    0.000009144401701632887,
                    0.000002812171487676096,
                    3.017309779806965e-7,
                    0.0000026902544050244614,
                    0.0000014997688140283572,
                    -0.000002792841996779316,
                    -0.0000014429282373384922,
                    0.000004344427452451782,
                    0.000005273679107631324,
                    0.0000020286956896597985,
                    0.0000028716174256260274,
                    0.000006296076207945589,
                    0.00000418288072978612,
                    -0.0000012997466001252178,
                    -0.0000010856466587938485,
                    0.000004114529019716429,
                    0.000005823902483825805,
                    0.000003201016852472094,
                    0.0000027020003017241834,
                    0.000004890594482276356,
                    0.000004053176780871581,
                    -5.115039130032528e-7,
                    -0.0000029876312055421295,
                    -5.912703500143834e-7,
                    0.000003022915961992112,
                    0.000003943509909731802,
                    0.000002345614575460786,
                    5.323932441569923e-7,
                    7.568336712893142e-8,
                    6.990936185502505e-7,
                    4.015590775452438e-7,
                    -0.0000022008823634678265,
                    -0.000005222764229984023,
                    -0.000005718614829675062,
                    -0.000004310152235120768,
                    -0.000003907601239916403,
                    -0.000004447694209375186,
                    -0.000003371914544914034,
                    -5.717894850931771e-7,
                    0.0000017174389768115361,
                    0.000002735198677328299,
                    0.000002809813167914399,
                    0.0000014843637927697273,
                    -1.0189707921881563e-7,
                    0.0000013447920537146274,
                    0.000005753003279096447,
                    0.000008190603693947196,
                    0.000006248679710552096,
                    0.0000033608798730710987,
                    0.0000018708836933001294,
                    -5.507035893970169e-7,
                    -0.000004406384505273309,
                    -0.000005145888280821964,
                    -5.117266255183495e-7,
                    0.000004616716978489421,
                    0.000004851488938584225,
                    0.0000014491196225208114,
                    -7.471886078747048e-7,
                    -6.055709036445478e-7,
                    -0.0000010007987611970748,
                    -0.0000027944072371610673,
                    -0.000002537474529162864,
                    0.0000020267482341296272,
                    0.000007340303454839159,
                    0.000008473266461805906,
                    0.000006595692866540048,
                    0.0000066739798967319075,
                    0.000008534025255357847,
                    0.000006965458396734903,
                    0.0000013535386642615777,
                    -0.000001938325112860184,
                    0.0000010759330280052382,
                    0.0000067240102907817345,
                    0.00001007169430522481,
                    0.000010669244147720747,
                    0.000009894346476357896,
                    0.0000080006966527435,
                    0.000005580931883741869,
                    0.000003690051471494371,
                    0.0000020980849058105377,
                    8.750843676352815e-7,
                    0.0000018874168290494708,
                    0.000005169704763829941,
                    0.000007063684734021081,
                    0.000005725033133785473,
                    0.0000040968939174490515,
                    0.000003827211457974045,
                    0.0000021154526166355936,
                    -0.000001267557081519044,
                    -0.0000012497299621827551,
                    0.0000032091131743072765,
                    0.0000053274998208507895,
                    0.0000020482261788856704,
                    2.83500014575111e-7,
                    0.000004291091045161011,
                    0.000006646275778621202,
                    0.0000012303454468565178,
                    -0.00000467934705739026,
                    -0.000002275338601975818,
                    0.000004107404947717441,
                    0.00000548610614714562,
                    0.000002536598685765057,
                    8.594032010478259e-7,
                    8.787969250079186e-7,
                    0.0000014914494386175647,
                    0.000004237771918269573,
                    0.0000069022948991914745,
                    0.000003936111170332879,
                    -0.000002335895942451316,
                    -0.0000033223764148715418,
                    0.0000010037658739747712,
                    0.0000026115326363651548,
                    7.675379833926854e-7,
                    0.000002019662133534439,
                    0.0000062043964135227725,
                    0.000007224650744319661,
                    0.000005129704277351266,
                    0.000004374127001938177,
                    0.000004276927938917652,
                    0.000002212298795711831,
                    3.274835762567818e-7,
                    4.0086075614453875e-7,
                    -5.513177825378079e-7,
                    -0.0000031391541597258765,
                    -0.0000029411578452709364,
                    4.6171052758836595e-7,
                    0.000001615316705283476,
                    -5.814749783894513e-7,
                    -8.05492732069979e-7,
                    0.0000025488645860605175,
                    0.000004911594714940293,
                    0.0000044613298086915165,
                    0.000004590880962496158
                  ]
                }
              ],
              "layout": {
                "scene": {
                  "xaxis": {
                    "exponentformat": "e",
                    "showexponent": "all",
                    "title": {
                      "text": "0th"
                    },
                    "type": "linear"
                  },
                  "yaxis": {
                    "exponentformat": "e",
                    "showexponent": "all",
                    "title": {
                      "text": "1st"
                    },
                    "type": "linear"
                  },
                  "zaxis": {
                    "exponentformat": "e",
                    "showexponent": "all",
                    "title": {
                      "text": "2nd"
                    },
                    "type": "linear"
                  }
                },
                "template": {
                  "data": {
                    "bar": [
                      {
                        "error_x": {
                          "color": "#2a3f5f"
                        },
                        "error_y": {
                          "color": "#2a3f5f"
                        },
                        "marker": {
                          "line": {
                            "color": "#E5ECF6",
                            "width": 0.5
                          },
                          "pattern": {
                            "fillmode": "overlay",
                            "size": 10,
                            "solidity": 0.2
                          }
                        },
                        "type": "bar"
                      }
                    ],
                    "barpolar": [
                      {
                        "marker": {
                          "line": {
                            "color": "#E5ECF6",
                            "width": 0.5
                          },
                          "pattern": {
                            "fillmode": "overlay",
                            "size": 10,
                            "solidity": 0.2
                          }
                        },
                        "type": "barpolar"
                      }
                    ],
                    "carpet": [
                      {
                        "aaxis": {
                          "endlinecolor": "#2a3f5f",
                          "gridcolor": "white",
                          "linecolor": "white",
                          "minorgridcolor": "white",
                          "startlinecolor": "#2a3f5f"
                        },
                        "baxis": {
                          "endlinecolor": "#2a3f5f",
                          "gridcolor": "white",
                          "linecolor": "white",
                          "minorgridcolor": "white",
                          "startlinecolor": "#2a3f5f"
                        },
                        "type": "carpet"
                      }
                    ],
                    "choropleth": [
                      {
                        "colorbar": {
                          "outlinewidth": 0,
                          "ticks": ""
                        },
                        "type": "choropleth"
                      }
                    ],
                    "contour": [
                      {
                        "colorbar": {
                          "outlinewidth": 0,
                          "ticks": ""
                        },
                        "colorscale": [
                          [
                            0,
                            "#0d0887"
                          ],
                          [
                            0.1111111111111111,
                            "#46039f"
                          ],
                          [
                            0.2222222222222222,
                            "#7201a8"
                          ],
                          [
                            0.3333333333333333,
                            "#9c179e"
                          ],
                          [
                            0.4444444444444444,
                            "#bd3786"
                          ],
                          [
                            0.5555555555555556,
                            "#d8576b"
                          ],
                          [
                            0.6666666666666666,
                            "#ed7953"
                          ],
                          [
                            0.7777777777777778,
                            "#fb9f3a"
                          ],
                          [
                            0.8888888888888888,
                            "#fdca26"
                          ],
                          [
                            1,
                            "#f0f921"
                          ]
                        ],
                        "type": "contour"
                      }
                    ],
                    "contourcarpet": [
                      {
                        "colorbar": {
                          "outlinewidth": 0,
                          "ticks": ""
                        },
                        "type": "contourcarpet"
                      }
                    ],
                    "heatmap": [
                      {
                        "colorbar": {
                          "outlinewidth": 0,
                          "ticks": ""
                        },
                        "colorscale": [
                          [
                            0,
                            "#0d0887"
                          ],
                          [
                            0.1111111111111111,
                            "#46039f"
                          ],
                          [
                            0.2222222222222222,
                            "#7201a8"
                          ],
                          [
                            0.3333333333333333,
                            "#9c179e"
                          ],
                          [
                            0.4444444444444444,
                            "#bd3786"
                          ],
                          [
                            0.5555555555555556,
                            "#d8576b"
                          ],
                          [
                            0.6666666666666666,
                            "#ed7953"
                          ],
                          [
                            0.7777777777777778,
                            "#fb9f3a"
                          ],
                          [
                            0.8888888888888888,
                            "#fdca26"
                          ],
                          [
                            1,
                            "#f0f921"
                          ]
                        ],
                        "type": "heatmap"
                      }
                    ],
                    "heatmapgl": [
                      {
                        "colorbar": {
                          "outlinewidth": 0,
                          "ticks": ""
                        },
                        "colorscale": [
                          [
                            0,
                            "#0d0887"
                          ],
                          [
                            0.1111111111111111,
                            "#46039f"
                          ],
                          [
                            0.2222222222222222,
                            "#7201a8"
                          ],
                          [
                            0.3333333333333333,
                            "#9c179e"
                          ],
                          [
                            0.4444444444444444,
                            "#bd3786"
                          ],
                          [
                            0.5555555555555556,
                            "#d8576b"
                          ],
                          [
                            0.6666666666666666,
                            "#ed7953"
                          ],
                          [
                            0.7777777777777778,
                            "#fb9f3a"
                          ],
                          [
                            0.8888888888888888,
                            "#fdca26"
                          ],
                          [
                            1,
                            "#f0f921"
                          ]
                        ],
                        "type": "heatmapgl"
                      }
                    ],
                    "histogram": [
                      {
                        "marker": {
                          "pattern": {
                            "fillmode": "overlay",
                            "size": 10,
                            "solidity": 0.2
                          }
                        },
                        "type": "histogram"
                      }
                    ],
                    "histogram2d": [
                      {
                        "colorbar": {
                          "outlinewidth": 0,
                          "ticks": ""
                        },
                        "colorscale": [
                          [
                            0,
                            "#0d0887"
                          ],
                          [
                            0.1111111111111111,
                            "#46039f"
                          ],
                          [
                            0.2222222222222222,
                            "#7201a8"
                          ],
                          [
                            0.3333333333333333,
                            "#9c179e"
                          ],
                          [
                            0.4444444444444444,
                            "#bd3786"
                          ],
                          [
                            0.5555555555555556,
                            "#d8576b"
                          ],
                          [
                            0.6666666666666666,
                            "#ed7953"
                          ],
                          [
                            0.7777777777777778,
                            "#fb9f3a"
                          ],
                          [
                            0.8888888888888888,
                            "#fdca26"
                          ],
                          [
                            1,
                            "#f0f921"
                          ]
                        ],
                        "type": "histogram2d"
                      }
                    ],
                    "histogram2dcontour": [
                      {
                        "colorbar": {
                          "outlinewidth": 0,
                          "ticks": ""
                        },
                        "colorscale": [
                          [
                            0,
                            "#0d0887"
                          ],
                          [
                            0.1111111111111111,
                            "#46039f"
                          ],
                          [
                            0.2222222222222222,
                            "#7201a8"
                          ],
                          [
                            0.3333333333333333,
                            "#9c179e"
                          ],
                          [
                            0.4444444444444444,
                            "#bd3786"
                          ],
                          [
                            0.5555555555555556,
                            "#d8576b"
                          ],
                          [
                            0.6666666666666666,
                            "#ed7953"
                          ],
                          [
                            0.7777777777777778,
                            "#fb9f3a"
                          ],
                          [
                            0.8888888888888888,
                            "#fdca26"
                          ],
                          [
                            1,
                            "#f0f921"
                          ]
                        ],
                        "type": "histogram2dcontour"
                      }
                    ],
                    "mesh3d": [
                      {
                        "colorbar": {
                          "outlinewidth": 0,
                          "ticks": ""
                        },
                        "type": "mesh3d"
                      }
                    ],
                    "parcoords": [
                      {
                        "line": {
                          "colorbar": {
                            "outlinewidth": 0,
                            "ticks": ""
                          }
                        },
                        "type": "parcoords"
                      }
                    ],
                    "pie": [
                      {
                        "automargin": true,
                        "type": "pie"
                      }
                    ],
                    "scatter": [
                      {
                        "fillpattern": {
                          "fillmode": "overlay",
                          "size": 10,
                          "solidity": 0.2
                        },
                        "type": "scatter"
                      }
                    ],
                    "scatter3d": [
                      {
                        "line": {
                          "colorbar": {
                            "outlinewidth": 0,
                            "ticks": ""
                          }
                        },
                        "marker": {
                          "colorbar": {
                            "outlinewidth": 0,
                            "ticks": ""
                          }
                        },
                        "type": "scatter3d"
                      }
                    ],
                    "scattercarpet": [
                      {
                        "marker": {
                          "colorbar": {
                            "outlinewidth": 0,
                            "ticks": ""
                          }
                        },
                        "type": "scattercarpet"
                      }
                    ],
                    "scattergeo": [
                      {
                        "marker": {
                          "colorbar": {
                            "outlinewidth": 0,
                            "ticks": ""
                          }
                        },
                        "type": "scattergeo"
                      }
                    ],
                    "scattergl": [
                      {
                        "marker": {
                          "colorbar": {
                            "outlinewidth": 0,
                            "ticks": ""
                          }
                        },
                        "type": "scattergl"
                      }
                    ],
                    "scattermapbox": [
                      {
                        "marker": {
                          "colorbar": {
                            "outlinewidth": 0,
                            "ticks": ""
                          }
                        },
                        "type": "scattermapbox"
                      }
                    ],
                    "scatterpolar": [
                      {
                        "marker": {
                          "colorbar": {
                            "outlinewidth": 0,
                            "ticks": ""
                          }
                        },
                        "type": "scatterpolar"
                      }
                    ],
                    "scatterpolargl": [
                      {
                        "marker": {
                          "colorbar": {
                            "outlinewidth": 0,
                            "ticks": ""
                          }
                        },
                        "type": "scatterpolargl"
                      }
                    ],
                    "scatterternary": [
                      {
                        "marker": {
                          "colorbar": {
                            "outlinewidth": 0,
                            "ticks": ""
                          }
                        },
                        "type": "scatterternary"
                      }
                    ],
                    "surface": [
                      {
                        "colorbar": {
                          "outlinewidth": 0,
                          "ticks": ""
                        },
                        "colorscale": [
                          [
                            0,
                            "#0d0887"
                          ],
                          [
                            0.1111111111111111,
                            "#46039f"
                          ],
                          [
                            0.2222222222222222,
                            "#7201a8"
                          ],
                          [
                            0.3333333333333333,
                            "#9c179e"
                          ],
                          [
                            0.4444444444444444,
                            "#bd3786"
                          ],
                          [
                            0.5555555555555556,
                            "#d8576b"
                          ],
                          [
                            0.6666666666666666,
                            "#ed7953"
                          ],
                          [
                            0.7777777777777778,
                            "#fb9f3a"
                          ],
                          [
                            0.8888888888888888,
                            "#fdca26"
                          ],
                          [
                            1,
                            "#f0f921"
                          ]
                        ],
                        "type": "surface"
                      }
                    ],
                    "table": [
                      {
                        "cells": {
                          "fill": {
                            "color": "#EBF0F8"
                          },
                          "line": {
                            "color": "white"
                          }
                        },
                        "header": {
                          "fill": {
                            "color": "#C8D4E3"
                          },
                          "line": {
                            "color": "white"
                          }
                        },
                        "type": "table"
                      }
                    ]
                  },
                  "layout": {
                    "annotationdefaults": {
                      "arrowcolor": "#2a3f5f",
                      "arrowhead": 0,
                      "arrowwidth": 1
                    },
                    "autotypenumbers": "strict",
                    "coloraxis": {
                      "colorbar": {
                        "outlinewidth": 0,
                        "ticks": ""
                      }
                    },
                    "colorscale": {
                      "diverging": [
                        [
                          0,
                          "#8e0152"
                        ],
                        [
                          0.1,
                          "#c51b7d"
                        ],
                        [
                          0.2,
                          "#de77ae"
                        ],
                        [
                          0.3,
                          "#f1b6da"
                        ],
                        [
                          0.4,
                          "#fde0ef"
                        ],
                        [
                          0.5,
                          "#f7f7f7"
                        ],
                        [
                          0.6,
                          "#e6f5d0"
                        ],
                        [
                          0.7,
                          "#b8e186"
                        ],
                        [
                          0.8,
                          "#7fbc41"
                        ],
                        [
                          0.9,
                          "#4d9221"
                        ],
                        [
                          1,
                          "#276419"
                        ]
                      ],
                      "sequential": [
                        [
                          0,
                          "#0d0887"
                        ],
                        [
                          0.1111111111111111,
                          "#46039f"
                        ],
                        [
                          0.2222222222222222,
                          "#7201a8"
                        ],
                        [
                          0.3333333333333333,
                          "#9c179e"
                        ],
                        [
                          0.4444444444444444,
                          "#bd3786"
                        ],
                        [
                          0.5555555555555556,
                          "#d8576b"
                        ],
                        [
                          0.6666666666666666,
                          "#ed7953"
                        ],
                        [
                          0.7777777777777778,
                          "#fb9f3a"
                        ],
                        [
                          0.8888888888888888,
                          "#fdca26"
                        ],
                        [
                          1,
                          "#f0f921"
                        ]
                      ],
                      "sequentialminus": [
                        [
                          0,
                          "#0d0887"
                        ],
                        [
                          0.1111111111111111,
                          "#46039f"
                        ],
                        [
                          0.2222222222222222,
                          "#7201a8"
                        ],
                        [
                          0.3333333333333333,
                          "#9c179e"
                        ],
                        [
                          0.4444444444444444,
                          "#bd3786"
                        ],
                        [
                          0.5555555555555556,
                          "#d8576b"
                        ],
                        [
                          0.6666666666666666,
                          "#ed7953"
                        ],
                        [
                          0.7777777777777778,
                          "#fb9f3a"
                        ],
                        [
                          0.8888888888888888,
                          "#fdca26"
                        ],
                        [
                          1,
                          "#f0f921"
                        ]
                      ]
                    },
                    "colorway": [
                      "#636efa",
                      "#EF553B",
                      "#00cc96",
                      "#ab63fa",
                      "#FFA15A",
                      "#19d3f3",
                      "#FF6692",
                      "#B6E880",
                      "#FF97FF",
                      "#FECB52"
                    ],
                    "font": {
                      "color": "#2a3f5f"
                    },
                    "geo": {
                      "bgcolor": "white",
                      "lakecolor": "white",
                      "landcolor": "#E5ECF6",
                      "showlakes": true,
                      "showland": true,
                      "subunitcolor": "white"
                    },
                    "hoverlabel": {
                      "align": "left"
                    },
                    "hovermode": "closest",
                    "mapbox": {
                      "style": "light"
                    },
                    "paper_bgcolor": "white",
                    "plot_bgcolor": "#E5ECF6",
                    "polar": {
                      "angularaxis": {
                        "gridcolor": "white",
                        "linecolor": "white",
                        "ticks": ""
                      },
                      "bgcolor": "#E5ECF6",
                      "radialaxis": {
                        "gridcolor": "white",
                        "linecolor": "white",
                        "ticks": ""
                      }
                    },
                    "scene": {
                      "xaxis": {
                        "backgroundcolor": "#E5ECF6",
                        "gridcolor": "white",
                        "gridwidth": 2,
                        "linecolor": "white",
                        "showbackground": true,
                        "ticks": "",
                        "zerolinecolor": "white"
                      },
                      "yaxis": {
                        "backgroundcolor": "#E5ECF6",
                        "gridcolor": "white",
                        "gridwidth": 2,
                        "linecolor": "white",
                        "showbackground": true,
                        "ticks": "",
                        "zerolinecolor": "white"
                      },
                      "zaxis": {
                        "backgroundcolor": "#E5ECF6",
                        "gridcolor": "white",
                        "gridwidth": 2,
                        "linecolor": "white",
                        "showbackground": true,
                        "ticks": "",
                        "zerolinecolor": "white"
                      }
                    },
                    "shapedefaults": {
                      "line": {
                        "color": "#2a3f5f"
                      }
                    },
                    "ternary": {
                      "aaxis": {
                        "gridcolor": "white",
                        "linecolor": "white",
                        "ticks": ""
                      },
                      "baxis": {
                        "gridcolor": "white",
                        "linecolor": "white",
                        "ticks": ""
                      },
                      "bgcolor": "#E5ECF6",
                      "caxis": {
                        "gridcolor": "white",
                        "linecolor": "white",
                        "ticks": ""
                      }
                    },
                    "title": {
                      "x": 0.05
                    },
                    "xaxis": {
                      "automargin": true,
                      "gridcolor": "white",
                      "linecolor": "white",
                      "ticks": "",
                      "title": {
                        "standoff": 15
                      },
                      "zerolinecolor": "white",
                      "zerolinewidth": 2
                    },
                    "yaxis": {
                      "automargin": true,
                      "gridcolor": "white",
                      "linecolor": "white",
                      "ticks": "",
                      "title": {
                        "standoff": 15
                      },
                      "zerolinecolor": "white",
                      "zerolinewidth": 2
                    }
                  }
                }
              }
            }
          },
          "metadata": {},
          "output_type": "display_data"
        }
      ],
      "source": [
        "point_clouds_plot = gtda.plotting.plot_point_cloud(point_clouds[print_obj])\n",
        "display(point_clouds_plot)\n",
        "point_clouds_plot.write_image(file = f\"{subj}/{exp}/point_cloud.svg\", format = \"svg\")"
      ]
    },
    {
      "cell_type": "markdown",
      "metadata": {},
      "source": [
        "##### VietorisRipsPersistence"
      ]
    },
    {
      "cell_type": "code",
      "execution_count": 14,
      "metadata": {},
      "outputs": [
        {
          "name": "stdout",
          "output_type": "stream",
          "text": [
            "(41840, 195, 3)\n"
          ]
        }
      ],
      "source": [
        "persistence = gtda.homology.VietorisRipsPersistence(homology_dimensions = HOMOLOGY_DIMENSIONS, n_jobs = -1)\n",
        "diagrams = persistence.fit_transform(point_clouds)\n",
        "print(diagrams.shape)"
      ]
    },
    {
      "cell_type": "code",
      "execution_count": 15,
      "metadata": {},
      "outputs": [
        {
          "data": {
            "application/vnd.plotly.v1+json": {
              "config": {
                "plotlyServerURL": "https://plot.ly"
              },
              "data": [
                {
                  "hoverinfo": "none",
                  "line": {
                    "color": "black",
                    "dash": "dash",
                    "width": 1
                  },
                  "mode": "lines",
                  "showlegend": false,
                  "type": "scatter",
                  "x": [
                    0.000003357157006576017,
                    0.000008126898669615913
                  ],
                  "y": [
                    0.000003357157006576017,
                    0.000008126898669615913
                  ]
                },
                {
                  "hoverinfo": "text",
                  "hovertext": [
                    "(7.30631336409715e-06, 7.500116225855891e-06)",
                    "(6.857202151877573e-06, 6.881645276735071e-06)",
                    "(6.662725354544818e-06, 7.661691597604658e-06)",
                    "(6.6245702328160405e-06, 7.391236977127846e-06)",
                    "(6.517930160043761e-06, 7.434501185343834e-06)",
                    "(6.459565156546887e-06, 7.109931175364181e-06)",
                    "(6.175116595841246e-06, 6.502671112684766e-06)",
                    "(6.087198471504962e-06, 7.005797669989988e-06)",
                    "(6.054079676687252e-06, 7.098689366102917e-06)",
                    "(5.935319677519146e-06, 6.26161408945336e-06)",
                    "(5.910492291150149e-06, 6.241131359274732e-06)",
                    "(5.8433452068129554e-06, 5.995420451654354e-06)",
                    "(5.8044333854923025e-06, 6.632643362536328e-06)",
                    "(5.623504421237158e-06, 6.2944600358605385e-06)",
                    "(5.599924406851642e-06, 6.098413905419875e-06)",
                    "(5.561335456150118e-06, 5.870408585906262e-06)",
                    "(5.548560693569016e-06, 6.23290179646574e-06)",
                    "(5.5347391025861725e-06, 6.8298832047730684e-06)",
                    "(5.509691618499346e-06, 6.896755166962976e-06)",
                    "(5.4826218729431275e-06, 5.499026428879006e-06)",
                    "(5.460591637529433e-06, 5.982210495858453e-06)",
                    "(5.436661467683734e-06, 5.91904426983092e-06)",
                    "(5.432335910882102e-06, 5.585536655416945e-06)",
                    "(5.4140145948622376e-06, 6.402569397323532e-06)",
                    "(5.394229447119869e-06, 5.456488452182384e-06)",
                    "(5.342574695532676e-06, 5.667878667736659e-06)",
                    "(5.316217993822647e-06, 5.403478098742198e-06)",
                    "(5.295260507409694e-06, 5.811826213175664e-06)",
                    "(5.282266101858113e-06, 6.607901468669297e-06)",
                    "(5.255633368506096e-06, 5.4648744480800815e-06)",
                    "(5.228301688475767e-06, 6.653859600191936e-06)",
                    "(5.204415629123105e-06, 5.239094207354356e-06)",
                    "(5.198214694246417e-06, 6.264418516366277e-06)",
                    "(5.170838448975701e-06, 5.339220479072537e-06)",
                    "(5.136590061738389e-06, 5.332367436494678e-06)",
                    "(5.0139678933192044e-06, 5.193462584429653e-06)",
                    "(4.9978625611402094e-06, 6.954809578019194e-06)",
                    "(4.937853645969881e-06, 5.121900812810054e-06)",
                    "(4.925103439745726e-06, 5.228459485806525e-06)",
                    "(4.8906681513471995e-06, 5.107292054162826e-06)",
                    "(4.859938144363696e-06, 5.0382400331727695e-06)",
                    "(4.858663942286512e-06, 6.4513683355471585e-06)",
                    "(4.849983724852791e-06, 5.460581178340362e-06)",
                    "(4.828816599911079e-06, 4.927493591821985e-06)",
                    "(4.804825039173011e-06, 4.893239747616462e-06)",
                    "(4.775269189849496e-06, 5.2334830797917675e-06)",
                    "(4.747897492052289e-06, 5.400986538006691e-06)",
                    "(4.6798809307802e-06, 4.929129318043124e-06)",
                    "(4.676789558288874e-06, 6.088809641369153e-06)",
                    "(4.672496288549155e-06, 5.057596354163252e-06)",
                    "(4.546197487798054e-06, 4.7067956074897666e-06)",
                    "(4.499914666666882e-06, 4.644368345907424e-06)",
                    "(4.497416284721112e-06, 5.371503448259318e-06)",
                    "(4.496846941037802e-06, 4.879388598055812e-06)",
                    "(4.48414448328549e-06, 5.089837941341102e-06)",
                    "(4.461260232346831e-06, 5.136187155585503e-06)",
                    "(4.4538837755681016e-06, 4.862909008807037e-06)",
                    "(4.412944690557197e-06, 4.595653990691062e-06)",
                    "(4.399138106236933e-06, 5.290673470881302e-06)",
                    "(4.39618679592968e-06, 4.921428171655862e-06)",
                    "(4.3804748202092014e-06, 5.068710834166268e-06)",
                    "(4.3765089685621206e-06, 4.8499341573915444e-06)",
                    "(4.36414029536536e-06, 5.218994374445174e-06)",
                    "(4.3608042687992565e-06, 4.950521997670876e-06)",
                    "(4.357125362730585e-06, 4.646626166504575e-06)",
                    "(4.347421054262668e-06, 4.46951889898628e-06)",
                    "(4.328745035309112e-06, 4.8510355554753914e-06)",
                    "(4.282041118131019e-06, 5.025793143431656e-06)",
                    "(4.271747002349002e-06, 5.480309937411221e-06)",
                    "(4.255225121596595e-06, 4.814350177184679e-06)",
                    "(4.253579390933737e-06, 5.615634108835366e-06)",
                    "(4.252288817951921e-06, 4.762972821481526e-06)",
                    "(4.2500009840296116e-06, 5.223300377110718e-06)",
                    "(4.243102011969313e-06, 5.453912763186963e-06)",
                    "(4.231962066114647e-06, 5.5781647461117245e-06)",
                    "(4.228939815220656e-06, 5.488044735102449e-06)",
                    "(4.181051735940855e-06, 5.068710834166268e-06)",
                    "(4.137319137953455e-06, 5.547020464291563e-06)",
                    "(4.093143616046291e-06, 4.207476195006166e-06)",
                    "(4.064011591253802e-06, 5.250472895568237e-06)",
                    "(4.039774466946255e-06, 4.315385012887418e-06)",
                    "(4.038426141050877e-06, 4.302416527934838e-06)",
                    "(4.032929609820712e-06, 5.601679276878713e-06)",
                    "(3.968093551520724e-06, 4.826523309020558e-06)",
                    "(3.967596512666205e-06, 4.669725512940204e-06)",
                    "(3.964615643781144e-06, 4.826541953661945e-06)",
                    "(3.951263352064416e-06, 5.593846253759693e-06)",
                    "(3.945534444937948e-06, 4.358728801889811e-06)",
                    "(3.5457310332276393e-06, 4.232781066093594e-06)",
                    "(3.4488828077883227e-06, 3.7353338484535925e-06)"
                  ],
                  "mode": "markers",
                  "name": "H1",
                  "type": "scatter",
                  "x": [
                    0.00000730631336409715,
                    0.000006857202151877573,
                    0.000006662725354544818,
                    0.0000066245702328160405,
                    0.000006517930160043761,
                    0.000006459565156546887,
                    0.000006175116595841246,
                    0.000006087198471504962,
                    0.000006054079676687252,
                    0.000005935319677519146,
                    0.000005910492291150149,
                    0.0000058433452068129554,
                    0.0000058044333854923025,
                    0.000005623504421237158,
                    0.000005599924406851642,
                    0.000005561335456150118,
                    0.000005548560693569016,
                    0.0000055347391025861725,
                    0.000005509691618499346,
                    0.0000054826218729431275,
                    0.000005460591637529433,
                    0.000005436661467683734,
                    0.000005432335910882102,
                    0.0000054140145948622376,
                    0.000005394229447119869,
                    0.000005342574695532676,
                    0.000005316217993822647,
                    0.000005295260507409694,
                    0.000005282266101858113,
                    0.000005255633368506096,
                    0.000005228301688475767,
                    0.000005204415629123105,
                    0.000005198214694246417,
                    0.000005170838448975701,
                    0.000005136590061738389,
                    0.0000050139678933192044,
                    0.0000049978625611402094,
                    0.000004937853645969881,
                    0.000004925103439745726,
                    0.0000048906681513471995,
                    0.000004859938144363696,
                    0.000004858663942286512,
                    0.000004849983724852791,
                    0.000004828816599911079,
                    0.000004804825039173011,
                    0.000004775269189849496,
                    0.000004747897492052289,
                    0.0000046798809307802,
                    0.000004676789558288874,
                    0.000004672496288549155,
                    0.000004546197487798054,
                    0.000004499914666666882,
                    0.000004497416284721112,
                    0.000004496846941037802,
                    0.00000448414448328549,
                    0.000004461260232346831,
                    0.0000044538837755681016,
                    0.000004412944690557197,
                    0.000004399138106236933,
                    0.00000439618679592968,
                    0.0000043804748202092014,
                    0.0000043765089685621206,
                    0.00000436414029536536,
                    0.0000043608042687992565,
                    0.000004357125362730585,
                    0.000004347421054262668,
                    0.000004328745035309112,
                    0.000004282041118131019,
                    0.000004271747002349002,
                    0.000004255225121596595,
                    0.000004253579390933737,
                    0.000004252288817951921,
                    0.0000042500009840296116,
                    0.000004243102011969313,
                    0.000004231962066114647,
                    0.000004228939815220656,
                    0.000004181051735940855,
                    0.000004137319137953455,
                    0.000004093143616046291,
                    0.000004064011591253802,
                    0.000004039774466946255,
                    0.000004038426141050877,
                    0.000004032929609820712,
                    0.000003968093551520724,
                    0.000003967596512666205,
                    0.000003964615643781144,
                    0.000003951263352064416,
                    0.000003945534444937948,
                    0.0000035457310332276393,
                    0.0000034488828077883227
                  ],
                  "y": [
                    0.000007500116225855891,
                    0.000006881645276735071,
                    0.000007661691597604658,
                    0.000007391236977127846,
                    0.000007434501185343834,
                    0.000007109931175364181,
                    0.000006502671112684766,
                    0.000007005797669989988,
                    0.000007098689366102917,
                    0.00000626161408945336,
                    0.000006241131359274732,
                    0.000005995420451654354,
                    0.000006632643362536328,
                    0.0000062944600358605385,
                    0.000006098413905419875,
                    0.000005870408585906262,
                    0.00000623290179646574,
                    0.0000068298832047730684,
                    0.000006896755166962976,
                    0.000005499026428879006,
                    0.000005982210495858453,
                    0.00000591904426983092,
                    0.000005585536655416945,
                    0.000006402569397323532,
                    0.000005456488452182384,
                    0.000005667878667736659,
                    0.000005403478098742198,
                    0.000005811826213175664,
                    0.000006607901468669297,
                    0.0000054648744480800815,
                    0.000006653859600191936,
                    0.000005239094207354356,
                    0.000006264418516366277,
                    0.000005339220479072537,
                    0.000005332367436494678,
                    0.000005193462584429653,
                    0.000006954809578019194,
                    0.000005121900812810054,
                    0.000005228459485806525,
                    0.000005107292054162826,
                    0.0000050382400331727695,
                    0.0000064513683355471585,
                    0.000005460581178340362,
                    0.000004927493591821985,
                    0.000004893239747616462,
                    0.0000052334830797917675,
                    0.000005400986538006691,
                    0.000004929129318043124,
                    0.000006088809641369153,
                    0.000005057596354163252,
                    0.0000047067956074897666,
                    0.000004644368345907424,
                    0.000005371503448259318,
                    0.000004879388598055812,
                    0.000005089837941341102,
                    0.000005136187155585503,
                    0.000004862909008807037,
                    0.000004595653990691062,
                    0.000005290673470881302,
                    0.000004921428171655862,
                    0.000005068710834166268,
                    0.0000048499341573915444,
                    0.000005218994374445174,
                    0.000004950521997670876,
                    0.000004646626166504575,
                    0.00000446951889898628,
                    0.0000048510355554753914,
                    0.000005025793143431656,
                    0.000005480309937411221,
                    0.000004814350177184679,
                    0.000005615634108835366,
                    0.000004762972821481526,
                    0.000005223300377110718,
                    0.000005453912763186963,
                    0.0000055781647461117245,
                    0.000005488044735102449,
                    0.000005068710834166268,
                    0.000005547020464291563,
                    0.000004207476195006166,
                    0.000005250472895568237,
                    0.000004315385012887418,
                    0.000004302416527934838,
                    0.000005601679276878713,
                    0.000004826523309020558,
                    0.000004669725512940204,
                    0.000004826541953661945,
                    0.000005593846253759693,
                    0.000004358728801889811,
                    0.000004232781066093594,
                    0.0000037353338484535925
                  ]
                },
                {
                  "hoverinfo": "text",
                  "hovertext": [
                    "(8.021556823223364e-06, 8.035172868403606e-06)",
                    "(7.842148988856934e-06, 7.900097443780396e-06)",
                    "(7.417382676067064e-06, 7.633753739355598e-06)",
                    "(7.283751529030269e-06, 7.368368187599117e-06)",
                    "(7.176129656727426e-06, 7.68159679864766e-06)",
                    "(7.1140279942483176e-06, 7.636084774276242e-06)",
                    "(6.722507350787055e-06, 7.1062017923395615e-06)",
                    "(6.691562703053933e-06, 6.760786163795274e-06)",
                    "(6.642573225690285e-06, 6.648199814662803e-06)",
                    "(6.614931862714002e-06, 6.648199814662803e-06)",
                    "(6.524922355310991e-06, 6.72801434120629e-06)",
                    "(6.458118605223717e-06, 6.559499070135644e-06)",
                    "(6.357784968713531e-06, 6.4328119151468854e-06)",
                    "(6.273164672165876e-06, 6.3242437136068475e-06)",
                    "(6.110152298788307e-06, 6.1717732933175284e-06)",
                    "(6.074560587876476e-06, 6.1427826949511655e-06)",
                    "(6.0231195675441995e-06, 6.337126706057461e-06)",
                    "(6.016056886437582e-06, 6.179707270348445e-06)",
                    "(5.991639227431733e-06, 6.078015303501161e-06)",
                    "(5.959333066130057e-06, 5.976396096230019e-06)",
                    "(5.945801603957079e-06, 6.524609943880932e-06)",
                    "(5.9280937421135604e-06, 6.222000592970289e-06)",
                    "(5.911517746426398e-06, 6.008148830005666e-06)",
                    "(5.841672646056395e-06, 6.269417099247221e-06)",
                    "(5.8036644077219535e-06, 6.617606686631916e-06)",
                    "(5.786718247691169e-06, 6.019309239491122e-06)",
                    "(5.762842647527577e-06, 6.019309239491122e-06)",
                    "(5.718874945159769e-06, 5.893768957321299e-06)",
                    "(5.637552931148093e-06, 6.2111093939165585e-06)",
                    "(5.637552931148093e-06, 5.790966497443151e-06)",
                    "(5.613082521449542e-06, 6.562589987879619e-06)",
                    "(5.521016191778472e-06, 5.596779374172911e-06)",
                    "(5.108158347866265e-06, 5.574102033278905e-06)",
                    "(5.105624950374477e-06, 5.137535026733531e-06)"
                  ],
                  "mode": "markers",
                  "name": "H2",
                  "type": "scatter",
                  "x": [
                    0.000008021556823223364,
                    0.000007842148988856934,
                    0.000007417382676067064,
                    0.000007283751529030269,
                    0.000007176129656727426,
                    0.0000071140279942483176,
                    0.000006722507350787055,
                    0.000006691562703053933,
                    0.000006642573225690285,
                    0.000006614931862714002,
                    0.000006524922355310991,
                    0.000006458118605223717,
                    0.000006357784968713531,
                    0.000006273164672165876,
                    0.000006110152298788307,
                    0.000006074560587876476,
                    0.0000060231195675441995,
                    0.000006016056886437582,
                    0.000005991639227431733,
                    0.000005959333066130057,
                    0.000005945801603957079,
                    0.0000059280937421135604,
                    0.000005911517746426398,
                    0.000005841672646056395,
                    0.0000058036644077219535,
                    0.000005786718247691169,
                    0.000005762842647527577,
                    0.000005718874945159769,
                    0.000005637552931148093,
                    0.000005637552931148093,
                    0.000005613082521449542,
                    0.000005521016191778472,
                    0.000005108158347866265,
                    0.000005105624950374477
                  ],
                  "y": [
                    0.000008035172868403606,
                    0.000007900097443780396,
                    0.000007633753739355598,
                    0.000007368368187599117,
                    0.00000768159679864766,
                    0.000007636084774276242,
                    0.0000071062017923395615,
                    0.000006760786163795274,
                    0.000006648199814662803,
                    0.000006648199814662803,
                    0.00000672801434120629,
                    0.000006559499070135644,
                    0.0000064328119151468854,
                    0.0000063242437136068475,
                    0.0000061717732933175284,
                    0.0000061427826949511655,
                    0.000006337126706057461,
                    0.000006179707270348445,
                    0.000006078015303501161,
                    0.000005976396096230019,
                    0.000006524609943880932,
                    0.000006222000592970289,
                    0.000006008148830005666,
                    0.000006269417099247221,
                    0.000006617606686631916,
                    0.000006019309239491122,
                    0.000006019309239491122,
                    0.000005893768957321299,
                    0.0000062111093939165585,
                    0.000005790966497443151,
                    0.000006562589987879619,
                    0.000005596779374172911,
                    0.000005574102033278905,
                    0.000005137535026733531
                  ]
                }
              ],
              "layout": {
                "height": 500,
                "plot_bgcolor": "white",
                "template": {
                  "data": {
                    "bar": [
                      {
                        "error_x": {
                          "color": "#2a3f5f"
                        },
                        "error_y": {
                          "color": "#2a3f5f"
                        },
                        "marker": {
                          "line": {
                            "color": "#E5ECF6",
                            "width": 0.5
                          },
                          "pattern": {
                            "fillmode": "overlay",
                            "size": 10,
                            "solidity": 0.2
                          }
                        },
                        "type": "bar"
                      }
                    ],
                    "barpolar": [
                      {
                        "marker": {
                          "line": {
                            "color": "#E5ECF6",
                            "width": 0.5
                          },
                          "pattern": {
                            "fillmode": "overlay",
                            "size": 10,
                            "solidity": 0.2
                          }
                        },
                        "type": "barpolar"
                      }
                    ],
                    "carpet": [
                      {
                        "aaxis": {
                          "endlinecolor": "#2a3f5f",
                          "gridcolor": "white",
                          "linecolor": "white",
                          "minorgridcolor": "white",
                          "startlinecolor": "#2a3f5f"
                        },
                        "baxis": {
                          "endlinecolor": "#2a3f5f",
                          "gridcolor": "white",
                          "linecolor": "white",
                          "minorgridcolor": "white",
                          "startlinecolor": "#2a3f5f"
                        },
                        "type": "carpet"
                      }
                    ],
                    "choropleth": [
                      {
                        "colorbar": {
                          "outlinewidth": 0,
                          "ticks": ""
                        },
                        "type": "choropleth"
                      }
                    ],
                    "contour": [
                      {
                        "colorbar": {
                          "outlinewidth": 0,
                          "ticks": ""
                        },
                        "colorscale": [
                          [
                            0,
                            "#0d0887"
                          ],
                          [
                            0.1111111111111111,
                            "#46039f"
                          ],
                          [
                            0.2222222222222222,
                            "#7201a8"
                          ],
                          [
                            0.3333333333333333,
                            "#9c179e"
                          ],
                          [
                            0.4444444444444444,
                            "#bd3786"
                          ],
                          [
                            0.5555555555555556,
                            "#d8576b"
                          ],
                          [
                            0.6666666666666666,
                            "#ed7953"
                          ],
                          [
                            0.7777777777777778,
                            "#fb9f3a"
                          ],
                          [
                            0.8888888888888888,
                            "#fdca26"
                          ],
                          [
                            1,
                            "#f0f921"
                          ]
                        ],
                        "type": "contour"
                      }
                    ],
                    "contourcarpet": [
                      {
                        "colorbar": {
                          "outlinewidth": 0,
                          "ticks": ""
                        },
                        "type": "contourcarpet"
                      }
                    ],
                    "heatmap": [
                      {
                        "colorbar": {
                          "outlinewidth": 0,
                          "ticks": ""
                        },
                        "colorscale": [
                          [
                            0,
                            "#0d0887"
                          ],
                          [
                            0.1111111111111111,
                            "#46039f"
                          ],
                          [
                            0.2222222222222222,
                            "#7201a8"
                          ],
                          [
                            0.3333333333333333,
                            "#9c179e"
                          ],
                          [
                            0.4444444444444444,
                            "#bd3786"
                          ],
                          [
                            0.5555555555555556,
                            "#d8576b"
                          ],
                          [
                            0.6666666666666666,
                            "#ed7953"
                          ],
                          [
                            0.7777777777777778,
                            "#fb9f3a"
                          ],
                          [
                            0.8888888888888888,
                            "#fdca26"
                          ],
                          [
                            1,
                            "#f0f921"
                          ]
                        ],
                        "type": "heatmap"
                      }
                    ],
                    "heatmapgl": [
                      {
                        "colorbar": {
                          "outlinewidth": 0,
                          "ticks": ""
                        },
                        "colorscale": [
                          [
                            0,
                            "#0d0887"
                          ],
                          [
                            0.1111111111111111,
                            "#46039f"
                          ],
                          [
                            0.2222222222222222,
                            "#7201a8"
                          ],
                          [
                            0.3333333333333333,
                            "#9c179e"
                          ],
                          [
                            0.4444444444444444,
                            "#bd3786"
                          ],
                          [
                            0.5555555555555556,
                            "#d8576b"
                          ],
                          [
                            0.6666666666666666,
                            "#ed7953"
                          ],
                          [
                            0.7777777777777778,
                            "#fb9f3a"
                          ],
                          [
                            0.8888888888888888,
                            "#fdca26"
                          ],
                          [
                            1,
                            "#f0f921"
                          ]
                        ],
                        "type": "heatmapgl"
                      }
                    ],
                    "histogram": [
                      {
                        "marker": {
                          "pattern": {
                            "fillmode": "overlay",
                            "size": 10,
                            "solidity": 0.2
                          }
                        },
                        "type": "histogram"
                      }
                    ],
                    "histogram2d": [
                      {
                        "colorbar": {
                          "outlinewidth": 0,
                          "ticks": ""
                        },
                        "colorscale": [
                          [
                            0,
                            "#0d0887"
                          ],
                          [
                            0.1111111111111111,
                            "#46039f"
                          ],
                          [
                            0.2222222222222222,
                            "#7201a8"
                          ],
                          [
                            0.3333333333333333,
                            "#9c179e"
                          ],
                          [
                            0.4444444444444444,
                            "#bd3786"
                          ],
                          [
                            0.5555555555555556,
                            "#d8576b"
                          ],
                          [
                            0.6666666666666666,
                            "#ed7953"
                          ],
                          [
                            0.7777777777777778,
                            "#fb9f3a"
                          ],
                          [
                            0.8888888888888888,
                            "#fdca26"
                          ],
                          [
                            1,
                            "#f0f921"
                          ]
                        ],
                        "type": "histogram2d"
                      }
                    ],
                    "histogram2dcontour": [
                      {
                        "colorbar": {
                          "outlinewidth": 0,
                          "ticks": ""
                        },
                        "colorscale": [
                          [
                            0,
                            "#0d0887"
                          ],
                          [
                            0.1111111111111111,
                            "#46039f"
                          ],
                          [
                            0.2222222222222222,
                            "#7201a8"
                          ],
                          [
                            0.3333333333333333,
                            "#9c179e"
                          ],
                          [
                            0.4444444444444444,
                            "#bd3786"
                          ],
                          [
                            0.5555555555555556,
                            "#d8576b"
                          ],
                          [
                            0.6666666666666666,
                            "#ed7953"
                          ],
                          [
                            0.7777777777777778,
                            "#fb9f3a"
                          ],
                          [
                            0.8888888888888888,
                            "#fdca26"
                          ],
                          [
                            1,
                            "#f0f921"
                          ]
                        ],
                        "type": "histogram2dcontour"
                      }
                    ],
                    "mesh3d": [
                      {
                        "colorbar": {
                          "outlinewidth": 0,
                          "ticks": ""
                        },
                        "type": "mesh3d"
                      }
                    ],
                    "parcoords": [
                      {
                        "line": {
                          "colorbar": {
                            "outlinewidth": 0,
                            "ticks": ""
                          }
                        },
                        "type": "parcoords"
                      }
                    ],
                    "pie": [
                      {
                        "automargin": true,
                        "type": "pie"
                      }
                    ],
                    "scatter": [
                      {
                        "fillpattern": {
                          "fillmode": "overlay",
                          "size": 10,
                          "solidity": 0.2
                        },
                        "type": "scatter"
                      }
                    ],
                    "scatter3d": [
                      {
                        "line": {
                          "colorbar": {
                            "outlinewidth": 0,
                            "ticks": ""
                          }
                        },
                        "marker": {
                          "colorbar": {
                            "outlinewidth": 0,
                            "ticks": ""
                          }
                        },
                        "type": "scatter3d"
                      }
                    ],
                    "scattercarpet": [
                      {
                        "marker": {
                          "colorbar": {
                            "outlinewidth": 0,
                            "ticks": ""
                          }
                        },
                        "type": "scattercarpet"
                      }
                    ],
                    "scattergeo": [
                      {
                        "marker": {
                          "colorbar": {
                            "outlinewidth": 0,
                            "ticks": ""
                          }
                        },
                        "type": "scattergeo"
                      }
                    ],
                    "scattergl": [
                      {
                        "marker": {
                          "colorbar": {
                            "outlinewidth": 0,
                            "ticks": ""
                          }
                        },
                        "type": "scattergl"
                      }
                    ],
                    "scattermapbox": [
                      {
                        "marker": {
                          "colorbar": {
                            "outlinewidth": 0,
                            "ticks": ""
                          }
                        },
                        "type": "scattermapbox"
                      }
                    ],
                    "scatterpolar": [
                      {
                        "marker": {
                          "colorbar": {
                            "outlinewidth": 0,
                            "ticks": ""
                          }
                        },
                        "type": "scatterpolar"
                      }
                    ],
                    "scatterpolargl": [
                      {
                        "marker": {
                          "colorbar": {
                            "outlinewidth": 0,
                            "ticks": ""
                          }
                        },
                        "type": "scatterpolargl"
                      }
                    ],
                    "scatterternary": [
                      {
                        "marker": {
                          "colorbar": {
                            "outlinewidth": 0,
                            "ticks": ""
                          }
                        },
                        "type": "scatterternary"
                      }
                    ],
                    "surface": [
                      {
                        "colorbar": {
                          "outlinewidth": 0,
                          "ticks": ""
                        },
                        "colorscale": [
                          [
                            0,
                            "#0d0887"
                          ],
                          [
                            0.1111111111111111,
                            "#46039f"
                          ],
                          [
                            0.2222222222222222,
                            "#7201a8"
                          ],
                          [
                            0.3333333333333333,
                            "#9c179e"
                          ],
                          [
                            0.4444444444444444,
                            "#bd3786"
                          ],
                          [
                            0.5555555555555556,
                            "#d8576b"
                          ],
                          [
                            0.6666666666666666,
                            "#ed7953"
                          ],
                          [
                            0.7777777777777778,
                            "#fb9f3a"
                          ],
                          [
                            0.8888888888888888,
                            "#fdca26"
                          ],
                          [
                            1,
                            "#f0f921"
                          ]
                        ],
                        "type": "surface"
                      }
                    ],
                    "table": [
                      {
                        "cells": {
                          "fill": {
                            "color": "#EBF0F8"
                          },
                          "line": {
                            "color": "white"
                          }
                        },
                        "header": {
                          "fill": {
                            "color": "#C8D4E3"
                          },
                          "line": {
                            "color": "white"
                          }
                        },
                        "type": "table"
                      }
                    ]
                  },
                  "layout": {
                    "annotationdefaults": {
                      "arrowcolor": "#2a3f5f",
                      "arrowhead": 0,
                      "arrowwidth": 1
                    },
                    "autotypenumbers": "strict",
                    "coloraxis": {
                      "colorbar": {
                        "outlinewidth": 0,
                        "ticks": ""
                      }
                    },
                    "colorscale": {
                      "diverging": [
                        [
                          0,
                          "#8e0152"
                        ],
                        [
                          0.1,
                          "#c51b7d"
                        ],
                        [
                          0.2,
                          "#de77ae"
                        ],
                        [
                          0.3,
                          "#f1b6da"
                        ],
                        [
                          0.4,
                          "#fde0ef"
                        ],
                        [
                          0.5,
                          "#f7f7f7"
                        ],
                        [
                          0.6,
                          "#e6f5d0"
                        ],
                        [
                          0.7,
                          "#b8e186"
                        ],
                        [
                          0.8,
                          "#7fbc41"
                        ],
                        [
                          0.9,
                          "#4d9221"
                        ],
                        [
                          1,
                          "#276419"
                        ]
                      ],
                      "sequential": [
                        [
                          0,
                          "#0d0887"
                        ],
                        [
                          0.1111111111111111,
                          "#46039f"
                        ],
                        [
                          0.2222222222222222,
                          "#7201a8"
                        ],
                        [
                          0.3333333333333333,
                          "#9c179e"
                        ],
                        [
                          0.4444444444444444,
                          "#bd3786"
                        ],
                        [
                          0.5555555555555556,
                          "#d8576b"
                        ],
                        [
                          0.6666666666666666,
                          "#ed7953"
                        ],
                        [
                          0.7777777777777778,
                          "#fb9f3a"
                        ],
                        [
                          0.8888888888888888,
                          "#fdca26"
                        ],
                        [
                          1,
                          "#f0f921"
                        ]
                      ],
                      "sequentialminus": [
                        [
                          0,
                          "#0d0887"
                        ],
                        [
                          0.1111111111111111,
                          "#46039f"
                        ],
                        [
                          0.2222222222222222,
                          "#7201a8"
                        ],
                        [
                          0.3333333333333333,
                          "#9c179e"
                        ],
                        [
                          0.4444444444444444,
                          "#bd3786"
                        ],
                        [
                          0.5555555555555556,
                          "#d8576b"
                        ],
                        [
                          0.6666666666666666,
                          "#ed7953"
                        ],
                        [
                          0.7777777777777778,
                          "#fb9f3a"
                        ],
                        [
                          0.8888888888888888,
                          "#fdca26"
                        ],
                        [
                          1,
                          "#f0f921"
                        ]
                      ]
                    },
                    "colorway": [
                      "#636efa",
                      "#EF553B",
                      "#00cc96",
                      "#ab63fa",
                      "#FFA15A",
                      "#19d3f3",
                      "#FF6692",
                      "#B6E880",
                      "#FF97FF",
                      "#FECB52"
                    ],
                    "font": {
                      "color": "#2a3f5f"
                    },
                    "geo": {
                      "bgcolor": "white",
                      "lakecolor": "white",
                      "landcolor": "#E5ECF6",
                      "showlakes": true,
                      "showland": true,
                      "subunitcolor": "white"
                    },
                    "hoverlabel": {
                      "align": "left"
                    },
                    "hovermode": "closest",
                    "mapbox": {
                      "style": "light"
                    },
                    "paper_bgcolor": "white",
                    "plot_bgcolor": "#E5ECF6",
                    "polar": {
                      "angularaxis": {
                        "gridcolor": "white",
                        "linecolor": "white",
                        "ticks": ""
                      },
                      "bgcolor": "#E5ECF6",
                      "radialaxis": {
                        "gridcolor": "white",
                        "linecolor": "white",
                        "ticks": ""
                      }
                    },
                    "scene": {
                      "xaxis": {
                        "backgroundcolor": "#E5ECF6",
                        "gridcolor": "white",
                        "gridwidth": 2,
                        "linecolor": "white",
                        "showbackground": true,
                        "ticks": "",
                        "zerolinecolor": "white"
                      },
                      "yaxis": {
                        "backgroundcolor": "#E5ECF6",
                        "gridcolor": "white",
                        "gridwidth": 2,
                        "linecolor": "white",
                        "showbackground": true,
                        "ticks": "",
                        "zerolinecolor": "white"
                      },
                      "zaxis": {
                        "backgroundcolor": "#E5ECF6",
                        "gridcolor": "white",
                        "gridwidth": 2,
                        "linecolor": "white",
                        "showbackground": true,
                        "ticks": "",
                        "zerolinecolor": "white"
                      }
                    },
                    "shapedefaults": {
                      "line": {
                        "color": "#2a3f5f"
                      }
                    },
                    "ternary": {
                      "aaxis": {
                        "gridcolor": "white",
                        "linecolor": "white",
                        "ticks": ""
                      },
                      "baxis": {
                        "gridcolor": "white",
                        "linecolor": "white",
                        "ticks": ""
                      },
                      "bgcolor": "#E5ECF6",
                      "caxis": {
                        "gridcolor": "white",
                        "linecolor": "white",
                        "ticks": ""
                      }
                    },
                    "title": {
                      "x": 0.05
                    },
                    "xaxis": {
                      "automargin": true,
                      "gridcolor": "white",
                      "linecolor": "white",
                      "ticks": "",
                      "title": {
                        "standoff": 15
                      },
                      "zerolinecolor": "white",
                      "zerolinewidth": 2
                    },
                    "yaxis": {
                      "automargin": true,
                      "gridcolor": "white",
                      "linecolor": "white",
                      "ticks": "",
                      "title": {
                        "standoff": 15
                      },
                      "zerolinecolor": "white",
                      "zerolinewidth": 2
                    }
                  }
                },
                "width": 500,
                "xaxis": {
                  "autorange": false,
                  "exponentformat": "e",
                  "linecolor": "black",
                  "linewidth": 1,
                  "mirror": false,
                  "range": [
                    0.000003357157006576017,
                    0.000008126898669615913
                  ],
                  "showexponent": "all",
                  "showline": true,
                  "side": "bottom",
                  "ticks": "outside",
                  "title": {
                    "text": "Birth"
                  },
                  "type": "linear",
                  "zeroline": true
                },
                "yaxis": {
                  "autorange": false,
                  "exponentformat": "e",
                  "linecolor": "black",
                  "linewidth": 1,
                  "mirror": false,
                  "range": [
                    0.000003357157006576017,
                    0.000008126898669615913
                  ],
                  "scaleanchor": "x",
                  "scaleratio": 1,
                  "showexponent": "all",
                  "showline": true,
                  "side": "left",
                  "ticks": "outside",
                  "title": {
                    "text": "Death"
                  },
                  "type": "linear",
                  "zeroline": true
                }
              }
            }
          },
          "metadata": {},
          "output_type": "display_data"
        }
      ],
      "source": [
        "diagrams_plot = gtda.plotting.plot_diagram(diagrams[print_obj])\n",
        "display(diagrams_plot)\n",
        "diagrams_plot.write_image(file = f\"{subj}/{exp}/diagram.svg\", format = \"svg\")"
      ]
    },
    {
      "cell_type": "markdown",
      "metadata": {},
      "source": [
        "##### FeatureCalculator"
      ]
    },
    {
      "cell_type": "code",
      "execution_count": 19,
      "metadata": {},
      "outputs": [
        {
          "name": "stderr",
          "output_type": "stream",
          "text": [
            "100%|██████████| 41840/41840 [01:28<00:00, 474.45it/s]\n",
            "100%|██████████| 5/5 [00:22<00:00,  4.53s/it]\n",
            "100%|██████████| 41840/41840 [04:12<00:00, 165.90it/s]\n"
          ]
        },
        {
          "data": {
            "text/html": [
              "<div>\n",
              "<style scoped>\n",
              "    .dataframe tbody tr th:only-of-type {\n",
              "        vertical-align: middle;\n",
              "    }\n",
              "\n",
              "    .dataframe tbody tr th {\n",
              "        vertical-align: top;\n",
              "    }\n",
              "\n",
              "    .dataframe thead th {\n",
              "        text-align: right;\n",
              "    }\n",
              "</style>\n",
              "<table border=\"1\" class=\"dataframe\">\n",
              "  <thead>\n",
              "    <tr style=\"text-align: right;\">\n",
              "      <th></th>\n",
              "      <th>betti-1 max</th>\n",
              "      <th>betti-1 mean</th>\n",
              "      <th>betti-1 std</th>\n",
              "      <th>betti-1 sum</th>\n",
              "      <th>betti-1 norm</th>\n",
              "      <th>betti-1 percentile-25</th>\n",
              "      <th>betti-1 median</th>\n",
              "      <th>betti-1 percentile-75</th>\n",
              "      <th>betti-1 percentile-90</th>\n",
              "      <th>betti-1 kurtosis</th>\n",
              "      <th>...</th>\n",
              "      <th>bd2-2 mean</th>\n",
              "      <th>bd2-2 std</th>\n",
              "      <th>bd2-2 sum</th>\n",
              "      <th>bd2-2 norm</th>\n",
              "      <th>bd2-2 percentile-25</th>\n",
              "      <th>bd2-2 median</th>\n",
              "      <th>bd2-2 percentile-75</th>\n",
              "      <th>bd2-2 percentile-90</th>\n",
              "      <th>bd2-2 kurtosis</th>\n",
              "      <th>bd2-2 skew</th>\n",
              "    </tr>\n",
              "  </thead>\n",
              "  <tbody>\n",
              "    <tr>\n",
              "      <th>0</th>\n",
              "      <td>18.00</td>\n",
              "      <td>0.00</td>\n",
              "      <td>3.10</td>\n",
              "      <td>0.00</td>\n",
              "      <td>30.82</td>\n",
              "      <td>0.00</td>\n",
              "      <td>0.00</td>\n",
              "      <td>0.00</td>\n",
              "      <td>0.00</td>\n",
              "      <td>19.58</td>\n",
              "      <td>...</td>\n",
              "      <td>0.00</td>\n",
              "      <td>0.00</td>\n",
              "      <td>0.00</td>\n",
              "      <td>0.00</td>\n",
              "      <td>0.00</td>\n",
              "      <td>0.00</td>\n",
              "      <td>0.00</td>\n",
              "      <td>0.00</td>\n",
              "      <td>-0.79</td>\n",
              "      <td>0.66</td>\n",
              "    </tr>\n",
              "    <tr>\n",
              "      <th>1</th>\n",
              "      <td>14.00</td>\n",
              "      <td>0.00</td>\n",
              "      <td>2.07</td>\n",
              "      <td>0.00</td>\n",
              "      <td>20.64</td>\n",
              "      <td>0.00</td>\n",
              "      <td>0.00</td>\n",
              "      <td>0.00</td>\n",
              "      <td>0.00</td>\n",
              "      <td>27.49</td>\n",
              "      <td>...</td>\n",
              "      <td>0.00</td>\n",
              "      <td>0.00</td>\n",
              "      <td>0.00</td>\n",
              "      <td>0.00</td>\n",
              "      <td>0.00</td>\n",
              "      <td>0.00</td>\n",
              "      <td>0.00</td>\n",
              "      <td>0.00</td>\n",
              "      <td>2.15</td>\n",
              "      <td>-1.44</td>\n",
              "    </tr>\n",
              "    <tr>\n",
              "      <th>2</th>\n",
              "      <td>10.00</td>\n",
              "      <td>0.00</td>\n",
              "      <td>1.59</td>\n",
              "      <td>0.00</td>\n",
              "      <td>15.81</td>\n",
              "      <td>0.00</td>\n",
              "      <td>0.00</td>\n",
              "      <td>0.00</td>\n",
              "      <td>0.00</td>\n",
              "      <td>21.90</td>\n",
              "      <td>...</td>\n",
              "      <td>0.00</td>\n",
              "      <td>0.00</td>\n",
              "      <td>0.00</td>\n",
              "      <td>0.00</td>\n",
              "      <td>0.00</td>\n",
              "      <td>0.00</td>\n",
              "      <td>0.00</td>\n",
              "      <td>0.00</td>\n",
              "      <td>-0.86</td>\n",
              "      <td>-0.70</td>\n",
              "    </tr>\n",
              "    <tr>\n",
              "      <th>3</th>\n",
              "      <td>16.00</td>\n",
              "      <td>0.00</td>\n",
              "      <td>2.32</td>\n",
              "      <td>0.00</td>\n",
              "      <td>23.07</td>\n",
              "      <td>0.00</td>\n",
              "      <td>0.00</td>\n",
              "      <td>0.00</td>\n",
              "      <td>0.00</td>\n",
              "      <td>33.92</td>\n",
              "      <td>...</td>\n",
              "      <td>0.00</td>\n",
              "      <td>0.00</td>\n",
              "      <td>0.00</td>\n",
              "      <td>0.00</td>\n",
              "      <td>0.00</td>\n",
              "      <td>0.00</td>\n",
              "      <td>0.00</td>\n",
              "      <td>0.00</td>\n",
              "      <td>0.04</td>\n",
              "      <td>1.00</td>\n",
              "    </tr>\n",
              "    <tr>\n",
              "      <th>4</th>\n",
              "      <td>7.00</td>\n",
              "      <td>0.00</td>\n",
              "      <td>1.31</td>\n",
              "      <td>0.00</td>\n",
              "      <td>13.04</td>\n",
              "      <td>0.00</td>\n",
              "      <td>0.00</td>\n",
              "      <td>0.00</td>\n",
              "      <td>0.00</td>\n",
              "      <td>29.19</td>\n",
              "      <td>...</td>\n",
              "      <td>0.00</td>\n",
              "      <td>0.00</td>\n",
              "      <td>0.00</td>\n",
              "      <td>0.00</td>\n",
              "      <td>0.00</td>\n",
              "      <td>0.00</td>\n",
              "      <td>0.00</td>\n",
              "      <td>0.00</td>\n",
              "      <td>-1.34</td>\n",
              "      <td>-0.46</td>\n",
              "    </tr>\n",
              "    <tr>\n",
              "      <th>...</th>\n",
              "      <td>...</td>\n",
              "      <td>...</td>\n",
              "      <td>...</td>\n",
              "      <td>...</td>\n",
              "      <td>...</td>\n",
              "      <td>...</td>\n",
              "      <td>...</td>\n",
              "      <td>...</td>\n",
              "      <td>...</td>\n",
              "      <td>...</td>\n",
              "      <td>...</td>\n",
              "      <td>...</td>\n",
              "      <td>...</td>\n",
              "      <td>...</td>\n",
              "      <td>...</td>\n",
              "      <td>...</td>\n",
              "      <td>...</td>\n",
              "      <td>...</td>\n",
              "      <td>...</td>\n",
              "      <td>...</td>\n",
              "      <td>...</td>\n",
              "    </tr>\n",
              "    <tr>\n",
              "      <th>41835</th>\n",
              "      <td>12.00</td>\n",
              "      <td>0.00</td>\n",
              "      <td>2.31</td>\n",
              "      <td>0.00</td>\n",
              "      <td>22.93</td>\n",
              "      <td>0.00</td>\n",
              "      <td>0.00</td>\n",
              "      <td>0.00</td>\n",
              "      <td>0.00</td>\n",
              "      <td>25.86</td>\n",
              "      <td>...</td>\n",
              "      <td>0.00</td>\n",
              "      <td>0.00</td>\n",
              "      <td>0.00</td>\n",
              "      <td>0.00</td>\n",
              "      <td>0.00</td>\n",
              "      <td>0.00</td>\n",
              "      <td>0.00</td>\n",
              "      <td>0.00</td>\n",
              "      <td>-0.68</td>\n",
              "      <td>0.65</td>\n",
              "    </tr>\n",
              "    <tr>\n",
              "      <th>41836</th>\n",
              "      <td>12.00</td>\n",
              "      <td>0.00</td>\n",
              "      <td>1.49</td>\n",
              "      <td>0.00</td>\n",
              "      <td>14.83</td>\n",
              "      <td>0.00</td>\n",
              "      <td>0.00</td>\n",
              "      <td>0.00</td>\n",
              "      <td>0.00</td>\n",
              "      <td>41.98</td>\n",
              "      <td>...</td>\n",
              "      <td>0.00</td>\n",
              "      <td>0.00</td>\n",
              "      <td>0.00</td>\n",
              "      <td>0.00</td>\n",
              "      <td>0.00</td>\n",
              "      <td>0.00</td>\n",
              "      <td>0.00</td>\n",
              "      <td>0.00</td>\n",
              "      <td>-1.11</td>\n",
              "      <td>-0.20</td>\n",
              "    </tr>\n",
              "    <tr>\n",
              "      <th>41837</th>\n",
              "      <td>10.00</td>\n",
              "      <td>0.00</td>\n",
              "      <td>1.36</td>\n",
              "      <td>0.00</td>\n",
              "      <td>13.56</td>\n",
              "      <td>0.00</td>\n",
              "      <td>0.00</td>\n",
              "      <td>0.00</td>\n",
              "      <td>0.00</td>\n",
              "      <td>31.82</td>\n",
              "      <td>...</td>\n",
              "      <td>0.00</td>\n",
              "      <td>0.00</td>\n",
              "      <td>0.00</td>\n",
              "      <td>0.00</td>\n",
              "      <td>0.00</td>\n",
              "      <td>0.00</td>\n",
              "      <td>0.00</td>\n",
              "      <td>0.00</td>\n",
              "      <td>-1.81</td>\n",
              "      <td>0.15</td>\n",
              "    </tr>\n",
              "    <tr>\n",
              "      <th>41838</th>\n",
              "      <td>18.00</td>\n",
              "      <td>0.00</td>\n",
              "      <td>2.43</td>\n",
              "      <td>0.00</td>\n",
              "      <td>24.21</td>\n",
              "      <td>0.00</td>\n",
              "      <td>0.00</td>\n",
              "      <td>0.00</td>\n",
              "      <td>0.00</td>\n",
              "      <td>42.05</td>\n",
              "      <td>...</td>\n",
              "      <td>0.00</td>\n",
              "      <td>0.00</td>\n",
              "      <td>0.00</td>\n",
              "      <td>0.00</td>\n",
              "      <td>0.00</td>\n",
              "      <td>0.00</td>\n",
              "      <td>0.00</td>\n",
              "      <td>0.00</td>\n",
              "      <td>-1.20</td>\n",
              "      <td>0.35</td>\n",
              "    </tr>\n",
              "    <tr>\n",
              "      <th>41839</th>\n",
              "      <td>12.00</td>\n",
              "      <td>0.00</td>\n",
              "      <td>1.94</td>\n",
              "      <td>0.00</td>\n",
              "      <td>19.29</td>\n",
              "      <td>0.00</td>\n",
              "      <td>0.00</td>\n",
              "      <td>0.00</td>\n",
              "      <td>0.00</td>\n",
              "      <td>29.79</td>\n",
              "      <td>...</td>\n",
              "      <td>0.00</td>\n",
              "      <td>0.00</td>\n",
              "      <td>0.00</td>\n",
              "      <td>0.00</td>\n",
              "      <td>0.00</td>\n",
              "      <td>0.00</td>\n",
              "      <td>0.00</td>\n",
              "      <td>0.00</td>\n",
              "      <td>0.34</td>\n",
              "      <td>1.04</td>\n",
              "    </tr>\n",
              "  </tbody>\n",
              "</table>\n",
              "<p>41840 rows × 107 columns</p>\n",
              "</div>"
            ],
            "text/plain": [
              "        betti-1 max   betti-1 mean   betti-1 std   betti-1 sum   betti-1 norm  \\\n",
              "0             18.00           0.00          3.10          0.00          30.82   \n",
              "1             14.00           0.00          2.07          0.00          20.64   \n",
              "2             10.00           0.00          1.59          0.00          15.81   \n",
              "3             16.00           0.00          2.32          0.00          23.07   \n",
              "4              7.00           0.00          1.31          0.00          13.04   \n",
              "...             ...            ...           ...           ...            ...   \n",
              "41835         12.00           0.00          2.31          0.00          22.93   \n",
              "41836         12.00           0.00          1.49          0.00          14.83   \n",
              "41837         10.00           0.00          1.36          0.00          13.56   \n",
              "41838         18.00           0.00          2.43          0.00          24.21   \n",
              "41839         12.00           0.00          1.94          0.00          19.29   \n",
              "\n",
              "        betti-1 percentile-25   betti-1 median   betti-1 percentile-75  \\\n",
              "0                        0.00             0.00                    0.00   \n",
              "1                        0.00             0.00                    0.00   \n",
              "2                        0.00             0.00                    0.00   \n",
              "3                        0.00             0.00                    0.00   \n",
              "4                        0.00             0.00                    0.00   \n",
              "...                       ...              ...                     ...   \n",
              "41835                    0.00             0.00                    0.00   \n",
              "41836                    0.00             0.00                    0.00   \n",
              "41837                    0.00             0.00                    0.00   \n",
              "41838                    0.00             0.00                    0.00   \n",
              "41839                    0.00             0.00                    0.00   \n",
              "\n",
              "        betti-1 percentile-90   betti-1 kurtosis  ...   bd2-2 mean  \\\n",
              "0                        0.00              19.58  ...         0.00   \n",
              "1                        0.00              27.49  ...         0.00   \n",
              "2                        0.00              21.90  ...         0.00   \n",
              "3                        0.00              33.92  ...         0.00   \n",
              "4                        0.00              29.19  ...         0.00   \n",
              "...                       ...                ...  ...          ...   \n",
              "41835                    0.00              25.86  ...         0.00   \n",
              "41836                    0.00              41.98  ...         0.00   \n",
              "41837                    0.00              31.82  ...         0.00   \n",
              "41838                    0.00              42.05  ...         0.00   \n",
              "41839                    0.00              29.79  ...         0.00   \n",
              "\n",
              "        bd2-2 std   bd2-2 sum   bd2-2 norm   bd2-2 percentile-25  \\\n",
              "0            0.00        0.00         0.00                  0.00   \n",
              "1            0.00        0.00         0.00                  0.00   \n",
              "2            0.00        0.00         0.00                  0.00   \n",
              "3            0.00        0.00         0.00                  0.00   \n",
              "4            0.00        0.00         0.00                  0.00   \n",
              "...           ...         ...          ...                   ...   \n",
              "41835        0.00        0.00         0.00                  0.00   \n",
              "41836        0.00        0.00         0.00                  0.00   \n",
              "41837        0.00        0.00         0.00                  0.00   \n",
              "41838        0.00        0.00         0.00                  0.00   \n",
              "41839        0.00        0.00         0.00                  0.00   \n",
              "\n",
              "        bd2-2 median   bd2-2 percentile-75   bd2-2 percentile-90  \\\n",
              "0               0.00                  0.00                  0.00   \n",
              "1               0.00                  0.00                  0.00   \n",
              "2               0.00                  0.00                  0.00   \n",
              "3               0.00                  0.00                  0.00   \n",
              "4               0.00                  0.00                  0.00   \n",
              "...              ...                   ...                   ...   \n",
              "41835           0.00                  0.00                  0.00   \n",
              "41836           0.00                  0.00                  0.00   \n",
              "41837           0.00                  0.00                  0.00   \n",
              "41838           0.00                  0.00                  0.00   \n",
              "41839           0.00                  0.00                  0.00   \n",
              "\n",
              "        bd2-2 kurtosis   bd2-2 skew  \n",
              "0                -0.79         0.66  \n",
              "1                 2.15        -1.44  \n",
              "2                -0.86        -0.70  \n",
              "3                 0.04         1.00  \n",
              "4                -1.34        -0.46  \n",
              "...                ...          ...  \n",
              "41835            -0.68         0.65  \n",
              "41836            -1.11        -0.20  \n",
              "41837            -1.81         0.15  \n",
              "41838            -1.20         0.35  \n",
              "41839             0.34         1.04  \n",
              "\n",
              "[41840 rows x 107 columns]"
            ]
          },
          "execution_count": 19,
          "metadata": {},
          "output_type": "execute_result"
        }
      ],
      "source": [
        "channel_features_raw = FeatureCalculator().calc_features(diagrams)\n",
        "channel_features_raw"
      ]
    },
    {
      "cell_type": "code",
      "execution_count": 45,
      "metadata": {},
      "outputs": [
        {
          "data": {
            "text/html": [
              "<div>\n",
              "<style scoped>\n",
              "    .dataframe tbody tr th:only-of-type {\n",
              "        vertical-align: middle;\n",
              "    }\n",
              "\n",
              "    .dataframe tbody tr th {\n",
              "        vertical-align: top;\n",
              "    }\n",
              "\n",
              "    .dataframe thead th {\n",
              "        text-align: right;\n",
              "    }\n",
              "</style>\n",
              "<table border=\"1\" class=\"dataframe\">\n",
              "  <thead>\n",
              "    <tr style=\"text-align: right;\">\n",
              "      <th></th>\n",
              "      <th>feature-0 betti-1 max</th>\n",
              "      <th>feature-0 betti-1 mean</th>\n",
              "      <th>feature-0 betti-1 std</th>\n",
              "      <th>feature-0 betti-1 sum</th>\n",
              "      <th>feature-0 betti-1 norm</th>\n",
              "      <th>feature-0 betti-1 percentile-25</th>\n",
              "      <th>feature-0 betti-1 median</th>\n",
              "      <th>feature-0 betti-1 percentile-75</th>\n",
              "      <th>feature-0 betti-1 percentile-90</th>\n",
              "      <th>feature-0 betti-1 kurtosis</th>\n",
              "      <th>...</th>\n",
              "      <th>feature-39 bd2-2 mean</th>\n",
              "      <th>feature-39 bd2-2 std</th>\n",
              "      <th>feature-39 bd2-2 sum</th>\n",
              "      <th>feature-39 bd2-2 norm</th>\n",
              "      <th>feature-39 bd2-2 percentile-25</th>\n",
              "      <th>feature-39 bd2-2 median</th>\n",
              "      <th>feature-39 bd2-2 percentile-75</th>\n",
              "      <th>feature-39 bd2-2 percentile-90</th>\n",
              "      <th>feature-39 bd2-2 kurtosis</th>\n",
              "      <th>feature-39 bd2-2 skew</th>\n",
              "    </tr>\n",
              "  </thead>\n",
              "  <tbody>\n",
              "    <tr>\n",
              "      <th>0</th>\n",
              "      <td>18.00</td>\n",
              "      <td>0.00</td>\n",
              "      <td>3.10</td>\n",
              "      <td>0.00</td>\n",
              "      <td>30.82</td>\n",
              "      <td>0.00</td>\n",
              "      <td>0.00</td>\n",
              "      <td>0.00</td>\n",
              "      <td>0.00</td>\n",
              "      <td>19.58</td>\n",
              "      <td>...</td>\n",
              "      <td>0.00</td>\n",
              "      <td>0.00</td>\n",
              "      <td>0.00</td>\n",
              "      <td>0.00</td>\n",
              "      <td>0.00</td>\n",
              "      <td>0.00</td>\n",
              "      <td>0.00</td>\n",
              "      <td>0.00</td>\n",
              "      <td>-1.35</td>\n",
              "      <td>-0.17</td>\n",
              "    </tr>\n",
              "    <tr>\n",
              "      <th>1</th>\n",
              "      <td>25.00</td>\n",
              "      <td>0.00</td>\n",
              "      <td>3.68</td>\n",
              "      <td>0.00</td>\n",
              "      <td>36.66</td>\n",
              "      <td>0.00</td>\n",
              "      <td>0.00</td>\n",
              "      <td>0.00</td>\n",
              "      <td>0.00</td>\n",
              "      <td>34.48</td>\n",
              "      <td>...</td>\n",
              "      <td>0.00</td>\n",
              "      <td>0.00</td>\n",
              "      <td>0.00</td>\n",
              "      <td>0.00</td>\n",
              "      <td>0.00</td>\n",
              "      <td>0.00</td>\n",
              "      <td>0.00</td>\n",
              "      <td>0.00</td>\n",
              "      <td>0.44</td>\n",
              "      <td>1.42</td>\n",
              "    </tr>\n",
              "    <tr>\n",
              "      <th>2</th>\n",
              "      <td>15.00</td>\n",
              "      <td>0.00</td>\n",
              "      <td>2.60</td>\n",
              "      <td>0.00</td>\n",
              "      <td>25.85</td>\n",
              "      <td>0.00</td>\n",
              "      <td>0.00</td>\n",
              "      <td>0.00</td>\n",
              "      <td>0.00</td>\n",
              "      <td>22.20</td>\n",
              "      <td>...</td>\n",
              "      <td>0.00</td>\n",
              "      <td>0.00</td>\n",
              "      <td>0.00</td>\n",
              "      <td>0.00</td>\n",
              "      <td>0.00</td>\n",
              "      <td>0.00</td>\n",
              "      <td>0.00</td>\n",
              "      <td>0.00</td>\n",
              "      <td>2.66</td>\n",
              "      <td>2.07</td>\n",
              "    </tr>\n",
              "    <tr>\n",
              "      <th>3</th>\n",
              "      <td>7.00</td>\n",
              "      <td>0.00</td>\n",
              "      <td>1.52</td>\n",
              "      <td>0.00</td>\n",
              "      <td>15.10</td>\n",
              "      <td>0.00</td>\n",
              "      <td>0.00</td>\n",
              "      <td>0.00</td>\n",
              "      <td>0.00</td>\n",
              "      <td>18.44</td>\n",
              "      <td>...</td>\n",
              "      <td>0.00</td>\n",
              "      <td>0.00</td>\n",
              "      <td>0.00</td>\n",
              "      <td>0.00</td>\n",
              "      <td>0.00</td>\n",
              "      <td>0.00</td>\n",
              "      <td>0.00</td>\n",
              "      <td>0.00</td>\n",
              "      <td>-0.35</td>\n",
              "      <td>0.51</td>\n",
              "    </tr>\n",
              "    <tr>\n",
              "      <th>4</th>\n",
              "      <td>6.00</td>\n",
              "      <td>0.00</td>\n",
              "      <td>1.46</td>\n",
              "      <td>0.00</td>\n",
              "      <td>14.56</td>\n",
              "      <td>0.00</td>\n",
              "      <td>0.00</td>\n",
              "      <td>0.00</td>\n",
              "      <td>0.00</td>\n",
              "      <td>19.12</td>\n",
              "      <td>...</td>\n",
              "      <td>0.00</td>\n",
              "      <td>0.00</td>\n",
              "      <td>0.00</td>\n",
              "      <td>0.00</td>\n",
              "      <td>0.00</td>\n",
              "      <td>0.00</td>\n",
              "      <td>0.00</td>\n",
              "      <td>0.00</td>\n",
              "      <td>-1.43</td>\n",
              "      <td>0.63</td>\n",
              "    </tr>\n",
              "    <tr>\n",
              "      <th>...</th>\n",
              "      <td>...</td>\n",
              "      <td>...</td>\n",
              "      <td>...</td>\n",
              "      <td>...</td>\n",
              "      <td>...</td>\n",
              "      <td>...</td>\n",
              "      <td>...</td>\n",
              "      <td>...</td>\n",
              "      <td>...</td>\n",
              "      <td>...</td>\n",
              "      <td>...</td>\n",
              "      <td>...</td>\n",
              "      <td>...</td>\n",
              "      <td>...</td>\n",
              "      <td>...</td>\n",
              "      <td>...</td>\n",
              "      <td>...</td>\n",
              "      <td>...</td>\n",
              "      <td>...</td>\n",
              "      <td>...</td>\n",
              "      <td>...</td>\n",
              "    </tr>\n",
              "    <tr>\n",
              "      <th>1041</th>\n",
              "      <td>13.00</td>\n",
              "      <td>0.00</td>\n",
              "      <td>1.65</td>\n",
              "      <td>0.00</td>\n",
              "      <td>16.37</td>\n",
              "      <td>0.00</td>\n",
              "      <td>0.00</td>\n",
              "      <td>0.00</td>\n",
              "      <td>0.00</td>\n",
              "      <td>38.08</td>\n",
              "      <td>...</td>\n",
              "      <td>0.00</td>\n",
              "      <td>0.00</td>\n",
              "      <td>0.00</td>\n",
              "      <td>0.00</td>\n",
              "      <td>0.00</td>\n",
              "      <td>0.00</td>\n",
              "      <td>0.00</td>\n",
              "      <td>0.00</td>\n",
              "      <td>-1.03</td>\n",
              "      <td>-0.18</td>\n",
              "    </tr>\n",
              "    <tr>\n",
              "      <th>1042</th>\n",
              "      <td>6.00</td>\n",
              "      <td>0.00</td>\n",
              "      <td>0.95</td>\n",
              "      <td>0.00</td>\n",
              "      <td>9.49</td>\n",
              "      <td>0.00</td>\n",
              "      <td>0.00</td>\n",
              "      <td>0.00</td>\n",
              "      <td>0.00</td>\n",
              "      <td>18.19</td>\n",
              "      <td>...</td>\n",
              "      <td>0.00</td>\n",
              "      <td>0.00</td>\n",
              "      <td>0.00</td>\n",
              "      <td>0.00</td>\n",
              "      <td>0.00</td>\n",
              "      <td>0.00</td>\n",
              "      <td>0.00</td>\n",
              "      <td>0.00</td>\n",
              "      <td>-0.68</td>\n",
              "      <td>1.13</td>\n",
              "    </tr>\n",
              "    <tr>\n",
              "      <th>1043</th>\n",
              "      <td>11.00</td>\n",
              "      <td>0.00</td>\n",
              "      <td>1.92</td>\n",
              "      <td>0.00</td>\n",
              "      <td>19.08</td>\n",
              "      <td>0.00</td>\n",
              "      <td>0.00</td>\n",
              "      <td>0.00</td>\n",
              "      <td>0.00</td>\n",
              "      <td>21.42</td>\n",
              "      <td>...</td>\n",
              "      <td>0.00</td>\n",
              "      <td>0.00</td>\n",
              "      <td>0.00</td>\n",
              "      <td>0.00</td>\n",
              "      <td>0.00</td>\n",
              "      <td>0.00</td>\n",
              "      <td>0.00</td>\n",
              "      <td>0.00</td>\n",
              "      <td>0.85</td>\n",
              "      <td>1.42</td>\n",
              "    </tr>\n",
              "    <tr>\n",
              "      <th>1044</th>\n",
              "      <td>5.00</td>\n",
              "      <td>0.00</td>\n",
              "      <td>0.86</td>\n",
              "      <td>0.00</td>\n",
              "      <td>8.60</td>\n",
              "      <td>0.00</td>\n",
              "      <td>0.00</td>\n",
              "      <td>0.00</td>\n",
              "      <td>0.00</td>\n",
              "      <td>15.91</td>\n",
              "      <td>...</td>\n",
              "      <td>0.00</td>\n",
              "      <td>0.00</td>\n",
              "      <td>0.00</td>\n",
              "      <td>0.00</td>\n",
              "      <td>0.00</td>\n",
              "      <td>0.00</td>\n",
              "      <td>0.00</td>\n",
              "      <td>0.00</td>\n",
              "      <td>-1.42</td>\n",
              "      <td>0.22</td>\n",
              "    </tr>\n",
              "    <tr>\n",
              "      <th>1045</th>\n",
              "      <td>3.00</td>\n",
              "      <td>0.00</td>\n",
              "      <td>0.67</td>\n",
              "      <td>0.00</td>\n",
              "      <td>6.63</td>\n",
              "      <td>0.00</td>\n",
              "      <td>0.00</td>\n",
              "      <td>0.00</td>\n",
              "      <td>0.00</td>\n",
              "      <td>8.45</td>\n",
              "      <td>...</td>\n",
              "      <td>0.00</td>\n",
              "      <td>0.00</td>\n",
              "      <td>0.00</td>\n",
              "      <td>0.00</td>\n",
              "      <td>0.00</td>\n",
              "      <td>0.00</td>\n",
              "      <td>0.00</td>\n",
              "      <td>0.00</td>\n",
              "      <td>0.34</td>\n",
              "      <td>1.04</td>\n",
              "    </tr>\n",
              "  </tbody>\n",
              "</table>\n",
              "<p>1046 rows × 4280 columns</p>\n",
              "</div>"
            ],
            "text/plain": [
              "      feature-0 betti-1 max  feature-0 betti-1 mean  feature-0 betti-1 std  \\\n",
              "0                     18.00                    0.00                   3.10   \n",
              "1                     25.00                    0.00                   3.68   \n",
              "2                     15.00                    0.00                   2.60   \n",
              "3                      7.00                    0.00                   1.52   \n",
              "4                      6.00                    0.00                   1.46   \n",
              "...                     ...                     ...                    ...   \n",
              "1041                  13.00                    0.00                   1.65   \n",
              "1042                   6.00                    0.00                   0.95   \n",
              "1043                  11.00                    0.00                   1.92   \n",
              "1044                   5.00                    0.00                   0.86   \n",
              "1045                   3.00                    0.00                   0.67   \n",
              "\n",
              "      feature-0 betti-1 sum  feature-0 betti-1 norm  \\\n",
              "0                      0.00                   30.82   \n",
              "1                      0.00                   36.66   \n",
              "2                      0.00                   25.85   \n",
              "3                      0.00                   15.10   \n",
              "4                      0.00                   14.56   \n",
              "...                     ...                     ...   \n",
              "1041                   0.00                   16.37   \n",
              "1042                   0.00                    9.49   \n",
              "1043                   0.00                   19.08   \n",
              "1044                   0.00                    8.60   \n",
              "1045                   0.00                    6.63   \n",
              "\n",
              "      feature-0 betti-1 percentile-25  feature-0 betti-1 median  \\\n",
              "0                                0.00                      0.00   \n",
              "1                                0.00                      0.00   \n",
              "2                                0.00                      0.00   \n",
              "3                                0.00                      0.00   \n",
              "4                                0.00                      0.00   \n",
              "...                               ...                       ...   \n",
              "1041                             0.00                      0.00   \n",
              "1042                             0.00                      0.00   \n",
              "1043                             0.00                      0.00   \n",
              "1044                             0.00                      0.00   \n",
              "1045                             0.00                      0.00   \n",
              "\n",
              "      feature-0 betti-1 percentile-75  feature-0 betti-1 percentile-90  \\\n",
              "0                                0.00                             0.00   \n",
              "1                                0.00                             0.00   \n",
              "2                                0.00                             0.00   \n",
              "3                                0.00                             0.00   \n",
              "4                                0.00                             0.00   \n",
              "...                               ...                              ...   \n",
              "1041                             0.00                             0.00   \n",
              "1042                             0.00                             0.00   \n",
              "1043                             0.00                             0.00   \n",
              "1044                             0.00                             0.00   \n",
              "1045                             0.00                             0.00   \n",
              "\n",
              "      feature-0 betti-1 kurtosis  ...  feature-39 bd2-2 mean  \\\n",
              "0                          19.58  ...                   0.00   \n",
              "1                          34.48  ...                   0.00   \n",
              "2                          22.20  ...                   0.00   \n",
              "3                          18.44  ...                   0.00   \n",
              "4                          19.12  ...                   0.00   \n",
              "...                          ...  ...                    ...   \n",
              "1041                       38.08  ...                   0.00   \n",
              "1042                       18.19  ...                   0.00   \n",
              "1043                       21.42  ...                   0.00   \n",
              "1044                       15.91  ...                   0.00   \n",
              "1045                        8.45  ...                   0.00   \n",
              "\n",
              "      feature-39 bd2-2 std  feature-39 bd2-2 sum  feature-39 bd2-2 norm  \\\n",
              "0                     0.00                  0.00                   0.00   \n",
              "1                     0.00                  0.00                   0.00   \n",
              "2                     0.00                  0.00                   0.00   \n",
              "3                     0.00                  0.00                   0.00   \n",
              "4                     0.00                  0.00                   0.00   \n",
              "...                    ...                   ...                    ...   \n",
              "1041                  0.00                  0.00                   0.00   \n",
              "1042                  0.00                  0.00                   0.00   \n",
              "1043                  0.00                  0.00                   0.00   \n",
              "1044                  0.00                  0.00                   0.00   \n",
              "1045                  0.00                  0.00                   0.00   \n",
              "\n",
              "      feature-39 bd2-2 percentile-25  feature-39 bd2-2 median  \\\n",
              "0                               0.00                     0.00   \n",
              "1                               0.00                     0.00   \n",
              "2                               0.00                     0.00   \n",
              "3                               0.00                     0.00   \n",
              "4                               0.00                     0.00   \n",
              "...                              ...                      ...   \n",
              "1041                            0.00                     0.00   \n",
              "1042                            0.00                     0.00   \n",
              "1043                            0.00                     0.00   \n",
              "1044                            0.00                     0.00   \n",
              "1045                            0.00                     0.00   \n",
              "\n",
              "      feature-39 bd2-2 percentile-75  feature-39 bd2-2 percentile-90  \\\n",
              "0                               0.00                            0.00   \n",
              "1                               0.00                            0.00   \n",
              "2                               0.00                            0.00   \n",
              "3                               0.00                            0.00   \n",
              "4                               0.00                            0.00   \n",
              "...                              ...                             ...   \n",
              "1041                            0.00                            0.00   \n",
              "1042                            0.00                            0.00   \n",
              "1043                            0.00                            0.00   \n",
              "1044                            0.00                            0.00   \n",
              "1045                            0.00                            0.00   \n",
              "\n",
              "      feature-39 bd2-2 kurtosis  feature-39 bd2-2 skew  \n",
              "0                         -1.35                  -0.17  \n",
              "1                          0.44                   1.42  \n",
              "2                          2.66                   2.07  \n",
              "3                         -0.35                   0.51  \n",
              "4                         -1.43                   0.63  \n",
              "...                         ...                    ...  \n",
              "1041                      -1.03                  -0.18  \n",
              "1042                      -0.68                   1.13  \n",
              "1043                       0.85                   1.42  \n",
              "1044                      -1.42                   0.22  \n",
              "1045                       0.34                   1.04  \n",
              "\n",
              "[1046 rows x 4280 columns]"
            ]
          },
          "execution_count": 45,
          "metadata": {},
          "output_type": "execute_result"
        }
      ],
      "source": [
        "columns = [ f\"feature-{i}{feature_name}\" for i in range(n_features) for feature_name in channel_features_raw ]\n",
        "channel_features = pandas.concat([ channel_features_raw.iloc[i::n_features, :].reset_index(drop = True) for i in range(n_features) ], axis = 1)\n",
        "channel_features.columns = columns\n",
        "channel_features"
      ]
    },
    {
      "cell_type": "code",
      "execution_count": 48,
      "metadata": {},
      "outputs": [
        {
          "name": "stdout",
          "output_type": "stream",
          "text": [
            "Components: 32\n",
            "Explained variance: 0.54\n",
            "[0.201, 0.077, 0.032, 0.024, 0.023, 0.016, 0.014, 0.011, 0.01, 0.01, 0.009, 0.008, 0.007, 0.007, 0.007, 0.007, 0.006, 0.006, 0.006, 0.005, 0.005, 0.005, 0.005, 0.005, 0.005, 0.005, 0.004, 0.004, 0.004, 0.004, 0.004, 0.004]\n",
            "(1046, 32)\n"
          ]
        },
        {
          "data": {
            "text/html": [
              "<div>\n",
              "<style scoped>\n",
              "    .dataframe tbody tr th:only-of-type {\n",
              "        vertical-align: middle;\n",
              "    }\n",
              "\n",
              "    .dataframe tbody tr th {\n",
              "        vertical-align: top;\n",
              "    }\n",
              "\n",
              "    .dataframe thead th {\n",
              "        text-align: right;\n",
              "    }\n",
              "</style>\n",
              "<table border=\"1\" class=\"dataframe\">\n",
              "  <thead>\n",
              "    <tr style=\"text-align: right;\">\n",
              "      <th></th>\n",
              "      <th>0</th>\n",
              "      <th>1</th>\n",
              "      <th>2</th>\n",
              "      <th>3</th>\n",
              "      <th>4</th>\n",
              "      <th>5</th>\n",
              "      <th>6</th>\n",
              "      <th>7</th>\n",
              "      <th>8</th>\n",
              "      <th>9</th>\n",
              "      <th>...</th>\n",
              "      <th>22</th>\n",
              "      <th>23</th>\n",
              "      <th>24</th>\n",
              "      <th>25</th>\n",
              "      <th>26</th>\n",
              "      <th>27</th>\n",
              "      <th>28</th>\n",
              "      <th>29</th>\n",
              "      <th>30</th>\n",
              "      <th>31</th>\n",
              "    </tr>\n",
              "  </thead>\n",
              "  <tbody>\n",
              "    <tr>\n",
              "      <th>count</th>\n",
              "      <td>1,046.00</td>\n",
              "      <td>1,046.00</td>\n",
              "      <td>1,046.00</td>\n",
              "      <td>1,046.00</td>\n",
              "      <td>1,046.00</td>\n",
              "      <td>1,046.00</td>\n",
              "      <td>1,046.00</td>\n",
              "      <td>1,046.00</td>\n",
              "      <td>1,046.00</td>\n",
              "      <td>1,046.00</td>\n",
              "      <td>...</td>\n",
              "      <td>1,046.00</td>\n",
              "      <td>1,046.00</td>\n",
              "      <td>1,046.00</td>\n",
              "      <td>1,046.00</td>\n",
              "      <td>1,046.00</td>\n",
              "      <td>1,046.00</td>\n",
              "      <td>1,046.00</td>\n",
              "      <td>1,046.00</td>\n",
              "      <td>1,046.00</td>\n",
              "      <td>1,046.00</td>\n",
              "    </tr>\n",
              "    <tr>\n",
              "      <th>mean</th>\n",
              "      <td>0.00</td>\n",
              "      <td>0.00</td>\n",
              "      <td>0.00</td>\n",
              "      <td>-0.00</td>\n",
              "      <td>0.00</td>\n",
              "      <td>0.00</td>\n",
              "      <td>0.00</td>\n",
              "      <td>-0.00</td>\n",
              "      <td>-0.00</td>\n",
              "      <td>0.00</td>\n",
              "      <td>...</td>\n",
              "      <td>0.00</td>\n",
              "      <td>-0.00</td>\n",
              "      <td>0.00</td>\n",
              "      <td>0.00</td>\n",
              "      <td>0.00</td>\n",
              "      <td>-0.00</td>\n",
              "      <td>0.00</td>\n",
              "      <td>0.00</td>\n",
              "      <td>0.00</td>\n",
              "      <td>0.00</td>\n",
              "    </tr>\n",
              "    <tr>\n",
              "      <th>std</th>\n",
              "      <td>27.72</td>\n",
              "      <td>17.22</td>\n",
              "      <td>11.12</td>\n",
              "      <td>9.67</td>\n",
              "      <td>9.37</td>\n",
              "      <td>7.89</td>\n",
              "      <td>7.28</td>\n",
              "      <td>6.54</td>\n",
              "      <td>6.27</td>\n",
              "      <td>6.07</td>\n",
              "      <td>...</td>\n",
              "      <td>4.42</td>\n",
              "      <td>4.35</td>\n",
              "      <td>4.32</td>\n",
              "      <td>4.23</td>\n",
              "      <td>4.13</td>\n",
              "      <td>4.07</td>\n",
              "      <td>4.06</td>\n",
              "      <td>4.05</td>\n",
              "      <td>3.99</td>\n",
              "      <td>3.97</td>\n",
              "    </tr>\n",
              "    <tr>\n",
              "      <th>min</th>\n",
              "      <td>-69.14</td>\n",
              "      <td>-47.12</td>\n",
              "      <td>-35.24</td>\n",
              "      <td>-36.97</td>\n",
              "      <td>-35.98</td>\n",
              "      <td>-33.93</td>\n",
              "      <td>-29.31</td>\n",
              "      <td>-28.81</td>\n",
              "      <td>-22.92</td>\n",
              "      <td>-28.43</td>\n",
              "      <td>...</td>\n",
              "      <td>-15.37</td>\n",
              "      <td>-19.44</td>\n",
              "      <td>-18.47</td>\n",
              "      <td>-12.74</td>\n",
              "      <td>-16.64</td>\n",
              "      <td>-13.23</td>\n",
              "      <td>-16.90</td>\n",
              "      <td>-18.22</td>\n",
              "      <td>-12.85</td>\n",
              "      <td>-13.57</td>\n",
              "    </tr>\n",
              "    <tr>\n",
              "      <th>25%</th>\n",
              "      <td>-18.02</td>\n",
              "      <td>-8.93</td>\n",
              "      <td>-7.45</td>\n",
              "      <td>-6.44</td>\n",
              "      <td>-5.65</td>\n",
              "      <td>-4.86</td>\n",
              "      <td>-4.55</td>\n",
              "      <td>-4.16</td>\n",
              "      <td>-4.08</td>\n",
              "      <td>-3.53</td>\n",
              "      <td>...</td>\n",
              "      <td>-2.67</td>\n",
              "      <td>-2.80</td>\n",
              "      <td>-2.50</td>\n",
              "      <td>-2.54</td>\n",
              "      <td>-2.51</td>\n",
              "      <td>-2.49</td>\n",
              "      <td>-2.48</td>\n",
              "      <td>-2.34</td>\n",
              "      <td>-2.37</td>\n",
              "      <td>-2.34</td>\n",
              "    </tr>\n",
              "    <tr>\n",
              "      <th>50%</th>\n",
              "      <td>-1.65</td>\n",
              "      <td>2.31</td>\n",
              "      <td>-0.75</td>\n",
              "      <td>-0.55</td>\n",
              "      <td>0.64</td>\n",
              "      <td>0.33</td>\n",
              "      <td>-0.22</td>\n",
              "      <td>-0.19</td>\n",
              "      <td>0.34</td>\n",
              "      <td>0.29</td>\n",
              "      <td>...</td>\n",
              "      <td>-0.15</td>\n",
              "      <td>0.04</td>\n",
              "      <td>-0.09</td>\n",
              "      <td>0.09</td>\n",
              "      <td>-0.05</td>\n",
              "      <td>0.06</td>\n",
              "      <td>-0.05</td>\n",
              "      <td>-0.01</td>\n",
              "      <td>-0.02</td>\n",
              "      <td>-0.06</td>\n",
              "    </tr>\n",
              "    <tr>\n",
              "      <th>75%</th>\n",
              "      <td>16.24</td>\n",
              "      <td>11.46</td>\n",
              "      <td>6.88</td>\n",
              "      <td>6.37</td>\n",
              "      <td>6.33</td>\n",
              "      <td>5.14</td>\n",
              "      <td>4.32</td>\n",
              "      <td>3.49</td>\n",
              "      <td>3.75</td>\n",
              "      <td>3.89</td>\n",
              "      <td>...</td>\n",
              "      <td>2.57</td>\n",
              "      <td>2.70</td>\n",
              "      <td>2.73</td>\n",
              "      <td>2.52</td>\n",
              "      <td>2.54</td>\n",
              "      <td>2.44</td>\n",
              "      <td>2.59</td>\n",
              "      <td>2.46</td>\n",
              "      <td>2.46</td>\n",
              "      <td>2.24</td>\n",
              "    </tr>\n",
              "    <tr>\n",
              "      <th>max</th>\n",
              "      <td>135.39</td>\n",
              "      <td>48.80</td>\n",
              "      <td>38.93</td>\n",
              "      <td>37.51</td>\n",
              "      <td>36.17</td>\n",
              "      <td>50.14</td>\n",
              "      <td>43.71</td>\n",
              "      <td>29.18</td>\n",
              "      <td>37.77</td>\n",
              "      <td>30.30</td>\n",
              "      <td>...</td>\n",
              "      <td>21.39</td>\n",
              "      <td>20.98</td>\n",
              "      <td>24.29</td>\n",
              "      <td>23.97</td>\n",
              "      <td>18.85</td>\n",
              "      <td>18.73</td>\n",
              "      <td>23.58</td>\n",
              "      <td>20.17</td>\n",
              "      <td>13.49</td>\n",
              "      <td>22.34</td>\n",
              "    </tr>\n",
              "  </tbody>\n",
              "</table>\n",
              "<p>8 rows × 32 columns</p>\n",
              "</div>"
            ],
            "text/plain": [
              "            0        1        2        3        4        5        6        7   \\\n",
              "count 1,046.00 1,046.00 1,046.00 1,046.00 1,046.00 1,046.00 1,046.00 1,046.00   \n",
              "mean      0.00     0.00     0.00    -0.00     0.00     0.00     0.00    -0.00   \n",
              "std      27.72    17.22    11.12     9.67     9.37     7.89     7.28     6.54   \n",
              "min     -69.14   -47.12   -35.24   -36.97   -35.98   -33.93   -29.31   -28.81   \n",
              "25%     -18.02    -8.93    -7.45    -6.44    -5.65    -4.86    -4.55    -4.16   \n",
              "50%      -1.65     2.31    -0.75    -0.55     0.64     0.33    -0.22    -0.19   \n",
              "75%      16.24    11.46     6.88     6.37     6.33     5.14     4.32     3.49   \n",
              "max     135.39    48.80    38.93    37.51    36.17    50.14    43.71    29.18   \n",
              "\n",
              "            8        9   ...       22       23       24       25       26  \\\n",
              "count 1,046.00 1,046.00  ... 1,046.00 1,046.00 1,046.00 1,046.00 1,046.00   \n",
              "mean     -0.00     0.00  ...     0.00    -0.00     0.00     0.00     0.00   \n",
              "std       6.27     6.07  ...     4.42     4.35     4.32     4.23     4.13   \n",
              "min     -22.92   -28.43  ...   -15.37   -19.44   -18.47   -12.74   -16.64   \n",
              "25%      -4.08    -3.53  ...    -2.67    -2.80    -2.50    -2.54    -2.51   \n",
              "50%       0.34     0.29  ...    -0.15     0.04    -0.09     0.09    -0.05   \n",
              "75%       3.75     3.89  ...     2.57     2.70     2.73     2.52     2.54   \n",
              "max      37.77    30.30  ...    21.39    20.98    24.29    23.97    18.85   \n",
              "\n",
              "            27       28       29       30       31  \n",
              "count 1,046.00 1,046.00 1,046.00 1,046.00 1,046.00  \n",
              "mean     -0.00     0.00     0.00     0.00     0.00  \n",
              "std       4.07     4.06     4.05     3.99     3.97  \n",
              "min     -13.23   -16.90   -18.22   -12.85   -13.57  \n",
              "25%      -2.49    -2.48    -2.34    -2.37    -2.34  \n",
              "50%       0.06    -0.05    -0.01    -0.02    -0.06  \n",
              "75%       2.44     2.59     2.46     2.46     2.24  \n",
              "max      18.73    23.58    20.17    13.49    22.34  \n",
              "\n",
              "[8 rows x 32 columns]"
            ]
          },
          "execution_count": 48,
          "metadata": {},
          "output_type": "execute_result"
        }
      ],
      "source": [
        "channel_features_pca = FeatureCalculator().pca(channel_features, scale = True, n_comp = 32)\n",
        "print(channel_features_pca.shape)\n",
        "pandas.DataFrame(channel_features_pca).describe()"
      ]
    },
    {
      "cell_type": "markdown",
      "metadata": {},
      "source": [
        "#### PearsonDissimilarity"
      ]
    },
    {
      "cell_type": "markdown",
      "metadata": {},
      "source": [
        "##### TakensEmbedding & PearsonDissimilarity"
      ]
    },
    {
      "cell_type": "code",
      "execution_count": 51,
      "metadata": {},
      "outputs": [
        {
          "name": "stderr",
          "output_type": "stream",
          "text": [
            "100%|██████████| 1046/1046 [00:02<00:00, 450.72it/s]\n"
          ]
        },
        {
          "name": "stdout",
          "output_type": "stream",
          "text": [
            "(30334, 40, 40)\n"
          ]
        }
      ],
      "source": [
        "dissim_matrixes = [ ]\n",
        "for epoch in tqdm.tqdm(data):\n",
        "    dissim_embedding = gtda.time_series.TakensEmbedding(dimension = DISSIM_DIMENSION, time_delay = DISSIM_TIME_DELAY, stride = DISSIM_STRIDE, flatten = False)\n",
        "    dissim_point_clouds = dissim_embedding.fit_transform(epoch).transpose(1, 2, 0)\n",
        "    \n",
        "    dissim = gtda.time_series.PearsonDissimilarity()\n",
        "    dissim_matrix = dissim.fit_transform(dissim_point_clouds)\n",
        "    dissim_matrixes.append(dissim_matrix)\n",
        "\n",
        "    epoch_ts = numpy.expand_dims(epoch.transpose(1, 0), 0)\n",
        "    dissim_matrix = dissim.fit_transform(epoch_ts)\n",
        "    dissim_matrixes.append(dissim_matrix)\n",
        "\n",
        "dissim_matrixes = numpy.concatenate(dissim_matrixes, axis = 0)\n",
        "print(dissim_matrixes.shape)"
      ]
    },
    {
      "cell_type": "code",
      "execution_count": 52,
      "metadata": {},
      "outputs": [
        {
          "data": {
            "application/vnd.plotly.v1+json": {
              "config": {
                "plotlyServerURL": "https://plot.ly"
              },
              "data": [
                {
                  "colorscale": [
                    [
                      0,
                      "rgb(255,255,204)"
                    ],
                    [
                      0.125,
                      "rgb(255,237,160)"
                    ],
                    [
                      0.25,
                      "rgb(254,217,118)"
                    ],
                    [
                      0.375,
                      "rgb(254,178,76)"
                    ],
                    [
                      0.5,
                      "rgb(253,141,60)"
                    ],
                    [
                      0.625,
                      "rgb(252,78,42)"
                    ],
                    [
                      0.75,
                      "rgb(227,26,28)"
                    ],
                    [
                      0.875,
                      "rgb(189,0,38)"
                    ],
                    [
                      1,
                      "rgb(128,0,38)"
                    ]
                  ],
                  "type": "heatmap",
                  "z": [
                    [
                      5.551115123125783e-17,
                      0.028380042899254332,
                      0.10323067610595027,
                      0.09545752493665355,
                      0.08522267083414836,
                      0.0809673730801827,
                      0.2719338674520951,
                      0.27493181390396193,
                      0.10124284062712086,
                      0.09575914003054076,
                      0.07564429313235899,
                      0.3288720319871805,
                      0.5413491030646944,
                      0.24371556311998288,
                      0.10865983673269325,
                      0.1467920820879366,
                      0.3584621863313348,
                      0.8623903153498222,
                      0.5966867981210863,
                      0.1748093309347808,
                      0.21033781042351257,
                      0.5836670203285205,
                      0.9514657954911598,
                      0.21938081047557367,
                      0.5520770997138846,
                      0.8876784255797694,
                      0.895657983165171,
                      0.925610324637313,
                      0.9388179617300871,
                      0.6057098783582311,
                      0.853990336384926,
                      0.9325003807861973,
                      0.9193223266302892,
                      0.931505757733678,
                      0.9427127576935403,
                      0.8963619213357429,
                      0.8938539028756859,
                      0.9061407272990405,
                      0.9101766741299091,
                      0.9129693223729498
                    ],
                    [
                      0.028380042899254387,
                      0,
                      0.05683257668824654,
                      0.09444654601616254,
                      0.0803074230205274,
                      0.06687379017040385,
                      0.2001818576348366,
                      0.28859551652301163,
                      0.10245740044354656,
                      0.10590897885084222,
                      0.06493199943436073,
                      0.2627067193633315,
                      0.5416174240388655,
                      0.28082798178823676,
                      0.12544450233268895,
                      0.1333199598955661,
                      0.29652793095492735,
                      0.8457946847893535,
                      0.6578860591582072,
                      0.2225559147926936,
                      0.2145921737870637,
                      0.517770841620208,
                      0.9379032464484591,
                      0.2267322386998838,
                      0.5602189926329734,
                      0.9486795516164316,
                      0.8680686816244589,
                      0.8876446209539582,
                      0.9243628706081328,
                      0.6451330053222087,
                      0.9172990199053053,
                      0.9458713540456228,
                      0.9252236696187994,
                      0.9280089026422504,
                      0.9176712448254905,
                      0.9388691963499174,
                      0.9359040549541998,
                      0.9446447648107239,
                      0.917591749941437,
                      0.9134303292232873
                    ],
                    [
                      0.10323067610595027,
                      0.05683257668824654,
                      0,
                      0.14903193814798787,
                      0.1310312147639583,
                      0.1229666171074128,
                      0.21677679006228728,
                      0.21190775094110936,
                      0.1602747776282215,
                      0.16647546559457443,
                      0.130179219473947,
                      0.265842549817251,
                      0.6240120618708639,
                      0.2937509646085842,
                      0.20426027808584185,
                      0.20237397930313739,
                      0.2829700672872617,
                      0.8749084911384793,
                      0.6069578217943132,
                      0.30987837779885175,
                      0.278226283628334,
                      0.4724375980434737,
                      0.9182610274002498,
                      0.22653871986384783,
                      0.5256730780932115,
                      0.9351427481039154,
                      0.8253226600669405,
                      0.7961154042804717,
                      0.9033010829272303,
                      0.6287370583788023,
                      0.8850795434663488,
                      0.8872791261443564,
                      0.8634482789079314,
                      0.8518679905718773,
                      0.8485957362702355,
                      0.9027248205238934,
                      0.901635997041732,
                      0.896669635763174,
                      0.8561122018115521,
                      0.8510664734418141
                    ],
                    [
                      0.09545752493665355,
                      0.09444654601616254,
                      0.14903193814798787,
                      5.551115123125783e-17,
                      0.030061775100695964,
                      0.07347627195199069,
                      0.32019194297458364,
                      0.2742307287161183,
                      0.01082899452593944,
                      0.04357827365597344,
                      0.08358592111317387,
                      0.35863720347418193,
                      0.6121676100317092,
                      0.13477015732800857,
                      0.042664398609094156,
                      0.09779180488629424,
                      0.3336070934255817,
                      0.8756687136441133,
                      0.5215654168523906,
                      0.09933499373502341,
                      0.1480558270073461,
                      0.48184495369920616,
                      0.9117353250547962,
                      0.24781700254679218,
                      0.5241582632265254,
                      0.8934570679835552,
                      0.865868699851978,
                      0.9032958464448753,
                      0.8987504498805614,
                      0.6951615545645276,
                      0.8457092739212696,
                      0.9537342583724596,
                      0.9625874428021542,
                      0.9528981871661715,
                      0.946639710748734,
                      0.92827450715527,
                      0.9258448834848392,
                      0.9273555247274055,
                      0.9554313916111622,
                      0.9595643766456432
                    ],
                    [
                      0.08522267083414836,
                      0.08030742302052735,
                      0.1310312147639583,
                      0.030061775100695964,
                      0,
                      0.03684549758122946,
                      0.27369040615053875,
                      0.21571218644696327,
                      0.03142232266737449,
                      0.012843568532869165,
                      0.03813907762982699,
                      0.3381476620040086,
                      0.6150896434442722,
                      0.13595463107630623,
                      0.03381903492916771,
                      0.05591895037854294,
                      0.30499379282230704,
                      0.8842278624067087,
                      0.4787256505384265,
                      0.10278895894304663,
                      0.10684035996733665,
                      0.45578050392073394,
                      0.9411573744957167,
                      0.31433298190414616,
                      0.5476215335878645,
                      0.9341286803806927,
                      0.8587823523415918,
                      0.8962830427742391,
                      0.9466042966934816,
                      0.7109805005863907,
                      0.8908427754573814,
                      0.9828918840851979,
                      0.9756486529911226,
                      0.96020452352869,
                      0.967278229599618,
                      0.9689977409860482,
                      0.966074854031488,
                      0.9603189212502409,
                      0.9631479869030675,
                      0.964484974684491
                    ],
                    [
                      0.08096737308018265,
                      0.06687379017040385,
                      0.12296661710741275,
                      0.07347627195199069,
                      0.03684549758122946,
                      0,
                      0.138657526671431,
                      0.3150401939200434,
                      0.0886725861769892,
                      0.03176355319509594,
                      0.0038654731816785692,
                      0.1880498027978567,
                      0.7071715279260542,
                      0.22214172386705322,
                      0.04812495792219712,
                      0.02600737084068644,
                      0.1907935508571182,
                      0.9297491965689908,
                      0.5599337236068966,
                      0.11629796987656293,
                      0.09117009857647845,
                      0.37876113683896634,
                      0.9697961300856988,
                      0.39042202595871167,
                      0.6542704918806173,
                      0.9184379081111076,
                      0.8298966821864756,
                      0.866160893018775,
                      0.974145007418471,
                      0.8119589149437367,
                      0.9006219083559834,
                      0.9886109485148409,
                      0.9761639602710206,
                      0.9685246398189605,
                      0.9567950256178412,
                      0.972604110022845,
                      0.9705999022598268,
                      0.9803021732937829,
                      0.9690452162303838,
                      0.9710556253278176
                    ],
                    [
                      0.271933867452095,
                      0.2001818576348366,
                      0.21677679006228728,
                      0.32019194297458364,
                      0.27369040615053875,
                      0.138657526671431,
                      0,
                      0.5521185914531171,
                      0.3445680106001656,
                      0.2575835499944229,
                      0.14660414722995446,
                      0.06286409775501506,
                      0.7213500154215804,
                      0.4664005289498432,
                      0.26926900075699467,
                      0.1723065178032942,
                      0.1443211026431631,
                      0.8038582890024388,
                      0.6387296762230347,
                      0.32400233044049875,
                      0.25846995750938606,
                      0.30234327466473365,
                      0.8068283005914008,
                      0.5236315972238363,
                      0.7407075303696387,
                      0.7734576349444456,
                      0.6436605791068826,
                      0.6544262565652444,
                      0.8058342080375342,
                      0.863234575798202,
                      0.7928822197076171,
                      0.8079464050356359,
                      0.7849656828482136,
                      0.7818618514116459,
                      0.7384168943980621,
                      0.8304456577649291,
                      0.83037240126566,
                      0.8538144137993283,
                      0.7781174454990798,
                      0.7773993944858199
                    ],
                    [
                      0.27493181390396193,
                      0.28859551652301163,
                      0.2119077509411093,
                      0.27423072871611837,
                      0.21571218644696327,
                      0.3150401939200434,
                      0.5521185914531171,
                      5.551115123125783e-17,
                      0.2557130122027449,
                      0.24720906762013428,
                      0.30910135237290515,
                      0.591579972532919,
                      0.5277141168631796,
                      0.27787875023739705,
                      0.2757023403906235,
                      0.31521205458146484,
                      0.4598405325038202,
                      0.7215100490510369,
                      0.4267011611945064,
                      0.3417365026608152,
                      0.30263379332364737,
                      0.47412225349118015,
                      0.7316030181638309,
                      0.3619529144478849,
                      0.4512999150709955,
                      0.7721091683640471,
                      0.6304997017578262,
                      0.6190639643693366,
                      0.7483946469024618,
                      0.48714134283583294,
                      0.7744891594810102,
                      0.7357679791412289,
                      0.7167969386189486,
                      0.6933311894432557,
                      0.6942920507059098,
                      0.7600144589693353,
                      0.7626467511997811,
                      0.7192475517866829,
                      0.7133173088856154,
                      0.7087819518815988
                    ],
                    [
                      0.10124284062712086,
                      0.10245740044354651,
                      0.16027477762822145,
                      0.010828994525939495,
                      0.03142232266737449,
                      0.08867258617698914,
                      0.3445680106001656,
                      0.2557130122027449,
                      0,
                      0.042512748026045544,
                      0.09317300533039241,
                      0.4122568122401464,
                      0.5542454866005219,
                      0.13715282062666934,
                      0.03820480316407204,
                      0.10082594410384499,
                      0.3823380006813965,
                      0.8444340096460798,
                      0.5088477713678594,
                      0.08592555731647572,
                      0.13310490994127383,
                      0.49254543941614365,
                      0.8951321218683383,
                      0.23035595794942948,
                      0.5560752224575409,
                      0.892045093747592,
                      0.838083333149133,
                      0.890254441400788,
                      0.8843878067332134,
                      0.6780309254388804,
                      0.8558281519765203,
                      0.9531087881604676,
                      0.9554859201818824,
                      0.9409708451620522,
                      0.9356956536978493,
                      0.9278829422644601,
                      0.9269959704220739,
                      0.9208127801410995,
                      0.9503050187976032,
                      0.9514693850194298
                    ],
                    [
                      0.09575914003054081,
                      0.10590897885084222,
                      0.16647546559457438,
                      0.04357827365597344,
                      0.012843568532869165,
                      0.03176355319509594,
                      0.2575835499944229,
                      0.24720906762013423,
                      0.042512748026045544,
                      5.551115123125783e-17,
                      0.038495626957723184,
                      0.32379190851946293,
                      0.6564985949621961,
                      0.1185009867304771,
                      0.017566889640342753,
                      0.029910367849246,
                      0.27695573544187463,
                      0.908298937922261,
                      0.4491113295438981,
                      0.05932845120397118,
                      0.0618067220830788,
                      0.4033499567062586,
                      0.9399666385237886,
                      0.35941916251042616,
                      0.5976986490202102,
                      0.8869416426597554,
                      0.8253559466532466,
                      0.881511649983413,
                      0.9475312086487628,
                      0.7671462550921726,
                      0.8616842967048479,
                      0.9816872877783003,
                      0.9891795745678894,
                      0.978449847974822,
                      0.9682402118798488,
                      0.960239100545905,
                      0.9581021477998961,
                      0.9617694466950101,
                      0.9812447770471082,
                      0.9837710278330092
                    ],
                    [
                      0.07564429313235904,
                      0.06493199943436073,
                      0.13017921947394695,
                      0.08358592111317381,
                      0.03813907762982699,
                      0.0038654731816786247,
                      0.14660414722995446,
                      0.30910135237290515,
                      0.09317300533039236,
                      0.038495626957723184,
                      5.551115123125783e-17,
                      0.20279361236367904,
                      0.6772037484757671,
                      0.24674340886957535,
                      0.05072911767506799,
                      0.03342629599649333,
                      0.21362822684863148,
                      0.9098544888961448,
                      0.57600478879513,
                      0.12192836034325538,
                      0.10086165173531669,
                      0.40495626488984326,
                      0.9664595453939455,
                      0.39428331687949936,
                      0.6644570433152525,
                      0.924091808470938,
                      0.8294565565526059,
                      0.8667017413883156,
                      0.9728847426381884,
                      0.7936481077342173,
                      0.9116962044201247,
                      0.9871386171926858,
                      0.9633390868318884,
                      0.9548771180826463,
                      0.9517867631969286,
                      0.9691297442579133,
                      0.9677499799979801,
                      0.9725362609640903,
                      0.9549869557118016,
                      0.9564536545472015
                    ],
                    [
                      0.3288720319871805,
                      0.26270671936333156,
                      0.265842549817251,
                      0.35863720347418193,
                      0.3381476620040086,
                      0.1880498027978567,
                      0.06286409775501517,
                      0.591579972532919,
                      0.4122568122401464,
                      0.32379190851946293,
                      0.202793612363679,
                      0,
                      0.8351908055963903,
                      0.5390437535289943,
                      0.3379480119500959,
                      0.22161556064588722,
                      0.05627476434089751,
                      0.7948085908228906,
                      0.7242445898034678,
                      0.40791363514568946,
                      0.29726243205073477,
                      0.23820409789454816,
                      0.7790953935461494,
                      0.6024659086628708,
                      0.7180467535209714,
                      0.7165576064537342,
                      0.6145266890796832,
                      0.5969523482602065,
                      0.7772858863797782,
                      0.8447115474721199,
                      0.7301948718309668,
                      0.7393931579780456,
                      0.7280665116627011,
                      0.731829150488588,
                      0.687921489310249,
                      0.7460571320085357,
                      0.7439629252302562,
                      0.7773404607568655,
                      0.7381866202109664,
                      0.7357601989082452
                    ],
                    [
                      0.5413491030646944,
                      0.5416174240388655,
                      0.6240120618708639,
                      0.6121676100317092,
                      0.6150896434442722,
                      0.7071715279260542,
                      0.7213500154215804,
                      0.5277141168631796,
                      0.5542454866005219,
                      0.6564985949621961,
                      0.6772037484757671,
                      0.8351908055963903,
                      0,
                      0.5855853219221645,
                      0.636736205019254,
                      0.7170829349195332,
                      0.8942107538039858,
                      0.15911393902880788,
                      0.5004999725633361,
                      0.6264413833307254,
                      0.7120266697655037,
                      0.8307742439087378,
                      0.29545186047661226,
                      0.28512471136102713,
                      0.3631620059545282,
                      0.4315186377040528,
                      0.46874421901129065,
                      0.503270994280011,
                      0.28292801790498245,
                      0.16269948362084646,
                      0.4283245750056253,
                      0.3544874325008553,
                      0.33608350605866955,
                      0.3462707505412926,
                      0.37671191627050804,
                      0.36581829066915955,
                      0.36441382161736424,
                      0.34759798283954524,
                      0.32281342702614746,
                      0.3166236454870411
                    ],
                    [
                      0.24371556311998288,
                      0.28082798178823676,
                      0.2937509646085842,
                      0.13477015732800857,
                      0.13595463107630623,
                      0.22214172386705322,
                      0.4664005289498432,
                      0.27787875023739705,
                      0.13715282062666934,
                      0.11850098673047704,
                      0.24674340886957535,
                      0.5390437535289943,
                      0.5855853219221645,
                      5.551115123125783e-17,
                      0.16375909033753377,
                      0.22117459394447264,
                      0.47778226114985156,
                      0.7901834211553127,
                      0.19560729129554555,
                      0.14883453723313866,
                      0.23315659104658665,
                      0.5316672716815624,
                      0.7771772539642121,
                      0.3154204627982719,
                      0.3379345507886068,
                      0.7130112761706036,
                      0.8231456095575926,
                      0.8550813747332628,
                      0.7786706348222743,
                      0.5904634380286273,
                      0.6074027878643259,
                      0.8019848227758501,
                      0.8583086071073212,
                      0.8527290357278239,
                      0.8752888122974067,
                      0.7795122448984653,
                      0.7730005322177776,
                      0.783666392404488,
                      0.8351426194234355,
                      0.8446608328134109
                    ],
                    [
                      0.10865983673269325,
                      0.125444502332689,
                      0.20426027808584185,
                      0.04266439860909421,
                      0.03381903492916766,
                      0.04812495792219712,
                      0.26926900075699467,
                      0.27570234039062347,
                      0.0382048031640721,
                      0.017566889640342698,
                      0.050729117675067936,
                      0.3379480119500959,
                      0.6367362050192539,
                      0.16375909033753377,
                      0,
                      0.034346913910345,
                      0.29241838806401654,
                      0.8951570106653164,
                      0.5040497079796804,
                      0.027673178610699123,
                      0.06228441176452015,
                      0.39925309306505546,
                      0.9163429883555654,
                      0.35849407732586497,
                      0.6658859507804831,
                      0.8490363177535537,
                      0.7800224648767826,
                      0.8515294745414357,
                      0.9158431906167903,
                      0.7993934215181349,
                      0.8644779428048521,
                      0.9699930791424742,
                      0.9754628873844988,
                      0.9671710622304361,
                      0.9351175849588185,
                      0.9471262591499118,
                      0.948175428422233,
                      0.9497868645225822,
                      0.9717006007233138,
                      0.9762670052879426
                    ],
                    [
                      0.1467920820879366,
                      0.1333199598955661,
                      0.20237397930313739,
                      0.09779180488629424,
                      0.05591895037854294,
                      0.026007370840686495,
                      0.1723065178032942,
                      0.31521205458146484,
                      0.10082594410384499,
                      0.029910367849246,
                      0.03342629599649333,
                      0.22161556064588722,
                      0.7170829349195333,
                      0.22117459394447264,
                      0.034346913910345,
                      0,
                      0.17017470304350107,
                      0.9024281697709566,
                      0.5356724062855667,
                      0.08021866033933273,
                      0.026047025317159245,
                      0.27789921288828934,
                      0.9155240600614158,
                      0.468081101860145,
                      0.7226733433763044,
                      0.8638333887222588,
                      0.7214253294094709,
                      0.7883405133946112,
                      0.9285483713386304,
                      0.8722523195155922,
                      0.8905143400478905,
                      0.9701713402156341,
                      0.9707755884504218,
                      0.9589884627797868,
                      0.9128704623820367,
                      0.961778355420666,
                      0.9616474441289566,
                      0.9690369241032935,
                      0.9732054464109802,
                      0.9724649670052208
                    ],
                    [
                      0.3584621863313348,
                      0.29652793095492735,
                      0.2829700672872617,
                      0.3336070934255817,
                      0.304993792822307,
                      0.1907935508571182,
                      0.1443211026431631,
                      0.4598405325038202,
                      0.3823380006813965,
                      0.27695573544187463,
                      0.21362822684863148,
                      0.056274764340897565,
                      0.8942107538039858,
                      0.47778226114985156,
                      0.29241838806401654,
                      0.17017470304350107,
                      0,
                      0.8254203357393552,
                      0.686941981661686,
                      0.35912626966660044,
                      0.19787138949766497,
                      0.10278430181793358,
                      0.7623668374732222,
                      0.6733519366813412,
                      0.7305669429356578,
                      0.712174713964691,
                      0.5276636326676163,
                      0.5271178455026357,
                      0.7740133473883144,
                      0.893081540793843,
                      0.7659614557661627,
                      0.7552886919058454,
                      0.7621409447985275,
                      0.7578051020940297,
                      0.6714995473974887,
                      0.775407463222424,
                      0.7751992573217484,
                      0.7984707731034322,
                      0.7846320235551787,
                      0.7772870003632326
                    ],
                    [
                      0.8623903153498222,
                      0.8457946847893536,
                      0.8749084911384792,
                      0.8756687136441133,
                      0.8842278624067086,
                      0.9297491965689909,
                      0.8038582890024388,
                      0.7215100490510369,
                      0.8444340096460798,
                      0.908298937922261,
                      0.9098544888961448,
                      0.7948085908228906,
                      0.15911393902880794,
                      0.7901834211553127,
                      0.8951570106653164,
                      0.9024281697709567,
                      0.8254203357393552,
                      5.551115123125783e-17,
                      0.5038348662431013,
                      0.8596265423786977,
                      0.8588687545741469,
                      0.666762447123139,
                      0.04997455124801403,
                      0.5917870967801782,
                      0.36336318087082,
                      0.19115561699871203,
                      0.21836885608699869,
                      0.2133364804251568,
                      0.05494499219804311,
                      0.17546743478290538,
                      0.20386185600855722,
                      0.09161282956568195,
                      0.0798763278681277,
                      0.0837556257888018,
                      0.10950356138690348,
                      0.10917477034824413,
                      0.10819237342978422,
                      0.09462963793818985,
                      0.08233239033233614,
                      0.07405731653864939
                    ],
                    [
                      0.5966867981210864,
                      0.6578860591582072,
                      0.6069578217943132,
                      0.5215654168523906,
                      0.4787256505384265,
                      0.5599337236068966,
                      0.6387296762230347,
                      0.4267011611945064,
                      0.5088477713678594,
                      0.4491113295438981,
                      0.57600478879513,
                      0.7242445898034678,
                      0.5004999725633361,
                      0.1956072912955455,
                      0.5040497079796804,
                      0.5356724062855667,
                      0.686941981661686,
                      0.5038348662431013,
                      0,
                      0.42097212625843844,
                      0.5062448286073624,
                      0.5992441018323298,
                      0.45318379806856035,
                      0.5159821323562062,
                      0.2767838855765409,
                      0.37872592302576885,
                      0.5620790835355529,
                      0.5624076360661723,
                      0.4739481867227292,
                      0.4272381741845638,
                      0.27877711213618883,
                      0.44188629019108033,
                      0.49144285080022426,
                      0.48253258592641834,
                      0.5521375863587634,
                      0.4386143256303701,
                      0.43351620372534083,
                      0.4320617779247815,
                      0.45667589352831495,
                      0.4718993664693673
                    ],
                    [
                      0.1748093309347808,
                      0.2225559147926936,
                      0.30987837779885175,
                      0.09933499373502341,
                      0.10278895894304663,
                      0.11629796987656293,
                      0.32400233044049875,
                      0.3417365026608152,
                      0.08592555731647578,
                      0.05932845120397118,
                      0.12192836034325544,
                      0.40791363514568946,
                      0.6264413833307254,
                      0.14883453723313866,
                      0.02767317861069918,
                      0.08021866033933273,
                      0.35912626966660044,
                      0.8596265423786977,
                      0.42097212625843844,
                      5.551115123125783e-17,
                      0.08279157663962178,
                      0.40954178993306184,
                      0.8476413896851135,
                      0.3967716038242386,
                      0.6789936724805565,
                      0.7247498624019673,
                      0.7248028396651772,
                      0.8153064151024425,
                      0.845020066510564,
                      0.8049700245515693,
                      0.7524739268612404,
                      0.9008701270724782,
                      0.9263482338907764,
                      0.9244321047408344,
                      0.8861376075539139,
                      0.8654018672201441,
                      0.8679641360371142,
                      0.8771714525372669,
                      0.9224400685568237,
                      0.9315633552129453
                    ],
                    [
                      0.21033781042351252,
                      0.21459217378706374,
                      0.27822628362833396,
                      0.14805582700734615,
                      0.1068403599673367,
                      0.09117009857647845,
                      0.25846995750938606,
                      0.30263379332364737,
                      0.13310490994127383,
                      0.06180672208307886,
                      0.10086165173531669,
                      0.29726243205073477,
                      0.7120266697655038,
                      0.23315659104658665,
                      0.06228441176452021,
                      0.02604702531715919,
                      0.19787138949766492,
                      0.8588687545741469,
                      0.5062448286073624,
                      0.08279157663962178,
                      0,
                      0.22378187905169167,
                      0.8517211891961702,
                      0.5103990599540439,
                      0.7660488191863981,
                      0.7900966621105292,
                      0.6213855470874121,
                      0.7080123267465861,
                      0.8716424417880886,
                      0.8623209677888344,
                      0.8448297015109079,
                      0.918911366699688,
                      0.9283067080266807,
                      0.9131198722763029,
                      0.8534453585639997,
                      0.9049158658818134,
                      0.9069086493072573,
                      0.9093617733804107,
                      0.9430152592061746,
                      0.9391578859126647
                    ],
                    [
                      0.5836670203285205,
                      0.517770841620208,
                      0.4724375980434737,
                      0.48184495369920616,
                      0.45578050392073394,
                      0.37876113683896634,
                      0.30234327466473365,
                      0.4741222534911801,
                      0.49254543941614365,
                      0.4033499567062586,
                      0.40495626488984326,
                      0.23820409789454822,
                      0.8307742439087378,
                      0.5316672716815624,
                      0.39925309306505546,
                      0.27789921288828934,
                      0.10278430181793363,
                      0.666762447123139,
                      0.5992441018323298,
                      0.40954178993306184,
                      0.22378187905169167,
                      0,
                      0.5433758147499244,
                      0.7832480256254291,
                      0.7843521123720194,
                      0.5376790311564205,
                      0.27050945056149034,
                      0.2999304895912086,
                      0.5658345166377884,
                      0.8847940699580059,
                      0.6521333325864203,
                      0.5967705702271373,
                      0.6161437521767875,
                      0.5957465471114766,
                      0.4698238130603142,
                      0.6378130708643958,
                      0.6431363921319931,
                      0.6471739257717388,
                      0.6520147679098168,
                      0.638727735651544
                    ],
                    [
                      0.9514657954911598,
                      0.9379032464484591,
                      0.9182610274002498,
                      0.9117353250547963,
                      0.9411573744957167,
                      0.9697961300856988,
                      0.8068283005914008,
                      0.7316030181638309,
                      0.8951321218683383,
                      0.9399666385237886,
                      0.9664595453939455,
                      0.7790953935461495,
                      0.29545186047661226,
                      0.7771772539642121,
                      0.9163429883555654,
                      0.9155240600614158,
                      0.7623668374732222,
                      0.04997455124801409,
                      0.45318379806856035,
                      0.8476413896851135,
                      0.8517211891961702,
                      0.5433758147499244,
                      0,
                      0.6904867191185019,
                      0.38618756459200393,
                      0.10178532379895477,
                      0.12260602197385045,
                      0.1114532690467821,
                      0.004870680950063155,
                      0.27516364912842656,
                      0.14212106166351807,
                      0.04162424301094725,
                      0.05200355766663617,
                      0.05297496027032994,
                      0.03896733729136298,
                      0.0690461102350105,
                      0.07139943953813077,
                      0.060557745461114865,
                      0.05913143244367386,
                      0.05475285341954195
                    ],
                    [
                      0.21938081047557367,
                      0.2267322386998838,
                      0.22653871986384777,
                      0.24781700254679218,
                      0.31433298190414616,
                      0.39042202595871167,
                      0.5236315972238363,
                      0.3619529144478849,
                      0.23035595794942948,
                      0.35941916251042616,
                      0.39428331687949936,
                      0.6024659086628708,
                      0.28512471136102713,
                      0.31542046279827185,
                      0.35849407732586497,
                      0.468081101860145,
                      0.6733519366813412,
                      0.5917870967801782,
                      0.5159821323562062,
                      0.3967716038242386,
                      0.5103990599540439,
                      0.7832480256254291,
                      0.6904867191185018,
                      0,
                      0.3764665929944212,
                      0.6988739781463358,
                      0.7912698347955986,
                      0.7895578235481304,
                      0.6445502393667021,
                      0.3255724839781463,
                      0.6204486399377156,
                      0.6621490274380426,
                      0.6697680715500666,
                      0.6778468541272841,
                      0.7114864035280976,
                      0.65218204235489,
                      0.6490304656179633,
                      0.6491548281577036,
                      0.6560990994163342,
                      0.659370792427947
                    ],
                    [
                      0.5520770997138846,
                      0.5602189926329735,
                      0.5256730780932115,
                      0.5241582632265254,
                      0.5476215335878645,
                      0.6542704918806173,
                      0.7407075303696387,
                      0.4512999150709955,
                      0.5560752224575409,
                      0.5976986490202102,
                      0.6644570433152525,
                      0.7180467535209714,
                      0.3631620059545282,
                      0.3379345507886068,
                      0.6658859507804831,
                      0.7226733433763044,
                      0.7305669429356578,
                      0.36336318087082,
                      0.2767838855765409,
                      0.6789936724805565,
                      0.7660488191863981,
                      0.7843521123720194,
                      0.38618756459200393,
                      0.3764665929944212,
                      5.551115123125783e-17,
                      0.46703318354317497,
                      0.6839718814528061,
                      0.6113240444223458,
                      0.3823941188059844,
                      0.16085971877853983,
                      0.29820598531310216,
                      0.35820867626052677,
                      0.39029067589737926,
                      0.3994806869134597,
                      0.48665570866454694,
                      0.35662342439139944,
                      0.3449105868455242,
                      0.3488900755727586,
                      0.3585702676999112,
                      0.3641702292899819
                    ],
                    [
                      0.8876784255797694,
                      0.9486795516164317,
                      0.9351427481039154,
                      0.8934570679835552,
                      0.9341286803806927,
                      0.9184379081111076,
                      0.7734576349444455,
                      0.7721091683640471,
                      0.892045093747592,
                      0.8869416426597554,
                      0.924091808470938,
                      0.7165576064537342,
                      0.4315186377040528,
                      0.7130112761706036,
                      0.8490363177535537,
                      0.8638333887222588,
                      0.712174713964691,
                      0.19115561699871203,
                      0.37872592302576885,
                      0.7247498624019673,
                      0.7900966621105292,
                      0.5376790311564205,
                      0.10178532379895483,
                      0.6988739781463358,
                      0.46703318354317497,
                      0,
                      0.17590945005047848,
                      0.17634662463185846,
                      0.09656438257350025,
                      0.3599287660084627,
                      0.05118732358679362,
                      0.06062848942506538,
                      0.10594670114406629,
                      0.1299074884622402,
                      0.11563009156991488,
                      0.051840346641675805,
                      0.05455263153096879,
                      0.07231643006549676,
                      0.11453304649686846,
                      0.12308161241397081
                    ],
                    [
                      0.895657983165171,
                      0.8680686816244589,
                      0.8253226600669405,
                      0.865868699851978,
                      0.8587823523415918,
                      0.8298966821864755,
                      0.6436605791068826,
                      0.6304997017578262,
                      0.8380833331491329,
                      0.8253559466532467,
                      0.8294565565526059,
                      0.6145266890796831,
                      0.46874421901129065,
                      0.8231456095575926,
                      0.7800224648767826,
                      0.7214253294094709,
                      0.5276636326676163,
                      0.21836885608699869,
                      0.5620790835355528,
                      0.7248028396651772,
                      0.6213855470874121,
                      0.27050945056149034,
                      0.12260602197385045,
                      0.7912698347955986,
                      0.6839718814528061,
                      0.17590945005047848,
                      0,
                      0.021364500587324586,
                      0.13875893286682445,
                      0.5282811496915619,
                      0.3289021351519379,
                      0.17403661044031937,
                      0.17237459599325772,
                      0.1618132426879605,
                      0.0729062220242051,
                      0.22289988279509654,
                      0.23248266835804027,
                      0.21410306486252462,
                      0.20198896862761684,
                      0.19147846335168167
                    ],
                    [
                      0.9256103246373129,
                      0.8876446209539582,
                      0.7961154042804717,
                      0.9032958464448753,
                      0.8962830427742391,
                      0.866160893018775,
                      0.6544262565652444,
                      0.6190639643693367,
                      0.8902544414007881,
                      0.8815116499834129,
                      0.8667017413883156,
                      0.5969523482602065,
                      0.503270994280011,
                      0.8550813747332628,
                      0.8515294745414357,
                      0.7883405133946113,
                      0.5271178455026357,
                      0.2133364804251568,
                      0.5624076360661723,
                      0.8153064151024425,
                      0.7080123267465861,
                      0.2999304895912086,
                      0.11145326904678216,
                      0.7895578235481304,
                      0.6113240444223458,
                      0.17634662463185846,
                      0.021364500587324586,
                      5.551115123125783e-17,
                      0.12542939196959396,
                      0.4752832473330604,
                      0.29715949955707033,
                      0.12732476435079942,
                      0.11800137150717371,
                      0.10482332788283416,
                      0.03914713357298233,
                      0.18292802061680152,
                      0.1914091241301878,
                      0.16945405424507393,
                      0.14313935077643947,
                      0.1332270749454605
                    ],
                    [
                      0.9388179617300871,
                      0.9243628706081328,
                      0.9033010829272304,
                      0.8987504498805614,
                      0.9466042966934815,
                      0.974145007418471,
                      0.8058342080375342,
                      0.7483946469024618,
                      0.8843878067332134,
                      0.947531208648763,
                      0.9728847426381884,
                      0.7772858863797782,
                      0.28292801790498245,
                      0.7786706348222743,
                      0.9158431906167903,
                      0.9285483713386304,
                      0.7740133473883144,
                      0.05494499219804316,
                      0.4739481867227292,
                      0.845020066510564,
                      0.8716424417880886,
                      0.5658345166377884,
                      0.0048706809500631,
                      0.6445502393667021,
                      0.3823941188059844,
                      0.09656438257350025,
                      0.13875893286682445,
                      0.12542939196959396,
                      0,
                      0.26809651659860595,
                      0.1353960276850269,
                      0.038530799874902655,
                      0.05411577079154739,
                      0.05896631012338549,
                      0.03962494724547472,
                      0.06524316795084922,
                      0.06772053639753867,
                      0.06095835471114891,
                      0.061481304907826606,
                      0.05796462148445253
                    ],
                    [
                      0.6057098783582311,
                      0.6451330053222087,
                      0.6287370583788023,
                      0.6951615545645276,
                      0.7109805005863907,
                      0.8119589149437367,
                      0.863234575798202,
                      0.48714134283583294,
                      0.6780309254388804,
                      0.7671462550921726,
                      0.7936481077342175,
                      0.8447115474721199,
                      0.1626994836208464,
                      0.5904634380286273,
                      0.7993934215181349,
                      0.8722523195155921,
                      0.893081540793843,
                      0.17546743478290544,
                      0.4272381741845638,
                      0.8049700245515694,
                      0.8623209677888344,
                      0.8847940699580059,
                      0.27516364912842656,
                      0.3255724839781463,
                      0.16085971877853988,
                      0.3599287660084627,
                      0.5282811496915619,
                      0.4752832473330604,
                      0.26809651659860595,
                      0,
                      0.2615125962992749,
                      0.22535717739011307,
                      0.21325439958694253,
                      0.22557617403390473,
                      0.3311654694862167,
                      0.20701034487376607,
                      0.2011441756759048,
                      0.18596654070521168,
                      0.20138662760173948,
                      0.20057154836255775
                    ],
                    [
                      0.853990336384926,
                      0.9172990199053053,
                      0.8850795434663488,
                      0.8457092739212696,
                      0.8908427754573814,
                      0.9006219083559834,
                      0.7928822197076171,
                      0.7744891594810102,
                      0.8558281519765203,
                      0.8616842967048479,
                      0.9116962044201246,
                      0.7301948718309668,
                      0.4283245750056253,
                      0.6074027878643259,
                      0.8644779428048521,
                      0.8905143400478905,
                      0.7659614557661627,
                      0.20386185600855722,
                      0.27877711213618883,
                      0.7524739268612404,
                      0.8448297015109079,
                      0.6521333325864203,
                      0.14212106166351812,
                      0.6204486399377156,
                      0.29820598531310216,
                      0.05118732358679362,
                      0.3289021351519379,
                      0.29715949955707033,
                      0.1353960276850269,
                      0.2615125962992749,
                      0,
                      0.07448136190983046,
                      0.12540291980836915,
                      0.14796797574660647,
                      0.19667864900400217,
                      0.04826722559759583,
                      0.044942248715435285,
                      0.06769663636172829,
                      0.12032453028174767,
                      0.13226848354006693
                    ],
                    [
                      0.9325003807861973,
                      0.945871354045623,
                      0.8872791261443564,
                      0.9537342583724596,
                      0.9828918840851979,
                      0.9886109485148408,
                      0.8079464050356359,
                      0.7357679791412289,
                      0.9531087881604676,
                      0.9816872877783003,
                      0.9871386171926858,
                      0.7393931579780456,
                      0.3544874325008553,
                      0.8019848227758501,
                      0.9699930791424742,
                      0.9701713402156342,
                      0.7552886919058454,
                      0.0916128295656819,
                      0.44188629019108033,
                      0.9008701270724782,
                      0.9189113666996879,
                      0.5967705702271373,
                      0.04162424301094719,
                      0.6621490274380426,
                      0.35820867626052677,
                      0.06062848942506538,
                      0.17403661044031937,
                      0.12732476435079942,
                      0.038530799874902655,
                      0.22535717739011313,
                      0.07448136190983046,
                      0,
                      0.015052110471384827,
                      0.027417794392850803,
                      0.04184963110255685,
                      0.015190728122791208,
                      0.016105294832527983,
                      0.015986850875419012,
                      0.02037460291089288,
                      0.020776972609688638
                    ],
                    [
                      0.9193223266302892,
                      0.9252236696187993,
                      0.8634482789079314,
                      0.9625874428021542,
                      0.9756486529911226,
                      0.9761639602710206,
                      0.7849656828482136,
                      0.7167969386189486,
                      0.9554859201818824,
                      0.9891795745678894,
                      0.9633390868318884,
                      0.7280665116627011,
                      0.33608350605866955,
                      0.8583086071073213,
                      0.9754628873844987,
                      0.9707755884504218,
                      0.7621409447985275,
                      0.0798763278681277,
                      0.49144285080022426,
                      0.9263482338907764,
                      0.9283067080266807,
                      0.6161437521767875,
                      0.052003557666636224,
                      0.6697680715500666,
                      0.39029067589737926,
                      0.10594670114406624,
                      0.17237459599325772,
                      0.11800137150717371,
                      0.054115770791547446,
                      0.21325439958694253,
                      0.12540291980836915,
                      0.015052110471384772,
                      0,
                      0.004480804744435185,
                      0.03606492892350649,
                      0.03100261517203562,
                      0.0335675463361772,
                      0.020043019585189503,
                      0.003941547570117665,
                      0.0028755915813312716
                    ],
                    [
                      0.931505757733678,
                      0.9280089026422504,
                      0.8518679905718773,
                      0.9528981871661715,
                      0.96020452352869,
                      0.9685246398189605,
                      0.7818618514116459,
                      0.6933311894432557,
                      0.9409708451620523,
                      0.978449847974822,
                      0.9548771180826462,
                      0.7318291504885881,
                      0.3462707505412926,
                      0.8527290357278239,
                      0.9671710622304361,
                      0.9589884627797868,
                      0.7578051020940298,
                      0.08375562578880186,
                      0.48253258592641834,
                      0.9244321047408344,
                      0.913119872276303,
                      0.5957465471114766,
                      0.052974960270329996,
                      0.6778468541272841,
                      0.3994806869134597,
                      0.1299074884622402,
                      0.16181324268796055,
                      0.10482332788283416,
                      0.05896631012338549,
                      0.22557617403390473,
                      0.14796797574660653,
                      0.027417794392850747,
                      0.004480804744435185,
                      0,
                      0.0354471159798167,
                      0.04842288435458386,
                      0.05176788370494201,
                      0.029640394303007744,
                      0.00823686477285912,
                      0.00592088867654017
                    ],
                    [
                      0.9427127576935403,
                      0.9176712448254905,
                      0.8485957362702355,
                      0.946639710748734,
                      0.967278229599618,
                      0.9567950256178412,
                      0.738416894398062,
                      0.6942920507059098,
                      0.9356956536978495,
                      0.9682402118798488,
                      0.9517867631969285,
                      0.687921489310249,
                      0.37671191627050804,
                      0.8752888122974066,
                      0.9351175849588185,
                      0.9128704623820367,
                      0.6714995473974887,
                      0.10950356138690354,
                      0.5521375863587634,
                      0.8861376075539138,
                      0.8534453585639997,
                      0.4698238130603142,
                      0.03896733729136298,
                      0.7114864035280976,
                      0.48665570866454694,
                      0.11563009156991488,
                      0.07290622202420516,
                      0.03914713357298233,
                      0.03962494724547472,
                      0.3311654694862167,
                      0.19667864900400212,
                      0.04184963110255685,
                      0.03606492892350649,
                      0.035447115979816646,
                      0,
                      0.08441270784011828,
                      0.09049624732584605,
                      0.0752484444992163,
                      0.051384595675079414,
                      0.04468764906568301
                    ],
                    [
                      0.8963619213357429,
                      0.9388691963499174,
                      0.9027248205238932,
                      0.92827450715527,
                      0.9689977409860482,
                      0.972604110022845,
                      0.8304456577649291,
                      0.7600144589693353,
                      0.9278829422644601,
                      0.960239100545905,
                      0.9691297442579133,
                      0.7460571320085356,
                      0.36581829066915955,
                      0.7795122448984653,
                      0.9471262591499118,
                      0.961778355420666,
                      0.775407463222424,
                      0.10917477034824419,
                      0.4386143256303701,
                      0.8654018672201442,
                      0.9049158658818133,
                      0.6378130708643958,
                      0.0690461102350105,
                      0.65218204235489,
                      0.3566234243913995,
                      0.051840346641675805,
                      0.2228998827950966,
                      0.18292802061680152,
                      0.06524316795084922,
                      0.20701034487376607,
                      0.048267225597595775,
                      0.015190728122791208,
                      0.03100261517203562,
                      0.04842288435458392,
                      0.08441270784011823,
                      0,
                      0.0003355984858833261,
                      0.0054554612927069646,
                      0.03868952970418588,
                      0.04214596516665792
                    ],
                    [
                      0.8938539028756858,
                      0.9359040549541998,
                      0.901635997041732,
                      0.9258448834848392,
                      0.9660748540314879,
                      0.9705999022598268,
                      0.8303724012656599,
                      0.7626467511997811,
                      0.926995970422074,
                      0.9581021477998961,
                      0.9677499799979801,
                      0.7439629252302562,
                      0.36441382161736424,
                      0.7730005322177776,
                      0.9481754284222331,
                      0.9616474441289568,
                      0.7751992573217484,
                      0.10819237342978422,
                      0.43351620372534083,
                      0.8679641360371142,
                      0.9069086493072573,
                      0.6431363921319931,
                      0.07139943953813077,
                      0.6490304656179633,
                      0.3449105868455242,
                      0.05455263153096879,
                      0.23248266835804027,
                      0.1914091241301878,
                      0.06772053639753867,
                      0.20114417567590476,
                      0.044942248715435285,
                      0.016105294832527983,
                      0.033567546336177256,
                      0.051767883704942064,
                      0.0904962473258461,
                      0.0003355984858833261,
                      1.1102230246251565e-16,
                      0.006590472548173298,
                      0.0405394613850098,
                      0.044066504607948365
                    ],
                    [
                      0.9061407272990405,
                      0.9446447648107239,
                      0.896669635763174,
                      0.9273555247274055,
                      0.960318921250241,
                      0.9803021732937829,
                      0.8538144137993283,
                      0.7192475517866829,
                      0.9208127801410996,
                      0.9617694466950101,
                      0.9725362609640902,
                      0.7773404607568655,
                      0.34759798283954524,
                      0.7836663924044879,
                      0.9497868645225822,
                      0.9690369241032935,
                      0.7984707731034322,
                      0.09462963793818985,
                      0.43206177792478145,
                      0.8771714525372669,
                      0.9093617733804107,
                      0.6471739257717388,
                      0.06055774546111481,
                      0.6491548281577036,
                      0.34889007557275864,
                      0.0723164300654967,
                      0.21410306486252462,
                      0.16945405424507393,
                      0.06095835471114891,
                      0.18596654070521174,
                      0.06769663636172824,
                      0.015986850875419067,
                      0.020043019585189503,
                      0.0296403943030078,
                      0.07524844449921625,
                      0.005455461292706909,
                      0.006590472548173298,
                      5.551115123125783e-17,
                      0.02631029717820249,
                      0.028850315735799104
                    ],
                    [
                      0.9101766741299091,
                      0.9175917499414369,
                      0.8561122018115521,
                      0.9554313916111623,
                      0.9631479869030675,
                      0.9690452162303838,
                      0.7781174454990798,
                      0.7133173088856155,
                      0.9503050187976032,
                      0.9812447770471082,
                      0.9549869557118016,
                      0.7381866202109664,
                      0.32281342702614746,
                      0.8351426194234355,
                      0.9717006007233138,
                      0.9732054464109802,
                      0.7846320235551787,
                      0.08233239033233614,
                      0.45667589352831495,
                      0.9224400685568237,
                      0.9430152592061747,
                      0.6520147679098168,
                      0.059131432443673915,
                      0.6560990994163342,
                      0.3585702676999112,
                      0.11453304649686841,
                      0.20198896862761684,
                      0.1431393507764394,
                      0.061481304907826606,
                      0.20138662760173942,
                      0.12032453028174772,
                      0.020374602910892825,
                      0.0039415475701176095,
                      0.00823686477285912,
                      0.051384595675079414,
                      0.03868952970418593,
                      0.0405394613850098,
                      0.02631029717820249,
                      0,
                      0.0012470520979778188
                    ],
                    [
                      0.9129693223729499,
                      0.9134303292232872,
                      0.8510664734418141,
                      0.9595643766456432,
                      0.964484974684491,
                      0.9710556253278175,
                      0.7773993944858199,
                      0.7087819518815986,
                      0.9514693850194298,
                      0.9837710278330092,
                      0.9564536545472015,
                      0.7357601989082452,
                      0.3166236454870411,
                      0.8446608328134109,
                      0.9762670052879425,
                      0.9724649670052208,
                      0.7772870003632326,
                      0.07405731653864939,
                      0.4718993664693673,
                      0.9315633552129453,
                      0.9391578859126646,
                      0.638727735651544,
                      0.05475285341954195,
                      0.659370792427947,
                      0.3641702292899819,
                      0.12308161241397081,
                      0.19147846335168167,
                      0.1332270749454605,
                      0.05796462148445247,
                      0.20057154836255775,
                      0.13226848354006687,
                      0.020776972609688638,
                      0.002875591581331327,
                      0.00592088867654017,
                      0.04468764906568301,
                      0.04214596516665797,
                      0.044066504607948365,
                      0.02885031573579916,
                      0.0012470520979777633,
                      0
                    ]
                  ]
                }
              ],
              "layout": {
                "plot_bgcolor": "white",
                "template": {
                  "data": {
                    "bar": [
                      {
                        "error_x": {
                          "color": "#2a3f5f"
                        },
                        "error_y": {
                          "color": "#2a3f5f"
                        },
                        "marker": {
                          "line": {
                            "color": "#E5ECF6",
                            "width": 0.5
                          },
                          "pattern": {
                            "fillmode": "overlay",
                            "size": 10,
                            "solidity": 0.2
                          }
                        },
                        "type": "bar"
                      }
                    ],
                    "barpolar": [
                      {
                        "marker": {
                          "line": {
                            "color": "#E5ECF6",
                            "width": 0.5
                          },
                          "pattern": {
                            "fillmode": "overlay",
                            "size": 10,
                            "solidity": 0.2
                          }
                        },
                        "type": "barpolar"
                      }
                    ],
                    "carpet": [
                      {
                        "aaxis": {
                          "endlinecolor": "#2a3f5f",
                          "gridcolor": "white",
                          "linecolor": "white",
                          "minorgridcolor": "white",
                          "startlinecolor": "#2a3f5f"
                        },
                        "baxis": {
                          "endlinecolor": "#2a3f5f",
                          "gridcolor": "white",
                          "linecolor": "white",
                          "minorgridcolor": "white",
                          "startlinecolor": "#2a3f5f"
                        },
                        "type": "carpet"
                      }
                    ],
                    "choropleth": [
                      {
                        "colorbar": {
                          "outlinewidth": 0,
                          "ticks": ""
                        },
                        "type": "choropleth"
                      }
                    ],
                    "contour": [
                      {
                        "colorbar": {
                          "outlinewidth": 0,
                          "ticks": ""
                        },
                        "colorscale": [
                          [
                            0,
                            "#0d0887"
                          ],
                          [
                            0.1111111111111111,
                            "#46039f"
                          ],
                          [
                            0.2222222222222222,
                            "#7201a8"
                          ],
                          [
                            0.3333333333333333,
                            "#9c179e"
                          ],
                          [
                            0.4444444444444444,
                            "#bd3786"
                          ],
                          [
                            0.5555555555555556,
                            "#d8576b"
                          ],
                          [
                            0.6666666666666666,
                            "#ed7953"
                          ],
                          [
                            0.7777777777777778,
                            "#fb9f3a"
                          ],
                          [
                            0.8888888888888888,
                            "#fdca26"
                          ],
                          [
                            1,
                            "#f0f921"
                          ]
                        ],
                        "type": "contour"
                      }
                    ],
                    "contourcarpet": [
                      {
                        "colorbar": {
                          "outlinewidth": 0,
                          "ticks": ""
                        },
                        "type": "contourcarpet"
                      }
                    ],
                    "heatmap": [
                      {
                        "colorbar": {
                          "outlinewidth": 0,
                          "ticks": ""
                        },
                        "colorscale": [
                          [
                            0,
                            "#0d0887"
                          ],
                          [
                            0.1111111111111111,
                            "#46039f"
                          ],
                          [
                            0.2222222222222222,
                            "#7201a8"
                          ],
                          [
                            0.3333333333333333,
                            "#9c179e"
                          ],
                          [
                            0.4444444444444444,
                            "#bd3786"
                          ],
                          [
                            0.5555555555555556,
                            "#d8576b"
                          ],
                          [
                            0.6666666666666666,
                            "#ed7953"
                          ],
                          [
                            0.7777777777777778,
                            "#fb9f3a"
                          ],
                          [
                            0.8888888888888888,
                            "#fdca26"
                          ],
                          [
                            1,
                            "#f0f921"
                          ]
                        ],
                        "type": "heatmap"
                      }
                    ],
                    "heatmapgl": [
                      {
                        "colorbar": {
                          "outlinewidth": 0,
                          "ticks": ""
                        },
                        "colorscale": [
                          [
                            0,
                            "#0d0887"
                          ],
                          [
                            0.1111111111111111,
                            "#46039f"
                          ],
                          [
                            0.2222222222222222,
                            "#7201a8"
                          ],
                          [
                            0.3333333333333333,
                            "#9c179e"
                          ],
                          [
                            0.4444444444444444,
                            "#bd3786"
                          ],
                          [
                            0.5555555555555556,
                            "#d8576b"
                          ],
                          [
                            0.6666666666666666,
                            "#ed7953"
                          ],
                          [
                            0.7777777777777778,
                            "#fb9f3a"
                          ],
                          [
                            0.8888888888888888,
                            "#fdca26"
                          ],
                          [
                            1,
                            "#f0f921"
                          ]
                        ],
                        "type": "heatmapgl"
                      }
                    ],
                    "histogram": [
                      {
                        "marker": {
                          "pattern": {
                            "fillmode": "overlay",
                            "size": 10,
                            "solidity": 0.2
                          }
                        },
                        "type": "histogram"
                      }
                    ],
                    "histogram2d": [
                      {
                        "colorbar": {
                          "outlinewidth": 0,
                          "ticks": ""
                        },
                        "colorscale": [
                          [
                            0,
                            "#0d0887"
                          ],
                          [
                            0.1111111111111111,
                            "#46039f"
                          ],
                          [
                            0.2222222222222222,
                            "#7201a8"
                          ],
                          [
                            0.3333333333333333,
                            "#9c179e"
                          ],
                          [
                            0.4444444444444444,
                            "#bd3786"
                          ],
                          [
                            0.5555555555555556,
                            "#d8576b"
                          ],
                          [
                            0.6666666666666666,
                            "#ed7953"
                          ],
                          [
                            0.7777777777777778,
                            "#fb9f3a"
                          ],
                          [
                            0.8888888888888888,
                            "#fdca26"
                          ],
                          [
                            1,
                            "#f0f921"
                          ]
                        ],
                        "type": "histogram2d"
                      }
                    ],
                    "histogram2dcontour": [
                      {
                        "colorbar": {
                          "outlinewidth": 0,
                          "ticks": ""
                        },
                        "colorscale": [
                          [
                            0,
                            "#0d0887"
                          ],
                          [
                            0.1111111111111111,
                            "#46039f"
                          ],
                          [
                            0.2222222222222222,
                            "#7201a8"
                          ],
                          [
                            0.3333333333333333,
                            "#9c179e"
                          ],
                          [
                            0.4444444444444444,
                            "#bd3786"
                          ],
                          [
                            0.5555555555555556,
                            "#d8576b"
                          ],
                          [
                            0.6666666666666666,
                            "#ed7953"
                          ],
                          [
                            0.7777777777777778,
                            "#fb9f3a"
                          ],
                          [
                            0.8888888888888888,
                            "#fdca26"
                          ],
                          [
                            1,
                            "#f0f921"
                          ]
                        ],
                        "type": "histogram2dcontour"
                      }
                    ],
                    "mesh3d": [
                      {
                        "colorbar": {
                          "outlinewidth": 0,
                          "ticks": ""
                        },
                        "type": "mesh3d"
                      }
                    ],
                    "parcoords": [
                      {
                        "line": {
                          "colorbar": {
                            "outlinewidth": 0,
                            "ticks": ""
                          }
                        },
                        "type": "parcoords"
                      }
                    ],
                    "pie": [
                      {
                        "automargin": true,
                        "type": "pie"
                      }
                    ],
                    "scatter": [
                      {
                        "fillpattern": {
                          "fillmode": "overlay",
                          "size": 10,
                          "solidity": 0.2
                        },
                        "type": "scatter"
                      }
                    ],
                    "scatter3d": [
                      {
                        "line": {
                          "colorbar": {
                            "outlinewidth": 0,
                            "ticks": ""
                          }
                        },
                        "marker": {
                          "colorbar": {
                            "outlinewidth": 0,
                            "ticks": ""
                          }
                        },
                        "type": "scatter3d"
                      }
                    ],
                    "scattercarpet": [
                      {
                        "marker": {
                          "colorbar": {
                            "outlinewidth": 0,
                            "ticks": ""
                          }
                        },
                        "type": "scattercarpet"
                      }
                    ],
                    "scattergeo": [
                      {
                        "marker": {
                          "colorbar": {
                            "outlinewidth": 0,
                            "ticks": ""
                          }
                        },
                        "type": "scattergeo"
                      }
                    ],
                    "scattergl": [
                      {
                        "marker": {
                          "colorbar": {
                            "outlinewidth": 0,
                            "ticks": ""
                          }
                        },
                        "type": "scattergl"
                      }
                    ],
                    "scattermapbox": [
                      {
                        "marker": {
                          "colorbar": {
                            "outlinewidth": 0,
                            "ticks": ""
                          }
                        },
                        "type": "scattermapbox"
                      }
                    ],
                    "scatterpolar": [
                      {
                        "marker": {
                          "colorbar": {
                            "outlinewidth": 0,
                            "ticks": ""
                          }
                        },
                        "type": "scatterpolar"
                      }
                    ],
                    "scatterpolargl": [
                      {
                        "marker": {
                          "colorbar": {
                            "outlinewidth": 0,
                            "ticks": ""
                          }
                        },
                        "type": "scatterpolargl"
                      }
                    ],
                    "scatterternary": [
                      {
                        "marker": {
                          "colorbar": {
                            "outlinewidth": 0,
                            "ticks": ""
                          }
                        },
                        "type": "scatterternary"
                      }
                    ],
                    "surface": [
                      {
                        "colorbar": {
                          "outlinewidth": 0,
                          "ticks": ""
                        },
                        "colorscale": [
                          [
                            0,
                            "#0d0887"
                          ],
                          [
                            0.1111111111111111,
                            "#46039f"
                          ],
                          [
                            0.2222222222222222,
                            "#7201a8"
                          ],
                          [
                            0.3333333333333333,
                            "#9c179e"
                          ],
                          [
                            0.4444444444444444,
                            "#bd3786"
                          ],
                          [
                            0.5555555555555556,
                            "#d8576b"
                          ],
                          [
                            0.6666666666666666,
                            "#ed7953"
                          ],
                          [
                            0.7777777777777778,
                            "#fb9f3a"
                          ],
                          [
                            0.8888888888888888,
                            "#fdca26"
                          ],
                          [
                            1,
                            "#f0f921"
                          ]
                        ],
                        "type": "surface"
                      }
                    ],
                    "table": [
                      {
                        "cells": {
                          "fill": {
                            "color": "#EBF0F8"
                          },
                          "line": {
                            "color": "white"
                          }
                        },
                        "header": {
                          "fill": {
                            "color": "#C8D4E3"
                          },
                          "line": {
                            "color": "white"
                          }
                        },
                        "type": "table"
                      }
                    ]
                  },
                  "layout": {
                    "annotationdefaults": {
                      "arrowcolor": "#2a3f5f",
                      "arrowhead": 0,
                      "arrowwidth": 1
                    },
                    "autotypenumbers": "strict",
                    "coloraxis": {
                      "colorbar": {
                        "outlinewidth": 0,
                        "ticks": ""
                      }
                    },
                    "colorscale": {
                      "diverging": [
                        [
                          0,
                          "#8e0152"
                        ],
                        [
                          0.1,
                          "#c51b7d"
                        ],
                        [
                          0.2,
                          "#de77ae"
                        ],
                        [
                          0.3,
                          "#f1b6da"
                        ],
                        [
                          0.4,
                          "#fde0ef"
                        ],
                        [
                          0.5,
                          "#f7f7f7"
                        ],
                        [
                          0.6,
                          "#e6f5d0"
                        ],
                        [
                          0.7,
                          "#b8e186"
                        ],
                        [
                          0.8,
                          "#7fbc41"
                        ],
                        [
                          0.9,
                          "#4d9221"
                        ],
                        [
                          1,
                          "#276419"
                        ]
                      ],
                      "sequential": [
                        [
                          0,
                          "#0d0887"
                        ],
                        [
                          0.1111111111111111,
                          "#46039f"
                        ],
                        [
                          0.2222222222222222,
                          "#7201a8"
                        ],
                        [
                          0.3333333333333333,
                          "#9c179e"
                        ],
                        [
                          0.4444444444444444,
                          "#bd3786"
                        ],
                        [
                          0.5555555555555556,
                          "#d8576b"
                        ],
                        [
                          0.6666666666666666,
                          "#ed7953"
                        ],
                        [
                          0.7777777777777778,
                          "#fb9f3a"
                        ],
                        [
                          0.8888888888888888,
                          "#fdca26"
                        ],
                        [
                          1,
                          "#f0f921"
                        ]
                      ],
                      "sequentialminus": [
                        [
                          0,
                          "#0d0887"
                        ],
                        [
                          0.1111111111111111,
                          "#46039f"
                        ],
                        [
                          0.2222222222222222,
                          "#7201a8"
                        ],
                        [
                          0.3333333333333333,
                          "#9c179e"
                        ],
                        [
                          0.4444444444444444,
                          "#bd3786"
                        ],
                        [
                          0.5555555555555556,
                          "#d8576b"
                        ],
                        [
                          0.6666666666666666,
                          "#ed7953"
                        ],
                        [
                          0.7777777777777778,
                          "#fb9f3a"
                        ],
                        [
                          0.8888888888888888,
                          "#fdca26"
                        ],
                        [
                          1,
                          "#f0f921"
                        ]
                      ]
                    },
                    "colorway": [
                      "#636efa",
                      "#EF553B",
                      "#00cc96",
                      "#ab63fa",
                      "#FFA15A",
                      "#19d3f3",
                      "#FF6692",
                      "#B6E880",
                      "#FF97FF",
                      "#FECB52"
                    ],
                    "font": {
                      "color": "#2a3f5f"
                    },
                    "geo": {
                      "bgcolor": "white",
                      "lakecolor": "white",
                      "landcolor": "#E5ECF6",
                      "showlakes": true,
                      "showland": true,
                      "subunitcolor": "white"
                    },
                    "hoverlabel": {
                      "align": "left"
                    },
                    "hovermode": "closest",
                    "mapbox": {
                      "style": "light"
                    },
                    "paper_bgcolor": "white",
                    "plot_bgcolor": "#E5ECF6",
                    "polar": {
                      "angularaxis": {
                        "gridcolor": "white",
                        "linecolor": "white",
                        "ticks": ""
                      },
                      "bgcolor": "#E5ECF6",
                      "radialaxis": {
                        "gridcolor": "white",
                        "linecolor": "white",
                        "ticks": ""
                      }
                    },
                    "scene": {
                      "xaxis": {
                        "backgroundcolor": "#E5ECF6",
                        "gridcolor": "white",
                        "gridwidth": 2,
                        "linecolor": "white",
                        "showbackground": true,
                        "ticks": "",
                        "zerolinecolor": "white"
                      },
                      "yaxis": {
                        "backgroundcolor": "#E5ECF6",
                        "gridcolor": "white",
                        "gridwidth": 2,
                        "linecolor": "white",
                        "showbackground": true,
                        "ticks": "",
                        "zerolinecolor": "white"
                      },
                      "zaxis": {
                        "backgroundcolor": "#E5ECF6",
                        "gridcolor": "white",
                        "gridwidth": 2,
                        "linecolor": "white",
                        "showbackground": true,
                        "ticks": "",
                        "zerolinecolor": "white"
                      }
                    },
                    "shapedefaults": {
                      "line": {
                        "color": "#2a3f5f"
                      }
                    },
                    "ternary": {
                      "aaxis": {
                        "gridcolor": "white",
                        "linecolor": "white",
                        "ticks": ""
                      },
                      "baxis": {
                        "gridcolor": "white",
                        "linecolor": "white",
                        "ticks": ""
                      },
                      "bgcolor": "#E5ECF6",
                      "caxis": {
                        "gridcolor": "white",
                        "linecolor": "white",
                        "ticks": ""
                      }
                    },
                    "title": {
                      "x": 0.05
                    },
                    "xaxis": {
                      "automargin": true,
                      "gridcolor": "white",
                      "linecolor": "white",
                      "ticks": "",
                      "title": {
                        "standoff": 15
                      },
                      "zerolinecolor": "white",
                      "zerolinewidth": 2
                    },
                    "yaxis": {
                      "automargin": true,
                      "gridcolor": "white",
                      "linecolor": "white",
                      "ticks": "",
                      "title": {
                        "standoff": 15
                      },
                      "zerolinecolor": "white",
                      "zerolinewidth": 2
                    }
                  }
                },
                "xaxis": {
                  "constrain": "domain",
                  "scaleanchor": "y"
                },
                "yaxis": {
                  "autorange": "reversed",
                  "constrain": "domain"
                }
              }
            }
          },
          "metadata": {},
          "output_type": "display_data"
        }
      ],
      "source": [
        "dissim_matrixes_plot = gtda.plotting.plot_heatmap(dissim_matrixes[print_obj], colorscale = 'YlOrRd')\n",
        "display(dissim_matrixes_plot)\n",
        "dissim_matrixes_plot.write_image(file = f\"{subj}/{exp}/dissim_matrix.svg\", format = \"svg\")"
      ]
    },
    {
      "cell_type": "markdown",
      "metadata": {},
      "source": [
        "##### VietorisRipsPersistence"
      ]
    },
    {
      "cell_type": "code",
      "execution_count": 53,
      "metadata": {},
      "outputs": [
        {
          "name": "stdout",
          "output_type": "stream",
          "text": [
            "(30334, 51, 3)\n"
          ]
        }
      ],
      "source": [
        "dissim_persistence = gtda.homology.VietorisRipsPersistence(metric = \"precomputed\", homology_dimensions = DISSIM_HOMOLOGY_DIMENSIONS, n_jobs = -1)\n",
        "dissim_diagrams = dissim_persistence.fit_transform(dissim_matrixes)\n",
        "print(dissim_diagrams.shape)"
      ]
    },
    {
      "cell_type": "code",
      "execution_count": 54,
      "metadata": {},
      "outputs": [
        {
          "data": {
            "application/vnd.plotly.v1+json": {
              "config": {
                "plotlyServerURL": "https://plot.ly"
              },
              "data": [
                {
                  "hoverinfo": "none",
                  "line": {
                    "color": "black",
                    "dash": "dash",
                    "width": 1
                  },
                  "mode": "lines",
                  "showlegend": false,
                  "type": "scatter",
                  "x": [
                    0.027761801853775976,
                    0.6104496533423662
                  ],
                  "y": [
                    0.027761801853775976,
                    0.6104496533423662
                  ]
                },
                {
                  "hoverinfo": "text",
                  "hovertext": [
                    "(0.2851247191429138, 0.3764666020870209)",
                    "(0.2787771224975586, 0.2982059717178345)",
                    "(0.27678388357162476, 0.5992441177368164)",
                    "(0.170174703001976, 0.17230652272701263)",
                    "(0.03896733745932579, 0.04184963181614876)"
                  ],
                  "mode": "markers",
                  "name": "H1",
                  "type": "scatter",
                  "x": [
                    0.2851247191429138,
                    0.2787771224975586,
                    0.27678388357162476,
                    0.170174703001976,
                    0.03896733745932579
                  ],
                  "y": [
                    0.3764666020870209,
                    0.2982059717178345,
                    0.5992441177368164,
                    0.17230652272701263,
                    0.04184963181614876
                  ]
                },
                {
                  "hoverinfo": "text",
                  "hovertext": [],
                  "mode": "markers",
                  "name": "H2",
                  "type": "scatter",
                  "x": [],
                  "y": []
                },
                {
                  "hoverinfo": "text",
                  "hovertext": [],
                  "mode": "markers",
                  "name": "H3",
                  "type": "scatter",
                  "x": [],
                  "y": []
                },
                {
                  "hoverinfo": "text",
                  "hovertext": [],
                  "mode": "markers",
                  "name": "H4",
                  "type": "scatter",
                  "x": [],
                  "y": []
                },
                {
                  "hoverinfo": "text",
                  "hovertext": [],
                  "mode": "markers",
                  "name": "H5",
                  "type": "scatter",
                  "x": [],
                  "y": []
                }
              ],
              "layout": {
                "height": 500,
                "plot_bgcolor": "white",
                "template": {
                  "data": {
                    "bar": [
                      {
                        "error_x": {
                          "color": "#2a3f5f"
                        },
                        "error_y": {
                          "color": "#2a3f5f"
                        },
                        "marker": {
                          "line": {
                            "color": "#E5ECF6",
                            "width": 0.5
                          },
                          "pattern": {
                            "fillmode": "overlay",
                            "size": 10,
                            "solidity": 0.2
                          }
                        },
                        "type": "bar"
                      }
                    ],
                    "barpolar": [
                      {
                        "marker": {
                          "line": {
                            "color": "#E5ECF6",
                            "width": 0.5
                          },
                          "pattern": {
                            "fillmode": "overlay",
                            "size": 10,
                            "solidity": 0.2
                          }
                        },
                        "type": "barpolar"
                      }
                    ],
                    "carpet": [
                      {
                        "aaxis": {
                          "endlinecolor": "#2a3f5f",
                          "gridcolor": "white",
                          "linecolor": "white",
                          "minorgridcolor": "white",
                          "startlinecolor": "#2a3f5f"
                        },
                        "baxis": {
                          "endlinecolor": "#2a3f5f",
                          "gridcolor": "white",
                          "linecolor": "white",
                          "minorgridcolor": "white",
                          "startlinecolor": "#2a3f5f"
                        },
                        "type": "carpet"
                      }
                    ],
                    "choropleth": [
                      {
                        "colorbar": {
                          "outlinewidth": 0,
                          "ticks": ""
                        },
                        "type": "choropleth"
                      }
                    ],
                    "contour": [
                      {
                        "colorbar": {
                          "outlinewidth": 0,
                          "ticks": ""
                        },
                        "colorscale": [
                          [
                            0,
                            "#0d0887"
                          ],
                          [
                            0.1111111111111111,
                            "#46039f"
                          ],
                          [
                            0.2222222222222222,
                            "#7201a8"
                          ],
                          [
                            0.3333333333333333,
                            "#9c179e"
                          ],
                          [
                            0.4444444444444444,
                            "#bd3786"
                          ],
                          [
                            0.5555555555555556,
                            "#d8576b"
                          ],
                          [
                            0.6666666666666666,
                            "#ed7953"
                          ],
                          [
                            0.7777777777777778,
                            "#fb9f3a"
                          ],
                          [
                            0.8888888888888888,
                            "#fdca26"
                          ],
                          [
                            1,
                            "#f0f921"
                          ]
                        ],
                        "type": "contour"
                      }
                    ],
                    "contourcarpet": [
                      {
                        "colorbar": {
                          "outlinewidth": 0,
                          "ticks": ""
                        },
                        "type": "contourcarpet"
                      }
                    ],
                    "heatmap": [
                      {
                        "colorbar": {
                          "outlinewidth": 0,
                          "ticks": ""
                        },
                        "colorscale": [
                          [
                            0,
                            "#0d0887"
                          ],
                          [
                            0.1111111111111111,
                            "#46039f"
                          ],
                          [
                            0.2222222222222222,
                            "#7201a8"
                          ],
                          [
                            0.3333333333333333,
                            "#9c179e"
                          ],
                          [
                            0.4444444444444444,
                            "#bd3786"
                          ],
                          [
                            0.5555555555555556,
                            "#d8576b"
                          ],
                          [
                            0.6666666666666666,
                            "#ed7953"
                          ],
                          [
                            0.7777777777777778,
                            "#fb9f3a"
                          ],
                          [
                            0.8888888888888888,
                            "#fdca26"
                          ],
                          [
                            1,
                            "#f0f921"
                          ]
                        ],
                        "type": "heatmap"
                      }
                    ],
                    "heatmapgl": [
                      {
                        "colorbar": {
                          "outlinewidth": 0,
                          "ticks": ""
                        },
                        "colorscale": [
                          [
                            0,
                            "#0d0887"
                          ],
                          [
                            0.1111111111111111,
                            "#46039f"
                          ],
                          [
                            0.2222222222222222,
                            "#7201a8"
                          ],
                          [
                            0.3333333333333333,
                            "#9c179e"
                          ],
                          [
                            0.4444444444444444,
                            "#bd3786"
                          ],
                          [
                            0.5555555555555556,
                            "#d8576b"
                          ],
                          [
                            0.6666666666666666,
                            "#ed7953"
                          ],
                          [
                            0.7777777777777778,
                            "#fb9f3a"
                          ],
                          [
                            0.8888888888888888,
                            "#fdca26"
                          ],
                          [
                            1,
                            "#f0f921"
                          ]
                        ],
                        "type": "heatmapgl"
                      }
                    ],
                    "histogram": [
                      {
                        "marker": {
                          "pattern": {
                            "fillmode": "overlay",
                            "size": 10,
                            "solidity": 0.2
                          }
                        },
                        "type": "histogram"
                      }
                    ],
                    "histogram2d": [
                      {
                        "colorbar": {
                          "outlinewidth": 0,
                          "ticks": ""
                        },
                        "colorscale": [
                          [
                            0,
                            "#0d0887"
                          ],
                          [
                            0.1111111111111111,
                            "#46039f"
                          ],
                          [
                            0.2222222222222222,
                            "#7201a8"
                          ],
                          [
                            0.3333333333333333,
                            "#9c179e"
                          ],
                          [
                            0.4444444444444444,
                            "#bd3786"
                          ],
                          [
                            0.5555555555555556,
                            "#d8576b"
                          ],
                          [
                            0.6666666666666666,
                            "#ed7953"
                          ],
                          [
                            0.7777777777777778,
                            "#fb9f3a"
                          ],
                          [
                            0.8888888888888888,
                            "#fdca26"
                          ],
                          [
                            1,
                            "#f0f921"
                          ]
                        ],
                        "type": "histogram2d"
                      }
                    ],
                    "histogram2dcontour": [
                      {
                        "colorbar": {
                          "outlinewidth": 0,
                          "ticks": ""
                        },
                        "colorscale": [
                          [
                            0,
                            "#0d0887"
                          ],
                          [
                            0.1111111111111111,
                            "#46039f"
                          ],
                          [
                            0.2222222222222222,
                            "#7201a8"
                          ],
                          [
                            0.3333333333333333,
                            "#9c179e"
                          ],
                          [
                            0.4444444444444444,
                            "#bd3786"
                          ],
                          [
                            0.5555555555555556,
                            "#d8576b"
                          ],
                          [
                            0.6666666666666666,
                            "#ed7953"
                          ],
                          [
                            0.7777777777777778,
                            "#fb9f3a"
                          ],
                          [
                            0.8888888888888888,
                            "#fdca26"
                          ],
                          [
                            1,
                            "#f0f921"
                          ]
                        ],
                        "type": "histogram2dcontour"
                      }
                    ],
                    "mesh3d": [
                      {
                        "colorbar": {
                          "outlinewidth": 0,
                          "ticks": ""
                        },
                        "type": "mesh3d"
                      }
                    ],
                    "parcoords": [
                      {
                        "line": {
                          "colorbar": {
                            "outlinewidth": 0,
                            "ticks": ""
                          }
                        },
                        "type": "parcoords"
                      }
                    ],
                    "pie": [
                      {
                        "automargin": true,
                        "type": "pie"
                      }
                    ],
                    "scatter": [
                      {
                        "fillpattern": {
                          "fillmode": "overlay",
                          "size": 10,
                          "solidity": 0.2
                        },
                        "type": "scatter"
                      }
                    ],
                    "scatter3d": [
                      {
                        "line": {
                          "colorbar": {
                            "outlinewidth": 0,
                            "ticks": ""
                          }
                        },
                        "marker": {
                          "colorbar": {
                            "outlinewidth": 0,
                            "ticks": ""
                          }
                        },
                        "type": "scatter3d"
                      }
                    ],
                    "scattercarpet": [
                      {
                        "marker": {
                          "colorbar": {
                            "outlinewidth": 0,
                            "ticks": ""
                          }
                        },
                        "type": "scattercarpet"
                      }
                    ],
                    "scattergeo": [
                      {
                        "marker": {
                          "colorbar": {
                            "outlinewidth": 0,
                            "ticks": ""
                          }
                        },
                        "type": "scattergeo"
                      }
                    ],
                    "scattergl": [
                      {
                        "marker": {
                          "colorbar": {
                            "outlinewidth": 0,
                            "ticks": ""
                          }
                        },
                        "type": "scattergl"
                      }
                    ],
                    "scattermapbox": [
                      {
                        "marker": {
                          "colorbar": {
                            "outlinewidth": 0,
                            "ticks": ""
                          }
                        },
                        "type": "scattermapbox"
                      }
                    ],
                    "scatterpolar": [
                      {
                        "marker": {
                          "colorbar": {
                            "outlinewidth": 0,
                            "ticks": ""
                          }
                        },
                        "type": "scatterpolar"
                      }
                    ],
                    "scatterpolargl": [
                      {
                        "marker": {
                          "colorbar": {
                            "outlinewidth": 0,
                            "ticks": ""
                          }
                        },
                        "type": "scatterpolargl"
                      }
                    ],
                    "scatterternary": [
                      {
                        "marker": {
                          "colorbar": {
                            "outlinewidth": 0,
                            "ticks": ""
                          }
                        },
                        "type": "scatterternary"
                      }
                    ],
                    "surface": [
                      {
                        "colorbar": {
                          "outlinewidth": 0,
                          "ticks": ""
                        },
                        "colorscale": [
                          [
                            0,
                            "#0d0887"
                          ],
                          [
                            0.1111111111111111,
                            "#46039f"
                          ],
                          [
                            0.2222222222222222,
                            "#7201a8"
                          ],
                          [
                            0.3333333333333333,
                            "#9c179e"
                          ],
                          [
                            0.4444444444444444,
                            "#bd3786"
                          ],
                          [
                            0.5555555555555556,
                            "#d8576b"
                          ],
                          [
                            0.6666666666666666,
                            "#ed7953"
                          ],
                          [
                            0.7777777777777778,
                            "#fb9f3a"
                          ],
                          [
                            0.8888888888888888,
                            "#fdca26"
                          ],
                          [
                            1,
                            "#f0f921"
                          ]
                        ],
                        "type": "surface"
                      }
                    ],
                    "table": [
                      {
                        "cells": {
                          "fill": {
                            "color": "#EBF0F8"
                          },
                          "line": {
                            "color": "white"
                          }
                        },
                        "header": {
                          "fill": {
                            "color": "#C8D4E3"
                          },
                          "line": {
                            "color": "white"
                          }
                        },
                        "type": "table"
                      }
                    ]
                  },
                  "layout": {
                    "annotationdefaults": {
                      "arrowcolor": "#2a3f5f",
                      "arrowhead": 0,
                      "arrowwidth": 1
                    },
                    "autotypenumbers": "strict",
                    "coloraxis": {
                      "colorbar": {
                        "outlinewidth": 0,
                        "ticks": ""
                      }
                    },
                    "colorscale": {
                      "diverging": [
                        [
                          0,
                          "#8e0152"
                        ],
                        [
                          0.1,
                          "#c51b7d"
                        ],
                        [
                          0.2,
                          "#de77ae"
                        ],
                        [
                          0.3,
                          "#f1b6da"
                        ],
                        [
                          0.4,
                          "#fde0ef"
                        ],
                        [
                          0.5,
                          "#f7f7f7"
                        ],
                        [
                          0.6,
                          "#e6f5d0"
                        ],
                        [
                          0.7,
                          "#b8e186"
                        ],
                        [
                          0.8,
                          "#7fbc41"
                        ],
                        [
                          0.9,
                          "#4d9221"
                        ],
                        [
                          1,
                          "#276419"
                        ]
                      ],
                      "sequential": [
                        [
                          0,
                          "#0d0887"
                        ],
                        [
                          0.1111111111111111,
                          "#46039f"
                        ],
                        [
                          0.2222222222222222,
                          "#7201a8"
                        ],
                        [
                          0.3333333333333333,
                          "#9c179e"
                        ],
                        [
                          0.4444444444444444,
                          "#bd3786"
                        ],
                        [
                          0.5555555555555556,
                          "#d8576b"
                        ],
                        [
                          0.6666666666666666,
                          "#ed7953"
                        ],
                        [
                          0.7777777777777778,
                          "#fb9f3a"
                        ],
                        [
                          0.8888888888888888,
                          "#fdca26"
                        ],
                        [
                          1,
                          "#f0f921"
                        ]
                      ],
                      "sequentialminus": [
                        [
                          0,
                          "#0d0887"
                        ],
                        [
                          0.1111111111111111,
                          "#46039f"
                        ],
                        [
                          0.2222222222222222,
                          "#7201a8"
                        ],
                        [
                          0.3333333333333333,
                          "#9c179e"
                        ],
                        [
                          0.4444444444444444,
                          "#bd3786"
                        ],
                        [
                          0.5555555555555556,
                          "#d8576b"
                        ],
                        [
                          0.6666666666666666,
                          "#ed7953"
                        ],
                        [
                          0.7777777777777778,
                          "#fb9f3a"
                        ],
                        [
                          0.8888888888888888,
                          "#fdca26"
                        ],
                        [
                          1,
                          "#f0f921"
                        ]
                      ]
                    },
                    "colorway": [
                      "#636efa",
                      "#EF553B",
                      "#00cc96",
                      "#ab63fa",
                      "#FFA15A",
                      "#19d3f3",
                      "#FF6692",
                      "#B6E880",
                      "#FF97FF",
                      "#FECB52"
                    ],
                    "font": {
                      "color": "#2a3f5f"
                    },
                    "geo": {
                      "bgcolor": "white",
                      "lakecolor": "white",
                      "landcolor": "#E5ECF6",
                      "showlakes": true,
                      "showland": true,
                      "subunitcolor": "white"
                    },
                    "hoverlabel": {
                      "align": "left"
                    },
                    "hovermode": "closest",
                    "mapbox": {
                      "style": "light"
                    },
                    "paper_bgcolor": "white",
                    "plot_bgcolor": "#E5ECF6",
                    "polar": {
                      "angularaxis": {
                        "gridcolor": "white",
                        "linecolor": "white",
                        "ticks": ""
                      },
                      "bgcolor": "#E5ECF6",
                      "radialaxis": {
                        "gridcolor": "white",
                        "linecolor": "white",
                        "ticks": ""
                      }
                    },
                    "scene": {
                      "xaxis": {
                        "backgroundcolor": "#E5ECF6",
                        "gridcolor": "white",
                        "gridwidth": 2,
                        "linecolor": "white",
                        "showbackground": true,
                        "ticks": "",
                        "zerolinecolor": "white"
                      },
                      "yaxis": {
                        "backgroundcolor": "#E5ECF6",
                        "gridcolor": "white",
                        "gridwidth": 2,
                        "linecolor": "white",
                        "showbackground": true,
                        "ticks": "",
                        "zerolinecolor": "white"
                      },
                      "zaxis": {
                        "backgroundcolor": "#E5ECF6",
                        "gridcolor": "white",
                        "gridwidth": 2,
                        "linecolor": "white",
                        "showbackground": true,
                        "ticks": "",
                        "zerolinecolor": "white"
                      }
                    },
                    "shapedefaults": {
                      "line": {
                        "color": "#2a3f5f"
                      }
                    },
                    "ternary": {
                      "aaxis": {
                        "gridcolor": "white",
                        "linecolor": "white",
                        "ticks": ""
                      },
                      "baxis": {
                        "gridcolor": "white",
                        "linecolor": "white",
                        "ticks": ""
                      },
                      "bgcolor": "#E5ECF6",
                      "caxis": {
                        "gridcolor": "white",
                        "linecolor": "white",
                        "ticks": ""
                      }
                    },
                    "title": {
                      "x": 0.05
                    },
                    "xaxis": {
                      "automargin": true,
                      "gridcolor": "white",
                      "linecolor": "white",
                      "ticks": "",
                      "title": {
                        "standoff": 15
                      },
                      "zerolinecolor": "white",
                      "zerolinewidth": 2
                    },
                    "yaxis": {
                      "automargin": true,
                      "gridcolor": "white",
                      "linecolor": "white",
                      "ticks": "",
                      "title": {
                        "standoff": 15
                      },
                      "zerolinecolor": "white",
                      "zerolinewidth": 2
                    }
                  }
                },
                "width": 500,
                "xaxis": {
                  "autorange": false,
                  "exponentformat": "e",
                  "linecolor": "black",
                  "linewidth": 1,
                  "mirror": false,
                  "range": [
                    0.027761801853775976,
                    0.6104496533423662
                  ],
                  "showexponent": "all",
                  "showline": true,
                  "side": "bottom",
                  "ticks": "outside",
                  "title": {
                    "text": "Birth"
                  },
                  "type": "linear",
                  "zeroline": true
                },
                "yaxis": {
                  "autorange": false,
                  "exponentformat": "e",
                  "linecolor": "black",
                  "linewidth": 1,
                  "mirror": false,
                  "range": [
                    0.027761801853775976,
                    0.6104496533423662
                  ],
                  "scaleanchor": "x",
                  "scaleratio": 1,
                  "showexponent": "all",
                  "showline": true,
                  "side": "left",
                  "ticks": "outside",
                  "title": {
                    "text": "Death"
                  },
                  "type": "linear",
                  "zeroline": true
                }
              }
            }
          },
          "metadata": {},
          "output_type": "display_data"
        }
      ],
      "source": [
        "dissim_diagrams_plot = gtda.plotting.plot_diagram(dissim_diagrams[print_obj])\n",
        "display(dissim_diagrams_plot)\n",
        "dissim_diagrams_plot.write_image(file = f\"{subj}/{exp}/dissim_diagram.svg\", format = \"svg\")"
      ]
    },
    {
      "cell_type": "markdown",
      "metadata": {},
      "source": [
        "##### FeatureCalculator"
      ]
    },
    {
      "cell_type": "code",
      "execution_count": 55,
      "metadata": {},
      "outputs": [
        {
          "name": "stderr",
          "output_type": "stream",
          "text": [
            "100%|██████████| 30334/30334 [02:37<00:00, 192.67it/s]\n",
            "100%|██████████| 5/5 [00:04<00:00,  1.04it/s]\n",
            "100%|██████████| 30334/30334 [06:13<00:00, 81.13it/s]\n"
          ]
        },
        {
          "name": "stdout",
          "output_type": "stream",
          "text": [
            "(30334, 227)\n"
          ]
        }
      ],
      "source": [
        "dissim_features_raw = FeatureCalculator().calc_features(dissim_diagrams)\n",
        "dissim_features_raw"
      ]
    },
    {
      "cell_type": "code",
      "execution_count": 63,
      "metadata": {},
      "outputs": [
        {
          "data": {
            "text/html": [
              "<div>\n",
              "<style scoped>\n",
              "    .dataframe tbody tr th:only-of-type {\n",
              "        vertical-align: middle;\n",
              "    }\n",
              "\n",
              "    .dataframe tbody tr th {\n",
              "        vertical-align: top;\n",
              "    }\n",
              "\n",
              "    .dataframe thead th {\n",
              "        text-align: right;\n",
              "    }\n",
              "</style>\n",
              "<table border=\"1\" class=\"dataframe\">\n",
              "  <thead>\n",
              "    <tr style=\"text-align: right;\">\n",
              "      <th></th>\n",
              "      <th>dissim-0 betti-1 max</th>\n",
              "      <th>dissim-0 betti-1 mean</th>\n",
              "      <th>dissim-0 betti-1 std</th>\n",
              "      <th>dissim-0 betti-1 sum</th>\n",
              "      <th>dissim-0 betti-1 norm</th>\n",
              "      <th>dissim-0 betti-1 percentile-25</th>\n",
              "      <th>dissim-0 betti-1 median</th>\n",
              "      <th>dissim-0 betti-1 percentile-75</th>\n",
              "      <th>dissim-0 betti-1 percentile-90</th>\n",
              "      <th>dissim-0 betti-1 kurtosis</th>\n",
              "      <th>...</th>\n",
              "      <th>dissim-28 bd2-5 mean</th>\n",
              "      <th>dissim-28 bd2-5 std</th>\n",
              "      <th>dissim-28 bd2-5 sum</th>\n",
              "      <th>dissim-28 bd2-5 norm</th>\n",
              "      <th>dissim-28 bd2-5 percentile-25</th>\n",
              "      <th>dissim-28 bd2-5 median</th>\n",
              "      <th>dissim-28 bd2-5 percentile-75</th>\n",
              "      <th>dissim-28 bd2-5 percentile-90</th>\n",
              "      <th>dissim-28 bd2-5 kurtosis</th>\n",
              "      <th>dissim-28 bd2-5 skew</th>\n",
              "    </tr>\n",
              "  </thead>\n",
              "  <tbody>\n",
              "    <tr>\n",
              "      <th>0</th>\n",
              "      <td>2.00</td>\n",
              "      <td>0.00</td>\n",
              "      <td>0.47</td>\n",
              "      <td>0.00</td>\n",
              "      <td>4.69</td>\n",
              "      <td>0.00</td>\n",
              "      <td>0.00</td>\n",
              "      <td>0.00</td>\n",
              "      <td>0.00</td>\n",
              "      <td>6.41</td>\n",
              "      <td>...</td>\n",
              "      <td>0.00</td>\n",
              "      <td>0.00</td>\n",
              "      <td>0.00</td>\n",
              "      <td>0.00</td>\n",
              "      <td>0.00</td>\n",
              "      <td>0.00</td>\n",
              "      <td>0.00</td>\n",
              "      <td>0.00</td>\n",
              "      <td>0.00</td>\n",
              "      <td>0.00</td>\n",
              "    </tr>\n",
              "    <tr>\n",
              "      <th>1</th>\n",
              "      <td>2.00</td>\n",
              "      <td>0.00</td>\n",
              "      <td>0.28</td>\n",
              "      <td>0.00</td>\n",
              "      <td>2.83</td>\n",
              "      <td>0.00</td>\n",
              "      <td>0.00</td>\n",
              "      <td>0.00</td>\n",
              "      <td>0.00</td>\n",
              "      <td>27.94</td>\n",
              "      <td>...</td>\n",
              "      <td>0.00</td>\n",
              "      <td>0.00</td>\n",
              "      <td>0.00</td>\n",
              "      <td>0.00</td>\n",
              "      <td>0.00</td>\n",
              "      <td>0.00</td>\n",
              "      <td>0.00</td>\n",
              "      <td>0.00</td>\n",
              "      <td>0.00</td>\n",
              "      <td>0.00</td>\n",
              "    </tr>\n",
              "    <tr>\n",
              "      <th>2</th>\n",
              "      <td>1.00</td>\n",
              "      <td>0.00</td>\n",
              "      <td>0.38</td>\n",
              "      <td>0.00</td>\n",
              "      <td>3.74</td>\n",
              "      <td>0.00</td>\n",
              "      <td>0.00</td>\n",
              "      <td>0.00</td>\n",
              "      <td>0.00</td>\n",
              "      <td>4.07</td>\n",
              "      <td>...</td>\n",
              "      <td>0.00</td>\n",
              "      <td>0.00</td>\n",
              "      <td>0.00</td>\n",
              "      <td>0.00</td>\n",
              "      <td>0.00</td>\n",
              "      <td>0.00</td>\n",
              "      <td>0.00</td>\n",
              "      <td>0.00</td>\n",
              "      <td>0.00</td>\n",
              "      <td>0.00</td>\n",
              "    </tr>\n",
              "    <tr>\n",
              "      <th>3</th>\n",
              "      <td>2.00</td>\n",
              "      <td>0.00</td>\n",
              "      <td>0.32</td>\n",
              "      <td>0.00</td>\n",
              "      <td>3.16</td>\n",
              "      <td>0.00</td>\n",
              "      <td>0.00</td>\n",
              "      <td>0.00</td>\n",
              "      <td>0.00</td>\n",
              "      <td>18.78</td>\n",
              "      <td>...</td>\n",
              "      <td>0.00</td>\n",
              "      <td>0.00</td>\n",
              "      <td>0.00</td>\n",
              "      <td>0.00</td>\n",
              "      <td>0.00</td>\n",
              "      <td>0.00</td>\n",
              "      <td>0.00</td>\n",
              "      <td>0.00</td>\n",
              "      <td>0.00</td>\n",
              "      <td>0.00</td>\n",
              "    </tr>\n",
              "    <tr>\n",
              "      <th>4</th>\n",
              "      <td>1.00</td>\n",
              "      <td>0.00</td>\n",
              "      <td>0.28</td>\n",
              "      <td>0.00</td>\n",
              "      <td>2.83</td>\n",
              "      <td>0.00</td>\n",
              "      <td>0.00</td>\n",
              "      <td>0.00</td>\n",
              "      <td>0.00</td>\n",
              "      <td>9.38</td>\n",
              "      <td>...</td>\n",
              "      <td>0.00</td>\n",
              "      <td>0.00</td>\n",
              "      <td>0.00</td>\n",
              "      <td>0.00</td>\n",
              "      <td>0.00</td>\n",
              "      <td>0.00</td>\n",
              "      <td>0.00</td>\n",
              "      <td>0.00</td>\n",
              "      <td>0.00</td>\n",
              "      <td>0.00</td>\n",
              "    </tr>\n",
              "    <tr>\n",
              "      <th>...</th>\n",
              "      <td>...</td>\n",
              "      <td>...</td>\n",
              "      <td>...</td>\n",
              "      <td>...</td>\n",
              "      <td>...</td>\n",
              "      <td>...</td>\n",
              "      <td>...</td>\n",
              "      <td>...</td>\n",
              "      <td>...</td>\n",
              "      <td>...</td>\n",
              "      <td>...</td>\n",
              "      <td>...</td>\n",
              "      <td>...</td>\n",
              "      <td>...</td>\n",
              "      <td>...</td>\n",
              "      <td>...</td>\n",
              "      <td>...</td>\n",
              "      <td>...</td>\n",
              "      <td>...</td>\n",
              "      <td>...</td>\n",
              "      <td>...</td>\n",
              "    </tr>\n",
              "    <tr>\n",
              "      <th>1041</th>\n",
              "      <td>1.00</td>\n",
              "      <td>0.00</td>\n",
              "      <td>0.14</td>\n",
              "      <td>0.00</td>\n",
              "      <td>1.41</td>\n",
              "      <td>0.00</td>\n",
              "      <td>0.00</td>\n",
              "      <td>0.00</td>\n",
              "      <td>0.00</td>\n",
              "      <td>46.50</td>\n",
              "      <td>...</td>\n",
              "      <td>0.00</td>\n",
              "      <td>0.00</td>\n",
              "      <td>0.00</td>\n",
              "      <td>0.00</td>\n",
              "      <td>0.00</td>\n",
              "      <td>0.00</td>\n",
              "      <td>0.00</td>\n",
              "      <td>0.00</td>\n",
              "      <td>0.00</td>\n",
              "      <td>0.00</td>\n",
              "    </tr>\n",
              "    <tr>\n",
              "      <th>1042</th>\n",
              "      <td>1.00</td>\n",
              "      <td>0.00</td>\n",
              "      <td>0.25</td>\n",
              "      <td>0.00</td>\n",
              "      <td>2.45</td>\n",
              "      <td>0.00</td>\n",
              "      <td>0.00</td>\n",
              "      <td>0.00</td>\n",
              "      <td>0.00</td>\n",
              "      <td>13.50</td>\n",
              "      <td>...</td>\n",
              "      <td>0.00</td>\n",
              "      <td>0.00</td>\n",
              "      <td>0.00</td>\n",
              "      <td>0.00</td>\n",
              "      <td>0.00</td>\n",
              "      <td>0.00</td>\n",
              "      <td>0.00</td>\n",
              "      <td>0.00</td>\n",
              "      <td>0.00</td>\n",
              "      <td>0.00</td>\n",
              "    </tr>\n",
              "    <tr>\n",
              "      <th>1043</th>\n",
              "      <td>1.00</td>\n",
              "      <td>0.00</td>\n",
              "      <td>0.28</td>\n",
              "      <td>0.00</td>\n",
              "      <td>2.83</td>\n",
              "      <td>0.00</td>\n",
              "      <td>0.00</td>\n",
              "      <td>0.00</td>\n",
              "      <td>0.00</td>\n",
              "      <td>9.38</td>\n",
              "      <td>...</td>\n",
              "      <td>0.00</td>\n",
              "      <td>0.00</td>\n",
              "      <td>0.00</td>\n",
              "      <td>0.00</td>\n",
              "      <td>0.00</td>\n",
              "      <td>0.00</td>\n",
              "      <td>0.00</td>\n",
              "      <td>0.00</td>\n",
              "      <td>0.00</td>\n",
              "      <td>0.00</td>\n",
              "    </tr>\n",
              "    <tr>\n",
              "      <th>1044</th>\n",
              "      <td>1.00</td>\n",
              "      <td>0.00</td>\n",
              "      <td>0.47</td>\n",
              "      <td>0.00</td>\n",
              "      <td>4.69</td>\n",
              "      <td>0.00</td>\n",
              "      <td>0.00</td>\n",
              "      <td>0.00</td>\n",
              "      <td>0.20</td>\n",
              "      <td>3.95</td>\n",
              "      <td>...</td>\n",
              "      <td>0.00</td>\n",
              "      <td>0.00</td>\n",
              "      <td>0.00</td>\n",
              "      <td>0.00</td>\n",
              "      <td>0.00</td>\n",
              "      <td>0.00</td>\n",
              "      <td>0.00</td>\n",
              "      <td>0.00</td>\n",
              "      <td>0.00</td>\n",
              "      <td>0.00</td>\n",
              "    </tr>\n",
              "    <tr>\n",
              "      <th>1045</th>\n",
              "      <td>1.00</td>\n",
              "      <td>0.00</td>\n",
              "      <td>0.38</td>\n",
              "      <td>0.00</td>\n",
              "      <td>3.74</td>\n",
              "      <td>0.00</td>\n",
              "      <td>0.00</td>\n",
              "      <td>0.00</td>\n",
              "      <td>0.00</td>\n",
              "      <td>10.13</td>\n",
              "      <td>...</td>\n",
              "      <td>0.00</td>\n",
              "      <td>0.00</td>\n",
              "      <td>0.00</td>\n",
              "      <td>0.00</td>\n",
              "      <td>0.00</td>\n",
              "      <td>0.00</td>\n",
              "      <td>0.00</td>\n",
              "      <td>0.00</td>\n",
              "      <td>0.00</td>\n",
              "      <td>0.00</td>\n",
              "    </tr>\n",
              "  </tbody>\n",
              "</table>\n",
              "<p>1046 rows × 6583 columns</p>\n",
              "</div>"
            ],
            "text/plain": [
              "      dissim-0 betti-1 max  dissim-0 betti-1 mean  dissim-0 betti-1 std  \\\n",
              "0                     2.00                   0.00                  0.47   \n",
              "1                     2.00                   0.00                  0.28   \n",
              "2                     1.00                   0.00                  0.38   \n",
              "3                     2.00                   0.00                  0.32   \n",
              "4                     1.00                   0.00                  0.28   \n",
              "...                    ...                    ...                   ...   \n",
              "1041                  1.00                   0.00                  0.14   \n",
              "1042                  1.00                   0.00                  0.25   \n",
              "1043                  1.00                   0.00                  0.28   \n",
              "1044                  1.00                   0.00                  0.47   \n",
              "1045                  1.00                   0.00                  0.38   \n",
              "\n",
              "      dissim-0 betti-1 sum  dissim-0 betti-1 norm  \\\n",
              "0                     0.00                   4.69   \n",
              "1                     0.00                   2.83   \n",
              "2                     0.00                   3.74   \n",
              "3                     0.00                   3.16   \n",
              "4                     0.00                   2.83   \n",
              "...                    ...                    ...   \n",
              "1041                  0.00                   1.41   \n",
              "1042                  0.00                   2.45   \n",
              "1043                  0.00                   2.83   \n",
              "1044                  0.00                   4.69   \n",
              "1045                  0.00                   3.74   \n",
              "\n",
              "      dissim-0 betti-1 percentile-25  dissim-0 betti-1 median  \\\n",
              "0                               0.00                     0.00   \n",
              "1                               0.00                     0.00   \n",
              "2                               0.00                     0.00   \n",
              "3                               0.00                     0.00   \n",
              "4                               0.00                     0.00   \n",
              "...                              ...                      ...   \n",
              "1041                            0.00                     0.00   \n",
              "1042                            0.00                     0.00   \n",
              "1043                            0.00                     0.00   \n",
              "1044                            0.00                     0.00   \n",
              "1045                            0.00                     0.00   \n",
              "\n",
              "      dissim-0 betti-1 percentile-75  dissim-0 betti-1 percentile-90  \\\n",
              "0                               0.00                            0.00   \n",
              "1                               0.00                            0.00   \n",
              "2                               0.00                            0.00   \n",
              "3                               0.00                            0.00   \n",
              "4                               0.00                            0.00   \n",
              "...                              ...                             ...   \n",
              "1041                            0.00                            0.00   \n",
              "1042                            0.00                            0.00   \n",
              "1043                            0.00                            0.00   \n",
              "1044                            0.00                            0.20   \n",
              "1045                            0.00                            0.00   \n",
              "\n",
              "      dissim-0 betti-1 kurtosis  ...  dissim-28 bd2-5 mean  \\\n",
              "0                          6.41  ...                  0.00   \n",
              "1                         27.94  ...                  0.00   \n",
              "2                          4.07  ...                  0.00   \n",
              "3                         18.78  ...                  0.00   \n",
              "4                          9.38  ...                  0.00   \n",
              "...                         ...  ...                   ...   \n",
              "1041                      46.50  ...                  0.00   \n",
              "1042                      13.50  ...                  0.00   \n",
              "1043                       9.38  ...                  0.00   \n",
              "1044                       3.95  ...                  0.00   \n",
              "1045                      10.13  ...                  0.00   \n",
              "\n",
              "      dissim-28 bd2-5 std  dissim-28 bd2-5 sum  dissim-28 bd2-5 norm  \\\n",
              "0                    0.00                 0.00                  0.00   \n",
              "1                    0.00                 0.00                  0.00   \n",
              "2                    0.00                 0.00                  0.00   \n",
              "3                    0.00                 0.00                  0.00   \n",
              "4                    0.00                 0.00                  0.00   \n",
              "...                   ...                  ...                   ...   \n",
              "1041                 0.00                 0.00                  0.00   \n",
              "1042                 0.00                 0.00                  0.00   \n",
              "1043                 0.00                 0.00                  0.00   \n",
              "1044                 0.00                 0.00                  0.00   \n",
              "1045                 0.00                 0.00                  0.00   \n",
              "\n",
              "      dissim-28 bd2-5 percentile-25  dissim-28 bd2-5 median  \\\n",
              "0                              0.00                    0.00   \n",
              "1                              0.00                    0.00   \n",
              "2                              0.00                    0.00   \n",
              "3                              0.00                    0.00   \n",
              "4                              0.00                    0.00   \n",
              "...                             ...                     ...   \n",
              "1041                           0.00                    0.00   \n",
              "1042                           0.00                    0.00   \n",
              "1043                           0.00                    0.00   \n",
              "1044                           0.00                    0.00   \n",
              "1045                           0.00                    0.00   \n",
              "\n",
              "      dissim-28 bd2-5 percentile-75  dissim-28 bd2-5 percentile-90  \\\n",
              "0                              0.00                           0.00   \n",
              "1                              0.00                           0.00   \n",
              "2                              0.00                           0.00   \n",
              "3                              0.00                           0.00   \n",
              "4                              0.00                           0.00   \n",
              "...                             ...                            ...   \n",
              "1041                           0.00                           0.00   \n",
              "1042                           0.00                           0.00   \n",
              "1043                           0.00                           0.00   \n",
              "1044                           0.00                           0.00   \n",
              "1045                           0.00                           0.00   \n",
              "\n",
              "      dissim-28 bd2-5 kurtosis  dissim-28 bd2-5 skew  \n",
              "0                         0.00                  0.00  \n",
              "1                         0.00                  0.00  \n",
              "2                         0.00                  0.00  \n",
              "3                         0.00                  0.00  \n",
              "4                         0.00                  0.00  \n",
              "...                        ...                   ...  \n",
              "1041                      0.00                  0.00  \n",
              "1042                      0.00                  0.00  \n",
              "1043                      0.00                  0.00  \n",
              "1044                      0.00                  0.00  \n",
              "1045                      0.00                  0.00  \n",
              "\n",
              "[1046 rows x 6583 columns]"
            ]
          },
          "execution_count": 63,
          "metadata": {},
          "output_type": "execute_result"
        }
      ],
      "source": [
        "n_dissim = dissim_features_raw.shape[0] // data.shape[0]\n",
        "columns = [ f\"dissim-{i}{feature_name}\" for i in range(n_dissim) for feature_name in dissim_features_raw ]\n",
        "dissim_features = pandas.concat([ dissim_features_raw.iloc[i::n_dissim, :].reset_index(drop = True) for i in range(n_dissim) ], axis = 1)\n",
        "dissim_features.columns = columns\n",
        "dissim_features"
      ]
    },
    {
      "cell_type": "code",
      "execution_count": 65,
      "metadata": {},
      "outputs": [
        {
          "name": "stdout",
          "output_type": "stream",
          "text": [
            "Components: 32\n",
            "Explained variance: 0.35\n",
            "[0.049, 0.022, 0.019, 0.018, 0.015, 0.014, 0.012, 0.012, 0.011, 0.011, 0.01, 0.009, 0.009, 0.009, 0.009, 0.008, 0.008, 0.008, 0.008, 0.007, 0.007, 0.007, 0.007, 0.007, 0.007, 0.007, 0.006, 0.006, 0.006, 0.006, 0.006, 0.006]\n",
            "(1046, 32)\n"
          ]
        },
        {
          "data": {
            "text/html": [
              "<div>\n",
              "<style scoped>\n",
              "    .dataframe tbody tr th:only-of-type {\n",
              "        vertical-align: middle;\n",
              "    }\n",
              "\n",
              "    .dataframe tbody tr th {\n",
              "        vertical-align: top;\n",
              "    }\n",
              "\n",
              "    .dataframe thead th {\n",
              "        text-align: right;\n",
              "    }\n",
              "</style>\n",
              "<table border=\"1\" class=\"dataframe\">\n",
              "  <thead>\n",
              "    <tr style=\"text-align: right;\">\n",
              "      <th></th>\n",
              "      <th>0</th>\n",
              "      <th>1</th>\n",
              "      <th>2</th>\n",
              "      <th>3</th>\n",
              "      <th>4</th>\n",
              "      <th>5</th>\n",
              "      <th>6</th>\n",
              "      <th>7</th>\n",
              "      <th>8</th>\n",
              "      <th>9</th>\n",
              "      <th>...</th>\n",
              "      <th>22</th>\n",
              "      <th>23</th>\n",
              "      <th>24</th>\n",
              "      <th>25</th>\n",
              "      <th>26</th>\n",
              "      <th>27</th>\n",
              "      <th>28</th>\n",
              "      <th>29</th>\n",
              "      <th>30</th>\n",
              "      <th>31</th>\n",
              "    </tr>\n",
              "  </thead>\n",
              "  <tbody>\n",
              "    <tr>\n",
              "      <th>count</th>\n",
              "      <td>1,046.00</td>\n",
              "      <td>1,046.00</td>\n",
              "      <td>1,046.00</td>\n",
              "      <td>1,046.00</td>\n",
              "      <td>1,046.00</td>\n",
              "      <td>1,046.00</td>\n",
              "      <td>1,046.00</td>\n",
              "      <td>1,046.00</td>\n",
              "      <td>1,046.00</td>\n",
              "      <td>1,046.00</td>\n",
              "      <td>...</td>\n",
              "      <td>1,046.00</td>\n",
              "      <td>1,046.00</td>\n",
              "      <td>1,046.00</td>\n",
              "      <td>1,046.00</td>\n",
              "      <td>1,046.00</td>\n",
              "      <td>1,046.00</td>\n",
              "      <td>1,046.00</td>\n",
              "      <td>1,046.00</td>\n",
              "      <td>1,046.00</td>\n",
              "      <td>1,046.00</td>\n",
              "    </tr>\n",
              "    <tr>\n",
              "      <th>mean</th>\n",
              "      <td>-0.00</td>\n",
              "      <td>0.00</td>\n",
              "      <td>-0.00</td>\n",
              "      <td>0.00</td>\n",
              "      <td>0.00</td>\n",
              "      <td>0.00</td>\n",
              "      <td>-0.00</td>\n",
              "      <td>0.00</td>\n",
              "      <td>0.00</td>\n",
              "      <td>-0.00</td>\n",
              "      <td>...</td>\n",
              "      <td>0.00</td>\n",
              "      <td>-0.00</td>\n",
              "      <td>-0.00</td>\n",
              "      <td>-0.00</td>\n",
              "      <td>0.00</td>\n",
              "      <td>-0.00</td>\n",
              "      <td>0.00</td>\n",
              "      <td>0.00</td>\n",
              "      <td>-0.00</td>\n",
              "      <td>-0.00</td>\n",
              "    </tr>\n",
              "    <tr>\n",
              "      <th>std</th>\n",
              "      <td>16.82</td>\n",
              "      <td>11.20</td>\n",
              "      <td>10.44</td>\n",
              "      <td>10.06</td>\n",
              "      <td>9.39</td>\n",
              "      <td>8.80</td>\n",
              "      <td>8.45</td>\n",
              "      <td>8.14</td>\n",
              "      <td>8.02</td>\n",
              "      <td>7.81</td>\n",
              "      <td>...</td>\n",
              "      <td>6.26</td>\n",
              "      <td>6.21</td>\n",
              "      <td>6.18</td>\n",
              "      <td>6.14</td>\n",
              "      <td>6.03</td>\n",
              "      <td>5.98</td>\n",
              "      <td>5.93</td>\n",
              "      <td>5.85</td>\n",
              "      <td>5.80</td>\n",
              "      <td>5.74</td>\n",
              "    </tr>\n",
              "    <tr>\n",
              "      <th>min</th>\n",
              "      <td>-35.15</td>\n",
              "      <td>-29.89</td>\n",
              "      <td>-41.33</td>\n",
              "      <td>-40.79</td>\n",
              "      <td>-33.53</td>\n",
              "      <td>-29.77</td>\n",
              "      <td>-32.76</td>\n",
              "      <td>-25.63</td>\n",
              "      <td>-33.16</td>\n",
              "      <td>-23.50</td>\n",
              "      <td>...</td>\n",
              "      <td>-23.07</td>\n",
              "      <td>-28.14</td>\n",
              "      <td>-23.87</td>\n",
              "      <td>-22.70</td>\n",
              "      <td>-27.26</td>\n",
              "      <td>-29.53</td>\n",
              "      <td>-23.20</td>\n",
              "      <td>-18.44</td>\n",
              "      <td>-26.91</td>\n",
              "      <td>-17.83</td>\n",
              "    </tr>\n",
              "    <tr>\n",
              "      <th>25%</th>\n",
              "      <td>-12.43</td>\n",
              "      <td>-7.15</td>\n",
              "      <td>-6.57</td>\n",
              "      <td>-6.67</td>\n",
              "      <td>-5.64</td>\n",
              "      <td>-5.24</td>\n",
              "      <td>-5.46</td>\n",
              "      <td>-4.72</td>\n",
              "      <td>-4.71</td>\n",
              "      <td>-4.96</td>\n",
              "      <td>...</td>\n",
              "      <td>-3.95</td>\n",
              "      <td>-3.44</td>\n",
              "      <td>-3.64</td>\n",
              "      <td>-3.55</td>\n",
              "      <td>-3.64</td>\n",
              "      <td>-3.48</td>\n",
              "      <td>-3.59</td>\n",
              "      <td>-3.81</td>\n",
              "      <td>-3.53</td>\n",
              "      <td>-3.50</td>\n",
              "    </tr>\n",
              "    <tr>\n",
              "      <th>50%</th>\n",
              "      <td>-1.81</td>\n",
              "      <td>-0.48</td>\n",
              "      <td>-0.51</td>\n",
              "      <td>-0.43</td>\n",
              "      <td>-0.03</td>\n",
              "      <td>0.00</td>\n",
              "      <td>-0.04</td>\n",
              "      <td>-0.04</td>\n",
              "      <td>-0.10</td>\n",
              "      <td>-0.11</td>\n",
              "      <td>...</td>\n",
              "      <td>-0.16</td>\n",
              "      <td>-0.26</td>\n",
              "      <td>0.05</td>\n",
              "      <td>0.07</td>\n",
              "      <td>-0.07</td>\n",
              "      <td>0.05</td>\n",
              "      <td>-0.13</td>\n",
              "      <td>-0.15</td>\n",
              "      <td>-0.21</td>\n",
              "      <td>0.05</td>\n",
              "    </tr>\n",
              "    <tr>\n",
              "      <th>75%</th>\n",
              "      <td>9.70</td>\n",
              "      <td>6.86</td>\n",
              "      <td>6.42</td>\n",
              "      <td>6.39</td>\n",
              "      <td>5.92</td>\n",
              "      <td>4.99</td>\n",
              "      <td>5.36</td>\n",
              "      <td>4.83</td>\n",
              "      <td>4.75</td>\n",
              "      <td>4.87</td>\n",
              "      <td>...</td>\n",
              "      <td>3.53</td>\n",
              "      <td>3.45</td>\n",
              "      <td>3.69</td>\n",
              "      <td>3.57</td>\n",
              "      <td>3.63</td>\n",
              "      <td>3.55</td>\n",
              "      <td>3.15</td>\n",
              "      <td>3.40</td>\n",
              "      <td>3.25</td>\n",
              "      <td>3.70</td>\n",
              "    </tr>\n",
              "    <tr>\n",
              "      <th>max</th>\n",
              "      <td>76.29</td>\n",
              "      <td>38.83</td>\n",
              "      <td>58.29</td>\n",
              "      <td>42.07</td>\n",
              "      <td>36.32</td>\n",
              "      <td>31.81</td>\n",
              "      <td>33.33</td>\n",
              "      <td>28.31</td>\n",
              "      <td>38.74</td>\n",
              "      <td>43.43</td>\n",
              "      <td>...</td>\n",
              "      <td>29.11</td>\n",
              "      <td>46.54</td>\n",
              "      <td>25.12</td>\n",
              "      <td>27.64</td>\n",
              "      <td>28.87</td>\n",
              "      <td>30.48</td>\n",
              "      <td>29.74</td>\n",
              "      <td>28.84</td>\n",
              "      <td>29.45</td>\n",
              "      <td>20.38</td>\n",
              "    </tr>\n",
              "  </tbody>\n",
              "</table>\n",
              "<p>8 rows × 32 columns</p>\n",
              "</div>"
            ],
            "text/plain": [
              "            0        1        2        3        4        5        6        7   \\\n",
              "count 1,046.00 1,046.00 1,046.00 1,046.00 1,046.00 1,046.00 1,046.00 1,046.00   \n",
              "mean     -0.00     0.00    -0.00     0.00     0.00     0.00    -0.00     0.00   \n",
              "std      16.82    11.20    10.44    10.06     9.39     8.80     8.45     8.14   \n",
              "min     -35.15   -29.89   -41.33   -40.79   -33.53   -29.77   -32.76   -25.63   \n",
              "25%     -12.43    -7.15    -6.57    -6.67    -5.64    -5.24    -5.46    -4.72   \n",
              "50%      -1.81    -0.48    -0.51    -0.43    -0.03     0.00    -0.04    -0.04   \n",
              "75%       9.70     6.86     6.42     6.39     5.92     4.99     5.36     4.83   \n",
              "max      76.29    38.83    58.29    42.07    36.32    31.81    33.33    28.31   \n",
              "\n",
              "            8        9   ...       22       23       24       25       26  \\\n",
              "count 1,046.00 1,046.00  ... 1,046.00 1,046.00 1,046.00 1,046.00 1,046.00   \n",
              "mean      0.00    -0.00  ...     0.00    -0.00    -0.00    -0.00     0.00   \n",
              "std       8.02     7.81  ...     6.26     6.21     6.18     6.14     6.03   \n",
              "min     -33.16   -23.50  ...   -23.07   -28.14   -23.87   -22.70   -27.26   \n",
              "25%      -4.71    -4.96  ...    -3.95    -3.44    -3.64    -3.55    -3.64   \n",
              "50%      -0.10    -0.11  ...    -0.16    -0.26     0.05     0.07    -0.07   \n",
              "75%       4.75     4.87  ...     3.53     3.45     3.69     3.57     3.63   \n",
              "max      38.74    43.43  ...    29.11    46.54    25.12    27.64    28.87   \n",
              "\n",
              "            27       28       29       30       31  \n",
              "count 1,046.00 1,046.00 1,046.00 1,046.00 1,046.00  \n",
              "mean     -0.00     0.00     0.00    -0.00    -0.00  \n",
              "std       5.98     5.93     5.85     5.80     5.74  \n",
              "min     -29.53   -23.20   -18.44   -26.91   -17.83  \n",
              "25%      -3.48    -3.59    -3.81    -3.53    -3.50  \n",
              "50%       0.05    -0.13    -0.15    -0.21     0.05  \n",
              "75%       3.55     3.15     3.40     3.25     3.70  \n",
              "max      30.48    29.74    28.84    29.45    20.38  \n",
              "\n",
              "[8 rows x 32 columns]"
            ]
          },
          "execution_count": 65,
          "metadata": {},
          "output_type": "execute_result"
        }
      ],
      "source": [
        "dissim_features_pca = FeatureCalculator().pca(dissim_features, scale = True, n_comp = 32)\n",
        "print(dissim_features_pca.shape)\n",
        "pandas.DataFrame(dissim_features_pca).describe()"
      ]
    },
    {
      "cell_type": "markdown",
      "metadata": {},
      "source": [
        "#### Overall"
      ]
    },
    {
      "cell_type": "markdown",
      "metadata": {},
      "source": [
        "##### TakensEmbedding"
      ]
    },
    {
      "cell_type": "code",
      "execution_count": 66,
      "metadata": {},
      "outputs": [
        {
          "name": "stdout",
          "output_type": "stream",
          "text": [
            "(1046, 153, 200)\n"
          ]
        }
      ],
      "source": [
        "overall_embedding = gtda.time_series.TakensEmbedding(dimension = OVERALL_DIMENSION, time_delay = OVERALL_TIME_DELAY, stride = OVERALL_STRIDE, flatten = True)\n",
        "overall_point_clouds = overall_embedding.fit_transform(data)\n",
        "print(overall_point_clouds.shape)"
      ]
    },
    {
      "cell_type": "code",
      "execution_count": 67,
      "metadata": {},
      "outputs": [
        {
          "data": {
            "application/vnd.plotly.v1+json": {
              "config": {
                "plotlyServerURL": "https://plot.ly"
              },
              "data": [
                {
                  "marker": {
                    "color": [
                      0,
                      1,
                      2,
                      3,
                      4,
                      5,
                      6,
                      7,
                      8,
                      9,
                      10,
                      11,
                      12,
                      13,
                      14,
                      15,
                      16,
                      17,
                      18,
                      19,
                      20,
                      21,
                      22,
                      23,
                      24,
                      25,
                      26,
                      27,
                      28,
                      29,
                      30,
                      31,
                      32,
                      33,
                      34,
                      35,
                      36,
                      37,
                      38,
                      39,
                      40,
                      41,
                      42,
                      43,
                      44,
                      45,
                      46,
                      47,
                      48,
                      49,
                      50,
                      51,
                      52,
                      53,
                      54,
                      55,
                      56,
                      57,
                      58,
                      59,
                      60,
                      61,
                      62,
                      63,
                      64,
                      65,
                      66,
                      67,
                      68,
                      69,
                      70,
                      71,
                      72,
                      73,
                      74,
                      75,
                      76,
                      77,
                      78,
                      79,
                      80,
                      81,
                      82,
                      83,
                      84,
                      85,
                      86,
                      87,
                      88,
                      89,
                      90,
                      91,
                      92,
                      93,
                      94,
                      95,
                      96,
                      97,
                      98,
                      99,
                      100,
                      101,
                      102,
                      103,
                      104,
                      105,
                      106,
                      107,
                      108,
                      109,
                      110,
                      111,
                      112,
                      113,
                      114,
                      115,
                      116,
                      117,
                      118,
                      119,
                      120,
                      121,
                      122,
                      123,
                      124,
                      125,
                      126,
                      127,
                      128,
                      129,
                      130,
                      131,
                      132,
                      133,
                      134,
                      135,
                      136,
                      137,
                      138,
                      139,
                      140,
                      141,
                      142,
                      143,
                      144,
                      145,
                      146,
                      147,
                      148,
                      149,
                      150,
                      151,
                      152
                    ],
                    "colorscale": [
                      [
                        0,
                        "#440154"
                      ],
                      [
                        0.1111111111111111,
                        "#482878"
                      ],
                      [
                        0.2222222222222222,
                        "#3e4989"
                      ],
                      [
                        0.3333333333333333,
                        "#31688e"
                      ],
                      [
                        0.4444444444444444,
                        "#26828e"
                      ],
                      [
                        0.5555555555555556,
                        "#1f9e89"
                      ],
                      [
                        0.6666666666666666,
                        "#35b779"
                      ],
                      [
                        0.7777777777777778,
                        "#6ece58"
                      ],
                      [
                        0.8888888888888888,
                        "#b5de2b"
                      ],
                      [
                        1,
                        "#fde725"
                      ]
                    ],
                    "opacity": 0.8,
                    "size": 4
                  },
                  "mode": "markers",
                  "type": "scatter3d",
                  "x": [
                    1.8207344965048833e-7,
                    0.0000011289215535725816,
                    -0.0000017669094631855842,
                    -0.0000025050726435438264,
                    0.0000011670823596432456,
                    0.0000046666182242915966,
                    0.000003626682882895693,
                    -1.8483362396182201e-7,
                    -0.0000017783788734959671,
                    2.930861455752165e-7,
                    0.00000198255042960227,
                    -8.619457503300509e-7,
                    -0.000006418677912733983,
                    -0.000008885505849320907,
                    -0.000006470720563811483,
                    -0.00000342712542078516,
                    -0.0000029933105452073505,
                    -0.000002943482513728668,
                    -7.429942456838035e-7,
                    0.0000012879719406555523,
                    2.0320661064943124e-7,
                    -0.0000013214976206654683,
                    0.0000019115077520837076,
                    0.000009250696166418493,
                    0.000013788719115837011,
                    0.000010997565368597861,
                    0.0000041012199289980344,
                    -6.755147978765308e-7,
                    -0.0000012907622704005917,
                    -3.1251761356543284e-7,
                    -4.853333734899934e-7,
                    -0.0000023490256353397854,
                    -0.000004649158654501662,
                    -0.0000051297733989486005,
                    -0.0000027267399218544597,
                    -1.6510563227711827e-7,
                    -0.000001163838419415697,
                    -0.000003924501470464747,
                    -0.000002451631189615,
                    0.000003632707830547588,
                    0.000007277518307091668,
                    0.000005068253358331276,
                    0.000002485002141838777,
                    0.000004091678420081735,
                    0.000006443011443479918,
                    0.000005326220616552746,
                    0.000002672102482392802,
                    0.0000017310121620539576,
                    0.0000015805857174200355,
                    2.719236391612867e-9,
                    -0.000002820474719555932,
                    -0.000005351098025130341,
                    -0.000006367843070620438,
                    -0.000005716745818062918,
                    -0.000004978048764314735,
                    -0.0000053603034757543355,
                    -0.0000049843406486616004,
                    -0.000001949969373526983,
                    0.0000011833757298518321,
                    0.0000010557532732491381,
                    -5.498840778273006e-7,
                    5.091024135595035e-8,
                    0.000002057293613688671,
                    0.0000024358498649235116,
                    0.0000013244953152025118,
                    7.441953471243323e-7,
                    0.0000012199724324091221,
                    0.0000025465078579145484,
                    0.000004262164566171123,
                    0.000004177717983111506,
                    5.89074659274047e-7,
                    -0.000003893493612849852,
                    -0.000005038059043727117,
                    -0.0000028051913432136644,
                    -5.305376475917001e-7,
                    1.7947471064871934e-7,
                    2.5867967323733865e-8,
                    -3.574586457943951e-7,
                    5.3020134060943747e-8,
                    0.000002767100568235037,
                    0.000006507666057586903,
                    0.0000073787514338619076,
                    0.000005097033408674179,
                    0.000004391371476231143,
                    0.000006987883807596518,
                    0.00000782902952778386,
                    0.000003520919108268572,
                    -0.0000011012389222742058,
                    -8.633622883280623e-8,
                    0.000004325220288592391,
                    0.000004935817287332611,
                    -2.807908856539143e-7,
                    -0.000005605780188489007,
                    -0.000004965637344866991,
                    5.260976649879012e-7,
                    0.0000042003675844171084,
                    0.000002852630359484465,
                    8.353052862730692e-7,
                    0.000002727659875745303,
                    0.000005870550012332387,
                    0.000005005293587601045,
                    0.0000012848714732172084,
                    8.0924002077154e-7,
                    0.000005119597972225165,
                    0.0000081116568253492,
                    0.000003996519353677286,
                    -0.0000040501240619050805,
                    -0.000006860157554910984,
                    -0.0000019726180653378833,
                    0.000002060793804048444,
                    -0.0000010499961717869155,
                    -0.000004949863523506792,
                    -0.0000022886640635988442,
                    0.0000016979233805614058,
                    -5.879444415768376e-7,
                    -0.000004089723461220274,
                    -4.447259698281414e-7,
                    0.000006037464117980562,
                    0.0000063212596614903305,
                    0.000002339186266908655,
                    0.0000014652803201897768,
                    0.000003464311703282874,
                    0.000004330371211835882,
                    0.000004634084689314477,
                    0.000005003414116799831,
                    0.000002053324124062783,
                    -0.000004218773028696887,
                    -0.000007283607374120038,
                    -0.000003262110340074287,
                    0.0000037476640954992035,
                    0.000008002198228496127,
                    0.00000756036160964868,
                    0.0000035555565318645677,
                    -3.6255426039133454e-7,
                    1.320718325814596e-7,
                    0.000004307498784328345,
                    0.000006347479029500391,
                    0.000004249246558174491,
                    0.0000026633310881152283,
                    0.0000040821023503667675,
                    0.000005220431830821326,
                    0.000004712460395239759,
                    0.000005081659310235409,
                    0.000005295667051541386,
                    0.000001710792616904655,
                    -0.0000025252650175389135,
                    -4.5401083070828463e-7,
                    0.000005885209247935563,
                    0.000007489741165045416,
                    0.0000029665898182429373,
                    -6.052823096069915e-7,
                    -2.884709147110698e-7,
                    4.6886643190191535e-7
                  ],
                  "y": [
                    -3.519609776958532e-7,
                    0.0000038930793380131945,
                    0.000004498857833823422,
                    0.0000010723221066655242,
                    -0.000001712411403786973,
                    -6.327994128696446e-7,
                    0.0000018041156408798997,
                    6.232961595742381e-7,
                    -0.000004628400802175747,
                    -0.000008672486728755757,
                    -0.000007622460088896332,
                    -0.000004198731403448619,
                    -0.000002897566218962311,
                    -0.00000315870602207724,
                    -0.0000016649878489261027,
                    8.932913715398172e-7,
                    8.765530878918071e-7,
                    -0.000001135327693191357,
                    1.6559734206111898e-7,
                    0.000006724697414028924,
                    0.000013018711797485594,
                    0.000012687371054198593,
                    0.00000643633848085301,
                    4.2840505898311676e-7,
                    -0.0000014379188542079646,
                    -6.055502126400825e-7,
                    -2.2189871629052504e-7,
                    -0.0000015879137436058954,
                    -0.00000396599853047519,
                    -0.000005301238161337096,
                    -0.0000037607987906085327,
                    -7.477266308342223e-7,
                    -3.9036376620060764e-7,
                    -0.0000031942302030074643,
                    -0.0000036448100217967294,
                    0.000001470893835175957,
                    0.000006752148692612536,
                    0.0000062331787376024295,
                    0.000002943602112281951,
                    0.000003172647438987042,
                    0.000005947060344624333,
                    0.000006077944817661773,
                    0.0000034583213164296467,
                    0.0000018282789824297652,
                    0.000001715910457278369,
                    7.281476541720622e-7,
                    -0.0000018344522914048866,
                    -0.000004628453098121099,
                    -0.000006241004484763835,
                    -0.0000060511288211273495,
                    -0.0000051066067499050405,
                    -0.0000051640472520375624,
                    -0.000005383280949899927,
                    -0.0000031906840831652516,
                    4.100203625512222e-7,
                    0.0000014667668892798247,
                    -1.3320935465799266e-7,
                    -4.552075552055612e-7,
                    0.0000014525521692121401,
                    0.0000025647325401223497,
                    0.000001721384364827827,
                    8.094690997495491e-7,
                    9.633125728214509e-7,
                    0.000002012543518503662,
                    0.0000037464753859239863,
                    0.0000045785654947394505,
                    0.0000021086812012072187,
                    -0.000002605642066555447,
                    -0.000005145777322468348,
                    -0.0000037259724194882438,
                    -0.0000011233998975512804,
                    8.798276951438311e-8,
                    1.24219312169771e-7,
                    -2.405610359801358e-7,
                    -2.852629847893695e-7,
                    0.0000015942082427500281,
                    0.000005392622824729187,
                    0.000007564991392428055,
                    0.000005952194442215841,
                    0.0000041832408896880224,
                    0.000005984401013847673,
                    0.00000811471363704186,
                    0.000005374404281610623,
                    -1.0950799378406373e-8,
                    -0.0000011070515029132366,
                    0.000002938869101853925,
                    0.000005468061772262445,
                    0.0000018571138298284495,
                    -0.000004296200586395571,
                    -0.000005951817456661956,
                    -0.000001455906271985441,
                    0.000003543479806467076,
                    0.0000037044483178760856,
                    0.0000011810803925982327,
                    0.0000016736663610572577,
                    0.000005077539299236378,
                    0.0000058443620218895376,
                    0.0000024645594294270268,
                    3.295924955182272e-7,
                    0.0000034241807043144945,
                    0.000007750909389869776,
                    0.000006178642706800019,
                    -0.000001503646444689366,
                    -0.0000069254097070370335,
                    -0.000004064508630108321,
                    0.000001445687757950509,
                    6.07414676778717e-7,
                    -0.000004225045358907664,
                    -0.000003833293703792151,
                    8.829576927382732e-7,
                    8.308832093462115e-7,
                    -0.0000034817526284314226,
                    -0.000002476738472978468,
                    0.000004255516159901163,
                    0.000007064916644594632,
                    0.0000036042001738678664,
                    0.0000012320153928158106,
                    0.0000027871653855982004,
                    0.000004226289092912339,
                    0.000004457177055883221,
                    0.000005051166681369068,
                    0.000003575660684873583,
                    -0.0000021006737824791344,
                    -0.000007031155291770119,
                    -0.000005260663783701602,
                    0.0000014944143913453445,
                    0.00000709230425854912,
                    0.000008206894563045353,
                    0.000005115340627526166,
                    6.215573762347049e-7,
                    -6.347001431095123e-7,
                    0.0000028444678719097283,
                    0.000006203874363563955,
                    0.00000518369870405877,
                    0.0000028314232167758746,
                    0.0000034248826068505878,
                    0.000005082799816591432,
                    0.000004910677034786204,
                    0.000004791259470948717,
                    0.000005527542725758394,
                    0.0000033277401598752476,
                    -0.0000015496071910092724,
                    -0.000001984082246053731,
                    0.000003879529685946181,
                    0.00000783369796408806,
                    0.000004754809651785763,
                    1.0599181621273601e-7,
                    -6.488854751296458e-7,
                    3.5266987197246635e-7,
                    5.129538749315543e-7,
                    0.0000019119518128718482,
                    0.000005559498731599888,
                    0.000007992881364771165
                  ],
                  "z": [
                    -0.0000011600616289797472,
                    -0.0000013822171922583948,
                    0.000001178906018139969,
                    0.0000015970597360137617,
                    -0.0000026902139325102326,
                    -0.000007824291060387623,
                    -0.000008492957931593992,
                    -0.000005261379556031898,
                    -0.000003004803829753655,
                    -0.0000031341930935013806,
                    -0.000002435149326629471,
                    1.6818650294680992e-7,
                    0.0000012765634664901881,
                    -5.476646265378804e-7,
                    -9.193749406222196e-7,
                    0.000004177770733804209,
                    0.000011440972230047919,
                    0.000013666345694218762,
                    0.000008824238648230676,
                    0.0000020458223843888845,
                    -0.0000012726432032650337,
                    -9.688733371149283e-7,
                    -1.6944952108133293e-7,
                    -9.50588173509459e-7,
                    -0.0000031685622161603533,
                    -0.000005122466518514557,
                    -0.000004599338808475295,
                    -0.0000016599302625763812,
                    -3.416267801981121e-8,
                    -0.000002181578338422696,
                    -0.000004126886324229417,
                    -6.649971169281343e-7,
                    0.00000548503430763958,
                    0.00000705618958818377,
                    0.000003874123649438843,
                    0.0000025799827199080028,
                    0.000005098385372548364,
                    0.000006484420737251639,
                    0.000004393212748254882,
                    0.0000021239629859337583,
                    0.0000017321482346233097,
                    0.0000012593450264830608,
                    -8.718242838767765e-7,
                    -0.0000037695112951041665,
                    -0.000005898190920561319,
                    -0.000006290944384090835,
                    -0.000005373595286073396,
                    -0.0000050082039706467185,
                    -0.00000547583113075234,
                    -0.000004240499947627541,
                    -6.876654765619605e-7,
                    0.0000015376369901787257,
                    4.599659462201089e-7,
                    -6.704166821691615e-7,
                    7.35835897103243e-7,
                    0.000002443766561555094,
                    0.000002123430931533221,
                    0.0000010065544984172448,
                    8.009267276065657e-7,
                    0.0000015688178791606333,
                    0.0000031440854399988893,
                    0.000004577639629133046,
                    0.0000033418243674532278,
                    -0.0000010482257266630768,
                    -0.000004765662652062019,
                    -0.0000045210931602923665,
                    -0.000001901567998174869,
                    -1.3475758464664978e-7,
                    1.814056105331474e-7,
                    -1.0154301577358638e-7,
                    -3.9676015717304836e-7,
                    6.746909093635622e-7,
                    0.000004085844466317212,
                    0.000007267586624948308,
                    0.000006786143785575405,
                    0.000004447460923984181,
                    0.000005040797987021506,
                    0.000007780035957694054,
                    0.000006883230526000261,
                    0.0000016202260439968086,
                    -0.0000014792842648603255,
                    0.000001361683303002792,
                    0.000005235615390120074,
                    0.000003679277142509818,
                    -0.0000024335843136213953,
                    -0.000006181471690069884,
                    -0.0000033843505207187263,
                    0.000002271506446049898,
                    0.000004220557002554415,
                    0.0000019239155335526448,
                    0.0000010014171039074427,
                    0.000003948340236092918,
                    0.000006149882210593205,
                    0.0000037970248740748502,
                    5.124748554408143e-7,
                    0.0000018984576399816433,
                    0.000006667065463261679,
                    0.000007593763257318642,
                    0.0000013139215297996998,
                    -0.000005949317255726783,
                    -0.000005822977527714102,
                    3.221441557954563e-9,
                    0.0000017444843933844822,
                    -0.0000028075166937924223,
                    -0.000004804782747669378,
                    -5.693811999663012e-7,
                    0.0000016735071994844475,
                    -0.0000021797252429678338,
                    -0.0000037611125662806444,
                    0.0000019527988115441985,
                    0.000007006361556705087,
                    0.000005048189450462814,
                    0.000001510613856225973,
                    0.000002054416654573288,
                    0.000003955532520194538,
                    0.000004372873263491783,
                    0.000004870951215707464,
                    0.000004552172413241351,
                    8.8419682242602e-8,
                    -0.000005952072115178453,
                    -0.000006664839020231739,
                    -9.21722971725103e-7,
                    0.00000565372602068237,
                    0.000008368113412871026,
                    0.000006496416972368024,
                    0.000001991898670894443,
                    -8.072150308180426e-7,
                    0.0000013641471241498948,
                    0.000005493287062563468,
                    0.000005957917892374098,
                    0.000003397825139472843,
                    0.0000028952442789886845,
                    0.000004682567123381887,
                    0.000005127152689965442,
                    0.000004654511030821595,
                    0.000005391479589889059,
                    0.000004566236384562217,
                    -2.6391731466901547e-8,
                    -0.000002703112841118127,
                    0.000001627251663194329,
                    0.000007280636509676697,
                    0.000006374672466336051,
                    0.0000013357390571400174,
                    -8.151927772814815e-7,
                    8.694839692680034e-8,
                    4.84230895381188e-7,
                    0.000001140897552431852,
                    0.0000042511546780588105,
                    0.0000075784610089613125,
                    0.00000732809985493077,
                    0.000003670389560284093,
                    5.623437004942389e-7,
                    0.0000012990385584998876
                  ]
                }
              ],
              "layout": {
                "scene": {
                  "xaxis": {
                    "exponentformat": "e",
                    "showexponent": "all",
                    "title": {
                      "text": "0th"
                    },
                    "type": "linear"
                  },
                  "yaxis": {
                    "exponentformat": "e",
                    "showexponent": "all",
                    "title": {
                      "text": "1st"
                    },
                    "type": "linear"
                  },
                  "zaxis": {
                    "exponentformat": "e",
                    "showexponent": "all",
                    "title": {
                      "text": "2nd"
                    },
                    "type": "linear"
                  }
                },
                "template": {
                  "data": {
                    "bar": [
                      {
                        "error_x": {
                          "color": "#2a3f5f"
                        },
                        "error_y": {
                          "color": "#2a3f5f"
                        },
                        "marker": {
                          "line": {
                            "color": "#E5ECF6",
                            "width": 0.5
                          },
                          "pattern": {
                            "fillmode": "overlay",
                            "size": 10,
                            "solidity": 0.2
                          }
                        },
                        "type": "bar"
                      }
                    ],
                    "barpolar": [
                      {
                        "marker": {
                          "line": {
                            "color": "#E5ECF6",
                            "width": 0.5
                          },
                          "pattern": {
                            "fillmode": "overlay",
                            "size": 10,
                            "solidity": 0.2
                          }
                        },
                        "type": "barpolar"
                      }
                    ],
                    "carpet": [
                      {
                        "aaxis": {
                          "endlinecolor": "#2a3f5f",
                          "gridcolor": "white",
                          "linecolor": "white",
                          "minorgridcolor": "white",
                          "startlinecolor": "#2a3f5f"
                        },
                        "baxis": {
                          "endlinecolor": "#2a3f5f",
                          "gridcolor": "white",
                          "linecolor": "white",
                          "minorgridcolor": "white",
                          "startlinecolor": "#2a3f5f"
                        },
                        "type": "carpet"
                      }
                    ],
                    "choropleth": [
                      {
                        "colorbar": {
                          "outlinewidth": 0,
                          "ticks": ""
                        },
                        "type": "choropleth"
                      }
                    ],
                    "contour": [
                      {
                        "colorbar": {
                          "outlinewidth": 0,
                          "ticks": ""
                        },
                        "colorscale": [
                          [
                            0,
                            "#0d0887"
                          ],
                          [
                            0.1111111111111111,
                            "#46039f"
                          ],
                          [
                            0.2222222222222222,
                            "#7201a8"
                          ],
                          [
                            0.3333333333333333,
                            "#9c179e"
                          ],
                          [
                            0.4444444444444444,
                            "#bd3786"
                          ],
                          [
                            0.5555555555555556,
                            "#d8576b"
                          ],
                          [
                            0.6666666666666666,
                            "#ed7953"
                          ],
                          [
                            0.7777777777777778,
                            "#fb9f3a"
                          ],
                          [
                            0.8888888888888888,
                            "#fdca26"
                          ],
                          [
                            1,
                            "#f0f921"
                          ]
                        ],
                        "type": "contour"
                      }
                    ],
                    "contourcarpet": [
                      {
                        "colorbar": {
                          "outlinewidth": 0,
                          "ticks": ""
                        },
                        "type": "contourcarpet"
                      }
                    ],
                    "heatmap": [
                      {
                        "colorbar": {
                          "outlinewidth": 0,
                          "ticks": ""
                        },
                        "colorscale": [
                          [
                            0,
                            "#0d0887"
                          ],
                          [
                            0.1111111111111111,
                            "#46039f"
                          ],
                          [
                            0.2222222222222222,
                            "#7201a8"
                          ],
                          [
                            0.3333333333333333,
                            "#9c179e"
                          ],
                          [
                            0.4444444444444444,
                            "#bd3786"
                          ],
                          [
                            0.5555555555555556,
                            "#d8576b"
                          ],
                          [
                            0.6666666666666666,
                            "#ed7953"
                          ],
                          [
                            0.7777777777777778,
                            "#fb9f3a"
                          ],
                          [
                            0.8888888888888888,
                            "#fdca26"
                          ],
                          [
                            1,
                            "#f0f921"
                          ]
                        ],
                        "type": "heatmap"
                      }
                    ],
                    "heatmapgl": [
                      {
                        "colorbar": {
                          "outlinewidth": 0,
                          "ticks": ""
                        },
                        "colorscale": [
                          [
                            0,
                            "#0d0887"
                          ],
                          [
                            0.1111111111111111,
                            "#46039f"
                          ],
                          [
                            0.2222222222222222,
                            "#7201a8"
                          ],
                          [
                            0.3333333333333333,
                            "#9c179e"
                          ],
                          [
                            0.4444444444444444,
                            "#bd3786"
                          ],
                          [
                            0.5555555555555556,
                            "#d8576b"
                          ],
                          [
                            0.6666666666666666,
                            "#ed7953"
                          ],
                          [
                            0.7777777777777778,
                            "#fb9f3a"
                          ],
                          [
                            0.8888888888888888,
                            "#fdca26"
                          ],
                          [
                            1,
                            "#f0f921"
                          ]
                        ],
                        "type": "heatmapgl"
                      }
                    ],
                    "histogram": [
                      {
                        "marker": {
                          "pattern": {
                            "fillmode": "overlay",
                            "size": 10,
                            "solidity": 0.2
                          }
                        },
                        "type": "histogram"
                      }
                    ],
                    "histogram2d": [
                      {
                        "colorbar": {
                          "outlinewidth": 0,
                          "ticks": ""
                        },
                        "colorscale": [
                          [
                            0,
                            "#0d0887"
                          ],
                          [
                            0.1111111111111111,
                            "#46039f"
                          ],
                          [
                            0.2222222222222222,
                            "#7201a8"
                          ],
                          [
                            0.3333333333333333,
                            "#9c179e"
                          ],
                          [
                            0.4444444444444444,
                            "#bd3786"
                          ],
                          [
                            0.5555555555555556,
                            "#d8576b"
                          ],
                          [
                            0.6666666666666666,
                            "#ed7953"
                          ],
                          [
                            0.7777777777777778,
                            "#fb9f3a"
                          ],
                          [
                            0.8888888888888888,
                            "#fdca26"
                          ],
                          [
                            1,
                            "#f0f921"
                          ]
                        ],
                        "type": "histogram2d"
                      }
                    ],
                    "histogram2dcontour": [
                      {
                        "colorbar": {
                          "outlinewidth": 0,
                          "ticks": ""
                        },
                        "colorscale": [
                          [
                            0,
                            "#0d0887"
                          ],
                          [
                            0.1111111111111111,
                            "#46039f"
                          ],
                          [
                            0.2222222222222222,
                            "#7201a8"
                          ],
                          [
                            0.3333333333333333,
                            "#9c179e"
                          ],
                          [
                            0.4444444444444444,
                            "#bd3786"
                          ],
                          [
                            0.5555555555555556,
                            "#d8576b"
                          ],
                          [
                            0.6666666666666666,
                            "#ed7953"
                          ],
                          [
                            0.7777777777777778,
                            "#fb9f3a"
                          ],
                          [
                            0.8888888888888888,
                            "#fdca26"
                          ],
                          [
                            1,
                            "#f0f921"
                          ]
                        ],
                        "type": "histogram2dcontour"
                      }
                    ],
                    "mesh3d": [
                      {
                        "colorbar": {
                          "outlinewidth": 0,
                          "ticks": ""
                        },
                        "type": "mesh3d"
                      }
                    ],
                    "parcoords": [
                      {
                        "line": {
                          "colorbar": {
                            "outlinewidth": 0,
                            "ticks": ""
                          }
                        },
                        "type": "parcoords"
                      }
                    ],
                    "pie": [
                      {
                        "automargin": true,
                        "type": "pie"
                      }
                    ],
                    "scatter": [
                      {
                        "fillpattern": {
                          "fillmode": "overlay",
                          "size": 10,
                          "solidity": 0.2
                        },
                        "type": "scatter"
                      }
                    ],
                    "scatter3d": [
                      {
                        "line": {
                          "colorbar": {
                            "outlinewidth": 0,
                            "ticks": ""
                          }
                        },
                        "marker": {
                          "colorbar": {
                            "outlinewidth": 0,
                            "ticks": ""
                          }
                        },
                        "type": "scatter3d"
                      }
                    ],
                    "scattercarpet": [
                      {
                        "marker": {
                          "colorbar": {
                            "outlinewidth": 0,
                            "ticks": ""
                          }
                        },
                        "type": "scattercarpet"
                      }
                    ],
                    "scattergeo": [
                      {
                        "marker": {
                          "colorbar": {
                            "outlinewidth": 0,
                            "ticks": ""
                          }
                        },
                        "type": "scattergeo"
                      }
                    ],
                    "scattergl": [
                      {
                        "marker": {
                          "colorbar": {
                            "outlinewidth": 0,
                            "ticks": ""
                          }
                        },
                        "type": "scattergl"
                      }
                    ],
                    "scattermapbox": [
                      {
                        "marker": {
                          "colorbar": {
                            "outlinewidth": 0,
                            "ticks": ""
                          }
                        },
                        "type": "scattermapbox"
                      }
                    ],
                    "scatterpolar": [
                      {
                        "marker": {
                          "colorbar": {
                            "outlinewidth": 0,
                            "ticks": ""
                          }
                        },
                        "type": "scatterpolar"
                      }
                    ],
                    "scatterpolargl": [
                      {
                        "marker": {
                          "colorbar": {
                            "outlinewidth": 0,
                            "ticks": ""
                          }
                        },
                        "type": "scatterpolargl"
                      }
                    ],
                    "scatterternary": [
                      {
                        "marker": {
                          "colorbar": {
                            "outlinewidth": 0,
                            "ticks": ""
                          }
                        },
                        "type": "scatterternary"
                      }
                    ],
                    "surface": [
                      {
                        "colorbar": {
                          "outlinewidth": 0,
                          "ticks": ""
                        },
                        "colorscale": [
                          [
                            0,
                            "#0d0887"
                          ],
                          [
                            0.1111111111111111,
                            "#46039f"
                          ],
                          [
                            0.2222222222222222,
                            "#7201a8"
                          ],
                          [
                            0.3333333333333333,
                            "#9c179e"
                          ],
                          [
                            0.4444444444444444,
                            "#bd3786"
                          ],
                          [
                            0.5555555555555556,
                            "#d8576b"
                          ],
                          [
                            0.6666666666666666,
                            "#ed7953"
                          ],
                          [
                            0.7777777777777778,
                            "#fb9f3a"
                          ],
                          [
                            0.8888888888888888,
                            "#fdca26"
                          ],
                          [
                            1,
                            "#f0f921"
                          ]
                        ],
                        "type": "surface"
                      }
                    ],
                    "table": [
                      {
                        "cells": {
                          "fill": {
                            "color": "#EBF0F8"
                          },
                          "line": {
                            "color": "white"
                          }
                        },
                        "header": {
                          "fill": {
                            "color": "#C8D4E3"
                          },
                          "line": {
                            "color": "white"
                          }
                        },
                        "type": "table"
                      }
                    ]
                  },
                  "layout": {
                    "annotationdefaults": {
                      "arrowcolor": "#2a3f5f",
                      "arrowhead": 0,
                      "arrowwidth": 1
                    },
                    "autotypenumbers": "strict",
                    "coloraxis": {
                      "colorbar": {
                        "outlinewidth": 0,
                        "ticks": ""
                      }
                    },
                    "colorscale": {
                      "diverging": [
                        [
                          0,
                          "#8e0152"
                        ],
                        [
                          0.1,
                          "#c51b7d"
                        ],
                        [
                          0.2,
                          "#de77ae"
                        ],
                        [
                          0.3,
                          "#f1b6da"
                        ],
                        [
                          0.4,
                          "#fde0ef"
                        ],
                        [
                          0.5,
                          "#f7f7f7"
                        ],
                        [
                          0.6,
                          "#e6f5d0"
                        ],
                        [
                          0.7,
                          "#b8e186"
                        ],
                        [
                          0.8,
                          "#7fbc41"
                        ],
                        [
                          0.9,
                          "#4d9221"
                        ],
                        [
                          1,
                          "#276419"
                        ]
                      ],
                      "sequential": [
                        [
                          0,
                          "#0d0887"
                        ],
                        [
                          0.1111111111111111,
                          "#46039f"
                        ],
                        [
                          0.2222222222222222,
                          "#7201a8"
                        ],
                        [
                          0.3333333333333333,
                          "#9c179e"
                        ],
                        [
                          0.4444444444444444,
                          "#bd3786"
                        ],
                        [
                          0.5555555555555556,
                          "#d8576b"
                        ],
                        [
                          0.6666666666666666,
                          "#ed7953"
                        ],
                        [
                          0.7777777777777778,
                          "#fb9f3a"
                        ],
                        [
                          0.8888888888888888,
                          "#fdca26"
                        ],
                        [
                          1,
                          "#f0f921"
                        ]
                      ],
                      "sequentialminus": [
                        [
                          0,
                          "#0d0887"
                        ],
                        [
                          0.1111111111111111,
                          "#46039f"
                        ],
                        [
                          0.2222222222222222,
                          "#7201a8"
                        ],
                        [
                          0.3333333333333333,
                          "#9c179e"
                        ],
                        [
                          0.4444444444444444,
                          "#bd3786"
                        ],
                        [
                          0.5555555555555556,
                          "#d8576b"
                        ],
                        [
                          0.6666666666666666,
                          "#ed7953"
                        ],
                        [
                          0.7777777777777778,
                          "#fb9f3a"
                        ],
                        [
                          0.8888888888888888,
                          "#fdca26"
                        ],
                        [
                          1,
                          "#f0f921"
                        ]
                      ]
                    },
                    "colorway": [
                      "#636efa",
                      "#EF553B",
                      "#00cc96",
                      "#ab63fa",
                      "#FFA15A",
                      "#19d3f3",
                      "#FF6692",
                      "#B6E880",
                      "#FF97FF",
                      "#FECB52"
                    ],
                    "font": {
                      "color": "#2a3f5f"
                    },
                    "geo": {
                      "bgcolor": "white",
                      "lakecolor": "white",
                      "landcolor": "#E5ECF6",
                      "showlakes": true,
                      "showland": true,
                      "subunitcolor": "white"
                    },
                    "hoverlabel": {
                      "align": "left"
                    },
                    "hovermode": "closest",
                    "mapbox": {
                      "style": "light"
                    },
                    "paper_bgcolor": "white",
                    "plot_bgcolor": "#E5ECF6",
                    "polar": {
                      "angularaxis": {
                        "gridcolor": "white",
                        "linecolor": "white",
                        "ticks": ""
                      },
                      "bgcolor": "#E5ECF6",
                      "radialaxis": {
                        "gridcolor": "white",
                        "linecolor": "white",
                        "ticks": ""
                      }
                    },
                    "scene": {
                      "xaxis": {
                        "backgroundcolor": "#E5ECF6",
                        "gridcolor": "white",
                        "gridwidth": 2,
                        "linecolor": "white",
                        "showbackground": true,
                        "ticks": "",
                        "zerolinecolor": "white"
                      },
                      "yaxis": {
                        "backgroundcolor": "#E5ECF6",
                        "gridcolor": "white",
                        "gridwidth": 2,
                        "linecolor": "white",
                        "showbackground": true,
                        "ticks": "",
                        "zerolinecolor": "white"
                      },
                      "zaxis": {
                        "backgroundcolor": "#E5ECF6",
                        "gridcolor": "white",
                        "gridwidth": 2,
                        "linecolor": "white",
                        "showbackground": true,
                        "ticks": "",
                        "zerolinecolor": "white"
                      }
                    },
                    "shapedefaults": {
                      "line": {
                        "color": "#2a3f5f"
                      }
                    },
                    "ternary": {
                      "aaxis": {
                        "gridcolor": "white",
                        "linecolor": "white",
                        "ticks": ""
                      },
                      "baxis": {
                        "gridcolor": "white",
                        "linecolor": "white",
                        "ticks": ""
                      },
                      "bgcolor": "#E5ECF6",
                      "caxis": {
                        "gridcolor": "white",
                        "linecolor": "white",
                        "ticks": ""
                      }
                    },
                    "title": {
                      "x": 0.05
                    },
                    "xaxis": {
                      "automargin": true,
                      "gridcolor": "white",
                      "linecolor": "white",
                      "ticks": "",
                      "title": {
                        "standoff": 15
                      },
                      "zerolinecolor": "white",
                      "zerolinewidth": 2
                    },
                    "yaxis": {
                      "automargin": true,
                      "gridcolor": "white",
                      "linecolor": "white",
                      "ticks": "",
                      "title": {
                        "standoff": 15
                      },
                      "zerolinecolor": "white",
                      "zerolinewidth": 2
                    }
                  }
                }
              }
            }
          },
          "metadata": {},
          "output_type": "display_data"
        }
      ],
      "source": [
        "overall_point_clouds_plot = gtda.plotting.plot_point_cloud(overall_point_clouds[print_obj])\n",
        "display(overall_point_clouds_plot)\n",
        "overall_point_clouds_plot.write_image(file = f\"{subj}/{exp}/overall_point_cloud.svg\", format = \"svg\")"
      ]
    },
    {
      "cell_type": "markdown",
      "metadata": {},
      "source": [
        "##### VietorisRipsPersistence"
      ]
    },
    {
      "cell_type": "code",
      "execution_count": 68,
      "metadata": {},
      "outputs": [
        {
          "name": "stdout",
          "output_type": "stream",
          "text": [
            "(1046, 205, 3)\n"
          ]
        }
      ],
      "source": [
        "overall_persistence = gtda.homology.VietorisRipsPersistence(homology_dimensions = OVERALL_HOMOLOGY_DIMENSIONS, n_jobs = -1)\n",
        "overall_diagrams = overall_persistence.fit_transform(overall_point_clouds)\n",
        "print(overall_diagrams.shape)"
      ]
    },
    {
      "cell_type": "code",
      "execution_count": 69,
      "metadata": {},
      "outputs": [
        {
          "data": {
            "application/vnd.plotly.v1+json": {
              "config": {
                "plotlyServerURL": "https://plot.ly"
              },
              "data": [
                {
                  "hoverinfo": "none",
                  "line": {
                    "color": "black",
                    "dash": "dash",
                    "width": 1
                  },
                  "mode": "lines",
                  "showlegend": false,
                  "type": "scatter",
                  "x": [
                    0.00004741183103760705,
                    0.00009741853544255719
                  ],
                  "y": [
                    0.00004741183103760705,
                    0.00009741853544255719
                  ]
                },
                {
                  "hoverinfo": "text",
                  "hovertext": [
                    "(6.95732087478973e-05, 7.189845928223804e-05)",
                    "(6.885885522933677e-05, 6.92708053975366e-05)",
                    "(6.842039147159085e-05, 6.942458276171237e-05)",
                    "(6.756120274076238e-05, 6.969193054828793e-05)",
                    "(6.749540625605732e-05, 6.900185690028593e-05)",
                    "(6.741638935636729e-05, 6.951547402422875e-05)",
                    "(6.727154686814174e-05, 6.73866379656829e-05)",
                    "(6.71372254146263e-05, 6.848312477814034e-05)",
                    "(6.643241067649797e-05, 6.900251901242882e-05)",
                    "(6.471035158028826e-05, 6.560670590260997e-05)",
                    "(6.449040665756911e-05, 6.909837975399569e-05)",
                    "(6.425267201848328e-05, 6.533221312565729e-05)",
                    "(6.384696462191641e-05, 6.696140189887956e-05)",
                    "(6.334608769975603e-05, 6.532239058287814e-05)",
                    "(6.312942423392087e-05, 6.820409907959402e-05)",
                    "(6.259071233216673e-05, 6.402291910490021e-05)",
                    "(6.207680416991934e-05, 6.332620978355408e-05)",
                    "(6.202658551046625e-05, 6.223819946171716e-05)",
                    "(6.199187919264659e-05, 6.533221312565729e-05)",
                    "(6.187649705680087e-05, 6.620190833928064e-05)",
                    "(6.130808469606563e-05, 6.402291910490021e-05)",
                    "(6.071582538424991e-05, 6.254071195144206e-05)",
                    "(6.067322101444006e-05, 6.46773842163384e-05)",
                    "(6.04790220677387e-05, 6.984143692534417e-05)",
                    "(6.043603934813291e-05, 6.183740333653986e-05)",
                    "(6.0368583945091814e-05, 6.517922884086147e-05)",
                    "(6.0360613133525476e-05, 6.785254663554952e-05)",
                    "(6.026742994436063e-05, 6.258491339394823e-05)",
                    "(6.017718988005072e-05, 6.560295878443867e-05)",
                    "(6.0095098888268694e-05, 6.108362140366808e-05)",
                    "(6.008358468534425e-05, 6.167936226120219e-05)",
                    "(5.964235606370494e-05, 6.0501202824525535e-05)",
                    "(5.95726196479518e-05, 6.0677830333588645e-05)",
                    "(5.9528414567466825e-05, 7.400880713248625e-05)",
                    "(5.926778612774797e-05, 6.324079731712118e-05)",
                    "(5.919337854720652e-05, 6.270199810387567e-05)",
                    "(5.887432416784577e-05, 5.930349652771838e-05)",
                    "(5.8861096476903185e-05, 6.850303179817274e-05)",
                    "(5.8846835599979386e-05, 6.0044210840715095e-05)",
                    "(5.8776535297511145e-05, 7.292338705155998e-05)",
                    "(5.8717505453387275e-05, 6.658811616944149e-05)",
                    "(5.8686644479166716e-05, 5.972298822598532e-05)",
                    "(5.868102016393095e-05, 6.312468758551404e-05)",
                    "(5.86808382649906e-05, 5.972932558506727e-05)",
                    "(5.862520993105136e-05, 6.364943692460656e-05)",
                    "(5.8573077694745734e-05, 6.557556480402127e-05)",
                    "(5.8537963923299685e-05, 6.383250729413703e-05)",
                    "(5.8324898418504745e-05, 6.93921247147955e-05)",
                    "(5.81590757064987e-05, 5.9077552577946335e-05)",
                    "(5.813584721181542e-05, 6.0376376495696604e-05)",
                    "(5.767223774455488e-05, 6.368597678374499e-05)",
                    "(5.757668986916542e-05, 6.272700557019562e-05)",
                    "(5.7522658607922494e-05, 6.324079731712118e-05)",
                    "(5.728969335905276e-05, 6.143681093817577e-05)",
                    "(5.725877053919248e-05, 5.9153680922463536e-05)",
                    "(5.6909240811364725e-05, 5.798004713142291e-05)",
                    "(5.681680340785533e-05, 6.0301274061203e-05)",
                    "(5.635822162730619e-05, 6.429431232390925e-05)",
                    "(5.62210007046815e-05, 6.599303742405027e-05)",
                    "(5.621580930892378e-05, 5.813611642224714e-05)",
                    "(5.620074080070481e-05, 5.989255805616267e-05)",
                    "(5.6037850299617276e-05, 6.961922917980701e-05)",
                    "(5.594252434093505e-05, 5.790782961412333e-05)",
                    "(5.5668260756647214e-05, 6.19575148448348e-05)",
                    "(5.559161945711821e-05, 5.596383198280819e-05)",
                    "(5.5536453146487474e-05, 7.094917236827314e-05)",
                    "(5.5100339523050934e-05, 7.016700692474842e-05)",
                    "(5.505905573954806e-05, 5.7110373745672405e-05)",
                    "(5.5032112868502736e-05, 5.875985516468063e-05)",
                    "(5.491806587087922e-05, 5.659639646182768e-05)",
                    "(5.4644860938424245e-05, 5.562659498536959e-05)",
                    "(5.463608249556273e-05, 6.233673047972843e-05)",
                    "(5.460351530928165e-05, 5.586947736446746e-05)",
                    "(5.4443240514956415e-05, 5.5996319133555517e-05)",
                    "(5.437000800156966e-05, 5.9613725170493126e-05)",
                    "(5.420911838882603e-05, 5.855444760527462e-05)",
                    "(5.416105341282673e-05, 6.411692447727546e-05)",
                    "(5.413205872173421e-05, 5.685110954800621e-05)",
                    "(5.4130865464685485e-05, 5.623706238111481e-05)",
                    "(5.412231257651001e-05, 5.777580008725636e-05)",
                    "(5.401050657383166e-05, 5.732860881835222e-05)",
                    "(5.3782707254868e-05, 5.851366950082593e-05)",
                    "(5.374036845751107e-05, 6.010886136209592e-05)",
                    "(5.350465653464198e-05, 5.39120301255025e-05)",
                    "(5.3401803597807884e-05, 5.6369564845226705e-05)",
                    "(5.3038027544971555e-05, 5.7012566685443744e-05)",
                    "(5.286466330289841e-05, 6.220871728146449e-05)",
                    "(5.258409873931669e-05, 6.188339466461912e-05)",
                    "(5.205388879403472e-05, 6.232339364942163e-05)",
                    "(5.197765494813211e-05, 5.9305668401066214e-05)",
                    "(5.193983088247478e-05, 6.047465649317019e-05)",
                    "(5.1404851546976715e-05, 5.28819473402109e-05)",
                    "(5.126065661897883e-05, 5.3596417274093255e-05)",
                    "(5.1241571782156825e-05, 6.594251317437738e-05)",
                    "(5.123895971337333e-05, 6.10413626418449e-05)",
                    "(5.114155283081345e-05, 5.518960824701935e-05)",
                    "(5.105486707179807e-05, 6.437648698920384e-05)",
                    "(5.0870665290858597e-05, 5.8131307014264166e-05)",
                    "(5.068003520136699e-05, 6.185233360156417e-05)",
                    "(5.051854168414138e-05, 5.8413410442881286e-05)",
                    "(5.00018686580006e-05, 6.252947787288576e-05)",
                    "(4.929822534904815e-05, 5.554023300646804e-05)",
                    "(4.917414844385348e-05, 6.778209353797138e-05)",
                    "(4.906004323856905e-05, 6.277969805523753e-05)",
                    "(4.902689397567883e-05, 6.485194171546027e-05)",
                    "(4.8714638978708535e-05, 7.166362775024027e-05)",
                    "(4.837349843000993e-05, 8.060218533501029e-05)"
                  ],
                  "mode": "markers",
                  "name": "H1",
                  "type": "scatter",
                  "x": [
                    0.0000695732087478973,
                    0.00006885885522933677,
                    0.00006842039147159085,
                    0.00006756120274076238,
                    0.00006749540625605732,
                    0.00006741638935636729,
                    0.00006727154686814174,
                    0.0000671372254146263,
                    0.00006643241067649797,
                    0.00006471035158028826,
                    0.00006449040665756911,
                    0.00006425267201848328,
                    0.00006384696462191641,
                    0.00006334608769975603,
                    0.00006312942423392087,
                    0.00006259071233216673,
                    0.00006207680416991934,
                    0.00006202658551046625,
                    0.00006199187919264659,
                    0.00006187649705680087,
                    0.00006130808469606563,
                    0.00006071582538424991,
                    0.00006067322101444006,
                    0.0000604790220677387,
                    0.00006043603934813291,
                    0.000060368583945091814,
                    0.000060360613133525476,
                    0.00006026742994436063,
                    0.00006017718988005072,
                    0.000060095098888268694,
                    0.00006008358468534425,
                    0.00005964235606370494,
                    0.0000595726196479518,
                    0.000059528414567466825,
                    0.00005926778612774797,
                    0.00005919337854720652,
                    0.00005887432416784577,
                    0.000058861096476903185,
                    0.000058846835599979386,
                    0.000058776535297511145,
                    0.000058717505453387275,
                    0.000058686644479166716,
                    0.00005868102016393095,
                    0.0000586808382649906,
                    0.00005862520993105136,
                    0.000058573077694745734,
                    0.000058537963923299685,
                    0.000058324898418504745,
                    0.0000581590757064987,
                    0.00005813584721181542,
                    0.00005767223774455488,
                    0.00005757668986916542,
                    0.000057522658607922494,
                    0.00005728969335905276,
                    0.00005725877053919248,
                    0.000056909240811364725,
                    0.00005681680340785533,
                    0.00005635822162730619,
                    0.0000562210007046815,
                    0.00005621580930892378,
                    0.00005620074080070481,
                    0.000056037850299617276,
                    0.00005594252434093505,
                    0.000055668260756647214,
                    0.00005559161945711821,
                    0.000055536453146487474,
                    0.000055100339523050934,
                    0.00005505905573954806,
                    0.000055032112868502736,
                    0.00005491806587087922,
                    0.000054644860938424245,
                    0.00005463608249556273,
                    0.00005460351530928165,
                    0.000054443240514956415,
                    0.00005437000800156966,
                    0.00005420911838882603,
                    0.00005416105341282673,
                    0.00005413205872173421,
                    0.000054130865464685485,
                    0.00005412231257651001,
                    0.00005401050657383166,
                    0.000053782707254868,
                    0.00005374036845751107,
                    0.00005350465653464198,
                    0.000053401803597807884,
                    0.000053038027544971555,
                    0.00005286466330289841,
                    0.00005258409873931669,
                    0.00005205388879403472,
                    0.00005197765494813211,
                    0.00005193983088247478,
                    0.000051404851546976715,
                    0.00005126065661897883,
                    0.000051241571782156825,
                    0.00005123895971337333,
                    0.00005114155283081345,
                    0.00005105486707179807,
                    0.000050870665290858597,
                    0.00005068003520136699,
                    0.00005051854168414138,
                    0.0000500018686580006,
                    0.00004929822534904815,
                    0.00004917414844385348,
                    0.00004906004323856905,
                    0.00004902689397567883,
                    0.000048714638978708535,
                    0.00004837349843000993
                  ],
                  "y": [
                    0.00007189845928223804,
                    0.0000692708053975366,
                    0.00006942458276171237,
                    0.00006969193054828793,
                    0.00006900185690028593,
                    0.00006951547402422875,
                    0.0000673866379656829,
                    0.00006848312477814034,
                    0.00006900251901242882,
                    0.00006560670590260997,
                    0.00006909837975399569,
                    0.00006533221312565729,
                    0.00006696140189887956,
                    0.00006532239058287814,
                    0.00006820409907959402,
                    0.00006402291910490021,
                    0.00006332620978355408,
                    0.00006223819946171716,
                    0.00006533221312565729,
                    0.00006620190833928064,
                    0.00006402291910490021,
                    0.00006254071195144206,
                    0.0000646773842163384,
                    0.00006984143692534417,
                    0.00006183740333653986,
                    0.00006517922884086147,
                    0.00006785254663554952,
                    0.00006258491339394823,
                    0.00006560295878443867,
                    0.00006108362140366808,
                    0.00006167936226120219,
                    0.000060501202824525535,
                    0.000060677830333588645,
                    0.00007400880713248625,
                    0.00006324079731712118,
                    0.00006270199810387567,
                    0.00005930349652771838,
                    0.00006850303179817274,
                    0.000060044210840715095,
                    0.00007292338705155998,
                    0.00006658811616944149,
                    0.00005972298822598532,
                    0.00006312468758551404,
                    0.00005972932558506727,
                    0.00006364943692460656,
                    0.00006557556480402127,
                    0.00006383250729413703,
                    0.0000693921247147955,
                    0.000059077552577946335,
                    0.000060376376495696604,
                    0.00006368597678374499,
                    0.00006272700557019562,
                    0.00006324079731712118,
                    0.00006143681093817577,
                    0.000059153680922463536,
                    0.00005798004713142291,
                    0.000060301274061203,
                    0.00006429431232390925,
                    0.00006599303742405027,
                    0.00005813611642224714,
                    0.00005989255805616267,
                    0.00006961922917980701,
                    0.00005790782961412333,
                    0.0000619575148448348,
                    0.00005596383198280819,
                    0.00007094917236827314,
                    0.00007016700692474842,
                    0.000057110373745672405,
                    0.00005875985516468063,
                    0.00005659639646182768,
                    0.00005562659498536959,
                    0.00006233673047972843,
                    0.00005586947736446746,
                    0.000055996319133555517,
                    0.000059613725170493126,
                    0.00005855444760527462,
                    0.00006411692447727546,
                    0.00005685110954800621,
                    0.00005623706238111481,
                    0.00005777580008725636,
                    0.00005732860881835222,
                    0.00005851366950082593,
                    0.00006010886136209592,
                    0.0000539120301255025,
                    0.000056369564845226705,
                    0.000057012566685443744,
                    0.00006220871728146449,
                    0.00006188339466461912,
                    0.00006232339364942163,
                    0.000059305668401066214,
                    0.00006047465649317019,
                    0.0000528819473402109,
                    0.000053596417274093255,
                    0.00006594251317437738,
                    0.0000610413626418449,
                    0.00005518960824701935,
                    0.00006437648698920384,
                    0.000058131307014264166,
                    0.00006185233360156417,
                    0.000058413410442881286,
                    0.00006252947787288576,
                    0.00005554023300646804,
                    0.00006778209353797138,
                    0.00006277969805523753,
                    0.00006485194171546027,
                    0.00007166362775024027,
                    0.00008060218533501029
                  ]
                },
                {
                  "hoverinfo": "text",
                  "hovertext": [
                    "(8.5863059211988e-05, 8.699291356606409e-05)",
                    "(8.406477718381211e-05, 8.904233982320875e-05)",
                    "(8.242722105933353e-05, 8.342936052940786e-05)",
                    "(7.465865201083943e-05, 7.49967439332977e-05)",
                    "(7.462430949090049e-05, 7.537686906289309e-05)",
                    "(7.289525092346594e-05, 7.333047688007355e-05)",
                    "(7.220175757538527e-05, 7.338561408687383e-05)",
                    "(7.196728984126821e-05, 7.338561408687383e-05)",
                    "(7.190315227489918e-05, 7.391862163785845e-05)",
                    "(7.189949246821925e-05, 7.589466258650646e-05)",
                    "(7.175925566116348e-05, 7.259726407937706e-05)",
                    "(7.173752965172753e-05, 7.259726407937706e-05)",
                    "(7.153501792345196e-05, 7.207563612610102e-05)",
                    "(7.135965279303491e-05, 7.265097519848496e-05)",
                    "(7.128324796212837e-05, 7.172669575084001e-05)",
                    "(7.099368667695671e-05, 7.701446156715974e-05)",
                    "(7.047414692351595e-05, 7.082850788719952e-05)",
                    "(7.044793892418966e-05, 7.207563612610102e-05)",
                    "(7.033077417872846e-05, 7.286497566383332e-05)",
                    "(6.97343930369243e-05, 7.010663830442354e-05)",
                    "(6.937920989003032e-05, 6.989806570345536e-05)",
                    "(6.91157256369479e-05, 6.933553231647238e-05)",
                    "(6.88270156388171e-05, 6.959612073842436e-05)",
                    "(6.856251275166869e-05, 6.900185690028593e-05)",
                    "(6.834559462731704e-05, 7.041935896268114e-05)",
                    "(6.82713944115676e-05, 6.832684448454529e-05)",
                    "(6.810232298448682e-05, 6.980640318943188e-05)",
                    "(6.684218533337116e-05, 6.736241630278528e-05)",
                    "(6.620190833928064e-05, 6.689997826470062e-05)",
                    "(6.592919817194343e-05, 6.922415923327208e-05)",
                    "(6.566405500052497e-05, 6.78843425703235e-05)",
                    "(6.530836981255561e-05, 6.658655183855444e-05)",
                    "(6.400469283107668e-05, 6.472803943324834e-05)",
                    "(6.312468758551404e-05, 6.346179725369439e-05)",
                    "(6.189189298311248e-05, 6.21963627054356e-05)",
                    "(6.149954424472526e-05, 6.153182039270177e-05)"
                  ],
                  "mode": "markers",
                  "name": "H2",
                  "type": "scatter",
                  "x": [
                    0.000085863059211988,
                    0.00008406477718381211,
                    0.00008242722105933353,
                    0.00007465865201083943,
                    0.00007462430949090049,
                    0.00007289525092346594,
                    0.00007220175757538527,
                    0.00007196728984126821,
                    0.00007190315227489918,
                    0.00007189949246821925,
                    0.00007175925566116348,
                    0.00007173752965172753,
                    0.00007153501792345196,
                    0.00007135965279303491,
                    0.00007128324796212837,
                    0.00007099368667695671,
                    0.00007047414692351595,
                    0.00007044793892418966,
                    0.00007033077417872846,
                    0.0000697343930369243,
                    0.00006937920989003032,
                    0.0000691157256369479,
                    0.0000688270156388171,
                    0.00006856251275166869,
                    0.00006834559462731704,
                    0.0000682713944115676,
                    0.00006810232298448682,
                    0.00006684218533337116,
                    0.00006620190833928064,
                    0.00006592919817194343,
                    0.00006566405500052497,
                    0.00006530836981255561,
                    0.00006400469283107668,
                    0.00006312468758551404,
                    0.00006189189298311248,
                    0.00006149954424472526
                  ],
                  "y": [
                    0.00008699291356606409,
                    0.00008904233982320875,
                    0.00008342936052940786,
                    0.0000749967439332977,
                    0.00007537686906289309,
                    0.00007333047688007355,
                    0.00007338561408687383,
                    0.00007338561408687383,
                    0.00007391862163785845,
                    0.00007589466258650646,
                    0.00007259726407937706,
                    0.00007259726407937706,
                    0.00007207563612610102,
                    0.00007265097519848496,
                    0.00007172669575084001,
                    0.00007701446156715974,
                    0.00007082850788719952,
                    0.00007207563612610102,
                    0.00007286497566383332,
                    0.00007010663830442354,
                    0.00006989806570345536,
                    0.00006933553231647238,
                    0.00006959612073842436,
                    0.00006900185690028593,
                    0.00007041935896268114,
                    0.00006832684448454529,
                    0.00006980640318943188,
                    0.00006736241630278528,
                    0.00006689997826470062,
                    0.00006922415923327208,
                    0.0000678843425703235,
                    0.00006658655183855444,
                    0.00006472803943324834,
                    0.00006346179725369439,
                    0.0000621963627054356,
                    0.00006153182039270177
                  ]
                },
                {
                  "hoverinfo": "text",
                  "hovertext": [
                    "(9.63285710895434e-05, 9.64568680501543e-05)",
                    "(8.935073856264353e-05, 9.02610772754997e-05)",
                    "(7.691177597735077e-05, 7.804200140526518e-05)",
                    "(7.607321458635852e-05, 7.664440636290237e-05)",
                    "(7.589466258650646e-05, 7.645689038326964e-05)",
                    "(7.430408004438505e-05, 7.481547072529793e-05)",
                    "(7.338561408687383e-05, 7.353207911364734e-05)",
                    "(7.18636074452661e-05, 7.210759213194251e-05)",
                    "(7.048445695545524e-05, 7.117897621355951e-05)",
                    "(6.995390867814422e-05, 7.00217715348117e-05)"
                  ],
                  "mode": "markers",
                  "name": "H3",
                  "type": "scatter",
                  "x": [
                    0.0000963285710895434,
                    0.00008935073856264353,
                    0.00007691177597735077,
                    0.00007607321458635852,
                    0.00007589466258650646,
                    0.00007430408004438505,
                    0.00007338561408687383,
                    0.0000718636074452661,
                    0.00007048445695545524,
                    0.00006995390867814422
                  ],
                  "y": [
                    0.0000964568680501543,
                    0.0000902610772754997,
                    0.00007804200140526518,
                    0.00007664440636290237,
                    0.00007645689038326964,
                    0.00007481547072529793,
                    0.00007353207911364734,
                    0.00007210759213194251,
                    0.00007117897621355951,
                    0.0000700217715348117
                  ]
                }
              ],
              "layout": {
                "height": 500,
                "plot_bgcolor": "white",
                "template": {
                  "data": {
                    "bar": [
                      {
                        "error_x": {
                          "color": "#2a3f5f"
                        },
                        "error_y": {
                          "color": "#2a3f5f"
                        },
                        "marker": {
                          "line": {
                            "color": "#E5ECF6",
                            "width": 0.5
                          },
                          "pattern": {
                            "fillmode": "overlay",
                            "size": 10,
                            "solidity": 0.2
                          }
                        },
                        "type": "bar"
                      }
                    ],
                    "barpolar": [
                      {
                        "marker": {
                          "line": {
                            "color": "#E5ECF6",
                            "width": 0.5
                          },
                          "pattern": {
                            "fillmode": "overlay",
                            "size": 10,
                            "solidity": 0.2
                          }
                        },
                        "type": "barpolar"
                      }
                    ],
                    "carpet": [
                      {
                        "aaxis": {
                          "endlinecolor": "#2a3f5f",
                          "gridcolor": "white",
                          "linecolor": "white",
                          "minorgridcolor": "white",
                          "startlinecolor": "#2a3f5f"
                        },
                        "baxis": {
                          "endlinecolor": "#2a3f5f",
                          "gridcolor": "white",
                          "linecolor": "white",
                          "minorgridcolor": "white",
                          "startlinecolor": "#2a3f5f"
                        },
                        "type": "carpet"
                      }
                    ],
                    "choropleth": [
                      {
                        "colorbar": {
                          "outlinewidth": 0,
                          "ticks": ""
                        },
                        "type": "choropleth"
                      }
                    ],
                    "contour": [
                      {
                        "colorbar": {
                          "outlinewidth": 0,
                          "ticks": ""
                        },
                        "colorscale": [
                          [
                            0,
                            "#0d0887"
                          ],
                          [
                            0.1111111111111111,
                            "#46039f"
                          ],
                          [
                            0.2222222222222222,
                            "#7201a8"
                          ],
                          [
                            0.3333333333333333,
                            "#9c179e"
                          ],
                          [
                            0.4444444444444444,
                            "#bd3786"
                          ],
                          [
                            0.5555555555555556,
                            "#d8576b"
                          ],
                          [
                            0.6666666666666666,
                            "#ed7953"
                          ],
                          [
                            0.7777777777777778,
                            "#fb9f3a"
                          ],
                          [
                            0.8888888888888888,
                            "#fdca26"
                          ],
                          [
                            1,
                            "#f0f921"
                          ]
                        ],
                        "type": "contour"
                      }
                    ],
                    "contourcarpet": [
                      {
                        "colorbar": {
                          "outlinewidth": 0,
                          "ticks": ""
                        },
                        "type": "contourcarpet"
                      }
                    ],
                    "heatmap": [
                      {
                        "colorbar": {
                          "outlinewidth": 0,
                          "ticks": ""
                        },
                        "colorscale": [
                          [
                            0,
                            "#0d0887"
                          ],
                          [
                            0.1111111111111111,
                            "#46039f"
                          ],
                          [
                            0.2222222222222222,
                            "#7201a8"
                          ],
                          [
                            0.3333333333333333,
                            "#9c179e"
                          ],
                          [
                            0.4444444444444444,
                            "#bd3786"
                          ],
                          [
                            0.5555555555555556,
                            "#d8576b"
                          ],
                          [
                            0.6666666666666666,
                            "#ed7953"
                          ],
                          [
                            0.7777777777777778,
                            "#fb9f3a"
                          ],
                          [
                            0.8888888888888888,
                            "#fdca26"
                          ],
                          [
                            1,
                            "#f0f921"
                          ]
                        ],
                        "type": "heatmap"
                      }
                    ],
                    "heatmapgl": [
                      {
                        "colorbar": {
                          "outlinewidth": 0,
                          "ticks": ""
                        },
                        "colorscale": [
                          [
                            0,
                            "#0d0887"
                          ],
                          [
                            0.1111111111111111,
                            "#46039f"
                          ],
                          [
                            0.2222222222222222,
                            "#7201a8"
                          ],
                          [
                            0.3333333333333333,
                            "#9c179e"
                          ],
                          [
                            0.4444444444444444,
                            "#bd3786"
                          ],
                          [
                            0.5555555555555556,
                            "#d8576b"
                          ],
                          [
                            0.6666666666666666,
                            "#ed7953"
                          ],
                          [
                            0.7777777777777778,
                            "#fb9f3a"
                          ],
                          [
                            0.8888888888888888,
                            "#fdca26"
                          ],
                          [
                            1,
                            "#f0f921"
                          ]
                        ],
                        "type": "heatmapgl"
                      }
                    ],
                    "histogram": [
                      {
                        "marker": {
                          "pattern": {
                            "fillmode": "overlay",
                            "size": 10,
                            "solidity": 0.2
                          }
                        },
                        "type": "histogram"
                      }
                    ],
                    "histogram2d": [
                      {
                        "colorbar": {
                          "outlinewidth": 0,
                          "ticks": ""
                        },
                        "colorscale": [
                          [
                            0,
                            "#0d0887"
                          ],
                          [
                            0.1111111111111111,
                            "#46039f"
                          ],
                          [
                            0.2222222222222222,
                            "#7201a8"
                          ],
                          [
                            0.3333333333333333,
                            "#9c179e"
                          ],
                          [
                            0.4444444444444444,
                            "#bd3786"
                          ],
                          [
                            0.5555555555555556,
                            "#d8576b"
                          ],
                          [
                            0.6666666666666666,
                            "#ed7953"
                          ],
                          [
                            0.7777777777777778,
                            "#fb9f3a"
                          ],
                          [
                            0.8888888888888888,
                            "#fdca26"
                          ],
                          [
                            1,
                            "#f0f921"
                          ]
                        ],
                        "type": "histogram2d"
                      }
                    ],
                    "histogram2dcontour": [
                      {
                        "colorbar": {
                          "outlinewidth": 0,
                          "ticks": ""
                        },
                        "colorscale": [
                          [
                            0,
                            "#0d0887"
                          ],
                          [
                            0.1111111111111111,
                            "#46039f"
                          ],
                          [
                            0.2222222222222222,
                            "#7201a8"
                          ],
                          [
                            0.3333333333333333,
                            "#9c179e"
                          ],
                          [
                            0.4444444444444444,
                            "#bd3786"
                          ],
                          [
                            0.5555555555555556,
                            "#d8576b"
                          ],
                          [
                            0.6666666666666666,
                            "#ed7953"
                          ],
                          [
                            0.7777777777777778,
                            "#fb9f3a"
                          ],
                          [
                            0.8888888888888888,
                            "#fdca26"
                          ],
                          [
                            1,
                            "#f0f921"
                          ]
                        ],
                        "type": "histogram2dcontour"
                      }
                    ],
                    "mesh3d": [
                      {
                        "colorbar": {
                          "outlinewidth": 0,
                          "ticks": ""
                        },
                        "type": "mesh3d"
                      }
                    ],
                    "parcoords": [
                      {
                        "line": {
                          "colorbar": {
                            "outlinewidth": 0,
                            "ticks": ""
                          }
                        },
                        "type": "parcoords"
                      }
                    ],
                    "pie": [
                      {
                        "automargin": true,
                        "type": "pie"
                      }
                    ],
                    "scatter": [
                      {
                        "fillpattern": {
                          "fillmode": "overlay",
                          "size": 10,
                          "solidity": 0.2
                        },
                        "type": "scatter"
                      }
                    ],
                    "scatter3d": [
                      {
                        "line": {
                          "colorbar": {
                            "outlinewidth": 0,
                            "ticks": ""
                          }
                        },
                        "marker": {
                          "colorbar": {
                            "outlinewidth": 0,
                            "ticks": ""
                          }
                        },
                        "type": "scatter3d"
                      }
                    ],
                    "scattercarpet": [
                      {
                        "marker": {
                          "colorbar": {
                            "outlinewidth": 0,
                            "ticks": ""
                          }
                        },
                        "type": "scattercarpet"
                      }
                    ],
                    "scattergeo": [
                      {
                        "marker": {
                          "colorbar": {
                            "outlinewidth": 0,
                            "ticks": ""
                          }
                        },
                        "type": "scattergeo"
                      }
                    ],
                    "scattergl": [
                      {
                        "marker": {
                          "colorbar": {
                            "outlinewidth": 0,
                            "ticks": ""
                          }
                        },
                        "type": "scattergl"
                      }
                    ],
                    "scattermapbox": [
                      {
                        "marker": {
                          "colorbar": {
                            "outlinewidth": 0,
                            "ticks": ""
                          }
                        },
                        "type": "scattermapbox"
                      }
                    ],
                    "scatterpolar": [
                      {
                        "marker": {
                          "colorbar": {
                            "outlinewidth": 0,
                            "ticks": ""
                          }
                        },
                        "type": "scatterpolar"
                      }
                    ],
                    "scatterpolargl": [
                      {
                        "marker": {
                          "colorbar": {
                            "outlinewidth": 0,
                            "ticks": ""
                          }
                        },
                        "type": "scatterpolargl"
                      }
                    ],
                    "scatterternary": [
                      {
                        "marker": {
                          "colorbar": {
                            "outlinewidth": 0,
                            "ticks": ""
                          }
                        },
                        "type": "scatterternary"
                      }
                    ],
                    "surface": [
                      {
                        "colorbar": {
                          "outlinewidth": 0,
                          "ticks": ""
                        },
                        "colorscale": [
                          [
                            0,
                            "#0d0887"
                          ],
                          [
                            0.1111111111111111,
                            "#46039f"
                          ],
                          [
                            0.2222222222222222,
                            "#7201a8"
                          ],
                          [
                            0.3333333333333333,
                            "#9c179e"
                          ],
                          [
                            0.4444444444444444,
                            "#bd3786"
                          ],
                          [
                            0.5555555555555556,
                            "#d8576b"
                          ],
                          [
                            0.6666666666666666,
                            "#ed7953"
                          ],
                          [
                            0.7777777777777778,
                            "#fb9f3a"
                          ],
                          [
                            0.8888888888888888,
                            "#fdca26"
                          ],
                          [
                            1,
                            "#f0f921"
                          ]
                        ],
                        "type": "surface"
                      }
                    ],
                    "table": [
                      {
                        "cells": {
                          "fill": {
                            "color": "#EBF0F8"
                          },
                          "line": {
                            "color": "white"
                          }
                        },
                        "header": {
                          "fill": {
                            "color": "#C8D4E3"
                          },
                          "line": {
                            "color": "white"
                          }
                        },
                        "type": "table"
                      }
                    ]
                  },
                  "layout": {
                    "annotationdefaults": {
                      "arrowcolor": "#2a3f5f",
                      "arrowhead": 0,
                      "arrowwidth": 1
                    },
                    "autotypenumbers": "strict",
                    "coloraxis": {
                      "colorbar": {
                        "outlinewidth": 0,
                        "ticks": ""
                      }
                    },
                    "colorscale": {
                      "diverging": [
                        [
                          0,
                          "#8e0152"
                        ],
                        [
                          0.1,
                          "#c51b7d"
                        ],
                        [
                          0.2,
                          "#de77ae"
                        ],
                        [
                          0.3,
                          "#f1b6da"
                        ],
                        [
                          0.4,
                          "#fde0ef"
                        ],
                        [
                          0.5,
                          "#f7f7f7"
                        ],
                        [
                          0.6,
                          "#e6f5d0"
                        ],
                        [
                          0.7,
                          "#b8e186"
                        ],
                        [
                          0.8,
                          "#7fbc41"
                        ],
                        [
                          0.9,
                          "#4d9221"
                        ],
                        [
                          1,
                          "#276419"
                        ]
                      ],
                      "sequential": [
                        [
                          0,
                          "#0d0887"
                        ],
                        [
                          0.1111111111111111,
                          "#46039f"
                        ],
                        [
                          0.2222222222222222,
                          "#7201a8"
                        ],
                        [
                          0.3333333333333333,
                          "#9c179e"
                        ],
                        [
                          0.4444444444444444,
                          "#bd3786"
                        ],
                        [
                          0.5555555555555556,
                          "#d8576b"
                        ],
                        [
                          0.6666666666666666,
                          "#ed7953"
                        ],
                        [
                          0.7777777777777778,
                          "#fb9f3a"
                        ],
                        [
                          0.8888888888888888,
                          "#fdca26"
                        ],
                        [
                          1,
                          "#f0f921"
                        ]
                      ],
                      "sequentialminus": [
                        [
                          0,
                          "#0d0887"
                        ],
                        [
                          0.1111111111111111,
                          "#46039f"
                        ],
                        [
                          0.2222222222222222,
                          "#7201a8"
                        ],
                        [
                          0.3333333333333333,
                          "#9c179e"
                        ],
                        [
                          0.4444444444444444,
                          "#bd3786"
                        ],
                        [
                          0.5555555555555556,
                          "#d8576b"
                        ],
                        [
                          0.6666666666666666,
                          "#ed7953"
                        ],
                        [
                          0.7777777777777778,
                          "#fb9f3a"
                        ],
                        [
                          0.8888888888888888,
                          "#fdca26"
                        ],
                        [
                          1,
                          "#f0f921"
                        ]
                      ]
                    },
                    "colorway": [
                      "#636efa",
                      "#EF553B",
                      "#00cc96",
                      "#ab63fa",
                      "#FFA15A",
                      "#19d3f3",
                      "#FF6692",
                      "#B6E880",
                      "#FF97FF",
                      "#FECB52"
                    ],
                    "font": {
                      "color": "#2a3f5f"
                    },
                    "geo": {
                      "bgcolor": "white",
                      "lakecolor": "white",
                      "landcolor": "#E5ECF6",
                      "showlakes": true,
                      "showland": true,
                      "subunitcolor": "white"
                    },
                    "hoverlabel": {
                      "align": "left"
                    },
                    "hovermode": "closest",
                    "mapbox": {
                      "style": "light"
                    },
                    "paper_bgcolor": "white",
                    "plot_bgcolor": "#E5ECF6",
                    "polar": {
                      "angularaxis": {
                        "gridcolor": "white",
                        "linecolor": "white",
                        "ticks": ""
                      },
                      "bgcolor": "#E5ECF6",
                      "radialaxis": {
                        "gridcolor": "white",
                        "linecolor": "white",
                        "ticks": ""
                      }
                    },
                    "scene": {
                      "xaxis": {
                        "backgroundcolor": "#E5ECF6",
                        "gridcolor": "white",
                        "gridwidth": 2,
                        "linecolor": "white",
                        "showbackground": true,
                        "ticks": "",
                        "zerolinecolor": "white"
                      },
                      "yaxis": {
                        "backgroundcolor": "#E5ECF6",
                        "gridcolor": "white",
                        "gridwidth": 2,
                        "linecolor": "white",
                        "showbackground": true,
                        "ticks": "",
                        "zerolinecolor": "white"
                      },
                      "zaxis": {
                        "backgroundcolor": "#E5ECF6",
                        "gridcolor": "white",
                        "gridwidth": 2,
                        "linecolor": "white",
                        "showbackground": true,
                        "ticks": "",
                        "zerolinecolor": "white"
                      }
                    },
                    "shapedefaults": {
                      "line": {
                        "color": "#2a3f5f"
                      }
                    },
                    "ternary": {
                      "aaxis": {
                        "gridcolor": "white",
                        "linecolor": "white",
                        "ticks": ""
                      },
                      "baxis": {
                        "gridcolor": "white",
                        "linecolor": "white",
                        "ticks": ""
                      },
                      "bgcolor": "#E5ECF6",
                      "caxis": {
                        "gridcolor": "white",
                        "linecolor": "white",
                        "ticks": ""
                      }
                    },
                    "title": {
                      "x": 0.05
                    },
                    "xaxis": {
                      "automargin": true,
                      "gridcolor": "white",
                      "linecolor": "white",
                      "ticks": "",
                      "title": {
                        "standoff": 15
                      },
                      "zerolinecolor": "white",
                      "zerolinewidth": 2
                    },
                    "yaxis": {
                      "automargin": true,
                      "gridcolor": "white",
                      "linecolor": "white",
                      "ticks": "",
                      "title": {
                        "standoff": 15
                      },
                      "zerolinecolor": "white",
                      "zerolinewidth": 2
                    }
                  }
                },
                "width": 500,
                "xaxis": {
                  "autorange": false,
                  "exponentformat": "e",
                  "linecolor": "black",
                  "linewidth": 1,
                  "mirror": false,
                  "range": [
                    0.00004741183103760705,
                    0.00009741853544255719
                  ],
                  "showexponent": "all",
                  "showline": true,
                  "side": "bottom",
                  "ticks": "outside",
                  "title": {
                    "text": "Birth"
                  },
                  "type": "linear",
                  "zeroline": true
                },
                "yaxis": {
                  "autorange": false,
                  "exponentformat": "e",
                  "linecolor": "black",
                  "linewidth": 1,
                  "mirror": false,
                  "range": [
                    0.00004741183103760705,
                    0.00009741853544255719
                  ],
                  "scaleanchor": "x",
                  "scaleratio": 1,
                  "showexponent": "all",
                  "showline": true,
                  "side": "left",
                  "ticks": "outside",
                  "title": {
                    "text": "Death"
                  },
                  "type": "linear",
                  "zeroline": true
                }
              }
            }
          },
          "metadata": {},
          "output_type": "display_data"
        }
      ],
      "source": [
        "overall_diagrams_plot = gtda.plotting.plot_diagram(overall_diagrams[print_obj])\n",
        "display(overall_diagrams_plot)\n",
        "overall_diagrams_plot.write_image(file = f\"{subj}/{exp}/overall_diagram.svg\", format = \"svg\")"
      ]
    },
    {
      "cell_type": "markdown",
      "metadata": {},
      "source": [
        "##### FeatureCalculator"
      ]
    },
    {
      "cell_type": "code",
      "execution_count": 70,
      "metadata": {},
      "outputs": [
        {
          "name": "stderr",
          "output_type": "stream",
          "text": [
            "100%|██████████| 1046/1046 [00:03<00:00, 316.37it/s]\n",
            "100%|██████████| 5/5 [00:00<00:00,  9.27it/s]\n",
            "100%|██████████| 1046/1046 [00:08<00:00, 128.67it/s]\n"
          ]
        },
        {
          "name": "stdout",
          "output_type": "stream",
          "text": [
            "(1046, 147)\n"
          ]
        }
      ],
      "source": [
        "overall_features = FeatureCalculator().calc_features(overall_diagrams)\n",
        "print(overall_features.shape)"
      ]
    },
    {
      "cell_type": "code",
      "execution_count": 71,
      "metadata": {},
      "outputs": [
        {
          "name": "stdout",
          "output_type": "stream",
          "text": [
            "Components: 32\n",
            "Explained variance: 0.96\n",
            "[0.327, 0.142, 0.072, 0.054, 0.053, 0.039, 0.026, 0.022, 0.02, 0.019, 0.016, 0.016, 0.015, 0.015, 0.013, 0.01, 0.01, 0.009, 0.009, 0.008, 0.008, 0.007, 0.007, 0.007, 0.006, 0.006, 0.006, 0.006, 0.005, 0.004, 0.004, 0.003]\n",
            "(1046, 32)\n"
          ]
        },
        {
          "data": {
            "text/html": [
              "<div>\n",
              "<style scoped>\n",
              "    .dataframe tbody tr th:only-of-type {\n",
              "        vertical-align: middle;\n",
              "    }\n",
              "\n",
              "    .dataframe tbody tr th {\n",
              "        vertical-align: top;\n",
              "    }\n",
              "\n",
              "    .dataframe thead th {\n",
              "        text-align: right;\n",
              "    }\n",
              "</style>\n",
              "<table border=\"1\" class=\"dataframe\">\n",
              "  <thead>\n",
              "    <tr style=\"text-align: right;\">\n",
              "      <th></th>\n",
              "      <th>0</th>\n",
              "      <th>1</th>\n",
              "      <th>2</th>\n",
              "      <th>3</th>\n",
              "      <th>4</th>\n",
              "      <th>5</th>\n",
              "      <th>6</th>\n",
              "      <th>7</th>\n",
              "      <th>8</th>\n",
              "      <th>9</th>\n",
              "      <th>...</th>\n",
              "      <th>22</th>\n",
              "      <th>23</th>\n",
              "      <th>24</th>\n",
              "      <th>25</th>\n",
              "      <th>26</th>\n",
              "      <th>27</th>\n",
              "      <th>28</th>\n",
              "      <th>29</th>\n",
              "      <th>30</th>\n",
              "      <th>31</th>\n",
              "    </tr>\n",
              "  </thead>\n",
              "  <tbody>\n",
              "    <tr>\n",
              "      <th>count</th>\n",
              "      <td>1,046.00</td>\n",
              "      <td>1,046.00</td>\n",
              "      <td>1,046.00</td>\n",
              "      <td>1,046.00</td>\n",
              "      <td>1,046.00</td>\n",
              "      <td>1,046.00</td>\n",
              "      <td>1,046.00</td>\n",
              "      <td>1,046.00</td>\n",
              "      <td>1,046.00</td>\n",
              "      <td>1,046.00</td>\n",
              "      <td>...</td>\n",
              "      <td>1,046.00</td>\n",
              "      <td>1,046.00</td>\n",
              "      <td>1,046.00</td>\n",
              "      <td>1,046.00</td>\n",
              "      <td>1,046.00</td>\n",
              "      <td>1,046.00</td>\n",
              "      <td>1,046.00</td>\n",
              "      <td>1,046.00</td>\n",
              "      <td>1,046.00</td>\n",
              "      <td>1,046.00</td>\n",
              "    </tr>\n",
              "    <tr>\n",
              "      <th>mean</th>\n",
              "      <td>0.00</td>\n",
              "      <td>-0.00</td>\n",
              "      <td>-0.00</td>\n",
              "      <td>-0.00</td>\n",
              "      <td>0.00</td>\n",
              "      <td>-0.00</td>\n",
              "      <td>-0.00</td>\n",
              "      <td>0.00</td>\n",
              "      <td>-0.00</td>\n",
              "      <td>-0.00</td>\n",
              "      <td>...</td>\n",
              "      <td>0.00</td>\n",
              "      <td>-0.00</td>\n",
              "      <td>-0.00</td>\n",
              "      <td>-0.00</td>\n",
              "      <td>-0.00</td>\n",
              "      <td>-0.00</td>\n",
              "      <td>-0.00</td>\n",
              "      <td>-0.00</td>\n",
              "      <td>0.00</td>\n",
              "      <td>-0.00</td>\n",
              "    </tr>\n",
              "    <tr>\n",
              "      <th>std</th>\n",
              "      <td>6.67</td>\n",
              "      <td>4.40</td>\n",
              "      <td>3.13</td>\n",
              "      <td>2.72</td>\n",
              "      <td>2.67</td>\n",
              "      <td>2.29</td>\n",
              "      <td>1.87</td>\n",
              "      <td>1.73</td>\n",
              "      <td>1.65</td>\n",
              "      <td>1.59</td>\n",
              "      <td>...</td>\n",
              "      <td>0.96</td>\n",
              "      <td>0.95</td>\n",
              "      <td>0.92</td>\n",
              "      <td>0.91</td>\n",
              "      <td>0.89</td>\n",
              "      <td>0.87</td>\n",
              "      <td>0.81</td>\n",
              "      <td>0.74</td>\n",
              "      <td>0.69</td>\n",
              "      <td>0.66</td>\n",
              "    </tr>\n",
              "    <tr>\n",
              "      <th>min</th>\n",
              "      <td>-20.32</td>\n",
              "      <td>-12.43</td>\n",
              "      <td>-13.18</td>\n",
              "      <td>-7.92</td>\n",
              "      <td>-13.03</td>\n",
              "      <td>-12.21</td>\n",
              "      <td>-8.60</td>\n",
              "      <td>-6.84</td>\n",
              "      <td>-9.46</td>\n",
              "      <td>-4.88</td>\n",
              "      <td>...</td>\n",
              "      <td>-3.26</td>\n",
              "      <td>-2.91</td>\n",
              "      <td>-2.78</td>\n",
              "      <td>-3.57</td>\n",
              "      <td>-2.94</td>\n",
              "      <td>-3.15</td>\n",
              "      <td>-2.37</td>\n",
              "      <td>-2.29</td>\n",
              "      <td>-3.28</td>\n",
              "      <td>-2.64</td>\n",
              "    </tr>\n",
              "    <tr>\n",
              "      <th>25%</th>\n",
              "      <td>-4.88</td>\n",
              "      <td>-2.98</td>\n",
              "      <td>-1.76</td>\n",
              "      <td>-1.58</td>\n",
              "      <td>-1.57</td>\n",
              "      <td>-1.37</td>\n",
              "      <td>-1.15</td>\n",
              "      <td>-1.19</td>\n",
              "      <td>-0.90</td>\n",
              "      <td>-0.93</td>\n",
              "      <td>...</td>\n",
              "      <td>-0.62</td>\n",
              "      <td>-0.59</td>\n",
              "      <td>-0.59</td>\n",
              "      <td>-0.47</td>\n",
              "      <td>-0.57</td>\n",
              "      <td>-0.59</td>\n",
              "      <td>-0.50</td>\n",
              "      <td>-0.49</td>\n",
              "      <td>-0.44</td>\n",
              "      <td>-0.43</td>\n",
              "    </tr>\n",
              "    <tr>\n",
              "      <th>50%</th>\n",
              "      <td>-0.59</td>\n",
              "      <td>-0.21</td>\n",
              "      <td>-0.08</td>\n",
              "      <td>-0.12</td>\n",
              "      <td>-0.15</td>\n",
              "      <td>-0.10</td>\n",
              "      <td>0.05</td>\n",
              "      <td>-0.15</td>\n",
              "      <td>-0.16</td>\n",
              "      <td>-0.14</td>\n",
              "      <td>...</td>\n",
              "      <td>-0.00</td>\n",
              "      <td>-0.04</td>\n",
              "      <td>0.04</td>\n",
              "      <td>0.00</td>\n",
              "      <td>0.02</td>\n",
              "      <td>-0.01</td>\n",
              "      <td>-0.04</td>\n",
              "      <td>-0.01</td>\n",
              "      <td>-0.08</td>\n",
              "      <td>-0.04</td>\n",
              "    </tr>\n",
              "    <tr>\n",
              "      <th>75%</th>\n",
              "      <td>4.15</td>\n",
              "      <td>3.08</td>\n",
              "      <td>1.78</td>\n",
              "      <td>1.46</td>\n",
              "      <td>1.27</td>\n",
              "      <td>1.26</td>\n",
              "      <td>1.05</td>\n",
              "      <td>1.08</td>\n",
              "      <td>0.80</td>\n",
              "      <td>0.77</td>\n",
              "      <td>...</td>\n",
              "      <td>0.60</td>\n",
              "      <td>0.56</td>\n",
              "      <td>0.56</td>\n",
              "      <td>0.50</td>\n",
              "      <td>0.57</td>\n",
              "      <td>0.58</td>\n",
              "      <td>0.44</td>\n",
              "      <td>0.45</td>\n",
              "      <td>0.38</td>\n",
              "      <td>0.34</td>\n",
              "    </tr>\n",
              "    <tr>\n",
              "      <th>max</th>\n",
              "      <td>25.07</td>\n",
              "      <td>15.66</td>\n",
              "      <td>33.26</td>\n",
              "      <td>35.28</td>\n",
              "      <td>17.54</td>\n",
              "      <td>16.88</td>\n",
              "      <td>8.96</td>\n",
              "      <td>10.28</td>\n",
              "      <td>26.82</td>\n",
              "      <td>16.34</td>\n",
              "      <td>...</td>\n",
              "      <td>4.64</td>\n",
              "      <td>3.86</td>\n",
              "      <td>3.70</td>\n",
              "      <td>4.38</td>\n",
              "      <td>3.61</td>\n",
              "      <td>3.89</td>\n",
              "      <td>3.51</td>\n",
              "      <td>2.58</td>\n",
              "      <td>3.51</td>\n",
              "      <td>4.12</td>\n",
              "    </tr>\n",
              "  </tbody>\n",
              "</table>\n",
              "<p>8 rows × 32 columns</p>\n",
              "</div>"
            ],
            "text/plain": [
              "            0        1        2        3        4        5        6        7   \\\n",
              "count 1,046.00 1,046.00 1,046.00 1,046.00 1,046.00 1,046.00 1,046.00 1,046.00   \n",
              "mean      0.00    -0.00    -0.00    -0.00     0.00    -0.00    -0.00     0.00   \n",
              "std       6.67     4.40     3.13     2.72     2.67     2.29     1.87     1.73   \n",
              "min     -20.32   -12.43   -13.18    -7.92   -13.03   -12.21    -8.60    -6.84   \n",
              "25%      -4.88    -2.98    -1.76    -1.58    -1.57    -1.37    -1.15    -1.19   \n",
              "50%      -0.59    -0.21    -0.08    -0.12    -0.15    -0.10     0.05    -0.15   \n",
              "75%       4.15     3.08     1.78     1.46     1.27     1.26     1.05     1.08   \n",
              "max      25.07    15.66    33.26    35.28    17.54    16.88     8.96    10.28   \n",
              "\n",
              "            8        9   ...       22       23       24       25       26  \\\n",
              "count 1,046.00 1,046.00  ... 1,046.00 1,046.00 1,046.00 1,046.00 1,046.00   \n",
              "mean     -0.00    -0.00  ...     0.00    -0.00    -0.00    -0.00    -0.00   \n",
              "std       1.65     1.59  ...     0.96     0.95     0.92     0.91     0.89   \n",
              "min      -9.46    -4.88  ...    -3.26    -2.91    -2.78    -3.57    -2.94   \n",
              "25%      -0.90    -0.93  ...    -0.62    -0.59    -0.59    -0.47    -0.57   \n",
              "50%      -0.16    -0.14  ...    -0.00    -0.04     0.04     0.00     0.02   \n",
              "75%       0.80     0.77  ...     0.60     0.56     0.56     0.50     0.57   \n",
              "max      26.82    16.34  ...     4.64     3.86     3.70     4.38     3.61   \n",
              "\n",
              "            27       28       29       30       31  \n",
              "count 1,046.00 1,046.00 1,046.00 1,046.00 1,046.00  \n",
              "mean     -0.00    -0.00    -0.00     0.00    -0.00  \n",
              "std       0.87     0.81     0.74     0.69     0.66  \n",
              "min      -3.15    -2.37    -2.29    -3.28    -2.64  \n",
              "25%      -0.59    -0.50    -0.49    -0.44    -0.43  \n",
              "50%      -0.01    -0.04    -0.01    -0.08    -0.04  \n",
              "75%       0.58     0.44     0.45     0.38     0.34  \n",
              "max       3.89     3.51     2.58     3.51     4.12  \n",
              "\n",
              "[8 rows x 32 columns]"
            ]
          },
          "execution_count": 71,
          "metadata": {},
          "output_type": "execute_result"
        }
      ],
      "source": [
        "overall_features_pca = FeatureCalculator().pca(overall_features, scale = True, n_comp = 32)\n",
        "print(overall_features_pca.shape)\n",
        "pandas.DataFrame(overall_features_pca).describe()"
      ]
    },
    {
      "cell_type": "markdown",
      "metadata": {},
      "source": [
        "#### Features"
      ]
    },
    {
      "cell_type": "code",
      "execution_count": 194,
      "metadata": {},
      "outputs": [
        {
          "data": {
            "text/html": [
              "<div>\n",
              "<style scoped>\n",
              "    .dataframe tbody tr th:only-of-type {\n",
              "        vertical-align: middle;\n",
              "    }\n",
              "\n",
              "    .dataframe tbody tr th {\n",
              "        vertical-align: top;\n",
              "    }\n",
              "\n",
              "    .dataframe thead th {\n",
              "        text-align: right;\n",
              "    }\n",
              "</style>\n",
              "<table border=\"1\" class=\"dataframe\">\n",
              "  <thead>\n",
              "    <tr style=\"text-align: right;\">\n",
              "      <th></th>\n",
              "      <th>feature-0 betti-1 max</th>\n",
              "      <th>feature-0 betti-1 mean</th>\n",
              "      <th>feature-0 betti-1 std</th>\n",
              "      <th>feature-0 betti-1 sum</th>\n",
              "      <th>feature-0 betti-1 norm</th>\n",
              "      <th>feature-0 betti-1 percentile-25</th>\n",
              "      <th>feature-0 betti-1 median</th>\n",
              "      <th>feature-0 betti-1 percentile-75</th>\n",
              "      <th>feature-0 betti-1 percentile-90</th>\n",
              "      <th>feature-0 betti-1 kurtosis</th>\n",
              "      <th>...</th>\n",
              "      <th>bd2-3 mean</th>\n",
              "      <th>bd2-3 std</th>\n",
              "      <th>bd2-3 sum</th>\n",
              "      <th>bd2-3 norm</th>\n",
              "      <th>bd2-3 percentile-25</th>\n",
              "      <th>bd2-3 median</th>\n",
              "      <th>bd2-3 percentile-75</th>\n",
              "      <th>bd2-3 percentile-90</th>\n",
              "      <th>bd2-3 kurtosis</th>\n",
              "      <th>bd2-3 skew</th>\n",
              "    </tr>\n",
              "  </thead>\n",
              "  <tbody>\n",
              "    <tr>\n",
              "      <th>0</th>\n",
              "      <td>18.00</td>\n",
              "      <td>0.00</td>\n",
              "      <td>3.10</td>\n",
              "      <td>0.00</td>\n",
              "      <td>30.82</td>\n",
              "      <td>0.00</td>\n",
              "      <td>0.00</td>\n",
              "      <td>0.00</td>\n",
              "      <td>0.00</td>\n",
              "      <td>19.58</td>\n",
              "      <td>...</td>\n",
              "      <td>0.00</td>\n",
              "      <td>0.00</td>\n",
              "      <td>0.00</td>\n",
              "      <td>0.00</td>\n",
              "      <td>0.00</td>\n",
              "      <td>0.00</td>\n",
              "      <td>0.00</td>\n",
              "      <td>0.00</td>\n",
              "      <td>-2.00</td>\n",
              "      <td>0.00</td>\n",
              "    </tr>\n",
              "    <tr>\n",
              "      <th>1</th>\n",
              "      <td>25.00</td>\n",
              "      <td>0.00</td>\n",
              "      <td>3.68</td>\n",
              "      <td>0.00</td>\n",
              "      <td>36.66</td>\n",
              "      <td>0.00</td>\n",
              "      <td>0.00</td>\n",
              "      <td>0.00</td>\n",
              "      <td>0.00</td>\n",
              "      <td>34.48</td>\n",
              "      <td>...</td>\n",
              "      <td>0.00</td>\n",
              "      <td>0.00</td>\n",
              "      <td>0.00</td>\n",
              "      <td>0.00</td>\n",
              "      <td>0.00</td>\n",
              "      <td>0.00</td>\n",
              "      <td>0.00</td>\n",
              "      <td>0.00</td>\n",
              "      <td>-1.50</td>\n",
              "      <td>-0.50</td>\n",
              "    </tr>\n",
              "    <tr>\n",
              "      <th>2</th>\n",
              "      <td>15.00</td>\n",
              "      <td>0.00</td>\n",
              "      <td>2.60</td>\n",
              "      <td>0.00</td>\n",
              "      <td>25.85</td>\n",
              "      <td>0.00</td>\n",
              "      <td>0.00</td>\n",
              "      <td>0.00</td>\n",
              "      <td>0.00</td>\n",
              "      <td>22.20</td>\n",
              "      <td>...</td>\n",
              "      <td>0.00</td>\n",
              "      <td>0.00</td>\n",
              "      <td>0.00</td>\n",
              "      <td>0.00</td>\n",
              "      <td>0.00</td>\n",
              "      <td>0.00</td>\n",
              "      <td>0.00</td>\n",
              "      <td>0.00</td>\n",
              "      <td>-1.50</td>\n",
              "      <td>0.36</td>\n",
              "    </tr>\n",
              "    <tr>\n",
              "      <th>3</th>\n",
              "      <td>7.00</td>\n",
              "      <td>0.00</td>\n",
              "      <td>1.52</td>\n",
              "      <td>0.00</td>\n",
              "      <td>15.10</td>\n",
              "      <td>0.00</td>\n",
              "      <td>0.00</td>\n",
              "      <td>0.00</td>\n",
              "      <td>0.00</td>\n",
              "      <td>18.44</td>\n",
              "      <td>...</td>\n",
              "      <td>0.00</td>\n",
              "      <td>0.00</td>\n",
              "      <td>0.00</td>\n",
              "      <td>0.00</td>\n",
              "      <td>0.00</td>\n",
              "      <td>0.00</td>\n",
              "      <td>0.00</td>\n",
              "      <td>0.00</td>\n",
              "      <td>-1.50</td>\n",
              "      <td>-0.71</td>\n",
              "    </tr>\n",
              "    <tr>\n",
              "      <th>4</th>\n",
              "      <td>6.00</td>\n",
              "      <td>0.00</td>\n",
              "      <td>1.46</td>\n",
              "      <td>0.00</td>\n",
              "      <td>14.56</td>\n",
              "      <td>0.00</td>\n",
              "      <td>0.00</td>\n",
              "      <td>0.00</td>\n",
              "      <td>0.00</td>\n",
              "      <td>19.12</td>\n",
              "      <td>...</td>\n",
              "      <td>0.00</td>\n",
              "      <td>0.00</td>\n",
              "      <td>0.00</td>\n",
              "      <td>0.00</td>\n",
              "      <td>0.00</td>\n",
              "      <td>0.00</td>\n",
              "      <td>0.00</td>\n",
              "      <td>0.00</td>\n",
              "      <td>0.00</td>\n",
              "      <td>0.00</td>\n",
              "    </tr>\n",
              "    <tr>\n",
              "      <th>...</th>\n",
              "      <td>...</td>\n",
              "      <td>...</td>\n",
              "      <td>...</td>\n",
              "      <td>...</td>\n",
              "      <td>...</td>\n",
              "      <td>...</td>\n",
              "      <td>...</td>\n",
              "      <td>...</td>\n",
              "      <td>...</td>\n",
              "      <td>...</td>\n",
              "      <td>...</td>\n",
              "      <td>...</td>\n",
              "      <td>...</td>\n",
              "      <td>...</td>\n",
              "      <td>...</td>\n",
              "      <td>...</td>\n",
              "      <td>...</td>\n",
              "      <td>...</td>\n",
              "      <td>...</td>\n",
              "      <td>...</td>\n",
              "      <td>...</td>\n",
              "    </tr>\n",
              "    <tr>\n",
              "      <th>1041</th>\n",
              "      <td>13.00</td>\n",
              "      <td>0.00</td>\n",
              "      <td>1.65</td>\n",
              "      <td>0.00</td>\n",
              "      <td>16.37</td>\n",
              "      <td>0.00</td>\n",
              "      <td>0.00</td>\n",
              "      <td>0.00</td>\n",
              "      <td>0.00</td>\n",
              "      <td>38.08</td>\n",
              "      <td>...</td>\n",
              "      <td>0.00</td>\n",
              "      <td>0.00</td>\n",
              "      <td>0.00</td>\n",
              "      <td>0.00</td>\n",
              "      <td>0.00</td>\n",
              "      <td>0.00</td>\n",
              "      <td>0.00</td>\n",
              "      <td>0.00</td>\n",
              "      <td>-1.51</td>\n",
              "      <td>0.04</td>\n",
              "    </tr>\n",
              "    <tr>\n",
              "      <th>1042</th>\n",
              "      <td>6.00</td>\n",
              "      <td>0.00</td>\n",
              "      <td>0.95</td>\n",
              "      <td>0.00</td>\n",
              "      <td>9.49</td>\n",
              "      <td>0.00</td>\n",
              "      <td>0.00</td>\n",
              "      <td>0.00</td>\n",
              "      <td>0.00</td>\n",
              "      <td>18.19</td>\n",
              "      <td>...</td>\n",
              "      <td>0.00</td>\n",
              "      <td>0.00</td>\n",
              "      <td>0.00</td>\n",
              "      <td>0.00</td>\n",
              "      <td>0.00</td>\n",
              "      <td>0.00</td>\n",
              "      <td>0.00</td>\n",
              "      <td>0.00</td>\n",
              "      <td>-1.79</td>\n",
              "      <td>0.43</td>\n",
              "    </tr>\n",
              "    <tr>\n",
              "      <th>1043</th>\n",
              "      <td>11.00</td>\n",
              "      <td>0.00</td>\n",
              "      <td>1.92</td>\n",
              "      <td>0.00</td>\n",
              "      <td>19.08</td>\n",
              "      <td>0.00</td>\n",
              "      <td>0.00</td>\n",
              "      <td>0.00</td>\n",
              "      <td>0.00</td>\n",
              "      <td>21.42</td>\n",
              "      <td>...</td>\n",
              "      <td>0.00</td>\n",
              "      <td>0.00</td>\n",
              "      <td>0.00</td>\n",
              "      <td>0.00</td>\n",
              "      <td>0.00</td>\n",
              "      <td>0.00</td>\n",
              "      <td>0.00</td>\n",
              "      <td>0.00</td>\n",
              "      <td>0.00</td>\n",
              "      <td>0.00</td>\n",
              "    </tr>\n",
              "    <tr>\n",
              "      <th>1044</th>\n",
              "      <td>5.00</td>\n",
              "      <td>0.00</td>\n",
              "      <td>0.86</td>\n",
              "      <td>0.00</td>\n",
              "      <td>8.60</td>\n",
              "      <td>0.00</td>\n",
              "      <td>0.00</td>\n",
              "      <td>0.00</td>\n",
              "      <td>0.00</td>\n",
              "      <td>15.91</td>\n",
              "      <td>...</td>\n",
              "      <td>0.00</td>\n",
              "      <td>0.00</td>\n",
              "      <td>0.00</td>\n",
              "      <td>0.00</td>\n",
              "      <td>0.00</td>\n",
              "      <td>0.00</td>\n",
              "      <td>0.00</td>\n",
              "      <td>0.00</td>\n",
              "      <td>0.00</td>\n",
              "      <td>0.00</td>\n",
              "    </tr>\n",
              "    <tr>\n",
              "      <th>1045</th>\n",
              "      <td>3.00</td>\n",
              "      <td>0.00</td>\n",
              "      <td>0.67</td>\n",
              "      <td>0.00</td>\n",
              "      <td>6.63</td>\n",
              "      <td>0.00</td>\n",
              "      <td>0.00</td>\n",
              "      <td>0.00</td>\n",
              "      <td>0.00</td>\n",
              "      <td>8.45</td>\n",
              "      <td>...</td>\n",
              "      <td>0.00</td>\n",
              "      <td>0.00</td>\n",
              "      <td>0.00</td>\n",
              "      <td>0.00</td>\n",
              "      <td>0.00</td>\n",
              "      <td>0.00</td>\n",
              "      <td>0.00</td>\n",
              "      <td>0.00</td>\n",
              "      <td>-2.00</td>\n",
              "      <td>0.00</td>\n",
              "    </tr>\n",
              "  </tbody>\n",
              "</table>\n",
              "<p>1046 rows × 4427 columns</p>\n",
              "</div>"
            ],
            "text/plain": [
              "      feature-0 betti-1 max  feature-0 betti-1 mean  feature-0 betti-1 std  \\\n",
              "0                     18.00                    0.00                   3.10   \n",
              "1                     25.00                    0.00                   3.68   \n",
              "2                     15.00                    0.00                   2.60   \n",
              "3                      7.00                    0.00                   1.52   \n",
              "4                      6.00                    0.00                   1.46   \n",
              "...                     ...                     ...                    ...   \n",
              "1041                  13.00                    0.00                   1.65   \n",
              "1042                   6.00                    0.00                   0.95   \n",
              "1043                  11.00                    0.00                   1.92   \n",
              "1044                   5.00                    0.00                   0.86   \n",
              "1045                   3.00                    0.00                   0.67   \n",
              "\n",
              "      feature-0 betti-1 sum  feature-0 betti-1 norm  \\\n",
              "0                      0.00                   30.82   \n",
              "1                      0.00                   36.66   \n",
              "2                      0.00                   25.85   \n",
              "3                      0.00                   15.10   \n",
              "4                      0.00                   14.56   \n",
              "...                     ...                     ...   \n",
              "1041                   0.00                   16.37   \n",
              "1042                   0.00                    9.49   \n",
              "1043                   0.00                   19.08   \n",
              "1044                   0.00                    8.60   \n",
              "1045                   0.00                    6.63   \n",
              "\n",
              "      feature-0 betti-1 percentile-25  feature-0 betti-1 median  \\\n",
              "0                                0.00                      0.00   \n",
              "1                                0.00                      0.00   \n",
              "2                                0.00                      0.00   \n",
              "3                                0.00                      0.00   \n",
              "4                                0.00                      0.00   \n",
              "...                               ...                       ...   \n",
              "1041                             0.00                      0.00   \n",
              "1042                             0.00                      0.00   \n",
              "1043                             0.00                      0.00   \n",
              "1044                             0.00                      0.00   \n",
              "1045                             0.00                      0.00   \n",
              "\n",
              "      feature-0 betti-1 percentile-75  feature-0 betti-1 percentile-90  \\\n",
              "0                                0.00                             0.00   \n",
              "1                                0.00                             0.00   \n",
              "2                                0.00                             0.00   \n",
              "3                                0.00                             0.00   \n",
              "4                                0.00                             0.00   \n",
              "...                               ...                              ...   \n",
              "1041                             0.00                             0.00   \n",
              "1042                             0.00                             0.00   \n",
              "1043                             0.00                             0.00   \n",
              "1044                             0.00                             0.00   \n",
              "1045                             0.00                             0.00   \n",
              "\n",
              "      feature-0 betti-1 kurtosis  ...   bd2-3 mean   bd2-3 std   bd2-3 sum  \\\n",
              "0                          19.58  ...         0.00        0.00        0.00   \n",
              "1                          34.48  ...         0.00        0.00        0.00   \n",
              "2                          22.20  ...         0.00        0.00        0.00   \n",
              "3                          18.44  ...         0.00        0.00        0.00   \n",
              "4                          19.12  ...         0.00        0.00        0.00   \n",
              "...                          ...  ...          ...         ...         ...   \n",
              "1041                       38.08  ...         0.00        0.00        0.00   \n",
              "1042                       18.19  ...         0.00        0.00        0.00   \n",
              "1043                       21.42  ...         0.00        0.00        0.00   \n",
              "1044                       15.91  ...         0.00        0.00        0.00   \n",
              "1045                        8.45  ...         0.00        0.00        0.00   \n",
              "\n",
              "       bd2-3 norm   bd2-3 percentile-25   bd2-3 median   bd2-3 percentile-75  \\\n",
              "0            0.00                  0.00           0.00                  0.00   \n",
              "1            0.00                  0.00           0.00                  0.00   \n",
              "2            0.00                  0.00           0.00                  0.00   \n",
              "3            0.00                  0.00           0.00                  0.00   \n",
              "4            0.00                  0.00           0.00                  0.00   \n",
              "...           ...                   ...            ...                   ...   \n",
              "1041         0.00                  0.00           0.00                  0.00   \n",
              "1042         0.00                  0.00           0.00                  0.00   \n",
              "1043         0.00                  0.00           0.00                  0.00   \n",
              "1044         0.00                  0.00           0.00                  0.00   \n",
              "1045         0.00                  0.00           0.00                  0.00   \n",
              "\n",
              "       bd2-3 percentile-90   bd2-3 kurtosis   bd2-3 skew  \n",
              "0                     0.00            -2.00         0.00  \n",
              "1                     0.00            -1.50        -0.50  \n",
              "2                     0.00            -1.50         0.36  \n",
              "3                     0.00            -1.50        -0.71  \n",
              "4                     0.00             0.00         0.00  \n",
              "...                    ...              ...          ...  \n",
              "1041                  0.00            -1.51         0.04  \n",
              "1042                  0.00            -1.79         0.43  \n",
              "1043                  0.00             0.00         0.00  \n",
              "1044                  0.00             0.00         0.00  \n",
              "1045                  0.00            -2.00         0.00  \n",
              "\n",
              "[1046 rows x 4427 columns]"
            ]
          },
          "execution_count": 194,
          "metadata": {},
          "output_type": "execute_result"
        }
      ],
      "source": [
        "features = pandas.concat([\n",
        "    channel_features,\n",
        "    # dissim_features,\n",
        "    overall_features\n",
        "], axis = 1)\n",
        "features"
      ]
    },
    {
      "cell_type": "markdown",
      "metadata": {},
      "source": [
        "##### Information value analysis"
      ]
    },
    {
      "cell_type": "code",
      "execution_count": 195,
      "metadata": {},
      "outputs": [
        {
          "name": "stderr",
          "output_type": "stream",
          "text": [
            "100%|██████████| 4427/4427 [02:15<00:00, 32.55it/s]\n"
          ]
        },
        {
          "data": {
            "text/html": [
              "<div>\n",
              "<style scoped>\n",
              "    .dataframe tbody tr th:only-of-type {\n",
              "        vertical-align: middle;\n",
              "    }\n",
              "\n",
              "    .dataframe tbody tr th {\n",
              "        vertical-align: top;\n",
              "    }\n",
              "\n",
              "    .dataframe thead th {\n",
              "        text-align: right;\n",
              "    }\n",
              "</style>\n",
              "<table border=\"1\" class=\"dataframe\">\n",
              "  <thead>\n",
              "    <tr style=\"text-align: right;\">\n",
              "      <th></th>\n",
              "      <th>Feature</th>\n",
              "      <th>IV</th>\n",
              "      <th>IVs</th>\n",
              "    </tr>\n",
              "  </thead>\n",
              "  <tbody>\n",
              "    <tr>\n",
              "      <th>0</th>\n",
              "      <td>feature-0 betti-1 max</td>\n",
              "      <td>0.34</td>\n",
              "      <td>[1.0004587531242026, 0.08053502910135103, 0.09...</td>\n",
              "    </tr>\n",
              "    <tr>\n",
              "      <th>1</th>\n",
              "      <td>feature-0 betti-1 mean</td>\n",
              "      <td>0.00</td>\n",
              "      <td>[0.0, 0.0, 0.0, 0.0, 0.0, 0.0, 0.0, 0.0, 0.0]</td>\n",
              "    </tr>\n",
              "    <tr>\n",
              "      <th>2</th>\n",
              "      <td>feature-0 betti-1 std</td>\n",
              "      <td>0.43</td>\n",
              "      <td>[1.0698235334030444, 0.08966770679522124, 0.16...</td>\n",
              "    </tr>\n",
              "    <tr>\n",
              "      <th>3</th>\n",
              "      <td>feature-0 betti-1 sum</td>\n",
              "      <td>0.00</td>\n",
              "      <td>[0.0, 0.0, 0.0, 0.0, 0.0, 0.0, 0.0, 0.0, 0.0]</td>\n",
              "    </tr>\n",
              "    <tr>\n",
              "      <th>4</th>\n",
              "      <td>feature-0 betti-1 norm</td>\n",
              "      <td>0.43</td>\n",
              "      <td>[1.0698235334030444, 0.08966770679522124, 0.16...</td>\n",
              "    </tr>\n",
              "    <tr>\n",
              "      <th>...</th>\n",
              "      <td>...</td>\n",
              "      <td>...</td>\n",
              "      <td>...</td>\n",
              "    </tr>\n",
              "    <tr>\n",
              "      <th>4422</th>\n",
              "      <td>bd2-3 median</td>\n",
              "      <td>0.64</td>\n",
              "      <td>[1.301713119990417, 0.05357095235083358, 0.667...</td>\n",
              "    </tr>\n",
              "    <tr>\n",
              "      <th>4423</th>\n",
              "      <td>bd2-3 percentile-75</td>\n",
              "      <td>0.64</td>\n",
              "      <td>[1.0813731043595727, 0.05181885365600019, 0.68...</td>\n",
              "    </tr>\n",
              "    <tr>\n",
              "      <th>4424</th>\n",
              "      <td>bd2-3 percentile-90</td>\n",
              "      <td>0.64</td>\n",
              "      <td>[1.1599392478856263, 0.038565777475690864, 0.6...</td>\n",
              "    </tr>\n",
              "    <tr>\n",
              "      <th>4425</th>\n",
              "      <td>bd2-3 kurtosis</td>\n",
              "      <td>0.15</td>\n",
              "      <td>[0.12773364185779043, 0.027045161869517692, 0....</td>\n",
              "    </tr>\n",
              "    <tr>\n",
              "      <th>4426</th>\n",
              "      <td>bd2-3 skew</td>\n",
              "      <td>0.14</td>\n",
              "      <td>[0.026179593146680915, 0.013248895490257168, 0...</td>\n",
              "    </tr>\n",
              "  </tbody>\n",
              "</table>\n",
              "<p>4427 rows × 3 columns</p>\n",
              "</div>"
            ],
            "text/plain": [
              "                     Feature   IV  \\\n",
              "0      feature-0 betti-1 max 0.34   \n",
              "1     feature-0 betti-1 mean 0.00   \n",
              "2      feature-0 betti-1 std 0.43   \n",
              "3      feature-0 betti-1 sum 0.00   \n",
              "4     feature-0 betti-1 norm 0.43   \n",
              "...                      ...  ...   \n",
              "4422            bd2-3 median 0.64   \n",
              "4423     bd2-3 percentile-75 0.64   \n",
              "4424     bd2-3 percentile-90 0.64   \n",
              "4425          bd2-3 kurtosis 0.15   \n",
              "4426              bd2-3 skew 0.14   \n",
              "\n",
              "                                                    IVs  \n",
              "0     [1.0004587531242026, 0.08053502910135103, 0.09...  \n",
              "1         [0.0, 0.0, 0.0, 0.0, 0.0, 0.0, 0.0, 0.0, 0.0]  \n",
              "2     [1.0698235334030444, 0.08966770679522124, 0.16...  \n",
              "3         [0.0, 0.0, 0.0, 0.0, 0.0, 0.0, 0.0, 0.0, 0.0]  \n",
              "4     [1.0698235334030444, 0.08966770679522124, 0.16...  \n",
              "...                                                 ...  \n",
              "4422  [1.301713119990417, 0.05357095235083358, 0.667...  \n",
              "4423  [1.0813731043595727, 0.05181885365600019, 0.68...  \n",
              "4424  [1.1599392478856263, 0.038565777475690864, 0.6...  \n",
              "4425  [0.12773364185779043, 0.027045161869517692, 0....  \n",
              "4426  [0.026179593146680915, 0.013248895490257168, 0...  \n",
              "\n",
              "[4427 rows x 3 columns]"
            ]
          },
          "execution_count": 195,
          "metadata": {},
          "output_type": "execute_result"
        }
      ],
      "source": [
        "iv = calc_IV_clust(features, labels_true)\n",
        "iv.to_csv(f\"{subj}/{exp}/iv.csv\")\n",
        "iv"
      ]
    },
    {
      "cell_type": "code",
      "execution_count": 196,
      "metadata": {},
      "outputs": [
        {
          "data": {
            "text/html": [
              "<div>\n",
              "<style scoped>\n",
              "    .dataframe tbody tr th:only-of-type {\n",
              "        vertical-align: middle;\n",
              "    }\n",
              "\n",
              "    .dataframe tbody tr th {\n",
              "        vertical-align: top;\n",
              "    }\n",
              "\n",
              "    .dataframe thead th {\n",
              "        text-align: right;\n",
              "    }\n",
              "</style>\n",
              "<table border=\"1\" class=\"dataframe\">\n",
              "  <thead>\n",
              "    <tr style=\"text-align: right;\">\n",
              "      <th></th>\n",
              "      <th>Feature</th>\n",
              "      <th>IV</th>\n",
              "      <th>IVs</th>\n",
              "    </tr>\n",
              "  </thead>\n",
              "  <tbody>\n",
              "    <tr>\n",
              "      <th>2783</th>\n",
              "      <td>feature-26 betti-1 mean</td>\n",
              "      <td>0.00</td>\n",
              "      <td>[0.0, 0.0, 0.0, 0.0, 0.0, 0.0, 0.0, 0.0, 0.0]</td>\n",
              "    </tr>\n",
              "    <tr>\n",
              "      <th>2895</th>\n",
              "      <td>feature-27 betti-1 median</td>\n",
              "      <td>0.00</td>\n",
              "      <td>[0.0, 0.0, 0.0, 0.0, 0.0, 0.0, 0.0, 0.0, 0.0]</td>\n",
              "    </tr>\n",
              "    <tr>\n",
              "      <th>2896</th>\n",
              "      <td>feature-27 betti-1 percentile-75</td>\n",
              "      <td>0.00</td>\n",
              "      <td>[0.0, 0.0, 0.0, 0.0, 0.0, 0.0, 0.0, 0.0, 0.0]</td>\n",
              "    </tr>\n",
              "    <tr>\n",
              "      <th>1407</th>\n",
              "      <td>feature-13 betti-2 percentile-25</td>\n",
              "      <td>0.00</td>\n",
              "      <td>[0.0, 0.0, 0.0, 0.0, 0.0, 0.0, 0.0, 0.0, 0.0]</td>\n",
              "    </tr>\n",
              "    <tr>\n",
              "      <th>1405</th>\n",
              "      <td>feature-13 betti-2 sum</td>\n",
              "      <td>0.00</td>\n",
              "      <td>[0.0, 0.0, 0.0, 0.0, 0.0, 0.0, 0.0, 0.0, 0.0]</td>\n",
              "    </tr>\n",
              "    <tr>\n",
              "      <th>...</th>\n",
              "      <td>...</td>\n",
              "      <td>...</td>\n",
              "      <td>...</td>\n",
              "    </tr>\n",
              "    <tr>\n",
              "      <th>717</th>\n",
              "      <td>feature-6 bd2-all mean</td>\n",
              "      <td>2.30</td>\n",
              "      <td>[2.399864035016729, 5.759483939974723, 1.57001...</td>\n",
              "    </tr>\n",
              "    <tr>\n",
              "      <th>731</th>\n",
              "      <td>feature-6 bd2-1 norm</td>\n",
              "      <td>2.31</td>\n",
              "      <td>[2.5935170353924146, 5.881553897144345, 1.5046...</td>\n",
              "    </tr>\n",
              "    <tr>\n",
              "      <th>728</th>\n",
              "      <td>feature-6 bd2-1 mean</td>\n",
              "      <td>2.31</td>\n",
              "      <td>[2.3773999029214203, 5.750203904032436, 1.5377...</td>\n",
              "    </tr>\n",
              "    <tr>\n",
              "      <th>1362</th>\n",
              "      <td>feature-12 bd2-all norm</td>\n",
              "      <td>2.33</td>\n",
              "      <td>[3.8871958822869557, 6.808622512003848, 1.1942...</td>\n",
              "    </tr>\n",
              "    <tr>\n",
              "      <th>1373</th>\n",
              "      <td>feature-12 bd2-1 norm</td>\n",
              "      <td>2.38</td>\n",
              "      <td>[4.067239399604966, 6.688540006536211, 1.16210...</td>\n",
              "    </tr>\n",
              "  </tbody>\n",
              "</table>\n",
              "<p>4427 rows × 3 columns</p>\n",
              "</div>"
            ],
            "text/plain": [
              "                               Feature   IV  \\\n",
              "2783           feature-26 betti-1 mean 0.00   \n",
              "2895         feature-27 betti-1 median 0.00   \n",
              "2896  feature-27 betti-1 percentile-75 0.00   \n",
              "1407  feature-13 betti-2 percentile-25 0.00   \n",
              "1405            feature-13 betti-2 sum 0.00   \n",
              "...                                ...  ...   \n",
              "717             feature-6 bd2-all mean 2.30   \n",
              "731               feature-6 bd2-1 norm 2.31   \n",
              "728               feature-6 bd2-1 mean 2.31   \n",
              "1362           feature-12 bd2-all norm 2.33   \n",
              "1373             feature-12 bd2-1 norm 2.38   \n",
              "\n",
              "                                                    IVs  \n",
              "2783      [0.0, 0.0, 0.0, 0.0, 0.0, 0.0, 0.0, 0.0, 0.0]  \n",
              "2895      [0.0, 0.0, 0.0, 0.0, 0.0, 0.0, 0.0, 0.0, 0.0]  \n",
              "2896      [0.0, 0.0, 0.0, 0.0, 0.0, 0.0, 0.0, 0.0, 0.0]  \n",
              "1407      [0.0, 0.0, 0.0, 0.0, 0.0, 0.0, 0.0, 0.0, 0.0]  \n",
              "1405      [0.0, 0.0, 0.0, 0.0, 0.0, 0.0, 0.0, 0.0, 0.0]  \n",
              "...                                                 ...  \n",
              "717   [2.399864035016729, 5.759483939974723, 1.57001...  \n",
              "731   [2.5935170353924146, 5.881553897144345, 1.5046...  \n",
              "728   [2.3773999029214203, 5.750203904032436, 1.5377...  \n",
              "1362  [3.8871958822869557, 6.808622512003848, 1.1942...  \n",
              "1373  [4.067239399604966, 6.688540006536211, 1.16210...  \n",
              "\n",
              "[4427 rows x 3 columns]"
            ]
          },
          "execution_count": 196,
          "metadata": {},
          "output_type": "execute_result"
        }
      ],
      "source": [
        "iv.sort_values(by = \"IV\")"
      ]
    },
    {
      "cell_type": "code",
      "execution_count": 202,
      "metadata": {},
      "outputs": [
        {
          "data": {
            "text/html": [
              "<div>\n",
              "<style scoped>\n",
              "    .dataframe tbody tr th:only-of-type {\n",
              "        vertical-align: middle;\n",
              "    }\n",
              "\n",
              "    .dataframe tbody tr th {\n",
              "        vertical-align: top;\n",
              "    }\n",
              "\n",
              "    .dataframe thead th {\n",
              "        text-align: right;\n",
              "    }\n",
              "</style>\n",
              "<table border=\"1\" class=\"dataframe\">\n",
              "  <thead>\n",
              "    <tr style=\"text-align: right;\">\n",
              "      <th></th>\n",
              "      <th>Feature</th>\n",
              "      <th>IV</th>\n",
              "      <th>IVs</th>\n",
              "    </tr>\n",
              "  </thead>\n",
              "  <tbody>\n",
              "    <tr>\n",
              "      <th>655</th>\n",
              "      <td>feature-6 betti-2 std</td>\n",
              "      <td>1.10</td>\n",
              "      <td>[2.3371625311153856, 3.482069469954802, 0.4013...</td>\n",
              "    </tr>\n",
              "    <tr>\n",
              "      <th>657</th>\n",
              "      <td>feature-6 betti-2 norm</td>\n",
              "      <td>1.10</td>\n",
              "      <td>[2.3371625311153856, 3.482069469954802, 0.4013...</td>\n",
              "    </tr>\n",
              "    <tr>\n",
              "      <th>664</th>\n",
              "      <td>feature-6 entropy-1</td>\n",
              "      <td>1.46</td>\n",
              "      <td>[2.471281030337129, 4.412387387150067, 0.76166...</td>\n",
              "    </tr>\n",
              "    <tr>\n",
              "      <th>665</th>\n",
              "      <td>feature-6 entropy-2</td>\n",
              "      <td>1.43</td>\n",
              "      <td>[2.316862570065378, 4.4329537554147675, 0.8166...</td>\n",
              "    </tr>\n",
              "    <tr>\n",
              "      <th>666</th>\n",
              "      <td>feature-6 numberofpoints-1</td>\n",
              "      <td>0.91</td>\n",
              "      <td>[2.1289431895258257, 2.60303588579497, 0.32644...</td>\n",
              "    </tr>\n",
              "    <tr>\n",
              "      <th>...</th>\n",
              "      <td>...</td>\n",
              "      <td>...</td>\n",
              "      <td>...</td>\n",
              "    </tr>\n",
              "    <tr>\n",
              "      <th>4386</th>\n",
              "      <td>bd2-all sum</td>\n",
              "      <td>1.04</td>\n",
              "      <td>[1.5192438577579794, 0.8853842829812733, 0.447...</td>\n",
              "    </tr>\n",
              "    <tr>\n",
              "      <th>4387</th>\n",
              "      <td>bd2-all norm</td>\n",
              "      <td>1.06</td>\n",
              "      <td>[1.2700976981850747, 0.874082548912958, 0.7386...</td>\n",
              "    </tr>\n",
              "    <tr>\n",
              "      <th>4397</th>\n",
              "      <td>bd2-1 sum</td>\n",
              "      <td>1.06</td>\n",
              "      <td>[1.8433781504081834, 0.9048079480592645, 0.331...</td>\n",
              "    </tr>\n",
              "    <tr>\n",
              "      <th>4398</th>\n",
              "      <td>bd2-1 norm</td>\n",
              "      <td>1.15</td>\n",
              "      <td>[1.4147802770449789, 1.043396166904412, 0.4762...</td>\n",
              "    </tr>\n",
              "    <tr>\n",
              "      <th>4406</th>\n",
              "      <td>bd2-2 mean</td>\n",
              "      <td>0.80</td>\n",
              "      <td>[1.7567352560632261, 0.3440340547836648, 0.858...</td>\n",
              "    </tr>\n",
              "  </tbody>\n",
              "</table>\n",
              "<p>468 rows × 3 columns</p>\n",
              "</div>"
            ],
            "text/plain": [
              "                         Feature   IV  \\\n",
              "655        feature-6 betti-2 std 1.10   \n",
              "657       feature-6 betti-2 norm 1.10   \n",
              "664          feature-6 entropy-1 1.46   \n",
              "665          feature-6 entropy-2 1.43   \n",
              "666   feature-6 numberofpoints-1 0.91   \n",
              "...                          ...  ...   \n",
              "4386                 bd2-all sum 1.04   \n",
              "4387                bd2-all norm 1.06   \n",
              "4397                   bd2-1 sum 1.06   \n",
              "4398                  bd2-1 norm 1.15   \n",
              "4406                  bd2-2 mean 0.80   \n",
              "\n",
              "                                                    IVs  \n",
              "655   [2.3371625311153856, 3.482069469954802, 0.4013...  \n",
              "657   [2.3371625311153856, 3.482069469954802, 0.4013...  \n",
              "664   [2.471281030337129, 4.412387387150067, 0.76166...  \n",
              "665   [2.316862570065378, 4.4329537554147675, 0.8166...  \n",
              "666   [2.1289431895258257, 2.60303588579497, 0.32644...  \n",
              "...                                                 ...  \n",
              "4386  [1.5192438577579794, 0.8853842829812733, 0.447...  \n",
              "4387  [1.2700976981850747, 0.874082548912958, 0.7386...  \n",
              "4397  [1.8433781504081834, 0.9048079480592645, 0.331...  \n",
              "4398  [1.4147802770449789, 1.043396166904412, 0.4762...  \n",
              "4406  [1.7567352560632261, 0.3440340547836648, 0.858...  \n",
              "\n",
              "[468 rows x 3 columns]"
            ]
          },
          "execution_count": 202,
          "metadata": {},
          "output_type": "execute_result"
        }
      ],
      "source": [
        "iv_ok_features = iv[iv[\"IV\"] > IV_THRESHOLD]\n",
        "iv_ok_features.to_csv(f\"{subj}/{exp}/iv_ok_features.csv\")\n",
        "iv_ok_features"
      ]
    },
    {
      "cell_type": "code",
      "execution_count": 203,
      "metadata": {},
      "outputs": [
        {
          "data": {
            "text/html": [
              "<div>\n",
              "<style scoped>\n",
              "    .dataframe tbody tr th:only-of-type {\n",
              "        vertical-align: middle;\n",
              "    }\n",
              "\n",
              "    .dataframe tbody tr th {\n",
              "        vertical-align: top;\n",
              "    }\n",
              "\n",
              "    .dataframe thead th {\n",
              "        text-align: right;\n",
              "    }\n",
              "</style>\n",
              "<table border=\"1\" class=\"dataframe\">\n",
              "  <thead>\n",
              "    <tr style=\"text-align: right;\">\n",
              "      <th></th>\n",
              "      <th>feature-6 betti-2 std</th>\n",
              "      <th>feature-6 betti-2 norm</th>\n",
              "      <th>feature-6 entropy-1</th>\n",
              "      <th>feature-6 entropy-2</th>\n",
              "      <th>feature-6 numberofpoints-1</th>\n",
              "      <th>feature-6 numberofpoints-2</th>\n",
              "      <th>feature-6 bottleneck-amplitude-2</th>\n",
              "      <th>feature-6 wasserstein-amplitude-1</th>\n",
              "      <th>feature-6 wasserstein-amplitude-2</th>\n",
              "      <th>feature-6 wasserstein-amplitude-norm</th>\n",
              "      <th>...</th>\n",
              "      <th>betti-amplitude-norm</th>\n",
              "      <th>life-all sum</th>\n",
              "      <th>life-all norm</th>\n",
              "      <th>life-1 sum</th>\n",
              "      <th>life-1 norm</th>\n",
              "      <th>bd2-all sum</th>\n",
              "      <th>bd2-all norm</th>\n",
              "      <th>bd2-1 sum</th>\n",
              "      <th>bd2-1 norm</th>\n",
              "      <th>bd2-2 mean</th>\n",
              "    </tr>\n",
              "  </thead>\n",
              "  <tbody>\n",
              "    <tr>\n",
              "      <th>0</th>\n",
              "      <td>1.11</td>\n",
              "      <td>11.05</td>\n",
              "      <td>-0.45</td>\n",
              "      <td>-0.30</td>\n",
              "      <td>82</td>\n",
              "      <td>32</td>\n",
              "      <td>0.00</td>\n",
              "      <td>0.00</td>\n",
              "      <td>0.00</td>\n",
              "      <td>0.00</td>\n",
              "      <td>...</td>\n",
              "      <td>0.13</td>\n",
              "      <td>0.00</td>\n",
              "      <td>0.00</td>\n",
              "      <td>0.00</td>\n",
              "      <td>0.00</td>\n",
              "      <td>0.01</td>\n",
              "      <td>0.00</td>\n",
              "      <td>0.01</td>\n",
              "      <td>0.00</td>\n",
              "      <td>0.00</td>\n",
              "    </tr>\n",
              "    <tr>\n",
              "      <th>1</th>\n",
              "      <td>0.72</td>\n",
              "      <td>7.21</td>\n",
              "      <td>-0.49</td>\n",
              "      <td>-0.30</td>\n",
              "      <td>99</td>\n",
              "      <td>32</td>\n",
              "      <td>0.00</td>\n",
              "      <td>0.00</td>\n",
              "      <td>0.00</td>\n",
              "      <td>0.00</td>\n",
              "      <td>...</td>\n",
              "      <td>0.10</td>\n",
              "      <td>0.00</td>\n",
              "      <td>0.00</td>\n",
              "      <td>0.00</td>\n",
              "      <td>0.00</td>\n",
              "      <td>0.01</td>\n",
              "      <td>0.00</td>\n",
              "      <td>0.01</td>\n",
              "      <td>0.00</td>\n",
              "      <td>0.00</td>\n",
              "    </tr>\n",
              "    <tr>\n",
              "      <th>2</th>\n",
              "      <td>1.40</td>\n",
              "      <td>13.93</td>\n",
              "      <td>-0.47</td>\n",
              "      <td>-0.33</td>\n",
              "      <td>92</td>\n",
              "      <td>39</td>\n",
              "      <td>0.00</td>\n",
              "      <td>0.00</td>\n",
              "      <td>0.00</td>\n",
              "      <td>0.00</td>\n",
              "      <td>...</td>\n",
              "      <td>0.13</td>\n",
              "      <td>0.00</td>\n",
              "      <td>0.00</td>\n",
              "      <td>0.00</td>\n",
              "      <td>0.00</td>\n",
              "      <td>0.01</td>\n",
              "      <td>0.00</td>\n",
              "      <td>0.01</td>\n",
              "      <td>0.00</td>\n",
              "      <td>0.00</td>\n",
              "    </tr>\n",
              "    <tr>\n",
              "      <th>3</th>\n",
              "      <td>0.74</td>\n",
              "      <td>7.35</td>\n",
              "      <td>-0.46</td>\n",
              "      <td>-0.29</td>\n",
              "      <td>93</td>\n",
              "      <td>30</td>\n",
              "      <td>0.00</td>\n",
              "      <td>0.00</td>\n",
              "      <td>0.00</td>\n",
              "      <td>0.00</td>\n",
              "      <td>...</td>\n",
              "      <td>0.09</td>\n",
              "      <td>0.00</td>\n",
              "      <td>0.00</td>\n",
              "      <td>0.00</td>\n",
              "      <td>0.00</td>\n",
              "      <td>0.01</td>\n",
              "      <td>0.00</td>\n",
              "      <td>0.01</td>\n",
              "      <td>0.00</td>\n",
              "      <td>0.00</td>\n",
              "    </tr>\n",
              "    <tr>\n",
              "      <th>4</th>\n",
              "      <td>0.53</td>\n",
              "      <td>5.29</td>\n",
              "      <td>-0.46</td>\n",
              "      <td>-0.26</td>\n",
              "      <td>87</td>\n",
              "      <td>22</td>\n",
              "      <td>0.00</td>\n",
              "      <td>0.00</td>\n",
              "      <td>0.00</td>\n",
              "      <td>0.00</td>\n",
              "      <td>...</td>\n",
              "      <td>0.12</td>\n",
              "      <td>0.00</td>\n",
              "      <td>0.00</td>\n",
              "      <td>0.00</td>\n",
              "      <td>0.00</td>\n",
              "      <td>0.01</td>\n",
              "      <td>0.00</td>\n",
              "      <td>0.01</td>\n",
              "      <td>0.00</td>\n",
              "      <td>0.00</td>\n",
              "    </tr>\n",
              "    <tr>\n",
              "      <th>...</th>\n",
              "      <td>...</td>\n",
              "      <td>...</td>\n",
              "      <td>...</td>\n",
              "      <td>...</td>\n",
              "      <td>...</td>\n",
              "      <td>...</td>\n",
              "      <td>...</td>\n",
              "      <td>...</td>\n",
              "      <td>...</td>\n",
              "      <td>...</td>\n",
              "      <td>...</td>\n",
              "      <td>...</td>\n",
              "      <td>...</td>\n",
              "      <td>...</td>\n",
              "      <td>...</td>\n",
              "      <td>...</td>\n",
              "      <td>...</td>\n",
              "      <td>...</td>\n",
              "      <td>...</td>\n",
              "      <td>...</td>\n",
              "      <td>...</td>\n",
              "    </tr>\n",
              "    <tr>\n",
              "      <th>1041</th>\n",
              "      <td>0.20</td>\n",
              "      <td>2.00</td>\n",
              "      <td>-0.38</td>\n",
              "      <td>-0.08</td>\n",
              "      <td>64</td>\n",
              "      <td>3</td>\n",
              "      <td>0.00</td>\n",
              "      <td>0.00</td>\n",
              "      <td>0.00</td>\n",
              "      <td>0.00</td>\n",
              "      <td>...</td>\n",
              "      <td>0.05</td>\n",
              "      <td>0.00</td>\n",
              "      <td>0.00</td>\n",
              "      <td>0.00</td>\n",
              "      <td>0.00</td>\n",
              "      <td>0.01</td>\n",
              "      <td>0.00</td>\n",
              "      <td>0.01</td>\n",
              "      <td>0.00</td>\n",
              "      <td>0.00</td>\n",
              "    </tr>\n",
              "    <tr>\n",
              "      <th>1042</th>\n",
              "      <td>0.25</td>\n",
              "      <td>2.45</td>\n",
              "      <td>-0.36</td>\n",
              "      <td>-0.07</td>\n",
              "      <td>55</td>\n",
              "      <td>4</td>\n",
              "      <td>0.00</td>\n",
              "      <td>0.00</td>\n",
              "      <td>0.00</td>\n",
              "      <td>0.00</td>\n",
              "      <td>...</td>\n",
              "      <td>0.03</td>\n",
              "      <td>0.00</td>\n",
              "      <td>0.00</td>\n",
              "      <td>0.00</td>\n",
              "      <td>0.00</td>\n",
              "      <td>0.01</td>\n",
              "      <td>0.00</td>\n",
              "      <td>0.00</td>\n",
              "      <td>0.00</td>\n",
              "      <td>0.00</td>\n",
              "    </tr>\n",
              "    <tr>\n",
              "      <th>1043</th>\n",
              "      <td>0.14</td>\n",
              "      <td>1.41</td>\n",
              "      <td>-0.38</td>\n",
              "      <td>-0.07</td>\n",
              "      <td>57</td>\n",
              "      <td>3</td>\n",
              "      <td>0.00</td>\n",
              "      <td>0.00</td>\n",
              "      <td>0.00</td>\n",
              "      <td>0.00</td>\n",
              "      <td>...</td>\n",
              "      <td>0.05</td>\n",
              "      <td>0.00</td>\n",
              "      <td>0.00</td>\n",
              "      <td>0.00</td>\n",
              "      <td>0.00</td>\n",
              "      <td>0.00</td>\n",
              "      <td>0.00</td>\n",
              "      <td>0.00</td>\n",
              "      <td>0.00</td>\n",
              "      <td>0.00</td>\n",
              "    </tr>\n",
              "    <tr>\n",
              "      <th>1044</th>\n",
              "      <td>0.20</td>\n",
              "      <td>2.00</td>\n",
              "      <td>-0.36</td>\n",
              "      <td>-0.11</td>\n",
              "      <td>57</td>\n",
              "      <td>5</td>\n",
              "      <td>0.00</td>\n",
              "      <td>0.00</td>\n",
              "      <td>0.00</td>\n",
              "      <td>0.00</td>\n",
              "      <td>...</td>\n",
              "      <td>0.03</td>\n",
              "      <td>0.00</td>\n",
              "      <td>0.00</td>\n",
              "      <td>0.00</td>\n",
              "      <td>0.00</td>\n",
              "      <td>0.00</td>\n",
              "      <td>0.00</td>\n",
              "      <td>0.00</td>\n",
              "      <td>0.00</td>\n",
              "      <td>0.00</td>\n",
              "    </tr>\n",
              "    <tr>\n",
              "      <th>1045</th>\n",
              "      <td>0.14</td>\n",
              "      <td>1.41</td>\n",
              "      <td>-0.39</td>\n",
              "      <td>-0.06</td>\n",
              "      <td>73</td>\n",
              "      <td>3</td>\n",
              "      <td>0.00</td>\n",
              "      <td>0.00</td>\n",
              "      <td>0.00</td>\n",
              "      <td>0.00</td>\n",
              "      <td>...</td>\n",
              "      <td>0.04</td>\n",
              "      <td>0.00</td>\n",
              "      <td>0.00</td>\n",
              "      <td>0.00</td>\n",
              "      <td>0.00</td>\n",
              "      <td>0.00</td>\n",
              "      <td>0.00</td>\n",
              "      <td>0.00</td>\n",
              "      <td>0.00</td>\n",
              "      <td>0.00</td>\n",
              "    </tr>\n",
              "  </tbody>\n",
              "</table>\n",
              "<p>1046 rows × 468 columns</p>\n",
              "</div>"
            ],
            "text/plain": [
              "      feature-6 betti-2 std  feature-6 betti-2 norm  feature-6 entropy-1  \\\n",
              "0                      1.11                   11.05                -0.45   \n",
              "1                      0.72                    7.21                -0.49   \n",
              "2                      1.40                   13.93                -0.47   \n",
              "3                      0.74                    7.35                -0.46   \n",
              "4                      0.53                    5.29                -0.46   \n",
              "...                     ...                     ...                  ...   \n",
              "1041                   0.20                    2.00                -0.38   \n",
              "1042                   0.25                    2.45                -0.36   \n",
              "1043                   0.14                    1.41                -0.38   \n",
              "1044                   0.20                    2.00                -0.36   \n",
              "1045                   0.14                    1.41                -0.39   \n",
              "\n",
              "      feature-6 entropy-2  feature-6 numberofpoints-1  \\\n",
              "0                   -0.30                          82   \n",
              "1                   -0.30                          99   \n",
              "2                   -0.33                          92   \n",
              "3                   -0.29                          93   \n",
              "4                   -0.26                          87   \n",
              "...                   ...                         ...   \n",
              "1041                -0.08                          64   \n",
              "1042                -0.07                          55   \n",
              "1043                -0.07                          57   \n",
              "1044                -0.11                          57   \n",
              "1045                -0.06                          73   \n",
              "\n",
              "      feature-6 numberofpoints-2  feature-6 bottleneck-amplitude-2  \\\n",
              "0                             32                              0.00   \n",
              "1                             32                              0.00   \n",
              "2                             39                              0.00   \n",
              "3                             30                              0.00   \n",
              "4                             22                              0.00   \n",
              "...                          ...                               ...   \n",
              "1041                           3                              0.00   \n",
              "1042                           4                              0.00   \n",
              "1043                           3                              0.00   \n",
              "1044                           5                              0.00   \n",
              "1045                           3                              0.00   \n",
              "\n",
              "      feature-6 wasserstein-amplitude-1  feature-6 wasserstein-amplitude-2  \\\n",
              "0                                  0.00                               0.00   \n",
              "1                                  0.00                               0.00   \n",
              "2                                  0.00                               0.00   \n",
              "3                                  0.00                               0.00   \n",
              "4                                  0.00                               0.00   \n",
              "...                                 ...                                ...   \n",
              "1041                               0.00                               0.00   \n",
              "1042                               0.00                               0.00   \n",
              "1043                               0.00                               0.00   \n",
              "1044                               0.00                               0.00   \n",
              "1045                               0.00                               0.00   \n",
              "\n",
              "      feature-6 wasserstein-amplitude-norm  ...   betti-amplitude-norm  \\\n",
              "0                                     0.00  ...                   0.13   \n",
              "1                                     0.00  ...                   0.10   \n",
              "2                                     0.00  ...                   0.13   \n",
              "3                                     0.00  ...                   0.09   \n",
              "4                                     0.00  ...                   0.12   \n",
              "...                                    ...  ...                    ...   \n",
              "1041                                  0.00  ...                   0.05   \n",
              "1042                                  0.00  ...                   0.03   \n",
              "1043                                  0.00  ...                   0.05   \n",
              "1044                                  0.00  ...                   0.03   \n",
              "1045                                  0.00  ...                   0.04   \n",
              "\n",
              "       life-all sum   life-all norm   life-1 sum   life-1 norm   bd2-all sum  \\\n",
              "0              0.00            0.00         0.00          0.00          0.01   \n",
              "1              0.00            0.00         0.00          0.00          0.01   \n",
              "2              0.00            0.00         0.00          0.00          0.01   \n",
              "3              0.00            0.00         0.00          0.00          0.01   \n",
              "4              0.00            0.00         0.00          0.00          0.01   \n",
              "...             ...             ...          ...           ...           ...   \n",
              "1041           0.00            0.00         0.00          0.00          0.01   \n",
              "1042           0.00            0.00         0.00          0.00          0.01   \n",
              "1043           0.00            0.00         0.00          0.00          0.00   \n",
              "1044           0.00            0.00         0.00          0.00          0.00   \n",
              "1045           0.00            0.00         0.00          0.00          0.00   \n",
              "\n",
              "       bd2-all norm   bd2-1 sum   bd2-1 norm   bd2-2 mean  \n",
              "0              0.00        0.01         0.00         0.00  \n",
              "1              0.00        0.01         0.00         0.00  \n",
              "2              0.00        0.01         0.00         0.00  \n",
              "3              0.00        0.01         0.00         0.00  \n",
              "4              0.00        0.01         0.00         0.00  \n",
              "...             ...         ...          ...          ...  \n",
              "1041           0.00        0.01         0.00         0.00  \n",
              "1042           0.00        0.00         0.00         0.00  \n",
              "1043           0.00        0.00         0.00         0.00  \n",
              "1044           0.00        0.00         0.00         0.00  \n",
              "1045           0.00        0.00         0.00         0.00  \n",
              "\n",
              "[1046 rows x 468 columns]"
            ]
          },
          "execution_count": 203,
          "metadata": {},
          "output_type": "execute_result"
        }
      ],
      "source": [
        "features_iv = features[iv_ok_features['Feature'].to_numpy()]\n",
        "features_iv"
      ]
    },
    {
      "cell_type": "markdown",
      "metadata": {},
      "source": [
        "##### PCA"
      ]
    },
    {
      "cell_type": "markdown",
      "metadata": {},
      "source": [
        "1. IV_THRESHOLD = 0.5, n_comp = 0.7\n",
        "2. IV_THRESHOLD = 1, n_comp = 16 => 0.9\t0.81\t0.84\n",
        "3. IV_THRESHOLD = 0.75, n_comp = 16 => 0.9\t0.82\t0.85\n",
        "3. IV_THRESHOLD = 0.8, n_comp = 16 => 0.9\t0.84\t0.86"
      ]
    },
    {
      "cell_type": "code",
      "execution_count": 204,
      "metadata": {},
      "outputs": [
        {
          "name": "stdout",
          "output_type": "stream",
          "text": [
            "Components: 16\n",
            "Explained variance: 0.84\n",
            "[0.463, 0.167, 0.035, 0.031, 0.019, 0.017, 0.016, 0.015, 0.012, 0.011, 0.01, 0.009, 0.008, 0.008, 0.007, 0.007]\n",
            "(1046, 16)\n"
          ]
        },
        {
          "data": {
            "text/html": [
              "<div>\n",
              "<style scoped>\n",
              "    .dataframe tbody tr th:only-of-type {\n",
              "        vertical-align: middle;\n",
              "    }\n",
              "\n",
              "    .dataframe tbody tr th {\n",
              "        vertical-align: top;\n",
              "    }\n",
              "\n",
              "    .dataframe thead th {\n",
              "        text-align: right;\n",
              "    }\n",
              "</style>\n",
              "<table border=\"1\" class=\"dataframe\">\n",
              "  <thead>\n",
              "    <tr style=\"text-align: right;\">\n",
              "      <th></th>\n",
              "      <th>0</th>\n",
              "      <th>1</th>\n",
              "      <th>2</th>\n",
              "      <th>3</th>\n",
              "      <th>4</th>\n",
              "      <th>5</th>\n",
              "      <th>6</th>\n",
              "      <th>7</th>\n",
              "      <th>8</th>\n",
              "      <th>9</th>\n",
              "      <th>10</th>\n",
              "      <th>11</th>\n",
              "      <th>12</th>\n",
              "      <th>13</th>\n",
              "      <th>14</th>\n",
              "      <th>15</th>\n",
              "    </tr>\n",
              "  </thead>\n",
              "  <tbody>\n",
              "    <tr>\n",
              "      <th>0</th>\n",
              "      <td>22.72</td>\n",
              "      <td>-17.29</td>\n",
              "      <td>-6.46</td>\n",
              "      <td>1.77</td>\n",
              "      <td>11.42</td>\n",
              "      <td>-3.16</td>\n",
              "      <td>5.03</td>\n",
              "      <td>5.07</td>\n",
              "      <td>-4.58</td>\n",
              "      <td>-3.04</td>\n",
              "      <td>-2.39</td>\n",
              "      <td>2.14</td>\n",
              "      <td>1.57</td>\n",
              "      <td>0.56</td>\n",
              "      <td>-1.82</td>\n",
              "      <td>2.68</td>\n",
              "    </tr>\n",
              "    <tr>\n",
              "      <th>1</th>\n",
              "      <td>21.55</td>\n",
              "      <td>-14.04</td>\n",
              "      <td>-9.45</td>\n",
              "      <td>3.48</td>\n",
              "      <td>10.21</td>\n",
              "      <td>-2.88</td>\n",
              "      <td>1.95</td>\n",
              "      <td>0.68</td>\n",
              "      <td>-6.26</td>\n",
              "      <td>-8.18</td>\n",
              "      <td>-4.13</td>\n",
              "      <td>8.89</td>\n",
              "      <td>-4.81</td>\n",
              "      <td>3.97</td>\n",
              "      <td>1.73</td>\n",
              "      <td>2.42</td>\n",
              "    </tr>\n",
              "    <tr>\n",
              "      <th>2</th>\n",
              "      <td>16.80</td>\n",
              "      <td>-18.22</td>\n",
              "      <td>-5.08</td>\n",
              "      <td>1.14</td>\n",
              "      <td>2.49</td>\n",
              "      <td>-0.86</td>\n",
              "      <td>2.51</td>\n",
              "      <td>-1.23</td>\n",
              "      <td>-0.90</td>\n",
              "      <td>-1.76</td>\n",
              "      <td>-1.36</td>\n",
              "      <td>-3.05</td>\n",
              "      <td>3.23</td>\n",
              "      <td>2.61</td>\n",
              "      <td>-0.81</td>\n",
              "      <td>2.38</td>\n",
              "    </tr>\n",
              "    <tr>\n",
              "      <th>3</th>\n",
              "      <td>24.89</td>\n",
              "      <td>-12.42</td>\n",
              "      <td>-3.25</td>\n",
              "      <td>2.99</td>\n",
              "      <td>5.27</td>\n",
              "      <td>0.73</td>\n",
              "      <td>-1.54</td>\n",
              "      <td>3.52</td>\n",
              "      <td>1.24</td>\n",
              "      <td>-2.88</td>\n",
              "      <td>4.26</td>\n",
              "      <td>1.72</td>\n",
              "      <td>-4.47</td>\n",
              "      <td>3.81</td>\n",
              "      <td>1.89</td>\n",
              "      <td>2.22</td>\n",
              "    </tr>\n",
              "    <tr>\n",
              "      <th>4</th>\n",
              "      <td>22.88</td>\n",
              "      <td>-19.37</td>\n",
              "      <td>-3.47</td>\n",
              "      <td>4.57</td>\n",
              "      <td>10.98</td>\n",
              "      <td>3.05</td>\n",
              "      <td>-1.15</td>\n",
              "      <td>0.85</td>\n",
              "      <td>-2.49</td>\n",
              "      <td>-2.14</td>\n",
              "      <td>-0.16</td>\n",
              "      <td>-0.32</td>\n",
              "      <td>-1.25</td>\n",
              "      <td>3.87</td>\n",
              "      <td>-1.87</td>\n",
              "      <td>-0.20</td>\n",
              "    </tr>\n",
              "    <tr>\n",
              "      <th>...</th>\n",
              "      <td>...</td>\n",
              "      <td>...</td>\n",
              "      <td>...</td>\n",
              "      <td>...</td>\n",
              "      <td>...</td>\n",
              "      <td>...</td>\n",
              "      <td>...</td>\n",
              "      <td>...</td>\n",
              "      <td>...</td>\n",
              "      <td>...</td>\n",
              "      <td>...</td>\n",
              "      <td>...</td>\n",
              "      <td>...</td>\n",
              "      <td>...</td>\n",
              "      <td>...</td>\n",
              "      <td>...</td>\n",
              "    </tr>\n",
              "    <tr>\n",
              "      <th>1041</th>\n",
              "      <td>5.77</td>\n",
              "      <td>8.93</td>\n",
              "      <td>3.54</td>\n",
              "      <td>12.42</td>\n",
              "      <td>6.96</td>\n",
              "      <td>0.38</td>\n",
              "      <td>-0.14</td>\n",
              "      <td>-1.10</td>\n",
              "      <td>-0.51</td>\n",
              "      <td>-0.97</td>\n",
              "      <td>-1.82</td>\n",
              "      <td>-5.21</td>\n",
              "      <td>2.37</td>\n",
              "      <td>-1.75</td>\n",
              "      <td>3.32</td>\n",
              "      <td>-2.29</td>\n",
              "    </tr>\n",
              "    <tr>\n",
              "      <th>1042</th>\n",
              "      <td>9.07</td>\n",
              "      <td>13.13</td>\n",
              "      <td>-6.84</td>\n",
              "      <td>2.54</td>\n",
              "      <td>-2.04</td>\n",
              "      <td>-1.84</td>\n",
              "      <td>-1.73</td>\n",
              "      <td>-5.25</td>\n",
              "      <td>0.23</td>\n",
              "      <td>-1.94</td>\n",
              "      <td>-1.34</td>\n",
              "      <td>3.77</td>\n",
              "      <td>-1.68</td>\n",
              "      <td>-2.91</td>\n",
              "      <td>2.33</td>\n",
              "      <td>-1.17</td>\n",
              "    </tr>\n",
              "    <tr>\n",
              "      <th>1043</th>\n",
              "      <td>-6.88</td>\n",
              "      <td>3.14</td>\n",
              "      <td>-0.45</td>\n",
              "      <td>-0.03</td>\n",
              "      <td>0.67</td>\n",
              "      <td>0.49</td>\n",
              "      <td>0.58</td>\n",
              "      <td>-2.70</td>\n",
              "      <td>0.11</td>\n",
              "      <td>-2.08</td>\n",
              "      <td>-1.72</td>\n",
              "      <td>-0.71</td>\n",
              "      <td>-1.54</td>\n",
              "      <td>-2.98</td>\n",
              "      <td>-1.18</td>\n",
              "      <td>-0.03</td>\n",
              "    </tr>\n",
              "    <tr>\n",
              "      <th>1044</th>\n",
              "      <td>-10.36</td>\n",
              "      <td>-0.03</td>\n",
              "      <td>2.30</td>\n",
              "      <td>0.97</td>\n",
              "      <td>-3.76</td>\n",
              "      <td>1.57</td>\n",
              "      <td>-2.73</td>\n",
              "      <td>-1.56</td>\n",
              "      <td>0.42</td>\n",
              "      <td>0.13</td>\n",
              "      <td>-1.93</td>\n",
              "      <td>1.00</td>\n",
              "      <td>-1.16</td>\n",
              "      <td>-0.38</td>\n",
              "      <td>0.31</td>\n",
              "      <td>-1.06</td>\n",
              "    </tr>\n",
              "    <tr>\n",
              "      <th>1045</th>\n",
              "      <td>-17.92</td>\n",
              "      <td>-2.55</td>\n",
              "      <td>-0.32</td>\n",
              "      <td>0.30</td>\n",
              "      <td>-1.77</td>\n",
              "      <td>4.07</td>\n",
              "      <td>-1.52</td>\n",
              "      <td>-2.57</td>\n",
              "      <td>2.30</td>\n",
              "      <td>0.93</td>\n",
              "      <td>-2.39</td>\n",
              "      <td>-1.71</td>\n",
              "      <td>2.92</td>\n",
              "      <td>0.65</td>\n",
              "      <td>0.93</td>\n",
              "      <td>1.44</td>\n",
              "    </tr>\n",
              "  </tbody>\n",
              "</table>\n",
              "<p>1046 rows × 16 columns</p>\n",
              "</div>"
            ],
            "text/plain": [
              "         0      1     2     3     4     5     6     7     8     9     10  \\\n",
              "0     22.72 -17.29 -6.46  1.77 11.42 -3.16  5.03  5.07 -4.58 -3.04 -2.39   \n",
              "1     21.55 -14.04 -9.45  3.48 10.21 -2.88  1.95  0.68 -6.26 -8.18 -4.13   \n",
              "2     16.80 -18.22 -5.08  1.14  2.49 -0.86  2.51 -1.23 -0.90 -1.76 -1.36   \n",
              "3     24.89 -12.42 -3.25  2.99  5.27  0.73 -1.54  3.52  1.24 -2.88  4.26   \n",
              "4     22.88 -19.37 -3.47  4.57 10.98  3.05 -1.15  0.85 -2.49 -2.14 -0.16   \n",
              "...     ...    ...   ...   ...   ...   ...   ...   ...   ...   ...   ...   \n",
              "1041   5.77   8.93  3.54 12.42  6.96  0.38 -0.14 -1.10 -0.51 -0.97 -1.82   \n",
              "1042   9.07  13.13 -6.84  2.54 -2.04 -1.84 -1.73 -5.25  0.23 -1.94 -1.34   \n",
              "1043  -6.88   3.14 -0.45 -0.03  0.67  0.49  0.58 -2.70  0.11 -2.08 -1.72   \n",
              "1044 -10.36  -0.03  2.30  0.97 -3.76  1.57 -2.73 -1.56  0.42  0.13 -1.93   \n",
              "1045 -17.92  -2.55 -0.32  0.30 -1.77  4.07 -1.52 -2.57  2.30  0.93 -2.39   \n",
              "\n",
              "        11    12    13    14    15  \n",
              "0     2.14  1.57  0.56 -1.82  2.68  \n",
              "1     8.89 -4.81  3.97  1.73  2.42  \n",
              "2    -3.05  3.23  2.61 -0.81  2.38  \n",
              "3     1.72 -4.47  3.81  1.89  2.22  \n",
              "4    -0.32 -1.25  3.87 -1.87 -0.20  \n",
              "...    ...   ...   ...   ...   ...  \n",
              "1041 -5.21  2.37 -1.75  3.32 -2.29  \n",
              "1042  3.77 -1.68 -2.91  2.33 -1.17  \n",
              "1043 -0.71 -1.54 -2.98 -1.18 -0.03  \n",
              "1044  1.00 -1.16 -0.38  0.31 -1.06  \n",
              "1045 -1.71  2.92  0.65  0.93  1.44  \n",
              "\n",
              "[1046 rows x 16 columns]"
            ]
          },
          "execution_count": 204,
          "metadata": {},
          "output_type": "execute_result"
        }
      ],
      "source": [
        "features_pca = FeatureCalculator().pca(features_iv.to_numpy(), scale = True, n_comp = 16)\n",
        "print(features_pca.shape)\n",
        "pandas.DataFrame(features_pca)"
      ]
    },
    {
      "cell_type": "markdown",
      "metadata": {},
      "source": [
        "### Save"
      ]
    },
    {
      "cell_type": "code",
      "execution_count": 205,
      "metadata": {},
      "outputs": [
        {
          "data": {
            "text/html": [
              "<div>\n",
              "<style scoped>\n",
              "    .dataframe tbody tr th:only-of-type {\n",
              "        vertical-align: middle;\n",
              "    }\n",
              "\n",
              "    .dataframe tbody tr th {\n",
              "        vertical-align: top;\n",
              "    }\n",
              "\n",
              "    .dataframe thead th {\n",
              "        text-align: right;\n",
              "    }\n",
              "</style>\n",
              "<table border=\"1\" class=\"dataframe\">\n",
              "  <thead>\n",
              "    <tr style=\"text-align: right;\">\n",
              "      <th></th>\n",
              "      <th>0</th>\n",
              "      <th>1</th>\n",
              "      <th>2</th>\n",
              "      <th>3</th>\n",
              "      <th>4</th>\n",
              "      <th>5</th>\n",
              "      <th>6</th>\n",
              "      <th>7</th>\n",
              "      <th>8</th>\n",
              "      <th>9</th>\n",
              "      <th>10</th>\n",
              "      <th>11</th>\n",
              "      <th>12</th>\n",
              "      <th>13</th>\n",
              "      <th>14</th>\n",
              "      <th>15</th>\n",
              "    </tr>\n",
              "  </thead>\n",
              "  <tbody>\n",
              "    <tr>\n",
              "      <th>0</th>\n",
              "      <td>22.72</td>\n",
              "      <td>-17.29</td>\n",
              "      <td>-6.46</td>\n",
              "      <td>1.77</td>\n",
              "      <td>11.42</td>\n",
              "      <td>-3.16</td>\n",
              "      <td>5.03</td>\n",
              "      <td>5.07</td>\n",
              "      <td>-4.58</td>\n",
              "      <td>-3.04</td>\n",
              "      <td>-2.39</td>\n",
              "      <td>2.14</td>\n",
              "      <td>1.57</td>\n",
              "      <td>0.56</td>\n",
              "      <td>-1.82</td>\n",
              "      <td>2.68</td>\n",
              "    </tr>\n",
              "    <tr>\n",
              "      <th>1</th>\n",
              "      <td>21.55</td>\n",
              "      <td>-14.04</td>\n",
              "      <td>-9.45</td>\n",
              "      <td>3.48</td>\n",
              "      <td>10.21</td>\n",
              "      <td>-2.88</td>\n",
              "      <td>1.95</td>\n",
              "      <td>0.68</td>\n",
              "      <td>-6.26</td>\n",
              "      <td>-8.18</td>\n",
              "      <td>-4.13</td>\n",
              "      <td>8.89</td>\n",
              "      <td>-4.81</td>\n",
              "      <td>3.97</td>\n",
              "      <td>1.73</td>\n",
              "      <td>2.42</td>\n",
              "    </tr>\n",
              "    <tr>\n",
              "      <th>2</th>\n",
              "      <td>16.80</td>\n",
              "      <td>-18.22</td>\n",
              "      <td>-5.08</td>\n",
              "      <td>1.14</td>\n",
              "      <td>2.49</td>\n",
              "      <td>-0.86</td>\n",
              "      <td>2.51</td>\n",
              "      <td>-1.23</td>\n",
              "      <td>-0.90</td>\n",
              "      <td>-1.76</td>\n",
              "      <td>-1.36</td>\n",
              "      <td>-3.05</td>\n",
              "      <td>3.23</td>\n",
              "      <td>2.61</td>\n",
              "      <td>-0.81</td>\n",
              "      <td>2.38</td>\n",
              "    </tr>\n",
              "    <tr>\n",
              "      <th>3</th>\n",
              "      <td>24.89</td>\n",
              "      <td>-12.42</td>\n",
              "      <td>-3.25</td>\n",
              "      <td>2.99</td>\n",
              "      <td>5.27</td>\n",
              "      <td>0.73</td>\n",
              "      <td>-1.54</td>\n",
              "      <td>3.52</td>\n",
              "      <td>1.24</td>\n",
              "      <td>-2.88</td>\n",
              "      <td>4.26</td>\n",
              "      <td>1.72</td>\n",
              "      <td>-4.47</td>\n",
              "      <td>3.81</td>\n",
              "      <td>1.89</td>\n",
              "      <td>2.22</td>\n",
              "    </tr>\n",
              "    <tr>\n",
              "      <th>4</th>\n",
              "      <td>22.88</td>\n",
              "      <td>-19.37</td>\n",
              "      <td>-3.47</td>\n",
              "      <td>4.57</td>\n",
              "      <td>10.98</td>\n",
              "      <td>3.05</td>\n",
              "      <td>-1.15</td>\n",
              "      <td>0.85</td>\n",
              "      <td>-2.49</td>\n",
              "      <td>-2.14</td>\n",
              "      <td>-0.16</td>\n",
              "      <td>-0.32</td>\n",
              "      <td>-1.25</td>\n",
              "      <td>3.87</td>\n",
              "      <td>-1.87</td>\n",
              "      <td>-0.20</td>\n",
              "    </tr>\n",
              "    <tr>\n",
              "      <th>...</th>\n",
              "      <td>...</td>\n",
              "      <td>...</td>\n",
              "      <td>...</td>\n",
              "      <td>...</td>\n",
              "      <td>...</td>\n",
              "      <td>...</td>\n",
              "      <td>...</td>\n",
              "      <td>...</td>\n",
              "      <td>...</td>\n",
              "      <td>...</td>\n",
              "      <td>...</td>\n",
              "      <td>...</td>\n",
              "      <td>...</td>\n",
              "      <td>...</td>\n",
              "      <td>...</td>\n",
              "      <td>...</td>\n",
              "    </tr>\n",
              "    <tr>\n",
              "      <th>1041</th>\n",
              "      <td>5.77</td>\n",
              "      <td>8.93</td>\n",
              "      <td>3.54</td>\n",
              "      <td>12.42</td>\n",
              "      <td>6.96</td>\n",
              "      <td>0.38</td>\n",
              "      <td>-0.14</td>\n",
              "      <td>-1.10</td>\n",
              "      <td>-0.51</td>\n",
              "      <td>-0.97</td>\n",
              "      <td>-1.82</td>\n",
              "      <td>-5.21</td>\n",
              "      <td>2.37</td>\n",
              "      <td>-1.75</td>\n",
              "      <td>3.32</td>\n",
              "      <td>-2.29</td>\n",
              "    </tr>\n",
              "    <tr>\n",
              "      <th>1042</th>\n",
              "      <td>9.07</td>\n",
              "      <td>13.13</td>\n",
              "      <td>-6.84</td>\n",
              "      <td>2.54</td>\n",
              "      <td>-2.04</td>\n",
              "      <td>-1.84</td>\n",
              "      <td>-1.73</td>\n",
              "      <td>-5.25</td>\n",
              "      <td>0.23</td>\n",
              "      <td>-1.94</td>\n",
              "      <td>-1.34</td>\n",
              "      <td>3.77</td>\n",
              "      <td>-1.68</td>\n",
              "      <td>-2.91</td>\n",
              "      <td>2.33</td>\n",
              "      <td>-1.17</td>\n",
              "    </tr>\n",
              "    <tr>\n",
              "      <th>1043</th>\n",
              "      <td>-6.88</td>\n",
              "      <td>3.14</td>\n",
              "      <td>-0.45</td>\n",
              "      <td>-0.03</td>\n",
              "      <td>0.67</td>\n",
              "      <td>0.49</td>\n",
              "      <td>0.58</td>\n",
              "      <td>-2.70</td>\n",
              "      <td>0.11</td>\n",
              "      <td>-2.08</td>\n",
              "      <td>-1.72</td>\n",
              "      <td>-0.71</td>\n",
              "      <td>-1.54</td>\n",
              "      <td>-2.98</td>\n",
              "      <td>-1.18</td>\n",
              "      <td>-0.03</td>\n",
              "    </tr>\n",
              "    <tr>\n",
              "      <th>1044</th>\n",
              "      <td>-10.36</td>\n",
              "      <td>-0.03</td>\n",
              "      <td>2.30</td>\n",
              "      <td>0.97</td>\n",
              "      <td>-3.76</td>\n",
              "      <td>1.57</td>\n",
              "      <td>-2.73</td>\n",
              "      <td>-1.56</td>\n",
              "      <td>0.42</td>\n",
              "      <td>0.13</td>\n",
              "      <td>-1.93</td>\n",
              "      <td>1.00</td>\n",
              "      <td>-1.16</td>\n",
              "      <td>-0.38</td>\n",
              "      <td>0.31</td>\n",
              "      <td>-1.06</td>\n",
              "    </tr>\n",
              "    <tr>\n",
              "      <th>1045</th>\n",
              "      <td>-17.92</td>\n",
              "      <td>-2.55</td>\n",
              "      <td>-0.32</td>\n",
              "      <td>0.30</td>\n",
              "      <td>-1.77</td>\n",
              "      <td>4.07</td>\n",
              "      <td>-1.52</td>\n",
              "      <td>-2.57</td>\n",
              "      <td>2.30</td>\n",
              "      <td>0.93</td>\n",
              "      <td>-2.39</td>\n",
              "      <td>-1.71</td>\n",
              "      <td>2.92</td>\n",
              "      <td>0.65</td>\n",
              "      <td>0.93</td>\n",
              "      <td>1.44</td>\n",
              "    </tr>\n",
              "  </tbody>\n",
              "</table>\n",
              "<p>1046 rows × 16 columns</p>\n",
              "</div>"
            ],
            "text/plain": [
              "         0      1     2     3     4     5     6     7     8     9     10  \\\n",
              "0     22.72 -17.29 -6.46  1.77 11.42 -3.16  5.03  5.07 -4.58 -3.04 -2.39   \n",
              "1     21.55 -14.04 -9.45  3.48 10.21 -2.88  1.95  0.68 -6.26 -8.18 -4.13   \n",
              "2     16.80 -18.22 -5.08  1.14  2.49 -0.86  2.51 -1.23 -0.90 -1.76 -1.36   \n",
              "3     24.89 -12.42 -3.25  2.99  5.27  0.73 -1.54  3.52  1.24 -2.88  4.26   \n",
              "4     22.88 -19.37 -3.47  4.57 10.98  3.05 -1.15  0.85 -2.49 -2.14 -0.16   \n",
              "...     ...    ...   ...   ...   ...   ...   ...   ...   ...   ...   ...   \n",
              "1041   5.77   8.93  3.54 12.42  6.96  0.38 -0.14 -1.10 -0.51 -0.97 -1.82   \n",
              "1042   9.07  13.13 -6.84  2.54 -2.04 -1.84 -1.73 -5.25  0.23 -1.94 -1.34   \n",
              "1043  -6.88   3.14 -0.45 -0.03  0.67  0.49  0.58 -2.70  0.11 -2.08 -1.72   \n",
              "1044 -10.36  -0.03  2.30  0.97 -3.76  1.57 -2.73 -1.56  0.42  0.13 -1.93   \n",
              "1045 -17.92  -2.55 -0.32  0.30 -1.77  4.07 -1.52 -2.57  2.30  0.93 -2.39   \n",
              "\n",
              "        11    12    13    14    15  \n",
              "0     2.14  1.57  0.56 -1.82  2.68  \n",
              "1     8.89 -4.81  3.97  1.73  2.42  \n",
              "2    -3.05  3.23  2.61 -0.81  2.38  \n",
              "3     1.72 -4.47  3.81  1.89  2.22  \n",
              "4    -0.32 -1.25  3.87 -1.87 -0.20  \n",
              "...    ...   ...   ...   ...   ...  \n",
              "1041 -5.21  2.37 -1.75  3.32 -2.29  \n",
              "1042  3.77 -1.68 -2.91  2.33 -1.17  \n",
              "1043 -0.71 -1.54 -2.98 -1.18 -0.03  \n",
              "1044  1.00 -1.16 -0.38  0.31 -1.06  \n",
              "1045 -1.71  2.92  0.65  0.93  1.44  \n",
              "\n",
              "[1046 rows x 16 columns]"
            ]
          },
          "execution_count": 205,
          "metadata": {},
          "output_type": "execute_result"
        }
      ],
      "source": [
        "df = pandas.DataFrame(features_pca)\n",
        "df.to_feather(f\"{subj}/{exp}/features.feather\")\n",
        "df"
      ]
    }
  ],
  "metadata": {
    "colab": {
      "provenance": []
    },
    "kernelspec": {
      "display_name": "Python 3",
      "name": "python3"
    },
    "language_info": {
      "codemirror_mode": {
        "name": "ipython",
        "version": 3
      },
      "file_extension": ".py",
      "mimetype": "text/x-python",
      "name": "python",
      "nbconvert_exporter": "python",
      "pygments_lexer": "ipython3",
      "version": "3.10.11"
    }
  },
  "nbformat": 4,
  "nbformat_minor": 0
}
