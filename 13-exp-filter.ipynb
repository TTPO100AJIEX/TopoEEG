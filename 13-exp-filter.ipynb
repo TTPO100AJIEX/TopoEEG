{
 "cells": [
  {
   "cell_type": "code",
   "execution_count": 43,
   "metadata": {},
   "outputs": [],
   "source": [
    "import os\n",
    "\n",
    "subj = \"Subj1\"\n",
    "exp = \"exp_filter\"\n",
    "os.makedirs(f\"{subj}/{exp}\", exist_ok = True)"
   ]
  },
  {
   "cell_type": "code",
   "execution_count": 44,
   "metadata": {},
   "outputs": [],
   "source": [
    "import SDA\n",
    "import SDA.analytics\n",
    "import SDA.clustquality\n",
    "\n",
    "import umap\n",
    "import tqdm\n",
    "import numpy\n",
    "import pandas\n",
    "import sklearn.manifold\n",
    "import sklearn.preprocessing\n",
    "import sklearn.decomposition\n",
    "import sklearn.feature_selection"
   ]
  },
  {
   "cell_type": "code",
   "execution_count": 45,
   "metadata": {},
   "outputs": [
    {
     "name": "stdout",
     "output_type": "stream",
     "text": [
      "(1046, 8400)\n",
      "(1046, 291)\n",
      "(1046, 8691)\n"
     ]
    }
   ],
   "source": [
    "edges_true = numpy.loadtxt(f\"{subj}/reproduction/internal/best_edges.txt\").astype(numpy.int32)\n",
    "channel_features = pandas.read_feather(f'{subj}/exp_final/channel_features.feather')\n",
    "overall_features = pandas.read_feather(f'{subj}/exp_final/overall_features.feather')\n",
    "print(channel_features.shape)\n",
    "print(overall_features.shape)\n",
    "\n",
    "features = pandas.concat((channel_features, overall_features), axis = 1)\n",
    "print(features.shape)"
   ]
  },
  {
   "cell_type": "code",
   "execution_count": 46,
   "metadata": {},
   "outputs": [
    {
     "data": {
      "text/plain": [
       "(1046, 7141)"
      ]
     },
     "execution_count": 46,
     "metadata": {},
     "output_type": "execute_result"
    }
   ],
   "source": [
    "features_T = features.to_numpy().T\n",
    "features_nondup = numpy.ascontiguousarray(features_T).view(numpy.dtype((numpy.void, features_T.dtype.itemsize * features_T.shape[1])))\n",
    "features_nondup = numpy.unique(features_nondup).view(features_T.dtype).reshape(-1, features_T.shape[1]).T\n",
    "features_nondup.shape"
   ]
  },
  {
   "cell_type": "code",
   "execution_count": 47,
   "metadata": {},
   "outputs": [
    {
     "name": "stdout",
     "output_type": "stream",
     "text": [
      "(1046, 7141)\n"
     ]
    }
   ],
   "source": [
    "features_nondup = sklearn.preprocessing.StandardScaler().fit_transform(features_nondup)\n",
    "print(features_nondup.shape)"
   ]
  },
  {
   "cell_type": "code",
   "execution_count": 48,
   "metadata": {},
   "outputs": [
    {
     "name": "stdout",
     "output_type": "stream",
     "text": [
      "[PCA(n_components=8, random_state=42, svd_solver='full'), PCA(n_components=16, random_state=42, svd_solver='full'), PCA(n_components=32, random_state=42, svd_solver='full'), PCA(n_components=48, random_state=42, svd_solver='full'), PCA(n_components=64, random_state=42, svd_solver='full'), UMAP(n_components=8, random_state=42), UMAP(n_components=16, random_state=42), UMAP(n_components=32, random_state=42), UMAP(n_components=48, random_state=42), UMAP(n_components=64, random_state=42)]\n"
     ]
    }
   ],
   "source": [
    "n_components = [ 8, 16, 32, 48, 64 ]\n",
    "algorithms = [\n",
    "    *[\n",
    "        sklearn.decomposition.PCA(n_components = n_comp, svd_solver = \"full\", random_state = 42)\n",
    "        for n_comp in n_components\n",
    "    ],\n",
    "    *[\n",
    "        umap.UMAP(n_components = n_comp, random_state = 42)\n",
    "        for n_comp in n_components\n",
    "    ]\n",
    "]\n",
    "print(algorithms)"
   ]
  },
  {
   "cell_type": "code",
   "execution_count": 49,
   "metadata": {},
   "outputs": [
    {
     "name": "stderr",
     "output_type": "stream",
     "text": [
      "d:\\Programs\\Programming\\Python\\lib\\site-packages\\umap\\umap_.py:1945: UserWarning: n_jobs value 1 overridden to 1 by setting random_state. Use no seed for parallelism.\n",
      "  warn(f\"n_jobs value {self.n_jobs} overridden to 1 by setting random_state. Use no seed for parallelism.\")\n"
     ]
    },
    {
     "name": "stdout",
     "output_type": "stream",
     "text": [
      "Applying to 1046 samples with 8 features each\n",
      "Running stage 1\n"
     ]
    },
    {
     "data": {
      "application/vnd.jupyter.widget-view+json": {
       "model_id": "92929f2bad38426383c3bac816c3aba8",
       "version_major": 2,
       "version_minor": 0
      },
      "text/plain": [
       "  0%|          | 0/589 [00:00<?, ?it/s]"
      ]
     },
     "metadata": {},
     "output_type": "display_data"
    },
    {
     "name": "stdout",
     "output_type": "stream",
     "text": [
      "Running stage 2\n"
     ]
    },
    {
     "data": {
      "application/vnd.jupyter.widget-view+json": {
       "model_id": "b7bf40eca2724640a7d6aa23386d6db0",
       "version_major": 2,
       "version_minor": 0
      },
      "text/plain": [
       "  0%|          | 0/672 [00:00<?, ?it/s]"
      ]
     },
     "metadata": {},
     "output_type": "display_data"
    },
    {
     "name": "stderr",
     "output_type": "stream",
     "text": [
      "d:\\Programs\\Programming\\Python\\lib\\site-packages\\umap\\umap_.py:1945: UserWarning: n_jobs value 1 overridden to 1 by setting random_state. Use no seed for parallelism.\n",
      "  warn(f\"n_jobs value {self.n_jobs} overridden to 1 by setting random_state. Use no seed for parallelism.\")\n"
     ]
    },
    {
     "name": "stdout",
     "output_type": "stream",
     "text": [
      "Applying to 1046 samples with 16 features each\n",
      "Running stage 1\n"
     ]
    },
    {
     "data": {
      "application/vnd.jupyter.widget-view+json": {
       "model_id": "1a4468a3d6bb45048f175e32c695108d",
       "version_major": 2,
       "version_minor": 0
      },
      "text/plain": [
       "  0%|          | 0/589 [00:00<?, ?it/s]"
      ]
     },
     "metadata": {},
     "output_type": "display_data"
    },
    {
     "name": "stdout",
     "output_type": "stream",
     "text": [
      "Running stage 2\n"
     ]
    },
    {
     "data": {
      "application/vnd.jupyter.widget-view+json": {
       "model_id": "6c9ec04aa6fb4a589f553856ab915206",
       "version_major": 2,
       "version_minor": 0
      },
      "text/plain": [
       "  0%|          | 0/672 [00:00<?, ?it/s]"
      ]
     },
     "metadata": {},
     "output_type": "display_data"
    },
    {
     "name": "stderr",
     "output_type": "stream",
     "text": [
      "d:\\Programs\\Programming\\Python\\lib\\site-packages\\umap\\umap_.py:1945: UserWarning: n_jobs value 1 overridden to 1 by setting random_state. Use no seed for parallelism.\n",
      "  warn(f\"n_jobs value {self.n_jobs} overridden to 1 by setting random_state. Use no seed for parallelism.\")\n"
     ]
    },
    {
     "name": "stdout",
     "output_type": "stream",
     "text": [
      "Applying to 1046 samples with 32 features each\n",
      "Running stage 1\n"
     ]
    },
    {
     "data": {
      "application/vnd.jupyter.widget-view+json": {
       "model_id": "c628b655558c404b8b1c592f1d40a7a7",
       "version_major": 2,
       "version_minor": 0
      },
      "text/plain": [
       "  0%|          | 0/589 [00:00<?, ?it/s]"
      ]
     },
     "metadata": {},
     "output_type": "display_data"
    },
    {
     "name": "stdout",
     "output_type": "stream",
     "text": [
      "Running stage 2\n"
     ]
    },
    {
     "data": {
      "application/vnd.jupyter.widget-view+json": {
       "model_id": "873b88007be24ac3ad108d0af0bca1e6",
       "version_major": 2,
       "version_minor": 0
      },
      "text/plain": [
       "  0%|          | 0/672 [00:00<?, ?it/s]"
      ]
     },
     "metadata": {},
     "output_type": "display_data"
    },
    {
     "name": "stderr",
     "output_type": "stream",
     "text": [
      "d:\\Programs\\Programming\\Python\\lib\\site-packages\\umap\\umap_.py:1945: UserWarning: n_jobs value 1 overridden to 1 by setting random_state. Use no seed for parallelism.\n",
      "  warn(f\"n_jobs value {self.n_jobs} overridden to 1 by setting random_state. Use no seed for parallelism.\")\n"
     ]
    },
    {
     "name": "stdout",
     "output_type": "stream",
     "text": [
      "Applying to 1046 samples with 48 features each\n",
      "Running stage 1\n"
     ]
    },
    {
     "data": {
      "application/vnd.jupyter.widget-view+json": {
       "model_id": "bbd705f7997f49858c9d4e5c5bdb118d",
       "version_major": 2,
       "version_minor": 0
      },
      "text/plain": [
       "  0%|          | 0/589 [00:00<?, ?it/s]"
      ]
     },
     "metadata": {},
     "output_type": "display_data"
    },
    {
     "name": "stdout",
     "output_type": "stream",
     "text": [
      "Running stage 2\n"
     ]
    },
    {
     "data": {
      "application/vnd.jupyter.widget-view+json": {
       "model_id": "9b9b44a7593f42f88496512f9b264023",
       "version_major": 2,
       "version_minor": 0
      },
      "text/plain": [
       "  0%|          | 0/672 [00:00<?, ?it/s]"
      ]
     },
     "metadata": {},
     "output_type": "display_data"
    },
    {
     "name": "stderr",
     "output_type": "stream",
     "text": [
      "d:\\Programs\\Programming\\Python\\lib\\site-packages\\umap\\umap_.py:1945: UserWarning: n_jobs value 1 overridden to 1 by setting random_state. Use no seed for parallelism.\n",
      "  warn(f\"n_jobs value {self.n_jobs} overridden to 1 by setting random_state. Use no seed for parallelism.\")\n"
     ]
    },
    {
     "name": "stdout",
     "output_type": "stream",
     "text": [
      "Applying to 1046 samples with 64 features each\n",
      "Running stage 1\n"
     ]
    },
    {
     "data": {
      "application/vnd.jupyter.widget-view+json": {
       "model_id": "daa49846dd934683aebe07d8b443a49a",
       "version_major": 2,
       "version_minor": 0
      },
      "text/plain": [
       "  0%|          | 0/589 [00:00<?, ?it/s]"
      ]
     },
     "metadata": {},
     "output_type": "display_data"
    },
    {
     "name": "stdout",
     "output_type": "stream",
     "text": [
      "Running stage 2\n"
     ]
    },
    {
     "data": {
      "application/vnd.jupyter.widget-view+json": {
       "model_id": "dc86b28fa83143518831ce77a89efb4b",
       "version_major": 2,
       "version_minor": 0
      },
      "text/plain": [
       "  0%|          | 0/672 [00:00<?, ?it/s]"
      ]
     },
     "metadata": {},
     "output_type": "display_data"
    },
    {
     "data": {
      "text/html": [
       "<div>\n",
       "<style scoped>\n",
       "    .dataframe tbody tr th:only-of-type {\n",
       "        vertical-align: middle;\n",
       "    }\n",
       "\n",
       "    .dataframe tbody tr th {\n",
       "        vertical-align: top;\n",
       "    }\n",
       "\n",
       "    .dataframe thead th {\n",
       "        text-align: right;\n",
       "    }\n",
       "</style>\n",
       "<table border=\"1\" class=\"dataframe\">\n",
       "  <thead>\n",
       "    <tr style=\"text-align: right;\">\n",
       "      <th></th>\n",
       "      <th>Algorithm</th>\n",
       "      <th>Key</th>\n",
       "      <th>Ward_dist</th>\n",
       "      <th>Cen_dist</th>\n",
       "      <th>Avg-Silh</th>\n",
       "      <th>Avg-Cal-Har</th>\n",
       "      <th>Avg-Dav-Bold</th>\n",
       "      <th>AMI</th>\n",
       "      <th>ARI</th>\n",
       "      <th>FMI</th>\n",
       "    </tr>\n",
       "  </thead>\n",
       "  <tbody>\n",
       "    <tr>\n",
       "      <th>0</th>\n",
       "      <td>UMAP(n_components=8, n_jobs=1, random_state=42...</td>\n",
       "      <td>Avg-Silh</td>\n",
       "      <td>258.178944</td>\n",
       "      <td>2.024138</td>\n",
       "      <td>0.299268</td>\n",
       "      <td>155.825733</td>\n",
       "      <td>1.359104</td>\n",
       "      <td>0.827020</td>\n",
       "      <td>0.665484</td>\n",
       "      <td>0.712177</td>\n",
       "    </tr>\n",
       "    <tr>\n",
       "      <th>1</th>\n",
       "      <td>UMAP(n_components=8, n_jobs=1, random_state=42...</td>\n",
       "      <td>FMI</td>\n",
       "      <td>257.091097</td>\n",
       "      <td>1.995148</td>\n",
       "      <td>0.294314</td>\n",
       "      <td>154.410997</td>\n",
       "      <td>1.416181</td>\n",
       "      <td>0.834675</td>\n",
       "      <td>0.670428</td>\n",
       "      <td>0.716543</td>\n",
       "    </tr>\n",
       "    <tr>\n",
       "      <th>2</th>\n",
       "      <td>UMAP(n_components=16, n_jobs=1, random_state=4...</td>\n",
       "      <td>Avg-Silh</td>\n",
       "      <td>260.652153</td>\n",
       "      <td>2.017073</td>\n",
       "      <td>0.305923</td>\n",
       "      <td>156.007292</td>\n",
       "      <td>1.401082</td>\n",
       "      <td>0.880943</td>\n",
       "      <td>0.754969</td>\n",
       "      <td>0.790308</td>\n",
       "    </tr>\n",
       "    <tr>\n",
       "      <th>3</th>\n",
       "      <td>UMAP(n_components=16, n_jobs=1, random_state=4...</td>\n",
       "      <td>FMI</td>\n",
       "      <td>260.652153</td>\n",
       "      <td>2.017073</td>\n",
       "      <td>0.305923</td>\n",
       "      <td>156.007292</td>\n",
       "      <td>1.401082</td>\n",
       "      <td>0.880943</td>\n",
       "      <td>0.754969</td>\n",
       "      <td>0.790308</td>\n",
       "    </tr>\n",
       "    <tr>\n",
       "      <th>4</th>\n",
       "      <td>UMAP(n_components=32, n_jobs=1, random_state=4...</td>\n",
       "      <td>Avg-Silh</td>\n",
       "      <td>261.635709</td>\n",
       "      <td>2.029388</td>\n",
       "      <td>0.299366</td>\n",
       "      <td>157.204852</td>\n",
       "      <td>1.380072</td>\n",
       "      <td>0.840890</td>\n",
       "      <td>0.704696</td>\n",
       "      <td>0.746476</td>\n",
       "    </tr>\n",
       "    <tr>\n",
       "      <th>5</th>\n",
       "      <td>UMAP(n_components=32, n_jobs=1, random_state=4...</td>\n",
       "      <td>FMI</td>\n",
       "      <td>264.640447</td>\n",
       "      <td>2.018916</td>\n",
       "      <td>0.299256</td>\n",
       "      <td>158.106380</td>\n",
       "      <td>1.412796</td>\n",
       "      <td>0.860918</td>\n",
       "      <td>0.723428</td>\n",
       "      <td>0.762478</td>\n",
       "    </tr>\n",
       "    <tr>\n",
       "      <th>6</th>\n",
       "      <td>UMAP(n_components=48, n_jobs=1, random_state=4...</td>\n",
       "      <td>Avg-Silh</td>\n",
       "      <td>262.531906</td>\n",
       "      <td>2.077770</td>\n",
       "      <td>0.325555</td>\n",
       "      <td>139.715037</td>\n",
       "      <td>1.246078</td>\n",
       "      <td>0.826219</td>\n",
       "      <td>0.674514</td>\n",
       "      <td>0.724344</td>\n",
       "    </tr>\n",
       "    <tr>\n",
       "      <th>7</th>\n",
       "      <td>UMAP(n_components=48, n_jobs=1, random_state=4...</td>\n",
       "      <td>FMI</td>\n",
       "      <td>256.989070</td>\n",
       "      <td>1.999254</td>\n",
       "      <td>0.298823</td>\n",
       "      <td>153.470188</td>\n",
       "      <td>1.415406</td>\n",
       "      <td>0.867155</td>\n",
       "      <td>0.742414</td>\n",
       "      <td>0.779700</td>\n",
       "    </tr>\n",
       "    <tr>\n",
       "      <th>8</th>\n",
       "      <td>UMAP(n_components=64, n_jobs=1, random_state=4...</td>\n",
       "      <td>Avg-Silh</td>\n",
       "      <td>260.002456</td>\n",
       "      <td>2.016642</td>\n",
       "      <td>0.295091</td>\n",
       "      <td>156.663437</td>\n",
       "      <td>1.388240</td>\n",
       "      <td>0.811397</td>\n",
       "      <td>0.647019</td>\n",
       "      <td>0.696165</td>\n",
       "    </tr>\n",
       "    <tr>\n",
       "      <th>9</th>\n",
       "      <td>UMAP(n_components=64, n_jobs=1, random_state=4...</td>\n",
       "      <td>FMI</td>\n",
       "      <td>257.634033</td>\n",
       "      <td>2.000203</td>\n",
       "      <td>0.288737</td>\n",
       "      <td>153.454931</td>\n",
       "      <td>1.403112</td>\n",
       "      <td>0.818665</td>\n",
       "      <td>0.664799</td>\n",
       "      <td>0.711599</td>\n",
       "    </tr>\n",
       "  </tbody>\n",
       "</table>\n",
       "</div>"
      ],
      "text/plain": [
       "                                           Algorithm       Key   Ward_dist  \\\n",
       "0  UMAP(n_components=8, n_jobs=1, random_state=42...  Avg-Silh  258.178944   \n",
       "1  UMAP(n_components=8, n_jobs=1, random_state=42...       FMI  257.091097   \n",
       "2  UMAP(n_components=16, n_jobs=1, random_state=4...  Avg-Silh  260.652153   \n",
       "3  UMAP(n_components=16, n_jobs=1, random_state=4...       FMI  260.652153   \n",
       "4  UMAP(n_components=32, n_jobs=1, random_state=4...  Avg-Silh  261.635709   \n",
       "5  UMAP(n_components=32, n_jobs=1, random_state=4...       FMI  264.640447   \n",
       "6  UMAP(n_components=48, n_jobs=1, random_state=4...  Avg-Silh  262.531906   \n",
       "7  UMAP(n_components=48, n_jobs=1, random_state=4...       FMI  256.989070   \n",
       "8  UMAP(n_components=64, n_jobs=1, random_state=4...  Avg-Silh  260.002456   \n",
       "9  UMAP(n_components=64, n_jobs=1, random_state=4...       FMI  257.634033   \n",
       "\n",
       "   Cen_dist  Avg-Silh  Avg-Cal-Har  Avg-Dav-Bold       AMI       ARI       FMI  \n",
       "0  2.024138  0.299268   155.825733      1.359104  0.827020  0.665484  0.712177  \n",
       "1  1.995148  0.294314   154.410997      1.416181  0.834675  0.670428  0.716543  \n",
       "2  2.017073  0.305923   156.007292      1.401082  0.880943  0.754969  0.790308  \n",
       "3  2.017073  0.305923   156.007292      1.401082  0.880943  0.754969  0.790308  \n",
       "4  2.029388  0.299366   157.204852      1.380072  0.840890  0.704696  0.746476  \n",
       "5  2.018916  0.299256   158.106380      1.412796  0.860918  0.723428  0.762478  \n",
       "6  2.077770  0.325555   139.715037      1.246078  0.826219  0.674514  0.724344  \n",
       "7  1.999254  0.298823   153.470188      1.415406  0.867155  0.742414  0.779700  \n",
       "8  2.016642  0.295091   156.663437      1.388240  0.811397  0.647019  0.696165  \n",
       "9  2.000203  0.288737   153.454931      1.403112  0.818665  0.664799  0.711599  "
      ]
     },
     "execution_count": 49,
     "metadata": {},
     "output_type": "execute_result"
    }
   ],
   "source": [
    "stats = [ ]\n",
    "for algorithm in algorithms:\n",
    "    features_reduced = algorithm.fit_transform(features_nondup)\n",
    "    result, df_st_edges = SDA.SDA(scale = False).apply(features_reduced)\n",
    "\n",
    "    metrics = [ ]\n",
    "    for row in result['St_edges']:\n",
    "        metrics.append(SDA.clustquality.cluster_metrics_ground(edges_true, row))\n",
    "    result = pandas.concat([ result, pandas.DataFrame(metrics) ], axis = 1)\n",
    "    \n",
    "    best_result = SDA.analytics.best_result(result, key = 'Avg-Silh', n_stages = 9)\n",
    "    best_result[\"Algorithm\"] = algorithm\n",
    "    best_result[\"Key\"] = 'Avg-Silh'\n",
    "    stats.append(best_result)\n",
    "    \n",
    "    best_result = SDA.analytics.best_result(result, key = 'FMI', n_stages = 9)\n",
    "    best_result[\"Algorithm\"] = algorithm\n",
    "    best_result[\"Key\"] = 'FMI'\n",
    "    stats.append(best_result)\n",
    "\n",
    "df = pandas.DataFrame(stats)[[\"Algorithm\", \"Key\", \"Ward_dist\", \"Cen_dist\", \"Avg-Silh\", \"Avg-Cal-Har\", \"Avg-Dav-Bold\", \"AMI\", \"ARI\", \"FMI\"]]\n",
    "df"
   ]
  }
 ],
 "metadata": {
  "kernelspec": {
   "display_name": "Python 3",
   "language": "python",
   "name": "python3"
  },
  "language_info": {
   "codemirror_mode": {
    "name": "ipython",
    "version": 3
   },
   "file_extension": ".py",
   "mimetype": "text/x-python",
   "name": "python",
   "nbconvert_exporter": "python",
   "pygments_lexer": "ipython3",
   "version": "3.10.11"
  }
 },
 "nbformat": 4,
 "nbformat_minor": 2
}
