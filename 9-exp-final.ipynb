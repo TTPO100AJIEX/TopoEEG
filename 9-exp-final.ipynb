{
  "cells": [
    {
      "cell_type": "code",
      "execution_count": 94,
      "metadata": {},
      "outputs": [],
      "source": [
        "import os\n",
        "\n",
        "subj = \"Subj3\"\n",
        "exp = \"exp_final\"\n",
        "print_obj = 29\n",
        "os.makedirs(f\"{subj}/{exp}\", exist_ok = True)"
      ]
    },
    {
      "cell_type": "markdown",
      "metadata": {},
      "source": [
        "### Imports"
      ]
    },
    {
      "cell_type": "code",
      "execution_count": 87,
      "metadata": {},
      "outputs": [
        {
          "name": "stdout",
          "output_type": "stream",
          "text": [
            "The autoreload extension is already loaded. To reload it, use:\n",
            "  %reload_ext autoreload\n"
          ]
        }
      ],
      "source": [
        "%load_ext autoreload\n",
        "%autoreload 2\n",
        "\n",
        "import warnings\n",
        "import collections\n",
        "warnings.filterwarnings(\"ignore\")\n",
        "\n",
        "import mne\n",
        "import tqdm\n",
        "import scipy\n",
        "import numpy\n",
        "import pandas\n",
        "import scipy.stats\n",
        "import gtda.curves\n",
        "import tqdm.contrib\n",
        "import gtda.plotting\n",
        "import gtda.homology\n",
        "import gtda.diagrams\n",
        "import gtda.time_series\n",
        "import sklearn.preprocessing\n",
        "import sklearn.decomposition\n",
        "import tqdm.contrib.itertools\n",
        "pandas.options.display.float_format = '{:,.2f}'.format"
      ]
    },
    {
      "cell_type": "code",
      "execution_count": 92,
      "metadata": {},
      "outputs": [],
      "source": [
        "FILTERING_PERCENTILE = 10\n",
        "\n",
        "CHANNEL_STRIDE = 3\n",
        "CHANNEL_MAX_TIME_DELAY = 20\n",
        "CHANNEL_MAX_DIMENSION = 20\n",
        "CHANNEL_HOMOLOGY_DIMENSIONS = [ 1, 2 ]\n",
        "CHANNEL_READ_EMBEDDER_PARAMS_FROM_DISK = False\n",
        "\n",
        "DISSIM_DIMENSION = 50\n",
        "DISSIM_TIME_DELAY = 1\n",
        "DISSIM_STRIDE = 20\n",
        "DISSIM_HOMOLOGY_DIMENSIONS = [ 1, 2, 3, 4, 5 ]\n",
        "\n",
        "OVERALL_DIMENSION = 5\n",
        "OVERALL_TIME_DELAY = 11\n",
        "OVERALL_STRIDE = 3\n",
        "OVERALL_HOMOLOGY_DIMENSIONS = [ 1, 2, 3 ]\n",
        "\n",
        "SILHOUETTE_POWERS = [ 1, 2 ]\n",
        "AMPLITUDE_METRICS = [\n",
        "    { \"id\": \"bottleneck\", \"metric\": \"bottleneck\", \"metric_params\": { } },\n",
        "\n",
        "    { \"id\": \"wasserstein-1\", \"metric\": \"wasserstein\", \"metric_params\": { \"p\": 1 } },\n",
        "    { \"id\": \"wasserstein-2\", \"metric\": \"wasserstein\", \"metric_params\": { \"p\": 2 } },\n",
        "\n",
        "    { \"id\": \"betti-1\", \"metric\": \"betti\", \"metric_params\": { \"p\": 1, 'n_bins': -1 } },\n",
        "    { \"id\": \"betti-2\", \"metric\": \"betti\", \"metric_params\": { \"p\": 2, 'n_bins': -1 } },\n",
        "    \n",
        "    { \"id\": \"landscape-1-1\", \"metric\": \"landscape\", \"metric_params\": { \"p\": 1, \"n_layers\": 1, 'n_bins': -1 } },\n",
        "    { \"id\": \"landscape-1-2\", \"metric\": \"landscape\", \"metric_params\": { \"p\": 1, \"n_layers\": 2, 'n_bins': -1 } },\n",
        "    { \"id\": \"landscape-2-1\", \"metric\": \"landscape\", \"metric_params\": { \"p\": 2, \"n_layers\": 1, 'n_bins': -1 } },\n",
        "    { \"id\": \"landscape-2-2\", \"metric\": \"landscape\", \"metric_params\": { \"p\": 2, \"n_layers\": 2, 'n_bins': -1 } },\n",
        "\n",
        "    { \"id\": \"silhouette-1-1\", \"metric\": \"silhouette\", \"metric_params\": { \"p\": 1, \"power\": 1, 'n_bins': -1 } },\n",
        "    { \"id\": \"silhouette-1-2\", \"metric\": \"silhouette\", \"metric_params\": { \"p\": 1, \"power\": 2, 'n_bins': -1 } },\n",
        "    { \"id\": \"silhouette-2-1\", \"metric\": \"silhouette\", \"metric_params\": { \"p\": 2, \"power\": 1, 'n_bins': -1 } },\n",
        "    { \"id\": \"silhouette-2-2\", \"metric\": \"silhouette\", \"metric_params\": { \"p\": 2, \"power\": 2, 'n_bins': -1 } }\n",
        "]"
      ]
    },
    {
      "cell_type": "code",
      "execution_count": 89,
      "metadata": {},
      "outputs": [],
      "source": [
        "class FeatureCalculator:\n",
        "    def determine_filtering_epsilon(self, diagram):\n",
        "        life = (diagram[:, :, 1] - diagram[:, :, 0]).flatten()\n",
        "        life = life[life != 0]\n",
        "        return numpy.percentile(life, FILTERING_PERCENTILE)\n",
        "    \n",
        "    def apply_filtering(self, diagrams):\n",
        "        eps = self.determine_filtering_epsilon(diagrams)\n",
        "        self.filtering = gtda.diagrams.Filtering(epsilon = eps)\n",
        "        return self.filtering.fit_transform(diagrams)\n",
        "    \n",
        "\n",
        "    def calc_bins(self, diagrams: numpy.ndarray):\n",
        "        return 100\n",
        "\n",
        "\n",
        "    def calc_stats(self, data: numpy.ndarray, prefix: str = \"\") -> pandas.DataFrame:\n",
        "        assert len(data.shape) == 1\n",
        "        if data.shape == (0,): data = numpy.array([ 0 ])\n",
        "        stats = numpy.array([\n",
        "            numpy.max(data), numpy.mean(data), numpy.std(data), numpy.sum(data),\n",
        "            numpy.percentile(data, 25), numpy.median(data), numpy.percentile(data, 75),\n",
        "            scipy.stats.kurtosis(data), scipy.stats.skew(data), numpy.linalg.norm(data, ord = 1), numpy.linalg.norm(data, ord = 2)\n",
        "        ])\n",
        "        names = [ \"max\", \"mean\", \"std\", \"sum\", \"percentile-25\", \"median\", \"percentile-75\", \"kurtosis\", \"skew\", \"norm-1\", \"norm-2\" ]\n",
        "        return pandas.DataFrame([ numpy.nan_to_num(stats) ], columns = [ f\"{prefix} {name}\" for name in names ])\n",
        "\n",
        "    def calc_batch_stats(self, data: numpy.ndarray, homology_dimensions: numpy.ndarray, prefix: str = \"\"):\n",
        "        features = [ ]\n",
        "        for batch in tqdm.tqdm(data, desc = prefix):\n",
        "            features.append([ ])\n",
        "            for dim, vec in zip(homology_dimensions, batch):\n",
        "                features[-1].append(self.calc_stats(vec, prefix = f'{prefix} dim-{dim}'))\n",
        "            features[-1] = pandas.concat(features[-1], axis = 1)\n",
        "        return pandas.concat(features, axis = 0)\n",
        "\n",
        "\n",
        "    def calc_betti_features(self, diagrams: numpy.ndarray, prefix: str = \"\") -> pandas.DataFrame:\n",
        "        self.betti_curve = gtda.diagrams.BettiCurve(n_bins = self.calc_bins(diagrams))\n",
        "        self.betti_derivative = gtda.curves.Derivative()\n",
        "        betti_curves = self.betti_curve.fit_transform(diagrams)\n",
        "        betti_curves = self.betti_derivative.fit_transform(betti_curves)\n",
        "        return self.calc_batch_stats(betti_curves, self.betti_curve.homology_dimensions_, f'{prefix} betti')\n",
        "\n",
        "    def calc_landscape_features(self, diagrams: numpy.ndarray, prefix: str = \"\") -> pandas.DataFrame:\n",
        "        self.persistence_landscape = gtda.diagrams.PersistenceLandscape(n_layers = 1, n_bins = self.calc_bins(diagrams))\n",
        "        persistence_landscape = self.persistence_landscape.fit_transform(diagrams)\n",
        "        return self.calc_batch_stats(persistence_landscape, self.persistence_landscape.homology_dimensions_, f'{prefix} landscape')\n",
        "\n",
        "    def calc_silhouette_features(self, diagrams: numpy.ndarray, prefix: str = \"\", powers: int = SILHOUETTE_POWERS) -> pandas.DataFrame:\n",
        "        if isinstance(powers, int):\n",
        "            silhouette = gtda.diagrams.Silhouette(power = powers, n_bins = self.calc_bins(diagrams))\n",
        "            self.silhouettes.append(silhouette)\n",
        "            silhouettes = silhouette.fit_transform(diagrams)\n",
        "            return self.calc_batch_stats(silhouettes, silhouette.homology_dimensions_, f'{prefix} silhouette-{powers}')\n",
        "        else:\n",
        "            features = [ ]\n",
        "            self.silhouettes = [ ]\n",
        "            for power in powers:\n",
        "                features.append(self.calc_silhouette_features(diagrams, prefix, power))\n",
        "            return pandas.concat(features, axis = 1)\n",
        "    \n",
        "\n",
        "    def calc_entropy_features(self, diagrams: numpy.ndarray, prefix: str = \"\") -> pandas.DataFrame:\n",
        "        self.entropy = gtda.diagrams.PersistenceEntropy(normalize = True, nan_fill_value = 0)\n",
        "        features = self.entropy.fit_transform(diagrams)\n",
        "        names = [ f'{prefix} entropy dim-{dim}' for dim in self.entropy.homology_dimensions_ ]\n",
        "        return pandas.DataFrame(features, columns = names)\n",
        "    \n",
        "    def calc_number_of_points_features(self, diagrams: numpy.ndarray, prefix: str = \"\") -> pandas.DataFrame:\n",
        "        self.number_of_points = gtda.diagrams.NumberOfPoints()\n",
        "        features = self.number_of_points.fit_transform(diagrams)\n",
        "        names = [ f'{prefix} numberofpoints dim-{dim}' for dim in self.number_of_points.homology_dimensions_ ]\n",
        "        return pandas.DataFrame(features, columns = names)\n",
        "    \n",
        "    def calc_amplitude_features(self, diagrams: numpy.ndarray, prefix: str = \"\", **metric) -> pandas.DataFrame:\n",
        "        if len(metric) == 0:\n",
        "            features = [ ]\n",
        "            self.amplitudes = [ ]\n",
        "            for metric in tqdm.tqdm(AMPLITUDE_METRICS, desc = f'{prefix} amplitudes'):\n",
        "                features.append(self.calc_amplitude_features(diagrams, prefix, **metric))\n",
        "            return pandas.concat(features, axis = 1)\n",
        "        else:\n",
        "            metric_params = metric['metric_params'].copy()\n",
        "            if metric_params.get('n_bins', None) == -1:\n",
        "                metric_params['n_bins'] = self.calc_bins(diagrams)\n",
        "            amplitude = gtda.diagrams.Amplitude(metric = metric['metric'], metric_params = metric_params)\n",
        "            self.amplitudes.append(amplitude)\n",
        "            features = amplitude.fit_transform(diagrams)\n",
        "            return pandas.concat([\n",
        "                pandas.DataFrame(features, columns = [ f'{prefix} amplitude-{metric[\"id\"]} dim-{dim}' for dim in amplitude.homology_dimensions_ ]),\n",
        "                pandas.DataFrame(numpy.linalg.norm(features, axis = 1, ord = 1).reshape(-1, 1), columns = [ f'{prefix} amplitude-{metric[\"id\"]} norm-1' ]),\n",
        "                pandas.DataFrame(numpy.linalg.norm(features, axis = 1, ord = 2).reshape(-1, 1), columns = [ f'{prefix} amplitude-{metric[\"id\"]} norm-2' ])\n",
        "            ], axis = 1)\n",
        "    \n",
        "    def calc_lifetime_features(self, diagrams: numpy.ndarray, prefix: str = \"\") -> pandas.DataFrame:\n",
        "        if len(diagrams.shape) == 3:\n",
        "            features = [ ]\n",
        "            for diag in tqdm.tqdm(diagrams, desc = f'{prefix} lifetime'):\n",
        "                features.append(self.calc_lifetime_features(diag, prefix))\n",
        "            return pandas.concat(features, axis = 0)\n",
        "\n",
        "        birth, death, dim = diagrams[:, 0], diagrams[:, 1], diagrams[:, 2]\n",
        "        life = death - birth\n",
        "        \n",
        "        eps = self.filtering.epsilon\n",
        "        birth, death, dim = birth[life >= eps], death[life >= eps], dim[life >= eps]\n",
        "        bd2 = (birth + death) / 2.0\n",
        "        life = death - birth\n",
        "\n",
        "        bd2_features = [ self.calc_stats(bd2, f'{prefix} bd2 all') ]\n",
        "        life_features = [ self.calc_stats(life, f'{prefix} life all') ]\n",
        "        for d in numpy.unique(diagrams[:, 2]).astype(int):\n",
        "            bd2_features.append(self.calc_stats(bd2[dim == d], f'{prefix} bd2 dim-{d}'))\n",
        "            life_features.append(self.calc_stats(life[dim == d], f'{prefix} life dim-{d}'))\n",
        "        return pandas.concat([ *life_features, *bd2_features ], axis = 1)\n",
        "        \n",
        "\n",
        "    def calc_features(self, diagrams: numpy.ndarray, prefix: str = \"\") -> pandas.DataFrame:\n",
        "        diagrams = self.apply_filtering(diagrams)\n",
        "        print('Filtered diagrams:', diagrams.shape)\n",
        "        print('N bins:', self.calc_bins(diagrams))\n",
        "        return pandas.concat([\n",
        "           self.calc_betti_features           (diagrams, prefix).reset_index(drop = True),\n",
        "           self.calc_landscape_features       (diagrams, prefix).reset_index(drop = True),\n",
        "           self.calc_silhouette_features      (diagrams, prefix).reset_index(drop = True),\n",
        "           self.calc_entropy_features         (diagrams, prefix).reset_index(drop = True),\n",
        "           self.calc_number_of_points_features(diagrams, prefix).reset_index(drop = True),\n",
        "           self.calc_amplitude_features       (diagrams, prefix).reset_index(drop = True),\n",
        "           self.calc_lifetime_features        (diagrams, prefix).reset_index(drop = True)\n",
        "        ], axis = 1)\n",
        "\n",
        "\n",
        "    def pca(self, features: numpy.ndarray, scale = False, n_comp = 0.7, var_limit = None, random_state = 42) -> numpy.ndarray:\n",
        "        if scale:\n",
        "            features = sklearn.preprocessing.StandardScaler().fit_transform(features)\n",
        "\n",
        "        if var_limit is not None:\n",
        "            pca = sklearn.decomposition.PCA(random_state = random_state).fit(features)\n",
        "            n_comp = (pca.explained_variance_ratio_ >= var_limit).sum()\n",
        "\n",
        "        pca = sklearn.decomposition.PCA(n_components = n_comp, svd_solver = \"full\", random_state = random_state)\n",
        "        features = pca.fit_transform(features)\n",
        "\n",
        "        log = (\n",
        "            f'Components: {n_comp}\\n'\n",
        "            f'Explained variance: {round(pca.explained_variance_ratio_.sum(), 2)}\\n'\n",
        "            f'{[ round(x, 3) for x in pca.explained_variance_ratio_ ]}'\n",
        "        )\n",
        "        print(log)\n",
        "        return features, log"
      ]
    },
    {
      "cell_type": "markdown",
      "metadata": {},
      "source": [
        "### Data"
      ]
    },
    {
      "cell_type": "code",
      "execution_count": 90,
      "metadata": {},
      "outputs": [
        {
          "name": "stdout",
          "output_type": "stream",
          "text": [
            "Reading d:\\HSE\\year-3\\HSE\\CourseProject\\Subj3\\src\\epochs_filt_rr-epo.fif ...\n",
            "    Found the data of interest:\n",
            "        t =    -500.00 ...     500.00 ms\n",
            "        0 CTF compensation matrices available\n",
            "Not setting metadata\n",
            "1180 matching events found\n",
            "No baseline correction applied\n",
            "0 projection items activated\n",
            "No projector specified for this dataset. Please consider the method self.add_proj.\n"
          ]
        },
        {
          "data": {
            "image/png": "[encoded data removed]",
            "text/plain": [
              "<Figure size 800x420 with 6 Axes>"
            ]
          },
          "metadata": {},
          "output_type": "display_data"
        }
      ],
      "source": [
        "epochs = mne.read_epochs(f\"{subj}/src/epochs_filt_rr-epo.fif\")\n",
        "epochs.average().plot_joint().savefig(f\"{subj}/{exp}/eeg.svg\")\n",
        "data = epochs.get_data(copy = True)"
      ]
    },
    {
      "cell_type": "markdown",
      "metadata": {},
      "source": [
        "### Per-channel features"
      ]
    },
    {
      "cell_type": "markdown",
      "metadata": {},
      "source": [
        "#### TakensEmbedding"
      ]
    },
    {
      "cell_type": "code",
      "execution_count": 95,
      "metadata": {},
      "outputs": [
        {
          "name": "stdout",
          "output_type": "stream",
          "text": [
            "40\n",
            "1180\n"
          ]
        }
      ],
      "source": [
        "if CHANNEL_READ_EMBEDDER_PARAMS_FROM_DISK:\n",
        "    channel_embedders_params = [ ]\n",
        "    for params_data in numpy.load(f\"{subj}/{exp}/channel_embedders_params.npy\"):\n",
        "        channel_embedders_params.append(list(map(tuple, params_data)))\n",
        "else:\n",
        "    channel_searcher = gtda.time_series.SingleTakensEmbedding(\n",
        "        parameters_type = 'search',\n",
        "        time_delay = CHANNEL_MAX_TIME_DELAY,\n",
        "        dimension = CHANNEL_MAX_DIMENSION,\n",
        "        stride = CHANNEL_STRIDE,\n",
        "        n_jobs = -1\n",
        "    )\n",
        "    channel_embedders_params = [ [ ] for _ in range(data.shape[1]) ]\n",
        "    for i, j in tqdm.contrib.itertools.product(range(data.shape[0]), range(data.shape[1])):\n",
        "        channel_searcher.fit(data[i, j, :])\n",
        "        channel_embedders_params[j].append((channel_searcher.dimension_, channel_searcher.time_delay_))\n",
        "    numpy.save(f\"{subj}/{exp}/channel_embedders_params.npy\", channel_embedders_params)\n",
        "\n",
        "print(len(channel_embedders_params))\n",
        "print(len(channel_embedders_params[0]))"
      ]
    },
    {
      "cell_type": "code",
      "execution_count": null,
      "metadata": {},
      "outputs": [
        {
          "name": "stdout",
          "output_type": "stream",
          "text": [
            "[SingleTakensEmbedding(n_jobs=-1, parameters_type='fixed', stride=3,\n",
            "                      time_delay=4), SingleTakensEmbedding(n_jobs=-1, parameters_type='fixed', stride=3,\n",
            "                      time_delay=4), SingleTakensEmbedding(n_jobs=-1, parameters_type='fixed', stride=3,\n",
            "                      time_delay=4), SingleTakensEmbedding(n_jobs=-1, parameters_type='fixed', stride=3,\n",
            "                      time_delay=4), SingleTakensEmbedding(n_jobs=-1, parameters_type='fixed', stride=3,\n",
            "                      time_delay=4), SingleTakensEmbedding(n_jobs=-1, parameters_type='fixed', stride=3,\n",
            "                      time_delay=4), SingleTakensEmbedding(n_jobs=-1, parameters_type='fixed', stride=3,\n",
            "                      time_delay=4), SingleTakensEmbedding(dimension=4, n_jobs=-1, parameters_type='fixed', stride=3,\n",
            "                      time_delay=5), SingleTakensEmbedding(n_jobs=-1, parameters_type='fixed', stride=3,\n",
            "                      time_delay=6), SingleTakensEmbedding(n_jobs=-1, parameters_type='fixed', stride=3,\n",
            "                      time_delay=4), SingleTakensEmbedding(n_jobs=-1, parameters_type='fixed', stride=3,\n",
            "                      time_delay=5), SingleTakensEmbedding(n_jobs=-1, parameters_type='fixed', stride=3,\n",
            "                      time_delay=4), SingleTakensEmbedding(n_jobs=-1, parameters_type='fixed', stride=3,\n",
            "                      time_delay=6), SingleTakensEmbedding(dimension=4, n_jobs=-1, parameters_type='fixed', stride=3,\n",
            "                      time_delay=5), SingleTakensEmbedding(n_jobs=-1, parameters_type='fixed', stride=3,\n",
            "                      time_delay=5), SingleTakensEmbedding(n_jobs=-1, parameters_type='fixed', stride=3,\n",
            "                      time_delay=7), SingleTakensEmbedding(n_jobs=-1, parameters_type='fixed', stride=3,\n",
            "                      time_delay=5), SingleTakensEmbedding(dimension=4, n_jobs=-1, parameters_type='fixed', stride=3,\n",
            "                      time_delay=5), SingleTakensEmbedding(dimension=4, n_jobs=-1, parameters_type='fixed', stride=3,\n",
            "                      time_delay=5), SingleTakensEmbedding(n_jobs=-1, parameters_type='fixed', stride=3,\n",
            "                      time_delay=5), SingleTakensEmbedding(n_jobs=-1, parameters_type='fixed', stride=3,\n",
            "                      time_delay=6), SingleTakensEmbedding(dimension=4, n_jobs=-1, parameters_type='fixed', stride=3,\n",
            "                      time_delay=8), SingleTakensEmbedding(n_jobs=-1, parameters_type='fixed', stride=3,\n",
            "                      time_delay=4), SingleTakensEmbedding(n_jobs=-1, parameters_type='fixed', stride=3,\n",
            "                      time_delay=6), SingleTakensEmbedding(n_jobs=-1, parameters_type='fixed', stride=3,\n",
            "                      time_delay=5), SingleTakensEmbedding(n_jobs=-1, parameters_type='fixed', stride=3,\n",
            "                      time_delay=6), SingleTakensEmbedding(n_jobs=-1, parameters_type='fixed', stride=3,\n",
            "                      time_delay=9), SingleTakensEmbedding(n_jobs=-1, parameters_type='fixed', stride=3,\n",
            "                      time_delay=8), SingleTakensEmbedding(n_jobs=-1, parameters_type='fixed', stride=3,\n",
            "                      time_delay=5), SingleTakensEmbedding(n_jobs=-1, parameters_type='fixed', stride=3,\n",
            "                      time_delay=5), SingleTakensEmbedding(n_jobs=-1, parameters_type='fixed', stride=3,\n",
            "                      time_delay=5), SingleTakensEmbedding(n_jobs=-1, parameters_type='fixed', stride=3,\n",
            "                      time_delay=11), SingleTakensEmbedding(n_jobs=-1, parameters_type='fixed', stride=3,\n",
            "                      time_delay=10), SingleTakensEmbedding(n_jobs=-1, parameters_type='fixed', stride=3,\n",
            "                      time_delay=10), SingleTakensEmbedding(n_jobs=-1, parameters_type='fixed', stride=3,\n",
            "                      time_delay=10), SingleTakensEmbedding(n_jobs=-1, parameters_type='fixed', stride=3,\n",
            "                      time_delay=6), SingleTakensEmbedding(n_jobs=-1, parameters_type='fixed', stride=3,\n",
            "                      time_delay=7), SingleTakensEmbedding(n_jobs=-1, parameters_type='fixed', stride=3,\n",
            "                      time_delay=5), SingleTakensEmbedding(n_jobs=-1, parameters_type='fixed', stride=3,\n",
            "                      time_delay=7), SingleTakensEmbedding(n_jobs=-1, parameters_type='fixed', stride=3,\n",
            "                      time_delay=5)]\n",
            "40\n"
          ]
        }
      ],
      "source": [
        "channel_embedders = [ ]\n",
        "for i in range(len(channel_embedders_params)):\n",
        "    (dimension, time_delay), _ = collections.Counter(channel_embedders_params[i]).most_common(1)[0]\n",
        "    attractor = gtda.time_series.SingleTakensEmbedding(\n",
        "        parameters_type = 'fixed',\n",
        "        time_delay = int(time_delay),\n",
        "        dimension = int(dimension),\n",
        "        stride = CHANNEL_STRIDE,\n",
        "        n_jobs = -1\n",
        "    )\n",
        "    channel_embedders.append(attractor)\n",
        "    \n",
        "print(channel_embedders)\n",
        "print(len(channel_embedders))"
      ]
    },
    {
      "cell_type": "code",
      "execution_count": null,
      "metadata": {},
      "outputs": [
        {
          "data": {
            "application/vnd.jupyter.widget-view+json": {
              "model_id": "0757e2322e61409ab9c1b487eab2eaa1",
              "version_major": 2,
              "version_minor": 0
            },
            "text/plain": [
              "  0%|          | 0/47200 [00:00<?, ?it/s]"
            ]
          },
          "metadata": {},
          "output_type": "display_data"
        },
        {
          "name": "stdout",
          "output_type": "stream",
          "text": [
            "47200\n",
            "(162, 5) (162, 5)\n",
            "(162, 5) (162, 5)\n"
          ]
        }
      ],
      "source": [
        "channel_point_clouds = [ ]\n",
        "for i, j in tqdm.contrib.itertools.product(range(data.shape[0]), range(data.shape[1])):\n",
        "    channel_point_clouds.append(channel_embedders[j].fit_transform(data[i, j, :]))\n",
        "\n",
        "print(len(channel_point_clouds))\n",
        "print(channel_point_clouds[0].shape, channel_point_clouds[1].shape)\n",
        "print(channel_point_clouds[40].shape, channel_point_clouds[41].shape)"
      ]
    },
    {
      "cell_type": "code",
      "execution_count": null,
      "metadata": {},
      "outputs": [
        {
          "data": {
            "application/vnd.plotly.v1+json": {
              "config": {
                "plotlyServerURL": "https://plot.ly"
              },
              "data": [
                {
                  "marker": {
                    "color": [
                      0,
                      1,
                      2,
                      3,
                      4,
                      5,
                      6,
                      7,
                      8,
                      9,
                      10,
                      11,
                      12,
                      13,
                      14,
                      15,
                      16,
                      17,
                      18,
                      19,
                      20,
                      21,
                      22,
                      23,
                      24,
                      25,
                      26,
                      27,
                      28,
                      29,
                      30,
                      31,
                      32,
                      33,
                      34,
                      35,
                      36,
                      37,
                      38,
                      39,
                      40,
                      41,
                      42,
                      43,
                      44,
                      45,
                      46,
                      47,
                      48,
                      49,
                      50,
                      51,
                      52,
                      53,
                      54,
                      55,
                      56,
                      57,
                      58,
                      59,
                      60,
                      61,
                      62,
                      63,
                      64,
                      65,
                      66,
                      67,
                      68,
                      69,
                      70,
                      71,
                      72,
                      73,
                      74,
                      75,
                      76,
                      77,
                      78,
                      79,
                      80,
                      81,
                      82,
                      83,
                      84,
                      85,
                      86,
                      87,
                      88,
                      89,
                      90,
                      91,
                      92,
                      93,
                      94,
                      95,
                      96,
                      97,
                      98,
                      99,
                      100,
                      101,
                      102,
                      103,
                      104,
                      105,
                      106,
                      107,
                      108,
                      109,
                      110,
                      111,
                      112,
                      113,
                      114,
                      115,
                      116,
                      117,
                      118,
                      119,
                      120,
                      121,
                      122,
                      123,
                      124,
                      125,
                      126,
                      127,
                      128,
                      129,
                      130,
                      131,
                      132,
                      133,
                      134,
                      135,
                      136,
                      137,
                      138,
                      139,
                      140,
                      141,
                      142,
                      143,
                      144,
                      145,
                      146,
                      147,
                      148,
                      149,
                      150,
                      151,
                      152,
                      153,
                      154,
                      155,
                      156,
                      157,
                      158,
                      159,
                      160
                    ],
                    "colorscale": [
                      [
                        0,
                        "#440154"
                      ],
                      [
                        0.1111111111111111,
                        "#482878"
                      ],
                      [
                        0.2222222222222222,
                        "#3e4989"
                      ],
                      [
                        0.3333333333333333,
                        "#31688e"
                      ],
                      [
                        0.4444444444444444,
                        "#26828e"
                      ],
                      [
                        0.5555555555555556,
                        "#1f9e89"
                      ],
                      [
                        0.6666666666666666,
                        "#35b779"
                      ],
                      [
                        0.7777777777777778,
                        "#6ece58"
                      ],
                      [
                        0.8888888888888888,
                        "#b5de2b"
                      ],
                      [
                        1,
                        "#fde725"
                      ]
                    ],
                    "opacity": 0.8,
                    "size": 4
                  },
                  "mode": "markers",
                  "type": "scatter3d",
                  "x": [
                    -0.000001426970811735373,
                    0.0000034448271435394417,
                    7.591319786115491e-7,
                    -0.0000032470959467900684,
                    -0.0000013204605693317717,
                    0.00000334831997861329,
                    0.000003929710601369152,
                    0.000001261332158719597,
                    7.810672855157463e-7,
                    0.0000024083956304821186,
                    8.39633798932482e-7,
                    -0.0000048125921239261515,
                    -0.000008154823262884747,
                    -0.000004651865765481489,
                    0.0000011461642088761437,
                    0.0000020202817268000217,
                    -0.0000016850418660396826,
                    -0.0000039108267628762405,
                    -0.0000027989949558104854,
                    -0.000002080951617244864,
                    -0.0000035035131986660417,
                    -0.000004023442215839168,
                    -0.0000010817075235536322,
                    0.000003935746462957468,
                    0.000008206111488107126,
                    0.00001049863567459397,
                    0.00001085412259271834,
                    0.00000911347979126731,
                    0.000005133360900799744,
                    6.815286610617477e-7,
                    -8.485033617944282e-7,
                    0.0000010999866617567022,
                    0.0000022280555640463717,
                    -3.950605389491102e-7,
                    -0.0000027290607249597088,
                    2.028588141911314e-7,
                    0.000005350659193936735,
                    0.000006002299414831214,
                    0.000003020395752173499,
                    0.000002936151986432378,
                    0.000005994024377287133,
                    0.000005855507424712414,
                    0.000001540961875434732,
                    -2.6567903432805906e-7,
                    0.000003276708639532444,
                    0.000006570540790562518,
                    0.000005279375727695879,
                    0.000002259411758132046,
                    9.621912795410026e-7,
                    6.682901130261598e-7,
                    9.868685992842074e-7,
                    0.000003671968443086371,
                    0.000007326696504605934,
                    0.000007140604793676175,
                    0.0000024351172669412335,
                    -0.0000013256259308036533,
                    -4.754321594191424e-7,
                    0.0000020073082396265818,
                    0.0000016661539348206134,
                    -0.000001363907699669653,
                    -0.0000033740482194843935,
                    -0.0000020531233531073667,
                    0.0000011551793477337924,
                    0.0000033945959785341984,
                    0.000004113264822080964,
                    0.000004749771051137941,
                    0.000004795469067175873,
                    0.0000021150221982679795,
                    -0.0000015189708619800513,
                    -9.836263643592247e-7,
                    0.0000032986176847771276,
                    0.000003826435658993432,
                    -0.0000021743176148447674,
                    -0.000007190265932877082,
                    -0.000005345925728761358,
                    -0.0000017268671399506275,
                    -0.000002531080554035725,
                    -0.000004090977199666668,
                    -9.67764322012954e-7,
                    0.000002510291096768924,
                    -3.5445728485683503e-7,
                    -0.0000057035113059100695,
                    -0.000005191992386244237,
                    -3.517297955113463e-7,
                    9.716355862110504e-7,
                    -0.0000013387392527874908,
                    -0.000001609140781511087,
                    -8.566735800741299e-7,
                    -0.00000382989719582838,
                    -0.000006619594842049992,
                    -0.0000016943472473940346,
                    0.0000070040623540990055,
                    0.000008771298780629877,
                    0.000003914821718353778,
                    0.000001899970811791718,
                    0.000004112825081392657,
                    0.000003870147793350043,
                    0.0000013214229284130852,
                    0.000002828903689078288,
                    0.0000067167525230615865,
                    0.000004230488229950424,
                    -0.000005451111519505503,
                    -0.000013284275155456271,
                    -0.00001357977726001991,
                    -0.000009522400432615541,
                    -0.000005663753654516768,
                    -0.000002503835048628389,
                    0.0000010205073976976564,
                    0.000004322699624026427,
                    0.000005130114459461765,
                    0.000001655470782679913,
                    -0.000004135119979764568,
                    -0.000006573770406248514,
                    -0.0000027350183700036723,
                    0.0000027091032279713545,
                    0.0000032832524539117003,
                    -1.292969642463504e-7,
                    -0.0000013012270301260287,
                    0.0000011698095931933494,
                    0.0000021685341380361933,
                    -7.085114361871092e-7,
                    -0.0000031812567158340244,
                    -0.000002136877810698934,
                    -8.927360113375471e-7,
                    -0.0000023447391868103296,
                    -0.0000029786308459733846,
                    5.746617262047948e-7,
                    0.000004758760042022914,
                    0.000004941672159475274,
                    0.0000027843229872814845,
                    0.0000017286628235524404,
                    2.715212303883163e-7,
                    -0.0000042730439417937305,
                    -0.000009373128705192357,
                    -0.00001015715861285571,
                    -0.000006156362360343337,
                    -0.000002004256657528458,
                    -0.000002541455842219875,
                    -0.000007998604814929422,
                    -0.000013088683772366494,
                    -0.000012386563867039513,
                    -0.000006920281521161087,
                    -0.000002856665560102556,
                    -0.000003525537977111526,
                    -0.000005918754595768405,
                    -0.000005453650828712853,
                    -0.0000018247900470669265,
                    7.955442811180546e-7,
                    -6.827694960520603e-7,
                    -0.000003576757990231272,
                    -0.000003316775746498024,
                    -9.23734660318587e-7,
                    -5.593271907855524e-7,
                    -9.185786211673985e-7,
                    0.000001735287355586479,
                    0.000004007357347290963,
                    7.283335889951559e-7,
                    -0.0000029271193398017203,
                    0.0000012679788596869912,
                    0.000008569852070650086,
                    0.000007666803867323324
                  ],
                  "y": [
                    0.0000023030254396871896,
                    -0.0000023861020963522606,
                    -0.0000026399095531814964,
                    0.000002001075472435332,
                    0.000004333471224526875,
                    0.0000021419100448838435,
                    5.264299147711426e-7,
                    0.0000019520730347721837,
                    0.000001956873802555492,
                    -0.000002787508947221795,
                    -0.0000077470231190091,
                    -0.000006471705091826152,
                    -5.093447725812439e-7,
                    0.0000024583953290857607,
                    -3.14002022605564e-7,
                    -0.0000036101791920373216,
                    -0.0000033507103580632247,
                    -0.0000020491661416599527,
                    -0.0000029237301077955635,
                    -0.000004186626028968021,
                    -0.000002431935399727081,
                    0.000002224445779575035,
                    0.000006982957529544365,
                    0.000009958891496353317,
                    0.000010947403097816277,
                    0.000009955537279893178,
                    0.000006656685854977695,
                    0.000002003987219723058,
                    -8.129504749376792e-7,
                    2.6875807179749245e-7,
                    0.0000022526762677443912,
                    7.765769396428368e-7,
                    -0.0000024044866222538985,
                    -0.000001360436044706148,
                    0.000003874473804899026,
                    0.000006448463864217047,
                    0.000003992111487605143,
                    0.000002408276941423537,
                    0.000005007027084502624,
                    0.000006537757599289762,
                    0.000003082227976847207,
                    -3.249845690334041e-7,
                    0.0000017479858342994703,
                    0.000005923032404098194,
                    0.000006150395620352356,
                    0.000003157019364152802,
                    0.000001189859290207096,
                    7.491410656257358e-7,
                    6.986436460465484e-7,
                    0.0000024833136649249354,
                    0.000006300823770288844,
                    0.000007834142706997227,
                    0.0000042281521928089205,
                    -5.401393536885735e-7,
                    -0.0000011991216979367891,
                    0.000001335199726781866,
                    0.0000022000144781486597,
                    -2.649236705565272e-7,
                    -0.0000030362391498783836,
                    -0.0000028429726626200136,
                    7.117606770634666e-8,
                    0.000002860544782379293,
                    0.000003951002781832358,
                    0.000004506563982431544,
                    0.000005002399575460004,
                    0.0000033291503314103466,
                    -5.373482281356701e-7,
                    -0.0000018028171098194434,
                    0.000001873348423941934,
                    0.000004480393272388028,
                    2.2053950488043483e-7,
                    -0.000006205440058693057,
                    -0.000006596609637199435,
                    -0.000002582641172921285,
                    -0.0000018028047179541318,
                    -0.000003972573722421657,
                    -0.0000024710993784538005,
                    0.0000018701501858231495,
                    0.0000013155404303688556,
                    -0.00000426436918132822,
                    -0.000006185292477312032,
                    -0.0000019117112515232293,
                    0.0000011663664736261126,
                    -5.565952960751019e-7,
                    -0.0000018858200974136707,
                    -8.372796855837805e-7,
                    -0.0000024372832285735058,
                    -0.0000063018655964697246,
                    -0.0000042561096051940694,
                    0.0000044293956307228655,
                    0.000009268359463021625,
                    0.000005669446636602515,
                    0.0000018829101691153483,
                    0.0000033262977012782358,
                    0.0000044608173084270675,
                    0.000001993167870750767,
                    0.0000017162940366688417,
                    0.000005719107321056072,
                    0.00000610423876423738,
                    -0.000001910286073325551,
                    -0.000011435267879278399,
                    -0.000014248015759221744,
                    -0.000011005124179064296,
                    -0.0000068197255131963175,
                    -0.0000035623406802187674,
                    -2.0437371972548135e-7,
                    0.000003367935732967453,
                    0.00000529520229974878,
                    0.0000032736857065174263,
                    -0.00000227141254072194,
                    -0.000006461142220359761,
                    -0.000004564548362395726,
                    0.0000012050095392623916,
                    0.00000377221908820502,
                    0.0000010624022479532869,
                    -0.000001430752831765858,
                    2.0682868751009664e-7,
                    0.0000023083634914655704,
                    4.986983412891277e-7,
                    -0.0000027301803129375912,
                    -0.0000027676198897097493,
                    -0.000001025543724608724,
                    -0.0000016724604847695446,
                    -0.0000031912109079712536,
                    -9.838544201556942e-7,
                    0.0000036805306535825366,
                    0.000005352634161681635,
                    0.0000034787931326718535,
                    0.000001942848030012101,
                    0.000001043411657519755,
                    -0.0000024531764211133122,
                    -0.000007950513463583775,
                    -0.000010538184142205864,
                    -0.000007796399586368352,
                    -0.000003048058033527923,
                    -0.0000016964771702987491,
                    -0.000005880651769984979,
                    -0.000011854600415972527,
                    -0.000013366079656407237,
                    -0.000008913628334994428,
                    -0.000003711294311870006,
                    -0.000002860037056962028,
                    -0.00000526007261214545,
                    -0.000006065973138902336,
                    -0.000003175581923642312,
                    3.255802027979371e-7,
                    2.1837236374722124e-7,
                    -0.0000027987944122287445,
                    -0.0000038399966797442175,
                    -0.000001653056074246706,
                    -3.83253080826762e-7,
                    -0.0000010334251783206128,
                    5.488392389452201e-7,
                    0.000003752557176994742,
                    0.0000023597565359523287,
                    -0.0000023368349957308965,
                    -0.0000010350273669246235,
                    0.000006599434527743142,
                    0.000009176486855722032,
                    0.000002358321808060282,
                    -0.000004493299002206186
                  ],
                  "z": [
                    -0.000003335111614433117,
                    3.395470855593885e-7,
                    0.000004156507202424109,
                    0.000003117251708317781,
                    6.847422469036246e-7,
                    0.0000013263747860037256,
                    0.000002463444843670004,
                    -8.083131319835957e-7,
                    -0.000006563571787410183,
                    -0.000007707263648626395,
                    -0.000002549670170992613,
                    0.000002174840574298287,
                    0.0000010144511861653882,
                    -0.000002843577249223017,
                    -0.0000037817585507582407,
                    -0.0000023148779746406944,
                    -0.0000024018718249863014,
                    -0.000003975834260927513,
                    -0.0000034345441690675216,
                    5.116266379445733e-7,
                    0.000005545506610360462,
                    0.000009197825420415029,
                    0.000010826816833287012,
                    0.00001053048163157655,
                    0.000008004668416106142,
                    0.0000035375710467633326,
                    -2.910472574058076e-7,
                    -4.447847743449529e-7,
                    0.0000018291486867383355,
                    0.0000017115135051426478,
                    -0.0000015477537544938968,
                    -0.00000238282882492058,
                    0.0000020540769583021756,
                    0.000006245164513529744,
                    0.000005089769274491118,
                    0.000002440120169922011,
                    0.000003886449576384621,
                    0.000006567200671270257,
                    0.000004624891971616307,
                    3.207305780961178e-7,
                    4.791921810465283e-7,
                    0.000004760840511153219,
                    0.000006629781637457199,
                    0.0000042152228161285166,
                    0.0000016031233371904818,
                    8.38290247884288e-7,
                    6.254547315620584e-7,
                    0.0000015722065427326015,
                    0.00000500887153975782,
                    0.000007883708349254448,
                    0.000005879130640096264,
                    7.672252877455321e-7,
                    -0.0000015292398529709317,
                    4.4220675476935867e-7,
                    0.000002317776079507894,
                    7.993379540494061e-7,
                    -0.0000023341428914136486,
                    -0.00000330505690726568,
                    -0.0000010399757002232946,
                    0.000002107416776198079,
                    0.0000037370307381934253,
                    0.000004288353466108674,
                    0.000004949730737280333,
                    0.000004244523097440833,
                    7.53991741930804e-7,
                    -0.00000198202201318054,
                    3.3131490795312857e-7,
                    0.0000042591095734678674,
                    0.000002335791350560612,
                    -0.000004442923909664387,
                    -0.0000072930620262923185,
                    -0.000003886833383148769,
                    -0.0000014735080640093656,
                    -0.0000033630185498623177,
                    -0.000003579685198928928,
                    6.030953159097407e-7,
                    0.0000023296208837564336,
                    -0.0000023504696855525253,
                    -0.000006381979346770095,
                    -0.000003649509835668141,
                    7.282664569174813e-7,
                    3.0888668334227987e-7,
                    -0.0000018140946167477523,
                    -0.0000011722370345523814,
                    -0.000001388896180287702,
                    -0.000005248844900052063,
                    -0.000005954885637038387,
                    0.000001363233877782477,
                    0.000008687071385793388,
                    0.0000074390354711795226,
                    0.0000025705708139867056,
                    0.0000024762348402873613,
                    0.000004545039246295346,
                    0.0000029501063636416802,
                    0.0000011911940873687854,
                    0.000004286008334020153,
                    0.0000069199036261125,
                    0.0000014536898333972204,
                    -0.000008745489139982965,
                    -0.00001420397347828839,
                    -0.000012422239706211258,
                    -0.000008106355380732566,
                    -0.000004597517090587644,
                    -0.0000013869361055185436,
                    0.0000022362644358508987,
                    0.000004998418262402993,
                    0.000004454947429621825,
                    -2.60309860777852e-7,
                    -0.0000056027456594165415,
                    -0.0000059113954193890095,
                    -7.064152214297792e-7,
                    0.000003595400585254538,
                    0.0000022954977794142906,
                    -0.000001019821866066195,
                    -6.973137942622998e-7,
                    0.0000019386488929740153,
                    0.0000015255272955982946,
                    -0.0000018573296074464452,
                    -0.000003169882575093652,
                    -0.0000014880855587762198,
                    -0.000001132195393438451,
                    -0.00000292508002530667,
                    -0.000002223797309852671,
                    0.0000022143030946608633,
                    0.000005321538083080668,
                    0.000004253221050021239,
                    0.0000022687893306283513,
                    0.0000014835677575320005,
                    -9.010632311401423e-7,
                    -0.000006178408057166962,
                    -0.0000102706271718489,
                    -0.000009195533493766561,
                    -0.000004498891030380037,
                    -0.0000015227743688228657,
                    -0.000003987595846410841,
                    -0.000010079248568217736,
                    -0.000013614961062557995,
                    -0.000010825907338585239,
                    -0.000005112657163408585,
                    -0.0000025912970613717334,
                    -0.00000439615632785717,
                    -0.00000621705567027675,
                    -0.000004445681952347513,
                    -5.948448915660265e-7,
                    7.506143901991891e-7,
                    -0.0000017632567050895886,
                    -0.000003943387582694413,
                    -0.000002519746431062231,
                    -4.83215274016402e-7,
                    -8.47594776587357e-7,
                    -3.870522959914524e-7,
                    0.0000029063894544378854,
                    0.000003529714831529418,
                    -9.850712103798287e-7,
                    -0.0000025037234081537463,
                    0.000003989694505435182,
                    0.000009494571713730693,
                    0.000005246979071671376,
                    -0.000002887367145376629,
                    -0.000005083604719402501,
                    -0.000002250875468234881
                  ]
                }
              ],
              "layout": {
                "scene": {
                  "xaxis": {
                    "exponentformat": "e",
                    "showexponent": "all",
                    "title": {
                      "text": "0th"
                    },
                    "type": "linear"
                  },
                  "yaxis": {
                    "exponentformat": "e",
                    "showexponent": "all",
                    "title": {
                      "text": "1st"
                    },
                    "type": "linear"
                  },
                  "zaxis": {
                    "exponentformat": "e",
                    "showexponent": "all",
                    "title": {
                      "text": "2nd"
                    },
                    "type": "linear"
                  }
                },
                "template": {
                  "data": {
                    "bar": [
                      {
                        "error_x": {
                          "color": "#2a3f5f"
                        },
                        "error_y": {
                          "color": "#2a3f5f"
                        },
                        "marker": {
                          "line": {
                            "color": "#E5ECF6",
                            "width": 0.5
                          },
                          "pattern": {
                            "fillmode": "overlay",
                            "size": 10,
                            "solidity": 0.2
                          }
                        },
                        "type": "bar"
                      }
                    ],
                    "barpolar": [
                      {
                        "marker": {
                          "line": {
                            "color": "#E5ECF6",
                            "width": 0.5
                          },
                          "pattern": {
                            "fillmode": "overlay",
                            "size": 10,
                            "solidity": 0.2
                          }
                        },
                        "type": "barpolar"
                      }
                    ],
                    "carpet": [
                      {
                        "aaxis": {
                          "endlinecolor": "#2a3f5f",
                          "gridcolor": "white",
                          "linecolor": "white",
                          "minorgridcolor": "white",
                          "startlinecolor": "#2a3f5f"
                        },
                        "baxis": {
                          "endlinecolor": "#2a3f5f",
                          "gridcolor": "white",
                          "linecolor": "white",
                          "minorgridcolor": "white",
                          "startlinecolor": "#2a3f5f"
                        },
                        "type": "carpet"
                      }
                    ],
                    "choropleth": [
                      {
                        "colorbar": {
                          "outlinewidth": 0,
                          "ticks": ""
                        },
                        "type": "choropleth"
                      }
                    ],
                    "contour": [
                      {
                        "colorbar": {
                          "outlinewidth": 0,
                          "ticks": ""
                        },
                        "colorscale": [
                          [
                            0,
                            "#0d0887"
                          ],
                          [
                            0.1111111111111111,
                            "#46039f"
                          ],
                          [
                            0.2222222222222222,
                            "#7201a8"
                          ],
                          [
                            0.3333333333333333,
                            "#9c179e"
                          ],
                          [
                            0.4444444444444444,
                            "#bd3786"
                          ],
                          [
                            0.5555555555555556,
                            "#d8576b"
                          ],
                          [
                            0.6666666666666666,
                            "#ed7953"
                          ],
                          [
                            0.7777777777777778,
                            "#fb9f3a"
                          ],
                          [
                            0.8888888888888888,
                            "#fdca26"
                          ],
                          [
                            1,
                            "#f0f921"
                          ]
                        ],
                        "type": "contour"
                      }
                    ],
                    "contourcarpet": [
                      {
                        "colorbar": {
                          "outlinewidth": 0,
                          "ticks": ""
                        },
                        "type": "contourcarpet"
                      }
                    ],
                    "heatmap": [
                      {
                        "colorbar": {
                          "outlinewidth": 0,
                          "ticks": ""
                        },
                        "colorscale": [
                          [
                            0,
                            "#0d0887"
                          ],
                          [
                            0.1111111111111111,
                            "#46039f"
                          ],
                          [
                            0.2222222222222222,
                            "#7201a8"
                          ],
                          [
                            0.3333333333333333,
                            "#9c179e"
                          ],
                          [
                            0.4444444444444444,
                            "#bd3786"
                          ],
                          [
                            0.5555555555555556,
                            "#d8576b"
                          ],
                          [
                            0.6666666666666666,
                            "#ed7953"
                          ],
                          [
                            0.7777777777777778,
                            "#fb9f3a"
                          ],
                          [
                            0.8888888888888888,
                            "#fdca26"
                          ],
                          [
                            1,
                            "#f0f921"
                          ]
                        ],
                        "type": "heatmap"
                      }
                    ],
                    "heatmapgl": [
                      {
                        "colorbar": {
                          "outlinewidth": 0,
                          "ticks": ""
                        },
                        "colorscale": [
                          [
                            0,
                            "#0d0887"
                          ],
                          [
                            0.1111111111111111,
                            "#46039f"
                          ],
                          [
                            0.2222222222222222,
                            "#7201a8"
                          ],
                          [
                            0.3333333333333333,
                            "#9c179e"
                          ],
                          [
                            0.4444444444444444,
                            "#bd3786"
                          ],
                          [
                            0.5555555555555556,
                            "#d8576b"
                          ],
                          [
                            0.6666666666666666,
                            "#ed7953"
                          ],
                          [
                            0.7777777777777778,
                            "#fb9f3a"
                          ],
                          [
                            0.8888888888888888,
                            "#fdca26"
                          ],
                          [
                            1,
                            "#f0f921"
                          ]
                        ],
                        "type": "heatmapgl"
                      }
                    ],
                    "histogram": [
                      {
                        "marker": {
                          "pattern": {
                            "fillmode": "overlay",
                            "size": 10,
                            "solidity": 0.2
                          }
                        },
                        "type": "histogram"
                      }
                    ],
                    "histogram2d": [
                      {
                        "colorbar": {
                          "outlinewidth": 0,
                          "ticks": ""
                        },
                        "colorscale": [
                          [
                            0,
                            "#0d0887"
                          ],
                          [
                            0.1111111111111111,
                            "#46039f"
                          ],
                          [
                            0.2222222222222222,
                            "#7201a8"
                          ],
                          [
                            0.3333333333333333,
                            "#9c179e"
                          ],
                          [
                            0.4444444444444444,
                            "#bd3786"
                          ],
                          [
                            0.5555555555555556,
                            "#d8576b"
                          ],
                          [
                            0.6666666666666666,
                            "#ed7953"
                          ],
                          [
                            0.7777777777777778,
                            "#fb9f3a"
                          ],
                          [
                            0.8888888888888888,
                            "#fdca26"
                          ],
                          [
                            1,
                            "#f0f921"
                          ]
                        ],
                        "type": "histogram2d"
                      }
                    ],
                    "histogram2dcontour": [
                      {
                        "colorbar": {
                          "outlinewidth": 0,
                          "ticks": ""
                        },
                        "colorscale": [
                          [
                            0,
                            "#0d0887"
                          ],
                          [
                            0.1111111111111111,
                            "#46039f"
                          ],
                          [
                            0.2222222222222222,
                            "#7201a8"
                          ],
                          [
                            0.3333333333333333,
                            "#9c179e"
                          ],
                          [
                            0.4444444444444444,
                            "#bd3786"
                          ],
                          [
                            0.5555555555555556,
                            "#d8576b"
                          ],
                          [
                            0.6666666666666666,
                            "#ed7953"
                          ],
                          [
                            0.7777777777777778,
                            "#fb9f3a"
                          ],
                          [
                            0.8888888888888888,
                            "#fdca26"
                          ],
                          [
                            1,
                            "#f0f921"
                          ]
                        ],
                        "type": "histogram2dcontour"
                      }
                    ],
                    "mesh3d": [
                      {
                        "colorbar": {
                          "outlinewidth": 0,
                          "ticks": ""
                        },
                        "type": "mesh3d"
                      }
                    ],
                    "parcoords": [
                      {
                        "line": {
                          "colorbar": {
                            "outlinewidth": 0,
                            "ticks": ""
                          }
                        },
                        "type": "parcoords"
                      }
                    ],
                    "pie": [
                      {
                        "automargin": true,
                        "type": "pie"
                      }
                    ],
                    "scatter": [
                      {
                        "fillpattern": {
                          "fillmode": "overlay",
                          "size": 10,
                          "solidity": 0.2
                        },
                        "type": "scatter"
                      }
                    ],
                    "scatter3d": [
                      {
                        "line": {
                          "colorbar": {
                            "outlinewidth": 0,
                            "ticks": ""
                          }
                        },
                        "marker": {
                          "colorbar": {
                            "outlinewidth": 0,
                            "ticks": ""
                          }
                        },
                        "type": "scatter3d"
                      }
                    ],
                    "scattercarpet": [
                      {
                        "marker": {
                          "colorbar": {
                            "outlinewidth": 0,
                            "ticks": ""
                          }
                        },
                        "type": "scattercarpet"
                      }
                    ],
                    "scattergeo": [
                      {
                        "marker": {
                          "colorbar": {
                            "outlinewidth": 0,
                            "ticks": ""
                          }
                        },
                        "type": "scattergeo"
                      }
                    ],
                    "scattergl": [
                      {
                        "marker": {
                          "colorbar": {
                            "outlinewidth": 0,
                            "ticks": ""
                          }
                        },
                        "type": "scattergl"
                      }
                    ],
                    "scattermapbox": [
                      {
                        "marker": {
                          "colorbar": {
                            "outlinewidth": 0,
                            "ticks": ""
                          }
                        },
                        "type": "scattermapbox"
                      }
                    ],
                    "scatterpolar": [
                      {
                        "marker": {
                          "colorbar": {
                            "outlinewidth": 0,
                            "ticks": ""
                          }
                        },
                        "type": "scatterpolar"
                      }
                    ],
                    "scatterpolargl": [
                      {
                        "marker": {
                          "colorbar": {
                            "outlinewidth": 0,
                            "ticks": ""
                          }
                        },
                        "type": "scatterpolargl"
                      }
                    ],
                    "scatterternary": [
                      {
                        "marker": {
                          "colorbar": {
                            "outlinewidth": 0,
                            "ticks": ""
                          }
                        },
                        "type": "scatterternary"
                      }
                    ],
                    "surface": [
                      {
                        "colorbar": {
                          "outlinewidth": 0,
                          "ticks": ""
                        },
                        "colorscale": [
                          [
                            0,
                            "#0d0887"
                          ],
                          [
                            0.1111111111111111,
                            "#46039f"
                          ],
                          [
                            0.2222222222222222,
                            "#7201a8"
                          ],
                          [
                            0.3333333333333333,
                            "#9c179e"
                          ],
                          [
                            0.4444444444444444,
                            "#bd3786"
                          ],
                          [
                            0.5555555555555556,
                            "#d8576b"
                          ],
                          [
                            0.6666666666666666,
                            "#ed7953"
                          ],
                          [
                            0.7777777777777778,
                            "#fb9f3a"
                          ],
                          [
                            0.8888888888888888,
                            "#fdca26"
                          ],
                          [
                            1,
                            "#f0f921"
                          ]
                        ],
                        "type": "surface"
                      }
                    ],
                    "table": [
                      {
                        "cells": {
                          "fill": {
                            "color": "#EBF0F8"
                          },
                          "line": {
                            "color": "white"
                          }
                        },
                        "header": {
                          "fill": {
                            "color": "#C8D4E3"
                          },
                          "line": {
                            "color": "white"
                          }
                        },
                        "type": "table"
                      }
                    ]
                  },
                  "layout": {
                    "annotationdefaults": {
                      "arrowcolor": "#2a3f5f",
                      "arrowhead": 0,
                      "arrowwidth": 1
                    },
                    "autotypenumbers": "strict",
                    "coloraxis": {
                      "colorbar": {
                        "outlinewidth": 0,
                        "ticks": ""
                      }
                    },
                    "colorscale": {
                      "diverging": [
                        [
                          0,
                          "#8e0152"
                        ],
                        [
                          0.1,
                          "#c51b7d"
                        ],
                        [
                          0.2,
                          "#de77ae"
                        ],
                        [
                          0.3,
                          "#f1b6da"
                        ],
                        [
                          0.4,
                          "#fde0ef"
                        ],
                        [
                          0.5,
                          "#f7f7f7"
                        ],
                        [
                          0.6,
                          "#e6f5d0"
                        ],
                        [
                          0.7,
                          "#b8e186"
                        ],
                        [
                          0.8,
                          "#7fbc41"
                        ],
                        [
                          0.9,
                          "#4d9221"
                        ],
                        [
                          1,
                          "#276419"
                        ]
                      ],
                      "sequential": [
                        [
                          0,
                          "#0d0887"
                        ],
                        [
                          0.1111111111111111,
                          "#46039f"
                        ],
                        [
                          0.2222222222222222,
                          "#7201a8"
                        ],
                        [
                          0.3333333333333333,
                          "#9c179e"
                        ],
                        [
                          0.4444444444444444,
                          "#bd3786"
                        ],
                        [
                          0.5555555555555556,
                          "#d8576b"
                        ],
                        [
                          0.6666666666666666,
                          "#ed7953"
                        ],
                        [
                          0.7777777777777778,
                          "#fb9f3a"
                        ],
                        [
                          0.8888888888888888,
                          "#fdca26"
                        ],
                        [
                          1,
                          "#f0f921"
                        ]
                      ],
                      "sequentialminus": [
                        [
                          0,
                          "#0d0887"
                        ],
                        [
                          0.1111111111111111,
                          "#46039f"
                        ],
                        [
                          0.2222222222222222,
                          "#7201a8"
                        ],
                        [
                          0.3333333333333333,
                          "#9c179e"
                        ],
                        [
                          0.4444444444444444,
                          "#bd3786"
                        ],
                        [
                          0.5555555555555556,
                          "#d8576b"
                        ],
                        [
                          0.6666666666666666,
                          "#ed7953"
                        ],
                        [
                          0.7777777777777778,
                          "#fb9f3a"
                        ],
                        [
                          0.8888888888888888,
                          "#fdca26"
                        ],
                        [
                          1,
                          "#f0f921"
                        ]
                      ]
                    },
                    "colorway": [
                      "#636efa",
                      "#EF553B",
                      "#00cc96",
                      "#ab63fa",
                      "#FFA15A",
                      "#19d3f3",
                      "#FF6692",
                      "#B6E880",
                      "#FF97FF",
                      "#FECB52"
                    ],
                    "font": {
                      "color": "#2a3f5f"
                    },
                    "geo": {
                      "bgcolor": "white",
                      "lakecolor": "white",
                      "landcolor": "#E5ECF6",
                      "showlakes": true,
                      "showland": true,
                      "subunitcolor": "white"
                    },
                    "hoverlabel": {
                      "align": "left"
                    },
                    "hovermode": "closest",
                    "mapbox": {
                      "style": "light"
                    },
                    "paper_bgcolor": "white",
                    "plot_bgcolor": "#E5ECF6",
                    "polar": {
                      "angularaxis": {
                        "gridcolor": "white",
                        "linecolor": "white",
                        "ticks": ""
                      },
                      "bgcolor": "#E5ECF6",
                      "radialaxis": {
                        "gridcolor": "white",
                        "linecolor": "white",
                        "ticks": ""
                      }
                    },
                    "scene": {
                      "xaxis": {
                        "backgroundcolor": "#E5ECF6",
                        "gridcolor": "white",
                        "gridwidth": 2,
                        "linecolor": "white",
                        "showbackground": true,
                        "ticks": "",
                        "zerolinecolor": "white"
                      },
                      "yaxis": {
                        "backgroundcolor": "#E5ECF6",
                        "gridcolor": "white",
                        "gridwidth": 2,
                        "linecolor": "white",
                        "showbackground": true,
                        "ticks": "",
                        "zerolinecolor": "white"
                      },
                      "zaxis": {
                        "backgroundcolor": "#E5ECF6",
                        "gridcolor": "white",
                        "gridwidth": 2,
                        "linecolor": "white",
                        "showbackground": true,
                        "ticks": "",
                        "zerolinecolor": "white"
                      }
                    },
                    "shapedefaults": {
                      "line": {
                        "color": "#2a3f5f"
                      }
                    },
                    "ternary": {
                      "aaxis": {
                        "gridcolor": "white",
                        "linecolor": "white",
                        "ticks": ""
                      },
                      "baxis": {
                        "gridcolor": "white",
                        "linecolor": "white",
                        "ticks": ""
                      },
                      "bgcolor": "#E5ECF6",
                      "caxis": {
                        "gridcolor": "white",
                        "linecolor": "white",
                        "ticks": ""
                      }
                    },
                    "title": {
                      "x": 0.05
                    },
                    "xaxis": {
                      "automargin": true,
                      "gridcolor": "white",
                      "linecolor": "white",
                      "ticks": "",
                      "title": {
                        "standoff": 15
                      },
                      "zerolinecolor": "white",
                      "zerolinewidth": 2
                    },
                    "yaxis": {
                      "automargin": true,
                      "gridcolor": "white",
                      "linecolor": "white",
                      "ticks": "",
                      "title": {
                        "standoff": 15
                      },
                      "zerolinecolor": "white",
                      "zerolinewidth": 2
                    }
                  }
                }
              }
            }
          },
          "metadata": {},
          "output_type": "display_data"
        }
      ],
      "source": [
        "channel_point_cloud_plot = gtda.plotting.plot_point_cloud(channel_point_clouds[print_obj])\n",
        "display(channel_point_cloud_plot)\n",
        "channel_point_cloud_plot.write_image(file = f\"{subj}/{exp}/channel_point_cloud.svg\", format = \"svg\")"
      ]
    },
    {
      "cell_type": "markdown",
      "metadata": {},
      "source": [
        "#### VietorisRipsPersistence"
      ]
    },
    {
      "cell_type": "code",
      "execution_count": null,
      "metadata": {},
      "outputs": [
        {
          "name": "stdout",
          "output_type": "stream",
          "text": [
            "(47200, 205, 3)\n"
          ]
        }
      ],
      "source": [
        "channel_persistence = gtda.homology.VietorisRipsPersistence(homology_dimensions = CHANNEL_HOMOLOGY_DIMENSIONS, n_jobs = -1)\n",
        "channel_diagrams = channel_persistence.fit_transform(channel_point_clouds)\n",
        "numpy.save(f\"{subj}/{exp}/channel_diagrams.npy\", channel_diagrams)\n",
        "print(channel_diagrams.shape)"
      ]
    },
    {
      "cell_type": "code",
      "execution_count": null,
      "metadata": {},
      "outputs": [
        {
          "data": {
            "application/vnd.plotly.v1+json": {
              "config": {
                "plotlyServerURL": "https://plot.ly"
              },
              "data": [
                {
                  "hoverinfo": "none",
                  "line": {
                    "color": "black",
                    "dash": "dash",
                    "width": 1
                  },
                  "mode": "lines",
                  "showlegend": false,
                  "type": "scatter",
                  "x": [
                    0.000004102818656974705,
                    0.000012400038194755325
                  ],
                  "y": [
                    0.000004102818656974705,
                    0.000012400038194755325
                  ]
                },
                {
                  "hoverinfo": "text",
                  "hovertext": [
                    "(1.181245443149237e-05, 1.1993636690021958e-05)",
                    "(1.0984455002471805e-05, 1.1153916602779645e-05)",
                    "(1.0864549949474167e-05, 1.2074552614649292e-05)",
                    "(1.001609143713722e-05, 1.2240476280567236e-05)",
                    "(9.24035794014344e-06, 9.399448572366964e-06)",
                    "(9.12218001758447e-06, 9.301148566009942e-06)",
                    "(9.119544301938731e-06, 9.31834802031517e-06)",
                    "(9.08287529455265e-06, 1.221612637891667e-05)",
                    "(8.999754754768219e-06, 9.489229341852479e-06)",
                    "(8.134637937473599e-06, 1.1025006642739754e-05)",
                    "(7.892163921496831e-06, 8.542579053028021e-06)",
                    "(7.65691129345214e-06, 1.0198265044891741e-05)",
                    "(7.547222139692167e-06, 7.5748039307654835e-06)",
                    "(7.544656455138465e-06, 7.552727311121998e-06)",
                    "(7.51498237150372e-06, 8.254636668425519e-06)",
                    "(7.322241344809299e-06, 7.732920494163409e-06)",
                    "(7.1942627073440235e-06, 7.555453521490563e-06)",
                    "(7.066971647873288e-06, 7.13472309143981e-06)",
                    "(7.005619409028441e-06, 7.190532869572053e-06)",
                    "(6.922423381183762e-06, 8.10093024483649e-06)",
                    "(6.854995717731072e-06, 6.9323627940320875e-06)",
                    "(6.833337010903051e-06, 7.5167827162658796e-06)",
                    "(6.761242730135564e-06, 7.893940164649393e-06)",
                    "(6.721952559018973e-06, 7.001531685091322e-06)",
                    "(6.5979911596514285e-06, 7.001531685091322e-06)",
                    "(6.472905624832492e-06, 7.068832928780466e-06)",
                    "(6.436618150473805e-06, 6.831844984844793e-06)",
                    "(6.432756435970077e-06, 6.556607331731357e-06)",
                    "(6.368211870722007e-06, 6.552649210789241e-06)",
                    "(6.30467957307701e-06, 6.5310819081787486e-06)",
                    "(6.2614440139441285e-06, 7.2506777542002965e-06)",
                    "(6.1994219322514255e-06, 6.296370884228963e-06)",
                    "(6.193725312186871e-06, 7.35322646505665e-06)",
                    "(6.18508101979387e-06, 7.451975761796348e-06)",
                    "(6.1430428104358725e-06, 7.581680620205589e-06)",
                    "(6.142585789348232e-06, 6.1493751672969665e-06)",
                    "(6.136039701232221e-06, 6.182602191984188e-06)",
                    "(6.124837454990484e-06, 6.76122544973623e-06)",
                    "(6.106463388277916e-06, 7.260307029355317e-06)",
                    "(6.099564870964969e-06, 7.033153906377265e-06)",
                    "(6.027027211530367e-06, 6.792570275138132e-06)",
                    "(6.0262318584136665e-06, 6.335958460113034e-06)",
                    "(6.007510364725022e-06, 6.350924650178058e-06)",
                    "(5.974562554911245e-06, 6.0933489294257015e-06)",
                    "(5.952331321168458e-06, 7.266773081937572e-06)",
                    "(5.908428647671826e-06, 6.0107149693067186e-06)",
                    "(5.817067631141981e-06, 5.993033482809551e-06)",
                    "(5.759689429396531e-06, 5.966285243630409e-06)",
                    "(5.74804926145589e-06, 5.9203830460319296e-06)",
                    "(5.7209504120692145e-06, 6.5187978179892525e-06)",
                    "(5.711303401767509e-06, 6.345983820210677e-06)",
                    "(5.701942427549511e-06, 6.335958460113034e-06)",
                    "(5.682638857251732e-06, 5.8130049183091614e-06)",
                    "(5.627165592159145e-06, 5.750059244746808e-06)",
                    "(5.625999619951472e-06, 6.0182169363542926e-06)",
                    "(5.60728994969395e-06, 5.655196673615137e-06)",
                    "(5.5972859627217986e-06, 6.443314305215608e-06)",
                    "(5.575305749516701e-06, 5.655196673615137e-06)",
                    "(5.5003829402267e-06, 5.827100721944589e-06)",
                    "(5.490108378580771e-06, 5.839410277985735e-06)",
                    "(5.474974841490621e-06, 5.77550963498652e-06)",
                    "(5.472799784911331e-06, 5.9766098274849355e-06)",
                    "(5.459742624225328e-06, 6.253003903111676e-06)",
                    "(5.453848643810488e-06, 5.638634775095852e-06)",
                    "(5.426124516816344e-06, 5.835528099851217e-06)",
                    "(5.395587322709616e-06, 6.330257747322321e-06)",
                    "(5.376632543629967e-06, 6.215798293851549e-06)",
                    "(5.363593572837999e-06, 6.241803021111991e-06)",
                    "(5.352177140593994e-06, 6.334368208626984e-06)",
                    "(5.281025551084895e-06, 5.794973731099162e-06)",
                    "(5.277358013699995e-06, 6.238543846848188e-06)",
                    "(5.262470040179323e-06, 5.337305992725305e-06)",
                    "(5.238780886429595e-06, 6.332785233098548e-06)",
                    "(5.2168770707794465e-06, 6.23762161922059e-06)",
                    "(5.195681751501979e-06, 5.744458121625939e-06)",
                    "(5.1784618335659616e-06, 6.114071311458247e-06)",
                    "(5.096730546938488e-06, 5.6811254580679815e-06)",
                    "(5.072180101706181e-06, 6.333465080388123e-06)",
                    "(5.064133802079596e-06, 5.68509540244122e-06)",
                    "(5.063986463937908e-06, 5.090105787530774e-06)",
                    "(5.06168407810037e-06, 6.344172106764745e-06)",
                    "(5.059717295807786e-06, 6.010377546772361e-06)",
                    "(5.0531475608295295e-06, 6.260479494812898e-06)",
                    "(5.015003353037173e-06, 5.9595749917207286e-06)",
                    "(5.0042426664731465e-06, 6.1380601437122095e-06)",
                    "(4.9663767640595324e-06, 5.622277058137115e-06)",
                    "(4.963391347700963e-06, 5.265374056762084e-06)",
                    "(4.952731615048833e-06, 5.086482360638911e-06)",
                    "(4.924329459754517e-06, 5.321562639437616e-06)",
                    "(4.82015275338199e-06, 6.273445706028724e-06)",
                    "(4.797898782271659e-06, 5.68509540244122e-06)",
                    "(4.774543867824832e-06, 4.883739620709093e-06)",
                    "(4.7740913942107e-06, 5.662527200911427e-06)",
                    "(4.763894594361773e-06, 4.789671493199421e-06)",
                    "(4.7408252612513024e-06, 6.074423254176509e-06)",
                    "(4.728529347630683e-06, 4.983633061783621e-06)",
                    "(4.719486241810955e-06, 5.5848618103482295e-06)",
                    "(4.707642347057117e-06, 4.986982730770251e-06)",
                    "(4.666107997763902e-06, 5.8736600294651e-06)",
                    "(4.635831373889232e-06, 4.836862444790313e-06)",
                    "(4.631621777662076e-06, 4.79798154628952e-06)",
                    "(4.607850314641837e-06, 4.74040325570968e-06)",
                    "(4.5768724703521e-06, 5.831895578012336e-06)",
                    "(4.575672846840462e-06, 6.175736871227855e-06)",
                    "(4.569366865325719e-06, 5.8492159951129e-06)",
                    "(4.562330104818102e-06, 5.685679298039759e-06)",
                    "(4.5534043238149025e-06, 6.273445706028724e-06)",
                    "(4.543306204141118e-06, 4.555459327093558e-06)",
                    "(4.54230712421122e-06, 5.053251243225532e-06)",
                    "(4.533007995632943e-06, 5.835528099851217e-06)",
                    "(4.531299964583013e-06, 4.908086339128204e-06)",
                    "(4.511069164436776e-06, 4.700934823631542e-06)",
                    "(4.333002380008111e-06, 4.475424248084892e-06)",
                    "(4.332148819230497e-06, 4.372692728793481e-06)",
                    "(4.301842636778019e-06, 4.984363386029145e-06)",
                    "(4.262380571162794e-06, 4.77226512884954e-06)"
                  ],
                  "mode": "markers",
                  "name": "H1",
                  "type": "scatter",
                  "x": [
                    0.00001181245443149237,
                    0.000010984455002471805,
                    0.000010864549949474167,
                    0.00001001609143713722,
                    0.00000924035794014344,
                    0.00000912218001758447,
                    0.000009119544301938731,
                    0.00000908287529455265,
                    0.000008999754754768219,
                    0.000008134637937473599,
                    0.000007892163921496831,
                    0.00000765691129345214,
                    0.000007547222139692167,
                    0.000007544656455138465,
                    0.00000751498237150372,
                    0.000007322241344809299,
                    0.0000071942627073440235,
                    0.000007066971647873288,
                    0.000007005619409028441,
                    0.000006922423381183762,
                    0.000006854995717731072,
                    0.000006833337010903051,
                    0.000006761242730135564,
                    0.000006721952559018973,
                    0.0000065979911596514285,
                    0.000006472905624832492,
                    0.000006436618150473805,
                    0.000006432756435970077,
                    0.000006368211870722007,
                    0.00000630467957307701,
                    0.0000062614440139441285,
                    0.0000061994219322514255,
                    0.000006193725312186871,
                    0.00000618508101979387,
                    0.0000061430428104358725,
                    0.000006142585789348232,
                    0.000006136039701232221,
                    0.000006124837454990484,
                    0.000006106463388277916,
                    0.000006099564870964969,
                    0.000006027027211530367,
                    0.0000060262318584136665,
                    0.000006007510364725022,
                    0.000005974562554911245,
                    0.000005952331321168458,
                    0.000005908428647671826,
                    0.000005817067631141981,
                    0.000005759689429396531,
                    0.00000574804926145589,
                    0.0000057209504120692145,
                    0.000005711303401767509,
                    0.000005701942427549511,
                    0.000005682638857251732,
                    0.000005627165592159145,
                    0.000005625999619951472,
                    0.00000560728994969395,
                    0.0000055972859627217986,
                    0.000005575305749516701,
                    0.0000055003829402267,
                    0.000005490108378580771,
                    0.000005474974841490621,
                    0.000005472799784911331,
                    0.000005459742624225328,
                    0.000005453848643810488,
                    0.000005426124516816344,
                    0.000005395587322709616,
                    0.000005376632543629967,
                    0.000005363593572837999,
                    0.000005352177140593994,
                    0.000005281025551084895,
                    0.000005277358013699995,
                    0.000005262470040179323,
                    0.000005238780886429595,
                    0.0000052168770707794465,
                    0.000005195681751501979,
                    0.0000051784618335659616,
                    0.000005096730546938488,
                    0.000005072180101706181,
                    0.000005064133802079596,
                    0.000005063986463937908,
                    0.00000506168407810037,
                    0.000005059717295807786,
                    0.0000050531475608295295,
                    0.000005015003353037173,
                    0.0000050042426664731465,
                    0.0000049663767640595324,
                    0.000004963391347700963,
                    0.000004952731615048833,
                    0.000004924329459754517,
                    0.00000482015275338199,
                    0.000004797898782271659,
                    0.000004774543867824832,
                    0.0000047740913942107,
                    0.000004763894594361773,
                    0.0000047408252612513024,
                    0.000004728529347630683,
                    0.000004719486241810955,
                    0.000004707642347057117,
                    0.000004666107997763902,
                    0.000004635831373889232,
                    0.000004631621777662076,
                    0.000004607850314641837,
                    0.0000045768724703521,
                    0.000004575672846840462,
                    0.000004569366865325719,
                    0.000004562330104818102,
                    0.0000045534043238149025,
                    0.000004543306204141118,
                    0.00000454230712421122,
                    0.000004533007995632943,
                    0.000004531299964583013,
                    0.000004511069164436776,
                    0.000004333002380008111,
                    0.000004332148819230497,
                    0.000004301842636778019,
                    0.000004262380571162794
                  ],
                  "y": [
                    0.000011993636690021958,
                    0.000011153916602779645,
                    0.000012074552614649292,
                    0.000012240476280567236,
                    0.000009399448572366964,
                    0.000009301148566009942,
                    0.00000931834802031517,
                    0.00001221612637891667,
                    0.000009489229341852479,
                    0.000011025006642739754,
                    0.000008542579053028021,
                    0.000010198265044891741,
                    0.0000075748039307654835,
                    0.000007552727311121998,
                    0.000008254636668425519,
                    0.000007732920494163409,
                    0.000007555453521490563,
                    0.00000713472309143981,
                    0.000007190532869572053,
                    0.00000810093024483649,
                    0.0000069323627940320875,
                    0.0000075167827162658796,
                    0.000007893940164649393,
                    0.000007001531685091322,
                    0.000007001531685091322,
                    0.000007068832928780466,
                    0.000006831844984844793,
                    0.000006556607331731357,
                    0.000006552649210789241,
                    0.0000065310819081787486,
                    0.0000072506777542002965,
                    0.000006296370884228963,
                    0.00000735322646505665,
                    0.000007451975761796348,
                    0.000007581680620205589,
                    0.0000061493751672969665,
                    0.000006182602191984188,
                    0.00000676122544973623,
                    0.000007260307029355317,
                    0.000007033153906377265,
                    0.000006792570275138132,
                    0.000006335958460113034,
                    0.000006350924650178058,
                    0.0000060933489294257015,
                    0.000007266773081937572,
                    0.0000060107149693067186,
                    0.000005993033482809551,
                    0.000005966285243630409,
                    0.0000059203830460319296,
                    0.0000065187978179892525,
                    0.000006345983820210677,
                    0.000006335958460113034,
                    0.0000058130049183091614,
                    0.000005750059244746808,
                    0.0000060182169363542926,
                    0.000005655196673615137,
                    0.000006443314305215608,
                    0.000005655196673615137,
                    0.000005827100721944589,
                    0.000005839410277985735,
                    0.00000577550963498652,
                    0.0000059766098274849355,
                    0.000006253003903111676,
                    0.000005638634775095852,
                    0.000005835528099851217,
                    0.000006330257747322321,
                    0.000006215798293851549,
                    0.000006241803021111991,
                    0.000006334368208626984,
                    0.000005794973731099162,
                    0.000006238543846848188,
                    0.000005337305992725305,
                    0.000006332785233098548,
                    0.00000623762161922059,
                    0.000005744458121625939,
                    0.000006114071311458247,
                    0.0000056811254580679815,
                    0.000006333465080388123,
                    0.00000568509540244122,
                    0.000005090105787530774,
                    0.000006344172106764745,
                    0.000006010377546772361,
                    0.000006260479494812898,
                    0.0000059595749917207286,
                    0.0000061380601437122095,
                    0.000005622277058137115,
                    0.000005265374056762084,
                    0.000005086482360638911,
                    0.000005321562639437616,
                    0.000006273445706028724,
                    0.00000568509540244122,
                    0.000004883739620709093,
                    0.000005662527200911427,
                    0.000004789671493199421,
                    0.000006074423254176509,
                    0.000004983633061783621,
                    0.0000055848618103482295,
                    0.000004986982730770251,
                    0.0000058736600294651,
                    0.000004836862444790313,
                    0.00000479798154628952,
                    0.00000474040325570968,
                    0.000005831895578012336,
                    0.000006175736871227855,
                    0.0000058492159951129,
                    0.000005685679298039759,
                    0.000006273445706028724,
                    0.000004555459327093558,
                    0.000005053251243225532,
                    0.000005835528099851217,
                    0.000004908086339128204,
                    0.000004700934823631542,
                    0.000004475424248084892,
                    0.000004372692728793481,
                    0.000004984363386029145,
                    0.00000477226512884954
                  ]
                },
                {
                  "hoverinfo": "text",
                  "hovertext": [
                    "(8.116780009004287e-06, 8.216452442866284e-06)",
                    "(8.070964213402476e-06, 8.136845281114802e-06)",
                    "(7.913379704405088e-06, 8.668956070323475e-06)",
                    "(7.778791768942028e-06, 7.831214134057518e-06)",
                    "(7.66199991630856e-06, 7.838702003937215e-06)",
                    "(7.596860086778179e-06, 7.666018973395694e-06)",
                    "(7.534114502050215e-06, 7.5928319347440265e-06)",
                    "(7.517702215409372e-06, 8.080485713435337e-06)",
                    "(7.489201834687265e-06, 7.797909347573295e-06)",
                    "(7.417291271849535e-06, 7.819973689038306e-06)",
                    "(7.315078164538136e-06, 7.943571290525142e-06)",
                    "(7.315078164538136e-06, 7.573516086267773e-06)",
                    "(7.282626938831527e-06, 7.5470152296475135e-06)",
                    "(7.270945388881955e-06, 7.896792340034153e-06)",
                    "(7.2685211307543796e-06, 8.019504093681462e-06)",
                    "(7.25524023437174e-06, 7.760188054817263e-06)",
                    "(7.25524023437174e-06, 7.687180186621845e-06)",
                    "(7.251421266118996e-06, 7.859303877921775e-06)",
                    "(7.122737770259846e-06, 7.397278750431724e-06)",
                    "(7.015644769126084e-06, 7.650177394680213e-06)",
                    "(6.997628133831313e-06, 7.235516022774391e-06)",
                    "(6.958648100408027e-06, 7.258833647938445e-06)",
                    "(6.951534942345461e-06, 7.2966545303643215e-06)",
                    "(6.692158422083594e-06, 6.7000464696320705e-06)",
                    "(6.651817329839105e-06, 6.964817657717504e-06)",
                    "(6.618681709369412e-06, 6.864425358799053e-06)",
                    "(6.528288395202253e-06, 6.643630513281096e-06)",
                    "(6.502802989416523e-06, 6.95288372298819e-06)",
                    "(6.501843017758802e-06, 6.712496997351991e-06)",
                    "(6.4865107560763136e-06, 7.90432113717543e-06)",
                    "(6.479544936155435e-06, 6.485188805527287e-06)",
                    "(6.396211574610788e-06, 7.048750376270618e-06)",
                    "(6.385406322806375e-06, 7.346366146521177e-06)",
                    "(6.334368208626984e-06, 6.931995812919922e-06)",
                    "(6.334368208626984e-06, 6.457463769038441e-06)",
                    "(6.332733846647898e-06, 6.712496997351991e-06)",
                    "(6.3079701249080244e-06, 6.65862717141863e-06)",
                    "(6.299373126239516e-06, 6.723518254148075e-06)",
                    "(6.299373126239516e-06, 6.387528173945611e-06)",
                    "(6.266976470215013e-06, 6.331271833914798e-06)",
                    "(6.241688424779568e-06, 7.062775694066659e-06)",
                    "(6.236933131731348e-06, 6.931995812919922e-06)",
                    "(6.151238267193548e-06, 6.65862717141863e-06)",
                    "(6.011766799929319e-06, 6.114978532423265e-06)",
                    "(5.9671215240086894e-06, 6.154699804028496e-06)",
                    "(5.9203830460319296e-06, 6.305693204922136e-06)",
                    "(5.894034984521568e-06, 6.424721505027264e-06)",
                    "(5.8492159951129e-06, 5.960036560281878e-06)",
                    "(5.83606833970407e-06, 6.546536496898625e-06)",
                    "(5.117159162182361e-06, 5.673499799740966e-06)"
                  ],
                  "mode": "markers",
                  "name": "H2",
                  "type": "scatter",
                  "x": [
                    0.000008116780009004287,
                    0.000008070964213402476,
                    0.000007913379704405088,
                    0.000007778791768942028,
                    0.00000766199991630856,
                    0.000007596860086778179,
                    0.000007534114502050215,
                    0.000007517702215409372,
                    0.000007489201834687265,
                    0.000007417291271849535,
                    0.000007315078164538136,
                    0.000007315078164538136,
                    0.000007282626938831527,
                    0.000007270945388881955,
                    0.0000072685211307543796,
                    0.00000725524023437174,
                    0.00000725524023437174,
                    0.000007251421266118996,
                    0.000007122737770259846,
                    0.000007015644769126084,
                    0.000006997628133831313,
                    0.000006958648100408027,
                    0.000006951534942345461,
                    0.000006692158422083594,
                    0.000006651817329839105,
                    0.000006618681709369412,
                    0.000006528288395202253,
                    0.000006502802989416523,
                    0.000006501843017758802,
                    0.0000064865107560763136,
                    0.000006479544936155435,
                    0.000006396211574610788,
                    0.000006385406322806375,
                    0.000006334368208626984,
                    0.000006334368208626984,
                    0.000006332733846647898,
                    0.0000063079701249080244,
                    0.000006299373126239516,
                    0.000006299373126239516,
                    0.000006266976470215013,
                    0.000006241688424779568,
                    0.000006236933131731348,
                    0.000006151238267193548,
                    0.000006011766799929319,
                    0.0000059671215240086894,
                    0.0000059203830460319296,
                    0.000005894034984521568,
                    0.0000058492159951129,
                    0.00000583606833970407,
                    0.000005117159162182361
                  ],
                  "y": [
                    0.000008216452442866284,
                    0.000008136845281114802,
                    0.000008668956070323475,
                    0.000007831214134057518,
                    0.000007838702003937215,
                    0.000007666018973395694,
                    0.0000075928319347440265,
                    0.000008080485713435337,
                    0.000007797909347573295,
                    0.000007819973689038306,
                    0.000007943571290525142,
                    0.000007573516086267773,
                    0.0000075470152296475135,
                    0.000007896792340034153,
                    0.000008019504093681462,
                    0.000007760188054817263,
                    0.000007687180186621845,
                    0.000007859303877921775,
                    0.000007397278750431724,
                    0.000007650177394680213,
                    0.000007235516022774391,
                    0.000007258833647938445,
                    0.0000072966545303643215,
                    0.0000067000464696320705,
                    0.000006964817657717504,
                    0.000006864425358799053,
                    0.000006643630513281096,
                    0.00000695288372298819,
                    0.000006712496997351991,
                    0.00000790432113717543,
                    0.000006485188805527287,
                    0.000007048750376270618,
                    0.000007346366146521177,
                    0.000006931995812919922,
                    0.000006457463769038441,
                    0.000006712496997351991,
                    0.00000665862717141863,
                    0.000006723518254148075,
                    0.000006387528173945611,
                    0.000006331271833914798,
                    0.000007062775694066659,
                    0.000006931995812919922,
                    0.00000665862717141863,
                    0.000006114978532423265,
                    0.000006154699804028496,
                    0.000006305693204922136,
                    0.000006424721505027264,
                    0.000005960036560281878,
                    0.000006546536496898625,
                    0.000005673499799740966
                  ]
                }
              ],
              "layout": {
                "height": 500,
                "plot_bgcolor": "white",
                "template": {
                  "data": {
                    "bar": [
                      {
                        "error_x": {
                          "color": "#2a3f5f"
                        },
                        "error_y": {
                          "color": "#2a3f5f"
                        },
                        "marker": {
                          "line": {
                            "color": "#E5ECF6",
                            "width": 0.5
                          },
                          "pattern": {
                            "fillmode": "overlay",
                            "size": 10,
                            "solidity": 0.2
                          }
                        },
                        "type": "bar"
                      }
                    ],
                    "barpolar": [
                      {
                        "marker": {
                          "line": {
                            "color": "#E5ECF6",
                            "width": 0.5
                          },
                          "pattern": {
                            "fillmode": "overlay",
                            "size": 10,
                            "solidity": 0.2
                          }
                        },
                        "type": "barpolar"
                      }
                    ],
                    "carpet": [
                      {
                        "aaxis": {
                          "endlinecolor": "#2a3f5f",
                          "gridcolor": "white",
                          "linecolor": "white",
                          "minorgridcolor": "white",
                          "startlinecolor": "#2a3f5f"
                        },
                        "baxis": {
                          "endlinecolor": "#2a3f5f",
                          "gridcolor": "white",
                          "linecolor": "white",
                          "minorgridcolor": "white",
                          "startlinecolor": "#2a3f5f"
                        },
                        "type": "carpet"
                      }
                    ],
                    "choropleth": [
                      {
                        "colorbar": {
                          "outlinewidth": 0,
                          "ticks": ""
                        },
                        "type": "choropleth"
                      }
                    ],
                    "contour": [
                      {
                        "colorbar": {
                          "outlinewidth": 0,
                          "ticks": ""
                        },
                        "colorscale": [
                          [
                            0,
                            "#0d0887"
                          ],
                          [
                            0.1111111111111111,
                            "#46039f"
                          ],
                          [
                            0.2222222222222222,
                            "#7201a8"
                          ],
                          [
                            0.3333333333333333,
                            "#9c179e"
                          ],
                          [
                            0.4444444444444444,
                            "#bd3786"
                          ],
                          [
                            0.5555555555555556,
                            "#d8576b"
                          ],
                          [
                            0.6666666666666666,
                            "#ed7953"
                          ],
                          [
                            0.7777777777777778,
                            "#fb9f3a"
                          ],
                          [
                            0.8888888888888888,
                            "#fdca26"
                          ],
                          [
                            1,
                            "#f0f921"
                          ]
                        ],
                        "type": "contour"
                      }
                    ],
                    "contourcarpet": [
                      {
                        "colorbar": {
                          "outlinewidth": 0,
                          "ticks": ""
                        },
                        "type": "contourcarpet"
                      }
                    ],
                    "heatmap": [
                      {
                        "colorbar": {
                          "outlinewidth": 0,
                          "ticks": ""
                        },
                        "colorscale": [
                          [
                            0,
                            "#0d0887"
                          ],
                          [
                            0.1111111111111111,
                            "#46039f"
                          ],
                          [
                            0.2222222222222222,
                            "#7201a8"
                          ],
                          [
                            0.3333333333333333,
                            "#9c179e"
                          ],
                          [
                            0.4444444444444444,
                            "#bd3786"
                          ],
                          [
                            0.5555555555555556,
                            "#d8576b"
                          ],
                          [
                            0.6666666666666666,
                            "#ed7953"
                          ],
                          [
                            0.7777777777777778,
                            "#fb9f3a"
                          ],
                          [
                            0.8888888888888888,
                            "#fdca26"
                          ],
                          [
                            1,
                            "#f0f921"
                          ]
                        ],
                        "type": "heatmap"
                      }
                    ],
                    "heatmapgl": [
                      {
                        "colorbar": {
                          "outlinewidth": 0,
                          "ticks": ""
                        },
                        "colorscale": [
                          [
                            0,
                            "#0d0887"
                          ],
                          [
                            0.1111111111111111,
                            "#46039f"
                          ],
                          [
                            0.2222222222222222,
                            "#7201a8"
                          ],
                          [
                            0.3333333333333333,
                            "#9c179e"
                          ],
                          [
                            0.4444444444444444,
                            "#bd3786"
                          ],
                          [
                            0.5555555555555556,
                            "#d8576b"
                          ],
                          [
                            0.6666666666666666,
                            "#ed7953"
                          ],
                          [
                            0.7777777777777778,
                            "#fb9f3a"
                          ],
                          [
                            0.8888888888888888,
                            "#fdca26"
                          ],
                          [
                            1,
                            "#f0f921"
                          ]
                        ],
                        "type": "heatmapgl"
                      }
                    ],
                    "histogram": [
                      {
                        "marker": {
                          "pattern": {
                            "fillmode": "overlay",
                            "size": 10,
                            "solidity": 0.2
                          }
                        },
                        "type": "histogram"
                      }
                    ],
                    "histogram2d": [
                      {
                        "colorbar": {
                          "outlinewidth": 0,
                          "ticks": ""
                        },
                        "colorscale": [
                          [
                            0,
                            "#0d0887"
                          ],
                          [
                            0.1111111111111111,
                            "#46039f"
                          ],
                          [
                            0.2222222222222222,
                            "#7201a8"
                          ],
                          [
                            0.3333333333333333,
                            "#9c179e"
                          ],
                          [
                            0.4444444444444444,
                            "#bd3786"
                          ],
                          [
                            0.5555555555555556,
                            "#d8576b"
                          ],
                          [
                            0.6666666666666666,
                            "#ed7953"
                          ],
                          [
                            0.7777777777777778,
                            "#fb9f3a"
                          ],
                          [
                            0.8888888888888888,
                            "#fdca26"
                          ],
                          [
                            1,
                            "#f0f921"
                          ]
                        ],
                        "type": "histogram2d"
                      }
                    ],
                    "histogram2dcontour": [
                      {
                        "colorbar": {
                          "outlinewidth": 0,
                          "ticks": ""
                        },
                        "colorscale": [
                          [
                            0,
                            "#0d0887"
                          ],
                          [
                            0.1111111111111111,
                            "#46039f"
                          ],
                          [
                            0.2222222222222222,
                            "#7201a8"
                          ],
                          [
                            0.3333333333333333,
                            "#9c179e"
                          ],
                          [
                            0.4444444444444444,
                            "#bd3786"
                          ],
                          [
                            0.5555555555555556,
                            "#d8576b"
                          ],
                          [
                            0.6666666666666666,
                            "#ed7953"
                          ],
                          [
                            0.7777777777777778,
                            "#fb9f3a"
                          ],
                          [
                            0.8888888888888888,
                            "#fdca26"
                          ],
                          [
                            1,
                            "#f0f921"
                          ]
                        ],
                        "type": "histogram2dcontour"
                      }
                    ],
                    "mesh3d": [
                      {
                        "colorbar": {
                          "outlinewidth": 0,
                          "ticks": ""
                        },
                        "type": "mesh3d"
                      }
                    ],
                    "parcoords": [
                      {
                        "line": {
                          "colorbar": {
                            "outlinewidth": 0,
                            "ticks": ""
                          }
                        },
                        "type": "parcoords"
                      }
                    ],
                    "pie": [
                      {
                        "automargin": true,
                        "type": "pie"
                      }
                    ],
                    "scatter": [
                      {
                        "fillpattern": {
                          "fillmode": "overlay",
                          "size": 10,
                          "solidity": 0.2
                        },
                        "type": "scatter"
                      }
                    ],
                    "scatter3d": [
                      {
                        "line": {
                          "colorbar": {
                            "outlinewidth": 0,
                            "ticks": ""
                          }
                        },
                        "marker": {
                          "colorbar": {
                            "outlinewidth": 0,
                            "ticks": ""
                          }
                        },
                        "type": "scatter3d"
                      }
                    ],
                    "scattercarpet": [
                      {
                        "marker": {
                          "colorbar": {
                            "outlinewidth": 0,
                            "ticks": ""
                          }
                        },
                        "type": "scattercarpet"
                      }
                    ],
                    "scattergeo": [
                      {
                        "marker": {
                          "colorbar": {
                            "outlinewidth": 0,
                            "ticks": ""
                          }
                        },
                        "type": "scattergeo"
                      }
                    ],
                    "scattergl": [
                      {
                        "marker": {
                          "colorbar": {
                            "outlinewidth": 0,
                            "ticks": ""
                          }
                        },
                        "type": "scattergl"
                      }
                    ],
                    "scattermapbox": [
                      {
                        "marker": {
                          "colorbar": {
                            "outlinewidth": 0,
                            "ticks": ""
                          }
                        },
                        "type": "scattermapbox"
                      }
                    ],
                    "scatterpolar": [
                      {
                        "marker": {
                          "colorbar": {
                            "outlinewidth": 0,
                            "ticks": ""
                          }
                        },
                        "type": "scatterpolar"
                      }
                    ],
                    "scatterpolargl": [
                      {
                        "marker": {
                          "colorbar": {
                            "outlinewidth": 0,
                            "ticks": ""
                          }
                        },
                        "type": "scatterpolargl"
                      }
                    ],
                    "scatterternary": [
                      {
                        "marker": {
                          "colorbar": {
                            "outlinewidth": 0,
                            "ticks": ""
                          }
                        },
                        "type": "scatterternary"
                      }
                    ],
                    "surface": [
                      {
                        "colorbar": {
                          "outlinewidth": 0,
                          "ticks": ""
                        },
                        "colorscale": [
                          [
                            0,
                            "#0d0887"
                          ],
                          [
                            0.1111111111111111,
                            "#46039f"
                          ],
                          [
                            0.2222222222222222,
                            "#7201a8"
                          ],
                          [
                            0.3333333333333333,
                            "#9c179e"
                          ],
                          [
                            0.4444444444444444,
                            "#bd3786"
                          ],
                          [
                            0.5555555555555556,
                            "#d8576b"
                          ],
                          [
                            0.6666666666666666,
                            "#ed7953"
                          ],
                          [
                            0.7777777777777778,
                            "#fb9f3a"
                          ],
                          [
                            0.8888888888888888,
                            "#fdca26"
                          ],
                          [
                            1,
                            "#f0f921"
                          ]
                        ],
                        "type": "surface"
                      }
                    ],
                    "table": [
                      {
                        "cells": {
                          "fill": {
                            "color": "#EBF0F8"
                          },
                          "line": {
                            "color": "white"
                          }
                        },
                        "header": {
                          "fill": {
                            "color": "#C8D4E3"
                          },
                          "line": {
                            "color": "white"
                          }
                        },
                        "type": "table"
                      }
                    ]
                  },
                  "layout": {
                    "annotationdefaults": {
                      "arrowcolor": "#2a3f5f",
                      "arrowhead": 0,
                      "arrowwidth": 1
                    },
                    "autotypenumbers": "strict",
                    "coloraxis": {
                      "colorbar": {
                        "outlinewidth": 0,
                        "ticks": ""
                      }
                    },
                    "colorscale": {
                      "diverging": [
                        [
                          0,
                          "#8e0152"
                        ],
                        [
                          0.1,
                          "#c51b7d"
                        ],
                        [
                          0.2,
                          "#de77ae"
                        ],
                        [
                          0.3,
                          "#f1b6da"
                        ],
                        [
                          0.4,
                          "#fde0ef"
                        ],
                        [
                          0.5,
                          "#f7f7f7"
                        ],
                        [
                          0.6,
                          "#e6f5d0"
                        ],
                        [
                          0.7,
                          "#b8e186"
                        ],
                        [
                          0.8,
                          "#7fbc41"
                        ],
                        [
                          0.9,
                          "#4d9221"
                        ],
                        [
                          1,
                          "#276419"
                        ]
                      ],
                      "sequential": [
                        [
                          0,
                          "#0d0887"
                        ],
                        [
                          0.1111111111111111,
                          "#46039f"
                        ],
                        [
                          0.2222222222222222,
                          "#7201a8"
                        ],
                        [
                          0.3333333333333333,
                          "#9c179e"
                        ],
                        [
                          0.4444444444444444,
                          "#bd3786"
                        ],
                        [
                          0.5555555555555556,
                          "#d8576b"
                        ],
                        [
                          0.6666666666666666,
                          "#ed7953"
                        ],
                        [
                          0.7777777777777778,
                          "#fb9f3a"
                        ],
                        [
                          0.8888888888888888,
                          "#fdca26"
                        ],
                        [
                          1,
                          "#f0f921"
                        ]
                      ],
                      "sequentialminus": [
                        [
                          0,
                          "#0d0887"
                        ],
                        [
                          0.1111111111111111,
                          "#46039f"
                        ],
                        [
                          0.2222222222222222,
                          "#7201a8"
                        ],
                        [
                          0.3333333333333333,
                          "#9c179e"
                        ],
                        [
                          0.4444444444444444,
                          "#bd3786"
                        ],
                        [
                          0.5555555555555556,
                          "#d8576b"
                        ],
                        [
                          0.6666666666666666,
                          "#ed7953"
                        ],
                        [
                          0.7777777777777778,
                          "#fb9f3a"
                        ],
                        [
                          0.8888888888888888,
                          "#fdca26"
                        ],
                        [
                          1,
                          "#f0f921"
                        ]
                      ]
                    },
                    "colorway": [
                      "#636efa",
                      "#EF553B",
                      "#00cc96",
                      "#ab63fa",
                      "#FFA15A",
                      "#19d3f3",
                      "#FF6692",
                      "#B6E880",
                      "#FF97FF",
                      "#FECB52"
                    ],
                    "font": {
                      "color": "#2a3f5f"
                    },
                    "geo": {
                      "bgcolor": "white",
                      "lakecolor": "white",
                      "landcolor": "#E5ECF6",
                      "showlakes": true,
                      "showland": true,
                      "subunitcolor": "white"
                    },
                    "hoverlabel": {
                      "align": "left"
                    },
                    "hovermode": "closest",
                    "mapbox": {
                      "style": "light"
                    },
                    "paper_bgcolor": "white",
                    "plot_bgcolor": "#E5ECF6",
                    "polar": {
                      "angularaxis": {
                        "gridcolor": "white",
                        "linecolor": "white",
                        "ticks": ""
                      },
                      "bgcolor": "#E5ECF6",
                      "radialaxis": {
                        "gridcolor": "white",
                        "linecolor": "white",
                        "ticks": ""
                      }
                    },
                    "scene": {
                      "xaxis": {
                        "backgroundcolor": "#E5ECF6",
                        "gridcolor": "white",
                        "gridwidth": 2,
                        "linecolor": "white",
                        "showbackground": true,
                        "ticks": "",
                        "zerolinecolor": "white"
                      },
                      "yaxis": {
                        "backgroundcolor": "#E5ECF6",
                        "gridcolor": "white",
                        "gridwidth": 2,
                        "linecolor": "white",
                        "showbackground": true,
                        "ticks": "",
                        "zerolinecolor": "white"
                      },
                      "zaxis": {
                        "backgroundcolor": "#E5ECF6",
                        "gridcolor": "white",
                        "gridwidth": 2,
                        "linecolor": "white",
                        "showbackground": true,
                        "ticks": "",
                        "zerolinecolor": "white"
                      }
                    },
                    "shapedefaults": {
                      "line": {
                        "color": "#2a3f5f"
                      }
                    },
                    "ternary": {
                      "aaxis": {
                        "gridcolor": "white",
                        "linecolor": "white",
                        "ticks": ""
                      },
                      "baxis": {
                        "gridcolor": "white",
                        "linecolor": "white",
                        "ticks": ""
                      },
                      "bgcolor": "#E5ECF6",
                      "caxis": {
                        "gridcolor": "white",
                        "linecolor": "white",
                        "ticks": ""
                      }
                    },
                    "title": {
                      "x": 0.05
                    },
                    "xaxis": {
                      "automargin": true,
                      "gridcolor": "white",
                      "linecolor": "white",
                      "ticks": "",
                      "title": {
                        "standoff": 15
                      },
                      "zerolinecolor": "white",
                      "zerolinewidth": 2
                    },
                    "yaxis": {
                      "automargin": true,
                      "gridcolor": "white",
                      "linecolor": "white",
                      "ticks": "",
                      "title": {
                        "standoff": 15
                      },
                      "zerolinecolor": "white",
                      "zerolinewidth": 2
                    }
                  }
                },
                "width": 500,
                "xaxis": {
                  "autorange": false,
                  "exponentformat": "e",
                  "linecolor": "black",
                  "linewidth": 1,
                  "mirror": false,
                  "range": [
                    0.000004102818656974705,
                    0.000012400038194755325
                  ],
                  "showexponent": "all",
                  "showline": true,
                  "side": "bottom",
                  "ticks": "outside",
                  "title": {
                    "text": "Birth"
                  },
                  "type": "linear",
                  "zeroline": true
                },
                "yaxis": {
                  "autorange": false,
                  "exponentformat": "e",
                  "linecolor": "black",
                  "linewidth": 1,
                  "mirror": false,
                  "range": [
                    0.000004102818656974705,
                    0.000012400038194755325
                  ],
                  "scaleanchor": "x",
                  "scaleratio": 1,
                  "showexponent": "all",
                  "showline": true,
                  "side": "left",
                  "ticks": "outside",
                  "title": {
                    "text": "Death"
                  },
                  "type": "linear",
                  "zeroline": true
                }
              }
            }
          },
          "metadata": {},
          "output_type": "display_data"
        }
      ],
      "source": [
        "channel_diagram_plot = gtda.plotting.plot_diagram(channel_diagrams[print_obj])\n",
        "display(channel_diagram_plot)\n",
        "channel_diagram_plot.write_image(file = f\"{subj}/{exp}/channel_diagram.svg\", format = \"svg\")"
      ]
    },
    {
      "cell_type": "markdown",
      "metadata": {},
      "source": [
        "#### FeatureCalculator"
      ]
    },
    {
      "cell_type": "code",
      "execution_count": null,
      "metadata": {},
      "outputs": [
        {
          "name": "stdout",
          "output_type": "stream",
          "text": [
            "Filtered diagrams: (47200, 190, 3)\n",
            "N bins: 100\n"
          ]
        },
        {
          "name": "stderr",
          "output_type": "stream",
          "text": [
            " betti: 100%|██████████| 47200/47200 [01:31<00:00, 518.52it/s]\n",
            " landscape: 100%|██████████| 47200/47200 [01:30<00:00, 520.61it/s]\n",
            " silhouette-1: 100%|██████████| 47200/47200 [01:28<00:00, 533.79it/s]\n",
            " silhouette-2: 100%|██████████| 47200/47200 [01:27<00:00, 538.67it/s]\n",
            " amplitudes: 100%|██████████| 13/13 [01:32<00:00,  7.10s/it]\n",
            " lifetime: 100%|██████████| 47200/47200 [04:18<00:00, 182.63it/s]\n"
          ]
        },
        {
          "data": {
            "text/html": [
              "<div>\n",
              "<style scoped>\n",
              "    .dataframe tbody tr th:only-of-type {\n",
              "        vertical-align: middle;\n",
              "    }\n",
              "\n",
              "    .dataframe tbody tr th {\n",
              "        vertical-align: top;\n",
              "    }\n",
              "\n",
              "    .dataframe thead th {\n",
              "        text-align: right;\n",
              "    }\n",
              "</style>\n",
              "<table border=\"1\" class=\"dataframe\">\n",
              "  <thead>\n",
              "    <tr style=\"text-align: right;\">\n",
              "      <th></th>\n",
              "      <th>channel-0 betti dim-1 max</th>\n",
              "      <th>channel-0 betti dim-1 mean</th>\n",
              "      <th>channel-0 betti dim-1 std</th>\n",
              "      <th>channel-0 betti dim-1 sum</th>\n",
              "      <th>channel-0 betti dim-1 percentile-25</th>\n",
              "      <th>channel-0 betti dim-1 median</th>\n",
              "      <th>channel-0 betti dim-1 percentile-75</th>\n",
              "      <th>channel-0 betti dim-1 kurtosis</th>\n",
              "      <th>channel-0 betti dim-1 skew</th>\n",
              "      <th>channel-0 betti dim-1 norm-1</th>\n",
              "      <th>...</th>\n",
              "      <th>channel-39 bd2 dim-2 mean</th>\n",
              "      <th>channel-39 bd2 dim-2 std</th>\n",
              "      <th>channel-39 bd2 dim-2 sum</th>\n",
              "      <th>channel-39 bd2 dim-2 percentile-25</th>\n",
              "      <th>channel-39 bd2 dim-2 median</th>\n",
              "      <th>channel-39 bd2 dim-2 percentile-75</th>\n",
              "      <th>channel-39 bd2 dim-2 kurtosis</th>\n",
              "      <th>channel-39 bd2 dim-2 skew</th>\n",
              "      <th>channel-39 bd2 dim-2 norm-1</th>\n",
              "      <th>channel-39 bd2 dim-2 norm-2</th>\n",
              "    </tr>\n",
              "  </thead>\n",
              "  <tbody>\n",
              "    <tr>\n",
              "      <th>0</th>\n",
              "      <td>6.00</td>\n",
              "      <td>0.00</td>\n",
              "      <td>1.37</td>\n",
              "      <td>0.00</td>\n",
              "      <td>0.00</td>\n",
              "      <td>0.00</td>\n",
              "      <td>0.00</td>\n",
              "      <td>11.68</td>\n",
              "      <td>-0.28</td>\n",
              "      <td>44.00</td>\n",
              "      <td>...</td>\n",
              "      <td>0.00</td>\n",
              "      <td>0.00</td>\n",
              "      <td>0.00</td>\n",
              "      <td>0.00</td>\n",
              "      <td>0.00</td>\n",
              "      <td>0.00</td>\n",
              "      <td>1.27</td>\n",
              "      <td>0.99</td>\n",
              "      <td>0.00</td>\n",
              "      <td>0.00</td>\n",
              "    </tr>\n",
              "    <tr>\n",
              "      <th>1</th>\n",
              "      <td>9.00</td>\n",
              "      <td>0.00</td>\n",
              "      <td>1.57</td>\n",
              "      <td>0.00</td>\n",
              "      <td>0.00</td>\n",
              "      <td>0.00</td>\n",
              "      <td>0.00</td>\n",
              "      <td>15.82</td>\n",
              "      <td>0.67</td>\n",
              "      <td>50.00</td>\n",
              "      <td>...</td>\n",
              "      <td>0.00</td>\n",
              "      <td>0.00</td>\n",
              "      <td>0.00</td>\n",
              "      <td>0.00</td>\n",
              "      <td>0.00</td>\n",
              "      <td>0.00</td>\n",
              "      <td>-0.35</td>\n",
              "      <td>1.08</td>\n",
              "      <td>0.00</td>\n",
              "      <td>0.00</td>\n",
              "    </tr>\n",
              "    <tr>\n",
              "      <th>2</th>\n",
              "      <td>5.00</td>\n",
              "      <td>0.00</td>\n",
              "      <td>1.36</td>\n",
              "      <td>0.00</td>\n",
              "      <td>0.00</td>\n",
              "      <td>0.00</td>\n",
              "      <td>0.00</td>\n",
              "      <td>9.88</td>\n",
              "      <td>-1.12</td>\n",
              "      <td>46.00</td>\n",
              "      <td>...</td>\n",
              "      <td>0.00</td>\n",
              "      <td>0.00</td>\n",
              "      <td>0.00</td>\n",
              "      <td>0.00</td>\n",
              "      <td>0.00</td>\n",
              "      <td>0.00</td>\n",
              "      <td>-0.95</td>\n",
              "      <td>0.02</td>\n",
              "      <td>0.00</td>\n",
              "      <td>0.00</td>\n",
              "    </tr>\n",
              "    <tr>\n",
              "      <th>3</th>\n",
              "      <td>10.00</td>\n",
              "      <td>0.00</td>\n",
              "      <td>2.04</td>\n",
              "      <td>0.00</td>\n",
              "      <td>0.00</td>\n",
              "      <td>0.00</td>\n",
              "      <td>0.00</td>\n",
              "      <td>16.34</td>\n",
              "      <td>-0.96</td>\n",
              "      <td>56.00</td>\n",
              "      <td>...</td>\n",
              "      <td>0.00</td>\n",
              "      <td>0.00</td>\n",
              "      <td>0.00</td>\n",
              "      <td>0.00</td>\n",
              "      <td>0.00</td>\n",
              "      <td>0.00</td>\n",
              "      <td>-0.91</td>\n",
              "      <td>0.07</td>\n",
              "      <td>0.00</td>\n",
              "      <td>0.00</td>\n",
              "    </tr>\n",
              "    <tr>\n",
              "      <th>4</th>\n",
              "      <td>13.00</td>\n",
              "      <td>0.00</td>\n",
              "      <td>2.16</td>\n",
              "      <td>0.00</td>\n",
              "      <td>0.00</td>\n",
              "      <td>0.00</td>\n",
              "      <td>0.00</td>\n",
              "      <td>26.69</td>\n",
              "      <td>0.54</td>\n",
              "      <td>48.00</td>\n",
              "      <td>...</td>\n",
              "      <td>0.00</td>\n",
              "      <td>0.00</td>\n",
              "      <td>0.00</td>\n",
              "      <td>0.00</td>\n",
              "      <td>0.00</td>\n",
              "      <td>0.00</td>\n",
              "      <td>-1.29</td>\n",
              "      <td>-0.37</td>\n",
              "      <td>0.00</td>\n",
              "      <td>0.00</td>\n",
              "    </tr>\n",
              "    <tr>\n",
              "      <th>...</th>\n",
              "      <td>...</td>\n",
              "      <td>...</td>\n",
              "      <td>...</td>\n",
              "      <td>...</td>\n",
              "      <td>...</td>\n",
              "      <td>...</td>\n",
              "      <td>...</td>\n",
              "      <td>...</td>\n",
              "      <td>...</td>\n",
              "      <td>...</td>\n",
              "      <td>...</td>\n",
              "      <td>...</td>\n",
              "      <td>...</td>\n",
              "      <td>...</td>\n",
              "      <td>...</td>\n",
              "      <td>...</td>\n",
              "      <td>...</td>\n",
              "      <td>...</td>\n",
              "      <td>...</td>\n",
              "      <td>...</td>\n",
              "      <td>...</td>\n",
              "    </tr>\n",
              "    <tr>\n",
              "      <th>1175</th>\n",
              "      <td>12.00</td>\n",
              "      <td>0.00</td>\n",
              "      <td>2.03</td>\n",
              "      <td>0.00</td>\n",
              "      <td>0.00</td>\n",
              "      <td>0.00</td>\n",
              "      <td>0.00</td>\n",
              "      <td>16.59</td>\n",
              "      <td>1.14</td>\n",
              "      <td>66.00</td>\n",
              "      <td>...</td>\n",
              "      <td>0.00</td>\n",
              "      <td>0.00</td>\n",
              "      <td>0.00</td>\n",
              "      <td>0.00</td>\n",
              "      <td>0.00</td>\n",
              "      <td>0.00</td>\n",
              "      <td>-1.50</td>\n",
              "      <td>0.19</td>\n",
              "      <td>0.00</td>\n",
              "      <td>0.00</td>\n",
              "    </tr>\n",
              "    <tr>\n",
              "      <th>1176</th>\n",
              "      <td>7.00</td>\n",
              "      <td>0.00</td>\n",
              "      <td>1.23</td>\n",
              "      <td>0.00</td>\n",
              "      <td>0.00</td>\n",
              "      <td>0.00</td>\n",
              "      <td>0.00</td>\n",
              "      <td>11.49</td>\n",
              "      <td>1.43</td>\n",
              "      <td>50.00</td>\n",
              "      <td>...</td>\n",
              "      <td>0.00</td>\n",
              "      <td>0.00</td>\n",
              "      <td>0.00</td>\n",
              "      <td>0.00</td>\n",
              "      <td>0.00</td>\n",
              "      <td>0.00</td>\n",
              "      <td>-1.21</td>\n",
              "      <td>-0.46</td>\n",
              "      <td>0.00</td>\n",
              "      <td>0.00</td>\n",
              "    </tr>\n",
              "    <tr>\n",
              "      <th>1177</th>\n",
              "      <td>5.00</td>\n",
              "      <td>0.00</td>\n",
              "      <td>1.56</td>\n",
              "      <td>0.00</td>\n",
              "      <td>0.00</td>\n",
              "      <td>0.00</td>\n",
              "      <td>0.00</td>\n",
              "      <td>24.75</td>\n",
              "      <td>-2.92</td>\n",
              "      <td>56.00</td>\n",
              "      <td>...</td>\n",
              "      <td>0.00</td>\n",
              "      <td>0.00</td>\n",
              "      <td>0.00</td>\n",
              "      <td>0.00</td>\n",
              "      <td>0.00</td>\n",
              "      <td>0.00</td>\n",
              "      <td>-1.16</td>\n",
              "      <td>0.23</td>\n",
              "      <td>0.00</td>\n",
              "      <td>0.00</td>\n",
              "    </tr>\n",
              "    <tr>\n",
              "      <th>1178</th>\n",
              "      <td>14.00</td>\n",
              "      <td>0.00</td>\n",
              "      <td>2.29</td>\n",
              "      <td>0.00</td>\n",
              "      <td>0.00</td>\n",
              "      <td>0.00</td>\n",
              "      <td>0.00</td>\n",
              "      <td>17.13</td>\n",
              "      <td>2.04</td>\n",
              "      <td>72.00</td>\n",
              "      <td>...</td>\n",
              "      <td>0.00</td>\n",
              "      <td>0.00</td>\n",
              "      <td>0.00</td>\n",
              "      <td>0.00</td>\n",
              "      <td>0.00</td>\n",
              "      <td>0.00</td>\n",
              "      <td>-0.54</td>\n",
              "      <td>0.11</td>\n",
              "      <td>0.00</td>\n",
              "      <td>0.00</td>\n",
              "    </tr>\n",
              "    <tr>\n",
              "      <th>1179</th>\n",
              "      <td>7.00</td>\n",
              "      <td>0.00</td>\n",
              "      <td>1.34</td>\n",
              "      <td>0.00</td>\n",
              "      <td>0.00</td>\n",
              "      <td>0.00</td>\n",
              "      <td>0.00</td>\n",
              "      <td>18.63</td>\n",
              "      <td>-0.70</td>\n",
              "      <td>44.00</td>\n",
              "      <td>...</td>\n",
              "      <td>0.00</td>\n",
              "      <td>0.00</td>\n",
              "      <td>0.00</td>\n",
              "      <td>0.00</td>\n",
              "      <td>0.00</td>\n",
              "      <td>0.00</td>\n",
              "      <td>0.78</td>\n",
              "      <td>0.92</td>\n",
              "      <td>0.00</td>\n",
              "      <td>0.00</td>\n",
              "    </tr>\n",
              "  </tbody>\n",
              "</table>\n",
              "<p>1180 rows × 8400 columns</p>\n",
              "</div>"
            ],
            "text/plain": [
              "      channel-0 betti dim-1 max  channel-0 betti dim-1 mean  \\\n",
              "0                          6.00                        0.00   \n",
              "1                          9.00                        0.00   \n",
              "2                          5.00                        0.00   \n",
              "3                         10.00                        0.00   \n",
              "4                         13.00                        0.00   \n",
              "...                         ...                         ...   \n",
              "1175                      12.00                        0.00   \n",
              "1176                       7.00                        0.00   \n",
              "1177                       5.00                        0.00   \n",
              "1178                      14.00                        0.00   \n",
              "1179                       7.00                        0.00   \n",
              "\n",
              "      channel-0 betti dim-1 std  channel-0 betti dim-1 sum  \\\n",
              "0                          1.37                       0.00   \n",
              "1                          1.57                       0.00   \n",
              "2                          1.36                       0.00   \n",
              "3                          2.04                       0.00   \n",
              "4                          2.16                       0.00   \n",
              "...                         ...                        ...   \n",
              "1175                       2.03                       0.00   \n",
              "1176                       1.23                       0.00   \n",
              "1177                       1.56                       0.00   \n",
              "1178                       2.29                       0.00   \n",
              "1179                       1.34                       0.00   \n",
              "\n",
              "      channel-0 betti dim-1 percentile-25  channel-0 betti dim-1 median  \\\n",
              "0                                    0.00                          0.00   \n",
              "1                                    0.00                          0.00   \n",
              "2                                    0.00                          0.00   \n",
              "3                                    0.00                          0.00   \n",
              "4                                    0.00                          0.00   \n",
              "...                                   ...                           ...   \n",
              "1175                                 0.00                          0.00   \n",
              "1176                                 0.00                          0.00   \n",
              "1177                                 0.00                          0.00   \n",
              "1178                                 0.00                          0.00   \n",
              "1179                                 0.00                          0.00   \n",
              "\n",
              "      channel-0 betti dim-1 percentile-75  channel-0 betti dim-1 kurtosis  \\\n",
              "0                                    0.00                           11.68   \n",
              "1                                    0.00                           15.82   \n",
              "2                                    0.00                            9.88   \n",
              "3                                    0.00                           16.34   \n",
              "4                                    0.00                           26.69   \n",
              "...                                   ...                             ...   \n",
              "1175                                 0.00                           16.59   \n",
              "1176                                 0.00                           11.49   \n",
              "1177                                 0.00                           24.75   \n",
              "1178                                 0.00                           17.13   \n",
              "1179                                 0.00                           18.63   \n",
              "\n",
              "      channel-0 betti dim-1 skew  channel-0 betti dim-1 norm-1  ...  \\\n",
              "0                          -0.28                         44.00  ...   \n",
              "1                           0.67                         50.00  ...   \n",
              "2                          -1.12                         46.00  ...   \n",
              "3                          -0.96                         56.00  ...   \n",
              "4                           0.54                         48.00  ...   \n",
              "...                          ...                           ...  ...   \n",
              "1175                        1.14                         66.00  ...   \n",
              "1176                        1.43                         50.00  ...   \n",
              "1177                       -2.92                         56.00  ...   \n",
              "1178                        2.04                         72.00  ...   \n",
              "1179                       -0.70                         44.00  ...   \n",
              "\n",
              "      channel-39 bd2 dim-2 mean  channel-39 bd2 dim-2 std  \\\n",
              "0                          0.00                      0.00   \n",
              "1                          0.00                      0.00   \n",
              "2                          0.00                      0.00   \n",
              "3                          0.00                      0.00   \n",
              "4                          0.00                      0.00   \n",
              "...                         ...                       ...   \n",
              "1175                       0.00                      0.00   \n",
              "1176                       0.00                      0.00   \n",
              "1177                       0.00                      0.00   \n",
              "1178                       0.00                      0.00   \n",
              "1179                       0.00                      0.00   \n",
              "\n",
              "      channel-39 bd2 dim-2 sum  channel-39 bd2 dim-2 percentile-25  \\\n",
              "0                         0.00                                0.00   \n",
              "1                         0.00                                0.00   \n",
              "2                         0.00                                0.00   \n",
              "3                         0.00                                0.00   \n",
              "4                         0.00                                0.00   \n",
              "...                        ...                                 ...   \n",
              "1175                      0.00                                0.00   \n",
              "1176                      0.00                                0.00   \n",
              "1177                      0.00                                0.00   \n",
              "1178                      0.00                                0.00   \n",
              "1179                      0.00                                0.00   \n",
              "\n",
              "      channel-39 bd2 dim-2 median  channel-39 bd2 dim-2 percentile-75  \\\n",
              "0                            0.00                                0.00   \n",
              "1                            0.00                                0.00   \n",
              "2                            0.00                                0.00   \n",
              "3                            0.00                                0.00   \n",
              "4                            0.00                                0.00   \n",
              "...                           ...                                 ...   \n",
              "1175                         0.00                                0.00   \n",
              "1176                         0.00                                0.00   \n",
              "1177                         0.00                                0.00   \n",
              "1178                         0.00                                0.00   \n",
              "1179                         0.00                                0.00   \n",
              "\n",
              "      channel-39 bd2 dim-2 kurtosis  channel-39 bd2 dim-2 skew  \\\n",
              "0                              1.27                       0.99   \n",
              "1                             -0.35                       1.08   \n",
              "2                             -0.95                       0.02   \n",
              "3                             -0.91                       0.07   \n",
              "4                             -1.29                      -0.37   \n",
              "...                             ...                        ...   \n",
              "1175                          -1.50                       0.19   \n",
              "1176                          -1.21                      -0.46   \n",
              "1177                          -1.16                       0.23   \n",
              "1178                          -0.54                       0.11   \n",
              "1179                           0.78                       0.92   \n",
              "\n",
              "      channel-39 bd2 dim-2 norm-1  channel-39 bd2 dim-2 norm-2  \n",
              "0                            0.00                         0.00  \n",
              "1                            0.00                         0.00  \n",
              "2                            0.00                         0.00  \n",
              "3                            0.00                         0.00  \n",
              "4                            0.00                         0.00  \n",
              "...                           ...                          ...  \n",
              "1175                         0.00                         0.00  \n",
              "1176                         0.00                         0.00  \n",
              "1177                         0.00                         0.00  \n",
              "1178                         0.00                         0.00  \n",
              "1179                         0.00                         0.00  \n",
              "\n",
              "[1180 rows x 8400 columns]"
            ]
          },
          "execution_count": 12,
          "metadata": {},
          "output_type": "execute_result"
        }
      ],
      "source": [
        "n_channels = data.shape[1]\n",
        "channel_features_raw = FeatureCalculator().calc_features(channel_diagrams)\n",
        "columns = [ f\"channel-{i}{feature_name}\" for i in range(n_channels) for feature_name in channel_features_raw ]\n",
        "channel_features = pandas.concat([ channel_features_raw.iloc[i::n_channels, :].reset_index(drop = True) for i in range(n_channels) ], axis = 1)\n",
        "channel_features.columns = columns\n",
        "channel_features.to_feather(f\"{subj}/{exp}/channel_features.feather\")\n",
        "channel_features"
      ]
    },
    {
      "cell_type": "markdown",
      "metadata": {},
      "source": [
        "### PearsonDissimilarity"
      ]
    },
    {
      "cell_type": "markdown",
      "metadata": {},
      "source": [
        "#### TakensEmbedding & PearsonDissimilarity"
      ]
    },
    {
      "cell_type": "code",
      "execution_count": null,
      "metadata": {},
      "outputs": [
        {
          "name": "stderr",
          "output_type": "stream",
          "text": [
            "100%|██████████| 1180/1180 [00:02<00:00, 538.21it/s]\n"
          ]
        },
        {
          "name": "stdout",
          "output_type": "stream",
          "text": [
            "(28320, 40, 40)\n"
          ]
        }
      ],
      "source": [
        "dissim_matrixes = [ ]\n",
        "for epoch in tqdm.tqdm(data):\n",
        "    dissim_embedding = gtda.time_series.TakensEmbedding(\n",
        "        dimension = DISSIM_DIMENSION,\n",
        "        time_delay = DISSIM_TIME_DELAY,\n",
        "        stride = DISSIM_STRIDE,\n",
        "        flatten = False\n",
        "    )\n",
        "    dissim_windows = dissim_embedding.fit_transform(epoch).transpose(1, 2, 0)\n",
        "    \n",
        "    dissim = gtda.time_series.PearsonDissimilarity()\n",
        "    dissim_matrix = dissim.fit_transform(dissim_windows)\n",
        "    dissim_matrixes.append(dissim_matrix)\n",
        "\n",
        "    epoch_ts = numpy.expand_dims(epoch.transpose(1, 0), 0)\n",
        "    dissim_matrix = dissim.fit_transform(epoch_ts)\n",
        "    dissim_matrixes.append(dissim_matrix)\n",
        "\n",
        "dissim_matrixes = numpy.concatenate(dissim_matrixes, axis = 0)\n",
        "print(dissim_matrixes.shape)"
      ]
    },
    {
      "cell_type": "code",
      "execution_count": null,
      "metadata": {},
      "outputs": [
        {
          "data": {
            "application/vnd.plotly.v1+json": {
              "config": {
                "plotlyServerURL": "https://plot.ly"
              },
              "data": [
                {
                  "type": "heatmap",
                  "z": [
                    [
                      0,
                      0.09100136037571643,
                      0.1503454485188927,
                      0.6636792163390601,
                      0.9656529710985697,
                      0.8954798142542941,
                      0.890720997302003,
                      0.6386860679400814,
                      0.7585673536863862,
                      0.815293808896667,
                      0.790324236169154,
                      0.833942906178388,
                      0.5979248132593836,
                      0.5904628114496926,
                      0.6902523113204909,
                      0.6443555259191852,
                      0.7945163430172801,
                      0.38531273907771457,
                      0.45385029560632817,
                      0.5161348302268505,
                      0.5822282267292229,
                      0.6244987215612723,
                      0.4204208268600223,
                      0.28417140413572894,
                      0.37220639035466496,
                      0.47968431963260083,
                      0.48941483821300147,
                      0.4891920612358698,
                      0.5512938379365727,
                      0.42307338511582226,
                      0.43699334102919485,
                      0.4613144674999533,
                      0.47814852138931513,
                      0.47026452697803617,
                      0.3361972705673929,
                      0.4687840904858588,
                      0.4759325225051372,
                      0.47879064854870507,
                      0.5424226663683371,
                      0.5373252629684021
                    ],
                    [
                      0.09100136037571638,
                      0,
                      0.048872262967589286,
                      0.735605725963064,
                      0.9268124442457366,
                      0.9235797663108678,
                      0.9106498528587463,
                      0.6428195591982055,
                      0.7311526006513315,
                      0.7566769036504652,
                      0.8241970128548415,
                      0.8475075557648836,
                      0.5785032817240291,
                      0.618475136013293,
                      0.6448685557225436,
                      0.6680968782067026,
                      0.8325343671006689,
                      0.36411510718271567,
                      0.41400530570634153,
                      0.49369916011360615,
                      0.6344963064338777,
                      0.655602918938897,
                      0.3474031869564955,
                      0.2547050896202211,
                      0.3369962225894235,
                      0.44847396043628834,
                      0.5472624013108816,
                      0.5467106809427509,
                      0.5031200534243861,
                      0.4004776119926868,
                      0.4226646774925686,
                      0.4304849510387414,
                      0.532176038059101,
                      0.5916270328241248,
                      0.35289037576027216,
                      0.39946151597285706,
                      0.41389094257148706,
                      0.4664729366478568,
                      0.7065655177236264,
                      0.7035329725989584
                    ],
                    [
                      0.1503454485188927,
                      0.04887226296758934,
                      0,
                      0.6699993786099789,
                      0.8812925001498371,
                      0.8940824365814917,
                      0.9052282769445354,
                      0.5072992361540437,
                      0.6432061142486537,
                      0.7256040923693039,
                      0.8202464593430352,
                      0.8576032451948046,
                      0.5482623029124755,
                      0.6905972426879878,
                      0.6181077540929892,
                      0.681786951666818,
                      0.838591638324617,
                      0.3979960675851369,
                      0.47365298885219287,
                      0.49352712147615496,
                      0.6556687002911266,
                      0.692040345539108,
                      0.37908992436503647,
                      0.32990436986778904,
                      0.447390921533764,
                      0.4765762029120245,
                      0.5304933957500851,
                      0.5088586937631316,
                      0.5327387183217703,
                      0.38573681957101097,
                      0.45593888040870834,
                      0.4436616618847864,
                      0.4956030071376462,
                      0.5270824266028133,
                      0.31818736492960653,
                      0.41428251790661885,
                      0.42815267741473395,
                      0.44657902882044676,
                      0.6787554793440949,
                      0.6613237919082041
                    ],
                    [
                      0.6636792163390601,
                      0.735605725963064,
                      0.6699993786099789,
                      0,
                      0.24926153341286034,
                      0.1779667486354667,
                      0.19950297020276825,
                      0.14935699411262743,
                      0.058139360173210086,
                      0.20714695913218728,
                      0.20349917285782454,
                      0.23958697524015116,
                      0.376069272257166,
                      0.3483363979359384,
                      0.2503850251577743,
                      0.263115419388765,
                      0.2681847862320983,
                      0.6756771688337568,
                      0.6215563214114845,
                      0.4210780511974728,
                      0.3852476255568149,
                      0.5641473867161741,
                      0.7677542421976488,
                      0.4143501622358912,
                      0.6865592854442896,
                      0.663230714639023,
                      0.6597847827463912,
                      0.7871428205566895,
                      0.5051533965351602,
                      0.39536956935809675,
                      0.6922193982905653,
                      0.7797861424449899,
                      0.7336161660969283,
                      0.6803619426264929,
                      0.8421984878936192,
                      0.756512705485211,
                      0.7415932930166145,
                      0.7498613639588858,
                      0.40433645674354735,
                      0.37700655520563536
                    ],
                    [
                      0.9656529710985697,
                      0.9268124442457366,
                      0.8812925001498371,
                      0.2492615334128604,
                      0,
                      0.05130698723000021,
                      0.05025655303899684,
                      0.27602830604549056,
                      0.1630209515288677,
                      0.11802955102090984,
                      0.14150695074930913,
                      0.08791483148975471,
                      0.3461321711602375,
                      0.36612674932646283,
                      0.24935933355779832,
                      0.2686087600546477,
                      0.13382410056099464,
                      0.5930533718285687,
                      0.6259954604313407,
                      0.45784274421336635,
                      0.3719773549841675,
                      0.36210231819692107,
                      0.6228414024462884,
                      0.675915938259136,
                      0.6894980672939822,
                      0.6131725687836577,
                      0.5935677113547908,
                      0.6052192561209159,
                      0.4360551466679738,
                      0.5323103713623621,
                      0.6465734688580616,
                      0.6759048589448855,
                      0.6385906627655065,
                      0.6001375288846474,
                      0.7061384267698595,
                      0.654131793205831,
                      0.6499014892854529,
                      0.6277648818335331,
                      0.41180463651351784,
                      0.4099249302111924
                    ],
                    [
                      0.8954798142542941,
                      0.9235797663108678,
                      0.8940824365814917,
                      0.1779667486354667,
                      0.05130698723000021,
                      0,
                      0.05472924395909956,
                      0.3184092603570426,
                      0.15936826341957616,
                      0.06259336702690776,
                      0.03485137478070344,
                      0.051840840421465084,
                      0.43983116251892523,
                      0.3006131667855883,
                      0.13778568889892312,
                      0.13161836789646103,
                      0.061774781127829914,
                      0.6908225420786018,
                      0.5819178162020066,
                      0.3050874388967235,
                      0.2024649681936041,
                      0.29901496187594967,
                      0.7714373217389985,
                      0.6929640232988916,
                      0.7591414158409562,
                      0.5296372175364471,
                      0.5017925741306042,
                      0.6085218251951091,
                      0.5631589676669851,
                      0.6352576910953961,
                      0.6117811610216517,
                      0.7247004741226779,
                      0.6566622135515359,
                      0.6104450885059624,
                      0.8049222622139871,
                      0.7869655359782426,
                      0.7763471859022923,
                      0.7666459620861008,
                      0.48491870301384987,
                      0.4793261396545807
                    ],
                    [
                      0.890720997302003,
                      0.9106498528587464,
                      0.9052282769445354,
                      0.19950297020276825,
                      0.05025655303899679,
                      0.05472924395909956,
                      0,
                      0.3477020887091773,
                      0.17963528100032017,
                      0.12498429656753635,
                      0.10548434816884233,
                      0.031052154570329393,
                      0.25265459804628676,
                      0.3523666253780232,
                      0.25267359463544303,
                      0.23143885089619204,
                      0.07088830137472657,
                      0.5085347778124126,
                      0.638115627342183,
                      0.48841508009555384,
                      0.3476187428637446,
                      0.3096982227281152,
                      0.610948446107858,
                      0.5962716976343034,
                      0.656002372034728,
                      0.6797681223994418,
                      0.6635744464042589,
                      0.6803047872946669,
                      0.3962004465533999,
                      0.4850042901541095,
                      0.7176467335852116,
                      0.7501968674549864,
                      0.7284263038536292,
                      0.6753625250100715,
                      0.7546161087262626,
                      0.71464007260632,
                      0.7038956368401439,
                      0.690106254656869,
                      0.4251370279570779,
                      0.41984009967242925
                    ],
                    [
                      0.6386860679400814,
                      0.6428195591982054,
                      0.5072992361540437,
                      0.14935699411262743,
                      0.27602830604549056,
                      0.3184092603570426,
                      0.3477020887091773,
                      1.1102230246251565e-16,
                      0.10344640972317604,
                      0.3041589960449736,
                      0.3901994566279074,
                      0.38975530665992797,
                      0.38022594947726,
                      0.48677182528419266,
                      0.35825145436768147,
                      0.42122932408740144,
                      0.4301017074302423,
                      0.6251742587734721,
                      0.7322773674634706,
                      0.5064477193241205,
                      0.5409433897972663,
                      0.6488359079269636,
                      0.6683526048565607,
                      0.511630245611361,
                      0.736513955411727,
                      0.7246298908830557,
                      0.6695045587299508,
                      0.6685275830982396,
                      0.4532687563165403,
                      0.36071288884386293,
                      0.7095120436993817,
                      0.7353426158564447,
                      0.6438749675656282,
                      0.5473817545201123,
                      0.610437576579235,
                      0.6617504331976618,
                      0.6664188497282832,
                      0.5894157322767465,
                      0.3020610151426131,
                      0.26736084126248855
                    ],
                    [
                      0.7585673536863863,
                      0.7311526006513315,
                      0.6432061142486536,
                      0.05813936017321003,
                      0.1630209515288677,
                      0.15936826341957616,
                      0.17963528100032017,
                      0.10344640972317609,
                      0,
                      0.13891941829434823,
                      0.2111621392197795,
                      0.21543044130084577,
                      0.3533493992909059,
                      0.30982631801090865,
                      0.20852022075914722,
                      0.27155593568749303,
                      0.2745463494695033,
                      0.6558900802353071,
                      0.5810923508005743,
                      0.40073696251308466,
                      0.41134418908805676,
                      0.6111391581221293,
                      0.7315327305596372,
                      0.44507758690062504,
                      0.7590759744184117,
                      0.6374200922055011,
                      0.6814129640389708,
                      0.8198752658390892,
                      0.5305876596957303,
                      0.4044525114986053,
                      0.647113223460021,
                      0.7577447077399069,
                      0.7537924574057984,
                      0.7298295148767214,
                      0.8392297025090871,
                      0.7294669806277212,
                      0.7247051971510581,
                      0.7372664330281011,
                      0.4838176800651023,
                      0.4533509417221218
                    ],
                    [
                      0.815293808896667,
                      0.7566769036504652,
                      0.7256040923693039,
                      0.20714695913218728,
                      0.11802955102090978,
                      0.06259336702690782,
                      0.1249842965675364,
                      0.3041589960449736,
                      0.13891941829434823,
                      0,
                      0.038458902949957574,
                      0.06941003331372952,
                      0.4250750129250756,
                      0.33440849869436623,
                      0.03509930515763232,
                      0.061174823497457675,
                      0.07438814972036445,
                      0.656973418999111,
                      0.5933688206482765,
                      0.19563990643114698,
                      0.15690547098695712,
                      0.2923452637814571,
                      0.7718638648986286,
                      0.6282776362686658,
                      0.8037341153003881,
                      0.5377792533278393,
                      0.5673213127817465,
                      0.696709798172223,
                      0.5776153388870454,
                      0.6122202206012867,
                      0.6504080771887631,
                      0.821433404180874,
                      0.7887623434433508,
                      0.7509577576622453,
                      0.8126579637593192,
                      0.8804681864896873,
                      0.8782148291845859,
                      0.8860114978324913,
                      0.6546105483373368,
                      0.6377863259971046
                    ],
                    [
                      0.790324236169154,
                      0.8241970128548415,
                      0.8202464593430353,
                      0.20349917285782454,
                      0.14150695074930908,
                      0.03485137478070344,
                      0.10548434816884239,
                      0.3901994566279074,
                      0.2111621392197795,
                      0.03845890294995763,
                      0,
                      0.05044940816386623,
                      0.46454617683758714,
                      0.3280240132032527,
                      0.06291740736823404,
                      0.03877026714460091,
                      0.029946773409515626,
                      0.6768231346333714,
                      0.5877271672858362,
                      0.1969495412843632,
                      0.09945867605864994,
                      0.21578855377046835,
                      0.800484970874094,
                      0.6681480218266612,
                      0.7710396091301852,
                      0.5099882051867559,
                      0.4935643241427806,
                      0.6225828013325128,
                      0.5997349948119135,
                      0.6661383269673243,
                      0.6345808530619944,
                      0.7990748916067354,
                      0.7283122602466554,
                      0.6725334403136991,
                      0.8069683700451249,
                      0.893475146240641,
                      0.8831282432189986,
                      0.8841453134011662,
                      0.5945915226511203,
                      0.5860487256515333
                    ],
                    [
                      0.833942906178388,
                      0.8475075557648836,
                      0.8576032451948046,
                      0.23958697524015116,
                      0.08791483148975471,
                      0.051840840421465084,
                      0.031052154570329393,
                      0.38975530665992797,
                      0.21543044130084582,
                      0.06941003331372952,
                      0.05044940816386623,
                      0,
                      0.2870032582986152,
                      0.34671243676571306,
                      0.1600559444763534,
                      0.12594154134840496,
                      0.017136739722753036,
                      0.4993497543890345,
                      0.6502296056704249,
                      0.3651933204686817,
                      0.23173932798695596,
                      0.22582685511038048,
                      0.6488649701224486,
                      0.6260919996486036,
                      0.7174322681786672,
                      0.646632322196884,
                      0.6372262382962541,
                      0.6843492422326132,
                      0.45792333210704916,
                      0.5493327785344265,
                      0.7166138144245847,
                      0.8159425439271544,
                      0.7885879782733338,
                      0.7247008995991031,
                      0.7582978017745379,
                      0.8213055939871388,
                      0.8153956271035899,
                      0.8062694993592816,
                      0.532116401266815,
                      0.5263210663373767
                    ],
                    [
                      0.5979248132593836,
                      0.5785032817240291,
                      0.5482623029124755,
                      0.376069272257166,
                      0.3461321711602375,
                      0.4398311625189252,
                      0.25265459804628676,
                      0.38022594947725996,
                      0.3533493992909059,
                      0.4250750129250756,
                      0.46454617683758714,
                      0.2870032582986153,
                      0,
                      0.6446996811899519,
                      0.5516150236915847,
                      0.5246294230520253,
                      0.3450412795051915,
                      0.1156338177162205,
                      0.7867131430955189,
                      0.7764898672201059,
                      0.6933644695980479,
                      0.4491305831727809,
                      0.23137674003717695,
                      0.34415981552293484,
                      0.45646899834026583,
                      0.9277747819535849,
                      0.9238184511329381,
                      0.7477669111201791,
                      0.1628961364222971,
                      0.13702470505569042,
                      0.865055937365375,
                      0.7594935844240905,
                      0.8095524288690052,
                      0.7378168773846188,
                      0.45356471763975037,
                      0.5457583023452619,
                      0.5458372544994221,
                      0.534982664352722,
                      0.40502420896692665,
                      0.3937955222954175
                    ],
                    [
                      0.5904628114496926,
                      0.618475136013293,
                      0.6905972426879878,
                      0.3483363979359384,
                      0.36612674932646283,
                      0.3006131667855883,
                      0.3523666253780232,
                      0.48677182528419266,
                      0.3098263180109087,
                      0.3344084986943663,
                      0.3280240132032527,
                      0.34671243676571306,
                      0.6446996811899519,
                      0,
                      0.34479042573557284,
                      0.3647319681011858,
                      0.40211156241197926,
                      0.7025587346734075,
                      0.17611332996760942,
                      0.338893404759021,
                      0.3344234801195676,
                      0.6615025161806516,
                      0.7740882580112636,
                      0.48513617064322123,
                      0.6913404305315344,
                      0.266527253596997,
                      0.3842161332984459,
                      0.6946408490028121,
                      0.7884370175009658,
                      0.7055123180802,
                      0.22783421500960782,
                      0.42192190090707415,
                      0.5142914653132772,
                      0.6104566290287425,
                      0.9008730543530508,
                      0.5540570234662614,
                      0.5550846616325531,
                      0.6157339024266262,
                      0.6205405005657063,
                      0.6181595616659277
                    ],
                    [
                      0.6902523113204909,
                      0.6448685557225436,
                      0.6181077540929892,
                      0.2503850251577743,
                      0.24935933355779832,
                      0.13778568889892312,
                      0.25267359463544303,
                      0.35825145436768147,
                      0.20852022075914722,
                      0.03509930515763232,
                      0.06291740736823409,
                      0.1600559444763534,
                      0.5516150236915847,
                      0.34479042573557284,
                      0,
                      0.028608328193124366,
                      0.13027808320963657,
                      0.7290446995590414,
                      0.5347345318356854,
                      0.07922114841003758,
                      0.07522320702199775,
                      0.28498973435371333,
                      0.8450956267840746,
                      0.636435481249867,
                      0.828018127522192,
                      0.4341203218330981,
                      0.46442582217413575,
                      0.6421899600527757,
                      0.6853970047173764,
                      0.6953135092965609,
                      0.5809309290492308,
                      0.7996578353960632,
                      0.7479485566963531,
                      0.7164525760565554,
                      0.80093349749922,
                      0.9247936756925503,
                      0.9228274990928149,
                      0.9330962886708296,
                      0.7398389446244062,
                      0.7192905474043114
                    ],
                    [
                      0.6443555259191852,
                      0.6680968782067026,
                      0.6817869516668181,
                      0.263115419388765,
                      0.2686087600546477,
                      0.13161836789646103,
                      0.23143885089619204,
                      0.42122932408740144,
                      0.27155593568749303,
                      0.06117482349745773,
                      0.03877026714460091,
                      0.12594154134840496,
                      0.5246294230520253,
                      0.3647319681011858,
                      0.02860832819312442,
                      0,
                      0.08350968246100327,
                      0.6693738001152569,
                      0.5908879875813523,
                      0.10276064869853269,
                      0.0506430744809791,
                      0.2066970808624432,
                      0.8086352802794544,
                      0.6180667994715795,
                      0.7720546608852157,
                      0.4847600097278884,
                      0.4876206260221507,
                      0.6328375432054231,
                      0.6408105336871724,
                      0.6727678079343979,
                      0.6275026661917728,
                      0.8439632776336223,
                      0.7752119050472396,
                      0.7147355281173347,
                      0.7668960531198166,
                      0.9585703604135554,
                      0.9540731892357861,
                      0.9630069813528928,
                      0.6835195775621554,
                      0.6720848668980914
                    ],
                    [
                      0.7945163430172801,
                      0.8325343671006687,
                      0.838591638324617,
                      0.2681847862320983,
                      0.13382410056099459,
                      0.061774781127829914,
                      0.07088830137472657,
                      0.4301017074302423,
                      0.2745463494695033,
                      0.0743881497203645,
                      0.029946773409515626,
                      0.017136739722753036,
                      0.3450412795051915,
                      0.40211156241197926,
                      0.13027808320963657,
                      0.08350968246100327,
                      0,
                      0.5357476027862647,
                      0.6699529063002136,
                      0.30048731664370004,
                      0.15845611860717246,
                      0.1450660426717187,
                      0.6871420323625818,
                      0.6878445785612991,
                      0.7329246949909671,
                      0.6108872676778947,
                      0.5656418089230881,
                      0.6007237968246737,
                      0.4927673146991744,
                      0.6131941200189553,
                      0.7202060086441504,
                      0.8263788020183577,
                      0.7543777972906482,
                      0.668854245802328,
                      0.7150313346871323,
                      0.8702623225397431,
                      0.8622724950108946,
                      0.8350530649421608,
                      0.5478472699159387,
                      0.541809859168155
                    ],
                    [
                      0.38531273907771457,
                      0.36411510718271567,
                      0.3979960675851369,
                      0.6756771688337568,
                      0.5930533718285687,
                      0.6908225420786019,
                      0.5085347778124126,
                      0.6251742587734721,
                      0.6558900802353071,
                      0.656973418999111,
                      0.6768231346333714,
                      0.4993497543890345,
                      0.11563381771622044,
                      0.7025587346734075,
                      0.7290446995590414,
                      0.6693738001152569,
                      0.5357476027862647,
                      0,
                      0.6838712385875418,
                      0.8039488733662008,
                      0.7570266509122381,
                      0.45913133648939874,
                      0.07408488157025023,
                      0.3133271340338372,
                      0.31116169136270344,
                      0.8073547211365945,
                      0.8232295647163799,
                      0.6155403777112586,
                      0.2010153642972009,
                      0.17961544805503782,
                      0.7071783194595666,
                      0.5849687634349643,
                      0.6810896797070847,
                      0.6524792267226082,
                      0.2655564263200943,
                      0.39602571788858393,
                      0.4050894576110873,
                      0.42002642668436146,
                      0.48058328297221137,
                      0.48980958053178214
                    ],
                    [
                      0.45385029560632817,
                      0.41400530570634153,
                      0.47365298885219287,
                      0.6215563214114845,
                      0.6259954604313407,
                      0.5819178162020066,
                      0.638115627342183,
                      0.7322773674634706,
                      0.5810923508005743,
                      0.5933688206482765,
                      0.5877271672858362,
                      0.6502296056704249,
                      0.7867131430955189,
                      0.17611332996760942,
                      0.5347345318356854,
                      0.5908879875813523,
                      0.6699529063002136,
                      0.6838712385875418,
                      5.551115123125783e-17,
                      0.3840347811541901,
                      0.45480963578716666,
                      0.717489676645217,
                      0.621501192374946,
                      0.471875336967462,
                      0.5149221791864681,
                      0.07533102776218509,
                      0.21428133803171934,
                      0.47576890067487904,
                      0.8367219075012045,
                      0.7434321489338034,
                      0.04295754072097213,
                      0.14232202116167347,
                      0.27171567613402964,
                      0.44967043349282454,
                      0.6914669655382852,
                      0.3107194269470861,
                      0.30816137246016584,
                      0.4023405132394765,
                      0.741602241454737,
                      0.7489339092574782
                    ],
                    [
                      0.5161348302268505,
                      0.49369916011360615,
                      0.49352712147615496,
                      0.4210780511974728,
                      0.45784274421336635,
                      0.3050874388967235,
                      0.48841508009555384,
                      0.5064477193241205,
                      0.40073696251308466,
                      0.19563990643114698,
                      0.19694954128436315,
                      0.3651933204686817,
                      0.7764898672201059,
                      0.33889340475902097,
                      0.07922114841003758,
                      0.10276064869853269,
                      0.3004873166437001,
                      0.8039488733662008,
                      0.3840347811541901,
                      0,
                      0.04878557484116075,
                      0.3338434522410228,
                      0.8650578502234233,
                      0.6557449321306669,
                      0.7835216343051523,
                      0.2316358669167929,
                      0.2669019841971304,
                      0.49567149616394496,
                      0.8394515075536026,
                      0.8228216377483057,
                      0.37759951785774637,
                      0.6262597114358641,
                      0.5729834174434647,
                      0.5827199487103828,
                      0.717274377339785,
                      0.8409127019993103,
                      0.8417387787209895,
                      0.8669694446932192,
                      0.8086404392964897,
                      0.7975173125222998
                    ],
                    [
                      0.5822282267292229,
                      0.6344963064338777,
                      0.6556687002911266,
                      0.3852476255568149,
                      0.37197735498416756,
                      0.2024649681936041,
                      0.3476187428637446,
                      0.5409433897972663,
                      0.41134418908805676,
                      0.15690547098695706,
                      0.09945867605864994,
                      0.23173932798695596,
                      0.6933644695980479,
                      0.3344234801195676,
                      0.07522320702199775,
                      0.050643074480979045,
                      0.15845611860717246,
                      0.7570266509122381,
                      0.45480963578716666,
                      0.04878557484116075,
                      0,
                      0.20014391054163222,
                      0.8686689699172208,
                      0.7332327677630299,
                      0.7949735662875126,
                      0.3036030220778059,
                      0.2803483851791046,
                      0.46247617286841886,
                      0.7829365043396748,
                      0.8458217383071961,
                      0.4611598509435475,
                      0.6835107057783708,
                      0.5884528847493016,
                      0.5509900011228998,
                      0.7208487046319761,
                      0.8942784198979445,
                      0.8892870384002747,
                      0.8774797594555672,
                      0.7166945507112596,
                      0.70868361828821
                    ],
                    [
                      0.6244987215612723,
                      0.655602918938897,
                      0.692040345539108,
                      0.5641473867161741,
                      0.36210231819692107,
                      0.29901496187594967,
                      0.3096982227281152,
                      0.6488359079269636,
                      0.6111391581221293,
                      0.2923452637814571,
                      0.2157885537704683,
                      0.22582685511038048,
                      0.4491305831727809,
                      0.6615025161806516,
                      0.28498973435371333,
                      0.2066970808624432,
                      0.14506604267171863,
                      0.45913133648939874,
                      0.717489676645217,
                      0.3338434522410228,
                      0.20014391054163222,
                      1.1102230246251565e-16,
                      0.5362075320281889,
                      0.7597139054971808,
                      0.550525220624867,
                      0.5652863625674606,
                      0.4566348963936179,
                      0.3312335082708313,
                      0.41293580366797555,
                      0.6615454528697291,
                      0.7145086390424813,
                      0.7198379040166049,
                      0.600494579774198,
                      0.4948730015467458,
                      0.41423018503715,
                      0.7662993058224676,
                      0.7614146883801309,
                      0.6975625849553482,
                      0.5420669911224418,
                      0.551919174918095
                    ],
                    [
                      0.4204208268600223,
                      0.3474031869564955,
                      0.37908992436503647,
                      0.7677542421976488,
                      0.6228414024462884,
                      0.7714373217389985,
                      0.610948446107858,
                      0.6683526048565607,
                      0.7315327305596372,
                      0.7718638648986286,
                      0.800484970874094,
                      0.6488649701224486,
                      0.23137674003717695,
                      0.7740882580112636,
                      0.8450956267840746,
                      0.8086352802794544,
                      0.6871420323625818,
                      0.07408488157025017,
                      0.621501192374946,
                      0.8650578502234233,
                      0.8686689699172209,
                      0.5362075320281889,
                      0,
                      0.30060976863453803,
                      0.1588846224387071,
                      0.7220641529663537,
                      0.7508432362445303,
                      0.5051852419335104,
                      0.16965491300816665,
                      0.16981561571021886,
                      0.6115245883821632,
                      0.41601107153125244,
                      0.5258833847339586,
                      0.5482927753754735,
                      0.17823456645028374,
                      0.21186576543408164,
                      0.2182560273230369,
                      0.26245068239166996,
                      0.4323533831474979,
                      0.4574844845403304
                    ],
                    [
                      0.28417140413572894,
                      0.2547050896202211,
                      0.32990436986778904,
                      0.4143501622358912,
                      0.6759159382591361,
                      0.6929640232988916,
                      0.5962716976343034,
                      0.511630245611361,
                      0.44507758690062504,
                      0.6282776362686658,
                      0.6681480218266612,
                      0.6260919996486036,
                      0.34415981552293484,
                      0.48513617064322123,
                      0.636435481249867,
                      0.6180667994715796,
                      0.6878445785612991,
                      0.3133271340338372,
                      0.471875336967462,
                      0.6557449321306669,
                      0.7332327677630299,
                      0.7597139054971809,
                      0.30060976863453803,
                      1.1102230246251565e-16,
                      0.22457115943995265,
                      0.6604925945559268,
                      0.8214707452158615,
                      0.8591368836662083,
                      0.3304376674730976,
                      0.12486262194279862,
                      0.5637114452035807,
                      0.5635104924816701,
                      0.7376653077233806,
                      0.8127212576566379,
                      0.5839135401074773,
                      0.40736676160517565,
                      0.4052606486405037,
                      0.5458419674028256,
                      0.5479583987781267,
                      0.5527391047392463
                    ],
                    [
                      0.37220639035466496,
                      0.3369962225894236,
                      0.447390921533764,
                      0.6865592854442896,
                      0.6894980672939823,
                      0.7591414158409562,
                      0.656002372034728,
                      0.736513955411727,
                      0.7590759744184117,
                      0.8037341153003881,
                      0.7710396091301852,
                      0.7174322681786672,
                      0.45646899834026583,
                      0.6913404305315344,
                      0.8280181275221918,
                      0.7720546608852158,
                      0.7329246949909671,
                      0.31116169136270344,
                      0.5149221791864681,
                      0.7835216343051523,
                      0.7949735662875125,
                      0.5505252206248671,
                      0.1588846224387071,
                      0.2245711594399527,
                      0,
                      0.5905814241008398,
                      0.6467518566571206,
                      0.48721831901845547,
                      0.18687369305647605,
                      0.2524630284081876,
                      0.5353296850946183,
                      0.3533505722626006,
                      0.4586614939750922,
                      0.5252532589916287,
                      0.32185781816533554,
                      0.19286210474566717,
                      0.18646188729873153,
                      0.277597168750535,
                      0.39766909245665527,
                      0.43629620009207815
                    ],
                    [
                      0.47968431963260083,
                      0.44847396043628834,
                      0.4765762029120245,
                      0.663230714639023,
                      0.6131725687836577,
                      0.5296372175364471,
                      0.6797681223994418,
                      0.7246298908830557,
                      0.6374200922055011,
                      0.5377792533278393,
                      0.5099882051867559,
                      0.646632322196884,
                      0.927774781953585,
                      0.266527253596997,
                      0.4341203218330981,
                      0.4847600097278884,
                      0.6108872676778947,
                      0.8073547211365943,
                      0.07533102776218503,
                      0.2316358669167929,
                      0.3036030220778059,
                      0.5652863625674606,
                      0.7220641529663537,
                      0.6604925945559268,
                      0.5905814241008398,
                      0,
                      0.06388805207092269,
                      0.30162728604971645,
                      0.9066053371471636,
                      0.8952959046314699,
                      0.04449513333407035,
                      0.16477305375863044,
                      0.1945284424797069,
                      0.3284330994452785,
                      0.6173667914357099,
                      0.40457134337453315,
                      0.4028449259497849,
                      0.45683183916368697,
                      0.746564184646241,
                      0.7571607964596013
                    ],
                    [
                      0.48941483821300147,
                      0.5472624013108816,
                      0.5304933957500851,
                      0.6597847827463912,
                      0.5935677113547908,
                      0.5017925741306042,
                      0.6635744464042589,
                      0.6695045587299507,
                      0.6814129640389708,
                      0.5673213127817465,
                      0.4935643241427806,
                      0.6372262382962541,
                      0.9238184511329381,
                      0.3842161332984459,
                      0.4644258221741357,
                      0.4876206260221507,
                      0.5656418089230881,
                      0.8232295647163799,
                      0.21428133803171934,
                      0.2669019841971304,
                      0.2803483851791046,
                      0.4566348963936179,
                      0.7508432362445302,
                      0.8214707452158615,
                      0.6467518566571206,
                      0.06388805207092269,
                      0,
                      0.13637419978140564,
                      0.8793926453550358,
                      0.93937502485829,
                      0.1305437241169951,
                      0.19706027749622762,
                      0.1049397487666433,
                      0.14963540324391733,
                      0.4890305500045866,
                      0.4479282007759515,
                      0.4438233333603036,
                      0.4054722775104531,
                      0.5817937353680737,
                      0.5877825790195708
                    ],
                    [
                      0.4891920612358698,
                      0.5467106809427509,
                      0.5088586937631316,
                      0.7871428205566895,
                      0.6052192561209159,
                      0.6085218251951091,
                      0.6803047872946669,
                      0.6685275830982396,
                      0.8198752658390892,
                      0.696709798172223,
                      0.6225828013325128,
                      0.6843492422326132,
                      0.7477669111201791,
                      0.6946408490028121,
                      0.6421899600527757,
                      0.6328375432054231,
                      0.6007237968246737,
                      0.6155403777112586,
                      0.47576890067487904,
                      0.49567149616394496,
                      0.46247617286841886,
                      0.3312335082708313,
                      0.5051852419335104,
                      0.8591368836662083,
                      0.48721831901845547,
                      0.30162728604971645,
                      0.13637419978140564,
                      1.1102230246251565e-16,
                      0.5879118570834183,
                      0.7734766013983276,
                      0.3578925353991854,
                      0.24679057782436659,
                      0.09219395502102179,
                      0.050546437746600226,
                      0.18852130739404938,
                      0.3621044248201387,
                      0.3607063493642019,
                      0.24559731937856238,
                      0.3805410607282873,
                      0.3932069240483619
                    ],
                    [
                      0.5512938379365727,
                      0.5031200534243861,
                      0.5327387183217703,
                      0.5051533965351602,
                      0.4360551466679738,
                      0.5631589676669851,
                      0.3962004465533999,
                      0.4532687563165403,
                      0.5305876596957303,
                      0.5776153388870454,
                      0.5997349948119135,
                      0.45792333210704916,
                      0.16289613642229717,
                      0.7884370175009658,
                      0.6853970047173764,
                      0.6408105336871724,
                      0.4927673146991744,
                      0.20101536429720085,
                      0.8367219075012045,
                      0.8394515075536026,
                      0.7829365043396748,
                      0.41293580366797555,
                      0.16965491300816665,
                      0.33043766747309766,
                      0.1868736930564761,
                      0.9066053371471636,
                      0.8793926453550358,
                      0.5879118570834183,
                      0,
                      0.13532487285343403,
                      0.8742512919587022,
                      0.6620726294191273,
                      0.6841746425791309,
                      0.6195299771316949,
                      0.31548473586401465,
                      0.40032680091066786,
                      0.4000187464842371,
                      0.3855938547546617,
                      0.26933858409145406,
                      0.28257802320332814
                    ],
                    [
                      0.42307338511582226,
                      0.4004776119926868,
                      0.3857368195710109,
                      0.39536956935809675,
                      0.5323103713623621,
                      0.635257691095396,
                      0.4850042901541095,
                      0.36071288884386293,
                      0.40445251149860534,
                      0.6122202206012867,
                      0.6661383269673244,
                      0.5493327785344265,
                      0.13702470505569048,
                      0.7055123180802,
                      0.6953135092965609,
                      0.6727678079343979,
                      0.6131941200189553,
                      0.17961544805503782,
                      0.7434321489338034,
                      0.8228216377483057,
                      0.8458217383071961,
                      0.6615454528697291,
                      0.1698156157102188,
                      0.12486262194279857,
                      0.2524630284081876,
                      0.8952959046314699,
                      0.9393750248582902,
                      0.7734766013983276,
                      0.13532487285343409,
                      0,
                      0.7882655713847907,
                      0.662270933934446,
                      0.7472824711574041,
                      0.7222218931873204,
                      0.39520133418829906,
                      0.4043327493578204,
                      0.4037950050478477,
                      0.4562575765107249,
                      0.34871860151920586,
                      0.34812181320784025
                    ],
                    [
                      0.43699334102919485,
                      0.4226646774925686,
                      0.45593888040870834,
                      0.6922193982905653,
                      0.6465734688580616,
                      0.6117811610216517,
                      0.7176467335852116,
                      0.7095120436993817,
                      0.6471132234600209,
                      0.6504080771887631,
                      0.6345808530619944,
                      0.7166138144245847,
                      0.865055937365375,
                      0.22783421500960788,
                      0.5809309290492308,
                      0.6275026661917728,
                      0.7202060086441504,
                      0.7071783194595666,
                      0.042957540720972076,
                      0.37759951785774637,
                      0.4611598509435475,
                      0.7145086390424813,
                      0.6115245883821632,
                      0.5637114452035807,
                      0.5353296850946183,
                      0.04449513333407035,
                      0.1305437241169951,
                      0.3578925353991854,
                      0.8742512919587022,
                      0.7882655713847907,
                      0,
                      0.09030144863571599,
                      0.16988998470231248,
                      0.3245040831948548,
                      0.5830463837719441,
                      0.2784200555311842,
                      0.2807101844057255,
                      0.348595993947893,
                      0.6745573107648956,
                      0.6888036692417622
                    ],
                    [
                      0.4613144674999533,
                      0.4304849510387414,
                      0.4436616618847864,
                      0.7797861424449899,
                      0.6759048589448855,
                      0.7247004741226779,
                      0.7501968674549864,
                      0.7353426158564447,
                      0.7577447077399069,
                      0.821433404180874,
                      0.7990748916067354,
                      0.8159425439271544,
                      0.7594935844240905,
                      0.42192190090707415,
                      0.7996578353960632,
                      0.8439632776336224,
                      0.8263788020183577,
                      0.5849687634349643,
                      0.14232202116167347,
                      0.6262597114358641,
                      0.6835107057783708,
                      0.7198379040166047,
                      0.4160110715312525,
                      0.5635104924816701,
                      0.3533505722626006,
                      0.16477305375863044,
                      0.19706027749622762,
                      0.24679057782436664,
                      0.6620726294191273,
                      0.662270933934446,
                      0.09030144863571599,
                      0,
                      0.06950251113970296,
                      0.2092873431907898,
                      0.3987089121655388,
                      0.08152494511281932,
                      0.0806019921216436,
                      0.11684720095422962,
                      0.5101804367882762,
                      0.5328174725622735
                    ],
                    [
                      0.47814852138931513,
                      0.532176038059101,
                      0.4956030071376462,
                      0.7336161660969283,
                      0.6385906627655065,
                      0.6566622135515359,
                      0.7284263038536292,
                      0.6438749675656283,
                      0.7537924574057984,
                      0.7887623434433508,
                      0.7283122602466554,
                      0.7885879782733338,
                      0.8095524288690052,
                      0.5142914653132772,
                      0.7479485566963531,
                      0.7752119050472396,
                      0.7543777972906481,
                      0.6810896797070847,
                      0.27171567613402964,
                      0.5729834174434647,
                      0.5884528847493016,
                      0.600494579774198,
                      0.5258833847339586,
                      0.7376653077233806,
                      0.4586614939750922,
                      0.1945284424797069,
                      0.1049397487666433,
                      0.09219395502102179,
                      0.6841746425791309,
                      0.7472824711574041,
                      0.16988998470231254,
                      0.0695025111397029,
                      5.551115123125783e-17,
                      0.04724474391509892,
                      0.3167538713543301,
                      0.19283481393686924,
                      0.18925815049292583,
                      0.13262354567789048,
                      0.3769128820593335,
                      0.39041681752360174
                    ],
                    [
                      0.47026452697803617,
                      0.5916270328241248,
                      0.5270824266028133,
                      0.6803619426264929,
                      0.6001375288846474,
                      0.6104450885059624,
                      0.6753625250100715,
                      0.5473817545201123,
                      0.7298295148767213,
                      0.7509577576622453,
                      0.6725334403136991,
                      0.7247008995991031,
                      0.7378168773846188,
                      0.6104566290287425,
                      0.7164525760565554,
                      0.7147355281173347,
                      0.668854245802328,
                      0.6524792267226082,
                      0.44967043349282454,
                      0.5827199487103828,
                      0.5509900011228998,
                      0.4948730015467458,
                      0.5482927753754735,
                      0.812721257656638,
                      0.5252532589916287,
                      0.32843309944527854,
                      0.14963540324391733,
                      0.050546437746600226,
                      0.6195299771316949,
                      0.7222218931873203,
                      0.3245040831948548,
                      0.2092873431907898,
                      0.047244743915098864,
                      0,
                      0.23962083364655784,
                      0.3121842091578688,
                      0.3093479932986365,
                      0.17782188340708832,
                      0.25588956440517924,
                      0.260102453255394
                    ],
                    [
                      0.3361972705673929,
                      0.35289037576027216,
                      0.3181873649296065,
                      0.8421984878936192,
                      0.7061384267698595,
                      0.8049222622139871,
                      0.7546161087262626,
                      0.6104375765792351,
                      0.8392297025090871,
                      0.8126579637593192,
                      0.8069683700451248,
                      0.7582978017745379,
                      0.45356471763975037,
                      0.9008730543530507,
                      0.8009334974992202,
                      0.7668960531198166,
                      0.7150313346871323,
                      0.2655564263200943,
                      0.6914669655382852,
                      0.717274377339785,
                      0.7208487046319761,
                      0.41423018503715,
                      0.17823456645028374,
                      0.5839135401074774,
                      0.32185781816533554,
                      0.6173667914357098,
                      0.4890305500045866,
                      0.18852130739404932,
                      0.3154847358640147,
                      0.39520133418829906,
                      0.5830463837719441,
                      0.3987089121655388,
                      0.3167538713543301,
                      0.23962083364655784,
                      5.551115123125783e-17,
                      0.3166423809306133,
                      0.3260585513755653,
                      0.23342709017300806,
                      0.3306517333261755,
                      0.342304012440086
                    ],
                    [
                      0.4687840904858588,
                      0.39946151597285706,
                      0.41428251790661885,
                      0.756512705485211,
                      0.654131793205831,
                      0.7869655359782426,
                      0.71464007260632,
                      0.6617504331976618,
                      0.7294669806277212,
                      0.8804681864896873,
                      0.8934751462406408,
                      0.8213055939871388,
                      0.5457583023452619,
                      0.5540570234662614,
                      0.9247936756925503,
                      0.9585703604135554,
                      0.8702623225397431,
                      0.39602571788858393,
                      0.3107194269470861,
                      0.8409127019993103,
                      0.8942784198979445,
                      0.7662993058224676,
                      0.21186576543408164,
                      0.40736676160517565,
                      0.19286210474566717,
                      0.40457134337453315,
                      0.4479282007759515,
                      0.3621044248201387,
                      0.40032680091066786,
                      0.4043327493578204,
                      0.2784200555311842,
                      0.08152494511281932,
                      0.19283481393686924,
                      0.3121842091578688,
                      0.3166423809306133,
                      0,
                      0.0010996892734099761,
                      0.047486644987871196,
                      0.3928682662209814,
                      0.41933387718360393
                    ],
                    [
                      0.4759325225051372,
                      0.41389094257148706,
                      0.42815267741473395,
                      0.7415932930166145,
                      0.6499014892854529,
                      0.7763471859022923,
                      0.7038956368401439,
                      0.6664188497282832,
                      0.7247051971510581,
                      0.8782148291845859,
                      0.8831282432189986,
                      0.8153956271035899,
                      0.5458372544994221,
                      0.5550846616325531,
                      0.922827499092815,
                      0.9540731892357861,
                      0.8622724950108946,
                      0.4050894576110873,
                      0.30816137246016584,
                      0.8417387787209895,
                      0.8892870384002747,
                      0.7614146883801309,
                      0.21825602732303684,
                      0.4052606486405037,
                      0.1864618872987316,
                      0.4028449259497849,
                      0.4438233333603036,
                      0.3607063493642019,
                      0.4000187464842371,
                      0.4037950050478477,
                      0.2807101844057255,
                      0.0806019921216436,
                      0.18925815049292588,
                      0.3093479932986365,
                      0.3260585513755653,
                      0.0010996892734099761,
                      0,
                      0.04956653226053015,
                      0.3882756893953465,
                      0.41504185872421406
                    ],
                    [
                      0.47879064854870507,
                      0.4664729366478568,
                      0.44657902882044676,
                      0.7498613639588858,
                      0.6277648818335331,
                      0.7666459620861008,
                      0.690106254656869,
                      0.5894157322767465,
                      0.7372664330281011,
                      0.8860114978324914,
                      0.8841453134011661,
                      0.8062694993592817,
                      0.534982664352722,
                      0.6157339024266262,
                      0.9330962886708296,
                      0.9630069813528928,
                      0.8350530649421608,
                      0.42002642668436146,
                      0.4023405132394765,
                      0.8669694446932192,
                      0.8774797594555672,
                      0.6975625849553482,
                      0.2624506823916699,
                      0.5458419674028256,
                      0.277597168750535,
                      0.45683183916368697,
                      0.4054722775104531,
                      0.24559731937856238,
                      0.3855938547546617,
                      0.4562575765107249,
                      0.348595993947893,
                      0.11684720095422962,
                      0.13262354567789042,
                      0.17782188340708832,
                      0.23342709017300806,
                      0.047486644987871196,
                      0.04956653226053026,
                      0,
                      0.26631775942040214,
                      0.28133996483076773
                    ],
                    [
                      0.5424226663683371,
                      0.7065655177236263,
                      0.6787554793440949,
                      0.40433645674354735,
                      0.41180463651351784,
                      0.48491870301384987,
                      0.4251370279570779,
                      0.3020610151426131,
                      0.4838176800651023,
                      0.6546105483373368,
                      0.5945915226511203,
                      0.532116401266815,
                      0.40502420896692665,
                      0.6205405005657063,
                      0.7398389446244062,
                      0.6835195775621554,
                      0.5478472699159387,
                      0.48058328297221137,
                      0.741602241454737,
                      0.8086404392964897,
                      0.7166945507112596,
                      0.5420669911224418,
                      0.4323533831474979,
                      0.5479583987781267,
                      0.39766909245665527,
                      0.746564184646241,
                      0.5817937353680737,
                      0.3805410607282873,
                      0.26933858409145406,
                      0.34871860151920586,
                      0.6745573107648954,
                      0.5101804367882762,
                      0.3769128820593335,
                      0.2558895644051793,
                      0.3306517333261755,
                      0.3928682662209814,
                      0.3882756893953465,
                      0.26631775942040214,
                      0,
                      0.00325315538523141
                    ],
                    [
                      0.5373252629684021,
                      0.7035329725989584,
                      0.6613237919082041,
                      0.37700655520563536,
                      0.4099249302111924,
                      0.4793261396545807,
                      0.41984009967242925,
                      0.2673608412624885,
                      0.4533509417221218,
                      0.6377863259971046,
                      0.5860487256515333,
                      0.5263210663373767,
                      0.3937955222954175,
                      0.6181595616659277,
                      0.7192905474043115,
                      0.6720848668980914,
                      0.541809859168155,
                      0.48980958053178214,
                      0.7489339092574782,
                      0.7975173125222997,
                      0.70868361828821,
                      0.5519191749180951,
                      0.4574844845403304,
                      0.5527391047392463,
                      0.43629620009207815,
                      0.7571607964596012,
                      0.5877825790195708,
                      0.3932069240483619,
                      0.28257802320332814,
                      0.34812181320784025,
                      0.6888036692417622,
                      0.5328174725622735,
                      0.39041681752360174,
                      0.260102453255394,
                      0.342304012440086,
                      0.41933387718360393,
                      0.41504185872421406,
                      0.28133996483076773,
                      0.0032531553852313544,
                      1.1102230246251565e-16
                    ]
                  ]
                }
              ],
              "layout": {
                "plot_bgcolor": "white",
                "template": {
                  "data": {
                    "bar": [
                      {
                        "error_x": {
                          "color": "#2a3f5f"
                        },
                        "error_y": {
                          "color": "#2a3f5f"
                        },
                        "marker": {
                          "line": {
                            "color": "#E5ECF6",
                            "width": 0.5
                          },
                          "pattern": {
                            "fillmode": "overlay",
                            "size": 10,
                            "solidity": 0.2
                          }
                        },
                        "type": "bar"
                      }
                    ],
                    "barpolar": [
                      {
                        "marker": {
                          "line": {
                            "color": "#E5ECF6",
                            "width": 0.5
                          },
                          "pattern": {
                            "fillmode": "overlay",
                            "size": 10,
                            "solidity": 0.2
                          }
                        },
                        "type": "barpolar"
                      }
                    ],
                    "carpet": [
                      {
                        "aaxis": {
                          "endlinecolor": "#2a3f5f",
                          "gridcolor": "white",
                          "linecolor": "white",
                          "minorgridcolor": "white",
                          "startlinecolor": "#2a3f5f"
                        },
                        "baxis": {
                          "endlinecolor": "#2a3f5f",
                          "gridcolor": "white",
                          "linecolor": "white",
                          "minorgridcolor": "white",
                          "startlinecolor": "#2a3f5f"
                        },
                        "type": "carpet"
                      }
                    ],
                    "choropleth": [
                      {
                        "colorbar": {
                          "outlinewidth": 0,
                          "ticks": ""
                        },
                        "type": "choropleth"
                      }
                    ],
                    "contour": [
                      {
                        "colorbar": {
                          "outlinewidth": 0,
                          "ticks": ""
                        },
                        "colorscale": [
                          [
                            0,
                            "#0d0887"
                          ],
                          [
                            0.1111111111111111,
                            "#46039f"
                          ],
                          [
                            0.2222222222222222,
                            "#7201a8"
                          ],
                          [
                            0.3333333333333333,
                            "#9c179e"
                          ],
                          [
                            0.4444444444444444,
                            "#bd3786"
                          ],
                          [
                            0.5555555555555556,
                            "#d8576b"
                          ],
                          [
                            0.6666666666666666,
                            "#ed7953"
                          ],
                          [
                            0.7777777777777778,
                            "#fb9f3a"
                          ],
                          [
                            0.8888888888888888,
                            "#fdca26"
                          ],
                          [
                            1,
                            "#f0f921"
                          ]
                        ],
                        "type": "contour"
                      }
                    ],
                    "contourcarpet": [
                      {
                        "colorbar": {
                          "outlinewidth": 0,
                          "ticks": ""
                        },
                        "type": "contourcarpet"
                      }
                    ],
                    "heatmap": [
                      {
                        "colorbar": {
                          "outlinewidth": 0,
                          "ticks": ""
                        },
                        "colorscale": [
                          [
                            0,
                            "#0d0887"
                          ],
                          [
                            0.1111111111111111,
                            "#46039f"
                          ],
                          [
                            0.2222222222222222,
                            "#7201a8"
                          ],
                          [
                            0.3333333333333333,
                            "#9c179e"
                          ],
                          [
                            0.4444444444444444,
                            "#bd3786"
                          ],
                          [
                            0.5555555555555556,
                            "#d8576b"
                          ],
                          [
                            0.6666666666666666,
                            "#ed7953"
                          ],
                          [
                            0.7777777777777778,
                            "#fb9f3a"
                          ],
                          [
                            0.8888888888888888,
                            "#fdca26"
                          ],
                          [
                            1,
                            "#f0f921"
                          ]
                        ],
                        "type": "heatmap"
                      }
                    ],
                    "heatmapgl": [
                      {
                        "colorbar": {
                          "outlinewidth": 0,
                          "ticks": ""
                        },
                        "colorscale": [
                          [
                            0,
                            "#0d0887"
                          ],
                          [
                            0.1111111111111111,
                            "#46039f"
                          ],
                          [
                            0.2222222222222222,
                            "#7201a8"
                          ],
                          [
                            0.3333333333333333,
                            "#9c179e"
                          ],
                          [
                            0.4444444444444444,
                            "#bd3786"
                          ],
                          [
                            0.5555555555555556,
                            "#d8576b"
                          ],
                          [
                            0.6666666666666666,
                            "#ed7953"
                          ],
                          [
                            0.7777777777777778,
                            "#fb9f3a"
                          ],
                          [
                            0.8888888888888888,
                            "#fdca26"
                          ],
                          [
                            1,
                            "#f0f921"
                          ]
                        ],
                        "type": "heatmapgl"
                      }
                    ],
                    "histogram": [
                      {
                        "marker": {
                          "pattern": {
                            "fillmode": "overlay",
                            "size": 10,
                            "solidity": 0.2
                          }
                        },
                        "type": "histogram"
                      }
                    ],
                    "histogram2d": [
                      {
                        "colorbar": {
                          "outlinewidth": 0,
                          "ticks": ""
                        },
                        "colorscale": [
                          [
                            0,
                            "#0d0887"
                          ],
                          [
                            0.1111111111111111,
                            "#46039f"
                          ],
                          [
                            0.2222222222222222,
                            "#7201a8"
                          ],
                          [
                            0.3333333333333333,
                            "#9c179e"
                          ],
                          [
                            0.4444444444444444,
                            "#bd3786"
                          ],
                          [
                            0.5555555555555556,
                            "#d8576b"
                          ],
                          [
                            0.6666666666666666,
                            "#ed7953"
                          ],
                          [
                            0.7777777777777778,
                            "#fb9f3a"
                          ],
                          [
                            0.8888888888888888,
                            "#fdca26"
                          ],
                          [
                            1,
                            "#f0f921"
                          ]
                        ],
                        "type": "histogram2d"
                      }
                    ],
                    "histogram2dcontour": [
                      {
                        "colorbar": {
                          "outlinewidth": 0,
                          "ticks": ""
                        },
                        "colorscale": [
                          [
                            0,
                            "#0d0887"
                          ],
                          [
                            0.1111111111111111,
                            "#46039f"
                          ],
                          [
                            0.2222222222222222,
                            "#7201a8"
                          ],
                          [
                            0.3333333333333333,
                            "#9c179e"
                          ],
                          [
                            0.4444444444444444,
                            "#bd3786"
                          ],
                          [
                            0.5555555555555556,
                            "#d8576b"
                          ],
                          [
                            0.6666666666666666,
                            "#ed7953"
                          ],
                          [
                            0.7777777777777778,
                            "#fb9f3a"
                          ],
                          [
                            0.8888888888888888,
                            "#fdca26"
                          ],
                          [
                            1,
                            "#f0f921"
                          ]
                        ],
                        "type": "histogram2dcontour"
                      }
                    ],
                    "mesh3d": [
                      {
                        "colorbar": {
                          "outlinewidth": 0,
                          "ticks": ""
                        },
                        "type": "mesh3d"
                      }
                    ],
                    "parcoords": [
                      {
                        "line": {
                          "colorbar": {
                            "outlinewidth": 0,
                            "ticks": ""
                          }
                        },
                        "type": "parcoords"
                      }
                    ],
                    "pie": [
                      {
                        "automargin": true,
                        "type": "pie"
                      }
                    ],
                    "scatter": [
                      {
                        "fillpattern": {
                          "fillmode": "overlay",
                          "size": 10,
                          "solidity": 0.2
                        },
                        "type": "scatter"
                      }
                    ],
                    "scatter3d": [
                      {
                        "line": {
                          "colorbar": {
                            "outlinewidth": 0,
                            "ticks": ""
                          }
                        },
                        "marker": {
                          "colorbar": {
                            "outlinewidth": 0,
                            "ticks": ""
                          }
                        },
                        "type": "scatter3d"
                      }
                    ],
                    "scattercarpet": [
                      {
                        "marker": {
                          "colorbar": {
                            "outlinewidth": 0,
                            "ticks": ""
                          }
                        },
                        "type": "scattercarpet"
                      }
                    ],
                    "scattergeo": [
                      {
                        "marker": {
                          "colorbar": {
                            "outlinewidth": 0,
                            "ticks": ""
                          }
                        },
                        "type": "scattergeo"
                      }
                    ],
                    "scattergl": [
                      {
                        "marker": {
                          "colorbar": {
                            "outlinewidth": 0,
                            "ticks": ""
                          }
                        },
                        "type": "scattergl"
                      }
                    ],
                    "scattermapbox": [
                      {
                        "marker": {
                          "colorbar": {
                            "outlinewidth": 0,
                            "ticks": ""
                          }
                        },
                        "type": "scattermapbox"
                      }
                    ],
                    "scatterpolar": [
                      {
                        "marker": {
                          "colorbar": {
                            "outlinewidth": 0,
                            "ticks": ""
                          }
                        },
                        "type": "scatterpolar"
                      }
                    ],
                    "scatterpolargl": [
                      {
                        "marker": {
                          "colorbar": {
                            "outlinewidth": 0,
                            "ticks": ""
                          }
                        },
                        "type": "scatterpolargl"
                      }
                    ],
                    "scatterternary": [
                      {
                        "marker": {
                          "colorbar": {
                            "outlinewidth": 0,
                            "ticks": ""
                          }
                        },
                        "type": "scatterternary"
                      }
                    ],
                    "surface": [
                      {
                        "colorbar": {
                          "outlinewidth": 0,
                          "ticks": ""
                        },
                        "colorscale": [
                          [
                            0,
                            "#0d0887"
                          ],
                          [
                            0.1111111111111111,
                            "#46039f"
                          ],
                          [
                            0.2222222222222222,
                            "#7201a8"
                          ],
                          [
                            0.3333333333333333,
                            "#9c179e"
                          ],
                          [
                            0.4444444444444444,
                            "#bd3786"
                          ],
                          [
                            0.5555555555555556,
                            "#d8576b"
                          ],
                          [
                            0.6666666666666666,
                            "#ed7953"
                          ],
                          [
                            0.7777777777777778,
                            "#fb9f3a"
                          ],
                          [
                            0.8888888888888888,
                            "#fdca26"
                          ],
                          [
                            1,
                            "#f0f921"
                          ]
                        ],
                        "type": "surface"
                      }
                    ],
                    "table": [
                      {
                        "cells": {
                          "fill": {
                            "color": "#EBF0F8"
                          },
                          "line": {
                            "color": "white"
                          }
                        },
                        "header": {
                          "fill": {
                            "color": "#C8D4E3"
                          },
                          "line": {
                            "color": "white"
                          }
                        },
                        "type": "table"
                      }
                    ]
                  },
                  "layout": {
                    "annotationdefaults": {
                      "arrowcolor": "#2a3f5f",
                      "arrowhead": 0,
                      "arrowwidth": 1
                    },
                    "autotypenumbers": "strict",
                    "coloraxis": {
                      "colorbar": {
                        "outlinewidth": 0,
                        "ticks": ""
                      }
                    },
                    "colorscale": {
                      "diverging": [
                        [
                          0,
                          "#8e0152"
                        ],
                        [
                          0.1,
                          "#c51b7d"
                        ],
                        [
                          0.2,
                          "#de77ae"
                        ],
                        [
                          0.3,
                          "#f1b6da"
                        ],
                        [
                          0.4,
                          "#fde0ef"
                        ],
                        [
                          0.5,
                          "#f7f7f7"
                        ],
                        [
                          0.6,
                          "#e6f5d0"
                        ],
                        [
                          0.7,
                          "#b8e186"
                        ],
                        [
                          0.8,
                          "#7fbc41"
                        ],
                        [
                          0.9,
                          "#4d9221"
                        ],
                        [
                          1,
                          "#276419"
                        ]
                      ],
                      "sequential": [
                        [
                          0,
                          "#0d0887"
                        ],
                        [
                          0.1111111111111111,
                          "#46039f"
                        ],
                        [
                          0.2222222222222222,
                          "#7201a8"
                        ],
                        [
                          0.3333333333333333,
                          "#9c179e"
                        ],
                        [
                          0.4444444444444444,
                          "#bd3786"
                        ],
                        [
                          0.5555555555555556,
                          "#d8576b"
                        ],
                        [
                          0.6666666666666666,
                          "#ed7953"
                        ],
                        [
                          0.7777777777777778,
                          "#fb9f3a"
                        ],
                        [
                          0.8888888888888888,
                          "#fdca26"
                        ],
                        [
                          1,
                          "#f0f921"
                        ]
                      ],
                      "sequentialminus": [
                        [
                          0,
                          "#0d0887"
                        ],
                        [
                          0.1111111111111111,
                          "#46039f"
                        ],
                        [
                          0.2222222222222222,
                          "#7201a8"
                        ],
                        [
                          0.3333333333333333,
                          "#9c179e"
                        ],
                        [
                          0.4444444444444444,
                          "#bd3786"
                        ],
                        [
                          0.5555555555555556,
                          "#d8576b"
                        ],
                        [
                          0.6666666666666666,
                          "#ed7953"
                        ],
                        [
                          0.7777777777777778,
                          "#fb9f3a"
                        ],
                        [
                          0.8888888888888888,
                          "#fdca26"
                        ],
                        [
                          1,
                          "#f0f921"
                        ]
                      ]
                    },
                    "colorway": [
                      "#636efa",
                      "#EF553B",
                      "#00cc96",
                      "#ab63fa",
                      "#FFA15A",
                      "#19d3f3",
                      "#FF6692",
                      "#B6E880",
                      "#FF97FF",
                      "#FECB52"
                    ],
                    "font": {
                      "color": "#2a3f5f"
                    },
                    "geo": {
                      "bgcolor": "white",
                      "lakecolor": "white",
                      "landcolor": "#E5ECF6",
                      "showlakes": true,
                      "showland": true,
                      "subunitcolor": "white"
                    },
                    "hoverlabel": {
                      "align": "left"
                    },
                    "hovermode": "closest",
                    "mapbox": {
                      "style": "light"
                    },
                    "paper_bgcolor": "white",
                    "plot_bgcolor": "#E5ECF6",
                    "polar": {
                      "angularaxis": {
                        "gridcolor": "white",
                        "linecolor": "white",
                        "ticks": ""
                      },
                      "bgcolor": "#E5ECF6",
                      "radialaxis": {
                        "gridcolor": "white",
                        "linecolor": "white",
                        "ticks": ""
                      }
                    },
                    "scene": {
                      "xaxis": {
                        "backgroundcolor": "#E5ECF6",
                        "gridcolor": "white",
                        "gridwidth": 2,
                        "linecolor": "white",
                        "showbackground": true,
                        "ticks": "",
                        "zerolinecolor": "white"
                      },
                      "yaxis": {
                        "backgroundcolor": "#E5ECF6",
                        "gridcolor": "white",
                        "gridwidth": 2,
                        "linecolor": "white",
                        "showbackground": true,
                        "ticks": "",
                        "zerolinecolor": "white"
                      },
                      "zaxis": {
                        "backgroundcolor": "#E5ECF6",
                        "gridcolor": "white",
                        "gridwidth": 2,
                        "linecolor": "white",
                        "showbackground": true,
                        "ticks": "",
                        "zerolinecolor": "white"
                      }
                    },
                    "shapedefaults": {
                      "line": {
                        "color": "#2a3f5f"
                      }
                    },
                    "ternary": {
                      "aaxis": {
                        "gridcolor": "white",
                        "linecolor": "white",
                        "ticks": ""
                      },
                      "baxis": {
                        "gridcolor": "white",
                        "linecolor": "white",
                        "ticks": ""
                      },
                      "bgcolor": "#E5ECF6",
                      "caxis": {
                        "gridcolor": "white",
                        "linecolor": "white",
                        "ticks": ""
                      }
                    },
                    "title": {
                      "x": 0.05
                    },
                    "xaxis": {
                      "automargin": true,
                      "gridcolor": "white",
                      "linecolor": "white",
                      "ticks": "",
                      "title": {
                        "standoff": 15
                      },
                      "zerolinecolor": "white",
                      "zerolinewidth": 2
                    },
                    "yaxis": {
                      "automargin": true,
                      "gridcolor": "white",
                      "linecolor": "white",
                      "ticks": "",
                      "title": {
                        "standoff": 15
                      },
                      "zerolinecolor": "white",
                      "zerolinewidth": 2
                    }
                  }
                },
                "xaxis": {
                  "constrain": "domain",
                  "scaleanchor": "y"
                },
                "yaxis": {
                  "autorange": "reversed",
                  "constrain": "domain"
                }
              }
            }
          },
          "metadata": {},
          "output_type": "display_data"
        }
      ],
      "source": [
        "dissim_matrix_plot = gtda.plotting.plot_heatmap(dissim_matrixes[print_obj], colorscale = None, plotly_params = { 'autocolorscale': True })\n",
        "display(dissim_matrix_plot)\n",
        "dissim_matrix_plot.write_image(file = f\"{subj}/{exp}/dissim_matrix.svg\", format = \"svg\")"
      ]
    },
    {
      "cell_type": "markdown",
      "metadata": {},
      "source": [
        "#### VietorisRipsPersistence"
      ]
    },
    {
      "cell_type": "code",
      "execution_count": null,
      "metadata": {},
      "outputs": [
        {
          "name": "stdout",
          "output_type": "stream",
          "text": [
            "(28320, 70, 3)\n"
          ]
        }
      ],
      "source": [
        "dissim_persistence = gtda.homology.VietorisRipsPersistence(metric = \"precomputed\", homology_dimensions = DISSIM_HOMOLOGY_DIMENSIONS, n_jobs = -1)\n",
        "dissim_diagrams = dissim_persistence.fit_transform(dissim_matrixes)\n",
        "numpy.save(f\"{subj}/{exp}/dissim_diagrams.npy\", dissim_diagrams)\n",
        "print(dissim_diagrams.shape)"
      ]
    },
    {
      "cell_type": "code",
      "execution_count": null,
      "metadata": {},
      "outputs": [
        {
          "data": {
            "application/vnd.plotly.v1+json": {
              "config": {
                "plotlyServerURL": "https://plot.ly"
              },
              "data": [
                {
                  "hoverinfo": "none",
                  "line": {
                    "color": "black",
                    "dash": "dash",
                    "width": 1
                  },
                  "mode": "lines",
                  "showlegend": false,
                  "type": "scatter",
                  "x": [
                    0.025494496077299117,
                    0.7158345256745815
                  ],
                  "y": [
                    0.025494496077299117,
                    0.7158345256745815
                  ]
                },
                {
                  "hoverinfo": "text",
                  "hovertext": [
                    "(0.33123350143432617, 0.41423019766807556)",
                    "(0.3181873559951782, 0.35289037227630615)",
                    "(0.3006131649017334, 0.3344234824180603)",
                    "(0.26933857798576355, 0.33065173029899597)",
                    "(0.2673608362674713, 0.3802259564399719)",
                    "(0.2526546120643616, 0.45663490891456604)",
                    "(0.23342709243297577, 0.23962083458900452)",
                    "(0.22457115352153778, 0.25246304273605347)",
                    "(0.18852131068706512, 0.2624506950378418)",
                    "(0.16965490579605103, 0.17961545288562775)",
                    "(0.10493975132703781, 0.16988998651504517)",
                    "(0.051306989043951035, 0.054729245603084564)",
                    "(0.03877026587724686, 0.061174824833869934)"
                  ],
                  "mode": "markers",
                  "name": "H1",
                  "type": "scatter",
                  "x": [
                    0.33123350143432617,
                    0.3181873559951782,
                    0.3006131649017334,
                    0.26933857798576355,
                    0.2673608362674713,
                    0.2526546120643616,
                    0.23342709243297577,
                    0.22457115352153778,
                    0.18852131068706512,
                    0.16965490579605103,
                    0.10493975132703781,
                    0.051306989043951035,
                    0.03877026587724686
                  ],
                  "y": [
                    0.41423019766807556,
                    0.35289037227630615,
                    0.3344234824180603,
                    0.33065173029899597,
                    0.3802259564399719,
                    0.45663490891456604,
                    0.23962083458900452,
                    0.25246304273605347,
                    0.2624506950378418,
                    0.17961545288562775,
                    0.16988998651504517,
                    0.054729245603084564,
                    0.061174824833869934
                  ]
                },
                {
                  "hoverinfo": "text",
                  "hovertext": [
                    "(0.5509899854660034, 0.5827199220657349)",
                    "(0.5473817586898804, 0.5894157290458679)",
                    "(0.5072992444038391, 0.6001375317573547)",
                    "(0.4851361811161041, 0.6157339215278625)"
                  ],
                  "mode": "markers",
                  "name": "H2",
                  "type": "scatter",
                  "x": [
                    0.5509899854660034,
                    0.5473817586898804,
                    0.5072992444038391,
                    0.4851361811161041
                  ],
                  "y": [
                    0.5827199220657349,
                    0.5894157290458679,
                    0.6001375317573547,
                    0.6157339215278625
                  ]
                },
                {
                  "hoverinfo": "text",
                  "hovertext": [
                    "(0.6635744571685791, 0.6753625273704529)",
                    "(0.6443555355072021, 0.6488358974456787)",
                    "(0.638115644454956, 0.6759159564971924)",
                    "(0.6364355087280273, 0.6448685526847839)"
                  ],
                  "mode": "markers",
                  "name": "H3",
                  "type": "scatter",
                  "x": [
                    0.6635744571685791,
                    0.6443555355072021,
                    0.638115644454956,
                    0.6364355087280273
                  ],
                  "y": [
                    0.6753625273704529,
                    0.6488358974456787,
                    0.6759159564971924,
                    0.6448685526847839
                  ]
                },
                {
                  "hoverinfo": "text",
                  "hovertext": [
                    "(0.6838712096214294, 0.7025587558746338)",
                    "(0.6838712096214294, 0.691340446472168)",
                    "(0.681412935256958, 0.6835196018218994)"
                  ],
                  "mode": "markers",
                  "name": "H4",
                  "type": "scatter",
                  "x": [
                    0.6838712096214294,
                    0.6838712096214294,
                    0.681412935256958
                  ],
                  "y": [
                    0.7025587558746338,
                    0.691340446472168,
                    0.6835196018218994
                  ]
                },
                {
                  "hoverinfo": "text",
                  "hovertext": [],
                  "mode": "markers",
                  "name": "H5",
                  "type": "scatter",
                  "x": [],
                  "y": []
                }
              ],
              "layout": {
                "height": 500,
                "plot_bgcolor": "white",
                "template": {
                  "data": {
                    "bar": [
                      {
                        "error_x": {
                          "color": "#2a3f5f"
                        },
                        "error_y": {
                          "color": "#2a3f5f"
                        },
                        "marker": {
                          "line": {
                            "color": "#E5ECF6",
                            "width": 0.5
                          },
                          "pattern": {
                            "fillmode": "overlay",
                            "size": 10,
                            "solidity": 0.2
                          }
                        },
                        "type": "bar"
                      }
                    ],
                    "barpolar": [
                      {
                        "marker": {
                          "line": {
                            "color": "#E5ECF6",
                            "width": 0.5
                          },
                          "pattern": {
                            "fillmode": "overlay",
                            "size": 10,
                            "solidity": 0.2
                          }
                        },
                        "type": "barpolar"
                      }
                    ],
                    "carpet": [
                      {
                        "aaxis": {
                          "endlinecolor": "#2a3f5f",
                          "gridcolor": "white",
                          "linecolor": "white",
                          "minorgridcolor": "white",
                          "startlinecolor": "#2a3f5f"
                        },
                        "baxis": {
                          "endlinecolor": "#2a3f5f",
                          "gridcolor": "white",
                          "linecolor": "white",
                          "minorgridcolor": "white",
                          "startlinecolor": "#2a3f5f"
                        },
                        "type": "carpet"
                      }
                    ],
                    "choropleth": [
                      {
                        "colorbar": {
                          "outlinewidth": 0,
                          "ticks": ""
                        },
                        "type": "choropleth"
                      }
                    ],
                    "contour": [
                      {
                        "colorbar": {
                          "outlinewidth": 0,
                          "ticks": ""
                        },
                        "colorscale": [
                          [
                            0,
                            "#0d0887"
                          ],
                          [
                            0.1111111111111111,
                            "#46039f"
                          ],
                          [
                            0.2222222222222222,
                            "#7201a8"
                          ],
                          [
                            0.3333333333333333,
                            "#9c179e"
                          ],
                          [
                            0.4444444444444444,
                            "#bd3786"
                          ],
                          [
                            0.5555555555555556,
                            "#d8576b"
                          ],
                          [
                            0.6666666666666666,
                            "#ed7953"
                          ],
                          [
                            0.7777777777777778,
                            "#fb9f3a"
                          ],
                          [
                            0.8888888888888888,
                            "#fdca26"
                          ],
                          [
                            1,
                            "#f0f921"
                          ]
                        ],
                        "type": "contour"
                      }
                    ],
                    "contourcarpet": [
                      {
                        "colorbar": {
                          "outlinewidth": 0,
                          "ticks": ""
                        },
                        "type": "contourcarpet"
                      }
                    ],
                    "heatmap": [
                      {
                        "colorbar": {
                          "outlinewidth": 0,
                          "ticks": ""
                        },
                        "colorscale": [
                          [
                            0,
                            "#0d0887"
                          ],
                          [
                            0.1111111111111111,
                            "#46039f"
                          ],
                          [
                            0.2222222222222222,
                            "#7201a8"
                          ],
                          [
                            0.3333333333333333,
                            "#9c179e"
                          ],
                          [
                            0.4444444444444444,
                            "#bd3786"
                          ],
                          [
                            0.5555555555555556,
                            "#d8576b"
                          ],
                          [
                            0.6666666666666666,
                            "#ed7953"
                          ],
                          [
                            0.7777777777777778,
                            "#fb9f3a"
                          ],
                          [
                            0.8888888888888888,
                            "#fdca26"
                          ],
                          [
                            1,
                            "#f0f921"
                          ]
                        ],
                        "type": "heatmap"
                      }
                    ],
                    "heatmapgl": [
                      {
                        "colorbar": {
                          "outlinewidth": 0,
                          "ticks": ""
                        },
                        "colorscale": [
                          [
                            0,
                            "#0d0887"
                          ],
                          [
                            0.1111111111111111,
                            "#46039f"
                          ],
                          [
                            0.2222222222222222,
                            "#7201a8"
                          ],
                          [
                            0.3333333333333333,
                            "#9c179e"
                          ],
                          [
                            0.4444444444444444,
                            "#bd3786"
                          ],
                          [
                            0.5555555555555556,
                            "#d8576b"
                          ],
                          [
                            0.6666666666666666,
                            "#ed7953"
                          ],
                          [
                            0.7777777777777778,
                            "#fb9f3a"
                          ],
                          [
                            0.8888888888888888,
                            "#fdca26"
                          ],
                          [
                            1,
                            "#f0f921"
                          ]
                        ],
                        "type": "heatmapgl"
                      }
                    ],
                    "histogram": [
                      {
                        "marker": {
                          "pattern": {
                            "fillmode": "overlay",
                            "size": 10,
                            "solidity": 0.2
                          }
                        },
                        "type": "histogram"
                      }
                    ],
                    "histogram2d": [
                      {
                        "colorbar": {
                          "outlinewidth": 0,
                          "ticks": ""
                        },
                        "colorscale": [
                          [
                            0,
                            "#0d0887"
                          ],
                          [
                            0.1111111111111111,
                            "#46039f"
                          ],
                          [
                            0.2222222222222222,
                            "#7201a8"
                          ],
                          [
                            0.3333333333333333,
                            "#9c179e"
                          ],
                          [
                            0.4444444444444444,
                            "#bd3786"
                          ],
                          [
                            0.5555555555555556,
                            "#d8576b"
                          ],
                          [
                            0.6666666666666666,
                            "#ed7953"
                          ],
                          [
                            0.7777777777777778,
                            "#fb9f3a"
                          ],
                          [
                            0.8888888888888888,
                            "#fdca26"
                          ],
                          [
                            1,
                            "#f0f921"
                          ]
                        ],
                        "type": "histogram2d"
                      }
                    ],
                    "histogram2dcontour": [
                      {
                        "colorbar": {
                          "outlinewidth": 0,
                          "ticks": ""
                        },
                        "colorscale": [
                          [
                            0,
                            "#0d0887"
                          ],
                          [
                            0.1111111111111111,
                            "#46039f"
                          ],
                          [
                            0.2222222222222222,
                            "#7201a8"
                          ],
                          [
                            0.3333333333333333,
                            "#9c179e"
                          ],
                          [
                            0.4444444444444444,
                            "#bd3786"
                          ],
                          [
                            0.5555555555555556,
                            "#d8576b"
                          ],
                          [
                            0.6666666666666666,
                            "#ed7953"
                          ],
                          [
                            0.7777777777777778,
                            "#fb9f3a"
                          ],
                          [
                            0.8888888888888888,
                            "#fdca26"
                          ],
                          [
                            1,
                            "#f0f921"
                          ]
                        ],
                        "type": "histogram2dcontour"
                      }
                    ],
                    "mesh3d": [
                      {
                        "colorbar": {
                          "outlinewidth": 0,
                          "ticks": ""
                        },
                        "type": "mesh3d"
                      }
                    ],
                    "parcoords": [
                      {
                        "line": {
                          "colorbar": {
                            "outlinewidth": 0,
                            "ticks": ""
                          }
                        },
                        "type": "parcoords"
                      }
                    ],
                    "pie": [
                      {
                        "automargin": true,
                        "type": "pie"
                      }
                    ],
                    "scatter": [
                      {
                        "fillpattern": {
                          "fillmode": "overlay",
                          "size": 10,
                          "solidity": 0.2
                        },
                        "type": "scatter"
                      }
                    ],
                    "scatter3d": [
                      {
                        "line": {
                          "colorbar": {
                            "outlinewidth": 0,
                            "ticks": ""
                          }
                        },
                        "marker": {
                          "colorbar": {
                            "outlinewidth": 0,
                            "ticks": ""
                          }
                        },
                        "type": "scatter3d"
                      }
                    ],
                    "scattercarpet": [
                      {
                        "marker": {
                          "colorbar": {
                            "outlinewidth": 0,
                            "ticks": ""
                          }
                        },
                        "type": "scattercarpet"
                      }
                    ],
                    "scattergeo": [
                      {
                        "marker": {
                          "colorbar": {
                            "outlinewidth": 0,
                            "ticks": ""
                          }
                        },
                        "type": "scattergeo"
                      }
                    ],
                    "scattergl": [
                      {
                        "marker": {
                          "colorbar": {
                            "outlinewidth": 0,
                            "ticks": ""
                          }
                        },
                        "type": "scattergl"
                      }
                    ],
                    "scattermapbox": [
                      {
                        "marker": {
                          "colorbar": {
                            "outlinewidth": 0,
                            "ticks": ""
                          }
                        },
                        "type": "scattermapbox"
                      }
                    ],
                    "scatterpolar": [
                      {
                        "marker": {
                          "colorbar": {
                            "outlinewidth": 0,
                            "ticks": ""
                          }
                        },
                        "type": "scatterpolar"
                      }
                    ],
                    "scatterpolargl": [
                      {
                        "marker": {
                          "colorbar": {
                            "outlinewidth": 0,
                            "ticks": ""
                          }
                        },
                        "type": "scatterpolargl"
                      }
                    ],
                    "scatterternary": [
                      {
                        "marker": {
                          "colorbar": {
                            "outlinewidth": 0,
                            "ticks": ""
                          }
                        },
                        "type": "scatterternary"
                      }
                    ],
                    "surface": [
                      {
                        "colorbar": {
                          "outlinewidth": 0,
                          "ticks": ""
                        },
                        "colorscale": [
                          [
                            0,
                            "#0d0887"
                          ],
                          [
                            0.1111111111111111,
                            "#46039f"
                          ],
                          [
                            0.2222222222222222,
                            "#7201a8"
                          ],
                          [
                            0.3333333333333333,
                            "#9c179e"
                          ],
                          [
                            0.4444444444444444,
                            "#bd3786"
                          ],
                          [
                            0.5555555555555556,
                            "#d8576b"
                          ],
                          [
                            0.6666666666666666,
                            "#ed7953"
                          ],
                          [
                            0.7777777777777778,
                            "#fb9f3a"
                          ],
                          [
                            0.8888888888888888,
                            "#fdca26"
                          ],
                          [
                            1,
                            "#f0f921"
                          ]
                        ],
                        "type": "surface"
                      }
                    ],
                    "table": [
                      {
                        "cells": {
                          "fill": {
                            "color": "#EBF0F8"
                          },
                          "line": {
                            "color": "white"
                          }
                        },
                        "header": {
                          "fill": {
                            "color": "#C8D4E3"
                          },
                          "line": {
                            "color": "white"
                          }
                        },
                        "type": "table"
                      }
                    ]
                  },
                  "layout": {
                    "annotationdefaults": {
                      "arrowcolor": "#2a3f5f",
                      "arrowhead": 0,
                      "arrowwidth": 1
                    },
                    "autotypenumbers": "strict",
                    "coloraxis": {
                      "colorbar": {
                        "outlinewidth": 0,
                        "ticks": ""
                      }
                    },
                    "colorscale": {
                      "diverging": [
                        [
                          0,
                          "#8e0152"
                        ],
                        [
                          0.1,
                          "#c51b7d"
                        ],
                        [
                          0.2,
                          "#de77ae"
                        ],
                        [
                          0.3,
                          "#f1b6da"
                        ],
                        [
                          0.4,
                          "#fde0ef"
                        ],
                        [
                          0.5,
                          "#f7f7f7"
                        ],
                        [
                          0.6,
                          "#e6f5d0"
                        ],
                        [
                          0.7,
                          "#b8e186"
                        ],
                        [
                          0.8,
                          "#7fbc41"
                        ],
                        [
                          0.9,
                          "#4d9221"
                        ],
                        [
                          1,
                          "#276419"
                        ]
                      ],
                      "sequential": [
                        [
                          0,
                          "#0d0887"
                        ],
                        [
                          0.1111111111111111,
                          "#46039f"
                        ],
                        [
                          0.2222222222222222,
                          "#7201a8"
                        ],
                        [
                          0.3333333333333333,
                          "#9c179e"
                        ],
                        [
                          0.4444444444444444,
                          "#bd3786"
                        ],
                        [
                          0.5555555555555556,
                          "#d8576b"
                        ],
                        [
                          0.6666666666666666,
                          "#ed7953"
                        ],
                        [
                          0.7777777777777778,
                          "#fb9f3a"
                        ],
                        [
                          0.8888888888888888,
                          "#fdca26"
                        ],
                        [
                          1,
                          "#f0f921"
                        ]
                      ],
                      "sequentialminus": [
                        [
                          0,
                          "#0d0887"
                        ],
                        [
                          0.1111111111111111,
                          "#46039f"
                        ],
                        [
                          0.2222222222222222,
                          "#7201a8"
                        ],
                        [
                          0.3333333333333333,
                          "#9c179e"
                        ],
                        [
                          0.4444444444444444,
                          "#bd3786"
                        ],
                        [
                          0.5555555555555556,
                          "#d8576b"
                        ],
                        [
                          0.6666666666666666,
                          "#ed7953"
                        ],
                        [
                          0.7777777777777778,
                          "#fb9f3a"
                        ],
                        [
                          0.8888888888888888,
                          "#fdca26"
                        ],
                        [
                          1,
                          "#f0f921"
                        ]
                      ]
                    },
                    "colorway": [
                      "#636efa",
                      "#EF553B",
                      "#00cc96",
                      "#ab63fa",
                      "#FFA15A",
                      "#19d3f3",
                      "#FF6692",
                      "#B6E880",
                      "#FF97FF",
                      "#FECB52"
                    ],
                    "font": {
                      "color": "#2a3f5f"
                    },
                    "geo": {
                      "bgcolor": "white",
                      "lakecolor": "white",
                      "landcolor": "#E5ECF6",
                      "showlakes": true,
                      "showland": true,
                      "subunitcolor": "white"
                    },
                    "hoverlabel": {
                      "align": "left"
                    },
                    "hovermode": "closest",
                    "mapbox": {
                      "style": "light"
                    },
                    "paper_bgcolor": "white",
                    "plot_bgcolor": "#E5ECF6",
                    "polar": {
                      "angularaxis": {
                        "gridcolor": "white",
                        "linecolor": "white",
                        "ticks": ""
                      },
                      "bgcolor": "#E5ECF6",
                      "radialaxis": {
                        "gridcolor": "white",
                        "linecolor": "white",
                        "ticks": ""
                      }
                    },
                    "scene": {
                      "xaxis": {
                        "backgroundcolor": "#E5ECF6",
                        "gridcolor": "white",
                        "gridwidth": 2,
                        "linecolor": "white",
                        "showbackground": true,
                        "ticks": "",
                        "zerolinecolor": "white"
                      },
                      "yaxis": {
                        "backgroundcolor": "#E5ECF6",
                        "gridcolor": "white",
                        "gridwidth": 2,
                        "linecolor": "white",
                        "showbackground": true,
                        "ticks": "",
                        "zerolinecolor": "white"
                      },
                      "zaxis": {
                        "backgroundcolor": "#E5ECF6",
                        "gridcolor": "white",
                        "gridwidth": 2,
                        "linecolor": "white",
                        "showbackground": true,
                        "ticks": "",
                        "zerolinecolor": "white"
                      }
                    },
                    "shapedefaults": {
                      "line": {
                        "color": "#2a3f5f"
                      }
                    },
                    "ternary": {
                      "aaxis": {
                        "gridcolor": "white",
                        "linecolor": "white",
                        "ticks": ""
                      },
                      "baxis": {
                        "gridcolor": "white",
                        "linecolor": "white",
                        "ticks": ""
                      },
                      "bgcolor": "#E5ECF6",
                      "caxis": {
                        "gridcolor": "white",
                        "linecolor": "white",
                        "ticks": ""
                      }
                    },
                    "title": {
                      "x": 0.05
                    },
                    "xaxis": {
                      "automargin": true,
                      "gridcolor": "white",
                      "linecolor": "white",
                      "ticks": "",
                      "title": {
                        "standoff": 15
                      },
                      "zerolinecolor": "white",
                      "zerolinewidth": 2
                    },
                    "yaxis": {
                      "automargin": true,
                      "gridcolor": "white",
                      "linecolor": "white",
                      "ticks": "",
                      "title": {
                        "standoff": 15
                      },
                      "zerolinecolor": "white",
                      "zerolinewidth": 2
                    }
                  }
                },
                "width": 500,
                "xaxis": {
                  "autorange": false,
                  "exponentformat": "e",
                  "linecolor": "black",
                  "linewidth": 1,
                  "mirror": false,
                  "range": [
                    0.025494496077299117,
                    0.7158345256745815
                  ],
                  "showexponent": "all",
                  "showline": true,
                  "side": "bottom",
                  "ticks": "outside",
                  "title": {
                    "text": "Birth"
                  },
                  "type": "linear",
                  "zeroline": true
                },
                "yaxis": {
                  "autorange": false,
                  "exponentformat": "e",
                  "linecolor": "black",
                  "linewidth": 1,
                  "mirror": false,
                  "range": [
                    0.025494496077299117,
                    0.7158345256745815
                  ],
                  "scaleanchor": "x",
                  "scaleratio": 1,
                  "showexponent": "all",
                  "showline": true,
                  "side": "left",
                  "ticks": "outside",
                  "title": {
                    "text": "Death"
                  },
                  "type": "linear",
                  "zeroline": true
                }
              }
            }
          },
          "metadata": {},
          "output_type": "display_data"
        }
      ],
      "source": [
        "dissim_diagram_plot = gtda.plotting.plot_diagram(dissim_diagrams[print_obj])\n",
        "display(dissim_diagram_plot)\n",
        "dissim_diagram_plot.write_image(file = f\"{subj}/{exp}/dissim_diagram.svg\", format = \"svg\")"
      ]
    },
    {
      "cell_type": "markdown",
      "metadata": {},
      "source": [
        "#### FeatureCalculator"
      ]
    },
    {
      "cell_type": "code",
      "execution_count": null,
      "metadata": {},
      "outputs": [
        {
          "name": "stdout",
          "output_type": "stream",
          "text": [
            "Filtered diagrams: (28320, 62, 3)\n",
            "N bins: 100\n"
          ]
        },
        {
          "name": "stderr",
          "output_type": "stream",
          "text": [
            " betti: 100%|██████████| 28320/28320 [02:04<00:00, 228.35it/s]\n",
            " landscape: 100%|██████████| 28320/28320 [02:06<00:00, 223.39it/s]\n",
            " silhouette-1: 100%|██████████| 28320/28320 [02:06<00:00, 224.72it/s]\n",
            " silhouette-2: 100%|██████████| 28320/28320 [02:08<00:00, 220.52it/s]\n",
            " amplitudes: 100%|██████████| 13/13 [00:20<00:00,  1.54s/it]\n",
            " lifetime: 100%|██████████| 28320/28320 [04:59<00:00, 94.54it/s]\n"
          ]
        },
        {
          "data": {
            "text/html": [
              "<div>\n",
              "<style scoped>\n",
              "    .dataframe tbody tr th:only-of-type {\n",
              "        vertical-align: middle;\n",
              "    }\n",
              "\n",
              "    .dataframe tbody tr th {\n",
              "        vertical-align: top;\n",
              "    }\n",
              "\n",
              "    .dataframe thead th {\n",
              "        text-align: right;\n",
              "    }\n",
              "</style>\n",
              "<table border=\"1\" class=\"dataframe\">\n",
              "  <thead>\n",
              "    <tr style=\"text-align: right;\">\n",
              "      <th></th>\n",
              "      <th>dissim-0 betti dim-1 max</th>\n",
              "      <th>dissim-0 betti dim-1 mean</th>\n",
              "      <th>dissim-0 betti dim-1 std</th>\n",
              "      <th>dissim-0 betti dim-1 sum</th>\n",
              "      <th>dissim-0 betti dim-1 percentile-25</th>\n",
              "      <th>dissim-0 betti dim-1 median</th>\n",
              "      <th>dissim-0 betti dim-1 percentile-75</th>\n",
              "      <th>dissim-0 betti dim-1 kurtosis</th>\n",
              "      <th>dissim-0 betti dim-1 skew</th>\n",
              "      <th>dissim-0 betti dim-1 norm-1</th>\n",
              "      <th>...</th>\n",
              "      <th>dissim-23 bd2 dim-5 mean</th>\n",
              "      <th>dissim-23 bd2 dim-5 std</th>\n",
              "      <th>dissim-23 bd2 dim-5 sum</th>\n",
              "      <th>dissim-23 bd2 dim-5 percentile-25</th>\n",
              "      <th>dissim-23 bd2 dim-5 median</th>\n",
              "      <th>dissim-23 bd2 dim-5 percentile-75</th>\n",
              "      <th>dissim-23 bd2 dim-5 kurtosis</th>\n",
              "      <th>dissim-23 bd2 dim-5 skew</th>\n",
              "      <th>dissim-23 bd2 dim-5 norm-1</th>\n",
              "      <th>dissim-23 bd2 dim-5 norm-2</th>\n",
              "    </tr>\n",
              "  </thead>\n",
              "  <tbody>\n",
              "    <tr>\n",
              "      <th>0</th>\n",
              "      <td>1.00</td>\n",
              "      <td>0.00</td>\n",
              "      <td>0.28</td>\n",
              "      <td>0.00</td>\n",
              "      <td>0.00</td>\n",
              "      <td>0.00</td>\n",
              "      <td>0.00</td>\n",
              "      <td>9.38</td>\n",
              "      <td>0.00</td>\n",
              "      <td>8.00</td>\n",
              "      <td>...</td>\n",
              "      <td>0.00</td>\n",
              "      <td>0.00</td>\n",
              "      <td>0.00</td>\n",
              "      <td>0.00</td>\n",
              "      <td>0.00</td>\n",
              "      <td>0.00</td>\n",
              "      <td>0.00</td>\n",
              "      <td>0.00</td>\n",
              "      <td>0.00</td>\n",
              "      <td>0.00</td>\n",
              "    </tr>\n",
              "    <tr>\n",
              "      <th>1</th>\n",
              "      <td>2.00</td>\n",
              "      <td>0.00</td>\n",
              "      <td>0.60</td>\n",
              "      <td>0.00</td>\n",
              "      <td>0.00</td>\n",
              "      <td>0.00</td>\n",
              "      <td>0.00</td>\n",
              "      <td>4.33</td>\n",
              "      <td>0.28</td>\n",
              "      <td>26.00</td>\n",
              "      <td>...</td>\n",
              "      <td>0.00</td>\n",
              "      <td>0.00</td>\n",
              "      <td>0.00</td>\n",
              "      <td>0.00</td>\n",
              "      <td>0.00</td>\n",
              "      <td>0.00</td>\n",
              "      <td>0.00</td>\n",
              "      <td>0.00</td>\n",
              "      <td>0.00</td>\n",
              "      <td>0.00</td>\n",
              "    </tr>\n",
              "    <tr>\n",
              "      <th>2</th>\n",
              "      <td>2.00</td>\n",
              "      <td>0.00</td>\n",
              "      <td>0.45</td>\n",
              "      <td>0.00</td>\n",
              "      <td>0.00</td>\n",
              "      <td>0.00</td>\n",
              "      <td>0.00</td>\n",
              "      <td>7.89</td>\n",
              "      <td>0.00</td>\n",
              "      <td>16.00</td>\n",
              "      <td>...</td>\n",
              "      <td>0.00</td>\n",
              "      <td>0.00</td>\n",
              "      <td>0.00</td>\n",
              "      <td>0.00</td>\n",
              "      <td>0.00</td>\n",
              "      <td>0.00</td>\n",
              "      <td>0.00</td>\n",
              "      <td>0.00</td>\n",
              "      <td>0.00</td>\n",
              "      <td>0.00</td>\n",
              "    </tr>\n",
              "    <tr>\n",
              "      <th>3</th>\n",
              "      <td>1.00</td>\n",
              "      <td>0.00</td>\n",
              "      <td>0.35</td>\n",
              "      <td>0.00</td>\n",
              "      <td>0.00</td>\n",
              "      <td>0.00</td>\n",
              "      <td>0.00</td>\n",
              "      <td>5.25</td>\n",
              "      <td>0.00</td>\n",
              "      <td>12.00</td>\n",
              "      <td>...</td>\n",
              "      <td>0.00</td>\n",
              "      <td>0.00</td>\n",
              "      <td>0.00</td>\n",
              "      <td>0.00</td>\n",
              "      <td>0.00</td>\n",
              "      <td>0.00</td>\n",
              "      <td>0.00</td>\n",
              "      <td>0.00</td>\n",
              "      <td>0.00</td>\n",
              "      <td>0.00</td>\n",
              "    </tr>\n",
              "    <tr>\n",
              "      <th>4</th>\n",
              "      <td>2.00</td>\n",
              "      <td>0.00</td>\n",
              "      <td>0.51</td>\n",
              "      <td>0.00</td>\n",
              "      <td>0.00</td>\n",
              "      <td>0.00</td>\n",
              "      <td>0.00</td>\n",
              "      <td>6.08</td>\n",
              "      <td>-0.45</td>\n",
              "      <td>20.00</td>\n",
              "      <td>...</td>\n",
              "      <td>0.00</td>\n",
              "      <td>0.00</td>\n",
              "      <td>0.00</td>\n",
              "      <td>0.00</td>\n",
              "      <td>0.00</td>\n",
              "      <td>0.00</td>\n",
              "      <td>0.00</td>\n",
              "      <td>0.00</td>\n",
              "      <td>0.00</td>\n",
              "      <td>0.00</td>\n",
              "    </tr>\n",
              "    <tr>\n",
              "      <th>...</th>\n",
              "      <td>...</td>\n",
              "      <td>...</td>\n",
              "      <td>...</td>\n",
              "      <td>...</td>\n",
              "      <td>...</td>\n",
              "      <td>...</td>\n",
              "      <td>...</td>\n",
              "      <td>...</td>\n",
              "      <td>...</td>\n",
              "      <td>...</td>\n",
              "      <td>...</td>\n",
              "      <td>...</td>\n",
              "      <td>...</td>\n",
              "      <td>...</td>\n",
              "      <td>...</td>\n",
              "      <td>...</td>\n",
              "      <td>...</td>\n",
              "      <td>...</td>\n",
              "      <td>...</td>\n",
              "      <td>...</td>\n",
              "      <td>...</td>\n",
              "    </tr>\n",
              "    <tr>\n",
              "      <th>1175</th>\n",
              "      <td>1.00</td>\n",
              "      <td>0.00</td>\n",
              "      <td>0.49</td>\n",
              "      <td>0.00</td>\n",
              "      <td>0.00</td>\n",
              "      <td>0.00</td>\n",
              "      <td>0.00</td>\n",
              "      <td>13.50</td>\n",
              "      <td>-2.03</td>\n",
              "      <td>18.00</td>\n",
              "      <td>...</td>\n",
              "      <td>0.00</td>\n",
              "      <td>0.00</td>\n",
              "      <td>0.00</td>\n",
              "      <td>0.00</td>\n",
              "      <td>0.00</td>\n",
              "      <td>0.00</td>\n",
              "      <td>0.00</td>\n",
              "      <td>0.00</td>\n",
              "      <td>0.00</td>\n",
              "      <td>0.00</td>\n",
              "    </tr>\n",
              "    <tr>\n",
              "      <th>1176</th>\n",
              "      <td>1.00</td>\n",
              "      <td>0.00</td>\n",
              "      <td>0.40</td>\n",
              "      <td>0.00</td>\n",
              "      <td>0.00</td>\n",
              "      <td>0.00</td>\n",
              "      <td>0.00</td>\n",
              "      <td>7.83</td>\n",
              "      <td>-0.93</td>\n",
              "      <td>14.00</td>\n",
              "      <td>...</td>\n",
              "      <td>0.00</td>\n",
              "      <td>0.00</td>\n",
              "      <td>0.00</td>\n",
              "      <td>0.00</td>\n",
              "      <td>0.00</td>\n",
              "      <td>0.00</td>\n",
              "      <td>0.00</td>\n",
              "      <td>0.00</td>\n",
              "      <td>0.00</td>\n",
              "      <td>0.00</td>\n",
              "    </tr>\n",
              "    <tr>\n",
              "      <th>1177</th>\n",
              "      <td>2.00</td>\n",
              "      <td>0.00</td>\n",
              "      <td>0.49</td>\n",
              "      <td>0.00</td>\n",
              "      <td>0.00</td>\n",
              "      <td>0.00</td>\n",
              "      <td>0.00</td>\n",
              "      <td>5.25</td>\n",
              "      <td>0.00</td>\n",
              "      <td>20.00</td>\n",
              "      <td>...</td>\n",
              "      <td>0.00</td>\n",
              "      <td>0.00</td>\n",
              "      <td>0.00</td>\n",
              "      <td>0.00</td>\n",
              "      <td>0.00</td>\n",
              "      <td>0.00</td>\n",
              "      <td>0.00</td>\n",
              "      <td>0.00</td>\n",
              "      <td>0.00</td>\n",
              "      <td>0.00</td>\n",
              "    </tr>\n",
              "    <tr>\n",
              "      <th>1178</th>\n",
              "      <td>2.00</td>\n",
              "      <td>0.00</td>\n",
              "      <td>0.51</td>\n",
              "      <td>0.00</td>\n",
              "      <td>0.00</td>\n",
              "      <td>0.00</td>\n",
              "      <td>0.00</td>\n",
              "      <td>4.32</td>\n",
              "      <td>0.90</td>\n",
              "      <td>22.00</td>\n",
              "      <td>...</td>\n",
              "      <td>0.00</td>\n",
              "      <td>0.00</td>\n",
              "      <td>0.00</td>\n",
              "      <td>0.00</td>\n",
              "      <td>0.00</td>\n",
              "      <td>0.00</td>\n",
              "      <td>0.00</td>\n",
              "      <td>0.00</td>\n",
              "      <td>0.00</td>\n",
              "      <td>0.00</td>\n",
              "    </tr>\n",
              "    <tr>\n",
              "      <th>1179</th>\n",
              "      <td>2.00</td>\n",
              "      <td>0.00</td>\n",
              "      <td>0.59</td>\n",
              "      <td>0.00</td>\n",
              "      <td>0.00</td>\n",
              "      <td>0.00</td>\n",
              "      <td>0.00</td>\n",
              "      <td>2.99</td>\n",
              "      <td>-0.30</td>\n",
              "      <td>28.00</td>\n",
              "      <td>...</td>\n",
              "      <td>0.00</td>\n",
              "      <td>0.00</td>\n",
              "      <td>0.00</td>\n",
              "      <td>0.00</td>\n",
              "      <td>0.00</td>\n",
              "      <td>0.00</td>\n",
              "      <td>0.00</td>\n",
              "      <td>0.00</td>\n",
              "      <td>0.00</td>\n",
              "      <td>0.00</td>\n",
              "    </tr>\n",
              "  </tbody>\n",
              "</table>\n",
              "<p>1180 rows × 10872 columns</p>\n",
              "</div>"
            ],
            "text/plain": [
              "      dissim-0 betti dim-1 max  dissim-0 betti dim-1 mean  \\\n",
              "0                         1.00                       0.00   \n",
              "1                         2.00                       0.00   \n",
              "2                         2.00                       0.00   \n",
              "3                         1.00                       0.00   \n",
              "4                         2.00                       0.00   \n",
              "...                        ...                        ...   \n",
              "1175                      1.00                       0.00   \n",
              "1176                      1.00                       0.00   \n",
              "1177                      2.00                       0.00   \n",
              "1178                      2.00                       0.00   \n",
              "1179                      2.00                       0.00   \n",
              "\n",
              "      dissim-0 betti dim-1 std  dissim-0 betti dim-1 sum  \\\n",
              "0                         0.28                      0.00   \n",
              "1                         0.60                      0.00   \n",
              "2                         0.45                      0.00   \n",
              "3                         0.35                      0.00   \n",
              "4                         0.51                      0.00   \n",
              "...                        ...                       ...   \n",
              "1175                      0.49                      0.00   \n",
              "1176                      0.40                      0.00   \n",
              "1177                      0.49                      0.00   \n",
              "1178                      0.51                      0.00   \n",
              "1179                      0.59                      0.00   \n",
              "\n",
              "      dissim-0 betti dim-1 percentile-25  dissim-0 betti dim-1 median  \\\n",
              "0                                   0.00                         0.00   \n",
              "1                                   0.00                         0.00   \n",
              "2                                   0.00                         0.00   \n",
              "3                                   0.00                         0.00   \n",
              "4                                   0.00                         0.00   \n",
              "...                                  ...                          ...   \n",
              "1175                                0.00                         0.00   \n",
              "1176                                0.00                         0.00   \n",
              "1177                                0.00                         0.00   \n",
              "1178                                0.00                         0.00   \n",
              "1179                                0.00                         0.00   \n",
              "\n",
              "      dissim-0 betti dim-1 percentile-75  dissim-0 betti dim-1 kurtosis  \\\n",
              "0                                   0.00                           9.38   \n",
              "1                                   0.00                           4.33   \n",
              "2                                   0.00                           7.89   \n",
              "3                                   0.00                           5.25   \n",
              "4                                   0.00                           6.08   \n",
              "...                                  ...                            ...   \n",
              "1175                                0.00                          13.50   \n",
              "1176                                0.00                           7.83   \n",
              "1177                                0.00                           5.25   \n",
              "1178                                0.00                           4.32   \n",
              "1179                                0.00                           2.99   \n",
              "\n",
              "      dissim-0 betti dim-1 skew  dissim-0 betti dim-1 norm-1  ...  \\\n",
              "0                          0.00                         8.00  ...   \n",
              "1                          0.28                        26.00  ...   \n",
              "2                          0.00                        16.00  ...   \n",
              "3                          0.00                        12.00  ...   \n",
              "4                         -0.45                        20.00  ...   \n",
              "...                         ...                          ...  ...   \n",
              "1175                      -2.03                        18.00  ...   \n",
              "1176                      -0.93                        14.00  ...   \n",
              "1177                       0.00                        20.00  ...   \n",
              "1178                       0.90                        22.00  ...   \n",
              "1179                      -0.30                        28.00  ...   \n",
              "\n",
              "      dissim-23 bd2 dim-5 mean  dissim-23 bd2 dim-5 std  \\\n",
              "0                         0.00                     0.00   \n",
              "1                         0.00                     0.00   \n",
              "2                         0.00                     0.00   \n",
              "3                         0.00                     0.00   \n",
              "4                         0.00                     0.00   \n",
              "...                        ...                      ...   \n",
              "1175                      0.00                     0.00   \n",
              "1176                      0.00                     0.00   \n",
              "1177                      0.00                     0.00   \n",
              "1178                      0.00                     0.00   \n",
              "1179                      0.00                     0.00   \n",
              "\n",
              "      dissim-23 bd2 dim-5 sum  dissim-23 bd2 dim-5 percentile-25  \\\n",
              "0                        0.00                               0.00   \n",
              "1                        0.00                               0.00   \n",
              "2                        0.00                               0.00   \n",
              "3                        0.00                               0.00   \n",
              "4                        0.00                               0.00   \n",
              "...                       ...                                ...   \n",
              "1175                     0.00                               0.00   \n",
              "1176                     0.00                               0.00   \n",
              "1177                     0.00                               0.00   \n",
              "1178                     0.00                               0.00   \n",
              "1179                     0.00                               0.00   \n",
              "\n",
              "      dissim-23 bd2 dim-5 median  dissim-23 bd2 dim-5 percentile-75  \\\n",
              "0                           0.00                               0.00   \n",
              "1                           0.00                               0.00   \n",
              "2                           0.00                               0.00   \n",
              "3                           0.00                               0.00   \n",
              "4                           0.00                               0.00   \n",
              "...                          ...                                ...   \n",
              "1175                        0.00                               0.00   \n",
              "1176                        0.00                               0.00   \n",
              "1177                        0.00                               0.00   \n",
              "1178                        0.00                               0.00   \n",
              "1179                        0.00                               0.00   \n",
              "\n",
              "      dissim-23 bd2 dim-5 kurtosis  dissim-23 bd2 dim-5 skew  \\\n",
              "0                             0.00                      0.00   \n",
              "1                             0.00                      0.00   \n",
              "2                             0.00                      0.00   \n",
              "3                             0.00                      0.00   \n",
              "4                             0.00                      0.00   \n",
              "...                            ...                       ...   \n",
              "1175                          0.00                      0.00   \n",
              "1176                          0.00                      0.00   \n",
              "1177                          0.00                      0.00   \n",
              "1178                          0.00                      0.00   \n",
              "1179                          0.00                      0.00   \n",
              "\n",
              "      dissim-23 bd2 dim-5 norm-1  dissim-23 bd2 dim-5 norm-2  \n",
              "0                           0.00                        0.00  \n",
              "1                           0.00                        0.00  \n",
              "2                           0.00                        0.00  \n",
              "3                           0.00                        0.00  \n",
              "4                           0.00                        0.00  \n",
              "...                          ...                         ...  \n",
              "1175                        0.00                        0.00  \n",
              "1176                        0.00                        0.00  \n",
              "1177                        0.00                        0.00  \n",
              "1178                        0.00                        0.00  \n",
              "1179                        0.00                        0.00  \n",
              "\n",
              "[1180 rows x 10872 columns]"
            ]
          },
          "execution_count": 17,
          "metadata": {},
          "output_type": "execute_result"
        }
      ],
      "source": [
        "n_dissim = dissim_diagrams.shape[0] // data.shape[0]\n",
        "dissim_features_raw = FeatureCalculator().calc_features(dissim_diagrams)\n",
        "columns = [ f\"dissim-{i}{feature_name}\" for i in range(n_dissim) for feature_name in dissim_features_raw ]\n",
        "dissim_features = pandas.concat([ dissim_features_raw.iloc[i::n_dissim, :].reset_index(drop = True) for i in range(n_dissim) ], axis = 1)\n",
        "dissim_features.columns = columns\n",
        "dissim_features.to_feather(f\"{subj}/{exp}/dissim_features.feather\")\n",
        "dissim_features"
      ]
    },
    {
      "cell_type": "markdown",
      "metadata": {},
      "source": [
        "### Overall"
      ]
    },
    {
      "cell_type": "markdown",
      "metadata": {},
      "source": [
        "#### TakensEmbedding"
      ]
    },
    {
      "cell_type": "code",
      "execution_count": null,
      "metadata": {},
      "outputs": [
        {
          "name": "stdout",
          "output_type": "stream",
          "text": [
            "(1180, 153, 200)\n"
          ]
        }
      ],
      "source": [
        "overall_embedding = gtda.time_series.TakensEmbedding(\n",
        "    dimension = OVERALL_DIMENSION,\n",
        "    time_delay = OVERALL_TIME_DELAY,\n",
        "    stride = OVERALL_STRIDE,\n",
        "    flatten = True\n",
        ")\n",
        "overall_point_clouds = overall_embedding.fit_transform(data)\n",
        "print(overall_point_clouds.shape)"
      ]
    },
    {
      "cell_type": "code",
      "execution_count": null,
      "metadata": {},
      "outputs": [
        {
          "data": {
            "application/vnd.plotly.v1+json": {
              "config": {
                "plotlyServerURL": "https://plot.ly"
              },
              "data": [
                {
                  "marker": {
                    "color": [
                      0,
                      1,
                      2,
                      3,
                      4,
                      5,
                      6,
                      7,
                      8,
                      9,
                      10,
                      11,
                      12,
                      13,
                      14,
                      15,
                      16,
                      17,
                      18,
                      19,
                      20,
                      21,
                      22,
                      23,
                      24,
                      25,
                      26,
                      27,
                      28,
                      29,
                      30,
                      31,
                      32,
                      33,
                      34,
                      35,
                      36,
                      37,
                      38,
                      39,
                      40,
                      41,
                      42,
                      43,
                      44,
                      45,
                      46,
                      47,
                      48,
                      49,
                      50,
                      51,
                      52,
                      53,
                      54,
                      55,
                      56,
                      57,
                      58,
                      59,
                      60,
                      61,
                      62,
                      63,
                      64,
                      65,
                      66,
                      67,
                      68,
                      69,
                      70,
                      71,
                      72,
                      73,
                      74,
                      75,
                      76,
                      77,
                      78,
                      79,
                      80,
                      81,
                      82,
                      83,
                      84,
                      85,
                      86,
                      87,
                      88,
                      89,
                      90,
                      91,
                      92,
                      93,
                      94,
                      95,
                      96,
                      97,
                      98,
                      99,
                      100,
                      101,
                      102,
                      103,
                      104,
                      105,
                      106,
                      107,
                      108,
                      109,
                      110,
                      111,
                      112,
                      113,
                      114,
                      115,
                      116,
                      117,
                      118,
                      119,
                      120,
                      121,
                      122,
                      123,
                      124,
                      125,
                      126,
                      127,
                      128,
                      129,
                      130,
                      131,
                      132,
                      133,
                      134,
                      135,
                      136,
                      137,
                      138,
                      139,
                      140,
                      141,
                      142,
                      143,
                      144,
                      145,
                      146,
                      147,
                      148,
                      149,
                      150,
                      151,
                      152
                    ],
                    "colorscale": [
                      [
                        0,
                        "#440154"
                      ],
                      [
                        0.1111111111111111,
                        "#482878"
                      ],
                      [
                        0.2222222222222222,
                        "#3e4989"
                      ],
                      [
                        0.3333333333333333,
                        "#31688e"
                      ],
                      [
                        0.4444444444444444,
                        "#26828e"
                      ],
                      [
                        0.5555555555555556,
                        "#1f9e89"
                      ],
                      [
                        0.6666666666666666,
                        "#35b779"
                      ],
                      [
                        0.7777777777777778,
                        "#6ece58"
                      ],
                      [
                        0.8888888888888888,
                        "#b5de2b"
                      ],
                      [
                        1,
                        "#fde725"
                      ]
                    ],
                    "opacity": 0.8,
                    "size": 4
                  },
                  "mode": "markers",
                  "type": "scatter3d",
                  "x": [
                    -0.00006037886851117946,
                    -0.00008107374014798552,
                    0.000009939118172042072,
                    0.00008264403732027858,
                    0.000049583701184019446,
                    -0.00001614062421140261,
                    -0.00003443734749453142,
                    -0.000019173963664798066,
                    0.000009361323463963345,
                    0.00005164326648809947,
                    0.00006363852298818529,
                    0.000010702246981963981,
                    -0.00004092006929568015,
                    -0.000019398226868361235,
                    0.000025479683245066553,
                    0.000013579039659816772,
                    -0.000026006195184891112,
                    -0.000026364396035205573,
                    -0.00000493864854433923,
                    -0.000006792990461690351,
                    -0.000010286647011525929,
                    0.000013814483281748835,
                    0.00003086391734541394,
                    0.00001343089206784498,
                    0.000003076395159951062,
                    0.00002811798549373634,
                    0.00004134894334129058,
                    0.000005714946837542811,
                    -0.000033530515793245286,
                    -0.000026900230295723304,
                    2.5336328235425754e-7,
                    0.000003870747150358511,
                    -0.000008070693183981348,
                    -0.000010523177479626611,
                    -0.000010008056051447056,
                    -0.0000186194392881589,
                    -0.000021655485397786833,
                    -7.486262916245323e-7,
                    0.00003488453148747794,
                    0.00005160016007721424,
                    0.00002428119296382647,
                    -0.000025920584448613226,
                    -0.00004340120358392596,
                    -0.000012985225112061016,
                    0.000016609801605227403,
                    0.000012667859664361458,
                    6.100090672589431e-7,
                    -0.000003833937171293655,
                    -0.000021226858734735288,
                    -0.000036872537748422474,
                    -0.000005682843493559631,
                    0.0000460437877336517,
                    0.00004152461769990623,
                    -0.000009231864169123583,
                    -0.000019272682038717903,
                    0.000022934580556466244,
                    0.000038505313568748534,
                    -4.98782753766136e-7,
                    -0.000035027544072363526,
                    -0.000026747555239126086,
                    -0.0000028836880119342823,
                    0.000008343601621163543,
                    0.000010341349479858764,
                    0.00000965119670581771,
                    0.000004571755198412575,
                    -0.000002973175924125826,
                    -0.000007134668976505054,
                    -0.000004807776349480264,
                    0.0000025628860385040753,
                    0.000010127940186066553,
                    0.000015430241546710022,
                    0.000018147340597352013,
                    0.000008920586878957693,
                    -0.000017089181710616685,
                    -0.00003258305150666274,
                    -0.000009376240086567122,
                    0.00002478868373145815,
                    0.000023270324163604528,
                    0.0000015361731584562222,
                    2.464692556713999e-7,
                    -9.56152007347555e-7,
                    -0.00003266554995207116,
                    -0.000049412134103477,
                    -0.00000820574950921582,
                    0.00003169401315972209,
                    0.000008256181899923831,
                    -0.000025840869056992233,
                    -0.0000033171597806358477,
                    0.00003160291817039251,
                    0.000013887977729609702,
                    -0.000020521951228147373,
                    -0.000010237752576358616,
                    0.000020095751096960157,
                    0.00001226829772349447,
                    -0.00002373423194512725,
                    -0.000030488636184600182,
                    0.000007108023510227213,
                    0.00003958423621952534,
                    0.000019903352949768305,
                    -0.000028054306312697008,
                    -0.0000405107784899883,
                    -0.000010729205314419232,
                    0.000006826517164881807,
                    -0.000006585729352082126,
                    -0.00001281180084333755,
                    0.0000019024818129764753,
                    0.000011044819075323176,
                    0.000012239418538229074,
                    0.000019967004845966585,
                    0.00001619958675291855,
                    -0.000010595256753731519,
                    -0.000020288232917664573,
                    0.000008186423656297848,
                    0.00002396711533947382,
                    -0.000008784006240603048,
                    -0.000042330466385465115,
                    -0.000027106858397019096,
                    0.000007948819074954372,
                    0.000011319350051053334,
                    -0.000009710603080748115,
                    -0.000013510038115782663,
                    0.000006222795491339639,
                    0.000016967673218459822,
                    0.000003490288008833886,
                    -0.000006769147603336023,
                    0.000007618933977937559,
                    0.000019885002984665334,
                    0.0000017863428638520418,
                    -0.000021448837287607603,
                    -0.000016755615433794446,
                    -0.000002007451485042111,
                    -0.0000024511675746907713,
                    -0.0000033267504022660432,
                    -0.0000020905329165543662,
                    -0.00002796619628497865,
                    -0.00006032609235262498,
                    -0.00003175382153131068,
                    0.000040740298572927713,
                    0.00005339356357580982,
                    -0.000012332799997238908,
                    -0.00005380221045925282,
                    -0.000019511822756612673,
                    0.000023370283088297583,
                    0.000019449906176305376,
                    -0.000007982045644894242,
                    -0.00002990987013617996,
                    -0.00003944363197661005,
                    -0.00002105282328557223,
                    0.000017226153431693092,
                    0.000022530210117110983,
                    -0.0000209198915399611,
                    -0.00005225848508416675,
                    -0.00002966276224469766
                  ],
                  "y": [
                    0.00007010253466432914,
                    0.0000024186215341615025,
                    -0.00003407022813917138,
                    -0.000025772436856641434,
                    -0.0000020990944449295057,
                    0.000037665780837414786,
                    0.00006689531437586993,
                    0.00003338238093419932,
                    -0.00003028392166015692,
                    -0.00003411639772821218,
                    0.000014469062080024742,
                    0.000024459901396767236,
                    -0.00001501865335740149,
                    -0.000031429051887243986,
                    -0.000010712238690757658,
                    -0.0000035736131849262165,
                    -0.000011942140190512873,
                    0.0000038027633308956865,
                    0.000029120956241968088,
                    0.000021485378965735435,
                    0.0000023761001557431882,
                    0.00001765743400028441,
                    0.00004217478999635205,
                    0.000021589428797597066,
                    -0.00002443368430249393,
                    -0.0000340658298227936,
                    -0.000007554267995146802,
                    0.000005875145689060446,
                    -0.0000043939162424067035,
                    -0.000010990789633069653,
                    -0.00000929144152905792,
                    -0.000015154517313931137,
                    -0.000022787146008340642,
                    -0.00001049822003551526,
                    0.000023210925064631738,
                    0.00005034564674133435,
                    0.00003815365562331863,
                    -0.000010082011613121722,
                    -0.00004378521043690853,
                    -0.000026114765205420554,
                    0.000010217795534117613,
                    0.000016845709978952073,
                    0.000003467196620476898,
                    -0.0000020013301309518283,
                    -0.00001348997830064036,
                    -0.00003518084849929437,
                    -0.00002183324431825895,
                    0.00003182525324518792,
                    0.00005142349618836306,
                    0.000007345650828938233,
                    -0.000023963028070284054,
                    0.000007528890364483232,
                    0.00004037090911879204,
                    0.000015706145859439857,
                    -0.000027979909646091983,
                    -0.0000333833449985832,
                    -0.00001008786875900114,
                    0.0000061972750700078905,
                    0.00001005697686196072,
                    0.000010246410965919495,
                    0.0000067893288360210136,
                    -5.618654768113629e-7,
                    -0.000006400070560630411,
                    -0.000006317251063592266,
                    -1.7774723914953938e-7,
                    0.000007859503057261463,
                    0.000013841835425409954,
                    0.000017886102796182968,
                    0.000014126316273177508,
                    -0.000007562272912764456,
                    -0.00003113444472546689,
                    -0.000020988260075682774,
                    0.00001581911783432588,
                    0.00002833056714734994,
                    0.000007736851330264471,
                    -0.000001746230736898724,
                    0.000002567240699136164,
                    -0.000020046452846145257,
                    -0.00004997365613235161,
                    -0.000026584782972349785,
                    0.00002438032242935151,
                    0.000022023321434971876,
                    -0.000019304934539832175,
                    -0.000016582633179496042,
                    0.00002421998215140775,
                    0.000025479714167886414,
                    -0.000012244850950082764,
                    -0.000019026796508114785,
                    0.000012134154530940577,
                    0.000020286664948798716,
                    -0.000012226963917782996,
                    -0.00003401374488021247,
                    -0.000008133375558827538,
                    0.000033296473702648655,
                    0.000032456191547680646,
                    -0.000013179877896618564,
                    -0.00004262519360054284,
                    -0.000022251124391914345,
                    0.000005135640549269738,
                    -6.605450266761181e-7,
                    -0.000013673796274815686,
                    -0.0000037803615668963175,
                    0.000009688006684882566,
                    0.000011414120308472775,
                    0.00001709289790596813,
                    0.000020526953449007124,
                    -8.816900844976772e-7,
                    -0.000021832453057868406,
                    -0.0000033944272672670195,
                    0.000024043612938839942,
                    0.0000059083349697175436,
                    -0.00003550990004441701,
                    -0.000037337671528803185,
                    -0.000001985372819035547,
                    0.000014691799151478335,
                    -0.000002751096872088965,
                    -0.000015708465070929378,
                    -0.000001220270632984466,
                    0.0000163003642228432,
                    0.000009567252163833473,
                    -0.000005943848464085022,
                    8.86279963197012e-7,
                    0.000018698605344980024,
                    0.00001066179174813442,
                    -0.000016018315363908187,
                    -0.000021311589080141857,
                    -0.000005687277280230774,
                    -9.669954579294426e-7,
                    -0.000004206191988487262,
                    -8.276946346086334e-7,
                    -0.000015764508134452626,
                    -0.00005337722905096598,
                    -0.00004990432717022486,
                    0.000018052793166134506,
                    0.00006038574792910367,
                    0.000012862200492236298,
                    -0.00004881541826762259,
                    -0.00003656519402284175,
                    0.000013369186490308493,
                    0.00002553987542341929,
                    0.0000012658813375310274,
                    -0.000023640615836484358,
                    -0.000038447058614110574,
                    -0.00003096664295298979,
                    0.000005190330739424098,
                    0.000027282650989945978,
                    -0.000003912824013241334,
                    -0.0000474227563245222,
                    -0.00004216875458951108,
                    -3.315602441489318e-7,
                    0.00002963421866297722,
                    0.00003554797513061203,
                    0.00002391147609159816
                  ],
                  "z": [
                    -0.000011439785339462105,
                    0.000022929096303414553,
                    0.0000622646402916871,
                    0.00005202638931223191,
                    -0.000011936112969124224,
                    -0.00004208270547678694,
                    -0.0000017555486238052254,
                    0.00002893816417781636,
                    -7.586157266814553e-7,
                    -0.00003164970621583052,
                    -0.000018600430848891847,
                    -0.000002558233063609805,
                    -0.000010269696758768987,
                    -0.000004804423042514827,
                    0.000022970552890910767,
                    0.000027973443138762377,
                    0.000006301957000687253,
                    0.000008561948561691679,
                    0.00003716496939887293,
                    0.000034180007787654176,
                    -0.000010591806130832992,
                    -0.00003670344449346885,
                    -0.00001728357165120542,
                    0.000004847145646635909,
                    -1.229666413138375e-8,
                    -0.000010312684935342986,
                    -0.00000967630694503896,
                    -0.000012052145393681712,
                    -0.000021495987311936915,
                    -0.000017588745322427712,
                    0.00001086940937966574,
                    0.0000443990902567748,
                    0.0000475267406727653,
                    0.000007476199243683368,
                    -0.000037720645195804536,
                    -0.00003700711749843322,
                    -1.337690491709509e-7,
                    0.00001861616510723252,
                    0.000007737498890492134,
                    -9.301555792262661e-7,
                    -0.000007516091955039883,
                    -0.00002919641337939538,
                    -0.00003258133074268699,
                    0.000013362738172872923,
                    0.000053068612032802776,
                    0.00002563242924225051,
                    -0.000020448980649234727,
                    -0.000007791824828018434,
                    0.000034780525311362,
                    0.000029647395422216505,
                    -0.000015925059415167198,
                    -0.00003661416849354282,
                    -0.000018440719941281714,
                    0.0000025632309643697226,
                    0.000009483883331995457,
                    0.000010426849257783033,
                    0.000008510366569680627,
                    0.000002039477976722992,
                    -0.000004974116109224269,
                    -0.000007110700607881881,
                    -0.0000027033331662096316,
                    0.0000053029152695671655,
                    0.000012099570994905662,
                    0.000016845382560859434,
                    0.000017079628378269263,
                    0.0000014954018752177944,
                    -0.000025506293241051026,
                    -0.000029128994356142357,
                    0.0000036909118534822483,
                    0.000029096228900016285,
                    0.00001566467653901782,
                    -0.0000016664237136865268,
                    0.0000024047099032031838,
                    -0.000008764571248320863,
                    -0.0000436505360994488,
                    -0.00004124617771594785,
                    0.000010080944775836542,
                    0.00003068251317017712,
                    -0.000006858836059109308,
                    -0.000024820747057674453,
                    0.00001153916400653543,
                    0.00003198762351530604,
                    1.9292060926545673e-7,
                    -0.000022869517124490812,
                    0.0000011161561133121722,
                    0.000023067510483087972,
                    6.420657427952392e-7,
                    -0.00003154284422635101,
                    -0.0000213891744351713,
                    0.000021768293663626537,
                    0.0000393587069993373,
                    0.000003773584694499732,
                    -0.00003837956683128141,
                    -0.00003304007987026125,
                    -9.839303629632923e-7,
                    0.000004446339517016895,
                    -0.000011401430128898937,
                    -0.000009154871804639697,
                    0.000006633664270339068,
                    0.00001130751297750976,
                    0.000014214374459697865,
                    0.00002153340210497845,
                    0.000008687294211995322,
                    -0.000018228209228254855,
                    -0.00001368341690977104,
                    0.000018206003005616367,
                    0.000017574948287801817,
                    -0.000023568509277538396,
                    -0.00004288067793822847,
                    -0.000014456535609497223,
                    0.000013713788575842045,
                    0.000004898472980130464,
                    -0.000014364338312589098,
                    -0.000008299312867166009,
                    0.000012483359569159802,
                    0.000014486063264484983,
                    -0.0000021764710709248902,
                    -0.000004325689133111155,
                    0.00001414967846358195,
                    0.00001709599200694356,
                    -0.000007747036761429626,
                    -0.00002318870792805683,
                    -0.000011015696145477705,
                    -5.202812758398068e-7,
                    -0.000003831049980362877,
                    -0.000001771944084794086,
                    -0.000006900114840391325,
                    -0.00004149647429585457,
                    -0.000059617465012706816,
                    -0.000007725776413280983,
                    0.00005586792394751683,
                    0.000036372126487549394,
                    -0.00003423789166845381,
                    -0.00004908797927782871,
                    -0.0000017214457557201968,
                    0.00002729983134486247,
                    0.000010805679266923107,
                    -0.000016334435713361017,
                    -0.00003500421007629484,
                    -0.00003713365731528029,
                    -0.000008381285624636803,
                    0.00002523416878830176,
                    0.000011510408512549475,
                    -0.000036355711927171797,
                    -0.0000502719558426179,
                    -0.00001498210258432664,
                    0.000022634116248809732,
                    0.00003563741847756319,
                    0.000029897832064307295,
                    0.000005029586645832751,
                    -0.00003052801912417635,
                    -0.00004411506961332634,
                    -0.000024413422579527833
                  ]
                }
              ],
              "layout": {
                "scene": {
                  "xaxis": {
                    "exponentformat": "e",
                    "showexponent": "all",
                    "title": {
                      "text": "0th"
                    },
                    "type": "linear"
                  },
                  "yaxis": {
                    "exponentformat": "e",
                    "showexponent": "all",
                    "title": {
                      "text": "1st"
                    },
                    "type": "linear"
                  },
                  "zaxis": {
                    "exponentformat": "e",
                    "showexponent": "all",
                    "title": {
                      "text": "2nd"
                    },
                    "type": "linear"
                  }
                },
                "template": {
                  "data": {
                    "bar": [
                      {
                        "error_x": {
                          "color": "#2a3f5f"
                        },
                        "error_y": {
                          "color": "#2a3f5f"
                        },
                        "marker": {
                          "line": {
                            "color": "#E5ECF6",
                            "width": 0.5
                          },
                          "pattern": {
                            "fillmode": "overlay",
                            "size": 10,
                            "solidity": 0.2
                          }
                        },
                        "type": "bar"
                      }
                    ],
                    "barpolar": [
                      {
                        "marker": {
                          "line": {
                            "color": "#E5ECF6",
                            "width": 0.5
                          },
                          "pattern": {
                            "fillmode": "overlay",
                            "size": 10,
                            "solidity": 0.2
                          }
                        },
                        "type": "barpolar"
                      }
                    ],
                    "carpet": [
                      {
                        "aaxis": {
                          "endlinecolor": "#2a3f5f",
                          "gridcolor": "white",
                          "linecolor": "white",
                          "minorgridcolor": "white",
                          "startlinecolor": "#2a3f5f"
                        },
                        "baxis": {
                          "endlinecolor": "#2a3f5f",
                          "gridcolor": "white",
                          "linecolor": "white",
                          "minorgridcolor": "white",
                          "startlinecolor": "#2a3f5f"
                        },
                        "type": "carpet"
                      }
                    ],
                    "choropleth": [
                      {
                        "colorbar": {
                          "outlinewidth": 0,
                          "ticks": ""
                        },
                        "type": "choropleth"
                      }
                    ],
                    "contour": [
                      {
                        "colorbar": {
                          "outlinewidth": 0,
                          "ticks": ""
                        },
                        "colorscale": [
                          [
                            0,
                            "#0d0887"
                          ],
                          [
                            0.1111111111111111,
                            "#46039f"
                          ],
                          [
                            0.2222222222222222,
                            "#7201a8"
                          ],
                          [
                            0.3333333333333333,
                            "#9c179e"
                          ],
                          [
                            0.4444444444444444,
                            "#bd3786"
                          ],
                          [
                            0.5555555555555556,
                            "#d8576b"
                          ],
                          [
                            0.6666666666666666,
                            "#ed7953"
                          ],
                          [
                            0.7777777777777778,
                            "#fb9f3a"
                          ],
                          [
                            0.8888888888888888,
                            "#fdca26"
                          ],
                          [
                            1,
                            "#f0f921"
                          ]
                        ],
                        "type": "contour"
                      }
                    ],
                    "contourcarpet": [
                      {
                        "colorbar": {
                          "outlinewidth": 0,
                          "ticks": ""
                        },
                        "type": "contourcarpet"
                      }
                    ],
                    "heatmap": [
                      {
                        "colorbar": {
                          "outlinewidth": 0,
                          "ticks": ""
                        },
                        "colorscale": [
                          [
                            0,
                            "#0d0887"
                          ],
                          [
                            0.1111111111111111,
                            "#46039f"
                          ],
                          [
                            0.2222222222222222,
                            "#7201a8"
                          ],
                          [
                            0.3333333333333333,
                            "#9c179e"
                          ],
                          [
                            0.4444444444444444,
                            "#bd3786"
                          ],
                          [
                            0.5555555555555556,
                            "#d8576b"
                          ],
                          [
                            0.6666666666666666,
                            "#ed7953"
                          ],
                          [
                            0.7777777777777778,
                            "#fb9f3a"
                          ],
                          [
                            0.8888888888888888,
                            "#fdca26"
                          ],
                          [
                            1,
                            "#f0f921"
                          ]
                        ],
                        "type": "heatmap"
                      }
                    ],
                    "heatmapgl": [
                      {
                        "colorbar": {
                          "outlinewidth": 0,
                          "ticks": ""
                        },
                        "colorscale": [
                          [
                            0,
                            "#0d0887"
                          ],
                          [
                            0.1111111111111111,
                            "#46039f"
                          ],
                          [
                            0.2222222222222222,
                            "#7201a8"
                          ],
                          [
                            0.3333333333333333,
                            "#9c179e"
                          ],
                          [
                            0.4444444444444444,
                            "#bd3786"
                          ],
                          [
                            0.5555555555555556,
                            "#d8576b"
                          ],
                          [
                            0.6666666666666666,
                            "#ed7953"
                          ],
                          [
                            0.7777777777777778,
                            "#fb9f3a"
                          ],
                          [
                            0.8888888888888888,
                            "#fdca26"
                          ],
                          [
                            1,
                            "#f0f921"
                          ]
                        ],
                        "type": "heatmapgl"
                      }
                    ],
                    "histogram": [
                      {
                        "marker": {
                          "pattern": {
                            "fillmode": "overlay",
                            "size": 10,
                            "solidity": 0.2
                          }
                        },
                        "type": "histogram"
                      }
                    ],
                    "histogram2d": [
                      {
                        "colorbar": {
                          "outlinewidth": 0,
                          "ticks": ""
                        },
                        "colorscale": [
                          [
                            0,
                            "#0d0887"
                          ],
                          [
                            0.1111111111111111,
                            "#46039f"
                          ],
                          [
                            0.2222222222222222,
                            "#7201a8"
                          ],
                          [
                            0.3333333333333333,
                            "#9c179e"
                          ],
                          [
                            0.4444444444444444,
                            "#bd3786"
                          ],
                          [
                            0.5555555555555556,
                            "#d8576b"
                          ],
                          [
                            0.6666666666666666,
                            "#ed7953"
                          ],
                          [
                            0.7777777777777778,
                            "#fb9f3a"
                          ],
                          [
                            0.8888888888888888,
                            "#fdca26"
                          ],
                          [
                            1,
                            "#f0f921"
                          ]
                        ],
                        "type": "histogram2d"
                      }
                    ],
                    "histogram2dcontour": [
                      {
                        "colorbar": {
                          "outlinewidth": 0,
                          "ticks": ""
                        },
                        "colorscale": [
                          [
                            0,
                            "#0d0887"
                          ],
                          [
                            0.1111111111111111,
                            "#46039f"
                          ],
                          [
                            0.2222222222222222,
                            "#7201a8"
                          ],
                          [
                            0.3333333333333333,
                            "#9c179e"
                          ],
                          [
                            0.4444444444444444,
                            "#bd3786"
                          ],
                          [
                            0.5555555555555556,
                            "#d8576b"
                          ],
                          [
                            0.6666666666666666,
                            "#ed7953"
                          ],
                          [
                            0.7777777777777778,
                            "#fb9f3a"
                          ],
                          [
                            0.8888888888888888,
                            "#fdca26"
                          ],
                          [
                            1,
                            "#f0f921"
                          ]
                        ],
                        "type": "histogram2dcontour"
                      }
                    ],
                    "mesh3d": [
                      {
                        "colorbar": {
                          "outlinewidth": 0,
                          "ticks": ""
                        },
                        "type": "mesh3d"
                      }
                    ],
                    "parcoords": [
                      {
                        "line": {
                          "colorbar": {
                            "outlinewidth": 0,
                            "ticks": ""
                          }
                        },
                        "type": "parcoords"
                      }
                    ],
                    "pie": [
                      {
                        "automargin": true,
                        "type": "pie"
                      }
                    ],
                    "scatter": [
                      {
                        "fillpattern": {
                          "fillmode": "overlay",
                          "size": 10,
                          "solidity": 0.2
                        },
                        "type": "scatter"
                      }
                    ],
                    "scatter3d": [
                      {
                        "line": {
                          "colorbar": {
                            "outlinewidth": 0,
                            "ticks": ""
                          }
                        },
                        "marker": {
                          "colorbar": {
                            "outlinewidth": 0,
                            "ticks": ""
                          }
                        },
                        "type": "scatter3d"
                      }
                    ],
                    "scattercarpet": [
                      {
                        "marker": {
                          "colorbar": {
                            "outlinewidth": 0,
                            "ticks": ""
                          }
                        },
                        "type": "scattercarpet"
                      }
                    ],
                    "scattergeo": [
                      {
                        "marker": {
                          "colorbar": {
                            "outlinewidth": 0,
                            "ticks": ""
                          }
                        },
                        "type": "scattergeo"
                      }
                    ],
                    "scattergl": [
                      {
                        "marker": {
                          "colorbar": {
                            "outlinewidth": 0,
                            "ticks": ""
                          }
                        },
                        "type": "scattergl"
                      }
                    ],
                    "scattermapbox": [
                      {
                        "marker": {
                          "colorbar": {
                            "outlinewidth": 0,
                            "ticks": ""
                          }
                        },
                        "type": "scattermapbox"
                      }
                    ],
                    "scatterpolar": [
                      {
                        "marker": {
                          "colorbar": {
                            "outlinewidth": 0,
                            "ticks": ""
                          }
                        },
                        "type": "scatterpolar"
                      }
                    ],
                    "scatterpolargl": [
                      {
                        "marker": {
                          "colorbar": {
                            "outlinewidth": 0,
                            "ticks": ""
                          }
                        },
                        "type": "scatterpolargl"
                      }
                    ],
                    "scatterternary": [
                      {
                        "marker": {
                          "colorbar": {
                            "outlinewidth": 0,
                            "ticks": ""
                          }
                        },
                        "type": "scatterternary"
                      }
                    ],
                    "surface": [
                      {
                        "colorbar": {
                          "outlinewidth": 0,
                          "ticks": ""
                        },
                        "colorscale": [
                          [
                            0,
                            "#0d0887"
                          ],
                          [
                            0.1111111111111111,
                            "#46039f"
                          ],
                          [
                            0.2222222222222222,
                            "#7201a8"
                          ],
                          [
                            0.3333333333333333,
                            "#9c179e"
                          ],
                          [
                            0.4444444444444444,
                            "#bd3786"
                          ],
                          [
                            0.5555555555555556,
                            "#d8576b"
                          ],
                          [
                            0.6666666666666666,
                            "#ed7953"
                          ],
                          [
                            0.7777777777777778,
                            "#fb9f3a"
                          ],
                          [
                            0.8888888888888888,
                            "#fdca26"
                          ],
                          [
                            1,
                            "#f0f921"
                          ]
                        ],
                        "type": "surface"
                      }
                    ],
                    "table": [
                      {
                        "cells": {
                          "fill": {
                            "color": "#EBF0F8"
                          },
                          "line": {
                            "color": "white"
                          }
                        },
                        "header": {
                          "fill": {
                            "color": "#C8D4E3"
                          },
                          "line": {
                            "color": "white"
                          }
                        },
                        "type": "table"
                      }
                    ]
                  },
                  "layout": {
                    "annotationdefaults": {
                      "arrowcolor": "#2a3f5f",
                      "arrowhead": 0,
                      "arrowwidth": 1
                    },
                    "autotypenumbers": "strict",
                    "coloraxis": {
                      "colorbar": {
                        "outlinewidth": 0,
                        "ticks": ""
                      }
                    },
                    "colorscale": {
                      "diverging": [
                        [
                          0,
                          "#8e0152"
                        ],
                        [
                          0.1,
                          "#c51b7d"
                        ],
                        [
                          0.2,
                          "#de77ae"
                        ],
                        [
                          0.3,
                          "#f1b6da"
                        ],
                        [
                          0.4,
                          "#fde0ef"
                        ],
                        [
                          0.5,
                          "#f7f7f7"
                        ],
                        [
                          0.6,
                          "#e6f5d0"
                        ],
                        [
                          0.7,
                          "#b8e186"
                        ],
                        [
                          0.8,
                          "#7fbc41"
                        ],
                        [
                          0.9,
                          "#4d9221"
                        ],
                        [
                          1,
                          "#276419"
                        ]
                      ],
                      "sequential": [
                        [
                          0,
                          "#0d0887"
                        ],
                        [
                          0.1111111111111111,
                          "#46039f"
                        ],
                        [
                          0.2222222222222222,
                          "#7201a8"
                        ],
                        [
                          0.3333333333333333,
                          "#9c179e"
                        ],
                        [
                          0.4444444444444444,
                          "#bd3786"
                        ],
                        [
                          0.5555555555555556,
                          "#d8576b"
                        ],
                        [
                          0.6666666666666666,
                          "#ed7953"
                        ],
                        [
                          0.7777777777777778,
                          "#fb9f3a"
                        ],
                        [
                          0.8888888888888888,
                          "#fdca26"
                        ],
                        [
                          1,
                          "#f0f921"
                        ]
                      ],
                      "sequentialminus": [
                        [
                          0,
                          "#0d0887"
                        ],
                        [
                          0.1111111111111111,
                          "#46039f"
                        ],
                        [
                          0.2222222222222222,
                          "#7201a8"
                        ],
                        [
                          0.3333333333333333,
                          "#9c179e"
                        ],
                        [
                          0.4444444444444444,
                          "#bd3786"
                        ],
                        [
                          0.5555555555555556,
                          "#d8576b"
                        ],
                        [
                          0.6666666666666666,
                          "#ed7953"
                        ],
                        [
                          0.7777777777777778,
                          "#fb9f3a"
                        ],
                        [
                          0.8888888888888888,
                          "#fdca26"
                        ],
                        [
                          1,
                          "#f0f921"
                        ]
                      ]
                    },
                    "colorway": [
                      "#636efa",
                      "#EF553B",
                      "#00cc96",
                      "#ab63fa",
                      "#FFA15A",
                      "#19d3f3",
                      "#FF6692",
                      "#B6E880",
                      "#FF97FF",
                      "#FECB52"
                    ],
                    "font": {
                      "color": "#2a3f5f"
                    },
                    "geo": {
                      "bgcolor": "white",
                      "lakecolor": "white",
                      "landcolor": "#E5ECF6",
                      "showlakes": true,
                      "showland": true,
                      "subunitcolor": "white"
                    },
                    "hoverlabel": {
                      "align": "left"
                    },
                    "hovermode": "closest",
                    "mapbox": {
                      "style": "light"
                    },
                    "paper_bgcolor": "white",
                    "plot_bgcolor": "#E5ECF6",
                    "polar": {
                      "angularaxis": {
                        "gridcolor": "white",
                        "linecolor": "white",
                        "ticks": ""
                      },
                      "bgcolor": "#E5ECF6",
                      "radialaxis": {
                        "gridcolor": "white",
                        "linecolor": "white",
                        "ticks": ""
                      }
                    },
                    "scene": {
                      "xaxis": {
                        "backgroundcolor": "#E5ECF6",
                        "gridcolor": "white",
                        "gridwidth": 2,
                        "linecolor": "white",
                        "showbackground": true,
                        "ticks": "",
                        "zerolinecolor": "white"
                      },
                      "yaxis": {
                        "backgroundcolor": "#E5ECF6",
                        "gridcolor": "white",
                        "gridwidth": 2,
                        "linecolor": "white",
                        "showbackground": true,
                        "ticks": "",
                        "zerolinecolor": "white"
                      },
                      "zaxis": {
                        "backgroundcolor": "#E5ECF6",
                        "gridcolor": "white",
                        "gridwidth": 2,
                        "linecolor": "white",
                        "showbackground": true,
                        "ticks": "",
                        "zerolinecolor": "white"
                      }
                    },
                    "shapedefaults": {
                      "line": {
                        "color": "#2a3f5f"
                      }
                    },
                    "ternary": {
                      "aaxis": {
                        "gridcolor": "white",
                        "linecolor": "white",
                        "ticks": ""
                      },
                      "baxis": {
                        "gridcolor": "white",
                        "linecolor": "white",
                        "ticks": ""
                      },
                      "bgcolor": "#E5ECF6",
                      "caxis": {
                        "gridcolor": "white",
                        "linecolor": "white",
                        "ticks": ""
                      }
                    },
                    "title": {
                      "x": 0.05
                    },
                    "xaxis": {
                      "automargin": true,
                      "gridcolor": "white",
                      "linecolor": "white",
                      "ticks": "",
                      "title": {
                        "standoff": 15
                      },
                      "zerolinecolor": "white",
                      "zerolinewidth": 2
                    },
                    "yaxis": {
                      "automargin": true,
                      "gridcolor": "white",
                      "linecolor": "white",
                      "ticks": "",
                      "title": {
                        "standoff": 15
                      },
                      "zerolinecolor": "white",
                      "zerolinewidth": 2
                    }
                  }
                }
              }
            }
          },
          "metadata": {},
          "output_type": "display_data"
        }
      ],
      "source": [
        "overall_point_cloud_plot = gtda.plotting.plot_point_cloud(overall_point_clouds[print_obj])\n",
        "display(overall_point_cloud_plot)\n",
        "overall_point_cloud_plot.write_image(file = f\"{subj}/{exp}/overall_point_cloud.svg\", format = \"svg\")"
      ]
    },
    {
      "cell_type": "markdown",
      "metadata": {},
      "source": [
        "#### VietorisRipsPersistence"
      ]
    },
    {
      "cell_type": "code",
      "execution_count": null,
      "metadata": {},
      "outputs": [
        {
          "name": "stdout",
          "output_type": "stream",
          "text": [
            "(1180, 562, 3)\n"
          ]
        }
      ],
      "source": [
        "overall_persistence = gtda.homology.VietorisRipsPersistence(homology_dimensions = OVERALL_HOMOLOGY_DIMENSIONS, n_jobs = -1)\n",
        "overall_diagrams = overall_persistence.fit_transform(overall_point_clouds)\n",
        "numpy.save(f\"{subj}/{exp}/overall_diagrams.npy\", overall_diagrams)\n",
        "print(overall_diagrams.shape)"
      ]
    },
    {
      "cell_type": "code",
      "execution_count": null,
      "metadata": {},
      "outputs": [
        {
          "data": {
            "application/vnd.plotly.v1+json": {
              "config": {
                "plotlyServerURL": "https://plot.ly"
              },
              "data": [
                {
                  "hoverinfo": "none",
                  "line": {
                    "color": "black",
                    "dash": "dash",
                    "width": 1
                  },
                  "mode": "lines",
                  "showlegend": false,
                  "type": "scatter",
                  "x": [
                    0.00011503356523462571,
                    0.00018841003606212325
                  ],
                  "y": [
                    0.00011503356523462571,
                    0.00018841003606212325
                  ]
                },
                {
                  "hoverinfo": "text",
                  "hovertext": [
                    "(0.00016874884022399783, 0.00017314897559117526)",
                    "(0.00016603527183178812, 0.00016713020158931613)",
                    "(0.00016339682042598724, 0.00017883285181596875)",
                    "(0.0001626199227757752, 0.00016321454313583672)",
                    "(0.00015824184811208397, 0.00016008441161829978)",
                    "(0.0001549673906993121, 0.00015550904208794236)",
                    "(0.0001535752380732447, 0.00015446012548636645)",
                    "(0.00015225914830807596, 0.00015518323925789446)",
                    "(0.00015224468370433897, 0.00015636028547305614)",
                    "(0.00015116379654500633, 0.00015294071636162698)",
                    "(0.0001503720268374309, 0.00015302524843718857)",
                    "(0.0001502145896665752, 0.00015460488793905824)",
                    "(0.00014908198500052094, 0.00015237025218084455)",
                    "(0.00014873332111164927, 0.000152123742736876)",
                    "(0.00014850113075226545, 0.00015289294242393225)",
                    "(0.00014844012912362814, 0.00015048291243147105)",
                    "(0.000148206643643789, 0.00015905144391581416)",
                    "(0.00014808468404226005, 0.00015282331150956452)",
                    "(0.00014799040218349546, 0.00015011483628768474)",
                    "(0.00014742124767508358, 0.00014790789282415062)",
                    "(0.00014693793491460383, 0.00015023337618913502)",
                    "(0.00014604625175707042, 0.00015150103718042374)",
                    "(0.00014576161629520357, 0.0001459446648368612)",
                    "(0.0001456583122489974, 0.00014754143194295466)",
                    "(0.00014563467993866652, 0.00015208277909550816)",
                    "(0.0001455682358937338, 0.00015654362505301833)",
                    "(0.00014532168279401958, 0.0001473681622883305)",
                    "(0.00014484667917713523, 0.00015176685701590031)",
                    "(0.00014470962923951447, 0.00014519131218548864)",
                    "(0.00014451902825385332, 0.00015032195369713008)",
                    "(0.00014419754734262824, 0.00014792212459724396)",
                    "(0.00014413475582841784, 0.00014884561824146658)",
                    "(0.0001428171235602349, 0.00014790789282415062)",
                    "(0.0001426810777047649, 0.00014963529247324914)",
                    "(0.00014203721366357058, 0.0001461348292650655)",
                    "(0.00014189054490998387, 0.0001462359941797331)",
                    "(0.00014186694170348346, 0.00014587788609787822)",
                    "(0.00014183380699250847, 0.00014410342555493116)",
                    "(0.0001417892926838249, 0.00015542506298515946)",
                    "(0.00014147107140161097, 0.00014194186951499432)",
                    "(0.00014138544793240726, 0.00014380505308508873)",
                    "(0.00014122948050498962, 0.00014192353410180658)",
                    "(0.000140977994306013, 0.0001466208341298625)",
                    "(0.00014051483594812453, 0.0001419653999619186)",
                    "(0.00014037336222827435, 0.00014286884106695652)",
                    "(0.00014036998618394136, 0.00014328879478853196)",
                    "(0.0001399220054736361, 0.00014182331506162882)",
                    "(0.00013981747906655073, 0.00014247123908717185)",
                    "(0.00013963143283035606, 0.00014647073112428188)",
                    "(0.00013954617315903306, 0.00014278826711233705)",
                    "(0.00013907586981076747, 0.00014701377949677408)",
                    "(0.00013905145169701427, 0.0001525595289422199)",
                    "(0.00013870075054001063, 0.0001411161501891911)",
                    "(0.00013859586033504456, 0.000139664945891127)",
                    "(0.00013843619672115892, 0.00014593149535357952)",
                    "(0.00013818181469105184, 0.00014555855887010694)",
                    "(0.0001377939770463854, 0.00015209056437015533)",
                    "(0.00013763905735686421, 0.00014158197154756635)",
                    "(0.00013755762483924627, 0.00013849243987351656)",
                    "(0.00013730501814279705, 0.00014278826711233705)",
                    "(0.00013725008466280997, 0.0001420351181877777)",
                    "(0.00013724021846428514, 0.00013880981714464724)",
                    "(0.00013693890650756657, 0.00013820121239405125)",
                    "(0.00013669308100361377, 0.0001488149573560804)",
                    "(0.0001364341442240402, 0.00015070565859787166)",
                    "(0.00013636510993819684, 0.00013964044046588242)",
                    "(0.00013588363071903586, 0.00014131297939457)",
                    "(0.000135801310534589, 0.0001390178076690063)",
                    "(0.00013570438022725284, 0.00014298409223556519)",
                    "(0.00013567005225922912, 0.00014240691962186247)",
                    "(0.00013561394007410854, 0.00013568028225563467)",
                    "(0.0001355798012809828, 0.00013819788000546396)",
                    "(0.00013523173402063549, 0.00013819788000546396)",
                    "(0.00013513515295926481, 0.0001355785207124427)",
                    "(0.000134868489112705, 0.0001499736972618848)",
                    "(0.00013473001308739185, 0.0001423917565261945)",
                    "(0.00013458263128995895, 0.00013995141489431262)",
                    "(0.0001344707707175985, 0.0001398280874127522)",
                    "(0.00013441982446238399, 0.000144430116051808)",
                    "(0.000134390385937877, 0.00013822776963934302)",
                    "(0.00013418705202639103, 0.00015087646897882223)",
                    "(0.00013399413728620857, 0.00013517570914700627)",
                    "(0.00013367790961638093, 0.0001423532812623307)",
                    "(0.00013353816757444292, 0.00013846473302692175)",
                    "(0.00013339912402443588, 0.0001349046069663018)",
                    "(0.0001332626270595938, 0.00015280497609637678)",
                    "(0.00013319827849045396, 0.00013526726979762316)",
                    "(0.000132921792101115, 0.0001412573765264824)",
                    "(0.0001329019432887435, 0.0001539887161925435)",
                    "(0.00013286391913425177, 0.00014643270696979016)",
                    "(0.0001327398931607604, 0.00013399324961937964)",
                    "(0.00013235742517281324, 0.00013315796968527138)",
                    "(0.00013202600530348718, 0.0001511474110884592)",
                    "(0.0001319300354225561, 0.00013542200031224638)",
                    "(0.00013178211520425975, 0.0001505249529145658)",
                    "(0.00013168826990295202, 0.0001448521506972611)",
                    "(0.00013095985923428088, 0.00015296213678084314)",
                    "(0.0001309370418312028, 0.00013946753460913897)",
                    "(0.0001306202611885965, 0.00014386312977876514)",
                    "(0.00013058786862529814, 0.00013424175267573446)",
                    "(0.0001304174802498892, 0.00013160923845134676)",
                    "(0.00013041066995356232, 0.0001345667988061905)",
                    "(0.00013025077350903302, 0.00015158011228777468)",
                    "(0.00012985317152924836, 0.00013555536861531436)",
                    "(0.00012960939784534276, 0.00013908579421695322)",
                    "(0.00012941162276547402, 0.00014676332648377866)",
                    "(0.00012916115520056337, 0.00013390187814366072)",
                    "(0.00012897624401375651, 0.00013035806478001177)",
                    "(0.00012880693248007447, 0.0001297316630370915)",
                    "(0.00012855780369136482, 0.0001492219016654417)",
                    "(0.00012850445637013763, 0.00014076978550292552)",
                    "(0.00012841285206377506, 0.00014716872829012573)",
                    "(0.00012830947525799274, 0.00013075880997348577)",
                    "(0.00012824706209357828, 0.0001518008066341281)",
                    "(0.00012819297262467444, 0.000131054621306248)",
                    "(0.00012818796676583588, 0.00013079887139610946)",
                    "(0.00012814758520107716, 0.00013242561544757336)",
                    "(0.0001281310833292082, 0.0001299197756452486)",
                    "(0.0001279807765968144, 0.00013784151815343648)",
                    "(0.0001278838753933087, 0.00014058066881261766)",
                    "(0.00012769580644089729, 0.00013167048746254295)",
                    "(0.00012767808220814914, 0.0001396684965584427)",
                    "(0.0001275323302252218, 0.00013160923845134676)",
                    "(0.00012740194506477565, 0.0001297316630370915)",
                    "(0.0001272514637093991, 0.00012930658704135567)",
                    "(0.00012723008694592863, 0.00013307598419487476)",
                    "(0.0001270479551749304, 0.0001541089586680755)",
                    "(0.00012700037041213363, 0.00014607944467570633)",
                    "(0.00012692608288489282, 0.00015034718671813607)",
                    "(0.0001268722116947174, 0.0001343889452982694)",
                    "(0.00012662942754104733, 0.00013185614079702646)",
                    "(0.00012654669990297407, 0.0001317369460593909)",
                    "(0.00012606906238943338, 0.0001312529930146411)",
                    "(0.00012590405822265893, 0.00013656436931341887)",
                    "(0.0001257749681826681, 0.00014945078874006867)",
                    "(0.00012572910054586828, 0.00013619993114843965)",
                    "(0.00012550600513350219, 0.00014207095955498517)",
                    "(0.0001251467183465138, 0.000149172919918783)",
                    "(0.0001248363550985232, 0.0001498678175266832)",
                    "(0.0001247861364390701, 0.00015004021406639367)",
                    "(0.00012458121636882424, 0.00013123347889631987)",
                    "(0.00012452351802494377, 0.00013921422942075878)",
                    "(0.00012449354107957333, 0.00013701722491532564)",
                    "(0.00012425254681147635, 0.00013562811363954097)",
                    "(0.00012418355618137866, 0.0001355720014544204)",
                    "(0.00012347551819402725, 0.0001333698892267421)",
                    "(0.0001234239462064579, 0.0001365976786473766)",
                    "(0.0001232732174685225, 0.0001419568434357643)",
                    "(0.0001229897898156196, 0.00014226912753656507)",
                    "(0.00012184130901005119, 0.0001501283113611862)",
                    "(0.00012183970829937607, 0.00014052096230443567)",
                    "(0.00012022988812532276, 0.00014949572505429387)",
                    "(0.00012016182154184207, 0.00014763693616259843)",
                    "(0.0001189983740914613, 0.00013307598419487476)",
                    "(0.00011872244067490101, 0.000139281852170825)",
                    "(0.0001173604468931444, 0.0001200325641548261)",
                    "(0.00011644465121207759, 0.00015867437468841672)"
                  ],
                  "mode": "markers",
                  "name": "H1",
                  "type": "scatter",
                  "x": [
                    0.00016874884022399783,
                    0.00016603527183178812,
                    0.00016339682042598724,
                    0.0001626199227757752,
                    0.00015824184811208397,
                    0.0001549673906993121,
                    0.0001535752380732447,
                    0.00015225914830807596,
                    0.00015224468370433897,
                    0.00015116379654500633,
                    0.0001503720268374309,
                    0.0001502145896665752,
                    0.00014908198500052094,
                    0.00014873332111164927,
                    0.00014850113075226545,
                    0.00014844012912362814,
                    0.000148206643643789,
                    0.00014808468404226005,
                    0.00014799040218349546,
                    0.00014742124767508358,
                    0.00014693793491460383,
                    0.00014604625175707042,
                    0.00014576161629520357,
                    0.0001456583122489974,
                    0.00014563467993866652,
                    0.0001455682358937338,
                    0.00014532168279401958,
                    0.00014484667917713523,
                    0.00014470962923951447,
                    0.00014451902825385332,
                    0.00014419754734262824,
                    0.00014413475582841784,
                    0.0001428171235602349,
                    0.0001426810777047649,
                    0.00014203721366357058,
                    0.00014189054490998387,
                    0.00014186694170348346,
                    0.00014183380699250847,
                    0.0001417892926838249,
                    0.00014147107140161097,
                    0.00014138544793240726,
                    0.00014122948050498962,
                    0.000140977994306013,
                    0.00014051483594812453,
                    0.00014037336222827435,
                    0.00014036998618394136,
                    0.0001399220054736361,
                    0.00013981747906655073,
                    0.00013963143283035606,
                    0.00013954617315903306,
                    0.00013907586981076747,
                    0.00013905145169701427,
                    0.00013870075054001063,
                    0.00013859586033504456,
                    0.00013843619672115892,
                    0.00013818181469105184,
                    0.0001377939770463854,
                    0.00013763905735686421,
                    0.00013755762483924627,
                    0.00013730501814279705,
                    0.00013725008466280997,
                    0.00013724021846428514,
                    0.00013693890650756657,
                    0.00013669308100361377,
                    0.0001364341442240402,
                    0.00013636510993819684,
                    0.00013588363071903586,
                    0.000135801310534589,
                    0.00013570438022725284,
                    0.00013567005225922912,
                    0.00013561394007410854,
                    0.0001355798012809828,
                    0.00013523173402063549,
                    0.00013513515295926481,
                    0.000134868489112705,
                    0.00013473001308739185,
                    0.00013458263128995895,
                    0.0001344707707175985,
                    0.00013441982446238399,
                    0.000134390385937877,
                    0.00013418705202639103,
                    0.00013399413728620857,
                    0.00013367790961638093,
                    0.00013353816757444292,
                    0.00013339912402443588,
                    0.0001332626270595938,
                    0.00013319827849045396,
                    0.000132921792101115,
                    0.0001329019432887435,
                    0.00013286391913425177,
                    0.0001327398931607604,
                    0.00013235742517281324,
                    0.00013202600530348718,
                    0.0001319300354225561,
                    0.00013178211520425975,
                    0.00013168826990295202,
                    0.00013095985923428088,
                    0.0001309370418312028,
                    0.0001306202611885965,
                    0.00013058786862529814,
                    0.0001304174802498892,
                    0.00013041066995356232,
                    0.00013025077350903302,
                    0.00012985317152924836,
                    0.00012960939784534276,
                    0.00012941162276547402,
                    0.00012916115520056337,
                    0.00012897624401375651,
                    0.00012880693248007447,
                    0.00012855780369136482,
                    0.00012850445637013763,
                    0.00012841285206377506,
                    0.00012830947525799274,
                    0.00012824706209357828,
                    0.00012819297262467444,
                    0.00012818796676583588,
                    0.00012814758520107716,
                    0.0001281310833292082,
                    0.0001279807765968144,
                    0.0001278838753933087,
                    0.00012769580644089729,
                    0.00012767808220814914,
                    0.0001275323302252218,
                    0.00012740194506477565,
                    0.0001272514637093991,
                    0.00012723008694592863,
                    0.0001270479551749304,
                    0.00012700037041213363,
                    0.00012692608288489282,
                    0.0001268722116947174,
                    0.00012662942754104733,
                    0.00012654669990297407,
                    0.00012606906238943338,
                    0.00012590405822265893,
                    0.0001257749681826681,
                    0.00012572910054586828,
                    0.00012550600513350219,
                    0.0001251467183465138,
                    0.0001248363550985232,
                    0.0001247861364390701,
                    0.00012458121636882424,
                    0.00012452351802494377,
                    0.00012449354107957333,
                    0.00012425254681147635,
                    0.00012418355618137866,
                    0.00012347551819402725,
                    0.0001234239462064579,
                    0.0001232732174685225,
                    0.0001229897898156196,
                    0.00012184130901005119,
                    0.00012183970829937607,
                    0.00012022988812532276,
                    0.00012016182154184207,
                    0.0001189983740914613,
                    0.00011872244067490101,
                    0.0001173604468931444,
                    0.00011644465121207759
                  ],
                  "y": [
                    0.00017314897559117526,
                    0.00016713020158931613,
                    0.00017883285181596875,
                    0.00016321454313583672,
                    0.00016008441161829978,
                    0.00015550904208794236,
                    0.00015446012548636645,
                    0.00015518323925789446,
                    0.00015636028547305614,
                    0.00015294071636162698,
                    0.00015302524843718857,
                    0.00015460488793905824,
                    0.00015237025218084455,
                    0.000152123742736876,
                    0.00015289294242393225,
                    0.00015048291243147105,
                    0.00015905144391581416,
                    0.00015282331150956452,
                    0.00015011483628768474,
                    0.00014790789282415062,
                    0.00015023337618913502,
                    0.00015150103718042374,
                    0.0001459446648368612,
                    0.00014754143194295466,
                    0.00015208277909550816,
                    0.00015654362505301833,
                    0.0001473681622883305,
                    0.00015176685701590031,
                    0.00014519131218548864,
                    0.00015032195369713008,
                    0.00014792212459724396,
                    0.00014884561824146658,
                    0.00014790789282415062,
                    0.00014963529247324914,
                    0.0001461348292650655,
                    0.0001462359941797331,
                    0.00014587788609787822,
                    0.00014410342555493116,
                    0.00015542506298515946,
                    0.00014194186951499432,
                    0.00014380505308508873,
                    0.00014192353410180658,
                    0.0001466208341298625,
                    0.0001419653999619186,
                    0.00014286884106695652,
                    0.00014328879478853196,
                    0.00014182331506162882,
                    0.00014247123908717185,
                    0.00014647073112428188,
                    0.00014278826711233705,
                    0.00014701377949677408,
                    0.0001525595289422199,
                    0.0001411161501891911,
                    0.000139664945891127,
                    0.00014593149535357952,
                    0.00014555855887010694,
                    0.00015209056437015533,
                    0.00014158197154756635,
                    0.00013849243987351656,
                    0.00014278826711233705,
                    0.0001420351181877777,
                    0.00013880981714464724,
                    0.00013820121239405125,
                    0.0001488149573560804,
                    0.00015070565859787166,
                    0.00013964044046588242,
                    0.00014131297939457,
                    0.0001390178076690063,
                    0.00014298409223556519,
                    0.00014240691962186247,
                    0.00013568028225563467,
                    0.00013819788000546396,
                    0.00013819788000546396,
                    0.0001355785207124427,
                    0.0001499736972618848,
                    0.0001423917565261945,
                    0.00013995141489431262,
                    0.0001398280874127522,
                    0.000144430116051808,
                    0.00013822776963934302,
                    0.00015087646897882223,
                    0.00013517570914700627,
                    0.0001423532812623307,
                    0.00013846473302692175,
                    0.0001349046069663018,
                    0.00015280497609637678,
                    0.00013526726979762316,
                    0.0001412573765264824,
                    0.0001539887161925435,
                    0.00014643270696979016,
                    0.00013399324961937964,
                    0.00013315796968527138,
                    0.0001511474110884592,
                    0.00013542200031224638,
                    0.0001505249529145658,
                    0.0001448521506972611,
                    0.00015296213678084314,
                    0.00013946753460913897,
                    0.00014386312977876514,
                    0.00013424175267573446,
                    0.00013160923845134676,
                    0.0001345667988061905,
                    0.00015158011228777468,
                    0.00013555536861531436,
                    0.00013908579421695322,
                    0.00014676332648377866,
                    0.00013390187814366072,
                    0.00013035806478001177,
                    0.0001297316630370915,
                    0.0001492219016654417,
                    0.00014076978550292552,
                    0.00014716872829012573,
                    0.00013075880997348577,
                    0.0001518008066341281,
                    0.000131054621306248,
                    0.00013079887139610946,
                    0.00013242561544757336,
                    0.0001299197756452486,
                    0.00013784151815343648,
                    0.00014058066881261766,
                    0.00013167048746254295,
                    0.0001396684965584427,
                    0.00013160923845134676,
                    0.0001297316630370915,
                    0.00012930658704135567,
                    0.00013307598419487476,
                    0.0001541089586680755,
                    0.00014607944467570633,
                    0.00015034718671813607,
                    0.0001343889452982694,
                    0.00013185614079702646,
                    0.0001317369460593909,
                    0.0001312529930146411,
                    0.00013656436931341887,
                    0.00014945078874006867,
                    0.00013619993114843965,
                    0.00014207095955498517,
                    0.000149172919918783,
                    0.0001498678175266832,
                    0.00015004021406639367,
                    0.00013123347889631987,
                    0.00013921422942075878,
                    0.00013701722491532564,
                    0.00013562811363954097,
                    0.0001355720014544204,
                    0.0001333698892267421,
                    0.0001365976786473766,
                    0.0001419568434357643,
                    0.00014226912753656507,
                    0.0001501283113611862,
                    0.00014052096230443567,
                    0.00014949572505429387,
                    0.00014763693616259843,
                    0.00013307598419487476,
                    0.000139281852170825,
                    0.0001200325641548261,
                    0.00015867437468841672
                  ]
                },
                {
                  "hoverinfo": "text",
                  "hovertext": [
                    "(0.00018266595725435764, 0.0001842416968429461)",
                    "(0.00017972417117562145, 0.00017974777438212186)",
                    "(0.0001786450739018619, 0.00017919456877280027)",
                    "(0.00017586626927368343, 0.00017660087905824184)",
                    "(0.00017105099686887115, 0.00017204626055900007)",
                    "(0.00016940952627919614, 0.00017029172158800066)",
                    "(0.00016940697969403118, 0.00017008898430503905)",
                    "(0.00016903351934161037, 0.00017006426060106605)",
                    "(0.0001687577023403719, 0.0001688610209384933)",
                    "(0.0001682611764408648, 0.00016878906171768904)",
                    "(0.00016606581630185246, 0.00016749567294027656)",
                    "(0.00016576195775996894, 0.000166218145750463)",
                    "(0.00016533977759536356, 0.0001683397131273523)",
                    "(0.00016401702305302024, 0.00016531324945390224)",
                    "(0.0001635093940421939, 0.00016639949171803892)",
                    "(0.0001632070488994941, 0.0001695453393040225)",
                    "(0.00016250372573267668, 0.00017124824807979167)",
                    "(0.00015754965716041625, 0.00016256193339359015)",
                    "(0.0001574665802763775, 0.00016266781312879175)",
                    "(0.00015697073831688613, 0.00016383036563638598)",
                    "(0.0001568963925819844, 0.00015788368182256818)",
                    "(0.0001566542632644996, 0.00015793941565789282)",
                    "(0.00015654362505301833, 0.00015750004968140274)",
                    "(0.00015593876014463603, 0.0001582043623784557)",
                    "(0.00015571537369396538, 0.0001587004226166755)",
                    "(0.00015569738752674311, 0.00015731382882222533)",
                    "(0.00015533590340055525, 0.00015582857304252684)",
                    "(0.0001552430185256526, 0.00015685835387557745)",
                    "(0.0001552088651806116, 0.000157968228450045)",
                    "(0.0001550293673062697, 0.00015526050992775708)",
                    "(0.00015458546113222837, 0.00015580630861222744)",
                    "(0.00015430405619554222, 0.00015494643594138324)",
                    "(0.00015428525512106717, 0.00016002326447051018)",
                    "(0.00015428525512106717, 0.00015936109411995858)",
                    "(0.00015348635497502983, 0.00015594565775245428)",
                    "(0.0001533850736450404, 0.0001569824235048145)",
                    "(0.00015329486632253975, 0.0001546746352687478)",
                    "(0.00015314760094042867, 0.00015635145246051252)",
                    "(0.00015309224545489997, 0.00015685835387557745)",
                    "(0.00015295583580154926, 0.0001591964391991496)",
                    "(0.00015286229609046131, 0.0001539777294965461)",
                    "(0.00015264858666341752, 0.00015501969028264284)",
                    "(0.00015237025218084455, 0.00015576923033222556)",
                    "(0.00015212222933769226, 0.00015702172822784632)",
                    "(0.00015032195369713008, 0.00015149191312957555)",
                    "(0.00014963770809117705, 0.0001575378846609965)",
                    "(0.00014954979997128248, 0.0001629291073186323)",
                    "(0.0001493434829171747, 0.00015681363584008068)",
                    "(0.0001476140896556899, 0.00015135473222471774)",
                    "(0.0001471334689995274, 0.00014874951739329845)",
                    "(0.00014691260003019124, 0.00015440277638845146)",
                    "(0.00014577669207938015, 0.0001473264128435403)",
                    "(0.0001449220289941877, 0.00014607328921556473)",
                    "(0.00014414680481422693, 0.0001458449987694621)",
                    "(0.00014329653640743345, 0.00014607328921556473)",
                    "(0.0001430492993677035, 0.00014406823902390897)",
                    "(0.00014286364603322, 0.0001462359941797331)",
                    "(0.00014233877300284803, 0.00014406823902390897)",
                    "(0.00014233063848223537, 0.00014474721683654934)",
                    "(0.00014158197154756635, 0.00015222358342725784)",
                    "(0.00014076978550292552, 0.00014679307059850544)",
                    "(0.00013928543194197118, 0.00014610284415539354)",
                    "(0.00013674046203959733, 0.00013855216093361378)"
                  ],
                  "mode": "markers",
                  "name": "H2",
                  "type": "scatter",
                  "x": [
                    0.00018266595725435764,
                    0.00017972417117562145,
                    0.0001786450739018619,
                    0.00017586626927368343,
                    0.00017105099686887115,
                    0.00016940952627919614,
                    0.00016940697969403118,
                    0.00016903351934161037,
                    0.0001687577023403719,
                    0.0001682611764408648,
                    0.00016606581630185246,
                    0.00016576195775996894,
                    0.00016533977759536356,
                    0.00016401702305302024,
                    0.0001635093940421939,
                    0.0001632070488994941,
                    0.00016250372573267668,
                    0.00015754965716041625,
                    0.0001574665802763775,
                    0.00015697073831688613,
                    0.0001568963925819844,
                    0.0001566542632644996,
                    0.00015654362505301833,
                    0.00015593876014463603,
                    0.00015571537369396538,
                    0.00015569738752674311,
                    0.00015533590340055525,
                    0.0001552430185256526,
                    0.0001552088651806116,
                    0.0001550293673062697,
                    0.00015458546113222837,
                    0.00015430405619554222,
                    0.00015428525512106717,
                    0.00015428525512106717,
                    0.00015348635497502983,
                    0.0001533850736450404,
                    0.00015329486632253975,
                    0.00015314760094042867,
                    0.00015309224545489997,
                    0.00015295583580154926,
                    0.00015286229609046131,
                    0.00015264858666341752,
                    0.00015237025218084455,
                    0.00015212222933769226,
                    0.00015032195369713008,
                    0.00014963770809117705,
                    0.00014954979997128248,
                    0.0001493434829171747,
                    0.0001476140896556899,
                    0.0001471334689995274,
                    0.00014691260003019124,
                    0.00014577669207938015,
                    0.0001449220289941877,
                    0.00014414680481422693,
                    0.00014329653640743345,
                    0.0001430492993677035,
                    0.00014286364603322,
                    0.00014233877300284803,
                    0.00014233063848223537,
                    0.00014158197154756635,
                    0.00014076978550292552,
                    0.00013928543194197118,
                    0.00013674046203959733
                  ],
                  "y": [
                    0.0001842416968429461,
                    0.00017974777438212186,
                    0.00017919456877280027,
                    0.00017660087905824184,
                    0.00017204626055900007,
                    0.00017029172158800066,
                    0.00017008898430503905,
                    0.00017006426060106605,
                    0.0001688610209384933,
                    0.00016878906171768904,
                    0.00016749567294027656,
                    0.000166218145750463,
                    0.0001683397131273523,
                    0.00016531324945390224,
                    0.00016639949171803892,
                    0.0001695453393040225,
                    0.00017124824807979167,
                    0.00016256193339359015,
                    0.00016266781312879175,
                    0.00016383036563638598,
                    0.00015788368182256818,
                    0.00015793941565789282,
                    0.00015750004968140274,
                    0.0001582043623784557,
                    0.0001587004226166755,
                    0.00015731382882222533,
                    0.00015582857304252684,
                    0.00015685835387557745,
                    0.000157968228450045,
                    0.00015526050992775708,
                    0.00015580630861222744,
                    0.00015494643594138324,
                    0.00016002326447051018,
                    0.00015936109411995858,
                    0.00015594565775245428,
                    0.0001569824235048145,
                    0.0001546746352687478,
                    0.00015635145246051252,
                    0.00015685835387557745,
                    0.0001591964391991496,
                    0.0001539777294965461,
                    0.00015501969028264284,
                    0.00015576923033222556,
                    0.00015702172822784632,
                    0.00015149191312957555,
                    0.0001575378846609965,
                    0.0001629291073186323,
                    0.00015681363584008068,
                    0.00015135473222471774,
                    0.00014874951739329845,
                    0.00015440277638845146,
                    0.0001473264128435403,
                    0.00014607328921556473,
                    0.0001458449987694621,
                    0.00014607328921556473,
                    0.00014406823902390897,
                    0.0001462359941797331,
                    0.00014406823902390897,
                    0.00014474721683654934,
                    0.00015222358342725784,
                    0.00014679307059850544,
                    0.00014610284415539354,
                    0.00013855216093361378
                  ]
                },
                {
                  "hoverinfo": "text",
                  "hovertext": [
                    "(0.00018611433915793896, 0.00018699895008467138)",
                    "(0.00018362498667556792, 0.00018381291010882705)",
                    "(0.00018184703367296606, 0.00018496446136850864)",
                    "(0.00017424758698325604, 0.0001753351098159328)",
                    "(0.0001727530761854723, 0.0001738779537845403)",
                    "(0.00017127965111285448, 0.000175216599018313)",
                    "(0.0001706087787169963, 0.0001719699939712882)",
                    "(0.00016881717601791024, 0.00016884591605048627), multiplicity: 2",
                    "(0.00016881717601791024, 0.00016884591605048627), multiplicity: 2",
                    "(0.0001651451748330146, 0.00016544754907954484)",
                    "(0.0001650545309530571, 0.00016670823970343918)",
                    "(0.0001641760318307206, 0.00016550064901821315)",
                    "(0.00016374302504118532, 0.00016544754907954484)",
                    "(0.00016369590593967587, 0.00016725895693525672)",
                    "(0.00016358913853764534, 0.00016444415086880326)",
                    "(0.00016201661492232233, 0.00016253761714324355)",
                    "(0.00016180150851141661, 0.00016294796660076827)",
                    "(0.00016082444926723838, 0.0001640402479097247)",
                    "(0.00015935942064970732, 0.00016165990382432938)",
                    "(0.00015788368182256818, 0.00016294796660076827)",
                    "(0.00015750266902614385, 0.0001576154463691637)",
                    "(0.00015746393182780594, 0.0001576154463691637)",
                    "(0.00015361950499936938, 0.00015403608267661184)",
                    "(0.00014829447900410742, 0.00014842869131825864)"
                  ],
                  "mode": "markers",
                  "name": "H3",
                  "type": "scatter",
                  "x": [
                    0.00018611433915793896,
                    0.00018362498667556792,
                    0.00018184703367296606,
                    0.00017424758698325604,
                    0.0001727530761854723,
                    0.00017127965111285448,
                    0.0001706087787169963,
                    0.00016881717601791024,
                    0.00016881717601791024,
                    0.0001651451748330146,
                    0.0001650545309530571,
                    0.0001641760318307206,
                    0.00016374302504118532,
                    0.00016369590593967587,
                    0.00016358913853764534,
                    0.00016201661492232233,
                    0.00016180150851141661,
                    0.00016082444926723838,
                    0.00015935942064970732,
                    0.00015788368182256818,
                    0.00015750266902614385,
                    0.00015746393182780594,
                    0.00015361950499936938,
                    0.00014829447900410742
                  ],
                  "y": [
                    0.00018699895008467138,
                    0.00018381291010882705,
                    0.00018496446136850864,
                    0.0001753351098159328,
                    0.0001738779537845403,
                    0.000175216599018313,
                    0.0001719699939712882,
                    0.00016884591605048627,
                    0.00016884591605048627,
                    0.00016544754907954484,
                    0.00016670823970343918,
                    0.00016550064901821315,
                    0.00016544754907954484,
                    0.00016725895693525672,
                    0.00016444415086880326,
                    0.00016253761714324355,
                    0.00016294796660076827,
                    0.0001640402479097247,
                    0.00016165990382432938,
                    0.00016294796660076827,
                    0.0001576154463691637,
                    0.0001576154463691637,
                    0.00015403608267661184,
                    0.00014842869131825864
                  ]
                }
              ],
              "layout": {
                "height": 500,
                "plot_bgcolor": "white",
                "template": {
                  "data": {
                    "bar": [
                      {
                        "error_x": {
                          "color": "#2a3f5f"
                        },
                        "error_y": {
                          "color": "#2a3f5f"
                        },
                        "marker": {
                          "line": {
                            "color": "#E5ECF6",
                            "width": 0.5
                          },
                          "pattern": {
                            "fillmode": "overlay",
                            "size": 10,
                            "solidity": 0.2
                          }
                        },
                        "type": "bar"
                      }
                    ],
                    "barpolar": [
                      {
                        "marker": {
                          "line": {
                            "color": "#E5ECF6",
                            "width": 0.5
                          },
                          "pattern": {
                            "fillmode": "overlay",
                            "size": 10,
                            "solidity": 0.2
                          }
                        },
                        "type": "barpolar"
                      }
                    ],
                    "carpet": [
                      {
                        "aaxis": {
                          "endlinecolor": "#2a3f5f",
                          "gridcolor": "white",
                          "linecolor": "white",
                          "minorgridcolor": "white",
                          "startlinecolor": "#2a3f5f"
                        },
                        "baxis": {
                          "endlinecolor": "#2a3f5f",
                          "gridcolor": "white",
                          "linecolor": "white",
                          "minorgridcolor": "white",
                          "startlinecolor": "#2a3f5f"
                        },
                        "type": "carpet"
                      }
                    ],
                    "choropleth": [
                      {
                        "colorbar": {
                          "outlinewidth": 0,
                          "ticks": ""
                        },
                        "type": "choropleth"
                      }
                    ],
                    "contour": [
                      {
                        "colorbar": {
                          "outlinewidth": 0,
                          "ticks": ""
                        },
                        "colorscale": [
                          [
                            0,
                            "#0d0887"
                          ],
                          [
                            0.1111111111111111,
                            "#46039f"
                          ],
                          [
                            0.2222222222222222,
                            "#7201a8"
                          ],
                          [
                            0.3333333333333333,
                            "#9c179e"
                          ],
                          [
                            0.4444444444444444,
                            "#bd3786"
                          ],
                          [
                            0.5555555555555556,
                            "#d8576b"
                          ],
                          [
                            0.6666666666666666,
                            "#ed7953"
                          ],
                          [
                            0.7777777777777778,
                            "#fb9f3a"
                          ],
                          [
                            0.8888888888888888,
                            "#fdca26"
                          ],
                          [
                            1,
                            "#f0f921"
                          ]
                        ],
                        "type": "contour"
                      }
                    ],
                    "contourcarpet": [
                      {
                        "colorbar": {
                          "outlinewidth": 0,
                          "ticks": ""
                        },
                        "type": "contourcarpet"
                      }
                    ],
                    "heatmap": [
                      {
                        "colorbar": {
                          "outlinewidth": 0,
                          "ticks": ""
                        },
                        "colorscale": [
                          [
                            0,
                            "#0d0887"
                          ],
                          [
                            0.1111111111111111,
                            "#46039f"
                          ],
                          [
                            0.2222222222222222,
                            "#7201a8"
                          ],
                          [
                            0.3333333333333333,
                            "#9c179e"
                          ],
                          [
                            0.4444444444444444,
                            "#bd3786"
                          ],
                          [
                            0.5555555555555556,
                            "#d8576b"
                          ],
                          [
                            0.6666666666666666,
                            "#ed7953"
                          ],
                          [
                            0.7777777777777778,
                            "#fb9f3a"
                          ],
                          [
                            0.8888888888888888,
                            "#fdca26"
                          ],
                          [
                            1,
                            "#f0f921"
                          ]
                        ],
                        "type": "heatmap"
                      }
                    ],
                    "heatmapgl": [
                      {
                        "colorbar": {
                          "outlinewidth": 0,
                          "ticks": ""
                        },
                        "colorscale": [
                          [
                            0,
                            "#0d0887"
                          ],
                          [
                            0.1111111111111111,
                            "#46039f"
                          ],
                          [
                            0.2222222222222222,
                            "#7201a8"
                          ],
                          [
                            0.3333333333333333,
                            "#9c179e"
                          ],
                          [
                            0.4444444444444444,
                            "#bd3786"
                          ],
                          [
                            0.5555555555555556,
                            "#d8576b"
                          ],
                          [
                            0.6666666666666666,
                            "#ed7953"
                          ],
                          [
                            0.7777777777777778,
                            "#fb9f3a"
                          ],
                          [
                            0.8888888888888888,
                            "#fdca26"
                          ],
                          [
                            1,
                            "#f0f921"
                          ]
                        ],
                        "type": "heatmapgl"
                      }
                    ],
                    "histogram": [
                      {
                        "marker": {
                          "pattern": {
                            "fillmode": "overlay",
                            "size": 10,
                            "solidity": 0.2
                          }
                        },
                        "type": "histogram"
                      }
                    ],
                    "histogram2d": [
                      {
                        "colorbar": {
                          "outlinewidth": 0,
                          "ticks": ""
                        },
                        "colorscale": [
                          [
                            0,
                            "#0d0887"
                          ],
                          [
                            0.1111111111111111,
                            "#46039f"
                          ],
                          [
                            0.2222222222222222,
                            "#7201a8"
                          ],
                          [
                            0.3333333333333333,
                            "#9c179e"
                          ],
                          [
                            0.4444444444444444,
                            "#bd3786"
                          ],
                          [
                            0.5555555555555556,
                            "#d8576b"
                          ],
                          [
                            0.6666666666666666,
                            "#ed7953"
                          ],
                          [
                            0.7777777777777778,
                            "#fb9f3a"
                          ],
                          [
                            0.8888888888888888,
                            "#fdca26"
                          ],
                          [
                            1,
                            "#f0f921"
                          ]
                        ],
                        "type": "histogram2d"
                      }
                    ],
                    "histogram2dcontour": [
                      {
                        "colorbar": {
                          "outlinewidth": 0,
                          "ticks": ""
                        },
                        "colorscale": [
                          [
                            0,
                            "#0d0887"
                          ],
                          [
                            0.1111111111111111,
                            "#46039f"
                          ],
                          [
                            0.2222222222222222,
                            "#7201a8"
                          ],
                          [
                            0.3333333333333333,
                            "#9c179e"
                          ],
                          [
                            0.4444444444444444,
                            "#bd3786"
                          ],
                          [
                            0.5555555555555556,
                            "#d8576b"
                          ],
                          [
                            0.6666666666666666,
                            "#ed7953"
                          ],
                          [
                            0.7777777777777778,
                            "#fb9f3a"
                          ],
                          [
                            0.8888888888888888,
                            "#fdca26"
                          ],
                          [
                            1,
                            "#f0f921"
                          ]
                        ],
                        "type": "histogram2dcontour"
                      }
                    ],
                    "mesh3d": [
                      {
                        "colorbar": {
                          "outlinewidth": 0,
                          "ticks": ""
                        },
                        "type": "mesh3d"
                      }
                    ],
                    "parcoords": [
                      {
                        "line": {
                          "colorbar": {
                            "outlinewidth": 0,
                            "ticks": ""
                          }
                        },
                        "type": "parcoords"
                      }
                    ],
                    "pie": [
                      {
                        "automargin": true,
                        "type": "pie"
                      }
                    ],
                    "scatter": [
                      {
                        "fillpattern": {
                          "fillmode": "overlay",
                          "size": 10,
                          "solidity": 0.2
                        },
                        "type": "scatter"
                      }
                    ],
                    "scatter3d": [
                      {
                        "line": {
                          "colorbar": {
                            "outlinewidth": 0,
                            "ticks": ""
                          }
                        },
                        "marker": {
                          "colorbar": {
                            "outlinewidth": 0,
                            "ticks": ""
                          }
                        },
                        "type": "scatter3d"
                      }
                    ],
                    "scattercarpet": [
                      {
                        "marker": {
                          "colorbar": {
                            "outlinewidth": 0,
                            "ticks": ""
                          }
                        },
                        "type": "scattercarpet"
                      }
                    ],
                    "scattergeo": [
                      {
                        "marker": {
                          "colorbar": {
                            "outlinewidth": 0,
                            "ticks": ""
                          }
                        },
                        "type": "scattergeo"
                      }
                    ],
                    "scattergl": [
                      {
                        "marker": {
                          "colorbar": {
                            "outlinewidth": 0,
                            "ticks": ""
                          }
                        },
                        "type": "scattergl"
                      }
                    ],
                    "scattermapbox": [
                      {
                        "marker": {
                          "colorbar": {
                            "outlinewidth": 0,
                            "ticks": ""
                          }
                        },
                        "type": "scattermapbox"
                      }
                    ],
                    "scatterpolar": [
                      {
                        "marker": {
                          "colorbar": {
                            "outlinewidth": 0,
                            "ticks": ""
                          }
                        },
                        "type": "scatterpolar"
                      }
                    ],
                    "scatterpolargl": [
                      {
                        "marker": {
                          "colorbar": {
                            "outlinewidth": 0,
                            "ticks": ""
                          }
                        },
                        "type": "scatterpolargl"
                      }
                    ],
                    "scatterternary": [
                      {
                        "marker": {
                          "colorbar": {
                            "outlinewidth": 0,
                            "ticks": ""
                          }
                        },
                        "type": "scatterternary"
                      }
                    ],
                    "surface": [
                      {
                        "colorbar": {
                          "outlinewidth": 0,
                          "ticks": ""
                        },
                        "colorscale": [
                          [
                            0,
                            "#0d0887"
                          ],
                          [
                            0.1111111111111111,
                            "#46039f"
                          ],
                          [
                            0.2222222222222222,
                            "#7201a8"
                          ],
                          [
                            0.3333333333333333,
                            "#9c179e"
                          ],
                          [
                            0.4444444444444444,
                            "#bd3786"
                          ],
                          [
                            0.5555555555555556,
                            "#d8576b"
                          ],
                          [
                            0.6666666666666666,
                            "#ed7953"
                          ],
                          [
                            0.7777777777777778,
                            "#fb9f3a"
                          ],
                          [
                            0.8888888888888888,
                            "#fdca26"
                          ],
                          [
                            1,
                            "#f0f921"
                          ]
                        ],
                        "type": "surface"
                      }
                    ],
                    "table": [
                      {
                        "cells": {
                          "fill": {
                            "color": "#EBF0F8"
                          },
                          "line": {
                            "color": "white"
                          }
                        },
                        "header": {
                          "fill": {
                            "color": "#C8D4E3"
                          },
                          "line": {
                            "color": "white"
                          }
                        },
                        "type": "table"
                      }
                    ]
                  },
                  "layout": {
                    "annotationdefaults": {
                      "arrowcolor": "#2a3f5f",
                      "arrowhead": 0,
                      "arrowwidth": 1
                    },
                    "autotypenumbers": "strict",
                    "coloraxis": {
                      "colorbar": {
                        "outlinewidth": 0,
                        "ticks": ""
                      }
                    },
                    "colorscale": {
                      "diverging": [
                        [
                          0,
                          "#8e0152"
                        ],
                        [
                          0.1,
                          "#c51b7d"
                        ],
                        [
                          0.2,
                          "#de77ae"
                        ],
                        [
                          0.3,
                          "#f1b6da"
                        ],
                        [
                          0.4,
                          "#fde0ef"
                        ],
                        [
                          0.5,
                          "#f7f7f7"
                        ],
                        [
                          0.6,
                          "#e6f5d0"
                        ],
                        [
                          0.7,
                          "#b8e186"
                        ],
                        [
                          0.8,
                          "#7fbc41"
                        ],
                        [
                          0.9,
                          "#4d9221"
                        ],
                        [
                          1,
                          "#276419"
                        ]
                      ],
                      "sequential": [
                        [
                          0,
                          "#0d0887"
                        ],
                        [
                          0.1111111111111111,
                          "#46039f"
                        ],
                        [
                          0.2222222222222222,
                          "#7201a8"
                        ],
                        [
                          0.3333333333333333,
                          "#9c179e"
                        ],
                        [
                          0.4444444444444444,
                          "#bd3786"
                        ],
                        [
                          0.5555555555555556,
                          "#d8576b"
                        ],
                        [
                          0.6666666666666666,
                          "#ed7953"
                        ],
                        [
                          0.7777777777777778,
                          "#fb9f3a"
                        ],
                        [
                          0.8888888888888888,
                          "#fdca26"
                        ],
                        [
                          1,
                          "#f0f921"
                        ]
                      ],
                      "sequentialminus": [
                        [
                          0,
                          "#0d0887"
                        ],
                        [
                          0.1111111111111111,
                          "#46039f"
                        ],
                        [
                          0.2222222222222222,
                          "#7201a8"
                        ],
                        [
                          0.3333333333333333,
                          "#9c179e"
                        ],
                        [
                          0.4444444444444444,
                          "#bd3786"
                        ],
                        [
                          0.5555555555555556,
                          "#d8576b"
                        ],
                        [
                          0.6666666666666666,
                          "#ed7953"
                        ],
                        [
                          0.7777777777777778,
                          "#fb9f3a"
                        ],
                        [
                          0.8888888888888888,
                          "#fdca26"
                        ],
                        [
                          1,
                          "#f0f921"
                        ]
                      ]
                    },
                    "colorway": [
                      "#636efa",
                      "#EF553B",
                      "#00cc96",
                      "#ab63fa",
                      "#FFA15A",
                      "#19d3f3",
                      "#FF6692",
                      "#B6E880",
                      "#FF97FF",
                      "#FECB52"
                    ],
                    "font": {
                      "color": "#2a3f5f"
                    },
                    "geo": {
                      "bgcolor": "white",
                      "lakecolor": "white",
                      "landcolor": "#E5ECF6",
                      "showlakes": true,
                      "showland": true,
                      "subunitcolor": "white"
                    },
                    "hoverlabel": {
                      "align": "left"
                    },
                    "hovermode": "closest",
                    "mapbox": {
                      "style": "light"
                    },
                    "paper_bgcolor": "white",
                    "plot_bgcolor": "#E5ECF6",
                    "polar": {
                      "angularaxis": {
                        "gridcolor": "white",
                        "linecolor": "white",
                        "ticks": ""
                      },
                      "bgcolor": "#E5ECF6",
                      "radialaxis": {
                        "gridcolor": "white",
                        "linecolor": "white",
                        "ticks": ""
                      }
                    },
                    "scene": {
                      "xaxis": {
                        "backgroundcolor": "#E5ECF6",
                        "gridcolor": "white",
                        "gridwidth": 2,
                        "linecolor": "white",
                        "showbackground": true,
                        "ticks": "",
                        "zerolinecolor": "white"
                      },
                      "yaxis": {
                        "backgroundcolor": "#E5ECF6",
                        "gridcolor": "white",
                        "gridwidth": 2,
                        "linecolor": "white",
                        "showbackground": true,
                        "ticks": "",
                        "zerolinecolor": "white"
                      },
                      "zaxis": {
                        "backgroundcolor": "#E5ECF6",
                        "gridcolor": "white",
                        "gridwidth": 2,
                        "linecolor": "white",
                        "showbackground": true,
                        "ticks": "",
                        "zerolinecolor": "white"
                      }
                    },
                    "shapedefaults": {
                      "line": {
                        "color": "#2a3f5f"
                      }
                    },
                    "ternary": {
                      "aaxis": {
                        "gridcolor": "white",
                        "linecolor": "white",
                        "ticks": ""
                      },
                      "baxis": {
                        "gridcolor": "white",
                        "linecolor": "white",
                        "ticks": ""
                      },
                      "bgcolor": "#E5ECF6",
                      "caxis": {
                        "gridcolor": "white",
                        "linecolor": "white",
                        "ticks": ""
                      }
                    },
                    "title": {
                      "x": 0.05
                    },
                    "xaxis": {
                      "automargin": true,
                      "gridcolor": "white",
                      "linecolor": "white",
                      "ticks": "",
                      "title": {
                        "standoff": 15
                      },
                      "zerolinecolor": "white",
                      "zerolinewidth": 2
                    },
                    "yaxis": {
                      "automargin": true,
                      "gridcolor": "white",
                      "linecolor": "white",
                      "ticks": "",
                      "title": {
                        "standoff": 15
                      },
                      "zerolinecolor": "white",
                      "zerolinewidth": 2
                    }
                  }
                },
                "width": 500,
                "xaxis": {
                  "autorange": false,
                  "exponentformat": "e",
                  "linecolor": "black",
                  "linewidth": 1,
                  "mirror": false,
                  "range": [
                    0.00011503356523462571,
                    0.00018841003606212325
                  ],
                  "showexponent": "all",
                  "showline": true,
                  "side": "bottom",
                  "ticks": "outside",
                  "title": {
                    "text": "Birth"
                  },
                  "type": "linear",
                  "zeroline": true
                },
                "yaxis": {
                  "autorange": false,
                  "exponentformat": "e",
                  "linecolor": "black",
                  "linewidth": 1,
                  "mirror": false,
                  "range": [
                    0.00011503356523462571,
                    0.00018841003606212325
                  ],
                  "scaleanchor": "x",
                  "scaleratio": 1,
                  "showexponent": "all",
                  "showline": true,
                  "side": "left",
                  "ticks": "outside",
                  "title": {
                    "text": "Death"
                  },
                  "type": "linear",
                  "zeroline": true
                }
              }
            }
          },
          "metadata": {},
          "output_type": "display_data"
        }
      ],
      "source": [
        "overall_diagrams_plot = gtda.plotting.plot_diagram(overall_diagrams[print_obj])\n",
        "display(overall_diagrams_plot)\n",
        "overall_diagrams_plot.write_image(file = f\"{subj}/{exp}/overall_diagram.svg\", format = \"svg\")"
      ]
    },
    {
      "cell_type": "markdown",
      "metadata": {},
      "source": [
        "#### FeatureCalculator"
      ]
    },
    {
      "cell_type": "code",
      "execution_count": null,
      "metadata": {},
      "outputs": [
        {
          "name": "stdout",
          "output_type": "stream",
          "text": [
            "Filtered diagrams: (1180, 491, 3)\n",
            "N bins: 100\n"
          ]
        },
        {
          "name": "stderr",
          "output_type": "stream",
          "text": [
            "overall betti: 100%|██████████| 1180/1180 [00:03<00:00, 346.26it/s]\n",
            "overall landscape: 100%|██████████| 1180/1180 [00:03<00:00, 348.84it/s]\n",
            "overall silhouette-1: 100%|██████████| 1180/1180 [00:03<00:00, 357.07it/s]\n",
            "overall silhouette-2: 100%|██████████| 1180/1180 [00:03<00:00, 367.11it/s]\n",
            "overall amplitudes: 100%|██████████| 13/13 [00:05<00:00,  2.19it/s]\n",
            "overall lifetime: 100%|██████████| 1180/1180 [00:08<00:00, 139.13it/s]\n"
          ]
        },
        {
          "data": {
            "text/html": [
              "<div>\n",
              "<style scoped>\n",
              "    .dataframe tbody tr th:only-of-type {\n",
              "        vertical-align: middle;\n",
              "    }\n",
              "\n",
              "    .dataframe tbody tr th {\n",
              "        vertical-align: top;\n",
              "    }\n",
              "\n",
              "    .dataframe thead th {\n",
              "        text-align: right;\n",
              "    }\n",
              "</style>\n",
              "<table border=\"1\" class=\"dataframe\">\n",
              "  <thead>\n",
              "    <tr style=\"text-align: right;\">\n",
              "      <th></th>\n",
              "      <th>overall betti dim-1 max</th>\n",
              "      <th>overall betti dim-1 mean</th>\n",
              "      <th>overall betti dim-1 std</th>\n",
              "      <th>overall betti dim-1 sum</th>\n",
              "      <th>overall betti dim-1 percentile-25</th>\n",
              "      <th>overall betti dim-1 median</th>\n",
              "      <th>overall betti dim-1 percentile-75</th>\n",
              "      <th>overall betti dim-1 kurtosis</th>\n",
              "      <th>overall betti dim-1 skew</th>\n",
              "      <th>overall betti dim-1 norm-1</th>\n",
              "      <th>...</th>\n",
              "      <th>overall bd2 dim-3 mean</th>\n",
              "      <th>overall bd2 dim-3 std</th>\n",
              "      <th>overall bd2 dim-3 sum</th>\n",
              "      <th>overall bd2 dim-3 percentile-25</th>\n",
              "      <th>overall bd2 dim-3 median</th>\n",
              "      <th>overall bd2 dim-3 percentile-75</th>\n",
              "      <th>overall bd2 dim-3 kurtosis</th>\n",
              "      <th>overall bd2 dim-3 skew</th>\n",
              "      <th>overall bd2 dim-3 norm-1</th>\n",
              "      <th>overall bd2 dim-3 norm-2</th>\n",
              "    </tr>\n",
              "  </thead>\n",
              "  <tbody>\n",
              "    <tr>\n",
              "      <th>0</th>\n",
              "      <td>18.00</td>\n",
              "      <td>0.00</td>\n",
              "      <td>4.57</td>\n",
              "      <td>0.00</td>\n",
              "      <td>0.00</td>\n",
              "      <td>0.00</td>\n",
              "      <td>0.00</td>\n",
              "      <td>31.49</td>\n",
              "      <td>-3.19</td>\n",
              "      <td>122.00</td>\n",
              "      <td>...</td>\n",
              "      <td>0.00</td>\n",
              "      <td>0.00</td>\n",
              "      <td>0.00</td>\n",
              "      <td>0.00</td>\n",
              "      <td>0.00</td>\n",
              "      <td>0.00</td>\n",
              "      <td>-1.50</td>\n",
              "      <td>-0.16</td>\n",
              "      <td>0.00</td>\n",
              "      <td>0.00</td>\n",
              "    </tr>\n",
              "    <tr>\n",
              "      <th>1</th>\n",
              "      <td>19.00</td>\n",
              "      <td>0.00</td>\n",
              "      <td>3.99</td>\n",
              "      <td>0.00</td>\n",
              "      <td>0.00</td>\n",
              "      <td>0.00</td>\n",
              "      <td>0.00</td>\n",
              "      <td>12.04</td>\n",
              "      <td>0.53</td>\n",
              "      <td>118.00</td>\n",
              "      <td>...</td>\n",
              "      <td>0.00</td>\n",
              "      <td>0.00</td>\n",
              "      <td>0.00</td>\n",
              "      <td>0.00</td>\n",
              "      <td>0.00</td>\n",
              "      <td>0.00</td>\n",
              "      <td>-0.32</td>\n",
              "      <td>-0.10</td>\n",
              "      <td>0.00</td>\n",
              "      <td>0.00</td>\n",
              "    </tr>\n",
              "    <tr>\n",
              "      <th>2</th>\n",
              "      <td>27.00</td>\n",
              "      <td>0.00</td>\n",
              "      <td>5.49</td>\n",
              "      <td>0.00</td>\n",
              "      <td>0.00</td>\n",
              "      <td>0.00</td>\n",
              "      <td>0.00</td>\n",
              "      <td>17.91</td>\n",
              "      <td>-1.13</td>\n",
              "      <td>148.00</td>\n",
              "      <td>...</td>\n",
              "      <td>0.00</td>\n",
              "      <td>0.00</td>\n",
              "      <td>0.01</td>\n",
              "      <td>0.00</td>\n",
              "      <td>0.00</td>\n",
              "      <td>0.00</td>\n",
              "      <td>-0.31</td>\n",
              "      <td>-0.10</td>\n",
              "      <td>0.01</td>\n",
              "      <td>0.00</td>\n",
              "    </tr>\n",
              "    <tr>\n",
              "      <th>3</th>\n",
              "      <td>12.00</td>\n",
              "      <td>0.00</td>\n",
              "      <td>3.14</td>\n",
              "      <td>0.00</td>\n",
              "      <td>0.00</td>\n",
              "      <td>0.00</td>\n",
              "      <td>0.00</td>\n",
              "      <td>15.25</td>\n",
              "      <td>-1.64</td>\n",
              "      <td>98.00</td>\n",
              "      <td>...</td>\n",
              "      <td>0.00</td>\n",
              "      <td>0.00</td>\n",
              "      <td>0.00</td>\n",
              "      <td>0.00</td>\n",
              "      <td>0.00</td>\n",
              "      <td>0.00</td>\n",
              "      <td>4.02</td>\n",
              "      <td>0.69</td>\n",
              "      <td>0.00</td>\n",
              "      <td>0.00</td>\n",
              "    </tr>\n",
              "    <tr>\n",
              "      <th>4</th>\n",
              "      <td>13.00</td>\n",
              "      <td>-0.01</td>\n",
              "      <td>3.31</td>\n",
              "      <td>-1.00</td>\n",
              "      <td>0.00</td>\n",
              "      <td>0.00</td>\n",
              "      <td>0.00</td>\n",
              "      <td>16.66</td>\n",
              "      <td>-1.88</td>\n",
              "      <td>95.00</td>\n",
              "      <td>...</td>\n",
              "      <td>0.00</td>\n",
              "      <td>0.00</td>\n",
              "      <td>0.00</td>\n",
              "      <td>0.00</td>\n",
              "      <td>0.00</td>\n",
              "      <td>0.00</td>\n",
              "      <td>2.58</td>\n",
              "      <td>-2.04</td>\n",
              "      <td>0.00</td>\n",
              "      <td>0.00</td>\n",
              "    </tr>\n",
              "    <tr>\n",
              "      <th>...</th>\n",
              "      <td>...</td>\n",
              "      <td>...</td>\n",
              "      <td>...</td>\n",
              "      <td>...</td>\n",
              "      <td>...</td>\n",
              "      <td>...</td>\n",
              "      <td>...</td>\n",
              "      <td>...</td>\n",
              "      <td>...</td>\n",
              "      <td>...</td>\n",
              "      <td>...</td>\n",
              "      <td>...</td>\n",
              "      <td>...</td>\n",
              "      <td>...</td>\n",
              "      <td>...</td>\n",
              "      <td>...</td>\n",
              "      <td>...</td>\n",
              "      <td>...</td>\n",
              "      <td>...</td>\n",
              "      <td>...</td>\n",
              "      <td>...</td>\n",
              "    </tr>\n",
              "    <tr>\n",
              "      <th>1175</th>\n",
              "      <td>9.00</td>\n",
              "      <td>0.00</td>\n",
              "      <td>2.29</td>\n",
              "      <td>0.00</td>\n",
              "      <td>0.00</td>\n",
              "      <td>0.00</td>\n",
              "      <td>0.00</td>\n",
              "      <td>9.35</td>\n",
              "      <td>-0.15</td>\n",
              "      <td>88.00</td>\n",
              "      <td>...</td>\n",
              "      <td>0.00</td>\n",
              "      <td>0.00</td>\n",
              "      <td>0.00</td>\n",
              "      <td>0.00</td>\n",
              "      <td>0.00</td>\n",
              "      <td>0.00</td>\n",
              "      <td>-1.59</td>\n",
              "      <td>0.20</td>\n",
              "      <td>0.00</td>\n",
              "      <td>0.00</td>\n",
              "    </tr>\n",
              "    <tr>\n",
              "      <th>1176</th>\n",
              "      <td>13.00</td>\n",
              "      <td>0.00</td>\n",
              "      <td>3.32</td>\n",
              "      <td>0.00</td>\n",
              "      <td>0.00</td>\n",
              "      <td>0.00</td>\n",
              "      <td>0.00</td>\n",
              "      <td>15.25</td>\n",
              "      <td>-1.08</td>\n",
              "      <td>102.00</td>\n",
              "      <td>...</td>\n",
              "      <td>0.00</td>\n",
              "      <td>0.00</td>\n",
              "      <td>0.00</td>\n",
              "      <td>0.00</td>\n",
              "      <td>0.00</td>\n",
              "      <td>0.00</td>\n",
              "      <td>-0.94</td>\n",
              "      <td>0.86</td>\n",
              "      <td>0.00</td>\n",
              "      <td>0.00</td>\n",
              "    </tr>\n",
              "    <tr>\n",
              "      <th>1177</th>\n",
              "      <td>9.00</td>\n",
              "      <td>0.00</td>\n",
              "      <td>2.60</td>\n",
              "      <td>0.00</td>\n",
              "      <td>0.00</td>\n",
              "      <td>0.00</td>\n",
              "      <td>0.00</td>\n",
              "      <td>11.40</td>\n",
              "      <td>-0.93</td>\n",
              "      <td>88.00</td>\n",
              "      <td>...</td>\n",
              "      <td>0.00</td>\n",
              "      <td>0.00</td>\n",
              "      <td>0.00</td>\n",
              "      <td>0.00</td>\n",
              "      <td>0.00</td>\n",
              "      <td>0.00</td>\n",
              "      <td>0.25</td>\n",
              "      <td>0.91</td>\n",
              "      <td>0.00</td>\n",
              "      <td>0.00</td>\n",
              "    </tr>\n",
              "    <tr>\n",
              "      <th>1178</th>\n",
              "      <td>19.00</td>\n",
              "      <td>0.00</td>\n",
              "      <td>3.76</td>\n",
              "      <td>0.00</td>\n",
              "      <td>0.00</td>\n",
              "      <td>0.00</td>\n",
              "      <td>0.00</td>\n",
              "      <td>13.81</td>\n",
              "      <td>0.28</td>\n",
              "      <td>116.00</td>\n",
              "      <td>...</td>\n",
              "      <td>0.00</td>\n",
              "      <td>0.00</td>\n",
              "      <td>0.00</td>\n",
              "      <td>0.00</td>\n",
              "      <td>0.00</td>\n",
              "      <td>0.00</td>\n",
              "      <td>-0.51</td>\n",
              "      <td>0.02</td>\n",
              "      <td>0.00</td>\n",
              "      <td>0.00</td>\n",
              "    </tr>\n",
              "    <tr>\n",
              "      <th>1179</th>\n",
              "      <td>11.00</td>\n",
              "      <td>0.00</td>\n",
              "      <td>3.09</td>\n",
              "      <td>0.00</td>\n",
              "      <td>0.00</td>\n",
              "      <td>0.00</td>\n",
              "      <td>0.00</td>\n",
              "      <td>9.94</td>\n",
              "      <td>-0.64</td>\n",
              "      <td>104.00</td>\n",
              "      <td>...</td>\n",
              "      <td>0.00</td>\n",
              "      <td>0.00</td>\n",
              "      <td>0.00</td>\n",
              "      <td>0.00</td>\n",
              "      <td>0.00</td>\n",
              "      <td>0.00</td>\n",
              "      <td>-0.55</td>\n",
              "      <td>0.51</td>\n",
              "      <td>0.00</td>\n",
              "      <td>0.00</td>\n",
              "    </tr>\n",
              "  </tbody>\n",
              "</table>\n",
              "<p>1180 rows × 291 columns</p>\n",
              "</div>"
            ],
            "text/plain": [
              "      overall betti dim-1 max  overall betti dim-1 mean  \\\n",
              "0                       18.00                      0.00   \n",
              "1                       19.00                      0.00   \n",
              "2                       27.00                      0.00   \n",
              "3                       12.00                      0.00   \n",
              "4                       13.00                     -0.01   \n",
              "...                       ...                       ...   \n",
              "1175                     9.00                      0.00   \n",
              "1176                    13.00                      0.00   \n",
              "1177                     9.00                      0.00   \n",
              "1178                    19.00                      0.00   \n",
              "1179                    11.00                      0.00   \n",
              "\n",
              "      overall betti dim-1 std  overall betti dim-1 sum  \\\n",
              "0                        4.57                     0.00   \n",
              "1                        3.99                     0.00   \n",
              "2                        5.49                     0.00   \n",
              "3                        3.14                     0.00   \n",
              "4                        3.31                    -1.00   \n",
              "...                       ...                      ...   \n",
              "1175                     2.29                     0.00   \n",
              "1176                     3.32                     0.00   \n",
              "1177                     2.60                     0.00   \n",
              "1178                     3.76                     0.00   \n",
              "1179                     3.09                     0.00   \n",
              "\n",
              "      overall betti dim-1 percentile-25  overall betti dim-1 median  \\\n",
              "0                                  0.00                        0.00   \n",
              "1                                  0.00                        0.00   \n",
              "2                                  0.00                        0.00   \n",
              "3                                  0.00                        0.00   \n",
              "4                                  0.00                        0.00   \n",
              "...                                 ...                         ...   \n",
              "1175                               0.00                        0.00   \n",
              "1176                               0.00                        0.00   \n",
              "1177                               0.00                        0.00   \n",
              "1178                               0.00                        0.00   \n",
              "1179                               0.00                        0.00   \n",
              "\n",
              "      overall betti dim-1 percentile-75  overall betti dim-1 kurtosis  \\\n",
              "0                                  0.00                         31.49   \n",
              "1                                  0.00                         12.04   \n",
              "2                                  0.00                         17.91   \n",
              "3                                  0.00                         15.25   \n",
              "4                                  0.00                         16.66   \n",
              "...                                 ...                           ...   \n",
              "1175                               0.00                          9.35   \n",
              "1176                               0.00                         15.25   \n",
              "1177                               0.00                         11.40   \n",
              "1178                               0.00                         13.81   \n",
              "1179                               0.00                          9.94   \n",
              "\n",
              "      overall betti dim-1 skew  overall betti dim-1 norm-1  ...  \\\n",
              "0                        -3.19                      122.00  ...   \n",
              "1                         0.53                      118.00  ...   \n",
              "2                        -1.13                      148.00  ...   \n",
              "3                        -1.64                       98.00  ...   \n",
              "4                        -1.88                       95.00  ...   \n",
              "...                        ...                         ...  ...   \n",
              "1175                     -0.15                       88.00  ...   \n",
              "1176                     -1.08                      102.00  ...   \n",
              "1177                     -0.93                       88.00  ...   \n",
              "1178                      0.28                      116.00  ...   \n",
              "1179                     -0.64                      104.00  ...   \n",
              "\n",
              "      overall bd2 dim-3 mean  overall bd2 dim-3 std  overall bd2 dim-3 sum  \\\n",
              "0                       0.00                   0.00                   0.00   \n",
              "1                       0.00                   0.00                   0.00   \n",
              "2                       0.00                   0.00                   0.01   \n",
              "3                       0.00                   0.00                   0.00   \n",
              "4                       0.00                   0.00                   0.00   \n",
              "...                      ...                    ...                    ...   \n",
              "1175                    0.00                   0.00                   0.00   \n",
              "1176                    0.00                   0.00                   0.00   \n",
              "1177                    0.00                   0.00                   0.00   \n",
              "1178                    0.00                   0.00                   0.00   \n",
              "1179                    0.00                   0.00                   0.00   \n",
              "\n",
              "      overall bd2 dim-3 percentile-25  overall bd2 dim-3 median  \\\n",
              "0                                0.00                      0.00   \n",
              "1                                0.00                      0.00   \n",
              "2                                0.00                      0.00   \n",
              "3                                0.00                      0.00   \n",
              "4                                0.00                      0.00   \n",
              "...                               ...                       ...   \n",
              "1175                             0.00                      0.00   \n",
              "1176                             0.00                      0.00   \n",
              "1177                             0.00                      0.00   \n",
              "1178                             0.00                      0.00   \n",
              "1179                             0.00                      0.00   \n",
              "\n",
              "      overall bd2 dim-3 percentile-75  overall bd2 dim-3 kurtosis  \\\n",
              "0                                0.00                       -1.50   \n",
              "1                                0.00                       -0.32   \n",
              "2                                0.00                       -0.31   \n",
              "3                                0.00                        4.02   \n",
              "4                                0.00                        2.58   \n",
              "...                               ...                         ...   \n",
              "1175                             0.00                       -1.59   \n",
              "1176                             0.00                       -0.94   \n",
              "1177                             0.00                        0.25   \n",
              "1178                             0.00                       -0.51   \n",
              "1179                             0.00                       -0.55   \n",
              "\n",
              "      overall bd2 dim-3 skew  overall bd2 dim-3 norm-1  \\\n",
              "0                      -0.16                      0.00   \n",
              "1                      -0.10                      0.00   \n",
              "2                      -0.10                      0.01   \n",
              "3                       0.69                      0.00   \n",
              "4                      -2.04                      0.00   \n",
              "...                      ...                       ...   \n",
              "1175                    0.20                      0.00   \n",
              "1176                    0.86                      0.00   \n",
              "1177                    0.91                      0.00   \n",
              "1178                    0.02                      0.00   \n",
              "1179                    0.51                      0.00   \n",
              "\n",
              "      overall bd2 dim-3 norm-2  \n",
              "0                         0.00  \n",
              "1                         0.00  \n",
              "2                         0.00  \n",
              "3                         0.00  \n",
              "4                         0.00  \n",
              "...                        ...  \n",
              "1175                      0.00  \n",
              "1176                      0.00  \n",
              "1177                      0.00  \n",
              "1178                      0.00  \n",
              "1179                      0.00  \n",
              "\n",
              "[1180 rows x 291 columns]"
            ]
          },
          "execution_count": 22,
          "metadata": {},
          "output_type": "execute_result"
        }
      ],
      "source": [
        "overall_features = FeatureCalculator().calc_features(overall_diagrams, prefix = 'overall')\n",
        "overall_features.to_feather(f\"{subj}/{exp}/overall_features.feather\")\n",
        "overall_features"
      ]
    },
    {
      "cell_type": "markdown",
      "metadata": {},
      "source": [
        "### Features"
      ]
    },
    {
      "cell_type": "code",
      "execution_count": null,
      "metadata": {},
      "outputs": [
        {
          "data": {
            "text/html": [
              "<div>\n",
              "<style scoped>\n",
              "    .dataframe tbody tr th:only-of-type {\n",
              "        vertical-align: middle;\n",
              "    }\n",
              "\n",
              "    .dataframe tbody tr th {\n",
              "        vertical-align: top;\n",
              "    }\n",
              "\n",
              "    .dataframe thead th {\n",
              "        text-align: right;\n",
              "    }\n",
              "</style>\n",
              "<table border=\"1\" class=\"dataframe\">\n",
              "  <thead>\n",
              "    <tr style=\"text-align: right;\">\n",
              "      <th></th>\n",
              "      <th>channel-0 betti dim-1 max</th>\n",
              "      <th>channel-0 betti dim-1 mean</th>\n",
              "      <th>channel-0 betti dim-1 std</th>\n",
              "      <th>channel-0 betti dim-1 sum</th>\n",
              "      <th>channel-0 betti dim-1 percentile-25</th>\n",
              "      <th>channel-0 betti dim-1 median</th>\n",
              "      <th>channel-0 betti dim-1 percentile-75</th>\n",
              "      <th>channel-0 betti dim-1 kurtosis</th>\n",
              "      <th>channel-0 betti dim-1 skew</th>\n",
              "      <th>channel-0 betti dim-1 norm-1</th>\n",
              "      <th>...</th>\n",
              "      <th>overall bd2 dim-3 mean</th>\n",
              "      <th>overall bd2 dim-3 std</th>\n",
              "      <th>overall bd2 dim-3 sum</th>\n",
              "      <th>overall bd2 dim-3 percentile-25</th>\n",
              "      <th>overall bd2 dim-3 median</th>\n",
              "      <th>overall bd2 dim-3 percentile-75</th>\n",
              "      <th>overall bd2 dim-3 kurtosis</th>\n",
              "      <th>overall bd2 dim-3 skew</th>\n",
              "      <th>overall bd2 dim-3 norm-1</th>\n",
              "      <th>overall bd2 dim-3 norm-2</th>\n",
              "    </tr>\n",
              "  </thead>\n",
              "  <tbody>\n",
              "    <tr>\n",
              "      <th>0</th>\n",
              "      <td>6.00</td>\n",
              "      <td>0.00</td>\n",
              "      <td>1.37</td>\n",
              "      <td>0.00</td>\n",
              "      <td>0.00</td>\n",
              "      <td>0.00</td>\n",
              "      <td>0.00</td>\n",
              "      <td>11.68</td>\n",
              "      <td>-0.28</td>\n",
              "      <td>44.00</td>\n",
              "      <td>...</td>\n",
              "      <td>0.00</td>\n",
              "      <td>0.00</td>\n",
              "      <td>0.00</td>\n",
              "      <td>0.00</td>\n",
              "      <td>0.00</td>\n",
              "      <td>0.00</td>\n",
              "      <td>-1.50</td>\n",
              "      <td>-0.16</td>\n",
              "      <td>0.00</td>\n",
              "      <td>0.00</td>\n",
              "    </tr>\n",
              "    <tr>\n",
              "      <th>1</th>\n",
              "      <td>9.00</td>\n",
              "      <td>0.00</td>\n",
              "      <td>1.57</td>\n",
              "      <td>0.00</td>\n",
              "      <td>0.00</td>\n",
              "      <td>0.00</td>\n",
              "      <td>0.00</td>\n",
              "      <td>15.82</td>\n",
              "      <td>0.67</td>\n",
              "      <td>50.00</td>\n",
              "      <td>...</td>\n",
              "      <td>0.00</td>\n",
              "      <td>0.00</td>\n",
              "      <td>0.00</td>\n",
              "      <td>0.00</td>\n",
              "      <td>0.00</td>\n",
              "      <td>0.00</td>\n",
              "      <td>-0.32</td>\n",
              "      <td>-0.10</td>\n",
              "      <td>0.00</td>\n",
              "      <td>0.00</td>\n",
              "    </tr>\n",
              "    <tr>\n",
              "      <th>2</th>\n",
              "      <td>5.00</td>\n",
              "      <td>0.00</td>\n",
              "      <td>1.36</td>\n",
              "      <td>0.00</td>\n",
              "      <td>0.00</td>\n",
              "      <td>0.00</td>\n",
              "      <td>0.00</td>\n",
              "      <td>9.88</td>\n",
              "      <td>-1.12</td>\n",
              "      <td>46.00</td>\n",
              "      <td>...</td>\n",
              "      <td>0.00</td>\n",
              "      <td>0.00</td>\n",
              "      <td>0.01</td>\n",
              "      <td>0.00</td>\n",
              "      <td>0.00</td>\n",
              "      <td>0.00</td>\n",
              "      <td>-0.31</td>\n",
              "      <td>-0.10</td>\n",
              "      <td>0.01</td>\n",
              "      <td>0.00</td>\n",
              "    </tr>\n",
              "    <tr>\n",
              "      <th>3</th>\n",
              "      <td>10.00</td>\n",
              "      <td>0.00</td>\n",
              "      <td>2.04</td>\n",
              "      <td>0.00</td>\n",
              "      <td>0.00</td>\n",
              "      <td>0.00</td>\n",
              "      <td>0.00</td>\n",
              "      <td>16.34</td>\n",
              "      <td>-0.96</td>\n",
              "      <td>56.00</td>\n",
              "      <td>...</td>\n",
              "      <td>0.00</td>\n",
              "      <td>0.00</td>\n",
              "      <td>0.00</td>\n",
              "      <td>0.00</td>\n",
              "      <td>0.00</td>\n",
              "      <td>0.00</td>\n",
              "      <td>4.02</td>\n",
              "      <td>0.69</td>\n",
              "      <td>0.00</td>\n",
              "      <td>0.00</td>\n",
              "    </tr>\n",
              "    <tr>\n",
              "      <th>4</th>\n",
              "      <td>13.00</td>\n",
              "      <td>0.00</td>\n",
              "      <td>2.16</td>\n",
              "      <td>0.00</td>\n",
              "      <td>0.00</td>\n",
              "      <td>0.00</td>\n",
              "      <td>0.00</td>\n",
              "      <td>26.69</td>\n",
              "      <td>0.54</td>\n",
              "      <td>48.00</td>\n",
              "      <td>...</td>\n",
              "      <td>0.00</td>\n",
              "      <td>0.00</td>\n",
              "      <td>0.00</td>\n",
              "      <td>0.00</td>\n",
              "      <td>0.00</td>\n",
              "      <td>0.00</td>\n",
              "      <td>2.58</td>\n",
              "      <td>-2.04</td>\n",
              "      <td>0.00</td>\n",
              "      <td>0.00</td>\n",
              "    </tr>\n",
              "    <tr>\n",
              "      <th>...</th>\n",
              "      <td>...</td>\n",
              "      <td>...</td>\n",
              "      <td>...</td>\n",
              "      <td>...</td>\n",
              "      <td>...</td>\n",
              "      <td>...</td>\n",
              "      <td>...</td>\n",
              "      <td>...</td>\n",
              "      <td>...</td>\n",
              "      <td>...</td>\n",
              "      <td>...</td>\n",
              "      <td>...</td>\n",
              "      <td>...</td>\n",
              "      <td>...</td>\n",
              "      <td>...</td>\n",
              "      <td>...</td>\n",
              "      <td>...</td>\n",
              "      <td>...</td>\n",
              "      <td>...</td>\n",
              "      <td>...</td>\n",
              "      <td>...</td>\n",
              "    </tr>\n",
              "    <tr>\n",
              "      <th>1175</th>\n",
              "      <td>12.00</td>\n",
              "      <td>0.00</td>\n",
              "      <td>2.03</td>\n",
              "      <td>0.00</td>\n",
              "      <td>0.00</td>\n",
              "      <td>0.00</td>\n",
              "      <td>0.00</td>\n",
              "      <td>16.59</td>\n",
              "      <td>1.14</td>\n",
              "      <td>66.00</td>\n",
              "      <td>...</td>\n",
              "      <td>0.00</td>\n",
              "      <td>0.00</td>\n",
              "      <td>0.00</td>\n",
              "      <td>0.00</td>\n",
              "      <td>0.00</td>\n",
              "      <td>0.00</td>\n",
              "      <td>-1.59</td>\n",
              "      <td>0.20</td>\n",
              "      <td>0.00</td>\n",
              "      <td>0.00</td>\n",
              "    </tr>\n",
              "    <tr>\n",
              "      <th>1176</th>\n",
              "      <td>7.00</td>\n",
              "      <td>0.00</td>\n",
              "      <td>1.23</td>\n",
              "      <td>0.00</td>\n",
              "      <td>0.00</td>\n",
              "      <td>0.00</td>\n",
              "      <td>0.00</td>\n",
              "      <td>11.49</td>\n",
              "      <td>1.43</td>\n",
              "      <td>50.00</td>\n",
              "      <td>...</td>\n",
              "      <td>0.00</td>\n",
              "      <td>0.00</td>\n",
              "      <td>0.00</td>\n",
              "      <td>0.00</td>\n",
              "      <td>0.00</td>\n",
              "      <td>0.00</td>\n",
              "      <td>-0.94</td>\n",
              "      <td>0.86</td>\n",
              "      <td>0.00</td>\n",
              "      <td>0.00</td>\n",
              "    </tr>\n",
              "    <tr>\n",
              "      <th>1177</th>\n",
              "      <td>5.00</td>\n",
              "      <td>0.00</td>\n",
              "      <td>1.56</td>\n",
              "      <td>0.00</td>\n",
              "      <td>0.00</td>\n",
              "      <td>0.00</td>\n",
              "      <td>0.00</td>\n",
              "      <td>24.75</td>\n",
              "      <td>-2.92</td>\n",
              "      <td>56.00</td>\n",
              "      <td>...</td>\n",
              "      <td>0.00</td>\n",
              "      <td>0.00</td>\n",
              "      <td>0.00</td>\n",
              "      <td>0.00</td>\n",
              "      <td>0.00</td>\n",
              "      <td>0.00</td>\n",
              "      <td>0.25</td>\n",
              "      <td>0.91</td>\n",
              "      <td>0.00</td>\n",
              "      <td>0.00</td>\n",
              "    </tr>\n",
              "    <tr>\n",
              "      <th>1178</th>\n",
              "      <td>14.00</td>\n",
              "      <td>0.00</td>\n",
              "      <td>2.29</td>\n",
              "      <td>0.00</td>\n",
              "      <td>0.00</td>\n",
              "      <td>0.00</td>\n",
              "      <td>0.00</td>\n",
              "      <td>17.13</td>\n",
              "      <td>2.04</td>\n",
              "      <td>72.00</td>\n",
              "      <td>...</td>\n",
              "      <td>0.00</td>\n",
              "      <td>0.00</td>\n",
              "      <td>0.00</td>\n",
              "      <td>0.00</td>\n",
              "      <td>0.00</td>\n",
              "      <td>0.00</td>\n",
              "      <td>-0.51</td>\n",
              "      <td>0.02</td>\n",
              "      <td>0.00</td>\n",
              "      <td>0.00</td>\n",
              "    </tr>\n",
              "    <tr>\n",
              "      <th>1179</th>\n",
              "      <td>7.00</td>\n",
              "      <td>0.00</td>\n",
              "      <td>1.34</td>\n",
              "      <td>0.00</td>\n",
              "      <td>0.00</td>\n",
              "      <td>0.00</td>\n",
              "      <td>0.00</td>\n",
              "      <td>18.63</td>\n",
              "      <td>-0.70</td>\n",
              "      <td>44.00</td>\n",
              "      <td>...</td>\n",
              "      <td>0.00</td>\n",
              "      <td>0.00</td>\n",
              "      <td>0.00</td>\n",
              "      <td>0.00</td>\n",
              "      <td>0.00</td>\n",
              "      <td>0.00</td>\n",
              "      <td>-0.55</td>\n",
              "      <td>0.51</td>\n",
              "      <td>0.00</td>\n",
              "      <td>0.00</td>\n",
              "    </tr>\n",
              "  </tbody>\n",
              "</table>\n",
              "<p>1180 rows × 19563 columns</p>\n",
              "</div>"
            ],
            "text/plain": [
              "      channel-0 betti dim-1 max  channel-0 betti dim-1 mean  \\\n",
              "0                          6.00                        0.00   \n",
              "1                          9.00                        0.00   \n",
              "2                          5.00                        0.00   \n",
              "3                         10.00                        0.00   \n",
              "4                         13.00                        0.00   \n",
              "...                         ...                         ...   \n",
              "1175                      12.00                        0.00   \n",
              "1176                       7.00                        0.00   \n",
              "1177                       5.00                        0.00   \n",
              "1178                      14.00                        0.00   \n",
              "1179                       7.00                        0.00   \n",
              "\n",
              "      channel-0 betti dim-1 std  channel-0 betti dim-1 sum  \\\n",
              "0                          1.37                       0.00   \n",
              "1                          1.57                       0.00   \n",
              "2                          1.36                       0.00   \n",
              "3                          2.04                       0.00   \n",
              "4                          2.16                       0.00   \n",
              "...                         ...                        ...   \n",
              "1175                       2.03                       0.00   \n",
              "1176                       1.23                       0.00   \n",
              "1177                       1.56                       0.00   \n",
              "1178                       2.29                       0.00   \n",
              "1179                       1.34                       0.00   \n",
              "\n",
              "      channel-0 betti dim-1 percentile-25  channel-0 betti dim-1 median  \\\n",
              "0                                    0.00                          0.00   \n",
              "1                                    0.00                          0.00   \n",
              "2                                    0.00                          0.00   \n",
              "3                                    0.00                          0.00   \n",
              "4                                    0.00                          0.00   \n",
              "...                                   ...                           ...   \n",
              "1175                                 0.00                          0.00   \n",
              "1176                                 0.00                          0.00   \n",
              "1177                                 0.00                          0.00   \n",
              "1178                                 0.00                          0.00   \n",
              "1179                                 0.00                          0.00   \n",
              "\n",
              "      channel-0 betti dim-1 percentile-75  channel-0 betti dim-1 kurtosis  \\\n",
              "0                                    0.00                           11.68   \n",
              "1                                    0.00                           15.82   \n",
              "2                                    0.00                            9.88   \n",
              "3                                    0.00                           16.34   \n",
              "4                                    0.00                           26.69   \n",
              "...                                   ...                             ...   \n",
              "1175                                 0.00                           16.59   \n",
              "1176                                 0.00                           11.49   \n",
              "1177                                 0.00                           24.75   \n",
              "1178                                 0.00                           17.13   \n",
              "1179                                 0.00                           18.63   \n",
              "\n",
              "      channel-0 betti dim-1 skew  channel-0 betti dim-1 norm-1  ...  \\\n",
              "0                          -0.28                         44.00  ...   \n",
              "1                           0.67                         50.00  ...   \n",
              "2                          -1.12                         46.00  ...   \n",
              "3                          -0.96                         56.00  ...   \n",
              "4                           0.54                         48.00  ...   \n",
              "...                          ...                           ...  ...   \n",
              "1175                        1.14                         66.00  ...   \n",
              "1176                        1.43                         50.00  ...   \n",
              "1177                       -2.92                         56.00  ...   \n",
              "1178                        2.04                         72.00  ...   \n",
              "1179                       -0.70                         44.00  ...   \n",
              "\n",
              "      overall bd2 dim-3 mean  overall bd2 dim-3 std  overall bd2 dim-3 sum  \\\n",
              "0                       0.00                   0.00                   0.00   \n",
              "1                       0.00                   0.00                   0.00   \n",
              "2                       0.00                   0.00                   0.01   \n",
              "3                       0.00                   0.00                   0.00   \n",
              "4                       0.00                   0.00                   0.00   \n",
              "...                      ...                    ...                    ...   \n",
              "1175                    0.00                   0.00                   0.00   \n",
              "1176                    0.00                   0.00                   0.00   \n",
              "1177                    0.00                   0.00                   0.00   \n",
              "1178                    0.00                   0.00                   0.00   \n",
              "1179                    0.00                   0.00                   0.00   \n",
              "\n",
              "      overall bd2 dim-3 percentile-25  overall bd2 dim-3 median  \\\n",
              "0                                0.00                      0.00   \n",
              "1                                0.00                      0.00   \n",
              "2                                0.00                      0.00   \n",
              "3                                0.00                      0.00   \n",
              "4                                0.00                      0.00   \n",
              "...                               ...                       ...   \n",
              "1175                             0.00                      0.00   \n",
              "1176                             0.00                      0.00   \n",
              "1177                             0.00                      0.00   \n",
              "1178                             0.00                      0.00   \n",
              "1179                             0.00                      0.00   \n",
              "\n",
              "      overall bd2 dim-3 percentile-75  overall bd2 dim-3 kurtosis  \\\n",
              "0                                0.00                       -1.50   \n",
              "1                                0.00                       -0.32   \n",
              "2                                0.00                       -0.31   \n",
              "3                                0.00                        4.02   \n",
              "4                                0.00                        2.58   \n",
              "...                               ...                         ...   \n",
              "1175                             0.00                       -1.59   \n",
              "1176                             0.00                       -0.94   \n",
              "1177                             0.00                        0.25   \n",
              "1178                             0.00                       -0.51   \n",
              "1179                             0.00                       -0.55   \n",
              "\n",
              "      overall bd2 dim-3 skew  overall bd2 dim-3 norm-1  \\\n",
              "0                      -0.16                      0.00   \n",
              "1                      -0.10                      0.00   \n",
              "2                      -0.10                      0.01   \n",
              "3                       0.69                      0.00   \n",
              "4                      -2.04                      0.00   \n",
              "...                      ...                       ...   \n",
              "1175                    0.20                      0.00   \n",
              "1176                    0.86                      0.00   \n",
              "1177                    0.91                      0.00   \n",
              "1178                    0.02                      0.00   \n",
              "1179                    0.51                      0.00   \n",
              "\n",
              "      overall bd2 dim-3 norm-2  \n",
              "0                         0.00  \n",
              "1                         0.00  \n",
              "2                         0.00  \n",
              "3                         0.00  \n",
              "4                         0.00  \n",
              "...                        ...  \n",
              "1175                      0.00  \n",
              "1176                      0.00  \n",
              "1177                      0.00  \n",
              "1178                      0.00  \n",
              "1179                      0.00  \n",
              "\n",
              "[1180 rows x 19563 columns]"
            ]
          },
          "execution_count": 23,
          "metadata": {},
          "output_type": "execute_result"
        }
      ],
      "source": [
        "all_features = pandas.concat([ channel_features, dissim_features, overall_features ], axis = 1)\n",
        "all_features.to_feather(f\"{subj}/{exp}/all_features.feather\")\n",
        "all_features"
      ]
    },
    {
      "cell_type": "markdown",
      "metadata": {},
      "source": [
        "#### PCA"
      ]
    },
    {
      "cell_type": "code",
      "execution_count": null,
      "metadata": {},
      "outputs": [
        {
          "name": "stdout",
          "output_type": "stream",
          "text": [
            "Components: 65\n",
            "Explained variance: 0.48\n",
            "[0.095, 0.049, 0.02, 0.012, 0.011, 0.01, 0.01, 0.009, 0.009, 0.008, 0.008, 0.007, 0.007, 0.007, 0.006, 0.006, 0.006, 0.006, 0.006, 0.006, 0.005, 0.005, 0.005, 0.005, 0.005, 0.005, 0.005, 0.005, 0.005, 0.005, 0.005, 0.004, 0.004, 0.004, 0.004, 0.004, 0.004, 0.004, 0.004, 0.004, 0.004, 0.004, 0.004, 0.004, 0.004, 0.004, 0.004, 0.004, 0.004, 0.004, 0.004, 0.004, 0.003, 0.003, 0.003, 0.003, 0.003, 0.003, 0.003, 0.003, 0.003, 0.003, 0.003, 0.003, 0.003]\n"
          ]
        },
        {
          "data": {
            "text/html": [
              "<div>\n",
              "<style scoped>\n",
              "    .dataframe tbody tr th:only-of-type {\n",
              "        vertical-align: middle;\n",
              "    }\n",
              "\n",
              "    .dataframe tbody tr th {\n",
              "        vertical-align: top;\n",
              "    }\n",
              "\n",
              "    .dataframe thead th {\n",
              "        text-align: right;\n",
              "    }\n",
              "</style>\n",
              "<table border=\"1\" class=\"dataframe\">\n",
              "  <thead>\n",
              "    <tr style=\"text-align: right;\">\n",
              "      <th></th>\n",
              "      <th>0</th>\n",
              "      <th>1</th>\n",
              "      <th>2</th>\n",
              "      <th>3</th>\n",
              "      <th>4</th>\n",
              "      <th>5</th>\n",
              "      <th>6</th>\n",
              "      <th>7</th>\n",
              "      <th>8</th>\n",
              "      <th>9</th>\n",
              "      <th>...</th>\n",
              "      <th>55</th>\n",
              "      <th>56</th>\n",
              "      <th>57</th>\n",
              "      <th>58</th>\n",
              "      <th>59</th>\n",
              "      <th>60</th>\n",
              "      <th>61</th>\n",
              "      <th>62</th>\n",
              "      <th>63</th>\n",
              "      <th>64</th>\n",
              "    </tr>\n",
              "  </thead>\n",
              "  <tbody>\n",
              "    <tr>\n",
              "      <th>0</th>\n",
              "      <td>-49.90</td>\n",
              "      <td>13.72</td>\n",
              "      <td>-25.54</td>\n",
              "      <td>8.88</td>\n",
              "      <td>-10.41</td>\n",
              "      <td>-13.96</td>\n",
              "      <td>-7.65</td>\n",
              "      <td>-4.58</td>\n",
              "      <td>2.01</td>\n",
              "      <td>-13.81</td>\n",
              "      <td>...</td>\n",
              "      <td>-4.74</td>\n",
              "      <td>-3.52</td>\n",
              "      <td>5.21</td>\n",
              "      <td>8.31</td>\n",
              "      <td>-0.48</td>\n",
              "      <td>4.46</td>\n",
              "      <td>4.41</td>\n",
              "      <td>-0.49</td>\n",
              "      <td>-0.50</td>\n",
              "      <td>0.73</td>\n",
              "    </tr>\n",
              "    <tr>\n",
              "      <th>1</th>\n",
              "      <td>-69.45</td>\n",
              "      <td>-11.32</td>\n",
              "      <td>14.82</td>\n",
              "      <td>7.95</td>\n",
              "      <td>3.33</td>\n",
              "      <td>10.05</td>\n",
              "      <td>15.15</td>\n",
              "      <td>-0.14</td>\n",
              "      <td>-27.09</td>\n",
              "      <td>-6.69</td>\n",
              "      <td>...</td>\n",
              "      <td>10.01</td>\n",
              "      <td>-7.62</td>\n",
              "      <td>-6.58</td>\n",
              "      <td>-5.52</td>\n",
              "      <td>8.40</td>\n",
              "      <td>10.01</td>\n",
              "      <td>16.33</td>\n",
              "      <td>12.81</td>\n",
              "      <td>-4.20</td>\n",
              "      <td>-7.72</td>\n",
              "    </tr>\n",
              "    <tr>\n",
              "      <th>2</th>\n",
              "      <td>-57.10</td>\n",
              "      <td>5.53</td>\n",
              "      <td>-6.42</td>\n",
              "      <td>-21.54</td>\n",
              "      <td>8.10</td>\n",
              "      <td>1.71</td>\n",
              "      <td>-8.46</td>\n",
              "      <td>-5.88</td>\n",
              "      <td>-3.20</td>\n",
              "      <td>5.27</td>\n",
              "      <td>...</td>\n",
              "      <td>-6.39</td>\n",
              "      <td>-15.32</td>\n",
              "      <td>7.57</td>\n",
              "      <td>-2.77</td>\n",
              "      <td>4.61</td>\n",
              "      <td>13.39</td>\n",
              "      <td>-3.21</td>\n",
              "      <td>-0.71</td>\n",
              "      <td>1.39</td>\n",
              "      <td>-3.90</td>\n",
              "    </tr>\n",
              "    <tr>\n",
              "      <th>3</th>\n",
              "      <td>-64.96</td>\n",
              "      <td>18.20</td>\n",
              "      <td>-25.47</td>\n",
              "      <td>4.57</td>\n",
              "      <td>-1.63</td>\n",
              "      <td>-9.72</td>\n",
              "      <td>-6.56</td>\n",
              "      <td>3.16</td>\n",
              "      <td>-1.14</td>\n",
              "      <td>-1.96</td>\n",
              "      <td>...</td>\n",
              "      <td>-10.70</td>\n",
              "      <td>-9.43</td>\n",
              "      <td>-0.20</td>\n",
              "      <td>10.69</td>\n",
              "      <td>10.59</td>\n",
              "      <td>-3.11</td>\n",
              "      <td>-5.41</td>\n",
              "      <td>-2.88</td>\n",
              "      <td>-2.53</td>\n",
              "      <td>-1.59</td>\n",
              "    </tr>\n",
              "    <tr>\n",
              "      <th>4</th>\n",
              "      <td>-80.45</td>\n",
              "      <td>10.16</td>\n",
              "      <td>-0.05</td>\n",
              "      <td>-10.98</td>\n",
              "      <td>-5.53</td>\n",
              "      <td>20.58</td>\n",
              "      <td>6.75</td>\n",
              "      <td>5.23</td>\n",
              "      <td>-0.43</td>\n",
              "      <td>-13.42</td>\n",
              "      <td>...</td>\n",
              "      <td>4.62</td>\n",
              "      <td>8.26</td>\n",
              "      <td>3.20</td>\n",
              "      <td>-5.00</td>\n",
              "      <td>-0.91</td>\n",
              "      <td>13.69</td>\n",
              "      <td>-0.45</td>\n",
              "      <td>-3.42</td>\n",
              "      <td>-2.37</td>\n",
              "      <td>-1.56</td>\n",
              "    </tr>\n",
              "    <tr>\n",
              "      <th>...</th>\n",
              "      <td>...</td>\n",
              "      <td>...</td>\n",
              "      <td>...</td>\n",
              "      <td>...</td>\n",
              "      <td>...</td>\n",
              "      <td>...</td>\n",
              "      <td>...</td>\n",
              "      <td>...</td>\n",
              "      <td>...</td>\n",
              "      <td>...</td>\n",
              "      <td>...</td>\n",
              "      <td>...</td>\n",
              "      <td>...</td>\n",
              "      <td>...</td>\n",
              "      <td>...</td>\n",
              "      <td>...</td>\n",
              "      <td>...</td>\n",
              "      <td>...</td>\n",
              "      <td>...</td>\n",
              "      <td>...</td>\n",
              "      <td>...</td>\n",
              "    </tr>\n",
              "    <tr>\n",
              "      <th>1175</th>\n",
              "      <td>-5.59</td>\n",
              "      <td>-35.09</td>\n",
              "      <td>-2.30</td>\n",
              "      <td>-16.32</td>\n",
              "      <td>23.85</td>\n",
              "      <td>4.58</td>\n",
              "      <td>5.19</td>\n",
              "      <td>-1.42</td>\n",
              "      <td>1.80</td>\n",
              "      <td>16.87</td>\n",
              "      <td>...</td>\n",
              "      <td>-8.65</td>\n",
              "      <td>3.49</td>\n",
              "      <td>-5.90</td>\n",
              "      <td>-4.78</td>\n",
              "      <td>-1.60</td>\n",
              "      <td>4.93</td>\n",
              "      <td>5.74</td>\n",
              "      <td>-0.22</td>\n",
              "      <td>0.19</td>\n",
              "      <td>-2.00</td>\n",
              "    </tr>\n",
              "    <tr>\n",
              "      <th>1176</th>\n",
              "      <td>-17.32</td>\n",
              "      <td>-35.56</td>\n",
              "      <td>-5.04</td>\n",
              "      <td>5.45</td>\n",
              "      <td>-17.91</td>\n",
              "      <td>7.52</td>\n",
              "      <td>7.82</td>\n",
              "      <td>5.11</td>\n",
              "      <td>-3.47</td>\n",
              "      <td>6.53</td>\n",
              "      <td>...</td>\n",
              "      <td>-0.61</td>\n",
              "      <td>2.42</td>\n",
              "      <td>3.15</td>\n",
              "      <td>9.50</td>\n",
              "      <td>-8.76</td>\n",
              "      <td>4.35</td>\n",
              "      <td>-4.28</td>\n",
              "      <td>4.76</td>\n",
              "      <td>-2.97</td>\n",
              "      <td>2.29</td>\n",
              "    </tr>\n",
              "    <tr>\n",
              "      <th>1177</th>\n",
              "      <td>-33.69</td>\n",
              "      <td>-34.91</td>\n",
              "      <td>-6.93</td>\n",
              "      <td>-5.16</td>\n",
              "      <td>-1.07</td>\n",
              "      <td>7.38</td>\n",
              "      <td>13.88</td>\n",
              "      <td>-9.77</td>\n",
              "      <td>-2.26</td>\n",
              "      <td>4.77</td>\n",
              "      <td>...</td>\n",
              "      <td>3.42</td>\n",
              "      <td>-1.40</td>\n",
              "      <td>3.98</td>\n",
              "      <td>-4.33</td>\n",
              "      <td>2.84</td>\n",
              "      <td>-11.63</td>\n",
              "      <td>2.25</td>\n",
              "      <td>-0.76</td>\n",
              "      <td>-2.40</td>\n",
              "      <td>12.53</td>\n",
              "    </tr>\n",
              "    <tr>\n",
              "      <th>1178</th>\n",
              "      <td>-4.56</td>\n",
              "      <td>-31.34</td>\n",
              "      <td>9.00</td>\n",
              "      <td>-3.23</td>\n",
              "      <td>0.79</td>\n",
              "      <td>-13.74</td>\n",
              "      <td>-1.70</td>\n",
              "      <td>-1.62</td>\n",
              "      <td>4.80</td>\n",
              "      <td>9.56</td>\n",
              "      <td>...</td>\n",
              "      <td>-7.68</td>\n",
              "      <td>-5.93</td>\n",
              "      <td>8.31</td>\n",
              "      <td>13.14</td>\n",
              "      <td>-7.48</td>\n",
              "      <td>4.94</td>\n",
              "      <td>1.83</td>\n",
              "      <td>6.35</td>\n",
              "      <td>-9.53</td>\n",
              "      <td>6.10</td>\n",
              "    </tr>\n",
              "    <tr>\n",
              "      <th>1179</th>\n",
              "      <td>-5.38</td>\n",
              "      <td>-26.44</td>\n",
              "      <td>5.53</td>\n",
              "      <td>-4.56</td>\n",
              "      <td>-5.64</td>\n",
              "      <td>0.51</td>\n",
              "      <td>7.79</td>\n",
              "      <td>-15.06</td>\n",
              "      <td>9.25</td>\n",
              "      <td>4.96</td>\n",
              "      <td>...</td>\n",
              "      <td>10.21</td>\n",
              "      <td>-20.30</td>\n",
              "      <td>-4.09</td>\n",
              "      <td>3.20</td>\n",
              "      <td>-4.39</td>\n",
              "      <td>-5.77</td>\n",
              "      <td>7.41</td>\n",
              "      <td>6.81</td>\n",
              "      <td>-10.48</td>\n",
              "      <td>-8.17</td>\n",
              "    </tr>\n",
              "  </tbody>\n",
              "</table>\n",
              "<p>1180 rows × 65 columns</p>\n",
              "</div>"
            ],
            "text/plain": [
              "         0      1      2      3      4      5     6      7      8      9   \\\n",
              "0    -49.90  13.72 -25.54   8.88 -10.41 -13.96 -7.65  -4.58   2.01 -13.81   \n",
              "1    -69.45 -11.32  14.82   7.95   3.33  10.05 15.15  -0.14 -27.09  -6.69   \n",
              "2    -57.10   5.53  -6.42 -21.54   8.10   1.71 -8.46  -5.88  -3.20   5.27   \n",
              "3    -64.96  18.20 -25.47   4.57  -1.63  -9.72 -6.56   3.16  -1.14  -1.96   \n",
              "4    -80.45  10.16  -0.05 -10.98  -5.53  20.58  6.75   5.23  -0.43 -13.42   \n",
              "...     ...    ...    ...    ...    ...    ...   ...    ...    ...    ...   \n",
              "1175  -5.59 -35.09  -2.30 -16.32  23.85   4.58  5.19  -1.42   1.80  16.87   \n",
              "1176 -17.32 -35.56  -5.04   5.45 -17.91   7.52  7.82   5.11  -3.47   6.53   \n",
              "1177 -33.69 -34.91  -6.93  -5.16  -1.07   7.38 13.88  -9.77  -2.26   4.77   \n",
              "1178  -4.56 -31.34   9.00  -3.23   0.79 -13.74 -1.70  -1.62   4.80   9.56   \n",
              "1179  -5.38 -26.44   5.53  -4.56  -5.64   0.51  7.79 -15.06   9.25   4.96   \n",
              "\n",
              "      ...     55     56    57    58    59     60    61    62     63    64  \n",
              "0     ...  -4.74  -3.52  5.21  8.31 -0.48   4.46  4.41 -0.49  -0.50  0.73  \n",
              "1     ...  10.01  -7.62 -6.58 -5.52  8.40  10.01 16.33 12.81  -4.20 -7.72  \n",
              "2     ...  -6.39 -15.32  7.57 -2.77  4.61  13.39 -3.21 -0.71   1.39 -3.90  \n",
              "3     ... -10.70  -9.43 -0.20 10.69 10.59  -3.11 -5.41 -2.88  -2.53 -1.59  \n",
              "4     ...   4.62   8.26  3.20 -5.00 -0.91  13.69 -0.45 -3.42  -2.37 -1.56  \n",
              "...   ...    ...    ...   ...   ...   ...    ...   ...   ...    ...   ...  \n",
              "1175  ...  -8.65   3.49 -5.90 -4.78 -1.60   4.93  5.74 -0.22   0.19 -2.00  \n",
              "1176  ...  -0.61   2.42  3.15  9.50 -8.76   4.35 -4.28  4.76  -2.97  2.29  \n",
              "1177  ...   3.42  -1.40  3.98 -4.33  2.84 -11.63  2.25 -0.76  -2.40 12.53  \n",
              "1178  ...  -7.68  -5.93  8.31 13.14 -7.48   4.94  1.83  6.35  -9.53  6.10  \n",
              "1179  ...  10.21 -20.30 -4.09  3.20 -4.39  -5.77  7.41  6.81 -10.48 -8.17  \n",
              "\n",
              "[1180 rows x 65 columns]"
            ]
          },
          "execution_count": 85,
          "metadata": {},
          "output_type": "execute_result"
        }
      ],
      "source": [
        "features_pca, log = FeatureCalculator().pca(all_features, scale = True, n_comp = 65)\n",
        "\n",
        "log += (\n",
        "    f'\\nChannel features: {channel_features.shape}\\n'\n",
        "    f'Correlation features: {dissim_features.shape}\\n'\n",
        "    f'Overall features: {overall_features.shape}\\n'\n",
        "    f'Total features: {all_features.shape}\\n'\n",
        "    f'PCA features: {features_pca.shape}'\n",
        ")\n",
        "with open(f\"{subj}/{exp}/log.txt\", \"w\") as text_file:\n",
        "    text_file.write(log)\n",
        "\n",
        "pandas.DataFrame(features_pca)"
      ]
    },
    {
      "cell_type": "markdown",
      "metadata": {},
      "source": [
        "#### Save"
      ]
    },
    {
      "cell_type": "code",
      "execution_count": null,
      "metadata": {},
      "outputs": [
        {
          "data": {
            "text/html": [
              "<div>\n",
              "<style scoped>\n",
              "    .dataframe tbody tr th:only-of-type {\n",
              "        vertical-align: middle;\n",
              "    }\n",
              "\n",
              "    .dataframe tbody tr th {\n",
              "        vertical-align: top;\n",
              "    }\n",
              "\n",
              "    .dataframe thead th {\n",
              "        text-align: right;\n",
              "    }\n",
              "</style>\n",
              "<table border=\"1\" class=\"dataframe\">\n",
              "  <thead>\n",
              "    <tr style=\"text-align: right;\">\n",
              "      <th></th>\n",
              "      <th>0</th>\n",
              "      <th>1</th>\n",
              "      <th>2</th>\n",
              "      <th>3</th>\n",
              "      <th>4</th>\n",
              "      <th>5</th>\n",
              "      <th>6</th>\n",
              "      <th>7</th>\n",
              "      <th>8</th>\n",
              "      <th>9</th>\n",
              "      <th>...</th>\n",
              "      <th>55</th>\n",
              "      <th>56</th>\n",
              "      <th>57</th>\n",
              "      <th>58</th>\n",
              "      <th>59</th>\n",
              "      <th>60</th>\n",
              "      <th>61</th>\n",
              "      <th>62</th>\n",
              "      <th>63</th>\n",
              "      <th>64</th>\n",
              "    </tr>\n",
              "  </thead>\n",
              "  <tbody>\n",
              "    <tr>\n",
              "      <th>0</th>\n",
              "      <td>-49.90</td>\n",
              "      <td>13.72</td>\n",
              "      <td>-25.54</td>\n",
              "      <td>8.88</td>\n",
              "      <td>-10.41</td>\n",
              "      <td>-13.96</td>\n",
              "      <td>-7.65</td>\n",
              "      <td>-4.58</td>\n",
              "      <td>2.01</td>\n",
              "      <td>-13.81</td>\n",
              "      <td>...</td>\n",
              "      <td>-4.74</td>\n",
              "      <td>-3.52</td>\n",
              "      <td>5.21</td>\n",
              "      <td>8.31</td>\n",
              "      <td>-0.48</td>\n",
              "      <td>4.46</td>\n",
              "      <td>4.41</td>\n",
              "      <td>-0.49</td>\n",
              "      <td>-0.50</td>\n",
              "      <td>0.73</td>\n",
              "    </tr>\n",
              "    <tr>\n",
              "      <th>1</th>\n",
              "      <td>-69.45</td>\n",
              "      <td>-11.32</td>\n",
              "      <td>14.82</td>\n",
              "      <td>7.95</td>\n",
              "      <td>3.33</td>\n",
              "      <td>10.05</td>\n",
              "      <td>15.15</td>\n",
              "      <td>-0.14</td>\n",
              "      <td>-27.09</td>\n",
              "      <td>-6.69</td>\n",
              "      <td>...</td>\n",
              "      <td>10.01</td>\n",
              "      <td>-7.62</td>\n",
              "      <td>-6.58</td>\n",
              "      <td>-5.52</td>\n",
              "      <td>8.40</td>\n",
              "      <td>10.01</td>\n",
              "      <td>16.33</td>\n",
              "      <td>12.81</td>\n",
              "      <td>-4.20</td>\n",
              "      <td>-7.72</td>\n",
              "    </tr>\n",
              "    <tr>\n",
              "      <th>2</th>\n",
              "      <td>-57.10</td>\n",
              "      <td>5.53</td>\n",
              "      <td>-6.42</td>\n",
              "      <td>-21.54</td>\n",
              "      <td>8.10</td>\n",
              "      <td>1.71</td>\n",
              "      <td>-8.46</td>\n",
              "      <td>-5.88</td>\n",
              "      <td>-3.20</td>\n",
              "      <td>5.27</td>\n",
              "      <td>...</td>\n",
              "      <td>-6.39</td>\n",
              "      <td>-15.32</td>\n",
              "      <td>7.57</td>\n",
              "      <td>-2.77</td>\n",
              "      <td>4.61</td>\n",
              "      <td>13.39</td>\n",
              "      <td>-3.21</td>\n",
              "      <td>-0.71</td>\n",
              "      <td>1.39</td>\n",
              "      <td>-3.90</td>\n",
              "    </tr>\n",
              "    <tr>\n",
              "      <th>3</th>\n",
              "      <td>-64.96</td>\n",
              "      <td>18.20</td>\n",
              "      <td>-25.47</td>\n",
              "      <td>4.57</td>\n",
              "      <td>-1.63</td>\n",
              "      <td>-9.72</td>\n",
              "      <td>-6.56</td>\n",
              "      <td>3.16</td>\n",
              "      <td>-1.14</td>\n",
              "      <td>-1.96</td>\n",
              "      <td>...</td>\n",
              "      <td>-10.70</td>\n",
              "      <td>-9.43</td>\n",
              "      <td>-0.20</td>\n",
              "      <td>10.69</td>\n",
              "      <td>10.59</td>\n",
              "      <td>-3.11</td>\n",
              "      <td>-5.41</td>\n",
              "      <td>-2.88</td>\n",
              "      <td>-2.53</td>\n",
              "      <td>-1.59</td>\n",
              "    </tr>\n",
              "    <tr>\n",
              "      <th>4</th>\n",
              "      <td>-80.45</td>\n",
              "      <td>10.16</td>\n",
              "      <td>-0.05</td>\n",
              "      <td>-10.98</td>\n",
              "      <td>-5.53</td>\n",
              "      <td>20.58</td>\n",
              "      <td>6.75</td>\n",
              "      <td>5.23</td>\n",
              "      <td>-0.43</td>\n",
              "      <td>-13.42</td>\n",
              "      <td>...</td>\n",
              "      <td>4.62</td>\n",
              "      <td>8.26</td>\n",
              "      <td>3.20</td>\n",
              "      <td>-5.00</td>\n",
              "      <td>-0.91</td>\n",
              "      <td>13.69</td>\n",
              "      <td>-0.45</td>\n",
              "      <td>-3.42</td>\n",
              "      <td>-2.37</td>\n",
              "      <td>-1.56</td>\n",
              "    </tr>\n",
              "    <tr>\n",
              "      <th>...</th>\n",
              "      <td>...</td>\n",
              "      <td>...</td>\n",
              "      <td>...</td>\n",
              "      <td>...</td>\n",
              "      <td>...</td>\n",
              "      <td>...</td>\n",
              "      <td>...</td>\n",
              "      <td>...</td>\n",
              "      <td>...</td>\n",
              "      <td>...</td>\n",
              "      <td>...</td>\n",
              "      <td>...</td>\n",
              "      <td>...</td>\n",
              "      <td>...</td>\n",
              "      <td>...</td>\n",
              "      <td>...</td>\n",
              "      <td>...</td>\n",
              "      <td>...</td>\n",
              "      <td>...</td>\n",
              "      <td>...</td>\n",
              "      <td>...</td>\n",
              "    </tr>\n",
              "    <tr>\n",
              "      <th>1175</th>\n",
              "      <td>-5.59</td>\n",
              "      <td>-35.09</td>\n",
              "      <td>-2.30</td>\n",
              "      <td>-16.32</td>\n",
              "      <td>23.85</td>\n",
              "      <td>4.58</td>\n",
              "      <td>5.19</td>\n",
              "      <td>-1.42</td>\n",
              "      <td>1.80</td>\n",
              "      <td>16.87</td>\n",
              "      <td>...</td>\n",
              "      <td>-8.65</td>\n",
              "      <td>3.49</td>\n",
              "      <td>-5.90</td>\n",
              "      <td>-4.78</td>\n",
              "      <td>-1.60</td>\n",
              "      <td>4.93</td>\n",
              "      <td>5.74</td>\n",
              "      <td>-0.22</td>\n",
              "      <td>0.19</td>\n",
              "      <td>-2.00</td>\n",
              "    </tr>\n",
              "    <tr>\n",
              "      <th>1176</th>\n",
              "      <td>-17.32</td>\n",
              "      <td>-35.56</td>\n",
              "      <td>-5.04</td>\n",
              "      <td>5.45</td>\n",
              "      <td>-17.91</td>\n",
              "      <td>7.52</td>\n",
              "      <td>7.82</td>\n",
              "      <td>5.11</td>\n",
              "      <td>-3.47</td>\n",
              "      <td>6.53</td>\n",
              "      <td>...</td>\n",
              "      <td>-0.61</td>\n",
              "      <td>2.42</td>\n",
              "      <td>3.15</td>\n",
              "      <td>9.50</td>\n",
              "      <td>-8.76</td>\n",
              "      <td>4.35</td>\n",
              "      <td>-4.28</td>\n",
              "      <td>4.76</td>\n",
              "      <td>-2.97</td>\n",
              "      <td>2.29</td>\n",
              "    </tr>\n",
              "    <tr>\n",
              "      <th>1177</th>\n",
              "      <td>-33.69</td>\n",
              "      <td>-34.91</td>\n",
              "      <td>-6.93</td>\n",
              "      <td>-5.16</td>\n",
              "      <td>-1.07</td>\n",
              "      <td>7.38</td>\n",
              "      <td>13.88</td>\n",
              "      <td>-9.77</td>\n",
              "      <td>-2.26</td>\n",
              "      <td>4.77</td>\n",
              "      <td>...</td>\n",
              "      <td>3.42</td>\n",
              "      <td>-1.40</td>\n",
              "      <td>3.98</td>\n",
              "      <td>-4.33</td>\n",
              "      <td>2.84</td>\n",
              "      <td>-11.63</td>\n",
              "      <td>2.25</td>\n",
              "      <td>-0.76</td>\n",
              "      <td>-2.40</td>\n",
              "      <td>12.53</td>\n",
              "    </tr>\n",
              "    <tr>\n",
              "      <th>1178</th>\n",
              "      <td>-4.56</td>\n",
              "      <td>-31.34</td>\n",
              "      <td>9.00</td>\n",
              "      <td>-3.23</td>\n",
              "      <td>0.79</td>\n",
              "      <td>-13.74</td>\n",
              "      <td>-1.70</td>\n",
              "      <td>-1.62</td>\n",
              "      <td>4.80</td>\n",
              "      <td>9.56</td>\n",
              "      <td>...</td>\n",
              "      <td>-7.68</td>\n",
              "      <td>-5.93</td>\n",
              "      <td>8.31</td>\n",
              "      <td>13.14</td>\n",
              "      <td>-7.48</td>\n",
              "      <td>4.94</td>\n",
              "      <td>1.83</td>\n",
              "      <td>6.35</td>\n",
              "      <td>-9.53</td>\n",
              "      <td>6.10</td>\n",
              "    </tr>\n",
              "    <tr>\n",
              "      <th>1179</th>\n",
              "      <td>-5.38</td>\n",
              "      <td>-26.44</td>\n",
              "      <td>5.53</td>\n",
              "      <td>-4.56</td>\n",
              "      <td>-5.64</td>\n",
              "      <td>0.51</td>\n",
              "      <td>7.79</td>\n",
              "      <td>-15.06</td>\n",
              "      <td>9.25</td>\n",
              "      <td>4.96</td>\n",
              "      <td>...</td>\n",
              "      <td>10.21</td>\n",
              "      <td>-20.30</td>\n",
              "      <td>-4.09</td>\n",
              "      <td>3.20</td>\n",
              "      <td>-4.39</td>\n",
              "      <td>-5.77</td>\n",
              "      <td>7.41</td>\n",
              "      <td>6.81</td>\n",
              "      <td>-10.48</td>\n",
              "      <td>-8.17</td>\n",
              "    </tr>\n",
              "  </tbody>\n",
              "</table>\n",
              "<p>1180 rows × 65 columns</p>\n",
              "</div>"
            ],
            "text/plain": [
              "         0      1      2      3      4      5     6      7      8      9   \\\n",
              "0    -49.90  13.72 -25.54   8.88 -10.41 -13.96 -7.65  -4.58   2.01 -13.81   \n",
              "1    -69.45 -11.32  14.82   7.95   3.33  10.05 15.15  -0.14 -27.09  -6.69   \n",
              "2    -57.10   5.53  -6.42 -21.54   8.10   1.71 -8.46  -5.88  -3.20   5.27   \n",
              "3    -64.96  18.20 -25.47   4.57  -1.63  -9.72 -6.56   3.16  -1.14  -1.96   \n",
              "4    -80.45  10.16  -0.05 -10.98  -5.53  20.58  6.75   5.23  -0.43 -13.42   \n",
              "...     ...    ...    ...    ...    ...    ...   ...    ...    ...    ...   \n",
              "1175  -5.59 -35.09  -2.30 -16.32  23.85   4.58  5.19  -1.42   1.80  16.87   \n",
              "1176 -17.32 -35.56  -5.04   5.45 -17.91   7.52  7.82   5.11  -3.47   6.53   \n",
              "1177 -33.69 -34.91  -6.93  -5.16  -1.07   7.38 13.88  -9.77  -2.26   4.77   \n",
              "1178  -4.56 -31.34   9.00  -3.23   0.79 -13.74 -1.70  -1.62   4.80   9.56   \n",
              "1179  -5.38 -26.44   5.53  -4.56  -5.64   0.51  7.79 -15.06   9.25   4.96   \n",
              "\n",
              "      ...     55     56    57    58    59     60    61    62     63    64  \n",
              "0     ...  -4.74  -3.52  5.21  8.31 -0.48   4.46  4.41 -0.49  -0.50  0.73  \n",
              "1     ...  10.01  -7.62 -6.58 -5.52  8.40  10.01 16.33 12.81  -4.20 -7.72  \n",
              "2     ...  -6.39 -15.32  7.57 -2.77  4.61  13.39 -3.21 -0.71   1.39 -3.90  \n",
              "3     ... -10.70  -9.43 -0.20 10.69 10.59  -3.11 -5.41 -2.88  -2.53 -1.59  \n",
              "4     ...   4.62   8.26  3.20 -5.00 -0.91  13.69 -0.45 -3.42  -2.37 -1.56  \n",
              "...   ...    ...    ...   ...   ...   ...    ...   ...   ...    ...   ...  \n",
              "1175  ...  -8.65   3.49 -5.90 -4.78 -1.60   4.93  5.74 -0.22   0.19 -2.00  \n",
              "1176  ...  -0.61   2.42  3.15  9.50 -8.76   4.35 -4.28  4.76  -2.97  2.29  \n",
              "1177  ...   3.42  -1.40  3.98 -4.33  2.84 -11.63  2.25 -0.76  -2.40 12.53  \n",
              "1178  ...  -7.68  -5.93  8.31 13.14 -7.48   4.94  1.83  6.35  -9.53  6.10  \n",
              "1179  ...  10.21 -20.30 -4.09  3.20 -4.39  -5.77  7.41  6.81 -10.48 -8.17  \n",
              "\n",
              "[1180 rows x 65 columns]"
            ]
          },
          "execution_count": 74,
          "metadata": {},
          "output_type": "execute_result"
        }
      ],
      "source": [
        "final_features = pandas.DataFrame(features_pca)\n",
        "final_features.to_feather(f\"{subj}/{exp}/features.feather\")\n",
        "final_features"
      ]
    }
  ],
  "metadata": {
    "colab": {
      "provenance": []
    },
    "kernelspec": {
      "display_name": "Python 3",
      "name": "python3"
    },
    "language_info": {
      "codemirror_mode": {
        "name": "ipython",
        "version": 3
      },
      "file_extension": ".py",
      "mimetype": "text/x-python",
      "name": "python",
      "nbconvert_exporter": "python",
      "pygments_lexer": "ipython3",
      "version": "3.10.11"
    }
  },
  "nbformat": 4,
  "nbformat_minor": 0
}
