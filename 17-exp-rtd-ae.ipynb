{
 "cells": [
  {
   "cell_type": "code",
   "execution_count": 12,
   "metadata": {},
   "outputs": [],
   "source": [
    "import os\n",
    "\n",
    "subj = \"Subj1\"\n",
    "exp = \"exp_rtd_ae\"\n",
    "os.makedirs(f\"{subj}/{exp}\", exist_ok = True)"
   ]
  },
  {
   "cell_type": "code",
   "execution_count": 22,
   "metadata": {},
   "outputs": [],
   "source": [
    "import SDA\n",
    "import SDA.analytics\n",
    "import SDA.clustquality\n",
    "\n",
    "import numpy\n",
    "import pandas\n",
    "import sklearn.preprocessing\n",
    "import matplotlib.pyplot as plt"
   ]
  },
  {
   "cell_type": "code",
   "execution_count": 14,
   "metadata": {},
   "outputs": [
    {
     "name": "stdout",
     "output_type": "stream",
     "text": [
      "(1046, 3799)\n"
     ]
    }
   ],
   "source": [
    "edges_true = numpy.loadtxt(f\"{subj}/reproduction/internal/best_edges.txt\").astype(numpy.int32)\n",
    "features = pandas.read_feather(f'{subj}/exp_final_filtered/all_features.feather')\n",
    "print(features.shape)"
   ]
  },
  {
   "cell_type": "code",
   "execution_count": 15,
   "metadata": {},
   "outputs": [],
   "source": [
    "features = sklearn.preprocessing.StandardScaler().fit_transform(features)\n",
    "numpy.save(f'{subj}/{exp}/full_data.npy', features)"
   ]
  },
  {
   "cell_type": "code",
   "execution_count": null,
   "metadata": {},
   "outputs": [],
   "source": [
    "# python3.9 rtd_ae.py Subj1 exp_rtd_ae 8\n",
    "# python3.9 rtd_ae.py Subj1 exp_rtd_ae 16\n",
    "# python3.9 rtd_ae.py Subj1 exp_rtd_ae 32\n",
    "# python3.9 rtd_ae.py Subj1 exp_rtd_ae 48\n",
    "# python3.9 rtd_ae.py Subj1 exp_rtd_ae 64"
   ]
  },
  {
   "cell_type": "code",
   "execution_count": 41,
   "metadata": {},
   "outputs": [
    {
     "name": "stdout",
     "output_type": "stream",
     "text": [
      "Applying to 1046 samples with 8 features each\n",
      "Running stage 1\n"
     ]
    },
    {
     "data": {
      "application/vnd.jupyter.widget-view+json": {
       "model_id": "af960140b9e04871b8f321c0395a1a6d",
       "version_major": 2,
       "version_minor": 0
      },
      "text/plain": [
       "  0%|          | 0/589 [00:00<?, ?it/s]"
      ]
     },
     "metadata": {},
     "output_type": "display_data"
    },
    {
     "name": "stdout",
     "output_type": "stream",
     "text": [
      "Running stage 2\n"
     ]
    },
    {
     "data": {
      "application/vnd.jupyter.widget-view+json": {
       "model_id": "0e16eba600bb4dbaab95981007ec7927",
       "version_major": 2,
       "version_minor": 0
      },
      "text/plain": [
       "  0%|          | 0/672 [00:00<?, ?it/s]"
      ]
     },
     "metadata": {},
     "output_type": "display_data"
    },
    {
     "name": "stdout",
     "output_type": "stream",
     "text": [
      "Applying to 1046 samples with 16 features each\n",
      "Running stage 1\n"
     ]
    },
    {
     "data": {
      "application/vnd.jupyter.widget-view+json": {
       "model_id": "bccd8ea03a1b4f8c97cbafce072e72ea",
       "version_major": 2,
       "version_minor": 0
      },
      "text/plain": [
       "  0%|          | 0/589 [00:00<?, ?it/s]"
      ]
     },
     "metadata": {},
     "output_type": "display_data"
    },
    {
     "name": "stdout",
     "output_type": "stream",
     "text": [
      "Running stage 2\n"
     ]
    },
    {
     "data": {
      "application/vnd.jupyter.widget-view+json": {
       "model_id": "1f0f86efbc3b4e7f949bf3b59559aa83",
       "version_major": 2,
       "version_minor": 0
      },
      "text/plain": [
       "  0%|          | 0/672 [00:00<?, ?it/s]"
      ]
     },
     "metadata": {},
     "output_type": "display_data"
    },
    {
     "name": "stdout",
     "output_type": "stream",
     "text": [
      "Applying to 1046 samples with 32 features each\n",
      "Running stage 1\n"
     ]
    },
    {
     "data": {
      "application/vnd.jupyter.widget-view+json": {
       "model_id": "eafe158e2bd04db99a83d7cda0984b8f",
       "version_major": 2,
       "version_minor": 0
      },
      "text/plain": [
       "  0%|          | 0/589 [00:00<?, ?it/s]"
      ]
     },
     "metadata": {},
     "output_type": "display_data"
    },
    {
     "name": "stdout",
     "output_type": "stream",
     "text": [
      "Running stage 2\n"
     ]
    },
    {
     "data": {
      "application/vnd.jupyter.widget-view+json": {
       "model_id": "584fee1bb6a34eb48c8c8d8ae0a418e0",
       "version_major": 2,
       "version_minor": 0
      },
      "text/plain": [
       "  0%|          | 0/672 [00:00<?, ?it/s]"
      ]
     },
     "metadata": {},
     "output_type": "display_data"
    },
    {
     "name": "stdout",
     "output_type": "stream",
     "text": [
      "Applying to 1046 samples with 48 features each\n",
      "Running stage 1\n"
     ]
    },
    {
     "data": {
      "application/vnd.jupyter.widget-view+json": {
       "model_id": "af9f2050ba224f25a8d36901d9ac1f8d",
       "version_major": 2,
       "version_minor": 0
      },
      "text/plain": [
       "  0%|          | 0/589 [00:00<?, ?it/s]"
      ]
     },
     "metadata": {},
     "output_type": "display_data"
    },
    {
     "name": "stdout",
     "output_type": "stream",
     "text": [
      "Running stage 2\n"
     ]
    },
    {
     "data": {
      "application/vnd.jupyter.widget-view+json": {
       "model_id": "4d4a3ba38e0d4c3aab831ef3b2d05212",
       "version_major": 2,
       "version_minor": 0
      },
      "text/plain": [
       "  0%|          | 0/672 [00:00<?, ?it/s]"
      ]
     },
     "metadata": {},
     "output_type": "display_data"
    },
    {
     "name": "stdout",
     "output_type": "stream",
     "text": [
      "Applying to 1046 samples with 64 features each\n",
      "Running stage 1\n"
     ]
    },
    {
     "data": {
      "application/vnd.jupyter.widget-view+json": {
       "model_id": "9af66e36acfd47799b3d49c16ce8852f",
       "version_major": 2,
       "version_minor": 0
      },
      "text/plain": [
       "  0%|          | 0/589 [00:00<?, ?it/s]"
      ]
     },
     "metadata": {},
     "output_type": "display_data"
    },
    {
     "name": "stdout",
     "output_type": "stream",
     "text": [
      "Running stage 2\n"
     ]
    },
    {
     "data": {
      "application/vnd.jupyter.widget-view+json": {
       "model_id": "40c839344635487694890a9a118e9cb9",
       "version_major": 2,
       "version_minor": 0
      },
      "text/plain": [
       "  0%|          | 0/672 [00:00<?, ?it/s]"
      ]
     },
     "metadata": {},
     "output_type": "display_data"
    },
    {
     "data": {
      "text/html": [
       "<div>\n",
       "<style scoped>\n",
       "    .dataframe tbody tr th:only-of-type {\n",
       "        vertical-align: middle;\n",
       "    }\n",
       "\n",
       "    .dataframe tbody tr th {\n",
       "        vertical-align: top;\n",
       "    }\n",
       "\n",
       "    .dataframe thead th {\n",
       "        text-align: right;\n",
       "    }\n",
       "</style>\n",
       "<table border=\"1\" class=\"dataframe\">\n",
       "  <thead>\n",
       "    <tr style=\"text-align: right;\">\n",
       "      <th></th>\n",
       "      <th>N_Dim</th>\n",
       "      <th>Key</th>\n",
       "      <th>Ward_dist</th>\n",
       "      <th>Cen_dist</th>\n",
       "      <th>Avg-Silh</th>\n",
       "      <th>Avg-Cal-Har</th>\n",
       "      <th>Avg-Dav-Bold</th>\n",
       "      <th>AMI</th>\n",
       "      <th>ARI</th>\n",
       "      <th>FMI</th>\n",
       "    </tr>\n",
       "  </thead>\n",
       "  <tbody>\n",
       "    <tr>\n",
       "      <th>0</th>\n",
       "      <td>8</td>\n",
       "      <td>Avg-Silh</td>\n",
       "      <td>7.428167</td>\n",
       "      <td>0.336179</td>\n",
       "      <td>0.148517</td>\n",
       "      <td>51.725930</td>\n",
       "      <td>2.312608</td>\n",
       "      <td>0.805238</td>\n",
       "      <td>0.623603</td>\n",
       "      <td>0.675934</td>\n",
       "    </tr>\n",
       "    <tr>\n",
       "      <th>1</th>\n",
       "      <td>8</td>\n",
       "      <td>FMI</td>\n",
       "      <td>7.365513</td>\n",
       "      <td>0.337285</td>\n",
       "      <td>0.136032</td>\n",
       "      <td>51.208639</td>\n",
       "      <td>2.290803</td>\n",
       "      <td>0.847208</td>\n",
       "      <td>0.736136</td>\n",
       "      <td>0.773407</td>\n",
       "    </tr>\n",
       "    <tr>\n",
       "      <th>2</th>\n",
       "      <td>16</td>\n",
       "      <td>Avg-Silh</td>\n",
       "      <td>4.455465</td>\n",
       "      <td>0.272492</td>\n",
       "      <td>0.125673</td>\n",
       "      <td>38.240277</td>\n",
       "      <td>2.755885</td>\n",
       "      <td>0.821180</td>\n",
       "      <td>0.633637</td>\n",
       "      <td>0.684543</td>\n",
       "    </tr>\n",
       "    <tr>\n",
       "      <th>3</th>\n",
       "      <td>16</td>\n",
       "      <td>FMI</td>\n",
       "      <td>4.253406</td>\n",
       "      <td>0.255763</td>\n",
       "      <td>0.102528</td>\n",
       "      <td>34.529729</td>\n",
       "      <td>2.826028</td>\n",
       "      <td>0.838892</td>\n",
       "      <td>0.697849</td>\n",
       "      <td>0.740587</td>\n",
       "    </tr>\n",
       "    <tr>\n",
       "      <th>4</th>\n",
       "      <td>32</td>\n",
       "      <td>Avg-Silh</td>\n",
       "      <td>3.817590</td>\n",
       "      <td>0.255532</td>\n",
       "      <td>0.138503</td>\n",
       "      <td>38.809205</td>\n",
       "      <td>2.795165</td>\n",
       "      <td>0.808651</td>\n",
       "      <td>0.632737</td>\n",
       "      <td>0.684031</td>\n",
       "    </tr>\n",
       "    <tr>\n",
       "      <th>5</th>\n",
       "      <td>32</td>\n",
       "      <td>FMI</td>\n",
       "      <td>3.432479</td>\n",
       "      <td>0.230648</td>\n",
       "      <td>0.091265</td>\n",
       "      <td>33.847995</td>\n",
       "      <td>2.970654</td>\n",
       "      <td>0.860972</td>\n",
       "      <td>0.782709</td>\n",
       "      <td>0.813498</td>\n",
       "    </tr>\n",
       "    <tr>\n",
       "      <th>6</th>\n",
       "      <td>48</td>\n",
       "      <td>Avg-Silh</td>\n",
       "      <td>2.480144</td>\n",
       "      <td>0.210619</td>\n",
       "      <td>0.097322</td>\n",
       "      <td>23.411023</td>\n",
       "      <td>3.214711</td>\n",
       "      <td>0.799590</td>\n",
       "      <td>0.611164</td>\n",
       "      <td>0.665161</td>\n",
       "    </tr>\n",
       "    <tr>\n",
       "      <th>7</th>\n",
       "      <td>48</td>\n",
       "      <td>FMI</td>\n",
       "      <td>2.593634</td>\n",
       "      <td>0.205062</td>\n",
       "      <td>0.078626</td>\n",
       "      <td>24.711507</td>\n",
       "      <td>3.221692</td>\n",
       "      <td>0.855945</td>\n",
       "      <td>0.722690</td>\n",
       "      <td>0.761841</td>\n",
       "    </tr>\n",
       "    <tr>\n",
       "      <th>8</th>\n",
       "      <td>64</td>\n",
       "      <td>Avg-Silh</td>\n",
       "      <td>3.103958</td>\n",
       "      <td>0.231839</td>\n",
       "      <td>0.117122</td>\n",
       "      <td>31.350112</td>\n",
       "      <td>2.985244</td>\n",
       "      <td>0.799822</td>\n",
       "      <td>0.609208</td>\n",
       "      <td>0.663296</td>\n",
       "    </tr>\n",
       "    <tr>\n",
       "      <th>9</th>\n",
       "      <td>64</td>\n",
       "      <td>FMI</td>\n",
       "      <td>2.830534</td>\n",
       "      <td>0.210869</td>\n",
       "      <td>0.081749</td>\n",
       "      <td>27.644067</td>\n",
       "      <td>3.141166</td>\n",
       "      <td>0.837469</td>\n",
       "      <td>0.723467</td>\n",
       "      <td>0.762450</td>\n",
       "    </tr>\n",
       "  </tbody>\n",
       "</table>\n",
       "</div>"
      ],
      "text/plain": [
       "  N_Dim       Key  Ward_dist  Cen_dist  Avg-Silh  Avg-Cal-Har  Avg-Dav-Bold  \\\n",
       "0     8  Avg-Silh   7.428167  0.336179  0.148517    51.725930      2.312608   \n",
       "1     8       FMI   7.365513  0.337285  0.136032    51.208639      2.290803   \n",
       "2    16  Avg-Silh   4.455465  0.272492  0.125673    38.240277      2.755885   \n",
       "3    16       FMI   4.253406  0.255763  0.102528    34.529729      2.826028   \n",
       "4    32  Avg-Silh   3.817590  0.255532  0.138503    38.809205      2.795165   \n",
       "5    32       FMI   3.432479  0.230648  0.091265    33.847995      2.970654   \n",
       "6    48  Avg-Silh   2.480144  0.210619  0.097322    23.411023      3.214711   \n",
       "7    48       FMI   2.593634  0.205062  0.078626    24.711507      3.221692   \n",
       "8    64  Avg-Silh   3.103958  0.231839  0.117122    31.350112      2.985244   \n",
       "9    64       FMI   2.830534  0.210869  0.081749    27.644067      3.141166   \n",
       "\n",
       "        AMI       ARI       FMI  \n",
       "0  0.805238  0.623603  0.675934  \n",
       "1  0.847208  0.736136  0.773407  \n",
       "2  0.821180  0.633637  0.684543  \n",
       "3  0.838892  0.697849  0.740587  \n",
       "4  0.808651  0.632737  0.684031  \n",
       "5  0.860972  0.782709  0.813498  \n",
       "6  0.799590  0.611164  0.665161  \n",
       "7  0.855945  0.722690  0.761841  \n",
       "8  0.799822  0.609208  0.663296  \n",
       "9  0.837469  0.723467  0.762450  "
      ]
     },
     "metadata": {},
     "output_type": "display_data"
    }
   ],
   "source": [
    "rtd_stats = [ ]\n",
    "for n_dim in [ 8, 16, 32, 48, 64 ]:\n",
    "    features_reduced = numpy.load(f'{subj}/{exp}/{n_dim}.npy')\n",
    "    result, df_st_edges = SDA.SDA(scale = False).apply(features_reduced)\n",
    "\n",
    "    metrics = [ ]\n",
    "    for row in result['St_edges']:\n",
    "        metrics.append(SDA.clustquality.cluster_metrics_ground(edges_true, row))\n",
    "    result = pandas.concat([ result, pandas.DataFrame(metrics) ], axis = 1)\n",
    "    \n",
    "    best_result = SDA.analytics.best_result(result, key = 'Avg-Silh', n_stages = 9)\n",
    "    best_result[\"N_Dim\"] = str(n_dim)\n",
    "    best_result[\"Key\"] = 'Avg-Silh'\n",
    "    rtd_stats.append(best_result)\n",
    "    \n",
    "    best_result = SDA.analytics.best_result(result, key = 'FMI', n_stages = 9)\n",
    "    best_result[\"N_Dim\"] = str(n_dim)\n",
    "    best_result[\"Key\"] = 'FMI'\n",
    "    rtd_stats.append(best_result)\n",
    "\n",
    "rtd_stats = pandas.DataFrame(rtd_stats)[[\"N_Dim\", \"Key\", \"Ward_dist\", \"Cen_dist\", \"Avg-Silh\", \"Avg-Cal-Har\", \"Avg-Dav-Bold\", \"AMI\", \"ARI\", \"FMI\"]]\n",
    "rtd_stats.to_csv(f\"{subj}/{exp}/rtd_stats.csv\")\n",
    "display(rtd_stats)"
   ]
  },
  {
   "cell_type": "code",
   "execution_count": 42,
   "metadata": {},
   "outputs": [
    {
     "data": {
      "text/plain": [
       "<matplotlib.legend.Legend at 0x2190a376980>"
      ]
     },
     "execution_count": 42,
     "metadata": {},
     "output_type": "execute_result"
    },
    {
     "data": {
      "image/png": "[encoded data removed]",
      "text/plain": [
       "<Figure size 1000x300 with 1 Axes>"
      ]
     },
     "metadata": {},
     "output_type": "display_data"
    }
   ],
   "source": [
    "def get_xy(stats):\n",
    "    stats = stats[stats[\"Key\"] == \"Avg-Silh\"]\n",
    "    return stats[\"N_Dim\"], stats[\"Avg-Silh\"]\n",
    "\n",
    "pca_stats = pandas.read_csv(f'{subj}/exp_final_filtered/pca_stats.csv')\n",
    "umap_stats = pandas.read_csv(f'{subj}/exp_final_filtered/umap_stats.csv')\n",
    "ae_stats = pandas.read_csv(f'{subj}/exp_final_filtered/ae_stats.csv')\n",
    "rtd_stats = pandas.read_csv(f'{subj}/{exp}/rtd_stats.csv')\n",
    "\n",
    "plt.rcParams[\"figure.figsize\"] = (10, 3)\n",
    "plt.plot(*get_xy(umap_stats), label = 'UMAP')\n",
    "plt.plot(*get_xy(pca_stats), label = 'PCA')\n",
    "plt.plot(*get_xy(ae_stats), label = 'AE')\n",
    "plt.plot(*get_xy(rtd_stats), label = 'RTD_AE')\n",
    "plt.ylabel(\"Avg-Silh\")\n",
    "plt.xlabel(\"N_Dim\")\n",
    "plt.legend()"
   ]
  }
 ],
 "metadata": {
  "kernelspec": {
   "display_name": "Python 3",
   "language": "python",
   "name": "python3"
  },
  "language_info": {
   "codemirror_mode": {
    "name": "ipython",
    "version": 3
   },
   "file_extension": ".py",
   "mimetype": "text/x-python",
   "name": "python",
   "nbconvert_exporter": "python",
   "pygments_lexer": "ipython3",
   "version": "3.10.11"
  }
 },
 "nbformat": 4,
 "nbformat_minor": 2
}
